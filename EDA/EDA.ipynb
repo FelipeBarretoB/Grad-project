{
 "cells": [
  {
   "cell_type": "markdown",
   "source": [
    "# EDA\n",
    "### en este archivo se realiza el analisis exploratorio de los datasets"
   ],
   "metadata": {
    "collapsed": false
   },
   "id": "cfe8d4b2aaeb4be7"
  },
  {
   "cell_type": "code",
   "outputs": [],
   "source": [
    "# importamos las librerias necesarias\n",
    "import pandas as pd\n",
    "import matplotlib.pyplot as plt\n",
    "from sklearn.preprocessing import LabelEncoder"
   ],
   "metadata": {
    "collapsed": true,
    "ExecuteTime": {
     "end_time": "2024-03-06T00:04:48.345233Z",
     "start_time": "2024-03-06T00:04:31.826246Z"
    }
   },
   "id": "initial_id",
   "execution_count": 1
  },
  {
   "cell_type": "markdown",
   "source": [
    "## EDA de Internet firewall data"
   ],
   "metadata": {
    "collapsed": false
   },
   "id": "7451505a8013f559"
  },
  {
   "cell_type": "code",
   "outputs": [],
   "source": [
    "ifd = pd.read_csv('DataSets/Internet_Firewall_Data.csv')"
   ],
   "metadata": {
    "collapsed": false,
    "ExecuteTime": {
     "end_time": "2024-03-06T01:08:25.056002Z",
     "start_time": "2024-03-06T01:08:24.998988Z"
    }
   },
   "id": "85c5a77c937f9f03",
   "execution_count": 177
  },
  {
   "cell_type": "code",
   "outputs": [
    {
     "data": {
      "text/plain": "   Source Port  Destination Port  NAT Source Port  NAT Destination Port  \\\n0        57222                53            54587                    53   \n1        56258              3389            56258                  3389   \n2         6881             50321            43265                 50321   \n3        50553              3389            50553                  3389   \n4        50002               443            45848                   443   \n\n  Action  Bytes  Bytes Sent  Bytes Received  Packets  Elapsed Time (sec)  \\\n0  allow    177          94              83        2                  30   \n1  allow   4768        1600            3168       19                  17   \n2  allow    238         118             120        2                1199   \n3  allow   3327        1438            1889       15                  17   \n4  allow  25358        6778           18580       31                  16   \n\n   pkts_sent  pkts_received  \n0          1              1  \n1         10              9  \n2          1              1  \n3          8              7  \n4         13             18  ",
      "text/html": "<div>\n<style scoped>\n    .dataframe tbody tr th:only-of-type {\n        vertical-align: middle;\n    }\n\n    .dataframe tbody tr th {\n        vertical-align: top;\n    }\n\n    .dataframe thead th {\n        text-align: right;\n    }\n</style>\n<table border=\"1\" class=\"dataframe\">\n  <thead>\n    <tr style=\"text-align: right;\">\n      <th></th>\n      <th>Source Port</th>\n      <th>Destination Port</th>\n      <th>NAT Source Port</th>\n      <th>NAT Destination Port</th>\n      <th>Action</th>\n      <th>Bytes</th>\n      <th>Bytes Sent</th>\n      <th>Bytes Received</th>\n      <th>Packets</th>\n      <th>Elapsed Time (sec)</th>\n      <th>pkts_sent</th>\n      <th>pkts_received</th>\n    </tr>\n  </thead>\n  <tbody>\n    <tr>\n      <th>0</th>\n      <td>57222</td>\n      <td>53</td>\n      <td>54587</td>\n      <td>53</td>\n      <td>allow</td>\n      <td>177</td>\n      <td>94</td>\n      <td>83</td>\n      <td>2</td>\n      <td>30</td>\n      <td>1</td>\n      <td>1</td>\n    </tr>\n    <tr>\n      <th>1</th>\n      <td>56258</td>\n      <td>3389</td>\n      <td>56258</td>\n      <td>3389</td>\n      <td>allow</td>\n      <td>4768</td>\n      <td>1600</td>\n      <td>3168</td>\n      <td>19</td>\n      <td>17</td>\n      <td>10</td>\n      <td>9</td>\n    </tr>\n    <tr>\n      <th>2</th>\n      <td>6881</td>\n      <td>50321</td>\n      <td>43265</td>\n      <td>50321</td>\n      <td>allow</td>\n      <td>238</td>\n      <td>118</td>\n      <td>120</td>\n      <td>2</td>\n      <td>1199</td>\n      <td>1</td>\n      <td>1</td>\n    </tr>\n    <tr>\n      <th>3</th>\n      <td>50553</td>\n      <td>3389</td>\n      <td>50553</td>\n      <td>3389</td>\n      <td>allow</td>\n      <td>3327</td>\n      <td>1438</td>\n      <td>1889</td>\n      <td>15</td>\n      <td>17</td>\n      <td>8</td>\n      <td>7</td>\n    </tr>\n    <tr>\n      <th>4</th>\n      <td>50002</td>\n      <td>443</td>\n      <td>45848</td>\n      <td>443</td>\n      <td>allow</td>\n      <td>25358</td>\n      <td>6778</td>\n      <td>18580</td>\n      <td>31</td>\n      <td>16</td>\n      <td>13</td>\n      <td>18</td>\n    </tr>\n  </tbody>\n</table>\n</div>"
     },
     "execution_count": 3,
     "metadata": {},
     "output_type": "execute_result"
    }
   ],
   "source": [
    "ifd.head()"
   ],
   "metadata": {
    "collapsed": false,
    "ExecuteTime": {
     "end_time": "2024-03-06T00:04:48.535276Z",
     "start_time": "2024-03-06T00:04:48.458259Z"
    }
   },
   "id": "41c4fae926c75753",
   "execution_count": 3
  },
  {
   "cell_type": "markdown",
   "source": [
    "Observemos la distribucion de los de los ataques (nuestra columna target, Action)"
   ],
   "metadata": {
    "collapsed": false
   },
   "id": "d71cf23797fb775b"
  },
  {
   "cell_type": "code",
   "outputs": [
    {
     "data": {
      "text/plain": "<Figure size 640x480 with 1 Axes>",
      "image/png": "[encoded data removed]"
     },
     "metadata": {},
     "output_type": "display_data"
    }
   ],
   "source": [
    "categorias= ifd['Action']\n",
    "plt.bar(categorias.value_counts().index, categorias.value_counts())\n",
    "plt.show()"
   ],
   "metadata": {
    "collapsed": false,
    "ExecuteTime": {
     "end_time": "2024-03-06T00:04:48.887356Z",
     "start_time": "2024-03-06T00:04:48.536277Z"
    }
   },
   "id": "cb3fbb91443ab8d1",
   "execution_count": 4
  },
  {
   "cell_type": "markdown",
   "source": [
    "Podemos ver, que tenemos muy pocos datos de reset-both, veamos cuantos son"
   ],
   "metadata": {
    "collapsed": false
   },
   "id": "62b6a56bab9df79"
  },
  {
   "cell_type": "code",
   "outputs": [
    {
     "data": {
      "text/plain": "Action\nallow         37640\ndeny          14987\ndrop          12851\nreset-both       54\nName: count, dtype: int64"
     },
     "execution_count": 5,
     "metadata": {},
     "output_type": "execute_result"
    }
   ],
   "source": [
    "ifd['Action'].value_counts()"
   ],
   "metadata": {
    "collapsed": false,
    "ExecuteTime": {
     "end_time": "2024-03-06T00:04:48.903359Z",
     "start_time": "2024-03-06T00:04:48.889358Z"
    }
   },
   "id": "50b2c3a664ebfeb4",
   "execution_count": 5
  },
  {
   "cell_type": "code",
   "outputs": [
    {
     "data": {
      "text/plain": "(65532, 12)"
     },
     "execution_count": 6,
     "metadata": {},
     "output_type": "execute_result"
    }
   ],
   "source": [
    "ifd.shape"
   ],
   "metadata": {
    "collapsed": false,
    "ExecuteTime": {
     "end_time": "2024-03-06T00:04:48.948370Z",
     "start_time": "2024-03-06T00:04:48.904360Z"
    }
   },
   "id": "c11e0240ae731ee5",
   "execution_count": 6
  },
  {
   "cell_type": "markdown",
   "source": [
    "Podemos ver que de los 65532 datos, solo 54 es reset-both, por lo cual, si intentamos usar el modelo para que tome esta acción en específico, probablemente no lo haga bien, ya que no tiene suficientes datos para aprender."
   ],
   "metadata": {
    "collapsed": false
   },
   "id": "2b39b58ab23de543"
  },
  {
   "cell_type": "markdown",
   "source": [
    "Además, ahora también podemos ver que tenemos 27892 datos de ataques, y 37640 de no ataques, lo cual podría ser un problema, dado que tenemos casí 10 mil datos más de no ataques que de ataques, lo cual podría hacer que el modelo aprenda a clasificar todo como no ataque, y no queremos eso."
   ],
   "metadata": {
    "collapsed": false
   },
   "id": "14ed2f2ca1ddb77"
  },
  {
   "cell_type": "markdown",
   "source": [
    "Ahora, observemos los puertos"
   ],
   "metadata": {
    "collapsed": false
   },
   "id": "c230cda1c06b8791"
  },
  {
   "cell_type": "code",
   "outputs": [
    {
     "data": {
      "text/plain": "Source Port              int64\nDestination Port         int64\nNAT Source Port          int64\nNAT Destination Port     int64\nAction                  object\nBytes                    int64\nBytes Sent               int64\nBytes Received           int64\nPackets                  int64\nElapsed Time (sec)       int64\npkts_sent                int64\npkts_received            int64\ndtype: object"
     },
     "execution_count": 7,
     "metadata": {},
     "output_type": "execute_result"
    }
   ],
   "source": [
    "ifd.dtypes"
   ],
   "metadata": {
    "collapsed": false,
    "ExecuteTime": {
     "end_time": "2024-03-06T00:04:48.963374Z",
     "start_time": "2024-03-06T00:04:48.949371Z"
    }
   },
   "id": "dc3e6f43bd0c7e6c",
   "execution_count": 7
  },
  {
   "cell_type": "markdown",
   "source": [
    "Podemos ver que aunque son de tipo int, estos no son valores continuos, sino que son categoricos, por lo cual, no tiene sentido hacer un histograma, pero si podemos ver cuantos valores únicos hay"
   ],
   "metadata": {
    "collapsed": false
   },
   "id": "47d3283879310515"
  },
  {
   "cell_type": "code",
   "outputs": [
    {
     "name": "stdout",
     "output_type": "stream",
     "text": [
      "Source Port valores numero de valores unicos: 22724\n",
      "Destination Port valores numero de valores unicos: 3273\n",
      "NAT Source Port valores numero de valores unicos: 29152\n",
      "NAT Destination Port valores numero de valores unicos: 2533\n"
     ]
    }
   ],
   "source": [
    "print('Source Port valores numero de valores unicos:', ifd['Source Port'].nunique())\n",
    "print('Destination Port valores numero de valores unicos:', ifd['Destination Port'].nunique())\n",
    "print('NAT Source Port valores numero de valores unicos:', ifd['NAT Source Port'].nunique())\n",
    "print('NAT Destination Port valores numero de valores unicos:', ifd['NAT Destination Port'].nunique())"
   ],
   "metadata": {
    "collapsed": false,
    "ExecuteTime": {
     "end_time": "2024-03-06T00:04:48.979377Z",
     "start_time": "2024-03-06T00:04:48.964374Z"
    }
   },
   "id": "3fa1245fa1709b01",
   "execution_count": 8
  },
  {
   "cell_type": "code",
   "outputs": [
    {
     "name": "stdout",
     "output_type": "stream",
     "text": [
      "Source Port\n",
      "58638    840\n",
      "Name: count, dtype: int64\n",
      "Destination Port\n",
      "53    15414\n",
      "Name: count, dtype: int64\n",
      "NAT Source Port\n",
      "0    28432\n",
      "Name: count, dtype: int64\n",
      "NAT Destination Port\n",
      "0    28432\n",
      "Name: count, dtype: int64\n"
     ]
    }
   ],
   "source": [
    "#Ahora veamos los valores más comunes\n",
    "print(ifd['Source Port'].value_counts().nlargest(1))\n",
    "print(ifd['Destination Port'].value_counts().nlargest(1))\n",
    "print(ifd['NAT Source Port'].value_counts().nlargest(1))\n",
    "print(ifd['NAT Destination Port'].value_counts().nlargest(1))"
   ],
   "metadata": {
    "collapsed": false,
    "ExecuteTime": {
     "end_time": "2024-03-06T00:04:49.057395Z",
     "start_time": "2024-03-06T00:04:48.980377Z"
    }
   },
   "id": "d3ae2931ce492dde",
   "execution_count": 9
  },
  {
   "cell_type": "markdown",
   "source": [
    "Aquí podemos ver algo interesante, en ambos casos para NAT, el puerto más comun es 0, lo cual es raro, ya que el puerto 0 no existe, por lo cual, probablemente sea un valor nulo, lo cual tendremos en cuenta cuando vayamos a limpiar los datos para el modelo."
   ],
   "metadata": {
    "collapsed": false
   },
   "id": "b10771d163b5147d"
  },
  {
   "cell_type": "markdown",
   "source": [
    "Ahora, recordemos que nuestra variable target es Action, y esta es una variable categorica, para cualcular la correlación pasaremos los datos a numericos, para esto usaremos el metodo de LabelEncoder"
   ],
   "metadata": {
    "collapsed": false
   },
   "id": "a0eb8d156c9dd70b"
  },
  {
   "cell_type": "code",
   "outputs": [
    {
     "data": {
      "text/plain": "Action\n0    37640\n1    14987\n2    12851\n3       54\nName: count, dtype: int64"
     },
     "execution_count": 178,
     "metadata": {},
     "output_type": "execute_result"
    }
   ],
   "source": [
    "le = LabelEncoder()\n",
    "ifd['Action'] = le.fit_transform(ifd['Action'])\n",
    "ifd['Action'].value_counts()"
   ],
   "metadata": {
    "collapsed": false,
    "ExecuteTime": {
     "end_time": "2024-03-06T01:08:29.686061Z",
     "start_time": "2024-03-06T01:08:29.661055Z"
    }
   },
   "id": "8b28f200d4ce246d",
   "execution_count": 178
  },
  {
   "cell_type": "markdown",
   "source": [
    "Ahora podemos ver que 0 es no ataque, y de 1 a 3 son ataques, por lo cual, podemos calcular la correlación"
   ],
   "metadata": {
    "collapsed": false
   },
   "id": "3553f6b00baf85fd"
  },
  {
   "cell_type": "code",
   "outputs": [
    {
     "data": {
      "text/plain": "Action                  1.000000\nNAT Source Port         0.686893\nNAT Destination Port    0.214765\nElapsed Time (sec)      0.170684\nDestination Port        0.095110\nSource Port             0.038343\nBytes Received          0.023794\npkts_received           0.021679\nPackets                 0.015562\nBytes                   0.013546\npkts_sent               0.009842\nBytes Sent              0.004570\ndtype: float64"
     },
     "execution_count": 11,
     "metadata": {},
     "output_type": "execute_result"
    }
   ],
   "source": [
    "ifd.corrwith(ifd['Action']).abs().sort_values(ascending=False)"
   ],
   "metadata": {
    "collapsed": false,
    "ExecuteTime": {
     "end_time": "2024-03-06T00:04:49.135413Z",
     "start_time": "2024-03-06T00:04:49.088402Z"
    }
   },
   "id": "aebeabba296e8ea3",
   "execution_count": 11
  },
  {
   "cell_type": "markdown",
   "source": [
    "Podemos ver algo preocupante, una de las mayores correlaciones es con las columnas NAT, que ya habiamos mencionado que tenian muchos valores nulos, por lo cual, probablemente no sean de mucha ayuda, por lo cual las vamos a borrar.\n",
    "\n",
    "Dicho esto, podemos ver que source port y destination port tienen una correlación baja, por lo cual las vamos a borrar también para evitar problemas, dado que son columnas categoricas que hasta el momento estamos usando como numericas, lo cual podría causar problemas."
   ],
   "metadata": {
    "collapsed": false
   },
   "id": "7332a8fd614392be"
  },
  {
   "cell_type": "code",
   "outputs": [
    {
     "data": {
      "text/plain": "   Action  Bytes  Bytes Sent  Bytes Received  Packets  Elapsed Time (sec)  \\\n0       0    177          94              83        2                  30   \n1       0   4768        1600            3168       19                  17   \n2       0    238         118             120        2                1199   \n3       0   3327        1438            1889       15                  17   \n4       0  25358        6778           18580       31                  16   \n\n   pkts_sent  pkts_received  \n0          1              1  \n1         10              9  \n2          1              1  \n3          8              7  \n4         13             18  ",
      "text/html": "<div>\n<style scoped>\n    .dataframe tbody tr th:only-of-type {\n        vertical-align: middle;\n    }\n\n    .dataframe tbody tr th {\n        vertical-align: top;\n    }\n\n    .dataframe thead th {\n        text-align: right;\n    }\n</style>\n<table border=\"1\" class=\"dataframe\">\n  <thead>\n    <tr style=\"text-align: right;\">\n      <th></th>\n      <th>Action</th>\n      <th>Bytes</th>\n      <th>Bytes Sent</th>\n      <th>Bytes Received</th>\n      <th>Packets</th>\n      <th>Elapsed Time (sec)</th>\n      <th>pkts_sent</th>\n      <th>pkts_received</th>\n    </tr>\n  </thead>\n  <tbody>\n    <tr>\n      <th>0</th>\n      <td>0</td>\n      <td>177</td>\n      <td>94</td>\n      <td>83</td>\n      <td>2</td>\n      <td>30</td>\n      <td>1</td>\n      <td>1</td>\n    </tr>\n    <tr>\n      <th>1</th>\n      <td>0</td>\n      <td>4768</td>\n      <td>1600</td>\n      <td>3168</td>\n      <td>19</td>\n      <td>17</td>\n      <td>10</td>\n      <td>9</td>\n    </tr>\n    <tr>\n      <th>2</th>\n      <td>0</td>\n      <td>238</td>\n      <td>118</td>\n      <td>120</td>\n      <td>2</td>\n      <td>1199</td>\n      <td>1</td>\n      <td>1</td>\n    </tr>\n    <tr>\n      <th>3</th>\n      <td>0</td>\n      <td>3327</td>\n      <td>1438</td>\n      <td>1889</td>\n      <td>15</td>\n      <td>17</td>\n      <td>8</td>\n      <td>7</td>\n    </tr>\n    <tr>\n      <th>4</th>\n      <td>0</td>\n      <td>25358</td>\n      <td>6778</td>\n      <td>18580</td>\n      <td>31</td>\n      <td>16</td>\n      <td>13</td>\n      <td>18</td>\n    </tr>\n  </tbody>\n</table>\n</div>"
     },
     "execution_count": 179,
     "metadata": {},
     "output_type": "execute_result"
    }
   ],
   "source": [
    "ifd = ifd.drop(columns=['NAT Source Port', 'NAT Destination Port', 'Source Port', 'Destination Port'])\n",
    "ifd.head()"
   ],
   "metadata": {
    "collapsed": false,
    "ExecuteTime": {
     "end_time": "2024-03-06T01:08:34.039043Z",
     "start_time": "2024-03-06T01:08:34.016038Z"
    }
   },
   "id": "c68064efe716ee32",
   "execution_count": 179
  },
  {
   "cell_type": "markdown",
   "source": [
    "Ahora, busquemos valores atípicos"
   ],
   "metadata": {
    "collapsed": false
   },
   "id": "5b3d3bb8bec59cd4"
  },
  {
   "cell_type": "code",
   "outputs": [
    {
     "data": {
      "text/plain": "             Action         Bytes    Bytes Sent  Bytes Received       Packets  \\\ncount  65532.000000  6.553200e+04  6.553200e+04    6.553200e+04  6.553200e+04   \nmean       0.623375  9.712395e+04  2.238580e+04    7.473815e+04  1.028660e+02   \nstd        0.794945  5.618439e+06  3.828139e+06    2.463208e+06  5.133002e+03   \nmin        0.000000  6.000000e+01  6.000000e+01    0.000000e+00  1.000000e+00   \n25%        0.000000  6.600000e+01  6.600000e+01    0.000000e+00  1.000000e+00   \n50%        0.000000  1.680000e+02  9.000000e+01    7.900000e+01  2.000000e+00   \n75%        1.000000  7.522500e+02  2.100000e+02    4.490000e+02  6.000000e+00   \nmax        3.000000  1.269359e+09  9.484772e+08    3.208818e+08  1.036116e+06   \n\n       Elapsed Time (sec)      pkts_sent  pkts_received  \ncount        65532.000000   65532.000000   65532.000000  \nmean            65.833577      41.399530      61.466505  \nstd            302.461762    3218.871288    2223.332271  \nmin              0.000000       1.000000       0.000000  \n25%              0.000000       1.000000       0.000000  \n50%             15.000000       1.000000       1.000000  \n75%             30.000000       3.000000       2.000000  \nmax          10824.000000  747520.000000  327208.000000  ",
      "text/html": "<div>\n<style scoped>\n    .dataframe tbody tr th:only-of-type {\n        vertical-align: middle;\n    }\n\n    .dataframe tbody tr th {\n        vertical-align: top;\n    }\n\n    .dataframe thead th {\n        text-align: right;\n    }\n</style>\n<table border=\"1\" class=\"dataframe\">\n  <thead>\n    <tr style=\"text-align: right;\">\n      <th></th>\n      <th>Action</th>\n      <th>Bytes</th>\n      <th>Bytes Sent</th>\n      <th>Bytes Received</th>\n      <th>Packets</th>\n      <th>Elapsed Time (sec)</th>\n      <th>pkts_sent</th>\n      <th>pkts_received</th>\n    </tr>\n  </thead>\n  <tbody>\n    <tr>\n      <th>count</th>\n      <td>65532.000000</td>\n      <td>6.553200e+04</td>\n      <td>6.553200e+04</td>\n      <td>6.553200e+04</td>\n      <td>6.553200e+04</td>\n      <td>65532.000000</td>\n      <td>65532.000000</td>\n      <td>65532.000000</td>\n    </tr>\n    <tr>\n      <th>mean</th>\n      <td>0.623375</td>\n      <td>9.712395e+04</td>\n      <td>2.238580e+04</td>\n      <td>7.473815e+04</td>\n      <td>1.028660e+02</td>\n      <td>65.833577</td>\n      <td>41.399530</td>\n      <td>61.466505</td>\n    </tr>\n    <tr>\n      <th>std</th>\n      <td>0.794945</td>\n      <td>5.618439e+06</td>\n      <td>3.828139e+06</td>\n      <td>2.463208e+06</td>\n      <td>5.133002e+03</td>\n      <td>302.461762</td>\n      <td>3218.871288</td>\n      <td>2223.332271</td>\n    </tr>\n    <tr>\n      <th>min</th>\n      <td>0.000000</td>\n      <td>6.000000e+01</td>\n      <td>6.000000e+01</td>\n      <td>0.000000e+00</td>\n      <td>1.000000e+00</td>\n      <td>0.000000</td>\n      <td>1.000000</td>\n      <td>0.000000</td>\n    </tr>\n    <tr>\n      <th>25%</th>\n      <td>0.000000</td>\n      <td>6.600000e+01</td>\n      <td>6.600000e+01</td>\n      <td>0.000000e+00</td>\n      <td>1.000000e+00</td>\n      <td>0.000000</td>\n      <td>1.000000</td>\n      <td>0.000000</td>\n    </tr>\n    <tr>\n      <th>50%</th>\n      <td>0.000000</td>\n      <td>1.680000e+02</td>\n      <td>9.000000e+01</td>\n      <td>7.900000e+01</td>\n      <td>2.000000e+00</td>\n      <td>15.000000</td>\n      <td>1.000000</td>\n      <td>1.000000</td>\n    </tr>\n    <tr>\n      <th>75%</th>\n      <td>1.000000</td>\n      <td>7.522500e+02</td>\n      <td>2.100000e+02</td>\n      <td>4.490000e+02</td>\n      <td>6.000000e+00</td>\n      <td>30.000000</td>\n      <td>3.000000</td>\n      <td>2.000000</td>\n    </tr>\n    <tr>\n      <th>max</th>\n      <td>3.000000</td>\n      <td>1.269359e+09</td>\n      <td>9.484772e+08</td>\n      <td>3.208818e+08</td>\n      <td>1.036116e+06</td>\n      <td>10824.000000</td>\n      <td>747520.000000</td>\n      <td>327208.000000</td>\n    </tr>\n  </tbody>\n</table>\n</div>"
     },
     "execution_count": 73,
     "metadata": {},
     "output_type": "execute_result"
    }
   ],
   "source": [
    "ifd.describe()"
   ],
   "metadata": {
    "collapsed": false,
    "ExecuteTime": {
     "end_time": "2024-03-06T00:10:01.854084Z",
     "start_time": "2024-03-06T00:10:01.815075Z"
    }
   },
   "id": "d924987278308c0c",
   "execution_count": 73
  },
  {
   "cell_type": "markdown",
   "source": [
    "Podemos ver que todas las columnas tienen valores atípicos y que la desviación estandar es muy alta, en todos los casos, por lo cual ya sabemos que van a haber valores atípicos, por lo cual, vamos a hacer un boxplot para verlos"
   ],
   "metadata": {
    "collapsed": false
   },
   "id": "4d9765291b731e95"
  },
  {
   "cell_type": "code",
   "outputs": [
    {
     "data": {
      "text/plain": "Text(0.5, 1.0, 'Box Plot')"
     },
     "execution_count": 90,
     "metadata": {},
     "output_type": "execute_result"
    },
    {
     "data": {
      "text/plain": "<Figure size 2000x1000 with 1 Axes>",
      "image/png": "[encoded data removed]"
     },
     "metadata": {},
     "output_type": "display_data"
    }
   ],
   "source": [
    "plt.figure(figsize=(20, 10))\n",
    "plt.boxplot(ifd['pkts_received'],vert=False)\n",
    "plt.xlabel('Packages received')\n",
    "plt.title('Box Plot')"
   ],
   "metadata": {
    "collapsed": false,
    "ExecuteTime": {
     "end_time": "2024-03-06T00:28:30.877966Z",
     "start_time": "2024-03-06T00:28:30.704927Z"
    }
   },
   "id": "cd519f02a21facc3",
   "execution_count": 90
  },
  {
   "cell_type": "markdown",
   "source": [
    "Dado que apenas se puede ver, y que tenemos muchos, vamos a calcular cuantos valores atipicos tenemos"
   ],
   "metadata": {
    "collapsed": false
   },
   "id": "30731b837db8406e"
  },
  {
   "cell_type": "code",
   "outputs": [],
   "source": [
    "#dado que haremos esto varias veces, vamos a hacer una funcion\n",
    "\n",
    "def datos_atipicos(df,column):\n",
    "    q1 = df[column].quantile(0.25)\n",
    "    q3 = df[column].quantile(0.75)\n",
    "\n",
    "    # sacamos el rango intercuartil\n",
    "    limite_inferior = q1\n",
    "    limite_superior = q3\n",
    "\n",
    "    # contamos el numero de datos atipicos\n",
    "    num_atypical_q1 = (df[column] < limite_inferior).sum()\n",
    "    num_atypical_q3 = (df[column] > limite_superior).sum()\n",
    "    num_atypical = num_atypical_q1 + num_atypical_q3\n",
    "    \n",
    "    print(\"Datos atipicos en:\", column)\n",
    "    print(\"Cantidad de datos atipicos en\", column, \"inferior:\", num_atypical_q1)\n",
    "    print(\"Cantidad de datos atipicos en\", column, \"superior:\", num_atypical_q3)\n",
    "    print(\"Cantidad de datos atipicos en\", column, \":\", num_atypical)\n",
    "    print(\"Porcentaje de datos atipicos en\", column, \":\", num_atypical / df.shape[0] * 100, \"% \\n\")\n",
    "\n"
   ],
   "metadata": {
    "collapsed": false,
    "ExecuteTime": {
     "end_time": "2024-03-06T00:48:51.142328Z",
     "start_time": "2024-03-06T00:48:51.135327Z"
    }
   },
   "id": "cf1563e45670e90f",
   "execution_count": 116
  },
  {
   "cell_type": "code",
   "outputs": [
    {
     "name": "stdout",
     "output_type": "stream",
     "text": [
      "Datos atipicos en: pkts_received\n",
      "Cantidad de datos atipicos en pkts_received inferior: 0\n",
      "Cantidad de datos atipicos en pkts_received superior: 15916\n",
      "Cantidad de datos atipicos en pkts_received : 15916\n",
      "Porcentaje de datos atipicos en pkts_received : 24.287371055362268 % \n",
      "\n",
      "Datos atipicos en: pkts_sent\n",
      "Cantidad de datos atipicos en pkts_sent inferior: 0\n",
      "Cantidad de datos atipicos en pkts_sent superior: 15924\n",
      "Cantidad de datos atipicos en pkts_sent : 15924\n",
      "Porcentaje de datos atipicos en pkts_sent : 24.299578831715802 % \n",
      "\n",
      "Datos atipicos en: Bytes Received\n",
      "Cantidad de datos atipicos en Bytes Received inferior: 0\n",
      "Cantidad de datos atipicos en Bytes Received superior: 16356\n",
      "Cantidad de datos atipicos en Bytes Received : 16356\n",
      "Porcentaje de datos atipicos en Bytes Received : 24.958798754806814 % \n",
      "\n",
      "Datos atipicos en: Bytes Sent\n",
      "Cantidad de datos atipicos en Bytes Sent inferior: 7452\n",
      "Cantidad de datos atipicos en Bytes Sent superior: 16377\n",
      "Cantidad de datos atipicos en Bytes Sent : 23829\n",
      "Porcentaje de datos atipicos en Bytes Sent : 36.36238784105475 % \n",
      "\n",
      "Datos atipicos en: Elapsed Time (sec)\n",
      "Cantidad de datos atipicos en Elapsed Time (sec) inferior: 0\n",
      "Cantidad de datos atipicos en Elapsed Time (sec) superior: 15510\n",
      "Cantidad de datos atipicos en Elapsed Time (sec) : 15510\n",
      "Porcentaje de datos atipicos en Elapsed Time (sec) : 23.667826405420254 % \n"
     ]
    }
   ],
   "source": [
    "datos_atipicos(ifd,'pkts_received')\n",
    "datos_atipicos(ifd,'pkts_sent')\n",
    "datos_atipicos(ifd,'Bytes Received')\n",
    "datos_atipicos(ifd,'Bytes Sent')\n",
    "datos_atipicos(ifd,'Elapsed Time (sec)')"
   ],
   "metadata": {
    "collapsed": false,
    "ExecuteTime": {
     "end_time": "2024-03-06T00:48:52.552646Z",
     "start_time": "2024-03-06T00:48:52.524640Z"
    }
   },
   "id": "bd5e44ee6cc8cb1a",
   "execution_count": 117
  },
  {
   "cell_type": "markdown",
   "source": [
    "Dado que tenemos muchos valores atipicos, vamos a borrarlos, para esto vamos a usar el rango intercuartil, que es la diferencia entre el tercer y primer cuartil, y vamos a borrar los datos que esten por fuera de este rango\n",
    "\n",
    "Una vez hecho esto vamos a revisar la correlación de nuevo"
   ],
   "metadata": {
    "collapsed": false
   },
   "id": "d71322b72db5592d"
  },
  {
   "cell_type": "code",
   "outputs": [],
   "source": [
    "#dado que haremos esto varias veces, vamos a hacer una funcion\n",
    "def borrar_atipicos(df,column):\n",
    "    q1 = df[column].quantile(0.25)\n",
    "    q3 = df[column].quantile(0.75)\n",
    "\n",
    "    # sacamos el rango intercuartil\n",
    "    iqr = q3 - q1\n",
    "    limite_inferior = q1 - 1.5 * iqr\n",
    "    limite_superior = q3 + 1.5 * iqr\n",
    "\n",
    "    # borramos los datos atipicos\n",
    "    df = df[(df[column] > limite_inferior) & (df[column] < limite_superior)]\n",
    "    return df"
   ],
   "metadata": {
    "collapsed": false,
    "ExecuteTime": {
     "end_time": "2024-03-06T00:55:38.549359Z",
     "start_time": "2024-03-06T00:55:38.534356Z"
    }
   },
   "id": "834db1c395dfe36c",
   "execution_count": 119
  },
  {
   "cell_type": "markdown",
   "source": [
    "Datos antes de borrar atipicos"
   ],
   "metadata": {
    "collapsed": false
   },
   "id": "dea2109a4be11dfb"
  },
  {
   "cell_type": "code",
   "outputs": [
    {
     "data": {
      "text/plain": "Action                1.000000\nBytes Sent           -0.004570\npkts_sent            -0.009842\nBytes                -0.013546\nPackets              -0.015562\npkts_received        -0.021679\nBytes Received       -0.023794\nElapsed Time (sec)   -0.170684\ndtype: float64"
     },
     "execution_count": 180,
     "metadata": {},
     "output_type": "execute_result"
    }
   ],
   "source": [
    "ifd.corrwith(ifd['Action']).sort_values(ascending=False)"
   ],
   "metadata": {
    "collapsed": false,
    "ExecuteTime": {
     "end_time": "2024-03-06T01:08:41.806809Z",
     "start_time": "2024-03-06T01:08:41.791806Z"
    }
   },
   "id": "772bd34d970d7ace",
   "execution_count": 180
  },
  {
   "cell_type": "code",
   "outputs": [
    {
     "name": "stdout",
     "output_type": "stream",
     "text": [
      "Datos atipicos en: pkts_received\n",
      "Cantidad de datos atipicos en pkts_received inferior: 0\n",
      "Cantidad de datos atipicos en pkts_received superior: 0\n",
      "Cantidad de datos atipicos en pkts_received : 0\n",
      "Porcentaje de datos atipicos en pkts_received : nan % \n"
     ]
    },
    {
     "name": "stderr",
     "output_type": "stream",
     "text": [
      "C:\\Users\\Usuario\\AppData\\Local\\Temp\\ipykernel_16136\\101508194.py:20: RuntimeWarning: invalid value encountered in scalar divide\n",
      "  print(\"Porcentaje de datos atipicos en\", column, \":\", num_atypical / df.shape[0] * 100, \"% \\n\")\n"
     ]
    },
    {
     "data": {
      "text/plain": "(65532, 8)"
     },
     "execution_count": 170,
     "metadata": {},
     "output_type": "execute_result"
    }
   ],
   "source": [
    "ifd_limpio = borrar_atipicos(ifd,'pkts_received')\n",
    "ifd_limpio = borrar_atipicos(ifd_limpio,'pkts_sent')\n",
    "ifd_limpio = borrar_atipicos(ifd_limpio,'Bytes Received')\n",
    "ifd_limpio = borrar_atipicos(ifd_limpio,'Bytes Sent')\n",
    "ifd_limpio = borrar_atipicos(ifd_limpio,'Elapsed Time (sec)')\n",
    "datos_atipicos(ifd_limpio,'pkts_received')\n",
    "ifd.shape"
   ],
   "metadata": {
    "collapsed": false,
    "ExecuteTime": {
     "end_time": "2024-03-06T01:01:15.111815Z",
     "start_time": "2024-03-06T01:01:15.096812Z"
    }
   },
   "id": "3b13e0ccc3016441",
   "execution_count": 170
  },
  {
   "cell_type": "code",
   "outputs": [
    {
     "data": {
      "text/plain": "Action               NaN\nBytes                NaN\nBytes Sent           NaN\nBytes Received       NaN\nPackets              NaN\nElapsed Time (sec)   NaN\npkts_sent            NaN\npkts_received        NaN\ndtype: float64"
     },
     "execution_count": 171,
     "metadata": {},
     "output_type": "execute_result"
    }
   ],
   "source": [
    "ifd_limpio.corrwith(ifd_limpio['Action']).sort_values(ascending=False)"
   ],
   "metadata": {
    "collapsed": false,
    "ExecuteTime": {
     "end_time": "2024-03-06T01:01:30.135612Z",
     "start_time": "2024-03-06T01:01:30.120608Z"
    }
   },
   "id": "85446019c97f1bbb",
   "execution_count": 171
  },
  {
   "cell_type": "markdown",
   "source": [
    "Tenemos un problema, resulta que borrar todos los datos atipicos, nos borró todos los datos, por lo cual, vamos a borrar los datos atípicos de una columna a la vez, empezando por la que tenian mayor correlación"
   ],
   "metadata": {
    "collapsed": false
   },
   "id": "38ff4dd2b675ef32"
  },
  {
   "cell_type": "code",
   "outputs": [
    {
     "name": "stdout",
     "output_type": "stream",
     "text": [
      "Datos atipicos en: Elapsed Time (sec)\n",
      "Cantidad de datos atipicos en Elapsed Time (sec) inferior: 0\n",
      "Cantidad de datos atipicos en Elapsed Time (sec) superior: 7344\n",
      "Cantidad de datos atipicos en Elapsed Time (sec) : 7344\n",
      "Porcentaje de datos atipicos en Elapsed Time (sec) : 12.802008158142453 % \n",
      "\n",
      "Porcentaje de reducción del dataset original 12.461087712873095 %\n"
     ]
    }
   ],
   "source": [
    "ifd_limpio = borrar_atipicos(ifd,'Elapsed Time (sec)')\n",
    "print('Porcentaje de reducción del dataset original', 100 - (ifd_limpio.shape[0]/ifd.shape[0] * 100),'%')\n",
    "ifd_limpio.corrwith(ifd_limpio['Action']).sort_values(ascending=False)"
   ],
   "metadata": {
    "collapsed": false,
    "ExecuteTime": {
     "end_time": "2024-03-06T01:09:32.622587Z",
     "start_time": "2024-03-06T01:09:32.607583Z"
    }
   },
   "id": "cf192c7e19cb33b1",
   "execution_count": 182
  },
  {
   "cell_type": "code",
   "outputs": [
    {
     "name": "stdout",
     "output_type": "stream",
     "text": [
      "Datos atipicos en: Bytes Received\n",
      "Cantidad de datos atipicos en Bytes Received inferior: 0\n",
      "Cantidad de datos atipicos en Bytes Received superior: 11700\n",
      "Cantidad de datos atipicos en Bytes Received : 11700\n",
      "Porcentaje de datos atipicos en Bytes Received : 24.623803009575923 % \n",
      "\n",
      "Porcentaje de reducción del dataset original 27.493438320209975 %\n"
     ]
    }
   ],
   "source": [
    "ifd_limpio = borrar_atipicos(ifd_limpio,'Bytes Received')\n",
    "print('Porcentaje de reducción del dataset original', 100 - (ifd_limpio.shape[0]/ifd.shape[0] * 100),'%')\n",
    "ifd_limpio.corrwith(ifd_limpio['Action']).sort_values(ascending=False)"
   ],
   "metadata": {
    "collapsed": false,
    "ExecuteTime": {
     "end_time": "2024-03-06T01:09:44.515110Z",
     "start_time": "2024-03-06T01:09:44.486105Z"
    }
   },
   "id": "bdcb960a8cabe517",
   "execution_count": 183
  },
  {
   "cell_type": "code",
   "outputs": [
    {
     "name": "stdout",
     "output_type": "stream",
     "text": [
      "Datos atipicos en: pkts_received\n",
      "Cantidad de datos atipicos en pkts_received inferior: 0\n",
      "Cantidad de datos atipicos en pkts_received superior: 1535\n",
      "Cantidad de datos atipicos en pkts_received : 1535\n",
      "Porcentaje de datos atipicos en pkts_received : 3.3141179264632856 % \n",
      "\n",
      "Porcentaje de reducción del dataset original 29.321552829152182 %\n"
     ]
    },
    {
     "data": {
      "text/plain": "Action                1.000000\nBytes Sent           -0.147992\npkts_sent            -0.257871\nBytes                -0.425055\nPackets              -0.599481\nBytes Received       -0.667218\npkts_received        -0.713910\nElapsed Time (sec)   -0.772796\ndtype: float64"
     },
     "execution_count": 185,
     "metadata": {},
     "output_type": "execute_result"
    }
   ],
   "source": [
    "ifd_limpio = borrar_atipicos(ifd_limpio,'pkts_received')\n",
    "print('Porcentaje de reducción del dataset original', 100 - (ifd_limpio.shape[0]/ifd.shape[0] * 100),'%')\n",
    "ifd_limpio.corrwith(ifd_limpio['Action']).sort_values(ascending=False)"
   ],
   "metadata": {
    "collapsed": false,
    "ExecuteTime": {
     "end_time": "2024-03-06T01:10:04.464247Z",
     "start_time": "2024-03-06T01:10:04.448243Z"
    }
   },
   "id": "8fb30743fbdfdd4b",
   "execution_count": 185
  },
  {
   "cell_type": "code",
   "outputs": [
    {
     "name": "stdout",
     "output_type": "stream",
     "text": [
      "Datos atipicos en: Packets\n",
      "Cantidad de datos atipicos en Packets inferior: 0\n",
      "Cantidad de datos atipicos en Packets superior: 387\n",
      "Cantidad de datos atipicos en Packets : 387\n",
      "Porcentaje de datos atipicos en Packets : 0.8758033855345343 % \n",
      "\n",
      "Porcentaje de reducción del dataset original 32.570347311237256 %\n"
     ]
    },
    {
     "data": {
      "text/plain": "Action                1.000000\nBytes Sent           -0.181397\npkts_sent            -0.211623\nBytes                -0.550538\nBytes Received       -0.673677\npkts_received        -0.743147\nPackets              -0.781798\nElapsed Time (sec)   -0.787754\ndtype: float64"
     },
     "execution_count": 186,
     "metadata": {},
     "output_type": "execute_result"
    }
   ],
   "source": [
    "ifd_limpio = borrar_atipicos(ifd_limpio,'Packets')\n",
    "print('Porcentaje de reducción del dataset original', 100 - (ifd_limpio.shape[0]/ifd.shape[0] * 100),'%')\n",
    "ifd_limpio.corrwith(ifd_limpio['Action']).sort_values(ascending=False)"
   ],
   "metadata": {
    "collapsed": false,
    "ExecuteTime": {
     "end_time": "2024-03-06T01:11:09.550562Z",
     "start_time": "2024-03-06T01:11:09.521555Z"
    }
   },
   "id": "82e4a5253d290ae4",
   "execution_count": 186
  },
  {
   "cell_type": "code",
   "outputs": [
    {
     "name": "stdout",
     "output_type": "stream",
     "text": [
      "Datos atipicos en: Bytes\n",
      "Cantidad de datos atipicos en Bytes inferior: 7269\n",
      "Cantidad de datos atipicos en Bytes superior: 10854\n",
      "Cantidad de datos atipicos en Bytes : 18123\n",
      "Porcentaje de datos atipicos en Bytes : 41.597043701799485 % \n",
      "\n",
      "Porcentaje de reducción del dataset original 33.51644997863639 %\n"
     ]
    },
    {
     "data": {
      "text/plain": "Action                1.000000\npkts_sent            -0.207743\nBytes Sent           -0.397477\nBytes Received       -0.692542\nBytes                -0.695185\npkts_received        -0.739628\nPackets              -0.782343\nElapsed Time (sec)   -0.785053\ndtype: float64"
     },
     "execution_count": 187,
     "metadata": {},
     "output_type": "execute_result"
    }
   ],
   "source": [
    "ifd_limpio = borrar_atipicos(ifd_limpio,'Bytes')\n",
    "print('Porcentaje de reducción del dataset original', 100 - (ifd_limpio.shape[0]/ifd.shape[0] * 100),'%')\n",
    "ifd_limpio.corrwith(ifd_limpio['Action']).sort_values(ascending=False)"
   ],
   "metadata": {
    "collapsed": false,
    "ExecuteTime": {
     "end_time": "2024-03-06T01:13:11.529940Z",
     "start_time": "2024-03-06T01:13:11.501585Z"
    }
   },
   "id": "c81264cca2190c3",
   "execution_count": 187
  },
  {
   "cell_type": "markdown",
   "source": [
    "Ya solo faltan los datos atipicos de pkts_sent y Bytes Sent, pero dado que ya hemos reducido el tamaño del dataset original en un 33.5%, y que estos no tenian la mayor correlación, vamos a dejarlo así, y vamos a observar la correlación de nuevo"
   ],
   "metadata": {
    "collapsed": false
   },
   "id": "2e847b1808fa4085"
  },
  {
   "cell_type": "code",
   "outputs": [
    {
     "data": {
      "text/plain": "Action                1.000000\npkts_sent            -0.207743\nBytes Sent           -0.397477\nBytes Received       -0.692542\nBytes                -0.695185\npkts_received        -0.739628\nPackets              -0.782343\nElapsed Time (sec)   -0.785053\ndtype: float64"
     },
     "execution_count": 188,
     "metadata": {},
     "output_type": "execute_result"
    }
   ],
   "source": [
    "ifd_limpio.corrwith(ifd_limpio['Action']).sort_values(ascending=False)"
   ],
   "metadata": {
    "collapsed": false,
    "ExecuteTime": {
     "end_time": "2024-03-06T01:16:21.225638Z",
     "start_time": "2024-03-06T01:16:21.214636Z"
    }
   },
   "id": "a07775ae7004317",
   "execution_count": 188
  },
  {
   "cell_type": "markdown",
   "source": [
    "Podemos ver que ahora tenemos una correlación más alta, en todas las columnas, pero un dataset más pequeño."
   ],
   "metadata": {
    "collapsed": false
   },
   "id": "cfd1bcf69ab03bec"
  },
  {
   "cell_type": "markdown",
   "source": [
    "Con esto, termina el EDA de este dataset "
   ],
   "metadata": {
    "collapsed": false
   },
   "id": "6e984a1db2255987"
  },
  {
   "cell_type": "code",
   "outputs": [],
   "source": [
    "ifd_limpio.to_csv('DataSets/Internet_Firewall_Data_Limpio.csv', index=False)"
   ],
   "metadata": {
    "collapsed": false,
    "ExecuteTime": {
     "end_time": "2024-03-06T01:17:10.181960Z",
     "start_time": "2024-03-06T01:17:10.106943Z"
    }
   },
   "id": "51967413fa8cc120",
   "execution_count": 190
  },
  {
   "cell_type": "markdown",
   "source": [
    "## EDA de UNSW_NB15"
   ],
   "metadata": {
    "collapsed": false
   },
   "id": "bf0736f4c874c151"
  },
  {
   "cell_type": "code",
   "outputs": [
    {
     "data": {
      "text/plain": "   id       dur proto service state  spkts  dpkts  sbytes  dbytes       rate  \\\n0   1  0.121478   tcp       -   FIN      6      4     258     172  74.087490   \n1   2  0.649902   tcp       -   FIN     14     38     734   42014  78.473372   \n2   3  1.623129   tcp       -   FIN      8     16     364   13186  14.170161   \n3   4  1.681642   tcp     ftp   FIN     12     12     628     770  13.677108   \n4   5  0.449454   tcp       -   FIN     10      6     534     268  33.373826   \n\n   ...  ct_dst_sport_ltm  ct_dst_src_ltm  is_ftp_login  ct_ftp_cmd  \\\n0  ...                 1               1             0           0   \n1  ...                 1               2             0           0   \n2  ...                 1               3             0           0   \n3  ...                 1               3             1           1   \n4  ...                 1              40             0           0   \n\n   ct_flw_http_mthd  ct_src_ltm  ct_srv_dst  is_sm_ips_ports  attack_cat  \\\n0                 0           1           1                0      Normal   \n1                 0           1           6                0      Normal   \n2                 0           2           6                0      Normal   \n3                 0           2           1                0      Normal   \n4                 0           2          39                0      Normal   \n\n   label  \n0      0  \n1      0  \n2      0  \n3      0  \n4      0  \n\n[5 rows x 45 columns]",
      "text/html": "<div>\n<style scoped>\n    .dataframe tbody tr th:only-of-type {\n        vertical-align: middle;\n    }\n\n    .dataframe tbody tr th {\n        vertical-align: top;\n    }\n\n    .dataframe thead th {\n        text-align: right;\n    }\n</style>\n<table border=\"1\" class=\"dataframe\">\n  <thead>\n    <tr style=\"text-align: right;\">\n      <th></th>\n      <th>id</th>\n      <th>dur</th>\n      <th>proto</th>\n      <th>service</th>\n      <th>state</th>\n      <th>spkts</th>\n      <th>dpkts</th>\n      <th>sbytes</th>\n      <th>dbytes</th>\n      <th>rate</th>\n      <th>...</th>\n      <th>ct_dst_sport_ltm</th>\n      <th>ct_dst_src_ltm</th>\n      <th>is_ftp_login</th>\n      <th>ct_ftp_cmd</th>\n      <th>ct_flw_http_mthd</th>\n      <th>ct_src_ltm</th>\n      <th>ct_srv_dst</th>\n      <th>is_sm_ips_ports</th>\n      <th>attack_cat</th>\n      <th>label</th>\n    </tr>\n  </thead>\n  <tbody>\n    <tr>\n      <th>0</th>\n      <td>1</td>\n      <td>0.121478</td>\n      <td>tcp</td>\n      <td>-</td>\n      <td>FIN</td>\n      <td>6</td>\n      <td>4</td>\n      <td>258</td>\n      <td>172</td>\n      <td>74.087490</td>\n      <td>...</td>\n      <td>1</td>\n      <td>1</td>\n      <td>0</td>\n      <td>0</td>\n      <td>0</td>\n      <td>1</td>\n      <td>1</td>\n      <td>0</td>\n      <td>Normal</td>\n      <td>0</td>\n    </tr>\n    <tr>\n      <th>1</th>\n      <td>2</td>\n      <td>0.649902</td>\n      <td>tcp</td>\n      <td>-</td>\n      <td>FIN</td>\n      <td>14</td>\n      <td>38</td>\n      <td>734</td>\n      <td>42014</td>\n      <td>78.473372</td>\n      <td>...</td>\n      <td>1</td>\n      <td>2</td>\n      <td>0</td>\n      <td>0</td>\n      <td>0</td>\n      <td>1</td>\n      <td>6</td>\n      <td>0</td>\n      <td>Normal</td>\n      <td>0</td>\n    </tr>\n    <tr>\n      <th>2</th>\n      <td>3</td>\n      <td>1.623129</td>\n      <td>tcp</td>\n      <td>-</td>\n      <td>FIN</td>\n      <td>8</td>\n      <td>16</td>\n      <td>364</td>\n      <td>13186</td>\n      <td>14.170161</td>\n      <td>...</td>\n      <td>1</td>\n      <td>3</td>\n      <td>0</td>\n      <td>0</td>\n      <td>0</td>\n      <td>2</td>\n      <td>6</td>\n      <td>0</td>\n      <td>Normal</td>\n      <td>0</td>\n    </tr>\n    <tr>\n      <th>3</th>\n      <td>4</td>\n      <td>1.681642</td>\n      <td>tcp</td>\n      <td>ftp</td>\n      <td>FIN</td>\n      <td>12</td>\n      <td>12</td>\n      <td>628</td>\n      <td>770</td>\n      <td>13.677108</td>\n      <td>...</td>\n      <td>1</td>\n      <td>3</td>\n      <td>1</td>\n      <td>1</td>\n      <td>0</td>\n      <td>2</td>\n      <td>1</td>\n      <td>0</td>\n      <td>Normal</td>\n      <td>0</td>\n    </tr>\n    <tr>\n      <th>4</th>\n      <td>5</td>\n      <td>0.449454</td>\n      <td>tcp</td>\n      <td>-</td>\n      <td>FIN</td>\n      <td>10</td>\n      <td>6</td>\n      <td>534</td>\n      <td>268</td>\n      <td>33.373826</td>\n      <td>...</td>\n      <td>1</td>\n      <td>40</td>\n      <td>0</td>\n      <td>0</td>\n      <td>0</td>\n      <td>2</td>\n      <td>39</td>\n      <td>0</td>\n      <td>Normal</td>\n      <td>0</td>\n    </tr>\n  </tbody>\n</table>\n<p>5 rows × 45 columns</p>\n</div>"
     },
     "execution_count": 15,
     "metadata": {},
     "output_type": "execute_result"
    }
   ],
   "source": [
    "unsw = pd.read_csv('DataSets/UNSW.csv')\n",
    "unsw.head()"
   ],
   "metadata": {
    "collapsed": false,
    "ExecuteTime": {
     "end_time": "2024-03-06T00:04:50.549748Z",
     "start_time": "2024-03-06T00:04:49.344537Z"
    }
   },
   "id": "95f0e383a4ef43c3",
   "execution_count": 15
  },
  {
   "cell_type": "markdown",
   "source": [
    "Ya podemos ver algo interesante, la columna service, tiene columnas como \"-\", observando la documentación de este dataset, esto significa \" and (-) if not much used service\", lo cual no sabemos que significa, por lo cual, vamos a observar un poco más esta columna"
   ],
   "metadata": {
    "collapsed": false
   },
   "id": "d3c5533fed451d0"
  },
  {
   "cell_type": "code",
   "outputs": [
    {
     "data": {
      "text/plain": "service\n-           141321\ndns          68661\nhttp         27011\nsmtp          6909\nftp-data      5391\nftp           4980\npop3          1528\nssh           1506\ndhcp           120\nsnmp           109\nssl             86\nirc             30\nradius          21\nName: count, dtype: int64"
     },
     "execution_count": 16,
     "metadata": {},
     "output_type": "execute_result"
    }
   ],
   "source": [
    "unsw['service'].value_counts()"
   ],
   "metadata": {
    "collapsed": false,
    "ExecuteTime": {
     "end_time": "2024-03-06T00:04:50.581753Z",
     "start_time": "2024-03-06T00:04:50.551748Z"
    }
   },
   "id": "edebd4f7f6529e01",
   "execution_count": 16
  },
  {
   "cell_type": "code",
   "outputs": [
    {
     "data": {
      "text/plain": "13"
     },
     "execution_count": 17,
     "metadata": {},
     "output_type": "execute_result"
    }
   ],
   "source": [
    "unsw['service'].nunique()"
   ],
   "metadata": {
    "collapsed": false,
    "ExecuteTime": {
     "end_time": "2024-03-06T00:04:50.629765Z",
     "start_time": "2024-03-06T00:04:50.583754Z"
    }
   },
   "id": "af84053f86dfdf89",
   "execution_count": 17
  },
  {
   "cell_type": "code",
   "outputs": [
    {
     "data": {
      "text/plain": "<Figure size 640x480 with 1 Axes>",
      "image/png": "[encoded data removed]"
     },
     "metadata": {},
     "output_type": "display_data"
    }
   ],
   "source": [
    "plt.bar(unsw['service'].value_counts().index, unsw['service'].value_counts())\n",
    "plt.show()"
   ],
   "metadata": {
    "collapsed": false,
    "ExecuteTime": {
     "end_time": "2024-03-06T00:04:50.771796Z",
     "start_time": "2024-03-06T00:04:50.630765Z"
    }
   },
   "id": "70ddceaecef29884",
   "execution_count": 18
  },
  {
   "cell_type": "markdown",
   "source": [
    "Podemos ver que hay 13 valores únicos, y que la mayoría de los datos son \"-\", pero vamos a esperar que nos ofrece en cuanto a correlación antes de decidir que hacer con esta columna"
   ],
   "metadata": {
    "collapsed": false
   },
   "id": "14e30c878533c3f6"
  },
  {
   "cell_type": "markdown",
   "source": [
    "Ahora, observemos la columna de protocolos"
   ],
   "metadata": {
    "collapsed": false
   },
   "id": "e6be1dd6b7d3129e"
  },
  {
   "cell_type": "code",
   "outputs": [
    {
     "data": {
      "text/plain": "proto\ntcp       123041\nudp        92701\nunas       15599\narp         3846\nospf        3271\n           ...  \nrdp          131\nnetblt       131\nigmp          48\nicmp          15\nrtp            1\nName: count, Length: 133, dtype: int64"
     },
     "execution_count": 19,
     "metadata": {},
     "output_type": "execute_result"
    }
   ],
   "source": [
    "unsw['proto'].value_counts()"
   ],
   "metadata": {
    "collapsed": false,
    "ExecuteTime": {
     "end_time": "2024-03-06T00:04:50.803804Z",
     "start_time": "2024-03-06T00:04:50.772797Z"
    }
   },
   "id": "f8adaef7243b4e19",
   "execution_count": 19
  },
  {
   "cell_type": "code",
   "outputs": [
    {
     "data": {
      "text/plain": "133"
     },
     "execution_count": 20,
     "metadata": {},
     "output_type": "execute_result"
    }
   ],
   "source": [
    "unsw['proto'].nunique()"
   ],
   "metadata": {
    "collapsed": false,
    "ExecuteTime": {
     "end_time": "2024-03-06T00:04:50.819807Z",
     "start_time": "2024-03-06T00:04:50.804804Z"
    }
   },
   "id": "ad6975092268b3c0",
   "execution_count": 20
  },
  {
   "cell_type": "code",
   "outputs": [
    {
     "data": {
      "text/plain": "<BarContainer object of 133 artists>"
     },
     "execution_count": 21,
     "metadata": {},
     "output_type": "execute_result"
    },
    {
     "data": {
      "text/plain": "<Figure size 640x480 with 1 Axes>",
      "image/png": "[encoded data removed]"
     },
     "metadata": {},
     "output_type": "display_data"
    }
   ],
   "source": [
    "plt.bar(unsw['proto'].value_counts().index, unsw['proto'].value_counts())"
   ],
   "metadata": {
    "collapsed": false,
    "ExecuteTime": {
     "end_time": "2024-03-06T00:04:51.609901Z",
     "start_time": "2024-03-06T00:04:50.820807Z"
    }
   },
   "id": "e23e5f951038b52e",
   "execution_count": 21
  },
  {
   "cell_type": "markdown",
   "source": [
    "Podemos ver que hay 133 valores únicos, por lo cual, no tiene sentido hacer un histograma, pero podemos ver que hay 3 valores que son mucho más comunes que los demás, por lo cual, vamos a ver si hay correlación con la variable target. "
   ],
   "metadata": {
    "collapsed": false
   },
   "id": "6a35719d1431fb27"
  },
  {
   "cell_type": "code",
   "outputs": [
    {
     "data": {
      "text/plain": "<BarContainer object of 10 artists>"
     },
     "execution_count": 22,
     "metadata": {},
     "output_type": "execute_result"
    },
    {
     "data": {
      "text/plain": "<Figure size 640x480 with 1 Axes>",
      "image/png": "[encoded data removed]"
     },
     "metadata": {},
     "output_type": "display_data"
    }
   ],
   "source": [
    "#bar plot con los 10 valores más comunes\n",
    "plt.bar(unsw['proto'].value_counts().nlargest(10).index, unsw['proto'].value_counts().nlargest(10))"
   ],
   "metadata": {
    "collapsed": false,
    "ExecuteTime": {
     "end_time": "2024-03-06T00:04:51.751438Z",
     "start_time": "2024-03-06T00:04:51.610901Z"
    }
   },
   "id": "679e2b4befb733e3",
   "execution_count": 22
  },
  {
   "cell_type": "markdown",
   "source": [
    "En este grafico más leible, podemos ver que los valores más comunes son tcp, udp y unas."
   ],
   "metadata": {
    "collapsed": false
   },
   "id": "df382254d4f5d688"
  },
  {
   "cell_type": "markdown",
   "source": [
    "Ahora, observemos la columna state"
   ],
   "metadata": {
    "collapsed": false
   },
   "id": "a3fa01856bb33d1c"
  },
  {
   "cell_type": "code",
   "outputs": [
    {
     "data": {
      "text/plain": "state\nFIN    117164\nINT    116438\nCON     20134\nREQ      3833\nRST        84\nECO        12\nACC         4\nPAR         1\nURN         1\nno          1\nCLO         1\nName: count, dtype: int64"
     },
     "execution_count": 23,
     "metadata": {},
     "output_type": "execute_result"
    }
   ],
   "source": [
    "unsw['state'].value_counts()"
   ],
   "metadata": {
    "collapsed": false,
    "ExecuteTime": {
     "end_time": "2024-03-06T00:04:51.783445Z",
     "start_time": "2024-03-06T00:04:51.752438Z"
    }
   },
   "id": "5bc29c0fac759b03",
   "execution_count": 23
  },
  {
   "cell_type": "code",
   "outputs": [
    {
     "data": {
      "text/plain": "11"
     },
     "execution_count": 24,
     "metadata": {},
     "output_type": "execute_result"
    }
   ],
   "source": [
    "unsw['state'].nunique()"
   ],
   "metadata": {
    "collapsed": false,
    "ExecuteTime": {
     "end_time": "2024-03-06T00:04:51.799507Z",
     "start_time": "2024-03-06T00:04:51.784445Z"
    }
   },
   "id": "39e38bad4c938a4e",
   "execution_count": 24
  },
  {
   "cell_type": "code",
   "outputs": [
    {
     "data": {
      "text/plain": "<BarContainer object of 11 artists>"
     },
     "execution_count": 25,
     "metadata": {},
     "output_type": "execute_result"
    },
    {
     "data": {
      "text/plain": "<Figure size 640x480 with 1 Axes>",
      "image/png": "[encoded data removed]"
     },
     "metadata": {},
     "output_type": "display_data"
    }
   ],
   "source": [
    "plt.bar(unsw['state'].value_counts().index, unsw['state'].value_counts())"
   ],
   "metadata": {
    "collapsed": false,
    "ExecuteTime": {
     "end_time": "2024-03-06T00:04:51.943487Z",
     "start_time": "2024-03-06T00:04:51.800453Z"
    }
   },
   "id": "35776c01c58843ce",
   "execution_count": 25
  },
  {
   "cell_type": "markdown",
   "source": [
    "Podemos ver que los estados de las conexiones del dataset son mayormente FIN: que la conexión se terminó, INT: que la conexión fue interrumpida, y CON: que la conexión fue establecida, y REQ: que la conexión fue pedida por un cliente."
   ],
   "metadata": {
    "collapsed": false
   },
   "id": "4226701e6245bdee"
  },
  {
   "cell_type": "markdown",
   "source": [
    "Ahora, observemos la columna attack_cat"
   ],
   "metadata": {
    "collapsed": false
   },
   "id": "f608cb54b0fe05a5"
  },
  {
   "cell_type": "code",
   "outputs": [
    {
     "data": {
      "text/plain": "attack_cat\nNormal            93000\nGeneric           58871\nExploits          44525\nFuzzers           24246\nDoS               16353\nReconnaissance    13987\nAnalysis           2677\nBackdoor           2329\nShellcode          1511\nWorms               174\nName: count, dtype: int64"
     },
     "execution_count": 26,
     "metadata": {},
     "output_type": "execute_result"
    }
   ],
   "source": [
    "unsw['attack_cat'].value_counts()"
   ],
   "metadata": {
    "collapsed": false,
    "ExecuteTime": {
     "end_time": "2024-03-06T00:04:51.975493Z",
     "start_time": "2024-03-06T00:04:51.944486Z"
    }
   },
   "id": "7a16ebe08b48265a",
   "execution_count": 26
  },
  {
   "cell_type": "code",
   "outputs": [
    {
     "data": {
      "text/plain": "10"
     },
     "execution_count": 27,
     "metadata": {},
     "output_type": "execute_result"
    }
   ],
   "source": [
    "unsw['attack_cat'].nunique()"
   ],
   "metadata": {
    "collapsed": false,
    "ExecuteTime": {
     "end_time": "2024-03-06T00:04:51.991499Z",
     "start_time": "2024-03-06T00:04:51.976494Z"
    }
   },
   "id": "8ea4d0f5842ad42e",
   "execution_count": 27
  },
  {
   "cell_type": "code",
   "outputs": [
    {
     "data": {
      "text/plain": "<Figure size 1300x600 with 1 Axes>",
      "image/png": "[encoded data removed]"
     },
     "metadata": {},
     "output_type": "display_data"
    }
   ],
   "source": [
    "#ampliamos la figura para que se pudiera leer bien\n",
    "plt.figure(figsize=(13, 6))\n",
    "plt.bar(unsw['attack_cat'].value_counts().index, unsw['attack_cat'].value_counts())\n",
    "plt.show()"
   ],
   "metadata": {
    "collapsed": false,
    "ExecuteTime": {
     "end_time": "2024-03-06T00:04:52.165538Z",
     "start_time": "2024-03-06T00:04:51.992499Z"
    }
   },
   "id": "ba9da9127f70bd2e",
   "execution_count": 28
  },
  {
   "cell_type": "markdown",
   "source": [
    "Podemos ver que hay 11 categorias de ataque, a diferencia del dataset anterior, podemos ver que tenemos más datos de ataques que de no ataques."
   ],
   "metadata": {
    "collapsed": false
   },
   "id": "49499405a3ba9470"
  },
  {
   "cell_type": "code",
   "outputs": [
    {
     "data": {
      "text/plain": "            id       dur proto service state  spkts  dpkts  sbytes  dbytes  \\\n117204  117205  0.000003   udp     dns   INT      2      0     114       0   \n117207  117208  0.000009   udp     dns   INT      2      0     114       0   \n117208  117209  0.000009   udp     dns   INT      2      0     114       0   \n117209  117210  0.000012   udp     dns   INT      2      0     114       0   \n117211  117212  0.000010   udp     dns   INT      2      0     114       0   \n\n                rate  ...  ct_dst_sport_ltm  ct_dst_src_ltm  is_ftp_login  \\\n117204  333333.32150  ...                10              22             0   \n117207  111111.10720  ...                18              28             0   \n117208  111111.10720  ...                17              33             0   \n117209   83333.33039  ...                18              20             0   \n117211  100000.00250  ...                 8              26             0   \n\n        ct_ftp_cmd  ct_flw_http_mthd  ct_src_ltm  ct_srv_dst  is_sm_ips_ports  \\\n117204           0                 0          22          22                0   \n117207           0                 0          18          28                0   \n117208           0                 0          17          33                0   \n117209           0                 0          18          20                0   \n117211           0                 0           9          26                0   \n\n        attack_cat  label  \n117204     Generic      1  \n117207     Generic      1  \n117208     Generic      1  \n117209     Generic      1  \n117211     Generic      1  \n\n[5 rows x 45 columns]",
      "text/html": "<div>\n<style scoped>\n    .dataframe tbody tr th:only-of-type {\n        vertical-align: middle;\n    }\n\n    .dataframe tbody tr th {\n        vertical-align: top;\n    }\n\n    .dataframe thead th {\n        text-align: right;\n    }\n</style>\n<table border=\"1\" class=\"dataframe\">\n  <thead>\n    <tr style=\"text-align: right;\">\n      <th></th>\n      <th>id</th>\n      <th>dur</th>\n      <th>proto</th>\n      <th>service</th>\n      <th>state</th>\n      <th>spkts</th>\n      <th>dpkts</th>\n      <th>sbytes</th>\n      <th>dbytes</th>\n      <th>rate</th>\n      <th>...</th>\n      <th>ct_dst_sport_ltm</th>\n      <th>ct_dst_src_ltm</th>\n      <th>is_ftp_login</th>\n      <th>ct_ftp_cmd</th>\n      <th>ct_flw_http_mthd</th>\n      <th>ct_src_ltm</th>\n      <th>ct_srv_dst</th>\n      <th>is_sm_ips_ports</th>\n      <th>attack_cat</th>\n      <th>label</th>\n    </tr>\n  </thead>\n  <tbody>\n    <tr>\n      <th>117204</th>\n      <td>117205</td>\n      <td>0.000003</td>\n      <td>udp</td>\n      <td>dns</td>\n      <td>INT</td>\n      <td>2</td>\n      <td>0</td>\n      <td>114</td>\n      <td>0</td>\n      <td>333333.32150</td>\n      <td>...</td>\n      <td>10</td>\n      <td>22</td>\n      <td>0</td>\n      <td>0</td>\n      <td>0</td>\n      <td>22</td>\n      <td>22</td>\n      <td>0</td>\n      <td>Generic</td>\n      <td>1</td>\n    </tr>\n    <tr>\n      <th>117207</th>\n      <td>117208</td>\n      <td>0.000009</td>\n      <td>udp</td>\n      <td>dns</td>\n      <td>INT</td>\n      <td>2</td>\n      <td>0</td>\n      <td>114</td>\n      <td>0</td>\n      <td>111111.10720</td>\n      <td>...</td>\n      <td>18</td>\n      <td>28</td>\n      <td>0</td>\n      <td>0</td>\n      <td>0</td>\n      <td>18</td>\n      <td>28</td>\n      <td>0</td>\n      <td>Generic</td>\n      <td>1</td>\n    </tr>\n    <tr>\n      <th>117208</th>\n      <td>117209</td>\n      <td>0.000009</td>\n      <td>udp</td>\n      <td>dns</td>\n      <td>INT</td>\n      <td>2</td>\n      <td>0</td>\n      <td>114</td>\n      <td>0</td>\n      <td>111111.10720</td>\n      <td>...</td>\n      <td>17</td>\n      <td>33</td>\n      <td>0</td>\n      <td>0</td>\n      <td>0</td>\n      <td>17</td>\n      <td>33</td>\n      <td>0</td>\n      <td>Generic</td>\n      <td>1</td>\n    </tr>\n    <tr>\n      <th>117209</th>\n      <td>117210</td>\n      <td>0.000012</td>\n      <td>udp</td>\n      <td>dns</td>\n      <td>INT</td>\n      <td>2</td>\n      <td>0</td>\n      <td>114</td>\n      <td>0</td>\n      <td>83333.33039</td>\n      <td>...</td>\n      <td>18</td>\n      <td>20</td>\n      <td>0</td>\n      <td>0</td>\n      <td>0</td>\n      <td>18</td>\n      <td>20</td>\n      <td>0</td>\n      <td>Generic</td>\n      <td>1</td>\n    </tr>\n    <tr>\n      <th>117211</th>\n      <td>117212</td>\n      <td>0.000010</td>\n      <td>udp</td>\n      <td>dns</td>\n      <td>INT</td>\n      <td>2</td>\n      <td>0</td>\n      <td>114</td>\n      <td>0</td>\n      <td>100000.00250</td>\n      <td>...</td>\n      <td>8</td>\n      <td>26</td>\n      <td>0</td>\n      <td>0</td>\n      <td>0</td>\n      <td>9</td>\n      <td>26</td>\n      <td>0</td>\n      <td>Generic</td>\n      <td>1</td>\n    </tr>\n  </tbody>\n</table>\n<p>5 rows × 45 columns</p>\n</div>"
     },
     "execution_count": 29,
     "metadata": {},
     "output_type": "execute_result"
    }
   ],
   "source": [
    "#Verificamos que generic si sea un ataque\n",
    "unsw[unsw['attack_cat'] == 'Generic'].head()"
   ],
   "metadata": {
    "collapsed": false,
    "ExecuteTime": {
     "end_time": "2024-03-06T00:04:52.213549Z",
     "start_time": "2024-03-06T00:04:52.166538Z"
    }
   },
   "id": "d26a48336ca5ec98",
   "execution_count": 29
  },
  {
   "cell_type": "markdown",
   "source": [
    "Ahora, observemos la columna label, que es nuestro target"
   ],
   "metadata": {
    "collapsed": false
   },
   "id": "a34f52f4e9384981"
  },
  {
   "cell_type": "code",
   "outputs": [
    {
     "data": {
      "text/plain": "label\n1    164673\n0     93000\nName: count, dtype: int64"
     },
     "execution_count": 30,
     "metadata": {},
     "output_type": "execute_result"
    }
   ],
   "source": [
    "unsw['label'].value_counts()"
   ],
   "metadata": {
    "collapsed": false,
    "ExecuteTime": {
     "end_time": "2024-03-06T00:04:52.229553Z",
     "start_time": "2024-03-06T00:04:52.214549Z"
    }
   },
   "id": "f5fd1532fa0ecb8c",
   "execution_count": 30
  },
  {
   "cell_type": "code",
   "outputs": [
    {
     "data": {
      "text/plain": "2"
     },
     "execution_count": 31,
     "metadata": {},
     "output_type": "execute_result"
    }
   ],
   "source": [
    "unsw['label'].nunique()"
   ],
   "metadata": {
    "collapsed": false,
    "ExecuteTime": {
     "end_time": "2024-03-06T00:04:52.245556Z",
     "start_time": "2024-03-06T00:04:52.230553Z"
    }
   },
   "id": "b5116af135f08261",
   "execution_count": 31
  },
  {
   "cell_type": "code",
   "outputs": [
    {
     "data": {
      "text/plain": "<Figure size 640x480 with 1 Axes>",
      "image/png": "[encoded data removed]"
     },
     "metadata": {},
     "output_type": "display_data"
    }
   ],
   "source": [
    "plt.bar(unsw['label'].value_counts().index, unsw['label'].value_counts())\n",
    "plt.xticks(unsw['label'].value_counts().index, ['1','0'])\n",
    "plt.show()"
   ],
   "metadata": {
    "collapsed": false,
    "ExecuteTime": {
     "end_time": "2024-03-06T00:04:52.357581Z",
     "start_time": "2024-03-06T00:04:52.246556Z"
    }
   },
   "id": "c23a8c729c15075c",
   "execution_count": 32
  },
  {
   "cell_type": "code",
   "outputs": [
    {
     "data": {
      "text/plain": "<Figure size 640x480 with 1 Axes>",
      "image/png": "[encoded data removed]"
     },
     "metadata": {},
     "output_type": "display_data"
    }
   ],
   "source": [
    "labels = unsw['label'].value_counts().index.tolist()\n",
    "sizes = unsw['label'].value_counts().tolist()\n",
    "plt.pie(sizes, labels=labels, autopct='%1.1f%%')\n",
    "plt.title('Distributcion de Labels')\n",
    "plt.show()"
   ],
   "metadata": {
    "collapsed": false,
    "ExecuteTime": {
     "end_time": "2024-03-06T00:04:52.434602Z",
     "start_time": "2024-03-06T00:04:52.358582Z"
    }
   },
   "id": "5582befaf56f638c",
   "execution_count": 33
  },
  {
   "cell_type": "markdown",
   "source": [
    "Podemos ver que hay 2 valores únicos, y que hay más datos de ataques que de no ataques, lo cual se podía observar en attack_cat, pero ahora lo podemos ver de manera más clara."
   ],
   "metadata": {
    "collapsed": false
   },
   "id": "fc14793f89e66ad6"
  },
  {
   "cell_type": "markdown",
   "source": [
    "Antes de observar la correlacion, tenemos que transformar las columnas categoricas a numericas"
   ],
   "metadata": {
    "collapsed": false
   },
   "id": "60044fb557786492"
  },
  {
   "cell_type": "code",
   "outputs": [],
   "source": [
    "unsw['service'] = le.fit_transform(unsw['service'])\n",
    "unsw['proto'] = le.fit_transform(unsw['proto'])\n",
    "unsw['state'] = le.fit_transform(unsw['state'])\n",
    "#Aunque el resto no importa mucho la transformacion, ya habiamos dicho que 0 es una conexion normal, por lo cual, vamos a transformar los datos de attack_cat\n",
    "unsw['attack_cat'] = unsw['attack_cat'].replace('Normal', '0')\n",
    "unsw['attack_cat'] = le.fit_transform(unsw['attack_cat'])"
   ],
   "metadata": {
    "collapsed": false,
    "ExecuteTime": {
     "end_time": "2024-03-06T00:04:52.607644Z",
     "start_time": "2024-03-06T00:04:52.435602Z"
    }
   },
   "id": "1c03e1dfc327716c",
   "execution_count": 34
  },
  {
   "cell_type": "code",
   "outputs": [
    {
     "name": "stdout",
     "output_type": "stream",
     "text": [
      "service\n",
      "0     141321\n",
      "2      68661\n",
      "5      27011\n",
      "9       6909\n",
      "4       5391\n",
      "3       4980\n",
      "7       1528\n",
      "11      1506\n",
      "1        120\n",
      "10       109\n",
      "12        86\n",
      "6         30\n",
      "8         21\n",
      "Name: count, dtype: int64\n",
      "proto\n",
      "113    123041\n",
      "119     92701\n",
      "120     15599\n",
      "6        3846\n",
      "78       3271\n",
      "        ...  \n",
      "89        131\n",
      "75        131\n",
      "42         48\n",
      "37         15\n",
      "91          1\n",
      "Name: count, Length: 133, dtype: int64\n",
      "state\n",
      "4     117164\n",
      "5     116438\n",
      "2      20134\n",
      "7       3833\n",
      "8         84\n",
      "3         12\n",
      "0          4\n",
      "6          1\n",
      "9          1\n",
      "10         1\n",
      "1          1\n",
      "Name: count, dtype: int64\n",
      "attack_cat\n",
      "0    93000\n",
      "6    58871\n",
      "4    44525\n",
      "5    24246\n",
      "3    16353\n",
      "7    13987\n",
      "1     2677\n",
      "2     2329\n",
      "8     1511\n",
      "9      174\n",
      "Name: count, dtype: int64\n"
     ]
    }
   ],
   "source": [
    "print(unsw['service'].value_counts())\n",
    "print(unsw['proto'].value_counts())\n",
    "print(unsw['state'].value_counts())\n",
    "print(unsw['attack_cat'].value_counts())\n"
   ],
   "metadata": {
    "collapsed": false,
    "ExecuteTime": {
     "end_time": "2024-03-06T00:04:52.623648Z",
     "start_time": "2024-03-06T00:04:52.608645Z"
    }
   },
   "id": "10d930922dba426d",
   "execution_count": 35
  },
  {
   "cell_type": "code",
   "outputs": [
    {
     "data": {
      "text/plain": "id                     int64\ndur                  float64\nproto                  int32\nservice                int32\nstate                  int32\nspkts                  int64\ndpkts                  int64\nsbytes                 int64\ndbytes                 int64\nrate                 float64\nsttl                   int64\ndttl                   int64\nsload                float64\ndload                float64\nsloss                  int64\ndloss                  int64\nsinpkt               float64\ndinpkt               float64\nsjit                 float64\ndjit                 float64\nswin                   int64\nstcpb                  int64\ndtcpb                  int64\ndwin                   int64\ntcprtt               float64\nsynack               float64\nackdat               float64\nsmean                  int64\ndmean                  int64\ntrans_depth            int64\nresponse_body_len      int64\nct_srv_src             int64\nct_state_ttl           int64\nct_dst_ltm             int64\nct_src_dport_ltm       int64\nct_dst_sport_ltm       int64\nct_dst_src_ltm         int64\nis_ftp_login           int64\nct_ftp_cmd             int64\nct_flw_http_mthd       int64\nct_src_ltm             int64\nct_srv_dst             int64\nis_sm_ips_ports        int64\nattack_cat             int32\nlabel                  int64\ndtype: object"
     },
     "execution_count": 36,
     "metadata": {},
     "output_type": "execute_result"
    }
   ],
   "source": [
    "unsw.dtypes"
   ],
   "metadata": {
    "collapsed": false,
    "ExecuteTime": {
     "end_time": "2024-03-06T00:04:52.655655Z",
     "start_time": "2024-03-06T00:04:52.624648Z"
    }
   },
   "id": "6720c1cfa9ee1ec1",
   "execution_count": 36
  },
  {
   "cell_type": "markdown",
   "source": [
    "Ahora, observemos si hay valores atipicos en las columnas numericas"
   ],
   "metadata": {
    "collapsed": false
   },
   "id": "a115ccd775c6c073"
  },
  {
   "cell_type": "code",
   "outputs": [
    {
     "data": {
      "text/plain": "               state          rate           sttl         sload         dload  \\\ncount  257673.000000  2.576730e+05  257673.000000  2.576730e+05  2.576730e+05   \nmean        4.341468  9.125391e+04     180.000931  7.060869e+07  6.582143e+05   \nstd         0.887420  1.603446e+05     102.488268  1.857313e+08  2.412372e+06   \nmin         0.000000  0.000000e+00       0.000000  0.000000e+00  0.000000e+00   \n25%         4.000000  3.078928e+01      62.000000  1.231800e+04  0.000000e+00   \n50%         4.000000  2.955665e+03     254.000000  7.439423e+05  1.747441e+03   \n75%         5.000000  1.250000e+05     254.000000  8.000000e+07  2.210538e+04   \nmax        10.000000  1.000000e+06     255.000000  5.988000e+09  2.242273e+07   \n\n              sinpkt           swin         stcpb         dtcpb  \\\ncount  257673.000000  257673.000000  2.576730e+05  2.576730e+05   \nmean      912.300834     121.753661  1.006120e+09  1.002295e+09   \nstd      6922.153239     127.367443  1.367795e+09  1.363877e+09   \nmin         0.000000       0.000000  0.000000e+00  0.000000e+00   \n25%         0.008000       0.000000  0.000000e+00  0.000000e+00   \n50%         0.381696       0.000000  0.000000e+00  0.000000e+00   \n75%        58.094727     255.000000  2.007375e+09  1.992752e+09   \nmax     84371.496000     255.000000  4.294959e+09  4.294882e+09   \n\n                dwin  ...   ct_state_ttl     ct_dst_ltm  ct_src_dport_ltm  \\\ncount  257673.000000  ...  257673.000000  257673.000000     257673.000000   \nmean      119.254629  ...       1.324978       6.050467          5.238271   \nstd       127.230477  ...       0.992300       8.173749          8.160822   \nmin         0.000000  ...       0.000000       1.000000          1.000000   \n25%         0.000000  ...       1.000000       1.000000          1.000000   \n50%         0.000000  ...       1.000000       2.000000          1.000000   \n75%       255.000000  ...       2.000000       6.000000          4.000000   \nmax       255.000000  ...       6.000000      59.000000         59.000000   \n\n       ct_dst_sport_ltm  ct_dst_src_ltm     ct_src_ltm     ct_srv_dst  \\\ncount     257673.000000   257673.000000  257673.000000  257673.000000   \nmean           4.032677        8.322964       6.800045       9.121049   \nstd            5.831515       11.120754       8.396266      10.874752   \nmin            1.000000        1.000000       1.000000       1.000000   \n25%            1.000000        1.000000       2.000000       2.000000   \n50%            1.000000        3.000000       3.000000       4.000000   \n75%            3.000000        8.000000       8.000000      11.000000   \nmax           46.000000       65.000000      60.000000      62.000000   \n\n       is_sm_ips_ports     attack_cat          label  \ncount    257673.000000  257673.000000  257673.000000  \nmean          0.014274       3.184319       0.639077  \nstd           0.118618       2.628650       0.480269  \nmin           0.000000       0.000000       0.000000  \n25%           0.000000       0.000000       0.000000  \n50%           0.000000       4.000000       1.000000  \n75%           0.000000       6.000000       1.000000  \nmax           1.000000       9.000000       1.000000  \n\n[8 rows x 22 columns]",
      "text/html": "<div>\n<style scoped>\n    .dataframe tbody tr th:only-of-type {\n        vertical-align: middle;\n    }\n\n    .dataframe tbody tr th {\n        vertical-align: top;\n    }\n\n    .dataframe thead th {\n        text-align: right;\n    }\n</style>\n<table border=\"1\" class=\"dataframe\">\n  <thead>\n    <tr style=\"text-align: right;\">\n      <th></th>\n      <th>state</th>\n      <th>rate</th>\n      <th>sttl</th>\n      <th>sload</th>\n      <th>dload</th>\n      <th>sinpkt</th>\n      <th>swin</th>\n      <th>stcpb</th>\n      <th>dtcpb</th>\n      <th>dwin</th>\n      <th>...</th>\n      <th>ct_state_ttl</th>\n      <th>ct_dst_ltm</th>\n      <th>ct_src_dport_ltm</th>\n      <th>ct_dst_sport_ltm</th>\n      <th>ct_dst_src_ltm</th>\n      <th>ct_src_ltm</th>\n      <th>ct_srv_dst</th>\n      <th>is_sm_ips_ports</th>\n      <th>attack_cat</th>\n      <th>label</th>\n    </tr>\n  </thead>\n  <tbody>\n    <tr>\n      <th>count</th>\n      <td>257673.000000</td>\n      <td>2.576730e+05</td>\n      <td>257673.000000</td>\n      <td>2.576730e+05</td>\n      <td>2.576730e+05</td>\n      <td>257673.000000</td>\n      <td>257673.000000</td>\n      <td>2.576730e+05</td>\n      <td>2.576730e+05</td>\n      <td>257673.000000</td>\n      <td>...</td>\n      <td>257673.000000</td>\n      <td>257673.000000</td>\n      <td>257673.000000</td>\n      <td>257673.000000</td>\n      <td>257673.000000</td>\n      <td>257673.000000</td>\n      <td>257673.000000</td>\n      <td>257673.000000</td>\n      <td>257673.000000</td>\n      <td>257673.000000</td>\n    </tr>\n    <tr>\n      <th>mean</th>\n      <td>4.341468</td>\n      <td>9.125391e+04</td>\n      <td>180.000931</td>\n      <td>7.060869e+07</td>\n      <td>6.582143e+05</td>\n      <td>912.300834</td>\n      <td>121.753661</td>\n      <td>1.006120e+09</td>\n      <td>1.002295e+09</td>\n      <td>119.254629</td>\n      <td>...</td>\n      <td>1.324978</td>\n      <td>6.050467</td>\n      <td>5.238271</td>\n      <td>4.032677</td>\n      <td>8.322964</td>\n      <td>6.800045</td>\n      <td>9.121049</td>\n      <td>0.014274</td>\n      <td>3.184319</td>\n      <td>0.639077</td>\n    </tr>\n    <tr>\n      <th>std</th>\n      <td>0.887420</td>\n      <td>1.603446e+05</td>\n      <td>102.488268</td>\n      <td>1.857313e+08</td>\n      <td>2.412372e+06</td>\n      <td>6922.153239</td>\n      <td>127.367443</td>\n      <td>1.367795e+09</td>\n      <td>1.363877e+09</td>\n      <td>127.230477</td>\n      <td>...</td>\n      <td>0.992300</td>\n      <td>8.173749</td>\n      <td>8.160822</td>\n      <td>5.831515</td>\n      <td>11.120754</td>\n      <td>8.396266</td>\n      <td>10.874752</td>\n      <td>0.118618</td>\n      <td>2.628650</td>\n      <td>0.480269</td>\n    </tr>\n    <tr>\n      <th>min</th>\n      <td>0.000000</td>\n      <td>0.000000e+00</td>\n      <td>0.000000</td>\n      <td>0.000000e+00</td>\n      <td>0.000000e+00</td>\n      <td>0.000000</td>\n      <td>0.000000</td>\n      <td>0.000000e+00</td>\n      <td>0.000000e+00</td>\n      <td>0.000000</td>\n      <td>...</td>\n      <td>0.000000</td>\n      <td>1.000000</td>\n      <td>1.000000</td>\n      <td>1.000000</td>\n      <td>1.000000</td>\n      <td>1.000000</td>\n      <td>1.000000</td>\n      <td>0.000000</td>\n      <td>0.000000</td>\n      <td>0.000000</td>\n    </tr>\n    <tr>\n      <th>25%</th>\n      <td>4.000000</td>\n      <td>3.078928e+01</td>\n      <td>62.000000</td>\n      <td>1.231800e+04</td>\n      <td>0.000000e+00</td>\n      <td>0.008000</td>\n      <td>0.000000</td>\n      <td>0.000000e+00</td>\n      <td>0.000000e+00</td>\n      <td>0.000000</td>\n      <td>...</td>\n      <td>1.000000</td>\n      <td>1.000000</td>\n      <td>1.000000</td>\n      <td>1.000000</td>\n      <td>1.000000</td>\n      <td>2.000000</td>\n      <td>2.000000</td>\n      <td>0.000000</td>\n      <td>0.000000</td>\n      <td>0.000000</td>\n    </tr>\n    <tr>\n      <th>50%</th>\n      <td>4.000000</td>\n      <td>2.955665e+03</td>\n      <td>254.000000</td>\n      <td>7.439423e+05</td>\n      <td>1.747441e+03</td>\n      <td>0.381696</td>\n      <td>0.000000</td>\n      <td>0.000000e+00</td>\n      <td>0.000000e+00</td>\n      <td>0.000000</td>\n      <td>...</td>\n      <td>1.000000</td>\n      <td>2.000000</td>\n      <td>1.000000</td>\n      <td>1.000000</td>\n      <td>3.000000</td>\n      <td>3.000000</td>\n      <td>4.000000</td>\n      <td>0.000000</td>\n      <td>4.000000</td>\n      <td>1.000000</td>\n    </tr>\n    <tr>\n      <th>75%</th>\n      <td>5.000000</td>\n      <td>1.250000e+05</td>\n      <td>254.000000</td>\n      <td>8.000000e+07</td>\n      <td>2.210538e+04</td>\n      <td>58.094727</td>\n      <td>255.000000</td>\n      <td>2.007375e+09</td>\n      <td>1.992752e+09</td>\n      <td>255.000000</td>\n      <td>...</td>\n      <td>2.000000</td>\n      <td>6.000000</td>\n      <td>4.000000</td>\n      <td>3.000000</td>\n      <td>8.000000</td>\n      <td>8.000000</td>\n      <td>11.000000</td>\n      <td>0.000000</td>\n      <td>6.000000</td>\n      <td>1.000000</td>\n    </tr>\n    <tr>\n      <th>max</th>\n      <td>10.000000</td>\n      <td>1.000000e+06</td>\n      <td>255.000000</td>\n      <td>5.988000e+09</td>\n      <td>2.242273e+07</td>\n      <td>84371.496000</td>\n      <td>255.000000</td>\n      <td>4.294959e+09</td>\n      <td>4.294882e+09</td>\n      <td>255.000000</td>\n      <td>...</td>\n      <td>6.000000</td>\n      <td>59.000000</td>\n      <td>59.000000</td>\n      <td>46.000000</td>\n      <td>65.000000</td>\n      <td>60.000000</td>\n      <td>62.000000</td>\n      <td>1.000000</td>\n      <td>9.000000</td>\n      <td>1.000000</td>\n    </tr>\n  </tbody>\n</table>\n<p>8 rows × 22 columns</p>\n</div>"
     },
     "execution_count": 191,
     "metadata": {},
     "output_type": "execute_result"
    }
   ],
   "source": [
    "unsw.describe()"
   ],
   "metadata": {
    "collapsed": false,
    "ExecuteTime": {
     "end_time": "2024-03-06T02:38:09.062209Z",
     "start_time": "2024-03-06T02:38:08.924178Z"
    }
   },
   "id": "1c58fa132b9e8dc4",
   "execution_count": 191
  },
  {
   "cell_type": "markdown",
   "source": [
    "Podemos ver que todas las columnas tienen valores atipicos y que la desviación estandar es muy alta, en muchos casos, por ende vamos a usar el metodo que ya creamos para ver los valores atipicos"
   ],
   "metadata": {
    "collapsed": false
   },
   "id": "a4e65d504f99dee8"
  },
  {
   "cell_type": "code",
   "outputs": [
    {
     "name": "stdout",
     "output_type": "stream",
     "text": [
      "Datos atipicos en: rate\n",
      "Cantidad de datos atipicos en rate inferior: 64418\n",
      "Cantidad de datos atipicos en rate superior: 52841\n",
      "Cantidad de datos atipicos en rate : 117259\n",
      "Porcentaje de datos atipicos en rate : 45.506902158937876 % \n",
      "\n",
      "Datos atipicos en: sttl\n",
      "Cantidad de datos atipicos en sttl inferior: 60572\n",
      "Cantidad de datos atipicos en sttl superior: 38\n",
      "Cantidad de datos atipicos en sttl : 60610\n",
      "Porcentaje de datos atipicos en sttl : 23.522060906653007 % \n",
      "\n",
      "Datos atipicos en: sload\n",
      "Cantidad de datos atipicos en sload inferior: 64418\n",
      "Cantidad de datos atipicos en sload superior: 64322\n",
      "Cantidad de datos atipicos en sload : 128740\n",
      "Porcentaje de datos atipicos en sload : 49.96254943280825 % \n",
      "\n",
      "Datos atipicos en: dload\n",
      "Cantidad de datos atipicos en dload inferior: 0\n",
      "Cantidad de datos atipicos en dload superior: 64418\n",
      "Cantidad de datos atipicos en dload : 64418\n",
      "Porcentaje de datos atipicos en dload : 24.999902977805203 % \n",
      "\n",
      "Datos atipicos en: sinpkt\n",
      "Cantidad de datos atipicos en sinpkt inferior: 56767\n",
      "Cantidad de datos atipicos en sinpkt superior: 64418\n",
      "Cantidad de datos atipicos en sinpkt : 121185\n",
      "Porcentaje de datos atipicos en sinpkt : 47.03053870603439 % \n",
      "\n",
      "Datos atipicos en: swin\n",
      "Cantidad de datos atipicos en swin inferior: 0\n",
      "Cantidad de datos atipicos en swin superior: 0\n",
      "Cantidad de datos atipicos en swin : 0\n",
      "Porcentaje de datos atipicos en swin : 0.0 % \n",
      "\n",
      "Datos atipicos en: stcpb\n",
      "Cantidad de datos atipicos en stcpb inferior: 0\n",
      "Cantidad de datos atipicos en stcpb superior: 64418\n",
      "Cantidad de datos atipicos en stcpb : 64418\n",
      "Porcentaje de datos atipicos en stcpb : 24.999902977805203 % \n",
      "\n",
      "Datos atipicos en: dtcpb\n",
      "Cantidad de datos atipicos en dtcpb inferior: 0\n",
      "Cantidad de datos atipicos en dtcpb superior: 64418\n",
      "Cantidad de datos atipicos en dtcpb : 64418\n",
      "Porcentaje de datos atipicos en dtcpb : 24.999902977805203 % \n",
      "\n",
      "Datos atipicos en: dwin\n",
      "Cantidad de datos atipicos en dwin inferior: 0\n",
      "Cantidad de datos atipicos en dwin superior: 0\n",
      "Cantidad de datos atipicos en dwin : 0\n",
      "Porcentaje de datos atipicos en dwin : 0.0 % \n",
      "\n",
      "Datos atipicos en: dmean\n",
      "Cantidad de datos atipicos en dmean inferior: 0\n",
      "Cantidad de datos atipicos en dmean superior: 57829\n",
      "Cantidad de datos atipicos en dmean : 57829\n",
      "Porcentaje de datos atipicos en dmean : 22.442786011728046 % \n",
      "\n",
      "Datos atipicos en: ct_srv_src\n",
      "Cantidad de datos atipicos en ct_srv_src inferior: 49876\n",
      "Cantidad de datos atipicos en ct_srv_src superior: 61317\n",
      "Cantidad de datos atipicos en ct_srv_src : 111193\n",
      "Porcentaje de datos atipicos en ct_srv_src : 43.15275562437663 % \n",
      "\n",
      "Datos atipicos en: ct_state_ttl\n",
      "Cantidad de datos atipicos en ct_state_ttl inferior: 57836\n",
      "Cantidad de datos atipicos en ct_state_ttl superior: 7094\n",
      "Cantidad de datos atipicos en ct_state_ttl : 64930\n",
      "Porcentaje de datos atipicos en ct_state_ttl : 25.198604432750038 % \n",
      "\n",
      "Datos atipicos en: ct_dst_ltm\n",
      "Cantidad de datos atipicos en ct_dst_ltm inferior: 0\n",
      "Cantidad de datos atipicos en ct_dst_ltm superior: 63745\n",
      "Cantidad de datos atipicos en ct_dst_ltm : 63745\n",
      "Porcentaje de datos atipicos en ct_dst_ltm : 24.73871922941092 % \n",
      "\n",
      "Datos atipicos en: ct_src_dport_ltm\n",
      "Cantidad de datos atipicos en ct_src_dport_ltm inferior: 0\n",
      "Cantidad de datos atipicos en ct_src_dport_ltm superior: 61943\n",
      "Cantidad de datos atipicos en ct_src_dport_ltm : 61943\n",
      "Porcentaje de datos atipicos en ct_src_dport_ltm : 24.039383249312113 % \n",
      "\n",
      "Datos atipicos en: ct_dst_sport_ltm\n",
      "Cantidad de datos atipicos en ct_dst_sport_ltm inferior: 0\n",
      "Cantidad de datos atipicos en ct_dst_sport_ltm superior: 60153\n",
      "Cantidad de datos atipicos en ct_dst_sport_ltm : 60153\n",
      "Porcentaje de datos atipicos en ct_dst_sport_ltm : 23.344704334563573 % \n",
      "\n",
      "Datos atipicos en: ct_dst_src_ltm\n",
      "Cantidad de datos atipicos en ct_dst_src_ltm inferior: 0\n",
      "Cantidad de datos atipicos en ct_dst_src_ltm superior: 63716\n",
      "Cantidad de datos atipicos en ct_dst_src_ltm : 63716\n",
      "Porcentaje de datos atipicos en ct_dst_src_ltm : 24.727464654814433 % \n",
      "\n",
      "Datos atipicos en: ct_src_ltm\n",
      "Cantidad de datos atipicos en ct_src_ltm inferior: 63870\n",
      "Cantidad de datos atipicos en ct_src_ltm superior: 63858\n",
      "Cantidad de datos atipicos en ct_src_ltm : 127728\n",
      "Porcentaje de datos atipicos en ct_src_ltm : 49.569803588268854 % \n",
      "\n",
      "Datos atipicos en: ct_srv_dst\n",
      "Cantidad de datos atipicos en ct_srv_dst inferior: 58824\n",
      "Cantidad de datos atipicos en ct_srv_dst superior: 63835\n",
      "Cantidad de datos atipicos en ct_srv_dst : 122659\n",
      "Porcentaje de datos atipicos en ct_srv_dst : 47.60258156655917 % \n",
      "\n",
      "Datos atipicos en: is_sm_ips_ports\n",
      "Cantidad de datos atipicos en is_sm_ips_ports inferior: 0\n",
      "Cantidad de datos atipicos en is_sm_ips_ports superior: 3678\n",
      "Cantidad de datos atipicos en is_sm_ips_ports : 3678\n",
      "Porcentaje de datos atipicos en is_sm_ips_ports : 1.4273905298576104 % \n"
     ]
    }
   ],
   "source": [
    "datos_atipicos(unsw,'rate')\n",
    "datos_atipicos(unsw,'sttl')\n",
    "datos_atipicos(unsw,'sload')\n",
    "datos_atipicos(unsw,'dload')\n",
    "datos_atipicos(unsw,'sinpkt')\n",
    "datos_atipicos(unsw,'swin')\n",
    "datos_atipicos(unsw,'stcpb')\n",
    "datos_atipicos(unsw,'dtcpb')\n",
    "datos_atipicos(unsw,'dwin')\n",
    "datos_atipicos(unsw,'dmean')\n",
    "datos_atipicos(unsw,'ct_srv_src')\n",
    "datos_atipicos(unsw,'ct_state_ttl')\n",
    "datos_atipicos(unsw,'ct_dst_ltm')\n",
    "datos_atipicos(unsw,'ct_src_dport_ltm')\n",
    "datos_atipicos(unsw,'ct_dst_sport_ltm')\n",
    "datos_atipicos(unsw,'ct_dst_src_ltm')\n",
    "datos_atipicos(unsw,'ct_src_ltm')\n",
    "datos_atipicos(unsw,'ct_srv_dst')\n",
    "datos_atipicos(unsw,'is_sm_ips_ports')"
   ],
   "metadata": {
    "collapsed": false,
    "ExecuteTime": {
     "end_time": "2024-03-06T02:43:38.014313Z",
     "start_time": "2024-03-06T02:43:37.915291Z"
    }
   },
   "id": "c912e615460d3556",
   "execution_count": 192
  },
  {
   "cell_type": "markdown",
   "source": [
    "Encontramos algo interesante, swin y dwin no tienen valores atipicos, veamos que valores unicos tienen"
   ],
   "metadata": {
    "collapsed": false
   },
   "id": "bc6da5cbef73d592"
  },
  {
   "cell_type": "code",
   "outputs": [
    {
     "name": "stdout",
     "output_type": "stream",
     "text": [
      "swin\n",
      "0      134632\n",
      "255    123021\n",
      "245         1\n",
      "52          1\n",
      "154         1\n",
      "67          1\n",
      "5           1\n",
      "99          1\n",
      "202         1\n",
      "156         1\n",
      "42          1\n",
      "167         1\n",
      "168         1\n",
      "172         1\n",
      "87          1\n",
      "45          1\n",
      "103         1\n",
      "192         1\n",
      "14          1\n",
      "232         1\n",
      "31          1\n",
      "43          1\n",
      "Name: count, dtype: int64\n"
     ]
    }
   ],
   "source": [
    "print(unsw['swin'].value_counts())"
   ],
   "metadata": {
    "collapsed": false,
    "ExecuteTime": {
     "end_time": "2024-03-06T02:48:38.229446Z",
     "start_time": "2024-03-06T02:48:38.223445Z"
    }
   },
   "id": "512a1b00808dfec2",
   "execution_count": 198
  },
  {
   "cell_type": "markdown",
   "source": [
    "Ahora, que todas las columnas son numericas, podemos observar la correlación"
   ],
   "metadata": {
    "collapsed": false
   },
   "id": "ffbbe9157341f99e"
  },
  {
   "cell_type": "code",
   "outputs": [
    {
     "data": {
      "text/plain": "label                1.000000\nattack_cat           0.910364\nsttl                 0.624082\nid                   0.490584\nct_state_ttl         0.476559\nstate                0.462972\nct_dst_sport_ltm     0.371672\nswin                 0.364877\ndload                0.352169\ndwin                 0.339166\nrate                 0.335883\nct_src_dport_ltm     0.318518\nct_dst_src_ltm       0.299609\ndmean                0.295173\nstcpb                0.266585\ndtcpb                0.263543\nct_src_ltm           0.252498\nct_srv_dst           0.247812\nct_srv_src           0.246596\nct_dst_ltm           0.240776\nsload                0.165249\nis_sm_ips_ports      0.160126\nsinpkt               0.155454\ndpkts                0.097394\ndloss                0.075961\nservice              0.073552\ndbytes               0.060403\ndjit                 0.048819\nsynack               0.043250\nspkts                0.043040\ndinpkt               0.030136\ndur                  0.029096\nsmean                0.028372\ntcprtt               0.024668\nsbytes               0.019376\ndttl                 0.019369\nresponse_body_len    0.018930\nsjit                 0.016436\nct_flw_http_mthd     0.012237\nct_ftp_cmd           0.009092\nis_ftp_login         0.008762\nproto                0.008023\ntrans_depth          0.002246\nsloss                0.001828\nackdat               0.000817\ndtype: float64"
     },
     "execution_count": 37,
     "metadata": {},
     "output_type": "execute_result"
    }
   ],
   "source": [
    "unsw.corrwith(unsw['label']).abs().sort_values(ascending=False)"
   ],
   "metadata": {
    "collapsed": false,
    "ExecuteTime": {
     "end_time": "2024-03-06T00:04:52.956623Z",
     "start_time": "2024-03-06T00:04:52.656655Z"
    }
   },
   "id": "d55a1b73097bcbd9",
   "execution_count": 37
  },
  {
   "cell_type": "markdown",
   "source": [
    "Podemos ver que la correlación más alta es con la columna attack_cat, lo cual tiene sentido, ya que es la columna que nos dice si es un ataque o no, sin embargo, no la vamos a borrar, dado que podriamos usarla como un segundo target para el modelo intente decir que ataque es.\n",
    "\n",
    "Otro dato interesante es id, que tiene una correlación alta, pero solo es un identificador unico de la columna, por ende lo vamos a borrar."
   ],
   "metadata": {
    "collapsed": false
   },
   "id": "c4047f569b2da5d4"
  },
  {
   "cell_type": "code",
   "outputs": [
    {
     "data": {
      "text/plain": "label                1.000000\nattack_cat           0.910364\nsttl                 0.624082\nct_state_ttl         0.476559\nstate                0.462972\nct_dst_sport_ltm     0.371672\nswin                 0.364877\ndload                0.352169\ndwin                 0.339166\nrate                 0.335883\nct_src_dport_ltm     0.318518\nct_dst_src_ltm       0.299609\ndmean                0.295173\nstcpb                0.266585\ndtcpb                0.263543\nct_src_ltm           0.252498\nct_srv_dst           0.247812\nct_srv_src           0.246596\nct_dst_ltm           0.240776\nsload                0.165249\nis_sm_ips_ports      0.160126\nsinpkt               0.155454\ndpkts                0.097394\ndloss                0.075961\nservice              0.073552\ndbytes               0.060403\ndjit                 0.048819\nsynack               0.043250\nspkts                0.043040\ndinpkt               0.030136\ndur                  0.029096\nsmean                0.028372\ntcprtt               0.024668\nsbytes               0.019376\ndttl                 0.019369\nresponse_body_len    0.018930\nsjit                 0.016436\nct_flw_http_mthd     0.012237\nct_ftp_cmd           0.009092\nis_ftp_login         0.008762\nproto                0.008023\ntrans_depth          0.002246\nsloss                0.001828\nackdat               0.000817\ndtype: float64"
     },
     "execution_count": 38,
     "metadata": {},
     "output_type": "execute_result"
    }
   ],
   "source": [
    "unsw = unsw.drop(columns=['id'])\n",
    "unsw.corrwith(unsw['label']).abs().sort_values(ascending=False)"
   ],
   "metadata": {
    "collapsed": false,
    "ExecuteTime": {
     "end_time": "2024-03-06T00:04:53.194677Z",
     "start_time": "2024-03-06T00:04:52.957623Z"
    }
   },
   "id": "f66a33a6c811072c",
   "execution_count": 38
  },
  {
   "cell_type": "markdown",
   "source": [
    "Dicho esto, aun tenemos muchas columnas con poca correlacion, por ende vamos a borrar las columnas con correlacion menor a 0.1"
   ],
   "metadata": {
    "collapsed": false
   },
   "id": "ec108e06ca068c85"
  },
  {
   "cell_type": "code",
   "outputs": [],
   "source": [
    "columansToDrop = unsw.columns[unsw.corrwith(unsw['label']).abs() < 0.1]\n",
    "unsw = unsw.drop(columns=columansToDrop)"
   ],
   "metadata": {
    "collapsed": false,
    "ExecuteTime": {
     "end_time": "2024-03-06T00:04:53.434731Z",
     "start_time": "2024-03-06T00:04:53.195678Z"
    }
   },
   "id": "888551acfca9d892",
   "execution_count": 39
  },
  {
   "cell_type": "code",
   "outputs": [
    {
     "data": {
      "text/plain": "label               1.000000\nattack_cat          0.910364\nsttl                0.624082\nct_state_ttl        0.476559\nstate               0.462972\nct_dst_sport_ltm    0.371672\nrate                0.335883\nct_src_dport_ltm    0.318518\nct_dst_src_ltm      0.299609\nct_src_ltm          0.252498\nct_srv_dst          0.247812\nct_srv_src          0.246596\nct_dst_ltm          0.240776\nsload               0.165249\nsinpkt             -0.155454\nis_sm_ips_ports    -0.160126\ndtcpb              -0.263543\nstcpb              -0.266585\ndmean              -0.295173\ndwin               -0.339166\ndload              -0.352169\nswin               -0.364877\ndtype: float64"
     },
     "execution_count": 193,
     "metadata": {},
     "output_type": "execute_result"
    }
   ],
   "source": [
    "unsw.corrwith(unsw['label']).sort_values(ascending=False)"
   ],
   "metadata": {
    "collapsed": false,
    "ExecuteTime": {
     "end_time": "2024-03-06T02:46:41.171619Z",
     "start_time": "2024-03-06T02:46:41.098602Z"
    }
   },
   "id": "250f5992923d3e9a",
   "execution_count": 193
  },
  {
   "cell_type": "markdown",
   "source": [
    "Con esto, terminamos con una cantidad mucho más manejeable de columnas, y con una correlación más alta."
   ],
   "metadata": {
    "collapsed": false
   },
   "id": "9470255ee77647d3"
  },
  {
   "cell_type": "code",
   "outputs": [],
   "source": [
    "#Guardamos el dataset limpio\n",
    "unsw.to_csv('DataSets/UNSW_Limpio.csv', index=False)"
   ],
   "metadata": {
    "collapsed": false,
    "ExecuteTime": {
     "end_time": "2024-03-06T00:04:55.290971Z",
     "start_time": "2024-03-06T00:04:53.584765Z"
    }
   },
   "id": "a8fdc6bfe726b61c",
   "execution_count": 41
  },
  {
   "cell_type": "markdown",
   "source": [
    "## EDA de KDDCup99"
   ],
   "metadata": {
    "collapsed": false
   },
   "id": "ea27ec07f1218094"
  },
  {
   "cell_type": "code",
   "outputs": [],
   "source": [
    "kdd = pd.read_csv('DataSets/KDDCup99.csv')"
   ],
   "metadata": {
    "collapsed": false,
    "ExecuteTime": {
     "end_time": "2024-03-06T00:04:56.750766Z",
     "start_time": "2024-03-06T00:04:55.291935Z"
    }
   },
   "id": "9b5a93f0d85e6257",
   "execution_count": 42
  },
  {
   "cell_type": "code",
   "outputs": [
    {
     "data": {
      "text/plain": "   duration protocol_type service flag  src_bytes  dst_bytes  land  \\\n0         0           tcp    http   SF        181       5450     0   \n1         0           tcp    http   SF        239        486     0   \n2         0           tcp    http   SF        235       1337     0   \n3         0           tcp    http   SF        219       1337     0   \n4         0           tcp    http   SF        217       2032     0   \n\n   wrong_fragment  urgent  hot  ...  dst_host_diff_srv_rate  \\\n0               0       0    0  ...                     0.0   \n1               0       0    0  ...                     0.0   \n2               0       0    0  ...                     0.0   \n3               0       0    0  ...                     0.0   \n4               0       0    0  ...                     0.0   \n\n   dst_host_same_src_port_rate  dst_host_srv_diff_host_rate  \\\n0                         0.11                          0.0   \n1                         0.05                          0.0   \n2                         0.03                          0.0   \n3                         0.03                          0.0   \n4                         0.02                          0.0   \n\n   dst_host_serror_rate  dst_host_srv_serror_rate  dst_host_rerror_rate  \\\n0                   0.0                       0.0                   0.0   \n1                   0.0                       0.0                   0.0   \n2                   0.0                       0.0                   0.0   \n3                   0.0                       0.0                   0.0   \n4                   0.0                       0.0                   0.0   \n\n   dst_host_srv_rerror_rate   attack  Attack Type  Is attack  \n0                       0.0  normal.       normal          0  \n1                       0.0  normal.       normal          0  \n2                       0.0  normal.       normal          0  \n3                       0.0  normal.       normal          0  \n4                       0.0  normal.       normal          0  \n\n[5 rows x 44 columns]",
      "text/html": "<div>\n<style scoped>\n    .dataframe tbody tr th:only-of-type {\n        vertical-align: middle;\n    }\n\n    .dataframe tbody tr th {\n        vertical-align: top;\n    }\n\n    .dataframe thead th {\n        text-align: right;\n    }\n</style>\n<table border=\"1\" class=\"dataframe\">\n  <thead>\n    <tr style=\"text-align: right;\">\n      <th></th>\n      <th>duration</th>\n      <th>protocol_type</th>\n      <th>service</th>\n      <th>flag</th>\n      <th>src_bytes</th>\n      <th>dst_bytes</th>\n      <th>land</th>\n      <th>wrong_fragment</th>\n      <th>urgent</th>\n      <th>hot</th>\n      <th>...</th>\n      <th>dst_host_diff_srv_rate</th>\n      <th>dst_host_same_src_port_rate</th>\n      <th>dst_host_srv_diff_host_rate</th>\n      <th>dst_host_serror_rate</th>\n      <th>dst_host_srv_serror_rate</th>\n      <th>dst_host_rerror_rate</th>\n      <th>dst_host_srv_rerror_rate</th>\n      <th>attack</th>\n      <th>Attack Type</th>\n      <th>Is attack</th>\n    </tr>\n  </thead>\n  <tbody>\n    <tr>\n      <th>0</th>\n      <td>0</td>\n      <td>tcp</td>\n      <td>http</td>\n      <td>SF</td>\n      <td>181</td>\n      <td>5450</td>\n      <td>0</td>\n      <td>0</td>\n      <td>0</td>\n      <td>0</td>\n      <td>...</td>\n      <td>0.0</td>\n      <td>0.11</td>\n      <td>0.0</td>\n      <td>0.0</td>\n      <td>0.0</td>\n      <td>0.0</td>\n      <td>0.0</td>\n      <td>normal.</td>\n      <td>normal</td>\n      <td>0</td>\n    </tr>\n    <tr>\n      <th>1</th>\n      <td>0</td>\n      <td>tcp</td>\n      <td>http</td>\n      <td>SF</td>\n      <td>239</td>\n      <td>486</td>\n      <td>0</td>\n      <td>0</td>\n      <td>0</td>\n      <td>0</td>\n      <td>...</td>\n      <td>0.0</td>\n      <td>0.05</td>\n      <td>0.0</td>\n      <td>0.0</td>\n      <td>0.0</td>\n      <td>0.0</td>\n      <td>0.0</td>\n      <td>normal.</td>\n      <td>normal</td>\n      <td>0</td>\n    </tr>\n    <tr>\n      <th>2</th>\n      <td>0</td>\n      <td>tcp</td>\n      <td>http</td>\n      <td>SF</td>\n      <td>235</td>\n      <td>1337</td>\n      <td>0</td>\n      <td>0</td>\n      <td>0</td>\n      <td>0</td>\n      <td>...</td>\n      <td>0.0</td>\n      <td>0.03</td>\n      <td>0.0</td>\n      <td>0.0</td>\n      <td>0.0</td>\n      <td>0.0</td>\n      <td>0.0</td>\n      <td>normal.</td>\n      <td>normal</td>\n      <td>0</td>\n    </tr>\n    <tr>\n      <th>3</th>\n      <td>0</td>\n      <td>tcp</td>\n      <td>http</td>\n      <td>SF</td>\n      <td>219</td>\n      <td>1337</td>\n      <td>0</td>\n      <td>0</td>\n      <td>0</td>\n      <td>0</td>\n      <td>...</td>\n      <td>0.0</td>\n      <td>0.03</td>\n      <td>0.0</td>\n      <td>0.0</td>\n      <td>0.0</td>\n      <td>0.0</td>\n      <td>0.0</td>\n      <td>normal.</td>\n      <td>normal</td>\n      <td>0</td>\n    </tr>\n    <tr>\n      <th>4</th>\n      <td>0</td>\n      <td>tcp</td>\n      <td>http</td>\n      <td>SF</td>\n      <td>217</td>\n      <td>2032</td>\n      <td>0</td>\n      <td>0</td>\n      <td>0</td>\n      <td>0</td>\n      <td>...</td>\n      <td>0.0</td>\n      <td>0.02</td>\n      <td>0.0</td>\n      <td>0.0</td>\n      <td>0.0</td>\n      <td>0.0</td>\n      <td>0.0</td>\n      <td>normal.</td>\n      <td>normal</td>\n      <td>0</td>\n    </tr>\n  </tbody>\n</table>\n<p>5 rows × 44 columns</p>\n</div>"
     },
     "execution_count": 43,
     "metadata": {},
     "output_type": "execute_result"
    }
   ],
   "source": [
    "kdd.head()"
   ],
   "metadata": {
    "collapsed": false,
    "ExecuteTime": {
     "end_time": "2024-03-06T00:04:56.766768Z",
     "start_time": "2024-03-06T00:04:56.751765Z"
    }
   },
   "id": "525f43450db9045b",
   "execution_count": 43
  },
  {
   "cell_type": "code",
   "outputs": [
    {
     "data": {
      "text/plain": "duration                         int64\nprotocol_type                   object\nservice                         object\nflag                            object\nsrc_bytes                        int64\ndst_bytes                        int64\nland                             int64\nwrong_fragment                   int64\nurgent                           int64\nhot                              int64\nnum_failed_logins                int64\nlogged_in                        int64\nnum_compromised                  int64\nroot_shell                       int64\nsu_attempted                     int64\nnum_root                         int64\nnum_file_creations               int64\nnum_shells                       int64\nnum_access_files                 int64\nnum_outbound_cmds                int64\nis_host_login                    int64\nis_guest_login                   int64\ncount                            int64\nsrv_count                        int64\nserror_rate                    float64\nsrv_serror_rate                float64\nrerror_rate                    float64\nsrv_rerror_rate                float64\nsame_srv_rate                  float64\ndiff_srv_rate                  float64\nsrv_diff_host_rate             float64\ndst_host_count                   int64\ndst_host_srv_count               int64\ndst_host_same_srv_rate         float64\ndst_host_diff_srv_rate         float64\ndst_host_same_src_port_rate    float64\ndst_host_srv_diff_host_rate    float64\ndst_host_serror_rate           float64\ndst_host_srv_serror_rate       float64\ndst_host_rerror_rate           float64\ndst_host_srv_rerror_rate       float64\nattack                          object\nAttack Type                     object\nIs attack                        int64\ndtype: object"
     },
     "execution_count": 44,
     "metadata": {},
     "output_type": "execute_result"
    }
   ],
   "source": [
    "kdd.dtypes"
   ],
   "metadata": {
    "collapsed": false,
    "ExecuteTime": {
     "end_time": "2024-03-06T00:04:56.781772Z",
     "start_time": "2024-03-06T00:04:56.767769Z"
    }
   },
   "id": "caa79bd727b72501",
   "execution_count": 44
  },
  {
   "cell_type": "markdown",
   "source": [
    "Tenemos 44 columnas, donde 3 pueden ser nuestro target, Attack nos dice que ataque es, attack Type el tipo de ataque e Is attack es 0 si no lo es y 1 si lo es.\n",
    "\n",
    "Observemos la distribución de los ataques"
   ],
   "metadata": {
    "collapsed": false
   },
   "id": "cc1e5200f1c86e60"
  },
  {
   "cell_type": "code",
   "outputs": [
    {
     "data": {
      "text/plain": "attack\nsmurf.              280790\nneptune.            107201\nnormal.              97278\nback.                 2203\nsatan.                1589\nipsweep.              1247\nportsweep.            1040\nwarezclient.          1020\nteardrop.              979\npod.                   264\nnmap.                  231\nguess_passwd.           53\nbuffer_overflow.        30\nland.                   21\nwarezmaster.            20\nimap.                   12\nrootkit.                10\nloadmodule.              9\nftp_write.               8\nmultihop.                7\nphf.                     4\nperl.                    3\nspy.                     2\nName: count, dtype: int64"
     },
     "execution_count": 45,
     "metadata": {},
     "output_type": "execute_result"
    }
   ],
   "source": [
    "kdd['attack'].value_counts()"
   ],
   "metadata": {
    "collapsed": false,
    "ExecuteTime": {
     "end_time": "2024-03-06T00:04:56.827783Z",
     "start_time": "2024-03-06T00:04:56.782772Z"
    }
   },
   "id": "8cc25d2f1ba99a9b",
   "execution_count": 45
  },
  {
   "cell_type": "code",
   "outputs": [
    {
     "data": {
      "text/plain": "23"
     },
     "execution_count": 46,
     "metadata": {},
     "output_type": "execute_result"
    }
   ],
   "source": [
    "kdd['attack'].nunique()"
   ],
   "metadata": {
    "collapsed": false,
    "ExecuteTime": {
     "end_time": "2024-03-06T00:04:56.891797Z",
     "start_time": "2024-03-06T00:04:56.828782Z"
    }
   },
   "id": "d9da85ac6cbb745e",
   "execution_count": 46
  },
  {
   "cell_type": "code",
   "outputs": [
    {
     "data": {
      "text/plain": "<BarContainer object of 10 artists>"
     },
     "execution_count": 47,
     "metadata": {},
     "output_type": "execute_result"
    },
    {
     "data": {
      "text/plain": "<Figure size 2000x600 with 1 Axes>",
      "image/png": "[encoded data removed]"
     },
     "metadata": {},
     "output_type": "display_data"
    }
   ],
   "source": [
    "plt.figure(figsize=(20, 6))\n",
    "plt.bar(kdd['attack'].value_counts().nlargest(10).index, kdd['attack'].value_counts().nlargest(10))"
   ],
   "metadata": {
    "collapsed": false,
    "ExecuteTime": {
     "end_time": "2024-03-06T00:04:57.082840Z",
     "start_time": "2024-03-06T00:04:56.892797Z"
    }
   },
   "id": "5d2b12288e568ef5",
   "execution_count": 47
  },
  {
   "cell_type": "markdown",
   "source": [
    "Podemos ver que hay 22 ataques, y desde ahora podemos observar que la mayoria de los datos son de ataque, por lo cual, vamos a observar la distribución de los tipos de ataques"
   ],
   "metadata": {
    "collapsed": false
   },
   "id": "9b188c703c1f2b0d"
  },
  {
   "cell_type": "code",
   "outputs": [
    {
     "data": {
      "text/plain": "Attack Type\ndos       391458\nnormal     97278\nprobe       4107\nr2l         1126\nu2r           52\nName: count, dtype: int64"
     },
     "execution_count": 48,
     "metadata": {},
     "output_type": "execute_result"
    }
   ],
   "source": [
    "kdd['Attack Type'].value_counts()"
   ],
   "metadata": {
    "collapsed": false,
    "ExecuteTime": {
     "end_time": "2024-03-06T00:04:57.113847Z",
     "start_time": "2024-03-06T00:04:57.083840Z"
    }
   },
   "id": "fc442a31e857107f",
   "execution_count": 48
  },
  {
   "cell_type": "code",
   "outputs": [
    {
     "data": {
      "text/plain": "5"
     },
     "execution_count": 49,
     "metadata": {},
     "output_type": "execute_result"
    }
   ],
   "source": [
    "kdd['Attack Type'].nunique()"
   ],
   "metadata": {
    "collapsed": false,
    "ExecuteTime": {
     "end_time": "2024-03-06T00:04:57.177861Z",
     "start_time": "2024-03-06T00:04:57.114847Z"
    }
   },
   "id": "805ebecd83db1ac",
   "execution_count": 49
  },
  {
   "cell_type": "code",
   "outputs": [
    {
     "data": {
      "text/plain": "<BarContainer object of 5 artists>"
     },
     "execution_count": 50,
     "metadata": {},
     "output_type": "execute_result"
    },
    {
     "data": {
      "text/plain": "<Figure size 640x480 with 1 Axes>",
      "image/png": "[encoded data removed]"
     },
     "metadata": {},
     "output_type": "display_data"
    }
   ],
   "source": [
    "plt.bar(kdd['Attack Type'].value_counts().index, kdd['Attack Type'].value_counts())"
   ],
   "metadata": {
    "collapsed": false,
    "ExecuteTime": {
     "end_time": "2024-03-06T00:04:57.337897Z",
     "start_time": "2024-03-06T00:04:57.178862Z"
    }
   },
   "id": "2be4f991981dc7ce",
   "execution_count": 50
  },
  {
   "cell_type": "markdown",
   "source": [
    "Ahora, podemos ver que solo hay 4 tipos de ataques, donde la mayoria son ddos\n",
    "\n",
    "Ahora, observemos la distribución de Is attack"
   ],
   "metadata": {
    "collapsed": false
   },
   "id": "1bf986caca284fe6"
  },
  {
   "cell_type": "code",
   "outputs": [
    {
     "data": {
      "text/plain": "Is attack\n1    396743\n0     97278\nName: count, dtype: int64"
     },
     "execution_count": 51,
     "metadata": {},
     "output_type": "execute_result"
    }
   ],
   "source": [
    "kdd['Is attack'].value_counts()"
   ],
   "metadata": {
    "collapsed": false,
    "ExecuteTime": {
     "end_time": "2024-03-06T00:04:57.353901Z",
     "start_time": "2024-03-06T00:04:57.338898Z"
    }
   },
   "id": "e61b0338a2c8cb3a",
   "execution_count": 51
  },
  {
   "cell_type": "code",
   "outputs": [
    {
     "data": {
      "text/plain": "2"
     },
     "execution_count": 52,
     "metadata": {},
     "output_type": "execute_result"
    }
   ],
   "source": [
    "kdd['Is attack'].nunique()"
   ],
   "metadata": {
    "collapsed": false,
    "ExecuteTime": {
     "end_time": "2024-03-06T00:04:57.401912Z",
     "start_time": "2024-03-06T00:04:57.354901Z"
    }
   },
   "id": "6a483d7aab4511e7",
   "execution_count": 52
  },
  {
   "cell_type": "code",
   "outputs": [
    {
     "data": {
      "text/plain": "([<matplotlib.axis.XTick at 0x290c83db4c0>,\n  <matplotlib.axis.XTick at 0x290c83db490>],\n [Text(1, 0, '1'), Text(0, 0, '0')])"
     },
     "execution_count": 53,
     "metadata": {},
     "output_type": "execute_result"
    },
    {
     "data": {
      "text/plain": "<Figure size 640x480 with 1 Axes>",
      "image/png": "[encoded data removed]"
     },
     "metadata": {},
     "output_type": "display_data"
    }
   ],
   "source": [
    "plt.bar(kdd['Is attack'].value_counts().index, kdd['Is attack'].value_counts())\n",
    "plt.xticks(unsw['label'].value_counts().index, ['1','0'])"
   ],
   "metadata": {
    "collapsed": false,
    "ExecuteTime": {
     "end_time": "2024-03-06T00:04:57.497934Z",
     "start_time": "2024-03-06T00:04:57.402912Z"
    }
   },
   "id": "cc7275308e89ffc4",
   "execution_count": 53
  },
  {
   "cell_type": "code",
   "outputs": [
    {
     "data": {
      "text/plain": "<Figure size 640x480 with 1 Axes>",
      "image/png": "[encoded data removed]"
     },
     "metadata": {},
     "output_type": "display_data"
    }
   ],
   "source": [
    "labels = kdd['Is attack'].value_counts().index.tolist()\n",
    "sizes = kdd['Is attack'].value_counts().tolist()\n",
    "plt.pie(sizes, labels=labels, autopct='%1.1f%%')\n",
    "plt.title('Distributcion de Is attack')\n",
    "plt.show()"
   ],
   "metadata": {
    "collapsed": false,
    "ExecuteTime": {
     "end_time": "2024-03-06T00:04:57.561948Z",
     "start_time": "2024-03-06T00:04:57.498935Z"
    }
   },
   "id": "3e7aedbc64228703",
   "execution_count": 54
  },
  {
   "cell_type": "markdown",
   "source": [
    "Podemos ver que hay 2 valores únicos, y que hay más datos de ataques que de no ataques, lo cual se podía observar en attack_cat, pero ahora lo podemos ver de manera más clara. Esto podría ser un problema, ya que el modelo podría aprender a clasificar todo como ataque, por lo cual tendremos que tener cuidado con esto. En el peor de los casos, podamos usar el dataset de Kdd que incluye todos los datos para ver si tiene una mejor distribución de los datos."
   ],
   "metadata": {
    "collapsed": false
   },
   "id": "fe7493462d408495"
  },
  {
   "cell_type": "markdown",
   "source": [
    "Ahora observemos los datos categoricos, empezando por protocol_type"
   ],
   "metadata": {
    "collapsed": false
   },
   "id": "e5d61160658532de"
  },
  {
   "cell_type": "code",
   "outputs": [
    {
     "data": {
      "text/plain": "protocol_type\nicmp    283602\ntcp     190065\nudp      20354\nName: count, dtype: int64"
     },
     "execution_count": 55,
     "metadata": {},
     "output_type": "execute_result"
    }
   ],
   "source": [
    "kdd['protocol_type'].value_counts()"
   ],
   "metadata": {
    "collapsed": false,
    "ExecuteTime": {
     "end_time": "2024-03-06T00:04:57.593956Z",
     "start_time": "2024-03-06T00:04:57.562948Z"
    }
   },
   "id": "6f3d47cb50a6488b",
   "execution_count": 55
  },
  {
   "cell_type": "code",
   "outputs": [
    {
     "data": {
      "text/plain": "3"
     },
     "execution_count": 56,
     "metadata": {},
     "output_type": "execute_result"
    }
   ],
   "source": [
    "kdd['protocol_type'].nunique()"
   ],
   "metadata": {
    "collapsed": false,
    "ExecuteTime": {
     "end_time": "2024-03-06T00:04:57.656969Z",
     "start_time": "2024-03-06T00:04:57.594955Z"
    }
   },
   "id": "131ce83dcf9101c8",
   "execution_count": 56
  },
  {
   "cell_type": "code",
   "outputs": [
    {
     "data": {
      "text/plain": "<BarContainer object of 3 artists>"
     },
     "execution_count": 57,
     "metadata": {},
     "output_type": "execute_result"
    },
    {
     "data": {
      "text/plain": "<Figure size 640x480 with 1 Axes>",
      "image/png": "[encoded data removed]"
     },
     "metadata": {},
     "output_type": "display_data"
    }
   ],
   "source": [
    "plt.bar(kdd['protocol_type'].value_counts().index, kdd['protocol_type'].value_counts())"
   ],
   "metadata": {
    "collapsed": false,
    "ExecuteTime": {
     "end_time": "2024-03-06T00:04:57.797001Z",
     "start_time": "2024-03-06T00:04:57.658970Z"
    }
   },
   "id": "e7fffe5c79115dcf",
   "execution_count": 57
  },
  {
   "cell_type": "markdown",
   "source": [
    "Vemos que tenemos muchos menos que en unsw, sin embargo, en este caso no tenemos datos extraños. Dicho esto, podriamos tener problemas por la pequeña cantidad de categorias"
   ],
   "metadata": {
    "collapsed": false
   },
   "id": "ff236a5744e4a36a"
  },
  {
   "cell_type": "markdown",
   "source": [
    "Ahora, observemos la columna service"
   ],
   "metadata": {
    "collapsed": false
   },
   "id": "e2d1732f7f0bc5a9"
  },
  {
   "cell_type": "code",
   "outputs": [
    {
     "data": {
      "text/plain": "service\necr_i      281400\nprivate    110893\nhttp        64293\nsmtp         9723\nother        7237\n            ...  \nX11            11\ntim_i           7\npm_dump         1\ntftp_u          1\nred_i           1\nName: count, Length: 66, dtype: int64"
     },
     "execution_count": 58,
     "metadata": {},
     "output_type": "execute_result"
    }
   ],
   "source": [
    "kdd['service'].value_counts()"
   ],
   "metadata": {
    "collapsed": false,
    "ExecuteTime": {
     "end_time": "2024-03-06T00:04:57.828009Z",
     "start_time": "2024-03-06T00:04:57.798002Z"
    }
   },
   "id": "2a1a5680b4831c99",
   "execution_count": 58
  },
  {
   "cell_type": "code",
   "outputs": [
    {
     "data": {
      "text/plain": "66"
     },
     "execution_count": 59,
     "metadata": {},
     "output_type": "execute_result"
    }
   ],
   "source": [
    "kdd['service'].nunique()"
   ],
   "metadata": {
    "collapsed": false,
    "ExecuteTime": {
     "end_time": "2024-03-06T00:04:57.860015Z",
     "start_time": "2024-03-06T00:04:57.829008Z"
    }
   },
   "id": "3275bdb9acbe077e",
   "execution_count": 59
  },
  {
   "cell_type": "code",
   "outputs": [
    {
     "data": {
      "text/plain": "<BarContainer object of 10 artists>"
     },
     "execution_count": 60,
     "metadata": {},
     "output_type": "execute_result"
    },
    {
     "data": {
      "text/plain": "<Figure size 2000x600 with 1 Axes>",
      "image/png": "[encoded data removed]"
     },
     "metadata": {},
     "output_type": "display_data"
    }
   ],
   "source": [
    "plt.figure(figsize=(20, 6))\n",
    "plt.bar(kdd['service'].value_counts().nlargest(10).index, kdd['service'].value_counts().nlargest(10))"
   ],
   "metadata": {
    "collapsed": false,
    "ExecuteTime": {
     "end_time": "2024-03-06T00:04:58.036055Z",
     "start_time": "2024-03-06T00:04:57.861017Z"
    }
   },
   "id": "148c87a32a7a6ff2",
   "execution_count": 60
  },
  {
   "cell_type": "markdown",
   "source": [
    "Ahore tenemos muchos servicios, 66 en total, donde la mayoria son erc_i, tendriamos que investigar que significa esto."
   ],
   "metadata": {
    "collapsed": false
   },
   "id": "2a48cc8f0f2daa94"
  },
  {
   "cell_type": "markdown",
   "source": [
    "Ahora, observemos la columna flag"
   ],
   "metadata": {
    "collapsed": false
   },
   "id": "f4843b526c0cd50c"
  },
  {
   "cell_type": "code",
   "outputs": [
    {
     "data": {
      "text/plain": "flag\nSF        378440\nS0         87007\nREJ        26875\nRSTR         903\nRSTO         579\nSH           107\nS1            57\nS2            24\nRSTOS0        11\nS3            10\nOTH            8\nName: count, dtype: int64"
     },
     "execution_count": 61,
     "metadata": {},
     "output_type": "execute_result"
    }
   ],
   "source": [
    "kdd['flag'].value_counts()"
   ],
   "metadata": {
    "collapsed": false,
    "ExecuteTime": {
     "end_time": "2024-03-06T00:04:58.068062Z",
     "start_time": "2024-03-06T00:04:58.037055Z"
    }
   },
   "id": "81524e1e8a280a2",
   "execution_count": 61
  },
  {
   "cell_type": "code",
   "outputs": [
    {
     "data": {
      "text/plain": "11"
     },
     "execution_count": 62,
     "metadata": {},
     "output_type": "execute_result"
    }
   ],
   "source": [
    "kdd['flag'].nunique()"
   ],
   "metadata": {
    "collapsed": false,
    "ExecuteTime": {
     "end_time": "2024-03-06T00:04:58.100070Z",
     "start_time": "2024-03-06T00:04:58.069063Z"
    }
   },
   "id": "ebd7e4f4394251e0",
   "execution_count": 62
  },
  {
   "cell_type": "code",
   "outputs": [
    {
     "data": {
      "text/plain": "<BarContainer object of 11 artists>"
     },
     "execution_count": 63,
     "metadata": {},
     "output_type": "execute_result"
    },
    {
     "data": {
      "text/plain": "<Figure size 1300x600 with 1 Axes>",
      "image/png": "[encoded data removed]"
     },
     "metadata": {},
     "output_type": "display_data"
    }
   ],
   "source": [
    "plt.figure(figsize=(13, 6))\n",
    "plt.bar(kdd['flag'].value_counts().index, kdd['flag'].value_counts())"
   ],
   "metadata": {
    "collapsed": false,
    "ExecuteTime": {
     "end_time": "2024-03-06T00:04:58.292113Z",
     "start_time": "2024-03-06T00:04:58.101070Z"
    }
   },
   "id": "52c53d7756f1991b",
   "execution_count": 63
  },
  {
   "cell_type": "markdown",
   "source": [
    "Podemos ver que hay 11 valores únicos, y que la mayoría son SF, que significa que la conexión fue establecida y que no hubo problemas. De nuevo, tenemos varias columnas con pocos datos"
   ],
   "metadata": {
    "collapsed": false
   },
   "id": "641adbe1cb38812"
  },
  {
   "cell_type": "markdown",
   "source": [
    "Ahora que observamos todas las columnas categoricas, vamos a observar la correlación, para esto, tenemos que usar label encoder"
   ],
   "metadata": {
    "collapsed": false
   },
   "id": "e4fba8e8d475f796"
  },
  {
   "cell_type": "code",
   "outputs": [],
   "source": [
    "kdd['protocol_type'] = le.fit_transform(kdd['protocol_type'])\n",
    "kdd['service'] = le.fit_transform(kdd['service'])\n",
    "kdd['flag'] = le.fit_transform(kdd['flag'])\n",
    "kdd['Attack Type'] = kdd['Attack Type'].replace('normal', '0')\n",
    "kdd['Attack Type'] = le.fit_transform(kdd['Attack Type'])\n",
    "kdd['attack'] = kdd['attack'].replace('normal.', '0')\n",
    "kdd['attack'] = le.fit_transform(kdd['attack'])"
   ],
   "metadata": {
    "collapsed": false,
    "ExecuteTime": {
     "end_time": "2024-03-06T00:04:58.702206Z",
     "start_time": "2024-03-06T00:04:58.293113Z"
    }
   },
   "id": "67d701023bdfd1e4",
   "execution_count": 64
  },
  {
   "cell_type": "markdown",
   "source": [
    "Verificamos que los datos se hayan transformado correctamente, y que las conexiones normales sean 0"
   ],
   "metadata": {
    "collapsed": false
   },
   "id": "f0e0e229a95d35ef"
  },
  {
   "cell_type": "code",
   "outputs": [
    {
     "name": "stdout",
     "output_type": "stream",
     "text": [
      "[1 2 0]\n",
      "[22 50 17 11  3 56 18 13 39 14 40 45 43 19 48 59 31 29 47 20 52 32 65 10\n",
      " 30 24  8  7 38 49  0 37 23 16 44 15  5 62 26 27 12  9 55 54 25 21  6 42\n",
      " 53 63 34 35 33 51 64  4  2 28 36 60  1 61 41 57 58 46]\n",
      "[ 9  6  1  7  5  8  2  4  3  0 10]\n",
      "[0 4 1 3 2]\n",
      "[ 0  2  8 12 10 18  4 14 20 15  6  7  3  1  5 17 13 11  9 22 21 19 16]\n"
     ]
    }
   ],
   "source": [
    "print(kdd['protocol_type'].unique())\n",
    "print(kdd['service'].unique())\n",
    "print(kdd['flag'].unique())\n",
    "print(kdd['Attack Type'].unique())\n",
    "print(kdd['attack'].unique())"
   ],
   "metadata": {
    "collapsed": false,
    "ExecuteTime": {
     "end_time": "2024-03-06T00:04:58.734212Z",
     "start_time": "2024-03-06T00:04:58.707207Z"
    }
   },
   "id": "208240fc75c412ec",
   "execution_count": 65
  },
  {
   "cell_type": "code",
   "outputs": [
    {
     "data": {
      "text/plain": "0    0\n1    0\n2    0\n3    0\n4    0\nName: attack, dtype: int32"
     },
     "execution_count": 66,
     "metadata": {},
     "output_type": "execute_result"
    }
   ],
   "source": [
    "kdd['attack'].head()"
   ],
   "metadata": {
    "collapsed": false,
    "ExecuteTime": {
     "end_time": "2024-03-06T00:04:58.750215Z",
     "start_time": "2024-03-06T00:04:58.735213Z"
    }
   },
   "id": "37e21799567dd704",
   "execution_count": 66
  },
  {
   "cell_type": "code",
   "outputs": [
    {
     "data": {
      "text/plain": "0    0\n1    0\n2    0\n3    0\n4    0\nName: Attack Type, dtype: int32"
     },
     "execution_count": 67,
     "metadata": {},
     "output_type": "execute_result"
    }
   ],
   "source": [
    "kdd['Attack Type'].head()"
   ],
   "metadata": {
    "collapsed": false,
    "ExecuteTime": {
     "end_time": "2024-03-06T00:04:58.798226Z",
     "start_time": "2024-03-06T00:04:58.751217Z"
    }
   },
   "id": "af896677b6c3b714",
   "execution_count": 67
  },
  {
   "cell_type": "markdown",
   "source": [
    "Ahora, observemos la correlación"
   ],
   "metadata": {
    "collapsed": false
   },
   "id": "471d556b2b442d8b"
  },
  {
   "cell_type": "code",
   "outputs": [
    {
     "data": {
      "text/plain": "duration                       0\nprotocol_type                  0\nservice                        0\nflag                           0\nsrc_bytes                      0\ndst_bytes                      0\nland                           0\nwrong_fragment                 0\nurgent                         0\nhot                            0\nnum_failed_logins              0\nlogged_in                      0\nnum_compromised                0\nroot_shell                     0\nsu_attempted                   0\nnum_root                       0\nnum_file_creations             0\nnum_shells                     0\nnum_access_files               0\nnum_outbound_cmds              0\nis_host_login                  0\nis_guest_login                 0\ncount                          0\nsrv_count                      0\nserror_rate                    0\nsrv_serror_rate                0\nrerror_rate                    0\nsrv_rerror_rate                0\nsame_srv_rate                  0\ndiff_srv_rate                  0\nsrv_diff_host_rate             0\ndst_host_count                 0\ndst_host_srv_count             0\ndst_host_same_srv_rate         0\ndst_host_diff_srv_rate         0\ndst_host_same_src_port_rate    0\ndst_host_srv_diff_host_rate    0\ndst_host_serror_rate           0\ndst_host_srv_serror_rate       0\ndst_host_rerror_rate           0\ndst_host_srv_rerror_rate       0\nattack                         0\nAttack Type                    0\nIs attack                      0\ndtype: int64"
     },
     "execution_count": 68,
     "metadata": {},
     "output_type": "execute_result"
    }
   ],
   "source": [
    "kdd.isna().sum()"
   ],
   "metadata": {
    "collapsed": false,
    "ExecuteTime": {
     "end_time": "2024-03-06T00:04:58.846237Z",
     "start_time": "2024-03-06T00:04:58.799227Z"
    }
   },
   "id": "47538c72a1d4976",
   "execution_count": 68
  },
  {
   "cell_type": "code",
   "outputs": [
    {
     "name": "stderr",
     "output_type": "stream",
     "text": [
      "C:\\Users\\Usuario\\OneDrive\\Escritorio\\Cosas\\Cosas de la U\\Semestre 7\\pdg\\pdg\\EDA\\.venv\\lib\\site-packages\\numpy\\lib\\function_base.py:2897: RuntimeWarning: invalid value encountered in divide\n",
      "  c /= stddev[:, None]\n",
      "C:\\Users\\Usuario\\OneDrive\\Escritorio\\Cosas\\Cosas de la U\\Semestre 7\\pdg\\pdg\\EDA\\.venv\\lib\\site-packages\\numpy\\lib\\function_base.py:2898: RuntimeWarning: invalid value encountered in divide\n",
      "  c /= stddev[None, :]\n"
     ]
    },
    {
     "data": {
      "text/plain": "Is attack                      1.000000\nAttack Type                    0.948661\nattack                         0.879475\nlogged_in                      0.795282\ncount                          0.752978\ndst_host_count                 0.642110\nprotocol_type                  0.616601\nsrv_count                      0.566829\ndst_host_same_src_port_rate    0.481458\nsrv_diff_host_rate             0.364687\nsame_srv_rate                  0.247405\ndst_host_srv_serror_rate       0.227975\nserror_rate                    0.227739\ndst_host_serror_rate           0.227205\nsrv_serror_rate                0.227189\ndst_host_srv_diff_host_rate    0.204958\nflag                           0.155672\nservice                        0.131723\nduration                       0.118014\ndst_host_diff_srv_rate         0.115901\ndst_host_same_srv_rate         0.109950\ndst_host_srv_count             0.062566\nnum_access_files               0.054268\ndst_bytes                      0.037709\nis_guest_login                 0.032299\nwrong_fragment                 0.023630\nnum_file_creations             0.018671\ndiff_srv_rate                  0.016522\nnum_shells                     0.014951\nnum_root                       0.011006\nsu_attempted                   0.008789\nhot                            0.006327\nroot_shell                     0.005871\nnum_compromised                0.005046\ndst_host_srv_rerror_rate       0.003404\nrerror_rate                    0.003190\nsrv_rerror_rate                0.003162\nland                           0.002542\nurgent                         0.001498\nnum_failed_logins              0.001060\nsrc_bytes                      0.000936\ndst_host_rerror_rate           0.000860\nnum_outbound_cmds                   NaN\nis_host_login                       NaN\ndtype: float64"
     },
     "execution_count": 69,
     "metadata": {},
     "output_type": "execute_result"
    }
   ],
   "source": [
    "kdd.corrwith(kdd['Is attack']).abs().sort_values(ascending=False)"
   ],
   "metadata": {
    "collapsed": false,
    "ExecuteTime": {
     "end_time": "2024-03-06T00:04:59.386359Z",
     "start_time": "2024-03-06T00:04:58.847238Z"
    }
   },
   "id": "66289473517adb3",
   "execution_count": 69
  },
  {
   "cell_type": "markdown",
   "source": [
    "De nuevo, no nos interesan las 3 primeras columnas, dado que son nuestras columnas \"target\", pero nos podrian ser utiles para posibles modelos futuros, por lo cual no las vamos a borrar.\n",
    "\n",
    "Dicho esto, de nuevo, vamos a filtrar las columnas con correlación menor a 0.1"
   ],
   "metadata": {
    "collapsed": false
   },
   "id": "788e00e12ce2c0cc"
  },
  {
   "cell_type": "code",
   "outputs": [],
   "source": [
    "columansToDrop = kdd.columns[kdd.corrwith(kdd['Is attack']).abs() < 0.1]\n",
    "kdd = kdd.drop(columns=columansToDrop)"
   ],
   "metadata": {
    "collapsed": false,
    "ExecuteTime": {
     "end_time": "2024-03-06T00:05:00.022502Z",
     "start_time": "2024-03-06T00:04:59.387360Z"
    }
   },
   "id": "c8bb37cf0558cf40",
   "execution_count": 70
  },
  {
   "cell_type": "code",
   "outputs": [
    {
     "data": {
      "text/plain": "Is attack                      1.000000\nAttack Type                    0.948661\nattack                         0.879475\nlogged_in                      0.795282\ncount                          0.752978\ndst_host_count                 0.642110\nprotocol_type                  0.616601\nsrv_count                      0.566829\ndst_host_same_src_port_rate    0.481458\nsrv_diff_host_rate             0.364687\nsame_srv_rate                  0.247405\ndst_host_srv_serror_rate       0.227975\nserror_rate                    0.227739\ndst_host_serror_rate           0.227205\nsrv_serror_rate                0.227189\ndst_host_srv_diff_host_rate    0.204958\nflag                           0.155672\nservice                        0.131723\nduration                       0.118014\ndst_host_diff_srv_rate         0.115901\ndst_host_same_srv_rate         0.109950\nnum_outbound_cmds                   NaN\nis_host_login                       NaN\ndtype: float64"
     },
     "execution_count": 71,
     "metadata": {},
     "output_type": "execute_result"
    }
   ],
   "source": [
    "kdd.corrwith(kdd['Is attack']).abs().sort_values(ascending=False)"
   ],
   "metadata": {
    "collapsed": false,
    "ExecuteTime": {
     "end_time": "2024-03-06T00:05:00.342575Z",
     "start_time": "2024-03-06T00:05:00.025503Z"
    }
   },
   "id": "343b0010cdcec4ba",
   "execution_count": 71
  },
  {
   "cell_type": "markdown",
   "source": [
    "Con esto, terminamos el EDA de este dataset"
   ],
   "metadata": {
    "collapsed": false
   },
   "id": "3559867a87997e73"
  },
  {
   "cell_type": "code",
   "outputs": [],
   "source": [
    "kdd.to_csv('DataSets/KDDCup99_Limpio.csv', index=False)\n"
   ],
   "metadata": {
    "collapsed": false,
    "ExecuteTime": {
     "end_time": "2024-03-06T00:05:03.691343Z",
     "start_time": "2024-03-06T00:05:00.343575Z"
    }
   },
   "id": "3d803d5f23ae65aa",
   "execution_count": 72
  }
 ],
 "metadata": {
  "kernelspec": {
   "display_name": "Python 3",
   "language": "python",
   "name": "python3"
  },
  "language_info": {
   "codemirror_mode": {
    "name": "ipython",
    "version": 2
   },
   "file_extension": ".py",
   "mimetype": "text/x-python",
   "name": "python",
   "nbconvert_exporter": "python",
   "pygments_lexer": "ipython2",
   "version": "2.7.6"
  }
 },
 "nbformat": 4,
 "nbformat_minor": 5
}
