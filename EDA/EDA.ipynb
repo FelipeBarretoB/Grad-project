{
 "cells": [
  {
   "cell_type": "markdown",
   "source": [
    "# EDA\n",
    "### en este archivo se realiza el analisis exploratorio de los datasets"
   ],
   "metadata": {
    "collapsed": false
   },
   "id": "cfe8d4b2aaeb4be7"
  },
  {
   "cell_type": "code",
   "outputs": [],
   "source": [
    "# importamos las librerias necesarias\n",
    "import pandas as pd\n",
    "import matplotlib.pyplot as plt\n",
    "import numpy as np\n",
    "from sklearn.preprocessing import LabelEncoder"
   ],
   "metadata": {
    "collapsed": true,
    "ExecuteTime": {
     "end_time": "2024-03-26T00:46:56.924669Z",
     "start_time": "2024-03-26T00:46:38.797913Z"
    }
   },
   "id": "initial_id",
   "execution_count": 1
  },
  {
   "cell_type": "markdown",
   "source": [
    "## EDA de Internet firewall data"
   ],
   "metadata": {
    "collapsed": false
   },
   "id": "7451505a8013f559"
  },
  {
   "cell_type": "code",
   "outputs": [],
   "source": [
    "ifd = pd.read_csv('DataSets/Internet_Firewall_Data.csv')"
   ],
   "metadata": {
    "collapsed": false,
    "ExecuteTime": {
     "end_time": "2024-03-26T00:46:57.068735Z",
     "start_time": "2024-03-26T00:46:56.925670Z"
    }
   },
   "id": "85c5a77c937f9f03",
   "execution_count": 2
  },
  {
   "cell_type": "code",
   "outputs": [
    {
     "data": {
      "text/plain": "   Source Port  Destination Port  NAT Source Port  NAT Destination Port  \\\n0        57222                53            54587                    53   \n1        56258              3389            56258                  3389   \n2         6881             50321            43265                 50321   \n3        50553              3389            50553                  3389   \n4        50002               443            45848                   443   \n\n  Action  Bytes  Bytes Sent  Bytes Received  Packets  Elapsed Time (sec)  \\\n0  allow    177          94              83        2                  30   \n1  allow   4768        1600            3168       19                  17   \n2  allow    238         118             120        2                1199   \n3  allow   3327        1438            1889       15                  17   \n4  allow  25358        6778           18580       31                  16   \n\n   pkts_sent  pkts_received  \n0          1              1  \n1         10              9  \n2          1              1  \n3          8              7  \n4         13             18  ",
      "text/html": "<div>\n<style scoped>\n    .dataframe tbody tr th:only-of-type {\n        vertical-align: middle;\n    }\n\n    .dataframe tbody tr th {\n        vertical-align: top;\n    }\n\n    .dataframe thead th {\n        text-align: right;\n    }\n</style>\n<table border=\"1\" class=\"dataframe\">\n  <thead>\n    <tr style=\"text-align: right;\">\n      <th></th>\n      <th>Source Port</th>\n      <th>Destination Port</th>\n      <th>NAT Source Port</th>\n      <th>NAT Destination Port</th>\n      <th>Action</th>\n      <th>Bytes</th>\n      <th>Bytes Sent</th>\n      <th>Bytes Received</th>\n      <th>Packets</th>\n      <th>Elapsed Time (sec)</th>\n      <th>pkts_sent</th>\n      <th>pkts_received</th>\n    </tr>\n  </thead>\n  <tbody>\n    <tr>\n      <th>0</th>\n      <td>57222</td>\n      <td>53</td>\n      <td>54587</td>\n      <td>53</td>\n      <td>allow</td>\n      <td>177</td>\n      <td>94</td>\n      <td>83</td>\n      <td>2</td>\n      <td>30</td>\n      <td>1</td>\n      <td>1</td>\n    </tr>\n    <tr>\n      <th>1</th>\n      <td>56258</td>\n      <td>3389</td>\n      <td>56258</td>\n      <td>3389</td>\n      <td>allow</td>\n      <td>4768</td>\n      <td>1600</td>\n      <td>3168</td>\n      <td>19</td>\n      <td>17</td>\n      <td>10</td>\n      <td>9</td>\n    </tr>\n    <tr>\n      <th>2</th>\n      <td>6881</td>\n      <td>50321</td>\n      <td>43265</td>\n      <td>50321</td>\n      <td>allow</td>\n      <td>238</td>\n      <td>118</td>\n      <td>120</td>\n      <td>2</td>\n      <td>1199</td>\n      <td>1</td>\n      <td>1</td>\n    </tr>\n    <tr>\n      <th>3</th>\n      <td>50553</td>\n      <td>3389</td>\n      <td>50553</td>\n      <td>3389</td>\n      <td>allow</td>\n      <td>3327</td>\n      <td>1438</td>\n      <td>1889</td>\n      <td>15</td>\n      <td>17</td>\n      <td>8</td>\n      <td>7</td>\n    </tr>\n    <tr>\n      <th>4</th>\n      <td>50002</td>\n      <td>443</td>\n      <td>45848</td>\n      <td>443</td>\n      <td>allow</td>\n      <td>25358</td>\n      <td>6778</td>\n      <td>18580</td>\n      <td>31</td>\n      <td>16</td>\n      <td>13</td>\n      <td>18</td>\n    </tr>\n  </tbody>\n</table>\n</div>"
     },
     "execution_count": 3,
     "metadata": {},
     "output_type": "execute_result"
    }
   ],
   "source": [
    "ifd.head()"
   ],
   "metadata": {
    "collapsed": false,
    "ExecuteTime": {
     "end_time": "2024-03-26T00:46:57.100743Z",
     "start_time": "2024-03-26T00:46:57.069736Z"
    }
   },
   "id": "41c4fae926c75753",
   "execution_count": 3
  },
  {
   "cell_type": "markdown",
   "source": [
    "Observemos la distribucion de los de los ataques (nuestra columna target, Action)"
   ],
   "metadata": {
    "collapsed": false
   },
   "id": "d71cf23797fb775b"
  },
  {
   "cell_type": "code",
   "outputs": [
    {
     "data": {
      "text/plain": "<Figure size 640x480 with 1 Axes>",
      "image/png": "[encoded data removed]"
     },
     "metadata": {},
     "output_type": "display_data"
    }
   ],
   "source": [
    "categorias= ifd['Action']\n",
    "plt.bar(categorias.value_counts().index, categorias.value_counts())\n",
    "plt.show()"
   ],
   "metadata": {
    "collapsed": false,
    "ExecuteTime": {
     "end_time": "2024-03-26T00:46:57.512835Z",
     "start_time": "2024-03-26T00:46:57.102744Z"
    }
   },
   "id": "cb3fbb91443ab8d1",
   "execution_count": 4
  },
  {
   "cell_type": "markdown",
   "source": [
    "Podemos ver, que tenemos muy pocos datos de reset-both, veamos cuantos son"
   ],
   "metadata": {
    "collapsed": false
   },
   "id": "62b6a56bab9df79"
  },
  {
   "cell_type": "code",
   "outputs": [
    {
     "data": {
      "text/plain": "Action\nallow         37640\ndeny          14987\ndrop          12851\nreset-both       54\nName: count, dtype: int64"
     },
     "execution_count": 5,
     "metadata": {},
     "output_type": "execute_result"
    }
   ],
   "source": [
    "ifd['Action'].value_counts()"
   ],
   "metadata": {
    "collapsed": false,
    "ExecuteTime": {
     "end_time": "2024-03-26T00:46:57.528838Z",
     "start_time": "2024-03-26T00:46:57.513836Z"
    }
   },
   "id": "50b2c3a664ebfeb4",
   "execution_count": 5
  },
  {
   "cell_type": "code",
   "outputs": [
    {
     "data": {
      "text/plain": "(65532, 12)"
     },
     "execution_count": 6,
     "metadata": {},
     "output_type": "execute_result"
    }
   ],
   "source": [
    "ifd.shape"
   ],
   "metadata": {
    "collapsed": false,
    "ExecuteTime": {
     "end_time": "2024-03-26T00:46:57.576849Z",
     "start_time": "2024-03-26T00:46:57.529839Z"
    }
   },
   "id": "c11e0240ae731ee5",
   "execution_count": 6
  },
  {
   "cell_type": "markdown",
   "source": [
    "Podemos ver que de los 65532 datos, solo 54 es reset-both, por lo cual, si intentamos usar el modelo para que tome esta acción en específico, probablemente no lo haga bien, ya que no tiene suficientes datos para aprender."
   ],
   "metadata": {
    "collapsed": false
   },
   "id": "2b39b58ab23de543"
  },
  {
   "cell_type": "markdown",
   "source": [
    "Además, ahora también podemos ver que tenemos 27892 datos de ataques, y 37640 de no ataques, lo cual podría ser un problema, dado que tenemos casí 10 mil datos más de no ataques que de ataques, lo cual podría hacer que el modelo aprenda a clasificar todo como no ataque, y no queremos eso."
   ],
   "metadata": {
    "collapsed": false
   },
   "id": "14ed2f2ca1ddb77"
  },
  {
   "cell_type": "markdown",
   "source": [
    "Ahora, observemos los puertos"
   ],
   "metadata": {
    "collapsed": false
   },
   "id": "c230cda1c06b8791"
  },
  {
   "cell_type": "code",
   "outputs": [
    {
     "data": {
      "text/plain": "Source Port              int64\nDestination Port         int64\nNAT Source Port          int64\nNAT Destination Port     int64\nAction                  object\nBytes                    int64\nBytes Sent               int64\nBytes Received           int64\nPackets                  int64\nElapsed Time (sec)       int64\npkts_sent                int64\npkts_received            int64\ndtype: object"
     },
     "execution_count": 7,
     "metadata": {},
     "output_type": "execute_result"
    }
   ],
   "source": [
    "ifd.dtypes"
   ],
   "metadata": {
    "collapsed": false,
    "ExecuteTime": {
     "end_time": "2024-03-26T00:46:57.592853Z",
     "start_time": "2024-03-26T00:46:57.577849Z"
    }
   },
   "id": "dc3e6f43bd0c7e6c",
   "execution_count": 7
  },
  {
   "cell_type": "markdown",
   "source": [
    "Podemos ver que aunque son de tipo int, estos no son valores continuos, sino que son categoricos, por lo cual, no tiene sentido hacer un histograma, pero si podemos ver cuantos valores únicos hay"
   ],
   "metadata": {
    "collapsed": false
   },
   "id": "47d3283879310515"
  },
  {
   "cell_type": "code",
   "outputs": [
    {
     "name": "stdout",
     "output_type": "stream",
     "text": [
      "Source Port valores numero de valores unicos: 22724\n",
      "Destination Port valores numero de valores unicos: 3273\n",
      "NAT Source Port valores numero de valores unicos: 29152\n",
      "NAT Destination Port valores numero de valores unicos: 2533\n"
     ]
    }
   ],
   "source": [
    "print('Source Port valores numero de valores unicos:', ifd['Source Port'].nunique())\n",
    "print('Destination Port valores numero de valores unicos:', ifd['Destination Port'].nunique())\n",
    "print('NAT Source Port valores numero de valores unicos:', ifd['NAT Source Port'].nunique())\n",
    "print('NAT Destination Port valores numero de valores unicos:', ifd['NAT Destination Port'].nunique())"
   ],
   "metadata": {
    "collapsed": false,
    "ExecuteTime": {
     "end_time": "2024-03-26T00:46:57.656943Z",
     "start_time": "2024-03-26T00:46:57.593853Z"
    }
   },
   "id": "3fa1245fa1709b01",
   "execution_count": 8
  },
  {
   "cell_type": "code",
   "outputs": [
    {
     "name": "stdout",
     "output_type": "stream",
     "text": [
      "Source Port\n",
      "58638    840\n",
      "Name: count, dtype: int64\n",
      "Destination Port\n",
      "53    15414\n",
      "Name: count, dtype: int64\n",
      "NAT Source Port\n",
      "0    28432\n",
      "Name: count, dtype: int64\n",
      "NAT Destination Port\n",
      "0    28432\n",
      "Name: count, dtype: int64\n"
     ]
    }
   ],
   "source": [
    "#Ahora veamos los valores más comunes\n",
    "print(ifd['Source Port'].value_counts().nlargest(1))\n",
    "print(ifd['Destination Port'].value_counts().nlargest(1))\n",
    "print(ifd['NAT Source Port'].value_counts().nlargest(1))\n",
    "print(ifd['NAT Destination Port'].value_counts().nlargest(1))"
   ],
   "metadata": {
    "collapsed": false,
    "ExecuteTime": {
     "end_time": "2024-03-26T00:46:57.688950Z",
     "start_time": "2024-03-26T00:46:57.657943Z"
    }
   },
   "id": "d3ae2931ce492dde",
   "execution_count": 9
  },
  {
   "cell_type": "markdown",
   "source": [
    "Aquí podemos ver algo interesante, en ambos casos para NAT, el puerto más comun es 0, lo cual es raro, ya que el puerto 0 no existe, por lo cual, probablemente sea un valor nulo, lo cual tendremos en cuenta cuando vayamos a limpiar los datos para el modelo."
   ],
   "metadata": {
    "collapsed": false
   },
   "id": "b10771d163b5147d"
  },
  {
   "cell_type": "markdown",
   "source": [
    "Ahora, recordemos que nuestra variable target es Action, y esta es una variable categorica, para cualcular la correlación pasaremos los datos a numericos, para esto usaremos el metodo de LabelEncoder"
   ],
   "metadata": {
    "collapsed": false
   },
   "id": "a0eb8d156c9dd70b"
  },
  {
   "cell_type": "code",
   "outputs": [
    {
     "data": {
      "text/plain": "Action\n0    37640\n1    14987\n2    12851\n3       54\nName: count, dtype: int64"
     },
     "execution_count": 10,
     "metadata": {},
     "output_type": "execute_result"
    }
   ],
   "source": [
    "le = LabelEncoder()\n",
    "ifd['Action'] = le.fit_transform(ifd['Action'])\n",
    "ifd['Action'].value_counts()"
   ],
   "metadata": {
    "collapsed": false,
    "ExecuteTime": {
     "end_time": "2024-03-26T00:46:57.736961Z",
     "start_time": "2024-03-26T00:46:57.690949Z"
    }
   },
   "id": "8b28f200d4ce246d",
   "execution_count": 10
  },
  {
   "cell_type": "markdown",
   "source": [
    "Ahora podemos ver que 0 es no ataque, y de 1 a 3 son ataques, por lo cual, podemos calcular la correlación"
   ],
   "metadata": {
    "collapsed": false
   },
   "id": "3553f6b00baf85fd"
  },
  {
   "cell_type": "code",
   "outputs": [
    {
     "data": {
      "text/plain": "Action                  1.000000\nNAT Source Port         0.686893\nNAT Destination Port    0.214765\nElapsed Time (sec)      0.170684\nDestination Port        0.095110\nSource Port             0.038343\nBytes Received          0.023794\npkts_received           0.021679\nPackets                 0.015562\nBytes                   0.013546\npkts_sent               0.009842\nBytes Sent              0.004570\ndtype: float64"
     },
     "execution_count": 11,
     "metadata": {},
     "output_type": "execute_result"
    }
   ],
   "source": [
    "ifd.corrwith(ifd['Action']).abs().sort_values(ascending=False)"
   ],
   "metadata": {
    "collapsed": false,
    "ExecuteTime": {
     "end_time": "2024-03-26T00:46:57.768967Z",
     "start_time": "2024-03-26T00:46:57.737962Z"
    }
   },
   "id": "aebeabba296e8ea3",
   "execution_count": 11
  },
  {
   "cell_type": "markdown",
   "source": [
    "Podemos ver algo preocupante, una de las mayores correlaciones es con las columnas NAT, que ya habiamos mencionado que tenian muchos valores nulos, por lo cual, probablemente no sean de mucha ayuda, por lo cual las vamos a borrar.\n",
    "\n",
    "Dicho esto, podemos ver que source port y destination port tienen una correlación baja, por lo cual las vamos a borrar también para evitar problemas, dado que son columnas categoricas que hasta el momento estamos usando como numericas, lo cual podría causar problemas."
   ],
   "metadata": {
    "collapsed": false
   },
   "id": "7332a8fd614392be"
  },
  {
   "cell_type": "code",
   "outputs": [
    {
     "data": {
      "text/plain": "   Action  Bytes  Bytes Sent  Bytes Received  Packets  Elapsed Time (sec)  \\\n0       0    177          94              83        2                  30   \n1       0   4768        1600            3168       19                  17   \n2       0    238         118             120        2                1199   \n3       0   3327        1438            1889       15                  17   \n4       0  25358        6778           18580       31                  16   \n\n   pkts_sent  pkts_received  \n0          1              1  \n1         10              9  \n2          1              1  \n3          8              7  \n4         13             18  ",
      "text/html": "<div>\n<style scoped>\n    .dataframe tbody tr th:only-of-type {\n        vertical-align: middle;\n    }\n\n    .dataframe tbody tr th {\n        vertical-align: top;\n    }\n\n    .dataframe thead th {\n        text-align: right;\n    }\n</style>\n<table border=\"1\" class=\"dataframe\">\n  <thead>\n    <tr style=\"text-align: right;\">\n      <th></th>\n      <th>Action</th>\n      <th>Bytes</th>\n      <th>Bytes Sent</th>\n      <th>Bytes Received</th>\n      <th>Packets</th>\n      <th>Elapsed Time (sec)</th>\n      <th>pkts_sent</th>\n      <th>pkts_received</th>\n    </tr>\n  </thead>\n  <tbody>\n    <tr>\n      <th>0</th>\n      <td>0</td>\n      <td>177</td>\n      <td>94</td>\n      <td>83</td>\n      <td>2</td>\n      <td>30</td>\n      <td>1</td>\n      <td>1</td>\n    </tr>\n    <tr>\n      <th>1</th>\n      <td>0</td>\n      <td>4768</td>\n      <td>1600</td>\n      <td>3168</td>\n      <td>19</td>\n      <td>17</td>\n      <td>10</td>\n      <td>9</td>\n    </tr>\n    <tr>\n      <th>2</th>\n      <td>0</td>\n      <td>238</td>\n      <td>118</td>\n      <td>120</td>\n      <td>2</td>\n      <td>1199</td>\n      <td>1</td>\n      <td>1</td>\n    </tr>\n    <tr>\n      <th>3</th>\n      <td>0</td>\n      <td>3327</td>\n      <td>1438</td>\n      <td>1889</td>\n      <td>15</td>\n      <td>17</td>\n      <td>8</td>\n      <td>7</td>\n    </tr>\n    <tr>\n      <th>4</th>\n      <td>0</td>\n      <td>25358</td>\n      <td>6778</td>\n      <td>18580</td>\n      <td>31</td>\n      <td>16</td>\n      <td>13</td>\n      <td>18</td>\n    </tr>\n  </tbody>\n</table>\n</div>"
     },
     "execution_count": 12,
     "metadata": {},
     "output_type": "execute_result"
    }
   ],
   "source": [
    "ifd = ifd.drop(columns=['NAT Source Port', 'NAT Destination Port', 'Source Port', 'Destination Port'])\n",
    "ifd.head()"
   ],
   "metadata": {
    "collapsed": false,
    "ExecuteTime": {
     "end_time": "2024-03-26T00:46:57.816978Z",
     "start_time": "2024-03-26T00:46:57.769968Z"
    }
   },
   "id": "c68064efe716ee32",
   "execution_count": 12
  },
  {
   "cell_type": "markdown",
   "source": [
    "Ahora, busquemos valores atípicos"
   ],
   "metadata": {
    "collapsed": false
   },
   "id": "5b3d3bb8bec59cd4"
  },
  {
   "cell_type": "code",
   "outputs": [
    {
     "data": {
      "text/plain": "             Action         Bytes    Bytes Sent  Bytes Received       Packets  \\\ncount  65532.000000  6.553200e+04  6.553200e+04    6.553200e+04  6.553200e+04   \nmean       0.623375  9.712395e+04  2.238580e+04    7.473815e+04  1.028660e+02   \nstd        0.794945  5.618439e+06  3.828139e+06    2.463208e+06  5.133002e+03   \nmin        0.000000  6.000000e+01  6.000000e+01    0.000000e+00  1.000000e+00   \n25%        0.000000  6.600000e+01  6.600000e+01    0.000000e+00  1.000000e+00   \n50%        0.000000  1.680000e+02  9.000000e+01    7.900000e+01  2.000000e+00   \n75%        1.000000  7.522500e+02  2.100000e+02    4.490000e+02  6.000000e+00   \nmax        3.000000  1.269359e+09  9.484772e+08    3.208818e+08  1.036116e+06   \n\n       Elapsed Time (sec)      pkts_sent  pkts_received  \ncount        65532.000000   65532.000000   65532.000000  \nmean            65.833577      41.399530      61.466505  \nstd            302.461762    3218.871288    2223.332271  \nmin              0.000000       1.000000       0.000000  \n25%              0.000000       1.000000       0.000000  \n50%             15.000000       1.000000       1.000000  \n75%             30.000000       3.000000       2.000000  \nmax          10824.000000  747520.000000  327208.000000  ",
      "text/html": "<div>\n<style scoped>\n    .dataframe tbody tr th:only-of-type {\n        vertical-align: middle;\n    }\n\n    .dataframe tbody tr th {\n        vertical-align: top;\n    }\n\n    .dataframe thead th {\n        text-align: right;\n    }\n</style>\n<table border=\"1\" class=\"dataframe\">\n  <thead>\n    <tr style=\"text-align: right;\">\n      <th></th>\n      <th>Action</th>\n      <th>Bytes</th>\n      <th>Bytes Sent</th>\n      <th>Bytes Received</th>\n      <th>Packets</th>\n      <th>Elapsed Time (sec)</th>\n      <th>pkts_sent</th>\n      <th>pkts_received</th>\n    </tr>\n  </thead>\n  <tbody>\n    <tr>\n      <th>count</th>\n      <td>65532.000000</td>\n      <td>6.553200e+04</td>\n      <td>6.553200e+04</td>\n      <td>6.553200e+04</td>\n      <td>6.553200e+04</td>\n      <td>65532.000000</td>\n      <td>65532.000000</td>\n      <td>65532.000000</td>\n    </tr>\n    <tr>\n      <th>mean</th>\n      <td>0.623375</td>\n      <td>9.712395e+04</td>\n      <td>2.238580e+04</td>\n      <td>7.473815e+04</td>\n      <td>1.028660e+02</td>\n      <td>65.833577</td>\n      <td>41.399530</td>\n      <td>61.466505</td>\n    </tr>\n    <tr>\n      <th>std</th>\n      <td>0.794945</td>\n      <td>5.618439e+06</td>\n      <td>3.828139e+06</td>\n      <td>2.463208e+06</td>\n      <td>5.133002e+03</td>\n      <td>302.461762</td>\n      <td>3218.871288</td>\n      <td>2223.332271</td>\n    </tr>\n    <tr>\n      <th>min</th>\n      <td>0.000000</td>\n      <td>6.000000e+01</td>\n      <td>6.000000e+01</td>\n      <td>0.000000e+00</td>\n      <td>1.000000e+00</td>\n      <td>0.000000</td>\n      <td>1.000000</td>\n      <td>0.000000</td>\n    </tr>\n    <tr>\n      <th>25%</th>\n      <td>0.000000</td>\n      <td>6.600000e+01</td>\n      <td>6.600000e+01</td>\n      <td>0.000000e+00</td>\n      <td>1.000000e+00</td>\n      <td>0.000000</td>\n      <td>1.000000</td>\n      <td>0.000000</td>\n    </tr>\n    <tr>\n      <th>50%</th>\n      <td>0.000000</td>\n      <td>1.680000e+02</td>\n      <td>9.000000e+01</td>\n      <td>7.900000e+01</td>\n      <td>2.000000e+00</td>\n      <td>15.000000</td>\n      <td>1.000000</td>\n      <td>1.000000</td>\n    </tr>\n    <tr>\n      <th>75%</th>\n      <td>1.000000</td>\n      <td>7.522500e+02</td>\n      <td>2.100000e+02</td>\n      <td>4.490000e+02</td>\n      <td>6.000000e+00</td>\n      <td>30.000000</td>\n      <td>3.000000</td>\n      <td>2.000000</td>\n    </tr>\n    <tr>\n      <th>max</th>\n      <td>3.000000</td>\n      <td>1.269359e+09</td>\n      <td>9.484772e+08</td>\n      <td>3.208818e+08</td>\n      <td>1.036116e+06</td>\n      <td>10824.000000</td>\n      <td>747520.000000</td>\n      <td>327208.000000</td>\n    </tr>\n  </tbody>\n</table>\n</div>"
     },
     "execution_count": 13,
     "metadata": {},
     "output_type": "execute_result"
    }
   ],
   "source": [
    "ifd.describe()"
   ],
   "metadata": {
    "collapsed": false,
    "ExecuteTime": {
     "end_time": "2024-03-26T00:46:57.848985Z",
     "start_time": "2024-03-26T00:46:57.817979Z"
    }
   },
   "id": "d924987278308c0c",
   "execution_count": 13
  },
  {
   "cell_type": "markdown",
   "source": [
    "Podemos ver que todas las columnas tienen valores atípicos y que la desviación estandar es muy alta, en todos los casos, por lo cual ya sabemos que van a haber valores atípicos, por lo cual, vamos a hacer un boxplot para verlos"
   ],
   "metadata": {
    "collapsed": false
   },
   "id": "4d9765291b731e95"
  },
  {
   "cell_type": "code",
   "outputs": [
    {
     "data": {
      "text/plain": "Text(0.5, 1.0, 'Box Plot')"
     },
     "execution_count": 14,
     "metadata": {},
     "output_type": "execute_result"
    },
    {
     "data": {
      "text/plain": "<Figure size 2000x1000 with 1 Axes>",
      "image/png": "[encoded data removed]"
     },
     "metadata": {},
     "output_type": "display_data"
    }
   ],
   "source": [
    "plt.figure(figsize=(20, 10))\n",
    "plt.boxplot(ifd['pkts_received'],vert=False)\n",
    "plt.xlabel('Packages received')\n",
    "plt.title('Box Plot')"
   ],
   "metadata": {
    "collapsed": false,
    "ExecuteTime": {
     "end_time": "2024-03-26T00:46:58.037027Z",
     "start_time": "2024-03-26T00:46:57.850986Z"
    }
   },
   "id": "cd519f02a21facc3",
   "execution_count": 14
  },
  {
   "cell_type": "markdown",
   "source": [
    "Dado que apenas se puede ver, y que tenemos muchos, vamos a calcular cuantos valores atipicos tenemos"
   ],
   "metadata": {
    "collapsed": false
   },
   "id": "30731b837db8406e"
  },
  {
   "cell_type": "code",
   "outputs": [],
   "source": [
    "#dado que haremos esto varias veces, vamos a hacer una funcion\n",
    "\n",
    "def datos_atipicos(df,column):\n",
    "    q1 = df[column].quantile(0.25)\n",
    "    q3 = df[column].quantile(0.75)\n",
    "\n",
    "    # sacamos el rango intercuartil\n",
    "    limite_inferior = q1\n",
    "    limite_superior = q3\n",
    "\n",
    "    # contamos el numero de datos atipicos\n",
    "    num_atypical_q1 = (df[column] < limite_inferior).sum()\n",
    "    num_atypical_q3 = (df[column] > limite_superior).sum()\n",
    "    num_atypical = num_atypical_q1 + num_atypical_q3\n",
    "    \n",
    "    print(\"Datos atipicos en:\", column)\n",
    "    print(\"Cantidad de datos atipicos en\", column, \"inferior:\", num_atypical_q1)\n",
    "    print(\"Cantidad de datos atipicos en\", column, \"superior:\", num_atypical_q3)\n",
    "    print(\"Cantidad de datos atipicos en\", column, \":\", num_atypical)\n",
    "    print(\"Porcentaje de datos atipicos en\", column, \":\", num_atypical / df.shape[0] * 100, \"% \\n\")\n",
    "\n"
   ],
   "metadata": {
    "collapsed": false,
    "ExecuteTime": {
     "end_time": "2024-03-26T00:46:58.053031Z",
     "start_time": "2024-03-26T00:46:58.038028Z"
    }
   },
   "id": "cf1563e45670e90f",
   "execution_count": 15
  },
  {
   "cell_type": "code",
   "outputs": [
    {
     "name": "stdout",
     "output_type": "stream",
     "text": [
      "Datos atipicos en: pkts_received\n",
      "Cantidad de datos atipicos en pkts_received inferior: 0\n",
      "Cantidad de datos atipicos en pkts_received superior: 15916\n",
      "Cantidad de datos atipicos en pkts_received : 15916\n",
      "Porcentaje de datos atipicos en pkts_received : 24.287371055362268 % \n",
      "\n",
      "Datos atipicos en: pkts_sent\n",
      "Cantidad de datos atipicos en pkts_sent inferior: 0\n",
      "Cantidad de datos atipicos en pkts_sent superior: 15924\n",
      "Cantidad de datos atipicos en pkts_sent : 15924\n",
      "Porcentaje de datos atipicos en pkts_sent : 24.299578831715802 % \n",
      "\n",
      "Datos atipicos en: Bytes Received\n",
      "Cantidad de datos atipicos en Bytes Received inferior: 0\n",
      "Cantidad de datos atipicos en Bytes Received superior: 16356\n",
      "Cantidad de datos atipicos en Bytes Received : 16356\n",
      "Porcentaje de datos atipicos en Bytes Received : 24.958798754806814 % \n",
      "\n",
      "Datos atipicos en: Bytes Sent\n",
      "Cantidad de datos atipicos en Bytes Sent inferior: 7452\n",
      "Cantidad de datos atipicos en Bytes Sent superior: 16377\n",
      "Cantidad de datos atipicos en Bytes Sent : 23829\n",
      "Porcentaje de datos atipicos en Bytes Sent : 36.36238784105475 % \n",
      "\n",
      "Datos atipicos en: Elapsed Time (sec)\n",
      "Cantidad de datos atipicos en Elapsed Time (sec) inferior: 0\n",
      "Cantidad de datos atipicos en Elapsed Time (sec) superior: 15510\n",
      "Cantidad de datos atipicos en Elapsed Time (sec) : 15510\n",
      "Porcentaje de datos atipicos en Elapsed Time (sec) : 23.667826405420254 % \n"
     ]
    }
   ],
   "source": [
    "datos_atipicos(ifd,'pkts_received')\n",
    "datos_atipicos(ifd,'pkts_sent')\n",
    "datos_atipicos(ifd,'Bytes Received')\n",
    "datos_atipicos(ifd,'Bytes Sent')\n",
    "datos_atipicos(ifd,'Elapsed Time (sec)')"
   ],
   "metadata": {
    "collapsed": false,
    "ExecuteTime": {
     "end_time": "2024-03-26T00:46:58.085038Z",
     "start_time": "2024-03-26T00:46:58.054032Z"
    }
   },
   "id": "bd5e44ee6cc8cb1a",
   "execution_count": 16
  },
  {
   "cell_type": "markdown",
   "source": [
    "Dado que tenemos muchos valores atipicos, vamos a borrarlos, para esto vamos a usar el rango intercuartil, que es la diferencia entre el tercer y primer cuartil, y vamos a borrar los datos que esten por fuera de este rango\n",
    "\n",
    "Una vez hecho esto vamos a revisar la correlación de nuevo"
   ],
   "metadata": {
    "collapsed": false
   },
   "id": "d71322b72db5592d"
  },
  {
   "cell_type": "code",
   "outputs": [],
   "source": [
    "#dado que haremos esto varias veces, vamos a hacer una funcion\n",
    "def borrar_atipicos(df,column):\n",
    "    q1 = df[column].quantile(0.25)\n",
    "    q3 = df[column].quantile(0.75)\n",
    "\n",
    "    # sacamos el rango intercuartil\n",
    "    iqr = q3 - q1\n",
    "    limite_inferior = q1 - 1.5 * iqr\n",
    "    limite_superior = q3 + 1.5 * iqr\n",
    "\n",
    "    # borramos los datos atipicos\n",
    "    df = df[(df[column] > limite_inferior) & (df[column] < limite_superior)]\n",
    "    return df"
   ],
   "metadata": {
    "collapsed": false,
    "ExecuteTime": {
     "end_time": "2024-03-26T00:46:58.101042Z",
     "start_time": "2024-03-26T00:46:58.086038Z"
    }
   },
   "id": "834db1c395dfe36c",
   "execution_count": 17
  },
  {
   "cell_type": "markdown",
   "source": [
    "Datos antes de borrar atipicos"
   ],
   "metadata": {
    "collapsed": false
   },
   "id": "dea2109a4be11dfb"
  },
  {
   "cell_type": "code",
   "outputs": [
    {
     "data": {
      "text/plain": "Action                1.000000\nBytes Sent           -0.004570\npkts_sent            -0.009842\nBytes                -0.013546\nPackets              -0.015562\npkts_received        -0.021679\nBytes Received       -0.023794\nElapsed Time (sec)   -0.170684\ndtype: float64"
     },
     "execution_count": 18,
     "metadata": {},
     "output_type": "execute_result"
    }
   ],
   "source": [
    "ifd.corrwith(ifd['Action']).sort_values(ascending=False)"
   ],
   "metadata": {
    "collapsed": false,
    "ExecuteTime": {
     "end_time": "2024-03-26T00:46:58.149053Z",
     "start_time": "2024-03-26T00:46:58.102042Z"
    }
   },
   "id": "772bd34d970d7ace",
   "execution_count": 18
  },
  {
   "cell_type": "code",
   "outputs": [
    {
     "name": "stdout",
     "output_type": "stream",
     "text": [
      "Datos atipicos en: pkts_received\n",
      "Cantidad de datos atipicos en pkts_received inferior: 0\n",
      "Cantidad de datos atipicos en pkts_received superior: 0\n",
      "Cantidad de datos atipicos en pkts_received : 0\n",
      "Porcentaje de datos atipicos en pkts_received : nan % \n"
     ]
    },
    {
     "name": "stderr",
     "output_type": "stream",
     "text": [
      "C:\\Users\\Usuario\\AppData\\Local\\Temp\\ipykernel_32156\\101508194.py:20: RuntimeWarning: invalid value encountered in scalar divide\n",
      "  print(\"Porcentaje de datos atipicos en\", column, \":\", num_atypical / df.shape[0] * 100, \"% \\n\")\n"
     ]
    },
    {
     "data": {
      "text/plain": "(65532, 8)"
     },
     "execution_count": 19,
     "metadata": {},
     "output_type": "execute_result"
    }
   ],
   "source": [
    "ifd_limpio = borrar_atipicos(ifd,'pkts_received')\n",
    "ifd_limpio = borrar_atipicos(ifd_limpio,'pkts_sent')\n",
    "ifd_limpio = borrar_atipicos(ifd_limpio,'Bytes Received')\n",
    "ifd_limpio = borrar_atipicos(ifd_limpio,'Bytes Sent')\n",
    "ifd_limpio = borrar_atipicos(ifd_limpio,'Elapsed Time (sec)')\n",
    "datos_atipicos(ifd_limpio,'pkts_received')\n",
    "ifd.shape"
   ],
   "metadata": {
    "collapsed": false,
    "ExecuteTime": {
     "end_time": "2024-03-26T00:46:58.181060Z",
     "start_time": "2024-03-26T00:46:58.150053Z"
    }
   },
   "id": "3b13e0ccc3016441",
   "execution_count": 19
  },
  {
   "cell_type": "code",
   "outputs": [
    {
     "data": {
      "text/plain": "Action               NaN\nBytes                NaN\nBytes Sent           NaN\nBytes Received       NaN\nPackets              NaN\nElapsed Time (sec)   NaN\npkts_sent            NaN\npkts_received        NaN\ndtype: float64"
     },
     "execution_count": 20,
     "metadata": {},
     "output_type": "execute_result"
    }
   ],
   "source": [
    "ifd_limpio.corrwith(ifd_limpio['Action']).sort_values(ascending=False)"
   ],
   "metadata": {
    "collapsed": false,
    "ExecuteTime": {
     "end_time": "2024-03-26T00:46:58.197063Z",
     "start_time": "2024-03-26T00:46:58.182060Z"
    }
   },
   "id": "85446019c97f1bbb",
   "execution_count": 20
  },
  {
   "cell_type": "markdown",
   "source": [
    "Tenemos un problema, resulta que borrar todos los datos atipicos, nos borró todos los datos, por lo cual, vamos a borrar los datos atípicos de una columna a la vez, empezando por la que tenian mayor correlación"
   ],
   "metadata": {
    "collapsed": false
   },
   "id": "38ff4dd2b675ef32"
  },
  {
   "cell_type": "code",
   "outputs": [
    {
     "name": "stdout",
     "output_type": "stream",
     "text": [
      "Porcentaje de reducción del dataset original 12.461087712873095 %\n"
     ]
    },
    {
     "data": {
      "text/plain": "Action                1.000000\nBytes Received       -0.037773\nBytes                -0.039127\npkts_received        -0.044351\nPackets              -0.048765\npkts_sent            -0.057484\nBytes Sent           -0.065966\nElapsed Time (sec)   -0.760625\ndtype: float64"
     },
     "execution_count": 21,
     "metadata": {},
     "output_type": "execute_result"
    }
   ],
   "source": [
    "ifd_limpio = borrar_atipicos(ifd,'Elapsed Time (sec)')\n",
    "print('Porcentaje de reducción del dataset original', 100 - (ifd_limpio.shape[0]/ifd.shape[0] * 100),'%')\n",
    "ifd_limpio.corrwith(ifd_limpio['Action']).sort_values(ascending=False)"
   ],
   "metadata": {
    "collapsed": false,
    "ExecuteTime": {
     "end_time": "2024-03-26T00:46:58.245074Z",
     "start_time": "2024-03-26T00:46:58.198064Z"
    }
   },
   "id": "cf192c7e19cb33b1",
   "execution_count": 21
  },
  {
   "cell_type": "code",
   "outputs": [
    {
     "name": "stdout",
     "output_type": "stream",
     "text": [
      "Porcentaje de reducción del dataset original 27.493438320209975 %\n"
     ]
    },
    {
     "data": {
      "text/plain": "Action                1.000000\nBytes Sent           -0.170903\npkts_sent            -0.290941\nBytes                -0.420200\nPackets              -0.514929\npkts_received        -0.631394\nBytes Received       -0.659004\nElapsed Time (sec)   -0.769431\ndtype: float64"
     },
     "execution_count": 22,
     "metadata": {},
     "output_type": "execute_result"
    }
   ],
   "source": [
    "ifd_limpio = borrar_atipicos(ifd_limpio,'Bytes Received')\n",
    "print('Porcentaje de reducción del dataset original', 100 - (ifd_limpio.shape[0]/ifd.shape[0] * 100),'%')\n",
    "ifd_limpio.corrwith(ifd_limpio['Action']).sort_values(ascending=False)"
   ],
   "metadata": {
    "collapsed": false,
    "ExecuteTime": {
     "end_time": "2024-03-26T00:46:58.276082Z",
     "start_time": "2024-03-26T00:46:58.247075Z"
    }
   },
   "id": "bdcb960a8cabe517",
   "execution_count": 22
  },
  {
   "cell_type": "code",
   "outputs": [
    {
     "name": "stdout",
     "output_type": "stream",
     "text": [
      "Porcentaje de reducción del dataset original 29.321552829152182 %\n"
     ]
    },
    {
     "data": {
      "text/plain": "Action                1.000000\nBytes Sent           -0.147992\npkts_sent            -0.257871\nBytes                -0.425055\nPackets              -0.599481\nBytes Received       -0.667218\npkts_received        -0.713910\nElapsed Time (sec)   -0.772796\ndtype: float64"
     },
     "execution_count": 23,
     "metadata": {},
     "output_type": "execute_result"
    }
   ],
   "source": [
    "ifd_limpio = borrar_atipicos(ifd_limpio,'pkts_received')\n",
    "print('Porcentaje de reducción del dataset original', 100 - (ifd_limpio.shape[0]/ifd.shape[0] * 100),'%')\n",
    "ifd_limpio.corrwith(ifd_limpio['Action']).sort_values(ascending=False)"
   ],
   "metadata": {
    "collapsed": false,
    "ExecuteTime": {
     "end_time": "2024-03-26T00:46:58.307088Z",
     "start_time": "2024-03-26T00:46:58.277082Z"
    }
   },
   "id": "8fb30743fbdfdd4b",
   "execution_count": 23
  },
  {
   "cell_type": "code",
   "outputs": [
    {
     "name": "stdout",
     "output_type": "stream",
     "text": [
      "Porcentaje de reducción del dataset original 32.570347311237256 %\n"
     ]
    },
    {
     "data": {
      "text/plain": "Action                1.000000\nBytes Sent           -0.181397\npkts_sent            -0.211623\nBytes                -0.550538\nBytes Received       -0.673677\npkts_received        -0.743147\nPackets              -0.781798\nElapsed Time (sec)   -0.787754\ndtype: float64"
     },
     "execution_count": 24,
     "metadata": {},
     "output_type": "execute_result"
    }
   ],
   "source": [
    "ifd_limpio = borrar_atipicos(ifd_limpio,'Packets')\n",
    "print('Porcentaje de reducción del dataset original', 100 - (ifd_limpio.shape[0]/ifd.shape[0] * 100),'%')\n",
    "ifd_limpio.corrwith(ifd_limpio['Action']).sort_values(ascending=False)"
   ],
   "metadata": {
    "collapsed": false,
    "ExecuteTime": {
     "end_time": "2024-03-26T00:46:58.339095Z",
     "start_time": "2024-03-26T00:46:58.308088Z"
    }
   },
   "id": "82e4a5253d290ae4",
   "execution_count": 24
  },
  {
   "cell_type": "code",
   "outputs": [
    {
     "name": "stdout",
     "output_type": "stream",
     "text": [
      "Porcentaje de reducción del dataset original 33.51644997863639 %\n"
     ]
    },
    {
     "data": {
      "text/plain": "Action                1.000000\npkts_sent            -0.207743\nBytes Sent           -0.397477\nBytes Received       -0.692542\nBytes                -0.695185\npkts_received        -0.739628\nPackets              -0.782343\nElapsed Time (sec)   -0.785053\ndtype: float64"
     },
     "execution_count": 25,
     "metadata": {},
     "output_type": "execute_result"
    }
   ],
   "source": [
    "ifd_limpio = borrar_atipicos(ifd_limpio,'Bytes')\n",
    "print('Porcentaje de reducción del dataset original', 100 - (ifd_limpio.shape[0]/ifd.shape[0] * 100),'%')\n",
    "ifd_limpio.corrwith(ifd_limpio['Action']).sort_values(ascending=False)"
   ],
   "metadata": {
    "collapsed": false,
    "ExecuteTime": {
     "end_time": "2024-03-26T00:46:58.371102Z",
     "start_time": "2024-03-26T00:46:58.340095Z"
    }
   },
   "id": "c81264cca2190c3",
   "execution_count": 25
  },
  {
   "cell_type": "markdown",
   "source": [
    "Ya solo faltan los datos atipicos de pkts_sent y Bytes Sent, pero dado que ya hemos reducido el tamaño del dataset original en un 33.5%, y que estos no tenian la mayor correlación, vamos a dejarlo así, y vamos a observar la correlación de nuevo"
   ],
   "metadata": {
    "collapsed": false
   },
   "id": "2e847b1808fa4085"
  },
  {
   "cell_type": "code",
   "outputs": [
    {
     "data": {
      "text/plain": "Action                1.000000\npkts_sent            -0.207743\nBytes Sent           -0.397477\nBytes Received       -0.692542\nBytes                -0.695185\npkts_received        -0.739628\nPackets              -0.782343\nElapsed Time (sec)   -0.785053\ndtype: float64"
     },
     "execution_count": 26,
     "metadata": {},
     "output_type": "execute_result"
    }
   ],
   "source": [
    "ifd_limpio.corrwith(ifd_limpio['Action']).sort_values(ascending=False)"
   ],
   "metadata": {
    "collapsed": false,
    "ExecuteTime": {
     "end_time": "2024-03-26T00:46:58.387107Z",
     "start_time": "2024-03-26T00:46:58.372103Z"
    }
   },
   "id": "a07775ae7004317",
   "execution_count": 26
  },
  {
   "cell_type": "markdown",
   "source": [
    "Podemos ver que ahora tenemos una correlación más alta, en todas las columnas, pero un dataset más pequeño."
   ],
   "metadata": {
    "collapsed": false
   },
   "id": "cfd1bcf69ab03bec"
  },
  {
   "cell_type": "markdown",
   "source": [
    "Con esto, termina el EDA de este dataset "
   ],
   "metadata": {
    "collapsed": false
   },
   "id": "6e984a1db2255987"
  },
  {
   "cell_type": "code",
   "outputs": [],
   "source": [
    "ifd_limpio.to_csv('DataSets/Internet_Firewall_Data_Limpio.csv', index=False)"
   ],
   "metadata": {
    "collapsed": false,
    "ExecuteTime": {
     "end_time": "2024-03-26T00:46:58.483128Z",
     "start_time": "2024-03-26T00:46:58.388106Z"
    }
   },
   "id": "51967413fa8cc120",
   "execution_count": 27
  },
  {
   "cell_type": "markdown",
   "source": [
    "## EDA de UNSW_NB15"
   ],
   "metadata": {
    "collapsed": false
   },
   "id": "bf0736f4c874c151"
  },
  {
   "cell_type": "code",
   "outputs": [
    {
     "data": {
      "text/plain": "   id       dur proto service state  spkts  dpkts  sbytes  dbytes       rate  \\\n0   1  0.121478   tcp       -   FIN      6      4     258     172  74.087490   \n1   2  0.649902   tcp       -   FIN     14     38     734   42014  78.473372   \n2   3  1.623129   tcp       -   FIN      8     16     364   13186  14.170161   \n3   4  1.681642   tcp     ftp   FIN     12     12     628     770  13.677108   \n4   5  0.449454   tcp       -   FIN     10      6     534     268  33.373826   \n\n   ...  ct_dst_sport_ltm  ct_dst_src_ltm  is_ftp_login  ct_ftp_cmd  \\\n0  ...                 1               1             0           0   \n1  ...                 1               2             0           0   \n2  ...                 1               3             0           0   \n3  ...                 1               3             1           1   \n4  ...                 1              40             0           0   \n\n   ct_flw_http_mthd  ct_src_ltm  ct_srv_dst  is_sm_ips_ports  attack_cat  \\\n0                 0           1           1                0      Normal   \n1                 0           1           6                0      Normal   \n2                 0           2           6                0      Normal   \n3                 0           2           1                0      Normal   \n4                 0           2          39                0      Normal   \n\n   label  \n0      0  \n1      0  \n2      0  \n3      0  \n4      0  \n\n[5 rows x 45 columns]",
      "text/html": "<div>\n<style scoped>\n    .dataframe tbody tr th:only-of-type {\n        vertical-align: middle;\n    }\n\n    .dataframe tbody tr th {\n        vertical-align: top;\n    }\n\n    .dataframe thead th {\n        text-align: right;\n    }\n</style>\n<table border=\"1\" class=\"dataframe\">\n  <thead>\n    <tr style=\"text-align: right;\">\n      <th></th>\n      <th>id</th>\n      <th>dur</th>\n      <th>proto</th>\n      <th>service</th>\n      <th>state</th>\n      <th>spkts</th>\n      <th>dpkts</th>\n      <th>sbytes</th>\n      <th>dbytes</th>\n      <th>rate</th>\n      <th>...</th>\n      <th>ct_dst_sport_ltm</th>\n      <th>ct_dst_src_ltm</th>\n      <th>is_ftp_login</th>\n      <th>ct_ftp_cmd</th>\n      <th>ct_flw_http_mthd</th>\n      <th>ct_src_ltm</th>\n      <th>ct_srv_dst</th>\n      <th>is_sm_ips_ports</th>\n      <th>attack_cat</th>\n      <th>label</th>\n    </tr>\n  </thead>\n  <tbody>\n    <tr>\n      <th>0</th>\n      <td>1</td>\n      <td>0.121478</td>\n      <td>tcp</td>\n      <td>-</td>\n      <td>FIN</td>\n      <td>6</td>\n      <td>4</td>\n      <td>258</td>\n      <td>172</td>\n      <td>74.087490</td>\n      <td>...</td>\n      <td>1</td>\n      <td>1</td>\n      <td>0</td>\n      <td>0</td>\n      <td>0</td>\n      <td>1</td>\n      <td>1</td>\n      <td>0</td>\n      <td>Normal</td>\n      <td>0</td>\n    </tr>\n    <tr>\n      <th>1</th>\n      <td>2</td>\n      <td>0.649902</td>\n      <td>tcp</td>\n      <td>-</td>\n      <td>FIN</td>\n      <td>14</td>\n      <td>38</td>\n      <td>734</td>\n      <td>42014</td>\n      <td>78.473372</td>\n      <td>...</td>\n      <td>1</td>\n      <td>2</td>\n      <td>0</td>\n      <td>0</td>\n      <td>0</td>\n      <td>1</td>\n      <td>6</td>\n      <td>0</td>\n      <td>Normal</td>\n      <td>0</td>\n    </tr>\n    <tr>\n      <th>2</th>\n      <td>3</td>\n      <td>1.623129</td>\n      <td>tcp</td>\n      <td>-</td>\n      <td>FIN</td>\n      <td>8</td>\n      <td>16</td>\n      <td>364</td>\n      <td>13186</td>\n      <td>14.170161</td>\n      <td>...</td>\n      <td>1</td>\n      <td>3</td>\n      <td>0</td>\n      <td>0</td>\n      <td>0</td>\n      <td>2</td>\n      <td>6</td>\n      <td>0</td>\n      <td>Normal</td>\n      <td>0</td>\n    </tr>\n    <tr>\n      <th>3</th>\n      <td>4</td>\n      <td>1.681642</td>\n      <td>tcp</td>\n      <td>ftp</td>\n      <td>FIN</td>\n      <td>12</td>\n      <td>12</td>\n      <td>628</td>\n      <td>770</td>\n      <td>13.677108</td>\n      <td>...</td>\n      <td>1</td>\n      <td>3</td>\n      <td>1</td>\n      <td>1</td>\n      <td>0</td>\n      <td>2</td>\n      <td>1</td>\n      <td>0</td>\n      <td>Normal</td>\n      <td>0</td>\n    </tr>\n    <tr>\n      <th>4</th>\n      <td>5</td>\n      <td>0.449454</td>\n      <td>tcp</td>\n      <td>-</td>\n      <td>FIN</td>\n      <td>10</td>\n      <td>6</td>\n      <td>534</td>\n      <td>268</td>\n      <td>33.373826</td>\n      <td>...</td>\n      <td>1</td>\n      <td>40</td>\n      <td>0</td>\n      <td>0</td>\n      <td>0</td>\n      <td>2</td>\n      <td>39</td>\n      <td>0</td>\n      <td>Normal</td>\n      <td>0</td>\n    </tr>\n  </tbody>\n</table>\n<p>5 rows × 45 columns</p>\n</div>"
     },
     "execution_count": 28,
     "metadata": {},
     "output_type": "execute_result"
    }
   ],
   "source": [
    "unsw = pd.read_csv('DataSets/UNSW.csv')\n",
    "unsw.head()"
   ],
   "metadata": {
    "collapsed": false,
    "ExecuteTime": {
     "end_time": "2024-03-26T00:46:59.548943Z",
     "start_time": "2024-03-26T00:46:58.490129Z"
    }
   },
   "id": "95f0e383a4ef43c3",
   "execution_count": 28
  },
  {
   "cell_type": "markdown",
   "source": [
    "Ya podemos ver algo interesante, la columna service, tiene columnas como \"-\", observando la documentación de este dataset, esto significa \" and (-) if not much used service\", lo cual no sabemos que significa, por lo cual, vamos a observar un poco más esta columna"
   ],
   "metadata": {
    "collapsed": false
   },
   "id": "d3c5533fed451d0"
  },
  {
   "cell_type": "code",
   "outputs": [
    {
     "data": {
      "text/plain": "service\n-           141321\ndns          68661\nhttp         27011\nsmtp          6909\nftp-data      5391\nftp           4980\npop3          1528\nssh           1506\ndhcp           120\nsnmp           109\nssl             86\nirc             30\nradius          21\nName: count, dtype: int64"
     },
     "execution_count": 29,
     "metadata": {},
     "output_type": "execute_result"
    }
   ],
   "source": [
    "unsw['service'].value_counts()"
   ],
   "metadata": {
    "collapsed": false,
    "ExecuteTime": {
     "end_time": "2024-03-26T00:46:59.580950Z",
     "start_time": "2024-03-26T00:46:59.549943Z"
    }
   },
   "id": "edebd4f7f6529e01",
   "execution_count": 29
  },
  {
   "cell_type": "code",
   "outputs": [
    {
     "data": {
      "text/plain": "13"
     },
     "execution_count": 30,
     "metadata": {},
     "output_type": "execute_result"
    }
   ],
   "source": [
    "unsw['service'].nunique()"
   ],
   "metadata": {
    "collapsed": false,
    "ExecuteTime": {
     "end_time": "2024-03-26T00:46:59.612957Z",
     "start_time": "2024-03-26T00:46:59.581950Z"
    }
   },
   "id": "af84053f86dfdf89",
   "execution_count": 30
  },
  {
   "cell_type": "code",
   "outputs": [
    {
     "data": {
      "text/plain": "<Figure size 640x480 with 1 Axes>",
      "image/png": "[encoded data removed]"
     },
     "metadata": {},
     "output_type": "display_data"
    }
   ],
   "source": [
    "plt.bar(unsw['service'].value_counts().index, unsw['service'].value_counts())\n",
    "plt.show()"
   ],
   "metadata": {
    "collapsed": false,
    "ExecuteTime": {
     "end_time": "2024-03-26T00:46:59.756990Z",
     "start_time": "2024-03-26T00:46:59.613957Z"
    }
   },
   "id": "70ddceaecef29884",
   "execution_count": 31
  },
  {
   "cell_type": "markdown",
   "source": [
    "Podemos ver que hay 13 valores únicos, y que la mayoría de los datos son \"-\", pero vamos a esperar que nos ofrece en cuanto a correlación antes de decidir que hacer con esta columna"
   ],
   "metadata": {
    "collapsed": false
   },
   "id": "14e30c878533c3f6"
  },
  {
   "cell_type": "markdown",
   "source": [
    "Ahora, observemos la columna de protocolos"
   ],
   "metadata": {
    "collapsed": false
   },
   "id": "e6be1dd6b7d3129e"
  },
  {
   "cell_type": "code",
   "outputs": [
    {
     "data": {
      "text/plain": "proto\ntcp       123041\nudp        92701\nunas       15599\narp         3846\nospf        3271\n           ...  \nrdp          131\nnetblt       131\nigmp          48\nicmp          15\nrtp            1\nName: count, Length: 133, dtype: int64"
     },
     "execution_count": 32,
     "metadata": {},
     "output_type": "execute_result"
    }
   ],
   "source": [
    "unsw['proto'].value_counts()"
   ],
   "metadata": {
    "collapsed": false,
    "ExecuteTime": {
     "end_time": "2024-03-26T00:46:59.788996Z",
     "start_time": "2024-03-26T00:46:59.757991Z"
    }
   },
   "id": "f8adaef7243b4e19",
   "execution_count": 32
  },
  {
   "cell_type": "code",
   "outputs": [
    {
     "data": {
      "text/plain": "133"
     },
     "execution_count": 33,
     "metadata": {},
     "output_type": "execute_result"
    }
   ],
   "source": [
    "unsw['proto'].nunique()"
   ],
   "metadata": {
    "collapsed": false,
    "ExecuteTime": {
     "end_time": "2024-03-26T00:46:59.805Z",
     "start_time": "2024-03-26T00:46:59.790997Z"
    }
   },
   "id": "ad6975092268b3c0",
   "execution_count": 33
  },
  {
   "cell_type": "code",
   "outputs": [
    {
     "data": {
      "text/plain": "<BarContainer object of 133 artists>"
     },
     "execution_count": 34,
     "metadata": {},
     "output_type": "execute_result"
    },
    {
     "data": {
      "text/plain": "<Figure size 640x480 with 1 Axes>",
      "image/png": "[encoded data removed]"
     },
     "metadata": {},
     "output_type": "display_data"
    }
   ],
   "source": [
    "plt.bar(unsw['proto'].value_counts().index, unsw['proto'].value_counts())"
   ],
   "metadata": {
    "collapsed": false,
    "ExecuteTime": {
     "end_time": "2024-03-26T00:47:00.642057Z",
     "start_time": "2024-03-26T00:46:59.806Z"
    }
   },
   "id": "e23e5f951038b52e",
   "execution_count": 34
  },
  {
   "cell_type": "markdown",
   "source": [
    "Podemos ver que hay 133 valores únicos, por lo cual, no tiene sentido hacer un histograma, pero podemos ver que hay 3 valores que son mucho más comunes que los demás, por lo cual, vamos a ver si hay correlación con la variable target. "
   ],
   "metadata": {
    "collapsed": false
   },
   "id": "6a35719d1431fb27"
  },
  {
   "cell_type": "code",
   "outputs": [
    {
     "data": {
      "text/plain": "<BarContainer object of 10 artists>"
     },
     "execution_count": 35,
     "metadata": {},
     "output_type": "execute_result"
    },
    {
     "data": {
      "text/plain": "<Figure size 640x480 with 1 Axes>",
      "image/png": "[encoded data removed]"
     },
     "metadata": {},
     "output_type": "display_data"
    }
   ],
   "source": [
    "#bar plot con los 10 valores más comunes\n",
    "plt.bar(unsw['proto'].value_counts().nlargest(10).index, unsw['proto'].value_counts().nlargest(10))"
   ],
   "metadata": {
    "collapsed": false,
    "ExecuteTime": {
     "end_time": "2024-03-26T00:47:00.786090Z",
     "start_time": "2024-03-26T00:47:00.643059Z"
    }
   },
   "id": "679e2b4befb733e3",
   "execution_count": 35
  },
  {
   "cell_type": "markdown",
   "source": [
    "En este grafico más leible, podemos ver que los valores más comunes son tcp, udp y unas."
   ],
   "metadata": {
    "collapsed": false
   },
   "id": "df382254d4f5d688"
  },
  {
   "cell_type": "markdown",
   "source": [
    "Ahora, observemos la columna state"
   ],
   "metadata": {
    "collapsed": false
   },
   "id": "a3fa01856bb33d1c"
  },
  {
   "cell_type": "code",
   "outputs": [
    {
     "data": {
      "text/plain": "state\nFIN    117164\nINT    116438\nCON     20134\nREQ      3833\nRST        84\nECO        12\nACC         4\nPAR         1\nURN         1\nno          1\nCLO         1\nName: count, dtype: int64"
     },
     "execution_count": 36,
     "metadata": {},
     "output_type": "execute_result"
    }
   ],
   "source": [
    "unsw['state'].value_counts()"
   ],
   "metadata": {
    "collapsed": false,
    "ExecuteTime": {
     "end_time": "2024-03-26T00:47:00.816097Z",
     "start_time": "2024-03-26T00:47:00.788091Z"
    }
   },
   "id": "5bc29c0fac759b03",
   "execution_count": 36
  },
  {
   "cell_type": "code",
   "outputs": [
    {
     "data": {
      "text/plain": "11"
     },
     "execution_count": 37,
     "metadata": {},
     "output_type": "execute_result"
    }
   ],
   "source": [
    "unsw['state'].nunique()"
   ],
   "metadata": {
    "collapsed": false,
    "ExecuteTime": {
     "end_time": "2024-03-26T00:47:00.832101Z",
     "start_time": "2024-03-26T00:47:00.817097Z"
    }
   },
   "id": "39e38bad4c938a4e",
   "execution_count": 37
  },
  {
   "cell_type": "code",
   "outputs": [
    {
     "data": {
      "text/plain": "<BarContainer object of 11 artists>"
     },
     "execution_count": 38,
     "metadata": {},
     "output_type": "execute_result"
    },
    {
     "data": {
      "text/plain": "<Figure size 640x480 with 1 Axes>",
      "image/png": "[encoded data removed]"
     },
     "metadata": {},
     "output_type": "display_data"
    }
   ],
   "source": [
    "plt.bar(unsw['state'].value_counts().index, unsw['state'].value_counts())"
   ],
   "metadata": {
    "collapsed": false,
    "ExecuteTime": {
     "end_time": "2024-03-26T00:47:01.008140Z",
     "start_time": "2024-03-26T00:47:00.833101Z"
    }
   },
   "id": "35776c01c58843ce",
   "execution_count": 38
  },
  {
   "cell_type": "markdown",
   "source": [
    "Podemos ver que los estados de las conexiones del dataset son mayormente FIN: que la conexión se terminó, INT: que la conexión fue interrumpida, y CON: que la conexión fue establecida, y REQ: que la conexión fue pedida por un cliente."
   ],
   "metadata": {
    "collapsed": false
   },
   "id": "4226701e6245bdee"
  },
  {
   "cell_type": "markdown",
   "source": [
    "Ahora, observemos la columna attack_cat"
   ],
   "metadata": {
    "collapsed": false
   },
   "id": "f608cb54b0fe05a5"
  },
  {
   "cell_type": "code",
   "outputs": [
    {
     "data": {
      "text/plain": "attack_cat\nNormal            93000\nGeneric           58871\nExploits          44525\nFuzzers           24246\nDoS               16353\nReconnaissance    13987\nAnalysis           2677\nBackdoor           2329\nShellcode          1511\nWorms               174\nName: count, dtype: int64"
     },
     "execution_count": 39,
     "metadata": {},
     "output_type": "execute_result"
    }
   ],
   "source": [
    "unsw['attack_cat'].value_counts()"
   ],
   "metadata": {
    "collapsed": false,
    "ExecuteTime": {
     "end_time": "2024-03-26T00:47:01.040147Z",
     "start_time": "2024-03-26T00:47:01.009140Z"
    }
   },
   "id": "7a16ebe08b48265a",
   "execution_count": 39
  },
  {
   "cell_type": "code",
   "outputs": [
    {
     "data": {
      "text/plain": "10"
     },
     "execution_count": 40,
     "metadata": {},
     "output_type": "execute_result"
    }
   ],
   "source": [
    "unsw['attack_cat'].nunique()"
   ],
   "metadata": {
    "collapsed": false,
    "ExecuteTime": {
     "end_time": "2024-03-26T00:47:01.072154Z",
     "start_time": "2024-03-26T00:47:01.041149Z"
    }
   },
   "id": "8ea4d0f5842ad42e",
   "execution_count": 40
  },
  {
   "cell_type": "code",
   "outputs": [
    {
     "data": {
      "text/plain": "<Figure size 1300x600 with 1 Axes>",
      "image/png": "[encoded data removed]"
     },
     "metadata": {},
     "output_type": "display_data"
    }
   ],
   "source": [
    "#ampliamos la figura para que se pudiera leer bien\n",
    "plt.figure(figsize=(13, 6))\n",
    "plt.bar(unsw['attack_cat'].value_counts().index, unsw['attack_cat'].value_counts())\n",
    "plt.show()"
   ],
   "metadata": {
    "collapsed": false,
    "ExecuteTime": {
     "end_time": "2024-03-26T00:47:01.216186Z",
     "start_time": "2024-03-26T00:47:01.073155Z"
    }
   },
   "id": "ba9da9127f70bd2e",
   "execution_count": 41
  },
  {
   "cell_type": "markdown",
   "source": [
    "Podemos ver que hay 11 categorias de ataque, a diferencia del dataset anterior, podemos ver que tenemos más datos de ataques que de no ataques."
   ],
   "metadata": {
    "collapsed": false
   },
   "id": "49499405a3ba9470"
  },
  {
   "cell_type": "code",
   "outputs": [
    {
     "data": {
      "text/plain": "            id       dur proto service state  spkts  dpkts  sbytes  dbytes  \\\n117204  117205  0.000003   udp     dns   INT      2      0     114       0   \n117207  117208  0.000009   udp     dns   INT      2      0     114       0   \n117208  117209  0.000009   udp     dns   INT      2      0     114       0   \n117209  117210  0.000012   udp     dns   INT      2      0     114       0   \n117211  117212  0.000010   udp     dns   INT      2      0     114       0   \n\n                rate  ...  ct_dst_sport_ltm  ct_dst_src_ltm  is_ftp_login  \\\n117204  333333.32150  ...                10              22             0   \n117207  111111.10720  ...                18              28             0   \n117208  111111.10720  ...                17              33             0   \n117209   83333.33039  ...                18              20             0   \n117211  100000.00250  ...                 8              26             0   \n\n        ct_ftp_cmd  ct_flw_http_mthd  ct_src_ltm  ct_srv_dst  is_sm_ips_ports  \\\n117204           0                 0          22          22                0   \n117207           0                 0          18          28                0   \n117208           0                 0          17          33                0   \n117209           0                 0          18          20                0   \n117211           0                 0           9          26                0   \n\n        attack_cat  label  \n117204     Generic      1  \n117207     Generic      1  \n117208     Generic      1  \n117209     Generic      1  \n117211     Generic      1  \n\n[5 rows x 45 columns]",
      "text/html": "<div>\n<style scoped>\n    .dataframe tbody tr th:only-of-type {\n        vertical-align: middle;\n    }\n\n    .dataframe tbody tr th {\n        vertical-align: top;\n    }\n\n    .dataframe thead th {\n        text-align: right;\n    }\n</style>\n<table border=\"1\" class=\"dataframe\">\n  <thead>\n    <tr style=\"text-align: right;\">\n      <th></th>\n      <th>id</th>\n      <th>dur</th>\n      <th>proto</th>\n      <th>service</th>\n      <th>state</th>\n      <th>spkts</th>\n      <th>dpkts</th>\n      <th>sbytes</th>\n      <th>dbytes</th>\n      <th>rate</th>\n      <th>...</th>\n      <th>ct_dst_sport_ltm</th>\n      <th>ct_dst_src_ltm</th>\n      <th>is_ftp_login</th>\n      <th>ct_ftp_cmd</th>\n      <th>ct_flw_http_mthd</th>\n      <th>ct_src_ltm</th>\n      <th>ct_srv_dst</th>\n      <th>is_sm_ips_ports</th>\n      <th>attack_cat</th>\n      <th>label</th>\n    </tr>\n  </thead>\n  <tbody>\n    <tr>\n      <th>117204</th>\n      <td>117205</td>\n      <td>0.000003</td>\n      <td>udp</td>\n      <td>dns</td>\n      <td>INT</td>\n      <td>2</td>\n      <td>0</td>\n      <td>114</td>\n      <td>0</td>\n      <td>333333.32150</td>\n      <td>...</td>\n      <td>10</td>\n      <td>22</td>\n      <td>0</td>\n      <td>0</td>\n      <td>0</td>\n      <td>22</td>\n      <td>22</td>\n      <td>0</td>\n      <td>Generic</td>\n      <td>1</td>\n    </tr>\n    <tr>\n      <th>117207</th>\n      <td>117208</td>\n      <td>0.000009</td>\n      <td>udp</td>\n      <td>dns</td>\n      <td>INT</td>\n      <td>2</td>\n      <td>0</td>\n      <td>114</td>\n      <td>0</td>\n      <td>111111.10720</td>\n      <td>...</td>\n      <td>18</td>\n      <td>28</td>\n      <td>0</td>\n      <td>0</td>\n      <td>0</td>\n      <td>18</td>\n      <td>28</td>\n      <td>0</td>\n      <td>Generic</td>\n      <td>1</td>\n    </tr>\n    <tr>\n      <th>117208</th>\n      <td>117209</td>\n      <td>0.000009</td>\n      <td>udp</td>\n      <td>dns</td>\n      <td>INT</td>\n      <td>2</td>\n      <td>0</td>\n      <td>114</td>\n      <td>0</td>\n      <td>111111.10720</td>\n      <td>...</td>\n      <td>17</td>\n      <td>33</td>\n      <td>0</td>\n      <td>0</td>\n      <td>0</td>\n      <td>17</td>\n      <td>33</td>\n      <td>0</td>\n      <td>Generic</td>\n      <td>1</td>\n    </tr>\n    <tr>\n      <th>117209</th>\n      <td>117210</td>\n      <td>0.000012</td>\n      <td>udp</td>\n      <td>dns</td>\n      <td>INT</td>\n      <td>2</td>\n      <td>0</td>\n      <td>114</td>\n      <td>0</td>\n      <td>83333.33039</td>\n      <td>...</td>\n      <td>18</td>\n      <td>20</td>\n      <td>0</td>\n      <td>0</td>\n      <td>0</td>\n      <td>18</td>\n      <td>20</td>\n      <td>0</td>\n      <td>Generic</td>\n      <td>1</td>\n    </tr>\n    <tr>\n      <th>117211</th>\n      <td>117212</td>\n      <td>0.000010</td>\n      <td>udp</td>\n      <td>dns</td>\n      <td>INT</td>\n      <td>2</td>\n      <td>0</td>\n      <td>114</td>\n      <td>0</td>\n      <td>100000.00250</td>\n      <td>...</td>\n      <td>8</td>\n      <td>26</td>\n      <td>0</td>\n      <td>0</td>\n      <td>0</td>\n      <td>9</td>\n      <td>26</td>\n      <td>0</td>\n      <td>Generic</td>\n      <td>1</td>\n    </tr>\n  </tbody>\n</table>\n<p>5 rows × 45 columns</p>\n</div>"
     },
     "execution_count": 42,
     "metadata": {},
     "output_type": "execute_result"
    }
   ],
   "source": [
    "#Verificamos que generic si sea un ataque\n",
    "unsw[unsw['attack_cat'] == 'Generic'].head()"
   ],
   "metadata": {
    "collapsed": false,
    "ExecuteTime": {
     "end_time": "2024-03-26T00:47:01.263197Z",
     "start_time": "2024-03-26T00:47:01.217186Z"
    }
   },
   "id": "d26a48336ca5ec98",
   "execution_count": 42
  },
  {
   "cell_type": "markdown",
   "source": [
    "Ahora, observemos la columna label, que es nuestro target"
   ],
   "metadata": {
    "collapsed": false
   },
   "id": "a34f52f4e9384981"
  },
  {
   "cell_type": "code",
   "outputs": [
    {
     "data": {
      "text/plain": "label\n1    164673\n0     93000\nName: count, dtype: int64"
     },
     "execution_count": 43,
     "metadata": {},
     "output_type": "execute_result"
    }
   ],
   "source": [
    "unsw['label'].value_counts()"
   ],
   "metadata": {
    "collapsed": false,
    "ExecuteTime": {
     "end_time": "2024-03-26T00:47:01.278200Z",
     "start_time": "2024-03-26T00:47:01.269198Z"
    }
   },
   "id": "f5fd1532fa0ecb8c",
   "execution_count": 43
  },
  {
   "cell_type": "code",
   "outputs": [
    {
     "data": {
      "text/plain": "2"
     },
     "execution_count": 44,
     "metadata": {},
     "output_type": "execute_result"
    }
   ],
   "source": [
    "unsw['label'].nunique()"
   ],
   "metadata": {
    "collapsed": false,
    "ExecuteTime": {
     "end_time": "2024-03-26T00:47:01.294204Z",
     "start_time": "2024-03-26T00:47:01.280201Z"
    }
   },
   "id": "b5116af135f08261",
   "execution_count": 44
  },
  {
   "cell_type": "code",
   "outputs": [
    {
     "data": {
      "text/plain": "<Figure size 640x480 with 1 Axes>",
      "image/png": "[encoded data removed]"
     },
     "metadata": {},
     "output_type": "display_data"
    }
   ],
   "source": [
    "plt.bar(unsw['label'].value_counts().index, unsw['label'].value_counts())\n",
    "plt.xticks(unsw['label'].value_counts().index, ['1','0'])\n",
    "plt.show()"
   ],
   "metadata": {
    "collapsed": false,
    "ExecuteTime": {
     "end_time": "2024-03-26T00:47:01.389596Z",
     "start_time": "2024-03-26T00:47:01.295204Z"
    }
   },
   "id": "c23a8c729c15075c",
   "execution_count": 45
  },
  {
   "cell_type": "code",
   "outputs": [
    {
     "data": {
      "text/plain": "<Figure size 640x480 with 1 Axes>",
      "image/png": "[encoded data removed]"
     },
     "metadata": {},
     "output_type": "display_data"
    }
   ],
   "source": [
    "labels = unsw['label'].value_counts().index.tolist()\n",
    "sizes = unsw['label'].value_counts().tolist()\n",
    "plt.pie(sizes, labels=labels, autopct='%1.1f%%')\n",
    "plt.title('Distributcion de Labels')\n",
    "plt.show()"
   ],
   "metadata": {
    "collapsed": false,
    "ExecuteTime": {
     "end_time": "2024-03-26T00:47:01.517759Z",
     "start_time": "2024-03-26T00:47:01.390598Z"
    }
   },
   "id": "5582befaf56f638c",
   "execution_count": 46
  },
  {
   "cell_type": "markdown",
   "source": [
    "Podemos ver que hay 2 valores únicos, y que hay más datos de ataques que de no ataques, lo cual se podía observar en attack_cat, pero ahora lo podemos ver de manera más clara."
   ],
   "metadata": {
    "collapsed": false
   },
   "id": "fc14793f89e66ad6"
  },
  {
   "cell_type": "markdown",
   "source": [
    "Antes de observar la correlacion, tenemos que transformar las columnas categoricas a numericas"
   ],
   "metadata": {
    "collapsed": false
   },
   "id": "60044fb557786492"
  },
  {
   "cell_type": "code",
   "outputs": [],
   "source": [
    "unsw['service'] = le.fit_transform(unsw['service'])\n",
    "unsw['proto'] = le.fit_transform(unsw['proto'])\n",
    "unsw['state'] = le.fit_transform(unsw['state'])\n",
    "#Aunque el resto no importa mucho la transformacion, ya habiamos dicho que 0 es una conexion normal, por lo cual, vamos a transformar los datos de attack_cat\n",
    "unsw['attack_cat'] = unsw['attack_cat'].replace('Normal', '0')\n",
    "unsw['attack_cat'] = le.fit_transform(unsw['attack_cat'])"
   ],
   "metadata": {
    "collapsed": false,
    "ExecuteTime": {
     "end_time": "2024-03-26T00:47:01.705749Z",
     "start_time": "2024-03-26T00:47:01.518757Z"
    }
   },
   "id": "1c03e1dfc327716c",
   "execution_count": 47
  },
  {
   "cell_type": "code",
   "outputs": [
    {
     "name": "stdout",
     "output_type": "stream",
     "text": [
      "service\n",
      "0     141321\n",
      "2      68661\n",
      "5      27011\n",
      "9       6909\n",
      "4       5391\n",
      "3       4980\n",
      "7       1528\n",
      "11      1506\n",
      "1        120\n",
      "10       109\n",
      "12        86\n",
      "6         30\n",
      "8         21\n",
      "Name: count, dtype: int64\n",
      "proto\n",
      "113    123041\n",
      "119     92701\n",
      "120     15599\n",
      "6        3846\n",
      "78       3271\n",
      "        ...  \n",
      "89        131\n",
      "75        131\n",
      "42         48\n",
      "37         15\n",
      "91          1\n",
      "Name: count, Length: 133, dtype: int64\n",
      "state\n",
      "4     117164\n",
      "5     116438\n",
      "2      20134\n",
      "7       3833\n",
      "8         84\n",
      "3         12\n",
      "0          4\n",
      "6          1\n",
      "9          1\n",
      "10         1\n",
      "1          1\n",
      "Name: count, dtype: int64\n",
      "attack_cat\n",
      "0    93000\n",
      "6    58871\n",
      "4    44525\n",
      "5    24246\n",
      "3    16353\n",
      "7    13987\n",
      "1     2677\n",
      "2     2329\n",
      "8     1511\n",
      "9      174\n",
      "Name: count, dtype: int64\n"
     ]
    }
   ],
   "source": [
    "print(unsw['service'].value_counts())\n",
    "print(unsw['proto'].value_counts())\n",
    "print(unsw['state'].value_counts())\n",
    "print(unsw['attack_cat'].value_counts())\n"
   ],
   "metadata": {
    "collapsed": false,
    "ExecuteTime": {
     "end_time": "2024-03-26T00:47:01.721772Z",
     "start_time": "2024-03-26T00:47:01.706751Z"
    }
   },
   "id": "10d930922dba426d",
   "execution_count": 48
  },
  {
   "cell_type": "code",
   "outputs": [
    {
     "data": {
      "text/plain": "id                     int64\ndur                  float64\nproto                  int32\nservice                int32\nstate                  int32\nspkts                  int64\ndpkts                  int64\nsbytes                 int64\ndbytes                 int64\nrate                 float64\nsttl                   int64\ndttl                   int64\nsload                float64\ndload                float64\nsloss                  int64\ndloss                  int64\nsinpkt               float64\ndinpkt               float64\nsjit                 float64\ndjit                 float64\nswin                   int64\nstcpb                  int64\ndtcpb                  int64\ndwin                   int64\ntcprtt               float64\nsynack               float64\nackdat               float64\nsmean                  int64\ndmean                  int64\ntrans_depth            int64\nresponse_body_len      int64\nct_srv_src             int64\nct_state_ttl           int64\nct_dst_ltm             int64\nct_src_dport_ltm       int64\nct_dst_sport_ltm       int64\nct_dst_src_ltm         int64\nis_ftp_login           int64\nct_ftp_cmd             int64\nct_flw_http_mthd       int64\nct_src_ltm             int64\nct_srv_dst             int64\nis_sm_ips_ports        int64\nattack_cat             int32\nlabel                  int64\ndtype: object"
     },
     "execution_count": 49,
     "metadata": {},
     "output_type": "execute_result"
    }
   ],
   "source": [
    "unsw.dtypes"
   ],
   "metadata": {
    "collapsed": false,
    "ExecuteTime": {
     "end_time": "2024-03-26T00:47:01.737814Z",
     "start_time": "2024-03-26T00:47:01.722773Z"
    }
   },
   "id": "6720c1cfa9ee1ec1",
   "execution_count": 49
  },
  {
   "cell_type": "markdown",
   "source": [
    "Ahora, observemos si hay valores atipicos en las columnas numericas"
   ],
   "metadata": {
    "collapsed": false
   },
   "id": "a115ccd775c6c073"
  },
  {
   "cell_type": "code",
   "outputs": [
    {
     "data": {
      "text/plain": "                  id            dur          proto        service  \\\ncount  257673.000000  257673.000000  257673.000000  257673.000000   \nmean    72811.823858       1.246715     110.136025       1.555902   \nstd     48929.917641       5.974305      21.349900       2.245945   \nmin         1.000000       0.000000       0.000000       0.000000   \n25%     32210.000000       0.000008     113.000000       0.000000   \n50%     64419.000000       0.004285     113.000000       0.000000   \n75%    110923.000000       0.685777     119.000000       2.000000   \nmax    175341.000000      59.999989     132.000000      12.000000   \n\n               state          spkts          dpkts        sbytes  \\\ncount  257673.000000  257673.000000  257673.000000  2.576730e+05   \nmean        4.341468      19.777144      18.514703  8.572952e+03   \nstd         0.887420     135.947152     111.985965  1.737739e+05   \nmin         0.000000       1.000000       0.000000  2.400000e+01   \n25%         4.000000       2.000000       0.000000  1.140000e+02   \n50%         4.000000       4.000000       2.000000  5.280000e+02   \n75%         5.000000      12.000000      10.000000  1.362000e+03   \nmax        10.000000   10646.000000   11018.000000  1.435577e+07   \n\n             dbytes          rate  ...  ct_dst_sport_ltm  ct_dst_src_ltm  \\\ncount  2.576730e+05  2.576730e+05  ...     257673.000000   257673.000000   \nmean   1.438729e+04  9.125391e+04  ...          4.032677        8.322964   \nstd    1.461993e+05  1.603446e+05  ...          5.831515       11.120754   \nmin    0.000000e+00  0.000000e+00  ...          1.000000        1.000000   \n25%    0.000000e+00  3.078928e+01  ...          1.000000        1.000000   \n50%    1.780000e+02  2.955665e+03  ...          1.000000        3.000000   \n75%    1.064000e+03  1.250000e+05  ...          3.000000        8.000000   \nmax    1.465753e+07  1.000000e+06  ...         46.000000       65.000000   \n\n        is_ftp_login     ct_ftp_cmd  ct_flw_http_mthd     ct_src_ltm  \\\ncount  257673.000000  257673.000000     257673.000000  257673.000000   \nmean        0.012819       0.012850          0.132005       6.800045   \nstd         0.116091       0.116421          0.681854       8.396266   \nmin         0.000000       0.000000          0.000000       1.000000   \n25%         0.000000       0.000000          0.000000       2.000000   \n50%         0.000000       0.000000          0.000000       3.000000   \n75%         0.000000       0.000000          0.000000       8.000000   \nmax         4.000000       4.000000         30.000000      60.000000   \n\n          ct_srv_dst  is_sm_ips_ports     attack_cat          label  \ncount  257673.000000    257673.000000  257673.000000  257673.000000  \nmean        9.121049         0.014274       3.184319       0.639077  \nstd        10.874752         0.118618       2.628650       0.480269  \nmin         1.000000         0.000000       0.000000       0.000000  \n25%         2.000000         0.000000       0.000000       0.000000  \n50%         4.000000         0.000000       4.000000       1.000000  \n75%        11.000000         0.000000       6.000000       1.000000  \nmax        62.000000         1.000000       9.000000       1.000000  \n\n[8 rows x 45 columns]",
      "text/html": "<div>\n<style scoped>\n    .dataframe tbody tr th:only-of-type {\n        vertical-align: middle;\n    }\n\n    .dataframe tbody tr th {\n        vertical-align: top;\n    }\n\n    .dataframe thead th {\n        text-align: right;\n    }\n</style>\n<table border=\"1\" class=\"dataframe\">\n  <thead>\n    <tr style=\"text-align: right;\">\n      <th></th>\n      <th>id</th>\n      <th>dur</th>\n      <th>proto</th>\n      <th>service</th>\n      <th>state</th>\n      <th>spkts</th>\n      <th>dpkts</th>\n      <th>sbytes</th>\n      <th>dbytes</th>\n      <th>rate</th>\n      <th>...</th>\n      <th>ct_dst_sport_ltm</th>\n      <th>ct_dst_src_ltm</th>\n      <th>is_ftp_login</th>\n      <th>ct_ftp_cmd</th>\n      <th>ct_flw_http_mthd</th>\n      <th>ct_src_ltm</th>\n      <th>ct_srv_dst</th>\n      <th>is_sm_ips_ports</th>\n      <th>attack_cat</th>\n      <th>label</th>\n    </tr>\n  </thead>\n  <tbody>\n    <tr>\n      <th>count</th>\n      <td>257673.000000</td>\n      <td>257673.000000</td>\n      <td>257673.000000</td>\n      <td>257673.000000</td>\n      <td>257673.000000</td>\n      <td>257673.000000</td>\n      <td>257673.000000</td>\n      <td>2.576730e+05</td>\n      <td>2.576730e+05</td>\n      <td>2.576730e+05</td>\n      <td>...</td>\n      <td>257673.000000</td>\n      <td>257673.000000</td>\n      <td>257673.000000</td>\n      <td>257673.000000</td>\n      <td>257673.000000</td>\n      <td>257673.000000</td>\n      <td>257673.000000</td>\n      <td>257673.000000</td>\n      <td>257673.000000</td>\n      <td>257673.000000</td>\n    </tr>\n    <tr>\n      <th>mean</th>\n      <td>72811.823858</td>\n      <td>1.246715</td>\n      <td>110.136025</td>\n      <td>1.555902</td>\n      <td>4.341468</td>\n      <td>19.777144</td>\n      <td>18.514703</td>\n      <td>8.572952e+03</td>\n      <td>1.438729e+04</td>\n      <td>9.125391e+04</td>\n      <td>...</td>\n      <td>4.032677</td>\n      <td>8.322964</td>\n      <td>0.012819</td>\n      <td>0.012850</td>\n      <td>0.132005</td>\n      <td>6.800045</td>\n      <td>9.121049</td>\n      <td>0.014274</td>\n      <td>3.184319</td>\n      <td>0.639077</td>\n    </tr>\n    <tr>\n      <th>std</th>\n      <td>48929.917641</td>\n      <td>5.974305</td>\n      <td>21.349900</td>\n      <td>2.245945</td>\n      <td>0.887420</td>\n      <td>135.947152</td>\n      <td>111.985965</td>\n      <td>1.737739e+05</td>\n      <td>1.461993e+05</td>\n      <td>1.603446e+05</td>\n      <td>...</td>\n      <td>5.831515</td>\n      <td>11.120754</td>\n      <td>0.116091</td>\n      <td>0.116421</td>\n      <td>0.681854</td>\n      <td>8.396266</td>\n      <td>10.874752</td>\n      <td>0.118618</td>\n      <td>2.628650</td>\n      <td>0.480269</td>\n    </tr>\n    <tr>\n      <th>min</th>\n      <td>1.000000</td>\n      <td>0.000000</td>\n      <td>0.000000</td>\n      <td>0.000000</td>\n      <td>0.000000</td>\n      <td>1.000000</td>\n      <td>0.000000</td>\n      <td>2.400000e+01</td>\n      <td>0.000000e+00</td>\n      <td>0.000000e+00</td>\n      <td>...</td>\n      <td>1.000000</td>\n      <td>1.000000</td>\n      <td>0.000000</td>\n      <td>0.000000</td>\n      <td>0.000000</td>\n      <td>1.000000</td>\n      <td>1.000000</td>\n      <td>0.000000</td>\n      <td>0.000000</td>\n      <td>0.000000</td>\n    </tr>\n    <tr>\n      <th>25%</th>\n      <td>32210.000000</td>\n      <td>0.000008</td>\n      <td>113.000000</td>\n      <td>0.000000</td>\n      <td>4.000000</td>\n      <td>2.000000</td>\n      <td>0.000000</td>\n      <td>1.140000e+02</td>\n      <td>0.000000e+00</td>\n      <td>3.078928e+01</td>\n      <td>...</td>\n      <td>1.000000</td>\n      <td>1.000000</td>\n      <td>0.000000</td>\n      <td>0.000000</td>\n      <td>0.000000</td>\n      <td>2.000000</td>\n      <td>2.000000</td>\n      <td>0.000000</td>\n      <td>0.000000</td>\n      <td>0.000000</td>\n    </tr>\n    <tr>\n      <th>50%</th>\n      <td>64419.000000</td>\n      <td>0.004285</td>\n      <td>113.000000</td>\n      <td>0.000000</td>\n      <td>4.000000</td>\n      <td>4.000000</td>\n      <td>2.000000</td>\n      <td>5.280000e+02</td>\n      <td>1.780000e+02</td>\n      <td>2.955665e+03</td>\n      <td>...</td>\n      <td>1.000000</td>\n      <td>3.000000</td>\n      <td>0.000000</td>\n      <td>0.000000</td>\n      <td>0.000000</td>\n      <td>3.000000</td>\n      <td>4.000000</td>\n      <td>0.000000</td>\n      <td>4.000000</td>\n      <td>1.000000</td>\n    </tr>\n    <tr>\n      <th>75%</th>\n      <td>110923.000000</td>\n      <td>0.685777</td>\n      <td>119.000000</td>\n      <td>2.000000</td>\n      <td>5.000000</td>\n      <td>12.000000</td>\n      <td>10.000000</td>\n      <td>1.362000e+03</td>\n      <td>1.064000e+03</td>\n      <td>1.250000e+05</td>\n      <td>...</td>\n      <td>3.000000</td>\n      <td>8.000000</td>\n      <td>0.000000</td>\n      <td>0.000000</td>\n      <td>0.000000</td>\n      <td>8.000000</td>\n      <td>11.000000</td>\n      <td>0.000000</td>\n      <td>6.000000</td>\n      <td>1.000000</td>\n    </tr>\n    <tr>\n      <th>max</th>\n      <td>175341.000000</td>\n      <td>59.999989</td>\n      <td>132.000000</td>\n      <td>12.000000</td>\n      <td>10.000000</td>\n      <td>10646.000000</td>\n      <td>11018.000000</td>\n      <td>1.435577e+07</td>\n      <td>1.465753e+07</td>\n      <td>1.000000e+06</td>\n      <td>...</td>\n      <td>46.000000</td>\n      <td>65.000000</td>\n      <td>4.000000</td>\n      <td>4.000000</td>\n      <td>30.000000</td>\n      <td>60.000000</td>\n      <td>62.000000</td>\n      <td>1.000000</td>\n      <td>9.000000</td>\n      <td>1.000000</td>\n    </tr>\n  </tbody>\n</table>\n<p>8 rows × 45 columns</p>\n</div>"
     },
     "execution_count": 50,
     "metadata": {},
     "output_type": "execute_result"
    }
   ],
   "source": [
    "unsw.describe()"
   ],
   "metadata": {
    "collapsed": false,
    "ExecuteTime": {
     "end_time": "2024-03-26T00:47:02.054041Z",
     "start_time": "2024-03-26T00:47:01.738814Z"
    }
   },
   "id": "1c58fa132b9e8dc4",
   "execution_count": 50
  },
  {
   "cell_type": "markdown",
   "source": [
    "Podemos ver que todas las columnas tienen valores atipicos y que la desviación estandar es muy alta, en muchos casos, por ende vamos a usar el metodo que ya creamos para ver los valores atipicos"
   ],
   "metadata": {
    "collapsed": false
   },
   "id": "a4e65d504f99dee8"
  },
  {
   "cell_type": "code",
   "outputs": [
    {
     "name": "stdout",
     "output_type": "stream",
     "text": [
      "Datos atipicos en: rate\n",
      "Cantidad de datos atipicos en rate inferior: 64418\n",
      "Cantidad de datos atipicos en rate superior: 52841\n",
      "Cantidad de datos atipicos en rate : 117259\n",
      "Porcentaje de datos atipicos en rate : 45.506902158937876 % \n",
      "\n",
      "Datos atipicos en: sttl\n",
      "Cantidad de datos atipicos en sttl inferior: 60572\n",
      "Cantidad de datos atipicos en sttl superior: 38\n",
      "Cantidad de datos atipicos en sttl : 60610\n",
      "Porcentaje de datos atipicos en sttl : 23.522060906653007 % \n",
      "\n",
      "Datos atipicos en: sload\n",
      "Cantidad de datos atipicos en sload inferior: 64418\n",
      "Cantidad de datos atipicos en sload superior: 64322\n",
      "Cantidad de datos atipicos en sload : 128740\n",
      "Porcentaje de datos atipicos en sload : 49.96254943280825 % \n",
      "\n",
      "Datos atipicos en: dload\n",
      "Cantidad de datos atipicos en dload inferior: 0\n",
      "Cantidad de datos atipicos en dload superior: 64418\n",
      "Cantidad de datos atipicos en dload : 64418\n",
      "Porcentaje de datos atipicos en dload : 24.999902977805203 % \n",
      "\n",
      "Datos atipicos en: sinpkt\n",
      "Cantidad de datos atipicos en sinpkt inferior: 56767\n",
      "Cantidad de datos atipicos en sinpkt superior: 64418\n",
      "Cantidad de datos atipicos en sinpkt : 121185\n",
      "Porcentaje de datos atipicos en sinpkt : 47.03053870603439 % \n",
      "\n",
      "Datos atipicos en: swin\n",
      "Cantidad de datos atipicos en swin inferior: 0\n",
      "Cantidad de datos atipicos en swin superior: 0\n",
      "Cantidad de datos atipicos en swin : 0\n",
      "Porcentaje de datos atipicos en swin : 0.0 % \n",
      "\n",
      "Datos atipicos en: stcpb\n",
      "Cantidad de datos atipicos en stcpb inferior: 0\n",
      "Cantidad de datos atipicos en stcpb superior: 64418\n",
      "Cantidad de datos atipicos en stcpb : 64418\n",
      "Porcentaje de datos atipicos en stcpb : 24.999902977805203 % \n",
      "\n",
      "Datos atipicos en: dtcpb\n",
      "Cantidad de datos atipicos en dtcpb inferior: 0\n",
      "Cantidad de datos atipicos en dtcpb superior: 64418\n",
      "Cantidad de datos atipicos en dtcpb : 64418\n",
      "Porcentaje de datos atipicos en dtcpb : 24.999902977805203 % \n",
      "\n",
      "Datos atipicos en: dwin\n",
      "Cantidad de datos atipicos en dwin inferior: 0\n",
      "Cantidad de datos atipicos en dwin superior: 0\n",
      "Cantidad de datos atipicos en dwin : 0\n",
      "Porcentaje de datos atipicos en dwin : 0.0 % \n",
      "\n",
      "Datos atipicos en: dmean\n",
      "Cantidad de datos atipicos en dmean inferior: 0\n",
      "Cantidad de datos atipicos en dmean superior: 57829\n",
      "Cantidad de datos atipicos en dmean : 57829\n",
      "Porcentaje de datos atipicos en dmean : 22.442786011728046 % \n",
      "\n",
      "Datos atipicos en: ct_srv_src\n",
      "Cantidad de datos atipicos en ct_srv_src inferior: 49876\n",
      "Cantidad de datos atipicos en ct_srv_src superior: 61317\n",
      "Cantidad de datos atipicos en ct_srv_src : 111193\n",
      "Porcentaje de datos atipicos en ct_srv_src : 43.15275562437663 % \n",
      "\n",
      "Datos atipicos en: ct_state_ttl\n",
      "Cantidad de datos atipicos en ct_state_ttl inferior: 57836\n",
      "Cantidad de datos atipicos en ct_state_ttl superior: 7094\n",
      "Cantidad de datos atipicos en ct_state_ttl : 64930\n",
      "Porcentaje de datos atipicos en ct_state_ttl : 25.198604432750038 % \n",
      "\n",
      "Datos atipicos en: ct_dst_ltm\n",
      "Cantidad de datos atipicos en ct_dst_ltm inferior: 0\n",
      "Cantidad de datos atipicos en ct_dst_ltm superior: 63745\n",
      "Cantidad de datos atipicos en ct_dst_ltm : 63745\n",
      "Porcentaje de datos atipicos en ct_dst_ltm : 24.73871922941092 % \n",
      "\n",
      "Datos atipicos en: ct_src_dport_ltm\n",
      "Cantidad de datos atipicos en ct_src_dport_ltm inferior: 0\n",
      "Cantidad de datos atipicos en ct_src_dport_ltm superior: 61943\n",
      "Cantidad de datos atipicos en ct_src_dport_ltm : 61943\n",
      "Porcentaje de datos atipicos en ct_src_dport_ltm : 24.039383249312113 % \n",
      "\n",
      "Datos atipicos en: ct_dst_sport_ltm\n",
      "Cantidad de datos atipicos en ct_dst_sport_ltm inferior: 0\n",
      "Cantidad de datos atipicos en ct_dst_sport_ltm superior: 60153\n",
      "Cantidad de datos atipicos en ct_dst_sport_ltm : 60153\n",
      "Porcentaje de datos atipicos en ct_dst_sport_ltm : 23.344704334563573 % \n",
      "\n",
      "Datos atipicos en: ct_dst_src_ltm\n",
      "Cantidad de datos atipicos en ct_dst_src_ltm inferior: 0\n",
      "Cantidad de datos atipicos en ct_dst_src_ltm superior: 63716\n",
      "Cantidad de datos atipicos en ct_dst_src_ltm : 63716\n",
      "Porcentaje de datos atipicos en ct_dst_src_ltm : 24.727464654814433 % \n",
      "\n",
      "Datos atipicos en: ct_src_ltm\n",
      "Cantidad de datos atipicos en ct_src_ltm inferior: 63870\n",
      "Cantidad de datos atipicos en ct_src_ltm superior: 63858\n",
      "Cantidad de datos atipicos en ct_src_ltm : 127728\n",
      "Porcentaje de datos atipicos en ct_src_ltm : 49.569803588268854 % \n",
      "\n",
      "Datos atipicos en: ct_srv_dst\n",
      "Cantidad de datos atipicos en ct_srv_dst inferior: 58824\n",
      "Cantidad de datos atipicos en ct_srv_dst superior: 63835\n",
      "Cantidad de datos atipicos en ct_srv_dst : 122659\n",
      "Porcentaje de datos atipicos en ct_srv_dst : 47.60258156655917 % \n",
      "\n",
      "Datos atipicos en: is_sm_ips_ports\n",
      "Cantidad de datos atipicos en is_sm_ips_ports inferior: 0\n",
      "Cantidad de datos atipicos en is_sm_ips_ports superior: 3678\n",
      "Cantidad de datos atipicos en is_sm_ips_ports : 3678\n",
      "Porcentaje de datos atipicos en is_sm_ips_ports : 1.4273905298576104 % \n"
     ]
    }
   ],
   "source": [
    "datos_atipicos(unsw,'rate')\n",
    "datos_atipicos(unsw,'sttl')\n",
    "datos_atipicos(unsw,'sload')\n",
    "datos_atipicos(unsw,'dload')\n",
    "datos_atipicos(unsw,'sinpkt')\n",
    "datos_atipicos(unsw,'swin')\n",
    "datos_atipicos(unsw,'stcpb')\n",
    "datos_atipicos(unsw,'dtcpb')\n",
    "datos_atipicos(unsw,'dwin')\n",
    "datos_atipicos(unsw,'dmean')\n",
    "datos_atipicos(unsw,'ct_srv_src')\n",
    "datos_atipicos(unsw,'ct_state_ttl')\n",
    "datos_atipicos(unsw,'ct_dst_ltm')\n",
    "datos_atipicos(unsw,'ct_src_dport_ltm')\n",
    "datos_atipicos(unsw,'ct_dst_sport_ltm')\n",
    "datos_atipicos(unsw,'ct_dst_src_ltm')\n",
    "datos_atipicos(unsw,'ct_src_ltm')\n",
    "datos_atipicos(unsw,'ct_srv_dst')\n",
    "datos_atipicos(unsw,'is_sm_ips_ports')"
   ],
   "metadata": {
    "collapsed": false,
    "ExecuteTime": {
     "end_time": "2024-03-26T00:47:02.182169Z",
     "start_time": "2024-03-26T00:47:02.055042Z"
    }
   },
   "id": "c912e615460d3556",
   "execution_count": 51
  },
  {
   "cell_type": "markdown",
   "source": [
    "Encontramos algo interesante, swin y dwin no tienen valores atipicos, veamos que valores unicos tienen"
   ],
   "metadata": {
    "collapsed": false
   },
   "id": "bc6da5cbef73d592"
  },
  {
   "cell_type": "code",
   "outputs": [
    {
     "name": "stdout",
     "output_type": "stream",
     "text": [
      "swin\n",
      "0      134632\n",
      "255    123021\n",
      "245         1\n",
      "52          1\n",
      "154         1\n",
      "67          1\n",
      "5           1\n",
      "99          1\n",
      "202         1\n",
      "156         1\n",
      "42          1\n",
      "167         1\n",
      "168         1\n",
      "172         1\n",
      "87          1\n",
      "45          1\n",
      "103         1\n",
      "192         1\n",
      "14          1\n",
      "232         1\n",
      "31          1\n",
      "43          1\n",
      "Name: count, dtype: int64\n"
     ]
    }
   ],
   "source": [
    "print(unsw['swin'].value_counts())"
   ],
   "metadata": {
    "collapsed": false,
    "ExecuteTime": {
     "end_time": "2024-03-26T00:47:02.198172Z",
     "start_time": "2024-03-26T00:47:02.183168Z"
    }
   },
   "id": "512a1b00808dfec2",
   "execution_count": 52
  },
  {
   "cell_type": "markdown",
   "source": [
    "Gracias a la documentación de UNSW_NB15, sabemos que swin y dwin son el tamaño de la ventana de envio y recepción, es normal que estos valores sean 0, por ende no debemos preocuparnos de que tengamos valores nulos o atipicos en estas columnas. "
   ],
   "metadata": {
    "collapsed": false
   },
   "id": "648818db649ff313"
  },
  {
   "cell_type": "markdown",
   "source": [
    "Ahora, vamos a borrar los valores atipicos, y vamos a observar la correlación"
   ],
   "metadata": {
    "collapsed": false
   },
   "id": "d640a97d21bc933d"
  },
  {
   "cell_type": "code",
   "outputs": [
    {
     "data": {
      "text/plain": "id                  NaN\ndur                 NaN\nproto               NaN\nservice             NaN\nstate               NaN\nspkts               NaN\ndpkts               NaN\nsbytes              NaN\ndbytes              NaN\nrate                NaN\nsttl                NaN\ndttl                NaN\nsload               NaN\ndload               NaN\nsloss               NaN\ndloss               NaN\nsinpkt              NaN\ndinpkt              NaN\nsjit                NaN\ndjit                NaN\nswin                NaN\nstcpb               NaN\ndtcpb               NaN\ndwin                NaN\ntcprtt              NaN\nsynack              NaN\nackdat              NaN\nsmean               NaN\ndmean               NaN\ntrans_depth         NaN\nresponse_body_len   NaN\nct_srv_src          NaN\nct_state_ttl        NaN\nct_dst_ltm          NaN\nct_src_dport_ltm    NaN\nct_dst_sport_ltm    NaN\nct_dst_src_ltm      NaN\nis_ftp_login        NaN\nct_ftp_cmd          NaN\nct_flw_http_mthd    NaN\nct_src_ltm          NaN\nct_srv_dst          NaN\nis_sm_ips_ports     NaN\nattack_cat          NaN\nlabel               NaN\ndtype: float64"
     },
     "execution_count": 53,
     "metadata": {},
     "output_type": "execute_result"
    }
   ],
   "source": [
    "unsw_limpio = borrar_atipicos(unsw,'rate')\n",
    "unsw_limpio = borrar_atipicos(unsw_limpio,'sttl')\n",
    "unsw_limpio = borrar_atipicos(unsw_limpio,'sload')\n",
    "unsw_limpio = borrar_atipicos(unsw_limpio,'dload')\n",
    "unsw_limpio = borrar_atipicos(unsw_limpio,'sinpkt')\n",
    "unsw_limpio = borrar_atipicos(unsw_limpio,'stcpb')\n",
    "unsw_limpio = borrar_atipicos(unsw_limpio,'dtcpb')\n",
    "unsw_limpio = borrar_atipicos(unsw_limpio,'dmean')\n",
    "unsw_limpio = borrar_atipicos(unsw_limpio,'ct_srv_src')\n",
    "unsw_limpio = borrar_atipicos(unsw_limpio,'ct_state_ttl')\n",
    "unsw_limpio = borrar_atipicos(unsw_limpio,'ct_dst_ltm')\n",
    "unsw_limpio = borrar_atipicos(unsw_limpio,'ct_src_dport_ltm')\n",
    "unsw_limpio = borrar_atipicos(unsw_limpio,'ct_dst_sport_ltm')\n",
    "unsw_limpio = borrar_atipicos(unsw_limpio,'ct_dst_src_ltm')\n",
    "unsw_limpio = borrar_atipicos(unsw_limpio,'ct_src_ltm')\n",
    "unsw_limpio = borrar_atipicos(unsw_limpio,'ct_srv_dst')\n",
    "unsw_limpio = borrar_atipicos(unsw_limpio,'is_sm_ips_ports')\n",
    "unsw_limpio.corrwith(unsw_limpio['label']).abs().sort_values(ascending=False)"
   ],
   "metadata": {
    "collapsed": false,
    "ExecuteTime": {
     "end_time": "2024-03-26T00:47:02.624077Z",
     "start_time": "2024-03-26T00:47:02.199173Z"
    }
   },
   "id": "ba4d4f2db2d474fc",
   "execution_count": 53
  },
  {
   "cell_type": "markdown",
   "source": [
    "Tenemos el mismo problema que con el dataset anterior, borrar todos los datos atipicos, nos borra todos los datos, por lo cual, vamos a borrar los datos atípicos de una columna a la vez, empezando por la que tenian mayor correlación, para esto vamos a primero observar las correlaciones con los valores atipicos, y de ahí vamos a borrar los valores atipicos de una columna a la vez."
   ],
   "metadata": {
    "collapsed": false
   },
   "id": "2cc5ff30ef55552f"
  },
  {
   "cell_type": "markdown",
   "source": [
    "Ahora, que todas las columnas son numericas, podemos observar la correlación"
   ],
   "metadata": {
    "collapsed": false
   },
   "id": "ffbbe9157341f99e"
  },
  {
   "cell_type": "code",
   "outputs": [
    {
     "data": {
      "text/plain": "label                1.000000\nattack_cat           0.910364\nsttl                 0.624082\nid                   0.490584\nct_state_ttl         0.476559\nstate                0.462972\nct_dst_sport_ltm     0.371672\nswin                 0.364877\ndload                0.352169\ndwin                 0.339166\nrate                 0.335883\nct_src_dport_ltm     0.318518\nct_dst_src_ltm       0.299609\ndmean                0.295173\nstcpb                0.266585\ndtcpb                0.263543\nct_src_ltm           0.252498\nct_srv_dst           0.247812\nct_srv_src           0.246596\nct_dst_ltm           0.240776\nsload                0.165249\nis_sm_ips_ports      0.160126\nsinpkt               0.155454\ndpkts                0.097394\ndloss                0.075961\nservice              0.073552\ndbytes               0.060403\ndjit                 0.048819\nsynack               0.043250\nspkts                0.043040\ndinpkt               0.030136\ndur                  0.029096\nsmean                0.028372\ntcprtt               0.024668\nsbytes               0.019376\ndttl                 0.019369\nresponse_body_len    0.018930\nsjit                 0.016436\nct_flw_http_mthd     0.012237\nct_ftp_cmd           0.009092\nis_ftp_login         0.008762\nproto                0.008023\ntrans_depth          0.002246\nsloss                0.001828\nackdat               0.000817\ndtype: float64"
     },
     "execution_count": 54,
     "metadata": {},
     "output_type": "execute_result"
    }
   ],
   "source": [
    "unsw.corrwith(unsw['label']).abs().sort_values(ascending=False)"
   ],
   "metadata": {
    "collapsed": false,
    "ExecuteTime": {
     "end_time": "2024-03-26T00:47:02.918333Z",
     "start_time": "2024-03-26T00:47:02.625078Z"
    }
   },
   "id": "d55a1b73097bcbd9",
   "execution_count": 54
  },
  {
   "cell_type": "markdown",
   "source": [
    "Podemos ver que la correlación más alta es con la columna attack_cat, lo cual tiene sentido, ya que es la columna que nos dice si es un ataque o no, sin embargo, no la vamos a borrar, dado que podriamos usarla como un segundo target para el modelo intente decir que ataque es.\n",
    "\n",
    "Otro dato interesante es id, que tiene una correlación alta, pero solo es un identificador unico de la columna, por ende lo vamos a borrar."
   ],
   "metadata": {
    "collapsed": false
   },
   "id": "c4047f569b2da5d4"
  },
  {
   "cell_type": "code",
   "outputs": [
    {
     "data": {
      "text/plain": "label                1.000000\nattack_cat           0.910364\nsttl                 0.624082\nct_state_ttl         0.476559\nstate                0.462972\nct_dst_sport_ltm     0.371672\nswin                 0.364877\ndload                0.352169\ndwin                 0.339166\nrate                 0.335883\nct_src_dport_ltm     0.318518\nct_dst_src_ltm       0.299609\ndmean                0.295173\nstcpb                0.266585\ndtcpb                0.263543\nct_src_ltm           0.252498\nct_srv_dst           0.247812\nct_srv_src           0.246596\nct_dst_ltm           0.240776\nsload                0.165249\nis_sm_ips_ports      0.160126\nsinpkt               0.155454\ndpkts                0.097394\ndloss                0.075961\nservice              0.073552\ndbytes               0.060403\ndjit                 0.048819\nsynack               0.043250\nspkts                0.043040\ndinpkt               0.030136\ndur                  0.029096\nsmean                0.028372\ntcprtt               0.024668\nsbytes               0.019376\ndttl                 0.019369\nresponse_body_len    0.018930\nsjit                 0.016436\nct_flw_http_mthd     0.012237\nct_ftp_cmd           0.009092\nis_ftp_login         0.008762\nproto                0.008023\ntrans_depth          0.002246\nsloss                0.001828\nackdat               0.000817\ndtype: float64"
     },
     "execution_count": 55,
     "metadata": {},
     "output_type": "execute_result"
    }
   ],
   "source": [
    "unsw = unsw.drop(columns=['id'])\n",
    "unsw.corrwith(unsw['label']).abs().sort_values(ascending=False)"
   ],
   "metadata": {
    "collapsed": false,
    "ExecuteTime": {
     "end_time": "2024-03-26T00:47:03.233278Z",
     "start_time": "2024-03-26T00:47:02.919335Z"
    }
   },
   "id": "f66a33a6c811072c",
   "execution_count": 55
  },
  {
   "cell_type": "markdown",
   "source": [
    "Dicho esto, aun tenemos muchas columnas con poca correlacion, por ende vamos a borrar las columnas con correlacion menor a 0.1"
   ],
   "metadata": {
    "collapsed": false
   },
   "id": "ec108e06ca068c85"
  },
  {
   "cell_type": "code",
   "outputs": [],
   "source": [
    "columansToDrop = unsw.columns[unsw.corrwith(unsw['label']).abs() < 0.1]\n",
    "unsw = unsw.drop(columns=columansToDrop)"
   ],
   "metadata": {
    "collapsed": false,
    "ExecuteTime": {
     "end_time": "2024-03-26T00:47:03.536416Z",
     "start_time": "2024-03-26T00:47:03.234280Z"
    }
   },
   "id": "888551acfca9d892",
   "execution_count": 56
  },
  {
   "cell_type": "code",
   "outputs": [
    {
     "data": {
      "text/plain": "label               1.000000\nattack_cat          0.910364\nsttl                0.624082\nct_state_ttl        0.476559\nstate               0.462972\nct_dst_sport_ltm    0.371672\nswin                0.364877\ndload               0.352169\ndwin                0.339166\nrate                0.335883\nct_src_dport_ltm    0.318518\nct_dst_src_ltm      0.299609\ndmean               0.295173\nstcpb               0.266585\ndtcpb               0.263543\nct_src_ltm          0.252498\nct_srv_dst          0.247812\nct_srv_src          0.246596\nct_dst_ltm          0.240776\nsload               0.165249\nis_sm_ips_ports     0.160126\nsinpkt              0.155454\ndtype: float64"
     },
     "execution_count": 57,
     "metadata": {},
     "output_type": "execute_result"
    }
   ],
   "source": [
    "unsw.corrwith(unsw['label']).abs().sort_values(ascending=False)"
   ],
   "metadata": {
    "collapsed": false,
    "ExecuteTime": {
     "end_time": "2024-03-26T00:47:03.680449Z",
     "start_time": "2024-03-26T00:47:03.537416Z"
    }
   },
   "id": "250f5992923d3e9a",
   "execution_count": 57
  },
  {
   "cell_type": "markdown",
   "source": [
    "Teniendo ahora las correlaciones con valores atipicos, vamos a borrar los valores atipicos de una columna a la vez, empezando por la que tenian mayor correlación"
   ],
   "metadata": {
    "collapsed": false
   },
   "id": "513e09f8bd7fb5a3"
  },
  {
   "cell_type": "code",
   "outputs": [
    {
     "name": "stdout",
     "output_type": "stream",
     "text": [
      "Porcentaje de reducción del dataset original 0.0 %\n"
     ]
    },
    {
     "data": {
      "text/plain": "label               1.000000\nattack_cat          0.910364\nsttl                0.624082\nct_state_ttl        0.476559\nstate               0.462972\nct_dst_sport_ltm    0.371672\nswin                0.364877\ndload               0.352169\ndwin                0.339166\nrate                0.335883\nct_src_dport_ltm    0.318518\nct_dst_src_ltm      0.299609\ndmean               0.295173\nstcpb               0.266585\ndtcpb               0.263543\nct_src_ltm          0.252498\nct_srv_dst          0.247812\nct_srv_src          0.246596\nct_dst_ltm          0.240776\nsload               0.165249\nis_sm_ips_ports     0.160126\nsinpkt              0.155454\ndtype: float64"
     },
     "execution_count": 58,
     "metadata": {},
     "output_type": "execute_result"
    }
   ],
   "source": [
    "unsw_limpio = borrar_atipicos(unsw,'sttl')\n",
    "print('Porcentaje de reducción del dataset original', 100 - (unsw_limpio.shape[0]/unsw.shape[0] * 100),'%')\n",
    "unsw_limpio.corrwith(unsw_limpio['label']).abs().sort_values(ascending=False)"
   ],
   "metadata": {
    "collapsed": false,
    "ExecuteTime": {
     "end_time": "2024-03-26T00:47:03.854487Z",
     "start_time": "2024-03-26T00:47:03.682449Z"
    }
   },
   "id": "396213e28c177bd0",
   "execution_count": 58
  },
  {
   "cell_type": "markdown",
   "source": [
    "Podemos ver que no se borran datos atipicos de esta columna, esto se debe a que estos datos estan relativamente cerca al rango intercuartil (1.5 más o menos), por lo cual, vamos a borrar los datos atipicos de la siguiente columna"
   ],
   "metadata": {
    "collapsed": false
   },
   "id": "7a5cb95e68b54857"
  },
  {
   "cell_type": "code",
   "outputs": [
    {
     "name": "stdout",
     "output_type": "stream",
     "text": [
      "Porcentaje de reducción del dataset original 16.450307172268737 %\n"
     ]
    },
    {
     "data": {
      "text/plain": "label               1.000000\nattack_cat          0.906107\nsttl                0.590030\nct_state_ttl        0.450991\nstate               0.421029\ndload               0.338617\nct_dst_sport_ltm    0.299424\nrate                0.295012\nswin                0.273727\ndmean               0.253332\ndwin                0.251502\nstcpb               0.191117\ndtcpb               0.187807\nct_src_dport_ltm    0.185015\nsload               0.162481\nis_sm_ips_ports     0.153805\nsinpkt              0.146713\nct_dst_src_ltm      0.123994\nct_dst_ltm          0.069725\nct_srv_src          0.029525\nct_srv_dst          0.028493\nct_src_ltm          0.023377\ndtype: float64"
     },
     "execution_count": 59,
     "metadata": {},
     "output_type": "execute_result"
    }
   ],
   "source": [
    "unsw_limpio = borrar_atipicos(unsw_limpio,'ct_dst_ltm')\n",
    "print('Porcentaje de reducción del dataset original', 100 - (unsw_limpio.shape[0]/unsw.shape[0] * 100),'%')\n",
    "unsw_limpio.corrwith(unsw_limpio['label']).abs().sort_values(ascending=False)"
   ],
   "metadata": {
    "collapsed": false,
    "ExecuteTime": {
     "end_time": "2024-03-26T00:47:04.014523Z",
     "start_time": "2024-03-26T00:47:03.856488Z"
    }
   },
   "id": "691ceb00be650592",
   "execution_count": 59
  },
  {
   "cell_type": "code",
   "outputs": [
    {
     "name": "stdout",
     "output_type": "stream",
     "text": [
      "Porcentaje de reducción del dataset original 34.4091154292456 %\n"
     ]
    },
    {
     "data": {
      "text/plain": "label               1.000000\nattack_cat          0.869848\nsttl                0.393512\nswin                0.313561\ndwin                0.276636\ndload               0.256146\nct_dst_sport_ltm    0.246633\nstate               0.245720\nis_sm_ips_ports     0.233129\nsinpkt              0.228445\nrate                0.219055\nstcpb               0.214721\ndtcpb               0.212648\nct_state_ttl        0.182855\ndmean               0.176808\nct_src_dport_ltm    0.154632\nsload               0.093860\nct_src_ltm          0.090127\nct_dst_src_ltm      0.054567\nct_srv_dst          0.048670\nct_srv_src          0.045874\nct_dst_ltm          0.032095\ndtype: float64"
     },
     "execution_count": 60,
     "metadata": {},
     "output_type": "execute_result"
    }
   ],
   "source": [
    "unsw_limpio = borrar_atipicos(unsw_limpio,'dload')\n",
    "print('Porcentaje de reducción del dataset original', 100 - (unsw_limpio.shape[0]/unsw.shape[0] * 100),'%')\n",
    "unsw_limpio.corrwith(unsw_limpio['label']).abs().sort_values(ascending=False)"
   ],
   "metadata": {
    "collapsed": false,
    "ExecuteTime": {
     "end_time": "2024-03-26T00:47:04.140552Z",
     "start_time": "2024-03-26T00:47:04.015523Z"
    }
   },
   "id": "945dd60cebc1a3a0",
   "execution_count": 60
  },
  {
   "cell_type": "markdown",
   "source": [
    "Algo preocupante paso, perdimos mucha correlación en todas las columnas al borrar los valores atipicos de las ultimas dos columnas, vamos a empezar de nuevo saltando estas columnas"
   ],
   "metadata": {
    "collapsed": false
   },
   "id": "b569af4331883124"
  },
  {
   "cell_type": "code",
   "outputs": [
    {
     "name": "stdout",
     "output_type": "stream",
     "text": [
      "Porcentaje de reducción del dataset original 1.4603780760886877 %\n"
     ]
    },
    {
     "data": {
      "text/plain": "label               1.000000\nattack_cat          0.909613\nct_state_ttl        0.643144\nsttl                0.639993\nstate               0.534122\nct_dst_sport_ltm    0.371007\ndload               0.358636\nswin                0.354421\ndwin                0.354261\nrate                0.349303\nct_src_dport_ltm    0.317216\nct_dst_src_ltm      0.315516\ndmean               0.303395\nstcpb               0.277607\ndtcpb               0.274624\nct_srv_dst          0.260193\nct_srv_src          0.259997\nct_src_ltm          0.259497\nct_dst_ltm          0.249201\nsload               0.167062\nis_sm_ips_ports     0.162823\nsinpkt              0.158906\ndtype: float64"
     },
     "execution_count": 61,
     "metadata": {},
     "output_type": "execute_result"
    }
   ],
   "source": [
    "unsw_limpio = borrar_atipicos(unsw,'ct_state_ttl')\n",
    "print('Porcentaje de reducción del dataset original', 100 - (unsw_limpio.shape[0]/unsw.shape[0] * 100),'%')\n",
    "unsw_limpio.corrwith(unsw_limpio['label']).abs().sort_values(ascending=False)"
   ],
   "metadata": {
    "collapsed": false,
    "ExecuteTime": {
     "end_time": "2024-03-26T00:47:04.332595Z",
     "start_time": "2024-03-26T00:47:04.141552Z"
    }
   },
   "id": "ce84326caa45807b",
   "execution_count": 61
  },
  {
   "cell_type": "markdown",
   "source": [
    "Aunque perdimos correlacion en attack_cat, recordemos que esta columna podria ser nuestro segundo target, por lo cual no nos deberia preocupar este cambio"
   ],
   "metadata": {
    "collapsed": false
   },
   "id": "cdafd012db20b8c1"
  },
  {
   "cell_type": "code",
   "outputs": [
    {
     "name": "stdout",
     "output_type": "stream",
     "text": [
      "Porcentaje de reducción del dataset original 10.44308095920023 %\n"
     ]
    },
    {
     "data": {
      "text/plain": "label               1.000000\nattack_cat          0.914810\nct_state_ttl        0.629456\nsttl                0.628716\nstate               0.513721\nrate                0.467173\nct_dst_sport_ltm    0.354759\ndload               0.352992\nswin                0.317256\ndwin                0.317088\nct_src_dport_ltm    0.301707\nct_dst_src_ltm      0.295567\ndmean               0.284229\nstcpb               0.243875\ndtcpb               0.240741\nct_src_ltm          0.237281\nct_srv_src          0.235211\nct_srv_dst          0.234720\nct_dst_ltm          0.226706\nis_sm_ips_ports     0.160016\nsinpkt              0.155444\nsload               0.150027\ndtype: float64"
     },
     "execution_count": 62,
     "metadata": {},
     "output_type": "execute_result"
    }
   ],
   "source": [
    "unsw_limpio = borrar_atipicos(unsw_limpio,'rate')  \n",
    "print('Porcentaje de reducción del dataset original', 100 - (unsw_limpio.shape[0]/unsw.shape[0] * 100),'%')\n",
    "unsw_limpio.corrwith(unsw_limpio['label']).abs().sort_values(ascending=False)"
   ],
   "metadata": {
    "collapsed": false,
    "ExecuteTime": {
     "end_time": "2024-03-26T00:47:04.492670Z",
     "start_time": "2024-03-26T00:47:04.333596Z"
    }
   },
   "id": "350d483a21669886",
   "execution_count": 62
  },
  {
   "cell_type": "markdown",
   "source": [
    "De nuevo, aunque rate subio de corralación, muchas otras columnas bajaron, por lo cual vamos a dejarlo así, solo borrando los valores atipicos de ct_state_ttl, que favorecieron la correalción en todo el dataset"
   ],
   "metadata": {
    "collapsed": false
   },
   "id": "4dde55195180ba79"
  },
  {
   "cell_type": "code",
   "outputs": [],
   "source": [
    "unsw_limpio = borrar_atipicos(unsw,'ct_state_ttl')"
   ],
   "metadata": {
    "collapsed": false,
    "ExecuteTime": {
     "end_time": "2024-03-26T00:47:04.523929Z",
     "start_time": "2024-03-26T00:47:04.493671Z"
    }
   },
   "id": "6708c431cda912a2",
   "execution_count": 63
  },
  {
   "cell_type": "markdown",
   "source": [
    "Con esto, terminamos con una cantidad mucho más manejeable de columnas, y con una correlación más alta."
   ],
   "metadata": {
    "collapsed": false
   },
   "id": "9470255ee77647d3"
  },
  {
   "cell_type": "code",
   "outputs": [],
   "source": [
    "#Guardamos el dataset limpio\n",
    "unsw_limpio.to_csv('DataSets/UNSW_Limpio.csv', index=False)"
   ],
   "metadata": {
    "collapsed": false,
    "ExecuteTime": {
     "end_time": "2024-03-26T00:47:06.469144Z",
     "start_time": "2024-03-26T00:47:04.524678Z"
    }
   },
   "id": "a8fdc6bfe726b61c",
   "execution_count": 64
  },
  {
   "cell_type": "markdown",
   "source": [
    "## EDA de KDDCup99"
   ],
   "metadata": {
    "collapsed": false
   },
   "id": "ea27ec07f1218094"
  },
  {
   "cell_type": "code",
   "outputs": [],
   "source": [
    "kdd = pd.read_csv('DataSets/KDDCup99.csv')"
   ],
   "metadata": {
    "collapsed": false,
    "ExecuteTime": {
     "end_time": "2024-03-26T00:47:08.130102Z",
     "start_time": "2024-03-26T00:47:06.470144Z"
    }
   },
   "id": "9b5a93f0d85e6257",
   "execution_count": 65
  },
  {
   "cell_type": "code",
   "outputs": [
    {
     "data": {
      "text/plain": "   duration protocol_type service flag  src_bytes  dst_bytes  land  \\\n0         0           tcp    http   SF        181       5450     0   \n1         0           tcp    http   SF        239        486     0   \n2         0           tcp    http   SF        235       1337     0   \n3         0           tcp    http   SF        219       1337     0   \n4         0           tcp    http   SF        217       2032     0   \n\n   wrong_fragment  urgent  hot  ...  dst_host_diff_srv_rate  \\\n0               0       0    0  ...                     0.0   \n1               0       0    0  ...                     0.0   \n2               0       0    0  ...                     0.0   \n3               0       0    0  ...                     0.0   \n4               0       0    0  ...                     0.0   \n\n   dst_host_same_src_port_rate  dst_host_srv_diff_host_rate  \\\n0                         0.11                          0.0   \n1                         0.05                          0.0   \n2                         0.03                          0.0   \n3                         0.03                          0.0   \n4                         0.02                          0.0   \n\n   dst_host_serror_rate  dst_host_srv_serror_rate  dst_host_rerror_rate  \\\n0                   0.0                       0.0                   0.0   \n1                   0.0                       0.0                   0.0   \n2                   0.0                       0.0                   0.0   \n3                   0.0                       0.0                   0.0   \n4                   0.0                       0.0                   0.0   \n\n   dst_host_srv_rerror_rate   attack  Attack Type  Is attack  \n0                       0.0  normal.       normal          0  \n1                       0.0  normal.       normal          0  \n2                       0.0  normal.       normal          0  \n3                       0.0  normal.       normal          0  \n4                       0.0  normal.       normal          0  \n\n[5 rows x 44 columns]",
      "text/html": "<div>\n<style scoped>\n    .dataframe tbody tr th:only-of-type {\n        vertical-align: middle;\n    }\n\n    .dataframe tbody tr th {\n        vertical-align: top;\n    }\n\n    .dataframe thead th {\n        text-align: right;\n    }\n</style>\n<table border=\"1\" class=\"dataframe\">\n  <thead>\n    <tr style=\"text-align: right;\">\n      <th></th>\n      <th>duration</th>\n      <th>protocol_type</th>\n      <th>service</th>\n      <th>flag</th>\n      <th>src_bytes</th>\n      <th>dst_bytes</th>\n      <th>land</th>\n      <th>wrong_fragment</th>\n      <th>urgent</th>\n      <th>hot</th>\n      <th>...</th>\n      <th>dst_host_diff_srv_rate</th>\n      <th>dst_host_same_src_port_rate</th>\n      <th>dst_host_srv_diff_host_rate</th>\n      <th>dst_host_serror_rate</th>\n      <th>dst_host_srv_serror_rate</th>\n      <th>dst_host_rerror_rate</th>\n      <th>dst_host_srv_rerror_rate</th>\n      <th>attack</th>\n      <th>Attack Type</th>\n      <th>Is attack</th>\n    </tr>\n  </thead>\n  <tbody>\n    <tr>\n      <th>0</th>\n      <td>0</td>\n      <td>tcp</td>\n      <td>http</td>\n      <td>SF</td>\n      <td>181</td>\n      <td>5450</td>\n      <td>0</td>\n      <td>0</td>\n      <td>0</td>\n      <td>0</td>\n      <td>...</td>\n      <td>0.0</td>\n      <td>0.11</td>\n      <td>0.0</td>\n      <td>0.0</td>\n      <td>0.0</td>\n      <td>0.0</td>\n      <td>0.0</td>\n      <td>normal.</td>\n      <td>normal</td>\n      <td>0</td>\n    </tr>\n    <tr>\n      <th>1</th>\n      <td>0</td>\n      <td>tcp</td>\n      <td>http</td>\n      <td>SF</td>\n      <td>239</td>\n      <td>486</td>\n      <td>0</td>\n      <td>0</td>\n      <td>0</td>\n      <td>0</td>\n      <td>...</td>\n      <td>0.0</td>\n      <td>0.05</td>\n      <td>0.0</td>\n      <td>0.0</td>\n      <td>0.0</td>\n      <td>0.0</td>\n      <td>0.0</td>\n      <td>normal.</td>\n      <td>normal</td>\n      <td>0</td>\n    </tr>\n    <tr>\n      <th>2</th>\n      <td>0</td>\n      <td>tcp</td>\n      <td>http</td>\n      <td>SF</td>\n      <td>235</td>\n      <td>1337</td>\n      <td>0</td>\n      <td>0</td>\n      <td>0</td>\n      <td>0</td>\n      <td>...</td>\n      <td>0.0</td>\n      <td>0.03</td>\n      <td>0.0</td>\n      <td>0.0</td>\n      <td>0.0</td>\n      <td>0.0</td>\n      <td>0.0</td>\n      <td>normal.</td>\n      <td>normal</td>\n      <td>0</td>\n    </tr>\n    <tr>\n      <th>3</th>\n      <td>0</td>\n      <td>tcp</td>\n      <td>http</td>\n      <td>SF</td>\n      <td>219</td>\n      <td>1337</td>\n      <td>0</td>\n      <td>0</td>\n      <td>0</td>\n      <td>0</td>\n      <td>...</td>\n      <td>0.0</td>\n      <td>0.03</td>\n      <td>0.0</td>\n      <td>0.0</td>\n      <td>0.0</td>\n      <td>0.0</td>\n      <td>0.0</td>\n      <td>normal.</td>\n      <td>normal</td>\n      <td>0</td>\n    </tr>\n    <tr>\n      <th>4</th>\n      <td>0</td>\n      <td>tcp</td>\n      <td>http</td>\n      <td>SF</td>\n      <td>217</td>\n      <td>2032</td>\n      <td>0</td>\n      <td>0</td>\n      <td>0</td>\n      <td>0</td>\n      <td>...</td>\n      <td>0.0</td>\n      <td>0.02</td>\n      <td>0.0</td>\n      <td>0.0</td>\n      <td>0.0</td>\n      <td>0.0</td>\n      <td>0.0</td>\n      <td>normal.</td>\n      <td>normal</td>\n      <td>0</td>\n    </tr>\n  </tbody>\n</table>\n<p>5 rows × 44 columns</p>\n</div>"
     },
     "execution_count": 66,
     "metadata": {},
     "output_type": "execute_result"
    }
   ],
   "source": [
    "kdd.head()"
   ],
   "metadata": {
    "collapsed": false,
    "ExecuteTime": {
     "end_time": "2024-03-26T00:47:08.146105Z",
     "start_time": "2024-03-26T00:47:08.131102Z"
    }
   },
   "id": "525f43450db9045b",
   "execution_count": 66
  },
  {
   "cell_type": "code",
   "outputs": [
    {
     "data": {
      "text/plain": "duration                         int64\nprotocol_type                   object\nservice                         object\nflag                            object\nsrc_bytes                        int64\ndst_bytes                        int64\nland                             int64\nwrong_fragment                   int64\nurgent                           int64\nhot                              int64\nnum_failed_logins                int64\nlogged_in                        int64\nnum_compromised                  int64\nroot_shell                       int64\nsu_attempted                     int64\nnum_root                         int64\nnum_file_creations               int64\nnum_shells                       int64\nnum_access_files                 int64\nnum_outbound_cmds                int64\nis_host_login                    int64\nis_guest_login                   int64\ncount                            int64\nsrv_count                        int64\nserror_rate                    float64\nsrv_serror_rate                float64\nrerror_rate                    float64\nsrv_rerror_rate                float64\nsame_srv_rate                  float64\ndiff_srv_rate                  float64\nsrv_diff_host_rate             float64\ndst_host_count                   int64\ndst_host_srv_count               int64\ndst_host_same_srv_rate         float64\ndst_host_diff_srv_rate         float64\ndst_host_same_src_port_rate    float64\ndst_host_srv_diff_host_rate    float64\ndst_host_serror_rate           float64\ndst_host_srv_serror_rate       float64\ndst_host_rerror_rate           float64\ndst_host_srv_rerror_rate       float64\nattack                          object\nAttack Type                     object\nIs attack                        int64\ndtype: object"
     },
     "execution_count": 67,
     "metadata": {},
     "output_type": "execute_result"
    }
   ],
   "source": [
    "kdd.dtypes"
   ],
   "metadata": {
    "collapsed": false,
    "ExecuteTime": {
     "end_time": "2024-03-26T00:47:08.178113Z",
     "start_time": "2024-03-26T00:47:08.147105Z"
    }
   },
   "id": "caa79bd727b72501",
   "execution_count": 67
  },
  {
   "cell_type": "markdown",
   "source": [
    "Tenemos 44 columnas, donde 3 pueden ser nuestro target, Attack nos dice que ataque es, attack Type el tipo de ataque e Is attack es 0 si no lo es y 1 si lo es.\n",
    "\n",
    "Observemos la distribución de los ataques"
   ],
   "metadata": {
    "collapsed": false
   },
   "id": "cc1e5200f1c86e60"
  },
  {
   "cell_type": "code",
   "outputs": [
    {
     "data": {
      "text/plain": "attack\nsmurf.              280790\nneptune.            107201\nnormal.              97278\nback.                 2203\nsatan.                1589\nipsweep.              1247\nportsweep.            1040\nwarezclient.          1020\nteardrop.              979\npod.                   264\nnmap.                  231\nguess_passwd.           53\nbuffer_overflow.        30\nland.                   21\nwarezmaster.            20\nimap.                   12\nrootkit.                10\nloadmodule.              9\nftp_write.               8\nmultihop.                7\nphf.                     4\nperl.                    3\nspy.                     2\nName: count, dtype: int64"
     },
     "execution_count": 68,
     "metadata": {},
     "output_type": "execute_result"
    }
   ],
   "source": [
    "kdd['attack'].value_counts()"
   ],
   "metadata": {
    "collapsed": false,
    "ExecuteTime": {
     "end_time": "2024-03-26T00:47:08.210120Z",
     "start_time": "2024-03-26T00:47:08.179113Z"
    }
   },
   "id": "8cc25d2f1ba99a9b",
   "execution_count": 68
  },
  {
   "cell_type": "code",
   "outputs": [
    {
     "data": {
      "text/plain": "23"
     },
     "execution_count": 69,
     "metadata": {},
     "output_type": "execute_result"
    }
   ],
   "source": [
    "kdd['attack'].nunique()"
   ],
   "metadata": {
    "collapsed": false,
    "ExecuteTime": {
     "end_time": "2024-03-26T00:47:08.274134Z",
     "start_time": "2024-03-26T00:47:08.211120Z"
    }
   },
   "id": "d9da85ac6cbb745e",
   "execution_count": 69
  },
  {
   "cell_type": "code",
   "outputs": [
    {
     "data": {
      "text/plain": "<BarContainer object of 10 artists>"
     },
     "execution_count": 70,
     "metadata": {},
     "output_type": "execute_result"
    },
    {
     "data": {
      "text/plain": "<Figure size 2000x600 with 1 Axes>",
      "image/png": "[encoded data removed]"
     },
     "metadata": {},
     "output_type": "display_data"
    }
   ],
   "source": [
    "plt.figure(figsize=(20, 6))\n",
    "plt.bar(kdd['attack'].value_counts().nlargest(10).index, kdd['attack'].value_counts().nlargest(10))"
   ],
   "metadata": {
    "collapsed": false,
    "ExecuteTime": {
     "end_time": "2024-03-26T00:47:08.481546Z",
     "start_time": "2024-03-26T00:47:08.275135Z"
    }
   },
   "id": "5d2b12288e568ef5",
   "execution_count": 70
  },
  {
   "cell_type": "markdown",
   "source": [
    "Podemos ver que hay 22 ataques, y desde ahora podemos observar que la mayoria de los datos son de ataque, por lo cual, vamos a observar la distribución de los tipos de ataques"
   ],
   "metadata": {
    "collapsed": false
   },
   "id": "9b188c703c1f2b0d"
  },
  {
   "cell_type": "code",
   "outputs": [
    {
     "data": {
      "text/plain": "Attack Type\ndos       391458\nnormal     97278\nprobe       4107\nr2l         1126\nu2r           52\nName: count, dtype: int64"
     },
     "execution_count": 71,
     "metadata": {},
     "output_type": "execute_result"
    }
   ],
   "source": [
    "kdd['Attack Type'].value_counts()"
   ],
   "metadata": {
    "collapsed": false,
    "ExecuteTime": {
     "end_time": "2024-03-26T00:47:08.513553Z",
     "start_time": "2024-03-26T00:47:08.482545Z"
    }
   },
   "id": "fc442a31e857107f",
   "execution_count": 71
  },
  {
   "cell_type": "code",
   "outputs": [
    {
     "data": {
      "text/plain": "5"
     },
     "execution_count": 72,
     "metadata": {},
     "output_type": "execute_result"
    }
   ],
   "source": [
    "kdd['Attack Type'].nunique()"
   ],
   "metadata": {
    "collapsed": false,
    "ExecuteTime": {
     "end_time": "2024-03-26T00:47:08.545560Z",
     "start_time": "2024-03-26T00:47:08.514552Z"
    }
   },
   "id": "805ebecd83db1ac",
   "execution_count": 72
  },
  {
   "cell_type": "code",
   "outputs": [
    {
     "data": {
      "text/plain": "<BarContainer object of 5 artists>"
     },
     "execution_count": 73,
     "metadata": {},
     "output_type": "execute_result"
    },
    {
     "data": {
      "text/plain": "<Figure size 640x480 with 1 Axes>",
      "image/png": "[encoded data removed]"
     },
     "metadata": {},
     "output_type": "display_data"
    }
   ],
   "source": [
    "plt.bar(kdd['Attack Type'].value_counts().index, kdd['Attack Type'].value_counts())"
   ],
   "metadata": {
    "collapsed": false,
    "ExecuteTime": {
     "end_time": "2024-03-26T00:47:08.705597Z",
     "start_time": "2024-03-26T00:47:08.546560Z"
    }
   },
   "id": "2be4f991981dc7ce",
   "execution_count": 73
  },
  {
   "cell_type": "markdown",
   "source": [
    "Ahora, podemos ver que solo hay 4 tipos de ataques, donde la mayoria son ddos\n",
    "\n",
    "Ahora, observemos la distribución de Is attack"
   ],
   "metadata": {
    "collapsed": false
   },
   "id": "1bf986caca284fe6"
  },
  {
   "cell_type": "code",
   "outputs": [
    {
     "data": {
      "text/plain": "Is attack\n1    396743\n0     97278\nName: count, dtype: int64"
     },
     "execution_count": 74,
     "metadata": {},
     "output_type": "execute_result"
    }
   ],
   "source": [
    "kdd['Is attack'].value_counts()"
   ],
   "metadata": {
    "collapsed": false,
    "ExecuteTime": {
     "end_time": "2024-03-26T00:47:08.721599Z",
     "start_time": "2024-03-26T00:47:08.706596Z"
    }
   },
   "id": "e61b0338a2c8cb3a",
   "execution_count": 74
  },
  {
   "cell_type": "code",
   "outputs": [
    {
     "data": {
      "text/plain": "2"
     },
     "execution_count": 75,
     "metadata": {},
     "output_type": "execute_result"
    }
   ],
   "source": [
    "kdd['Is attack'].nunique()"
   ],
   "metadata": {
    "collapsed": false,
    "ExecuteTime": {
     "end_time": "2024-03-26T00:47:08.753607Z",
     "start_time": "2024-03-26T00:47:08.722600Z"
    }
   },
   "id": "6a483d7aab4511e7",
   "execution_count": 75
  },
  {
   "cell_type": "code",
   "outputs": [
    {
     "data": {
      "text/plain": "([<matplotlib.axis.XTick at 0x180ac536a10>,\n  <matplotlib.axis.XTick at 0x180ac5369e0>],\n [Text(1, 0, '1'), Text(0, 0, '0')])"
     },
     "execution_count": 76,
     "metadata": {},
     "output_type": "execute_result"
    },
    {
     "data": {
      "text/plain": "<Figure size 640x480 with 1 Axes>",
      "image/png": "[encoded data removed]"
     },
     "metadata": {},
     "output_type": "display_data"
    }
   ],
   "source": [
    "plt.bar(kdd['Is attack'].value_counts().index, kdd['Is attack'].value_counts())\n",
    "plt.xticks(unsw['label'].value_counts().index, ['1','0'])"
   ],
   "metadata": {
    "collapsed": false,
    "ExecuteTime": {
     "end_time": "2024-03-26T00:47:08.865647Z",
     "start_time": "2024-03-26T00:47:08.754608Z"
    }
   },
   "id": "cc7275308e89ffc4",
   "execution_count": 76
  },
  {
   "cell_type": "code",
   "outputs": [
    {
     "data": {
      "text/plain": "<Figure size 640x480 with 1 Axes>",
      "image/png": "[encoded data removed]"
     },
     "metadata": {},
     "output_type": "display_data"
    }
   ],
   "source": [
    "labels = kdd['Is attack'].value_counts().index.tolist()\n",
    "sizes = kdd['Is attack'].value_counts().tolist()\n",
    "plt.pie(sizes, labels=labels, autopct='%1.1f%%')\n",
    "plt.title('Distributcion de Is attack')\n",
    "plt.show()"
   ],
   "metadata": {
    "collapsed": false,
    "ExecuteTime": {
     "end_time": "2024-03-26T00:47:08.929662Z",
     "start_time": "2024-03-26T00:47:08.866647Z"
    }
   },
   "id": "3e7aedbc64228703",
   "execution_count": 77
  },
  {
   "cell_type": "markdown",
   "source": [
    "Podemos ver que hay 2 valores únicos, y que hay más datos de ataques que de no ataques, lo cual se podía observar en attack_cat, pero ahora lo podemos ver de manera más clara. Esto podría ser un problema, ya que el modelo podría aprender a clasificar todo como ataque, por lo cual tendremos que tener cuidado con esto. En el peor de los casos, podamos usar el dataset de Kdd que incluye todos los datos para ver si tiene una mejor distribución de los datos."
   ],
   "metadata": {
    "collapsed": false
   },
   "id": "fe7493462d408495"
  },
  {
   "cell_type": "markdown",
   "source": [
    "Ahora observemos los datos categoricos, empezando por protocol_type"
   ],
   "metadata": {
    "collapsed": false
   },
   "id": "e5d61160658532de"
  },
  {
   "cell_type": "code",
   "outputs": [
    {
     "data": {
      "text/plain": "protocol_type\nicmp    283602\ntcp     190065\nudp      20354\nName: count, dtype: int64"
     },
     "execution_count": 78,
     "metadata": {},
     "output_type": "execute_result"
    }
   ],
   "source": [
    "kdd['protocol_type'].value_counts()"
   ],
   "metadata": {
    "collapsed": false,
    "ExecuteTime": {
     "end_time": "2024-03-26T00:47:08.961668Z",
     "start_time": "2024-03-26T00:47:08.930661Z"
    }
   },
   "id": "6f3d47cb50a6488b",
   "execution_count": 78
  },
  {
   "cell_type": "code",
   "outputs": [
    {
     "data": {
      "text/plain": "3"
     },
     "execution_count": 79,
     "metadata": {},
     "output_type": "execute_result"
    }
   ],
   "source": [
    "kdd['protocol_type'].nunique()"
   ],
   "metadata": {
    "collapsed": false,
    "ExecuteTime": {
     "end_time": "2024-03-26T00:47:09.009680Z",
     "start_time": "2024-03-26T00:47:08.962668Z"
    }
   },
   "id": "131ce83dcf9101c8",
   "execution_count": 79
  },
  {
   "cell_type": "code",
   "outputs": [
    {
     "data": {
      "text/plain": "<BarContainer object of 3 artists>"
     },
     "execution_count": 80,
     "metadata": {},
     "output_type": "execute_result"
    },
    {
     "data": {
      "text/plain": "<Figure size 640x480 with 1 Axes>",
      "image/png": "[encoded data removed]"
     },
     "metadata": {},
     "output_type": "display_data"
    }
   ],
   "source": [
    "plt.bar(kdd['protocol_type'].value_counts().index, kdd['protocol_type'].value_counts())"
   ],
   "metadata": {
    "collapsed": false,
    "ExecuteTime": {
     "end_time": "2024-03-26T00:47:09.166715Z",
     "start_time": "2024-03-26T00:47:09.010679Z"
    }
   },
   "id": "e7fffe5c79115dcf",
   "execution_count": 80
  },
  {
   "cell_type": "markdown",
   "source": [
    "Vemos que tenemos muchos menos que en unsw, sin embargo, en este caso no tenemos datos extraños. Dicho esto, podriamos tener problemas por la pequeña cantidad de categorias"
   ],
   "metadata": {
    "collapsed": false
   },
   "id": "ff236a5744e4a36a"
  },
  {
   "cell_type": "markdown",
   "source": [
    "Ahora, observemos la columna service"
   ],
   "metadata": {
    "collapsed": false
   },
   "id": "e2d1732f7f0bc5a9"
  },
  {
   "cell_type": "code",
   "outputs": [
    {
     "data": {
      "text/plain": "service\necr_i      281400\nprivate    110893\nhttp        64293\nsmtp         9723\nother        7237\n            ...  \nX11            11\ntim_i           7\npm_dump         1\ntftp_u          1\nred_i           1\nName: count, Length: 66, dtype: int64"
     },
     "execution_count": 81,
     "metadata": {},
     "output_type": "execute_result"
    }
   ],
   "source": [
    "kdd['service'].value_counts()"
   ],
   "metadata": {
    "collapsed": false,
    "ExecuteTime": {
     "end_time": "2024-03-26T00:47:09.213725Z",
     "start_time": "2024-03-26T00:47:09.167715Z"
    }
   },
   "id": "2a1a5680b4831c99",
   "execution_count": 81
  },
  {
   "cell_type": "code",
   "outputs": [
    {
     "data": {
      "text/plain": "66"
     },
     "execution_count": 82,
     "metadata": {},
     "output_type": "execute_result"
    }
   ],
   "source": [
    "kdd['service'].nunique()"
   ],
   "metadata": {
    "collapsed": false,
    "ExecuteTime": {
     "end_time": "2024-03-26T00:47:09.245732Z",
     "start_time": "2024-03-26T00:47:09.221728Z"
    }
   },
   "id": "3275bdb9acbe077e",
   "execution_count": 82
  },
  {
   "cell_type": "code",
   "outputs": [
    {
     "data": {
      "text/plain": "<BarContainer object of 10 artists>"
     },
     "execution_count": 83,
     "metadata": {},
     "output_type": "execute_result"
    },
    {
     "data": {
      "text/plain": "<Figure size 2000x600 with 1 Axes>",
      "image/png": "[encoded data removed]"
     },
     "metadata": {},
     "output_type": "display_data"
    }
   ],
   "source": [
    "plt.figure(figsize=(20, 6))\n",
    "plt.bar(kdd['service'].value_counts().nlargest(10).index, kdd['service'].value_counts().nlargest(10))"
   ],
   "metadata": {
    "collapsed": false,
    "ExecuteTime": {
     "end_time": "2024-03-26T00:47:09.483786Z",
     "start_time": "2024-03-26T00:47:09.246733Z"
    }
   },
   "id": "148c87a32a7a6ff2",
   "execution_count": 83
  },
  {
   "cell_type": "markdown",
   "source": [
    "Ahore tenemos muchos servicios, 66 en total, donde la mayoria son erc_i, tendriamos que investigar que significa esto."
   ],
   "metadata": {
    "collapsed": false
   },
   "id": "2a48cc8f0f2daa94"
  },
  {
   "cell_type": "markdown",
   "source": [
    "Ahora, observemos la columna flag"
   ],
   "metadata": {
    "collapsed": false
   },
   "id": "f4843b526c0cd50c"
  },
  {
   "cell_type": "code",
   "outputs": [
    {
     "data": {
      "text/plain": "flag\nSF        378440\nS0         87007\nREJ        26875\nRSTR         903\nRSTO         579\nSH           107\nS1            57\nS2            24\nRSTOS0        11\nS3            10\nOTH            8\nName: count, dtype: int64"
     },
     "execution_count": 84,
     "metadata": {},
     "output_type": "execute_result"
    }
   ],
   "source": [
    "kdd['flag'].value_counts()"
   ],
   "metadata": {
    "collapsed": false,
    "ExecuteTime": {
     "end_time": "2024-03-26T00:47:09.515793Z",
     "start_time": "2024-03-26T00:47:09.484786Z"
    }
   },
   "id": "81524e1e8a280a2",
   "execution_count": 84
  },
  {
   "cell_type": "code",
   "outputs": [
    {
     "data": {
      "text/plain": "11"
     },
     "execution_count": 85,
     "metadata": {},
     "output_type": "execute_result"
    }
   ],
   "source": [
    "kdd['flag'].nunique()"
   ],
   "metadata": {
    "collapsed": false,
    "ExecuteTime": {
     "end_time": "2024-03-26T00:47:09.547801Z",
     "start_time": "2024-03-26T00:47:09.516793Z"
    }
   },
   "id": "ebd7e4f4394251e0",
   "execution_count": 85
  },
  {
   "cell_type": "code",
   "outputs": [
    {
     "data": {
      "text/plain": "<BarContainer object of 11 artists>"
     },
     "execution_count": 86,
     "metadata": {},
     "output_type": "execute_result"
    },
    {
     "data": {
      "text/plain": "<Figure size 1300x600 with 1 Axes>",
      "image/png": "[encoded data removed]"
     },
     "metadata": {},
     "output_type": "display_data"
    }
   ],
   "source": [
    "plt.figure(figsize=(13, 6))\n",
    "plt.bar(kdd['flag'].value_counts().index, kdd['flag'].value_counts())"
   ],
   "metadata": {
    "collapsed": false,
    "ExecuteTime": {
     "end_time": "2024-03-26T00:47:09.835865Z",
     "start_time": "2024-03-26T00:47:09.549800Z"
    }
   },
   "id": "52c53d7756f1991b",
   "execution_count": 86
  },
  {
   "cell_type": "markdown",
   "source": [
    "Podemos ver que hay 11 valores únicos, y que la mayoría son SF, que significa que la conexión fue establecida y que no hubo problemas. De nuevo, tenemos varias columnas con pocos datos"
   ],
   "metadata": {
    "collapsed": false
   },
   "id": "641adbe1cb38812"
  },
  {
   "cell_type": "markdown",
   "source": [
    "Ahora que observamos todas las columnas categoricas, vamos a observar la correlación, para esto, tenemos que usar label encoder"
   ],
   "metadata": {
    "collapsed": false
   },
   "id": "e4fba8e8d475f796"
  },
  {
   "cell_type": "code",
   "outputs": [],
   "source": [
    "kdd['protocol_type'] = le.fit_transform(kdd['protocol_type'])\n",
    "kdd['service'] = le.fit_transform(kdd['service'])\n",
    "kdd['flag'] = le.fit_transform(kdd['flag'])\n",
    "kdd['Attack Type'] = kdd['Attack Type'].replace('normal', '0')\n",
    "kdd['Attack Type'] = le.fit_transform(kdd['Attack Type'])\n",
    "kdd['attack'] = kdd['attack'].replace('normal.', '0')\n",
    "kdd['attack'] = le.fit_transform(kdd['attack'])"
   ],
   "metadata": {
    "collapsed": false,
    "ExecuteTime": {
     "end_time": "2024-03-26T00:47:10.248958Z",
     "start_time": "2024-03-26T00:47:09.836865Z"
    }
   },
   "id": "67d701023bdfd1e4",
   "execution_count": 87
  },
  {
   "cell_type": "markdown",
   "source": [
    "Verificamos que los datos se hayan transformado correctamente, y que las conexiones normales sean 0"
   ],
   "metadata": {
    "collapsed": false
   },
   "id": "f0e0e229a95d35ef"
  },
  {
   "cell_type": "code",
   "outputs": [
    {
     "name": "stdout",
     "output_type": "stream",
     "text": [
      "[1 2 0]\n",
      "[22 50 17 11  3 56 18 13 39 14 40 45 43 19 48 59 31 29 47 20 52 32 65 10\n",
      " 30 24  8  7 38 49  0 37 23 16 44 15  5 62 26 27 12  9 55 54 25 21  6 42\n",
      " 53 63 34 35 33 51 64  4  2 28 36 60  1 61 41 57 58 46]\n",
      "[ 9  6  1  7  5  8  2  4  3  0 10]\n",
      "[0 4 1 3 2]\n",
      "[ 0  2  8 12 10 18  4 14 20 15  6  7  3  1  5 17 13 11  9 22 21 19 16]\n"
     ]
    }
   ],
   "source": [
    "print(kdd['protocol_type'].unique())\n",
    "print(kdd['service'].unique())\n",
    "print(kdd['flag'].unique())\n",
    "print(kdd['Attack Type'].unique())\n",
    "print(kdd['attack'].unique())"
   ],
   "metadata": {
    "collapsed": false,
    "ExecuteTime": {
     "end_time": "2024-03-26T00:47:10.279965Z",
     "start_time": "2024-03-26T00:47:10.249958Z"
    }
   },
   "id": "208240fc75c412ec",
   "execution_count": 88
  },
  {
   "cell_type": "code",
   "outputs": [
    {
     "data": {
      "text/plain": "0    0\n1    0\n2    0\n3    0\n4    0\nName: attack, dtype: int32"
     },
     "execution_count": 89,
     "metadata": {},
     "output_type": "execute_result"
    }
   ],
   "source": [
    "kdd['attack'].head()"
   ],
   "metadata": {
    "collapsed": false,
    "ExecuteTime": {
     "end_time": "2024-03-26T00:47:10.295968Z",
     "start_time": "2024-03-26T00:47:10.280965Z"
    }
   },
   "id": "37e21799567dd704",
   "execution_count": 89
  },
  {
   "cell_type": "code",
   "outputs": [
    {
     "data": {
      "text/plain": "0    0\n1    0\n2    0\n3    0\n4    0\nName: Attack Type, dtype: int32"
     },
     "execution_count": 90,
     "metadata": {},
     "output_type": "execute_result"
    }
   ],
   "source": [
    "kdd['Attack Type'].head()"
   ],
   "metadata": {
    "collapsed": false,
    "ExecuteTime": {
     "end_time": "2024-03-26T00:47:10.311972Z",
     "start_time": "2024-03-26T00:47:10.296969Z"
    }
   },
   "id": "af896677b6c3b714",
   "execution_count": 90
  },
  {
   "cell_type": "markdown",
   "source": [
    "Ahora, observemos la correlación"
   ],
   "metadata": {
    "collapsed": false
   },
   "id": "471d556b2b442d8b"
  },
  {
   "cell_type": "code",
   "outputs": [
    {
     "data": {
      "text/plain": "duration                       0\nprotocol_type                  0\nservice                        0\nflag                           0\nsrc_bytes                      0\ndst_bytes                      0\nland                           0\nwrong_fragment                 0\nurgent                         0\nhot                            0\nnum_failed_logins              0\nlogged_in                      0\nnum_compromised                0\nroot_shell                     0\nsu_attempted                   0\nnum_root                       0\nnum_file_creations             0\nnum_shells                     0\nnum_access_files               0\nnum_outbound_cmds              0\nis_host_login                  0\nis_guest_login                 0\ncount                          0\nsrv_count                      0\nserror_rate                    0\nsrv_serror_rate                0\nrerror_rate                    0\nsrv_rerror_rate                0\nsame_srv_rate                  0\ndiff_srv_rate                  0\nsrv_diff_host_rate             0\ndst_host_count                 0\ndst_host_srv_count             0\ndst_host_same_srv_rate         0\ndst_host_diff_srv_rate         0\ndst_host_same_src_port_rate    0\ndst_host_srv_diff_host_rate    0\ndst_host_serror_rate           0\ndst_host_srv_serror_rate       0\ndst_host_rerror_rate           0\ndst_host_srv_rerror_rate       0\nattack                         0\nAttack Type                    0\nIs attack                      0\ndtype: int64"
     },
     "execution_count": 91,
     "metadata": {},
     "output_type": "execute_result"
    }
   ],
   "source": [
    "kdd.isna().sum()"
   ],
   "metadata": {
    "collapsed": false,
    "ExecuteTime": {
     "end_time": "2024-03-26T00:47:10.357982Z",
     "start_time": "2024-03-26T00:47:10.312972Z"
    }
   },
   "id": "47538c72a1d4976",
   "execution_count": 91
  },
  {
   "cell_type": "markdown",
   "source": [
    "Dado que tenemos 44 columnas, vamos a observar los datos atípicos de solo las columnas con correlación mayor a 0.1"
   ],
   "metadata": {
    "collapsed": false
   },
   "id": "ce423751ff81cae6"
  },
  {
   "cell_type": "code",
   "outputs": [
    {
     "name": "stderr",
     "output_type": "stream",
     "text": [
      "C:\\Users\\Usuario\\OneDrive\\Escritorio\\Cosas\\Cosas de la U\\Semestre 7\\pdg\\pdg\\EDA\\.venv\\lib\\site-packages\\numpy\\lib\\function_base.py:2897: RuntimeWarning: invalid value encountered in divide\n",
      "  c /= stddev[:, None]\n",
      "C:\\Users\\Usuario\\OneDrive\\Escritorio\\Cosas\\Cosas de la U\\Semestre 7\\pdg\\pdg\\EDA\\.venv\\lib\\site-packages\\numpy\\lib\\function_base.py:2898: RuntimeWarning: invalid value encountered in divide\n",
      "  c /= stddev[None, :]\n"
     ]
    },
    {
     "data": {
      "text/plain": "Is attack                      1.000000\nAttack Type                    0.948661\nattack                         0.879475\nlogged_in                      0.795282\ncount                          0.752978\ndst_host_count                 0.642110\nprotocol_type                  0.616601\nsrv_count                      0.566829\ndst_host_same_src_port_rate    0.481458\nsrv_diff_host_rate             0.364687\nsame_srv_rate                  0.247405\ndst_host_srv_serror_rate       0.227975\nserror_rate                    0.227739\ndst_host_serror_rate           0.227205\nsrv_serror_rate                0.227189\ndst_host_srv_diff_host_rate    0.204958\nflag                           0.155672\nservice                        0.131723\nduration                       0.118014\ndst_host_diff_srv_rate         0.115901\ndst_host_same_srv_rate         0.109950\ndst_host_srv_count             0.062566\nnum_access_files               0.054268\ndst_bytes                      0.037709\nis_guest_login                 0.032299\nwrong_fragment                 0.023630\nnum_file_creations             0.018671\ndiff_srv_rate                  0.016522\nnum_shells                     0.014951\nnum_root                       0.011006\nsu_attempted                   0.008789\nhot                            0.006327\nroot_shell                     0.005871\nnum_compromised                0.005046\ndst_host_srv_rerror_rate       0.003404\nrerror_rate                    0.003190\nsrv_rerror_rate                0.003162\nland                           0.002542\nurgent                         0.001498\nnum_failed_logins              0.001060\nsrc_bytes                      0.000936\ndst_host_rerror_rate           0.000860\nnum_outbound_cmds                   NaN\nis_host_login                       NaN\ndtype: float64"
     },
     "execution_count": 92,
     "metadata": {},
     "output_type": "execute_result"
    }
   ],
   "source": [
    "kdd.corrwith(kdd['Is attack']).abs().sort_values(ascending=False)"
   ],
   "metadata": {
    "collapsed": false,
    "ExecuteTime": {
     "end_time": "2024-03-26T00:47:10.902104Z",
     "start_time": "2024-03-26T00:47:10.358982Z"
    }
   },
   "id": "66289473517adb3",
   "execution_count": 92
  },
  {
   "cell_type": "markdown",
   "source": [
    "Podemos ver que para esta distribución del dataset num_outbound_cmds y is host login, no tienen correlación, al solo tener 1 dato unico, por lo cual vamos a borrar estas columnas"
   ],
   "metadata": {
    "collapsed": false
   },
   "id": "8c235502637266d2"
  },
  {
   "cell_type": "code",
   "outputs": [],
   "source": [
    "kdd = kdd.drop(columns=['num_outbound_cmds', 'is_host_login'])"
   ],
   "metadata": {
    "collapsed": false,
    "ExecuteTime": {
     "end_time": "2024-03-26T00:47:10.966119Z",
     "start_time": "2024-03-26T00:47:10.903104Z"
    }
   },
   "id": "9cd44369a650d53f",
   "execution_count": 93
  },
  {
   "cell_type": "markdown",
   "source": [
    "De nuevo, no nos interesan las 3 primeras columnas, dado que son nuestras columnas \"target\", pero nos podrian ser utiles para posibles modelos futuros, por lo cual no las vamos a borrar.\n",
    "\n",
    "Dicho esto, de nuevo, vamos a filtrar las columnas con correlación menor a 0.1"
   ],
   "metadata": {
    "collapsed": false
   },
   "id": "788e00e12ce2c0cc"
  },
  {
   "cell_type": "code",
   "outputs": [],
   "source": [
    "columansToDrop = kdd.columns[kdd.corrwith(kdd['Is attack']).abs() < 0.1]\n",
    "kdd = kdd.drop(columns=columansToDrop)"
   ],
   "metadata": {
    "collapsed": false,
    "ExecuteTime": {
     "end_time": "2024-03-26T00:47:11.498956Z",
     "start_time": "2024-03-26T00:47:10.967119Z"
    }
   },
   "id": "c8bb37cf0558cf40",
   "execution_count": 94
  },
  {
   "cell_type": "code",
   "outputs": [
    {
     "data": {
      "text/plain": "Is attack                      1.000000\nAttack Type                    0.948661\nattack                         0.879475\nlogged_in                      0.795282\ncount                          0.752978\ndst_host_count                 0.642110\nprotocol_type                  0.616601\nsrv_count                      0.566829\ndst_host_same_src_port_rate    0.481458\nsrv_diff_host_rate             0.364687\nsame_srv_rate                  0.247405\ndst_host_srv_serror_rate       0.227975\nserror_rate                    0.227739\ndst_host_serror_rate           0.227205\nsrv_serror_rate                0.227189\ndst_host_srv_diff_host_rate    0.204958\nflag                           0.155672\nservice                        0.131723\nduration                       0.118014\ndst_host_diff_srv_rate         0.115901\ndst_host_same_srv_rate         0.109950\ndtype: float64"
     },
     "execution_count": 95,
     "metadata": {},
     "output_type": "execute_result"
    }
   ],
   "source": [
    "kdd.corrwith(kdd['Is attack']).abs().sort_values(ascending=False)"
   ],
   "metadata": {
    "collapsed": false,
    "ExecuteTime": {
     "end_time": "2024-03-26T00:47:11.737009Z",
     "start_time": "2024-03-26T00:47:11.502957Z"
    }
   },
   "id": "343b0010cdcec4ba",
   "execution_count": 95
  },
  {
   "cell_type": "code",
   "outputs": [
    {
     "data": {
      "text/plain": "            duration  protocol_type        service           flag  \\\ncount  494021.000000  494021.000000  494021.000000  494021.000000   \nmean       47.979302       0.467132      23.408894       7.842446   \nstd       707.746472       0.575606      13.538332       2.250853   \nmin         0.000000       0.000000       0.000000       0.000000   \n25%         0.000000       0.000000      14.000000       9.000000   \n50%         0.000000       0.000000      14.000000       9.000000   \n75%         0.000000       1.000000      42.000000       9.000000   \nmax     58329.000000       2.000000      65.000000      10.000000   \n\n           logged_in          count      srv_count    serror_rate  \\\ncount  494021.000000  494021.000000  494021.000000  494021.000000   \nmean        0.148247     332.285690     292.906557       0.176687   \nstd         0.355345     213.147412     246.322817       0.380717   \nmin         0.000000       0.000000       0.000000       0.000000   \n25%         0.000000     117.000000      10.000000       0.000000   \n50%         0.000000     510.000000     510.000000       0.000000   \n75%         0.000000     511.000000     511.000000       0.000000   \nmax         1.000000     511.000000     511.000000       1.000000   \n\n       srv_serror_rate  same_srv_rate  ...  dst_host_count  \\\ncount    494021.000000  494021.000000  ...   494021.000000   \nmean          0.176609       0.791547  ...      232.470778   \nstd           0.381017       0.388189  ...       64.745380   \nmin           0.000000       0.000000  ...        0.000000   \n25%           0.000000       1.000000  ...      255.000000   \n50%           0.000000       1.000000  ...      255.000000   \n75%           0.000000       1.000000  ...      255.000000   \nmax           1.000000       1.000000  ...      255.000000   \n\n       dst_host_same_srv_rate  dst_host_diff_srv_rate  \\\ncount           494021.000000           494021.000000   \nmean                 0.753780                0.030906   \nstd                  0.410781                0.109259   \nmin                  0.000000                0.000000   \n25%                  0.410000                0.000000   \n50%                  1.000000                0.000000   \n75%                  1.000000                0.040000   \nmax                  1.000000                1.000000   \n\n       dst_host_same_src_port_rate  dst_host_srv_diff_host_rate  \\\ncount                494021.000000                494021.000000   \nmean                      0.601935                     0.006684   \nstd                       0.481309                     0.042133   \nmin                       0.000000                     0.000000   \n25%                       0.000000                     0.000000   \n50%                       1.000000                     0.000000   \n75%                       1.000000                     0.000000   \nmax                       1.000000                     1.000000   \n\n       dst_host_serror_rate  dst_host_srv_serror_rate         attack  \\\ncount         494021.000000             494021.000000  494021.000000   \nmean               0.176754                  0.176443      12.604988   \nstd                0.380593                  0.380919       7.096954   \nmin                0.000000                  0.000000       0.000000   \n25%                0.000000                  0.000000      10.000000   \n50%                0.000000                  0.000000      18.000000   \n75%                0.000000                  0.000000      18.000000   \nmax                1.000000                  1.000000      22.000000   \n\n         Attack Type      Is attack  \ncount  494021.000000  494021.000000  \nmean        0.816277       0.803089  \nstd         0.426069       0.397665  \nmin         0.000000       0.000000  \n25%         1.000000       1.000000  \n50%         1.000000       1.000000  \n75%         1.000000       1.000000  \nmax         4.000000       1.000000  \n\n[8 rows x 21 columns]",
      "text/html": "<div>\n<style scoped>\n    .dataframe tbody tr th:only-of-type {\n        vertical-align: middle;\n    }\n\n    .dataframe tbody tr th {\n        vertical-align: top;\n    }\n\n    .dataframe thead th {\n        text-align: right;\n    }\n</style>\n<table border=\"1\" class=\"dataframe\">\n  <thead>\n    <tr style=\"text-align: right;\">\n      <th></th>\n      <th>duration</th>\n      <th>protocol_type</th>\n      <th>service</th>\n      <th>flag</th>\n      <th>logged_in</th>\n      <th>count</th>\n      <th>srv_count</th>\n      <th>serror_rate</th>\n      <th>srv_serror_rate</th>\n      <th>same_srv_rate</th>\n      <th>...</th>\n      <th>dst_host_count</th>\n      <th>dst_host_same_srv_rate</th>\n      <th>dst_host_diff_srv_rate</th>\n      <th>dst_host_same_src_port_rate</th>\n      <th>dst_host_srv_diff_host_rate</th>\n      <th>dst_host_serror_rate</th>\n      <th>dst_host_srv_serror_rate</th>\n      <th>attack</th>\n      <th>Attack Type</th>\n      <th>Is attack</th>\n    </tr>\n  </thead>\n  <tbody>\n    <tr>\n      <th>count</th>\n      <td>494021.000000</td>\n      <td>494021.000000</td>\n      <td>494021.000000</td>\n      <td>494021.000000</td>\n      <td>494021.000000</td>\n      <td>494021.000000</td>\n      <td>494021.000000</td>\n      <td>494021.000000</td>\n      <td>494021.000000</td>\n      <td>494021.000000</td>\n      <td>...</td>\n      <td>494021.000000</td>\n      <td>494021.000000</td>\n      <td>494021.000000</td>\n      <td>494021.000000</td>\n      <td>494021.000000</td>\n      <td>494021.000000</td>\n      <td>494021.000000</td>\n      <td>494021.000000</td>\n      <td>494021.000000</td>\n      <td>494021.000000</td>\n    </tr>\n    <tr>\n      <th>mean</th>\n      <td>47.979302</td>\n      <td>0.467132</td>\n      <td>23.408894</td>\n      <td>7.842446</td>\n      <td>0.148247</td>\n      <td>332.285690</td>\n      <td>292.906557</td>\n      <td>0.176687</td>\n      <td>0.176609</td>\n      <td>0.791547</td>\n      <td>...</td>\n      <td>232.470778</td>\n      <td>0.753780</td>\n      <td>0.030906</td>\n      <td>0.601935</td>\n      <td>0.006684</td>\n      <td>0.176754</td>\n      <td>0.176443</td>\n      <td>12.604988</td>\n      <td>0.816277</td>\n      <td>0.803089</td>\n    </tr>\n    <tr>\n      <th>std</th>\n      <td>707.746472</td>\n      <td>0.575606</td>\n      <td>13.538332</td>\n      <td>2.250853</td>\n      <td>0.355345</td>\n      <td>213.147412</td>\n      <td>246.322817</td>\n      <td>0.380717</td>\n      <td>0.381017</td>\n      <td>0.388189</td>\n      <td>...</td>\n      <td>64.745380</td>\n      <td>0.410781</td>\n      <td>0.109259</td>\n      <td>0.481309</td>\n      <td>0.042133</td>\n      <td>0.380593</td>\n      <td>0.380919</td>\n      <td>7.096954</td>\n      <td>0.426069</td>\n      <td>0.397665</td>\n    </tr>\n    <tr>\n      <th>min</th>\n      <td>0.000000</td>\n      <td>0.000000</td>\n      <td>0.000000</td>\n      <td>0.000000</td>\n      <td>0.000000</td>\n      <td>0.000000</td>\n      <td>0.000000</td>\n      <td>0.000000</td>\n      <td>0.000000</td>\n      <td>0.000000</td>\n      <td>...</td>\n      <td>0.000000</td>\n      <td>0.000000</td>\n      <td>0.000000</td>\n      <td>0.000000</td>\n      <td>0.000000</td>\n      <td>0.000000</td>\n      <td>0.000000</td>\n      <td>0.000000</td>\n      <td>0.000000</td>\n      <td>0.000000</td>\n    </tr>\n    <tr>\n      <th>25%</th>\n      <td>0.000000</td>\n      <td>0.000000</td>\n      <td>14.000000</td>\n      <td>9.000000</td>\n      <td>0.000000</td>\n      <td>117.000000</td>\n      <td>10.000000</td>\n      <td>0.000000</td>\n      <td>0.000000</td>\n      <td>1.000000</td>\n      <td>...</td>\n      <td>255.000000</td>\n      <td>0.410000</td>\n      <td>0.000000</td>\n      <td>0.000000</td>\n      <td>0.000000</td>\n      <td>0.000000</td>\n      <td>0.000000</td>\n      <td>10.000000</td>\n      <td>1.000000</td>\n      <td>1.000000</td>\n    </tr>\n    <tr>\n      <th>50%</th>\n      <td>0.000000</td>\n      <td>0.000000</td>\n      <td>14.000000</td>\n      <td>9.000000</td>\n      <td>0.000000</td>\n      <td>510.000000</td>\n      <td>510.000000</td>\n      <td>0.000000</td>\n      <td>0.000000</td>\n      <td>1.000000</td>\n      <td>...</td>\n      <td>255.000000</td>\n      <td>1.000000</td>\n      <td>0.000000</td>\n      <td>1.000000</td>\n      <td>0.000000</td>\n      <td>0.000000</td>\n      <td>0.000000</td>\n      <td>18.000000</td>\n      <td>1.000000</td>\n      <td>1.000000</td>\n    </tr>\n    <tr>\n      <th>75%</th>\n      <td>0.000000</td>\n      <td>1.000000</td>\n      <td>42.000000</td>\n      <td>9.000000</td>\n      <td>0.000000</td>\n      <td>511.000000</td>\n      <td>511.000000</td>\n      <td>0.000000</td>\n      <td>0.000000</td>\n      <td>1.000000</td>\n      <td>...</td>\n      <td>255.000000</td>\n      <td>1.000000</td>\n      <td>0.040000</td>\n      <td>1.000000</td>\n      <td>0.000000</td>\n      <td>0.000000</td>\n      <td>0.000000</td>\n      <td>18.000000</td>\n      <td>1.000000</td>\n      <td>1.000000</td>\n    </tr>\n    <tr>\n      <th>max</th>\n      <td>58329.000000</td>\n      <td>2.000000</td>\n      <td>65.000000</td>\n      <td>10.000000</td>\n      <td>1.000000</td>\n      <td>511.000000</td>\n      <td>511.000000</td>\n      <td>1.000000</td>\n      <td>1.000000</td>\n      <td>1.000000</td>\n      <td>...</td>\n      <td>255.000000</td>\n      <td>1.000000</td>\n      <td>1.000000</td>\n      <td>1.000000</td>\n      <td>1.000000</td>\n      <td>1.000000</td>\n      <td>1.000000</td>\n      <td>22.000000</td>\n      <td>4.000000</td>\n      <td>1.000000</td>\n    </tr>\n  </tbody>\n</table>\n<p>8 rows × 21 columns</p>\n</div>"
     },
     "execution_count": 96,
     "metadata": {},
     "output_type": "execute_result"
    }
   ],
   "source": [
    "kdd.describe()"
   ],
   "metadata": {
    "collapsed": false,
    "ExecuteTime": {
     "end_time": "2024-03-26T00:47:12.005080Z",
     "start_time": "2024-03-26T00:47:11.738010Z"
    }
   },
   "id": "61f3b4033760e790",
   "execution_count": 96
  },
  {
   "cell_type": "markdown",
   "source": [
    "Parece que no tenemos datos atipicos, dado que la mayoría de las columnas son categoricas usando label encoding, o son binaria, así que dejaremos el dataset así."
   ],
   "metadata": {
    "collapsed": false
   },
   "id": "3de45594e7ada478"
  },
  {
   "cell_type": "markdown",
   "source": [
    "Con esto, terminamos el EDA de este dataset"
   ],
   "metadata": {
    "collapsed": false
   },
   "id": "3559867a87997e73"
  },
  {
   "cell_type": "code",
   "outputs": [],
   "source": [
    "kdd.to_csv('DataSets/KDDCup99_Limpio.csv', index=False)\n"
   ],
   "metadata": {
    "collapsed": false,
    "ExecuteTime": {
     "end_time": "2024-03-26T00:47:15.551530Z",
     "start_time": "2024-03-26T00:47:12.006080Z"
    }
   },
   "id": "3d803d5f23ae65aa",
   "execution_count": 97
  },
  {
   "cell_type": "markdown",
   "source": [
    "## EDA CICIDS2017"
   ],
   "metadata": {
    "collapsed": false
   },
   "id": "fd12c3ecff3cf36c"
  },
  {
   "cell_type": "code",
   "outputs": [],
   "source": [
    "cic = pd.read_csv('DataSets/CIC-IDS2017.csv')"
   ],
   "metadata": {
    "collapsed": false,
    "ExecuteTime": {
     "end_time": "2024-03-26T00:47:26.406603Z",
     "start_time": "2024-03-26T00:47:15.552531Z"
    }
   },
   "id": "bea10457a27a93c7",
   "execution_count": 98
  },
  {
   "cell_type": "code",
   "outputs": [
    {
     "data": {
      "text/plain": "    Destination Port   Flow Duration   Total Fwd Packets  \\\n0              54865               3                   2   \n1              55054             109                   1   \n2              55055              52                   1   \n3              46236              34                   1   \n4              54863               3                   2   \n\n    Total Backward Packets  Total Length of Fwd Packets  \\\n0                        0                           12   \n1                        1                            6   \n2                        1                            6   \n3                        1                            6   \n4                        0                           12   \n\n    Total Length of Bwd Packets   Fwd Packet Length Max  \\\n0                             0                       6   \n1                             6                       6   \n2                             6                       6   \n3                             6                       6   \n4                             0                       6   \n\n    Fwd Packet Length Min   Fwd Packet Length Mean   Fwd Packet Length Std  \\\n0                       6                      6.0                     0.0   \n1                       6                      6.0                     0.0   \n2                       6                      6.0                     0.0   \n3                       6                      6.0                     0.0   \n4                       6                      6.0                     0.0   \n\n   ...   min_seg_size_forward  Active Mean   Active Std   Active Max  \\\n0  ...                     20          0.0          0.0            0   \n1  ...                     20          0.0          0.0            0   \n2  ...                     20          0.0          0.0            0   \n3  ...                     20          0.0          0.0            0   \n4  ...                     20          0.0          0.0            0   \n\n    Active Min  Idle Mean   Idle Std   Idle Max   Idle Min   Label  \n0            0        0.0        0.0          0          0  BENIGN  \n1            0        0.0        0.0          0          0  BENIGN  \n2            0        0.0        0.0          0          0  BENIGN  \n3            0        0.0        0.0          0          0  BENIGN  \n4            0        0.0        0.0          0          0  BENIGN  \n\n[5 rows x 79 columns]",
      "text/html": "<div>\n<style scoped>\n    .dataframe tbody tr th:only-of-type {\n        vertical-align: middle;\n    }\n\n    .dataframe tbody tr th {\n        vertical-align: top;\n    }\n\n    .dataframe thead th {\n        text-align: right;\n    }\n</style>\n<table border=\"1\" class=\"dataframe\">\n  <thead>\n    <tr style=\"text-align: right;\">\n      <th></th>\n      <th>Destination Port</th>\n      <th>Flow Duration</th>\n      <th>Total Fwd Packets</th>\n      <th>Total Backward Packets</th>\n      <th>Total Length of Fwd Packets</th>\n      <th>Total Length of Bwd Packets</th>\n      <th>Fwd Packet Length Max</th>\n      <th>Fwd Packet Length Min</th>\n      <th>Fwd Packet Length Mean</th>\n      <th>Fwd Packet Length Std</th>\n      <th>...</th>\n      <th>min_seg_size_forward</th>\n      <th>Active Mean</th>\n      <th>Active Std</th>\n      <th>Active Max</th>\n      <th>Active Min</th>\n      <th>Idle Mean</th>\n      <th>Idle Std</th>\n      <th>Idle Max</th>\n      <th>Idle Min</th>\n      <th>Label</th>\n    </tr>\n  </thead>\n  <tbody>\n    <tr>\n      <th>0</th>\n      <td>54865</td>\n      <td>3</td>\n      <td>2</td>\n      <td>0</td>\n      <td>12</td>\n      <td>0</td>\n      <td>6</td>\n      <td>6</td>\n      <td>6.0</td>\n      <td>0.0</td>\n      <td>...</td>\n      <td>20</td>\n      <td>0.0</td>\n      <td>0.0</td>\n      <td>0</td>\n      <td>0</td>\n      <td>0.0</td>\n      <td>0.0</td>\n      <td>0</td>\n      <td>0</td>\n      <td>BENIGN</td>\n    </tr>\n    <tr>\n      <th>1</th>\n      <td>55054</td>\n      <td>109</td>\n      <td>1</td>\n      <td>1</td>\n      <td>6</td>\n      <td>6</td>\n      <td>6</td>\n      <td>6</td>\n      <td>6.0</td>\n      <td>0.0</td>\n      <td>...</td>\n      <td>20</td>\n      <td>0.0</td>\n      <td>0.0</td>\n      <td>0</td>\n      <td>0</td>\n      <td>0.0</td>\n      <td>0.0</td>\n      <td>0</td>\n      <td>0</td>\n      <td>BENIGN</td>\n    </tr>\n    <tr>\n      <th>2</th>\n      <td>55055</td>\n      <td>52</td>\n      <td>1</td>\n      <td>1</td>\n      <td>6</td>\n      <td>6</td>\n      <td>6</td>\n      <td>6</td>\n      <td>6.0</td>\n      <td>0.0</td>\n      <td>...</td>\n      <td>20</td>\n      <td>0.0</td>\n      <td>0.0</td>\n      <td>0</td>\n      <td>0</td>\n      <td>0.0</td>\n      <td>0.0</td>\n      <td>0</td>\n      <td>0</td>\n      <td>BENIGN</td>\n    </tr>\n    <tr>\n      <th>3</th>\n      <td>46236</td>\n      <td>34</td>\n      <td>1</td>\n      <td>1</td>\n      <td>6</td>\n      <td>6</td>\n      <td>6</td>\n      <td>6</td>\n      <td>6.0</td>\n      <td>0.0</td>\n      <td>...</td>\n      <td>20</td>\n      <td>0.0</td>\n      <td>0.0</td>\n      <td>0</td>\n      <td>0</td>\n      <td>0.0</td>\n      <td>0.0</td>\n      <td>0</td>\n      <td>0</td>\n      <td>BENIGN</td>\n    </tr>\n    <tr>\n      <th>4</th>\n      <td>54863</td>\n      <td>3</td>\n      <td>2</td>\n      <td>0</td>\n      <td>12</td>\n      <td>0</td>\n      <td>6</td>\n      <td>6</td>\n      <td>6.0</td>\n      <td>0.0</td>\n      <td>...</td>\n      <td>20</td>\n      <td>0.0</td>\n      <td>0.0</td>\n      <td>0</td>\n      <td>0</td>\n      <td>0.0</td>\n      <td>0.0</td>\n      <td>0</td>\n      <td>0</td>\n      <td>BENIGN</td>\n    </tr>\n  </tbody>\n</table>\n<p>5 rows × 79 columns</p>\n</div>"
     },
     "execution_count": 99,
     "metadata": {},
     "output_type": "execute_result"
    }
   ],
   "source": [
    "cic.head()"
   ],
   "metadata": {
    "collapsed": false,
    "ExecuteTime": {
     "end_time": "2024-03-26T00:47:26.422606Z",
     "start_time": "2024-03-26T00:47:26.407603Z"
    }
   },
   "id": "47c5bcaaf83d71d0",
   "execution_count": 99
  },
  {
   "cell_type": "code",
   "outputs": [
    {
     "name": "stdout",
     "output_type": "stream",
     "text": [
      "<class 'pandas.core.frame.DataFrame'>\n",
      "RangeIndex: 1564355 entries, 0 to 1564354\n",
      "Data columns (total 79 columns):\n",
      " #   Column                        Non-Null Count    Dtype  \n",
      "---  ------                        --------------    -----  \n",
      " 0    Destination Port             1564355 non-null  int64  \n",
      " 1    Flow Duration                1564355 non-null  int64  \n",
      " 2    Total Fwd Packets            1564355 non-null  int64  \n",
      " 3    Total Backward Packets       1564355 non-null  int64  \n",
      " 4   Total Length of Fwd Packets   1564355 non-null  int64  \n",
      " 5    Total Length of Bwd Packets  1564355 non-null  int64  \n",
      " 6    Fwd Packet Length Max        1564355 non-null  int64  \n",
      " 7    Fwd Packet Length Min        1564355 non-null  int64  \n",
      " 8    Fwd Packet Length Mean       1564355 non-null  float64\n",
      " 9    Fwd Packet Length Std        1564355 non-null  float64\n",
      " 10  Bwd Packet Length Max         1564355 non-null  int64  \n",
      " 11   Bwd Packet Length Min        1564355 non-null  int64  \n",
      " 12   Bwd Packet Length Mean       1564355 non-null  float64\n",
      " 13   Bwd Packet Length Std        1564355 non-null  float64\n",
      " 14  Flow Bytes/s                  1564355 non-null  float64\n",
      " 15   Flow Packets/s               1564355 non-null  float64\n",
      " 16   Flow IAT Mean                1564355 non-null  float64\n",
      " 17   Flow IAT Std                 1564355 non-null  float64\n",
      " 18   Flow IAT Max                 1564355 non-null  int64  \n",
      " 19   Flow IAT Min                 1564355 non-null  int64  \n",
      " 20  Fwd IAT Total                 1564355 non-null  int64  \n",
      " 21   Fwd IAT Mean                 1564355 non-null  float64\n",
      " 22   Fwd IAT Std                  1564355 non-null  float64\n",
      " 23   Fwd IAT Max                  1564355 non-null  int64  \n",
      " 24   Fwd IAT Min                  1564355 non-null  int64  \n",
      " 25  Bwd IAT Total                 1564355 non-null  int64  \n",
      " 26   Bwd IAT Mean                 1564355 non-null  float64\n",
      " 27   Bwd IAT Std                  1564355 non-null  float64\n",
      " 28   Bwd IAT Max                  1564355 non-null  int64  \n",
      " 29   Bwd IAT Min                  1564355 non-null  int64  \n",
      " 30  Fwd PSH Flags                 1564355 non-null  int64  \n",
      " 31   Bwd PSH Flags                1564355 non-null  int64  \n",
      " 32   Fwd URG Flags                1564355 non-null  int64  \n",
      " 33   Bwd URG Flags                1564355 non-null  int64  \n",
      " 34   Fwd Header Length            1564355 non-null  int64  \n",
      " 35   Bwd Header Length            1564355 non-null  int64  \n",
      " 36  Fwd Packets/s                 1564355 non-null  float64\n",
      " 37   Bwd Packets/s                1564355 non-null  float64\n",
      " 38   Min Packet Length            1564355 non-null  int64  \n",
      " 39   Max Packet Length            1564355 non-null  int64  \n",
      " 40   Packet Length Mean           1564355 non-null  float64\n",
      " 41   Packet Length Std            1564355 non-null  float64\n",
      " 42   Packet Length Variance       1564355 non-null  float64\n",
      " 43  FIN Flag Count                1564355 non-null  int64  \n",
      " 44   SYN Flag Count               1564355 non-null  int64  \n",
      " 45   RST Flag Count               1564355 non-null  int64  \n",
      " 46   PSH Flag Count               1564355 non-null  int64  \n",
      " 47   ACK Flag Count               1564355 non-null  int64  \n",
      " 48   URG Flag Count               1564355 non-null  int64  \n",
      " 49   CWE Flag Count               1564355 non-null  int64  \n",
      " 50   ECE Flag Count               1564355 non-null  int64  \n",
      " 51   Down/Up Ratio                1564355 non-null  int64  \n",
      " 52   Average Packet Size          1564355 non-null  float64\n",
      " 53   Avg Fwd Segment Size         1564355 non-null  float64\n",
      " 54   Avg Bwd Segment Size         1564355 non-null  float64\n",
      " 55   Fwd Header Length.1          1564355 non-null  int64  \n",
      " 56  Fwd Avg Bytes/Bulk            1564355 non-null  int64  \n",
      " 57   Fwd Avg Packets/Bulk         1564355 non-null  int64  \n",
      " 58   Fwd Avg Bulk Rate            1564355 non-null  int64  \n",
      " 59   Bwd Avg Bytes/Bulk           1564355 non-null  int64  \n",
      " 60   Bwd Avg Packets/Bulk         1564355 non-null  int64  \n",
      " 61  Bwd Avg Bulk Rate             1564355 non-null  int64  \n",
      " 62  Subflow Fwd Packets           1564355 non-null  int64  \n",
      " 63   Subflow Fwd Bytes            1564355 non-null  int64  \n",
      " 64   Subflow Bwd Packets          1564355 non-null  int64  \n",
      " 65   Subflow Bwd Bytes            1564355 non-null  int64  \n",
      " 66  Init_Win_bytes_forward        1564355 non-null  int64  \n",
      " 67   Init_Win_bytes_backward      1564355 non-null  int64  \n",
      " 68   act_data_pkt_fwd             1564355 non-null  int64  \n",
      " 69   min_seg_size_forward         1564355 non-null  int64  \n",
      " 70  Active Mean                   1564355 non-null  float64\n",
      " 71   Active Std                   1564355 non-null  float64\n",
      " 72   Active Max                   1564355 non-null  int64  \n",
      " 73   Active Min                   1564355 non-null  int64  \n",
      " 74  Idle Mean                     1564355 non-null  float64\n",
      " 75   Idle Std                     1564355 non-null  float64\n",
      " 76   Idle Max                     1564355 non-null  int64  \n",
      " 77   Idle Min                     1564355 non-null  int64  \n",
      " 78   Label                        1564355 non-null  object \n",
      "dtypes: float64(24), int64(54), object(1)\n",
      "memory usage: 942.9+ MB\n"
     ]
    }
   ],
   "source": [
    "cic.info()"
   ],
   "metadata": {
    "collapsed": false,
    "ExecuteTime": {
     "end_time": "2024-03-26T00:47:26.850018Z",
     "start_time": "2024-03-26T00:47:26.423606Z"
    }
   },
   "id": "56501dc82a32283e",
   "execution_count": 100
  },
  {
   "cell_type": "markdown",
   "source": [
    "Afortunadamente, podemos ver que solo tenemos una columna de tipo object, por lo cual no tendremos que hacer mucho label encoding, pero antes de hacer esto, vamos a observar la distribución de los ataques"
   ],
   "metadata": {
    "collapsed": false
   },
   "id": "5b9d7a0f86f9b777"
  },
  {
   "cell_type": "code",
   "outputs": [],
   "source": [
    "#dado que label tiene un extra, vamos a quitarlo\n",
    "cic=cic.rename(columns = {' Label': 'Label'})"
   ],
   "metadata": {
    "collapsed": false,
    "ExecuteTime": {
     "end_time": "2024-03-26T00:47:27.184100Z",
     "start_time": "2024-03-26T00:47:26.851019Z"
    }
   },
   "id": "ef1836ae7680a7de",
   "execution_count": 101
  },
  {
   "cell_type": "code",
   "outputs": [
    {
     "data": {
      "text/plain": "Label\nBENIGN                        1021667\nDoS Hulk                       230124\nPortScan                       158804\nDDoS                           128025\nDoS GoldenEye                   10293\nDoS slowloris                    5796\nDoS Slowhttptest                 5499\nBot                              1956\nWeb Attack � Brute Force         1507\nWeb Attack � XSS                  652\nWeb Attack � Sql Injection         21\nHeartbleed                         11\nName: count, dtype: int64"
     },
     "execution_count": 102,
     "metadata": {},
     "output_type": "execute_result"
    }
   ],
   "source": [
    "cic['Label'].value_counts()"
   ],
   "metadata": {
    "collapsed": false,
    "ExecuteTime": {
     "end_time": "2024-03-26T00:47:27.280122Z",
     "start_time": "2024-03-26T00:47:27.185101Z"
    }
   },
   "id": "ece8b56177f7c378",
   "execution_count": 102
  },
  {
   "cell_type": "code",
   "outputs": [
    {
     "data": {
      "text/plain": "<Figure size 2000x1000 with 1 Axes>",
      "image/png": "[encoded data removed]"
     },
     "metadata": {},
     "output_type": "display_data"
    }
   ],
   "source": [
    "#box plot\n",
    "plt.figure(figsize=(20, 10))\n",
    "plt.bar(cic['Label'].value_counts().index, cic['Label'].value_counts())\n",
    "plt.show()"
   ],
   "metadata": {
    "collapsed": false,
    "ExecuteTime": {
     "end_time": "2024-03-26T00:47:27.676210Z",
     "start_time": "2024-03-26T00:47:27.281122Z"
    }
   },
   "id": "91dc4faac4c217a1",
   "execution_count": 103
  },
  {
   "cell_type": "markdown",
   "source": [
    "Dado que tenemos muchos datos benignos, no se puede observar muy bien la distribución de los ataques"
   ],
   "metadata": {
    "collapsed": false
   },
   "id": "bdbfb7ed414ea227"
  },
  {
   "cell_type": "code",
   "outputs": [
    {
     "data": {
      "text/plain": "(1564355, 79)"
     },
     "execution_count": 104,
     "metadata": {},
     "output_type": "execute_result"
    }
   ],
   "source": [
    "cic.shape"
   ],
   "metadata": {
    "collapsed": false,
    "ExecuteTime": {
     "end_time": "2024-03-26T00:47:27.692214Z",
     "start_time": "2024-03-26T00:47:27.678211Z"
    }
   },
   "id": "799bc0fce2861a59",
   "execution_count": 104
  },
  {
   "cell_type": "markdown",
   "source": [
    "Podemos ver que de los 1565239 datos 1022413 son benignos, es decir tenemos 542826 datos de ataques\n",
    "\n",
    "Dicho esto, nuestros modelos sin binarios hasta el momento, asi que vamos a transformar la columna label a binaria"
   ],
   "metadata": {
    "collapsed": false
   },
   "id": "35c6b819d517bcd1"
  },
  {
   "cell_type": "code",
   "outputs": [],
   "source": [
    "cic['Label'] = cic['Label'].map({'BENIGN': 0, 'DDoS': 1, 'PortScan': 1, 'Bot': 1, 'Infiltration': 1, 'Web Attack � Brute Force': 1, 'Web Attack � XSS': 1, 'Web Attack � Sql Injection': 1, 'FTP-Patator': 1, 'SSH-Patator': 1, 'DoS slowloris': 1, 'DoS Slowhttptest': 1, 'DoS Hulk': 1, 'DoS GoldenEye': 1, 'Heartbleed': 1})"
   ],
   "metadata": {
    "collapsed": false,
    "ExecuteTime": {
     "end_time": "2024-03-26T00:47:27.788236Z",
     "start_time": "2024-03-26T00:47:27.694215Z"
    }
   },
   "id": "789caef0d826c40d",
   "execution_count": 105
  },
  {
   "cell_type": "code",
   "outputs": [
    {
     "data": {
      "text/plain": "<Figure size 2000x1000 with 1 Axes>",
      "image/png": "[encoded data removed]"
     },
     "metadata": {},
     "output_type": "display_data"
    }
   ],
   "source": [
    "plt.figure(figsize=(20, 10))\n",
    "plt.pie(cic['Label'].value_counts(), labels=['0','1'], autopct='%1.1f%%')\n",
    "plt.show()"
   ],
   "metadata": {
    "collapsed": false,
    "ExecuteTime": {
     "end_time": "2024-03-26T00:47:27.884257Z",
     "start_time": "2024-03-26T00:47:27.789237Z"
    }
   },
   "id": "a5f9f5a346bd7540",
   "execution_count": 106
  },
  {
   "cell_type": "markdown",
   "source": [
    "Aquí podemos observar mejor que el 34% de nuestros datos son ataques"
   ],
   "metadata": {
    "collapsed": false
   },
   "id": "1c977a538e656288"
  },
  {
   "cell_type": "markdown",
   "source": [
    "Ahora, dado que no hay más datos categoricos, vamos a observar la correlación"
   ],
   "metadata": {
    "collapsed": false
   },
   "id": "c22dab134a583237"
  },
  {
   "cell_type": "code",
   "outputs": [
    {
     "name": "stderr",
     "output_type": "stream",
     "text": [
      "C:\\Users\\Usuario\\OneDrive\\Escritorio\\Cosas\\Cosas de la U\\Semestre 7\\pdg\\pdg\\EDA\\.venv\\lib\\site-packages\\numpy\\lib\\function_base.py:2897: RuntimeWarning: invalid value encountered in divide\n",
      "  c /= stddev[:, None]\n",
      "C:\\Users\\Usuario\\OneDrive\\Escritorio\\Cosas\\Cosas de la U\\Semestre 7\\pdg\\pdg\\EDA\\.venv\\lib\\site-packages\\numpy\\lib\\function_base.py:2898: RuntimeWarning: invalid value encountered in divide\n",
      "  c /= stddev[None, :]\n"
     ]
    },
    {
     "data": {
      "text/plain": "Label                      1.000000\n Bwd Packet Length Std     0.492774\nBwd Packet Length Max      0.482429\n Bwd Packet Length Mean    0.482407\n Avg Bwd Segment Size      0.482407\n                             ...   \n Fwd Avg Packets/Bulk           NaN\n Fwd Avg Bulk Rate              NaN\n Bwd Avg Bytes/Bulk             NaN\n Bwd Avg Packets/Bulk           NaN\nBwd Avg Bulk Rate               NaN\nLength: 79, dtype: float64"
     },
     "execution_count": 107,
     "metadata": {},
     "output_type": "execute_result"
    }
   ],
   "source": [
    "cic.corrwith(cic['Label']).abs().sort_values(ascending=False)"
   ],
   "metadata": {
    "collapsed": false,
    "ExecuteTime": {
     "end_time": "2024-03-26T00:47:30.932943Z",
     "start_time": "2024-03-26T00:47:27.885258Z"
    }
   },
   "id": "290ce2b99d212977",
   "execution_count": 107
  },
  {
   "cell_type": "markdown",
   "source": [
    "Podemos ver que tenemos algunas columnas cuya correlación es NAN, vamos a observar que pasa"
   ],
   "metadata": {
    "collapsed": false
   },
   "id": "a964efccf0df1ad1"
  },
  {
   "cell_type": "code",
   "outputs": [
    {
     "data": {
      "text/plain": " Fwd URG Flags\n0    1564355\nName: count, dtype: int64"
     },
     "execution_count": 108,
     "metadata": {},
     "output_type": "execute_result"
    }
   ],
   "source": [
    "cic[' Fwd URG Flags'].value_counts()"
   ],
   "metadata": {
    "collapsed": false,
    "ExecuteTime": {
     "end_time": "2024-03-26T00:47:30.948945Z",
     "start_time": "2024-03-26T00:47:30.933943Z"
    }
   },
   "id": "d7d067789320c35f",
   "execution_count": 108
  },
  {
   "cell_type": "markdown",
   "source": [
    "Podemos ver que esta columna tiene solo un valor, por lo cual no tiene sentido tenerla, por lo cual la vamos a borrar\n",
    "\n",
    "Además, de nuevo tenemos el problema de que varias columnas empiezan con un espacio, por lo cual vamos a borrar los espacios"
   ],
   "metadata": {
    "collapsed": false
   },
   "id": "52770b8372d2f6b2"
  },
  {
   "cell_type": "code",
   "outputs": [
    {
     "data": {
      "text/plain": "Fwd URG Flags\n0    1564355\nName: count, dtype: int64"
     },
     "execution_count": 109,
     "metadata": {},
     "output_type": "execute_result"
    }
   ],
   "source": [
    "cic.columns = cic.columns.str.strip()\n",
    "cic['Fwd URG Flags'].value_counts()"
   ],
   "metadata": {
    "collapsed": false,
    "ExecuteTime": {
     "end_time": "2024-03-26T00:47:30.996957Z",
     "start_time": "2024-03-26T00:47:30.949947Z"
    }
   },
   "id": "81b85447812d127c",
   "execution_count": 109
  },
  {
   "cell_type": "markdown",
   "source": [
    "Con los espacios borrados, vamos a borrar las columnas con correlación NAN"
   ],
   "metadata": {
    "collapsed": false
   },
   "id": "6336b2fbc2062ec5"
  },
  {
   "cell_type": "code",
   "outputs": [],
   "source": [
    "cic = cic.drop(columns=['Fwd URG Flags','Bwd PSH Flags','Bwd URG Flags','CWE Flag Count','Fwd Avg Bytes/Bulk','Fwd Avg Packets/Bulk','Fwd Avg Bulk Rate','Bwd Avg Bytes/Bulk','Bwd Avg Packets/Bulk','Bwd Avg Bulk Rate'])"
   ],
   "metadata": {
    "collapsed": false,
    "ExecuteTime": {
     "end_time": "2024-03-26T00:47:31.349035Z",
     "start_time": "2024-03-26T00:47:30.997958Z"
    }
   },
   "id": "76f3b5b035fab995",
   "execution_count": 110
  },
  {
   "cell_type": "code",
   "outputs": [
    {
     "data": {
      "text/plain": "Label                          1.000000\nBwd Packet Length Std          0.492774\nBwd Packet Length Max          0.482429\nBwd Packet Length Mean         0.482407\nAvg Bwd Segment Size           0.482407\n                                 ...   \nFwd Header Length.1            0.004913\nact_data_pkt_fwd               0.004840\nTotal Length of Bwd Packets    0.003459\nSubflow Bwd Bytes              0.003459\nBwd IAT Mean                   0.003050\nLength: 69, dtype: float64"
     },
     "execution_count": 111,
     "metadata": {},
     "output_type": "execute_result"
    }
   ],
   "source": [
    "cic.corrwith(cic['Label']).abs().sort_values(ascending=False)"
   ],
   "metadata": {
    "collapsed": false,
    "ExecuteTime": {
     "end_time": "2024-03-26T00:47:33.710010Z",
     "start_time": "2024-03-26T00:47:31.350037Z"
    }
   },
   "id": "33dc9cd2694d205e",
   "execution_count": 111
  },
  {
   "cell_type": "markdown",
   "source": [
    "Ahora, con el dataset limpio, vamos a borrar las columnas con correlación menor a 0.1, para no usar tanta memoria"
   ],
   "metadata": {
    "collapsed": false
   },
   "id": "7d0e677a80265c1a"
  },
  {
   "cell_type": "code",
   "outputs": [
    {
     "data": {
      "text/plain": "Label                      1.000000\nBwd Packet Length Std      0.492774\nBwd Packet Length Max      0.482429\nBwd Packet Length Mean     0.482407\nAvg Bwd Segment Size       0.482407\nPacket Length Std          0.447065\nMax Packet Length          0.434751\nPacket Length Variance     0.417459\nPacket Length Mean         0.411144\nAverage Packet Size        0.406152\nFwd IAT Std                0.399005\nMin Packet Length          0.384581\nIdle Max                   0.384122\nIdle Mean                  0.381027\nFwd IAT Max                0.380606\nFlow IAT Max               0.380544\nBwd Packet Length Min      0.373667\nIdle Min                   0.371569\nFlow IAT Std               0.346920\nPSH Flag Count             0.236398\nFwd IAT Total              0.230396\nFlow Duration              0.227783\nFlow IAT Mean              0.215438\nURG Flag Count             0.208861\nFIN Flag Count             0.208606\nDestination Port           0.186993\nFwd IAT Mean               0.183772\nFwd Packet Length Min      0.155193\nBwd IAT Std                0.141368\nACK Flag Count             0.138249\nFwd Packet Length Mean     0.131867\nAvg Fwd Segment Size       0.131867\nFwd PSH Flags              0.126212\nSYN Flag Count             0.126212\nmin_seg_size_forward       0.122866\nInit_Win_bytes_backward    0.114963\nFwd Packet Length Max      0.101501\nBwd IAT Max                0.101224\ndtype: float64"
     },
     "execution_count": 112,
     "metadata": {},
     "output_type": "execute_result"
    }
   ],
   "source": [
    "columnsToDrop = cic.columns[cic.corrwith(cic['Label']).abs() < 0.1]\n",
    "cic = cic.drop(columns=columnsToDrop)\n",
    "cic.corrwith(cic['Label']).abs().sort_values(ascending=False)"
   ],
   "metadata": {
    "collapsed": false,
    "ExecuteTime": {
     "end_time": "2024-03-26T00:47:37.530660Z",
     "start_time": "2024-03-26T00:47:33.711010Z"
    }
   },
   "id": "b2fb954a287f0c4f",
   "execution_count": 112
  },
  {
   "cell_type": "markdown",
   "source": [
    "Con esto, vamos a observar si hay valores atipicos en los datos con mayor correlación"
   ],
   "metadata": {
    "collapsed": false
   },
   "id": "b8234b1381648567"
  },
  {
   "cell_type": "code",
   "outputs": [
    {
     "name": "stdout",
     "output_type": "stream",
     "text": [
      "Datos atipicos en: Bwd Packet Length Std\n",
      "Cantidad de datos atipicos en Bwd Packet Length Std inferior: 0\n",
      "Cantidad de datos atipicos en Bwd Packet Length Std superior: 391089\n",
      "Cantidad de datos atipicos en Bwd Packet Length Std : 391089\n",
      "Porcentaje de datos atipicos en Bwd Packet Length Std : 25.000015981027325 % \n"
     ]
    }
   ],
   "source": [
    "datos_atipicos(cic,'Bwd Packet Length Std')"
   ],
   "metadata": {
    "collapsed": false,
    "ExecuteTime": {
     "end_time": "2024-03-26T00:47:37.577671Z",
     "start_time": "2024-03-26T00:47:37.531660Z"
    }
   },
   "id": "72caeb5aa61cc824",
   "execution_count": 113
  },
  {
   "cell_type": "markdown",
   "source": [
    "Dado que tenemos muchos valores atipicos, vamos a ver como afecta a la correlación si los borramos"
   ],
   "metadata": {
    "collapsed": false
   },
   "id": "659293a0ade1ba69"
  },
  {
   "cell_type": "code",
   "outputs": [],
   "source": [
    "ciclimpio = borrar_atipicos(cic,'Bwd Packet Length Std')\n"
   ],
   "metadata": {
    "collapsed": false,
    "ExecuteTime": {
     "end_time": "2024-03-26T00:47:37.785717Z",
     "start_time": "2024-03-26T00:47:37.578671Z"
    }
   },
   "id": "b8626daf0a85ac4a",
   "execution_count": 114
  },
  {
   "cell_type": "code",
   "outputs": [
    {
     "data": {
      "text/plain": "Label                      1.000000\nPSH Flag Count             0.312517\nMin Packet Length          0.309552\nBwd Packet Length Min      0.303066\nAverage Packet Size        0.266777\nBwd Packet Length Mean     0.257313\nAvg Bwd Segment Size       0.257313\nmin_seg_size_forward       0.257250\nPacket Length Mean         0.254415\nBwd Packet Length Max      0.222882\nBwd Packet Length Std      0.201370\nPacket Length Std          0.201067\nMax Packet Length          0.196819\nURG Flag Count             0.167589\nAvg Fwd Segment Size       0.136746\nFwd Packet Length Mean     0.136746\nFwd Packet Length Max      0.126989\nFlow Duration              0.120015\nFwd Packet Length Min      0.117905\nFwd IAT Total              0.115027\nDestination Port           0.106070\nACK Flag Count             0.096916\nSYN Flag Count             0.094826\nFwd PSH Flags              0.094826\nInit_Win_bytes_backward    0.090410\nBwd IAT Max                0.089993\nPacket Length Variance     0.089825\nBwd IAT Std                0.066299\nIdle Mean                  0.050535\nIdle Min                   0.050177\nFlow IAT Max               0.048684\nIdle Max                   0.043937\nFwd IAT Max                0.043347\nFIN Flag Count             0.038183\nFwd IAT Std                0.034335\nFlow IAT Mean              0.027361\nFlow IAT Std               0.026549\nFwd IAT Mean               0.014417\ndtype: float64"
     },
     "execution_count": 115,
     "metadata": {},
     "output_type": "execute_result"
    }
   ],
   "source": [
    "ciclimpio.corrwith(ciclimpio['Label']).abs().sort_values(ascending=False)"
   ],
   "metadata": {
    "collapsed": false,
    "ExecuteTime": {
     "end_time": "2024-03-26T00:47:38.892541Z",
     "start_time": "2024-03-26T00:47:37.786718Z"
    }
   },
   "id": "b4b5f73fb719cdee",
   "execution_count": 115
  },
  {
   "cell_type": "markdown",
   "source": [
    "Podemos ver que afecto la correlación de manera negativa, lo que nos dice que valores atipicos en Bwd Packet Length Std, son importantes para el model e indican posibles ataques, asi que vamos a dejarlo así\n",
    "\n",
    "Sin embargo, vamos a observar los valores atipicos de otras columnas a ver que pasa"
   ],
   "metadata": {
    "collapsed": false
   },
   "id": "f9b323dcdbdfd7ed"
  },
  {
   "cell_type": "code",
   "outputs": [
    {
     "data": {
      "text/plain": "Label                      1.000000\nBwd Packet Length Std      0.492774\nBwd Packet Length Max      0.482429\nBwd Packet Length Mean     0.482407\nAvg Bwd Segment Size       0.482407\nPacket Length Std          0.447065\nMax Packet Length          0.434751\nPacket Length Variance     0.417459\nPacket Length Mean         0.411144\nAverage Packet Size        0.406152\nFwd IAT Std                0.399005\nMin Packet Length          0.384581\nIdle Max                   0.384122\nIdle Mean                  0.381027\nFwd IAT Max                0.380606\nFlow IAT Max               0.380544\nBwd Packet Length Min      0.373667\nIdle Min                   0.371569\nFlow IAT Std               0.346920\nPSH Flag Count             0.236398\nFwd IAT Total              0.230396\nFlow Duration              0.227783\nFlow IAT Mean              0.215438\nURG Flag Count             0.208861\nFIN Flag Count             0.208606\nDestination Port           0.186993\nFwd IAT Mean               0.183772\nFwd Packet Length Min      0.155193\nBwd IAT Std                0.141368\nACK Flag Count             0.138249\nFwd Packet Length Mean     0.131867\nAvg Fwd Segment Size       0.131867\nFwd PSH Flags              0.126212\nSYN Flag Count             0.126212\nmin_seg_size_forward       0.122866\nInit_Win_bytes_backward    0.114963\nFwd Packet Length Max      0.101501\nBwd IAT Max                0.101224\ndtype: float64"
     },
     "execution_count": 116,
     "metadata": {},
     "output_type": "execute_result"
    }
   ],
   "source": [
    "cic.corrwith(cic['Label']).abs().sort_values(ascending=False)"
   ],
   "metadata": {
    "collapsed": false,
    "ExecuteTime": {
     "end_time": "2024-03-26T00:47:40.206729Z",
     "start_time": "2024-03-26T00:47:38.893542Z"
    }
   },
   "id": "e26f8b772f4c4bbb",
   "execution_count": 116
  },
  {
   "cell_type": "code",
   "outputs": [],
   "source": [
    "ciclimpio= borrar_atipicos(cic,'Bwd Packet Length Std')\n",
    "ciclimpio= borrar_atipicos(ciclimpio,'Bwd Packet Length Max')"
   ],
   "metadata": {
    "collapsed": false,
    "ExecuteTime": {
     "end_time": "2024-03-26T00:47:40.695838Z",
     "start_time": "2024-03-26T00:47:40.207729Z"
    }
   },
   "id": "b4b5e9383cb6f530",
   "execution_count": 117
  },
  {
   "cell_type": "code",
   "outputs": [
    {
     "data": {
      "text/plain": "Label                      1.000000\nPSH Flag Count             0.567127\nAvg Bwd Segment Size       0.435067\nBwd Packet Length Mean     0.435067\nBwd Packet Length Max      0.433186\nBwd Packet Length Min      0.422754\nMin Packet Length          0.410051\nmin_seg_size_forward       0.257496\nAverage Packet Size        0.228378\nPacket Length Mean         0.212789\nURG Flag Count             0.205789\nFwd Packet Length Min      0.149309\nDestination Port           0.148594\nAvg Fwd Segment Size       0.127985\nFwd Packet Length Mean     0.127985\nFwd PSH Flags              0.115428\nSYN Flag Count             0.115428\nPacket Length Std          0.115113\nMax Packet Length          0.109973\nBwd Packet Length Std      0.091866\nFwd Packet Length Max      0.091724\nInit_Win_bytes_backward    0.087569\nPacket Length Variance     0.063245\nBwd IAT Max                0.052353\nACK Flag Count             0.043420\nFlow IAT Mean              0.038607\nFIN Flag Count             0.027216\nBwd IAT Std                0.017073\nFwd IAT Std                0.016998\nFlow Duration              0.006243\nFwd IAT Mean               0.005736\nFwd IAT Max                0.003805\nIdle Max                   0.002265\nIdle Mean                  0.002238\nIdle Min                   0.002147\nFlow IAT Std               0.001061\nFwd IAT Total              0.000906\nFlow IAT Max               0.000239\ndtype: float64"
     },
     "execution_count": 118,
     "metadata": {},
     "output_type": "execute_result"
    }
   ],
   "source": [
    "ciclimpio.corrwith(ciclimpio['Label']).abs().sort_values(ascending=False)"
   ],
   "metadata": {
    "collapsed": false,
    "ExecuteTime": {
     "end_time": "2024-03-26T00:47:41.700065Z",
     "start_time": "2024-03-26T00:47:40.697839Z"
    }
   },
   "id": "875cef82dd19794b",
   "execution_count": 118
  },
  {
   "cell_type": "markdown",
   "source": [
    "Podemos ver que borrar los valores atipicos de bwd packet length max y std, afecto la correlación de manera negativa, dado que aunque sube la correlación de PSH Flag count, reduce el resto"
   ],
   "metadata": {
    "collapsed": false
   },
   "id": "7bbdfdafae3d8e2a"
  },
  {
   "cell_type": "code",
   "outputs": [],
   "source": [
    "ciclimpio= borrar_atipicos(cic,'Average Packet Size')"
   ],
   "metadata": {
    "collapsed": false,
    "ExecuteTime": {
     "end_time": "2024-03-26T00:47:41.954121Z",
     "start_time": "2024-03-26T00:47:41.701064Z"
    }
   },
   "id": "58aeddbf7a54e8c0",
   "execution_count": 119
  },
  {
   "cell_type": "code",
   "outputs": [
    {
     "data": {
      "text/plain": "Label                      1.000000\nMin Packet Length          0.382172\nAverage Packet Size        0.369219\nBwd Packet Length Min      0.343527\nPacket Length Mean         0.339532\nPSH Flag Count             0.337933\nBwd Packet Length Mean     0.293533\nAvg Bwd Segment Size       0.293533\nmin_seg_size_forward       0.257071\nPacket Length Std          0.228229\nMax Packet Length          0.217593\nBwd Packet Length Max      0.213575\nFwd Packet Length Mean     0.213020\nAvg Fwd Segment Size       0.213020\nFwd Packet Length Max      0.176511\nBwd Packet Length Std      0.167734\nURG Flag Count             0.167015\nFwd Packet Length Min      0.145112\nPacket Length Variance     0.137032\nFlow Duration              0.100878\nACK Flag Count             0.099206\nSYN Flag Count             0.096697\nFwd PSH Flags              0.096697\nFwd IAT Total              0.096278\nDestination Port           0.093920\nInit_Win_bytes_backward    0.092367\nBwd IAT Max                0.067110\nBwd IAT Std                0.039945\nFIN Flag Count             0.035741\nFlow IAT Mean              0.032665\nIdle Min                   0.028329\nIdle Mean                  0.023822\nFlow IAT Max               0.018482\nIdle Max                   0.013126\nFwd IAT Max                0.011703\nFlow IAT Std               0.009228\nFwd IAT Mean               0.007870\nFwd IAT Std                0.004113\ndtype: float64"
     },
     "execution_count": 120,
     "metadata": {},
     "output_type": "execute_result"
    }
   ],
   "source": [
    "ciclimpio.corrwith(ciclimpio['Label']).abs().sort_values(ascending=False)"
   ],
   "metadata": {
    "collapsed": false,
    "ExecuteTime": {
     "end_time": "2024-03-26T00:47:43.052098Z",
     "start_time": "2024-03-26T00:47:41.955121Z"
    }
   },
   "id": "26ffb0042f3ea72e",
   "execution_count": 120
  },
  {
   "cell_type": "markdown",
   "source": [
    "Despues de borrar valores atipicos y ver como afectaban la correlación, hemos decidido dejar el dataset como esta, dado que borrar valores atipicos afecta la correlación de manera negativa, y que los valores atipicos son importantes para el modelo"
   ],
   "metadata": {
    "collapsed": false
   },
   "id": "d75cbbc57d495db7"
  },
  {
   "cell_type": "markdown",
   "source": [
    "Con esto, terminamos el EDA de este dataset"
   ],
   "metadata": {
    "collapsed": false
   },
   "id": "da8c4c790c37be19"
  },
  {
   "cell_type": "code",
   "outputs": [],
   "source": [
    "#salvamos el df a un csv\n",
    "ciclimpio.to_csv('DataSets/CICIDS2017_Limpio.csv', index=False)"
   ],
   "metadata": {
    "collapsed": false,
    "ExecuteTime": {
     "end_time": "2024-03-26T00:47:59.385146Z",
     "start_time": "2024-03-26T00:47:43.053098Z"
    }
   },
   "id": "1cd085c04135375c",
   "execution_count": 121
  },
  {
   "cell_type": "code",
   "outputs": [],
   "source": [],
   "metadata": {
    "collapsed": false,
    "ExecuteTime": {
     "end_time": "2024-03-26T00:47:59.401149Z",
     "start_time": "2024-03-26T00:47:59.386146Z"
    }
   },
   "id": "fa8bf361c4aad5d3",
   "execution_count": 121
  }
 ],
 "metadata": {
  "kernelspec": {
   "display_name": "Python 3",
   "language": "python",
   "name": "python3"
  },
  "language_info": {
   "codemirror_mode": {
    "name": "ipython",
    "version": 2
   },
   "file_extension": ".py",
   "mimetype": "text/x-python",
   "name": "python",
   "nbconvert_exporter": "python",
   "pygments_lexer": "ipython2",
   "version": "2.7.6"
  }
 },
 "nbformat": 4,
 "nbformat_minor": 5
}
