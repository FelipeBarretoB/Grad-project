{
  "nbformat": 4,
  "nbformat_minor": 0,
  "metadata": {
    "colab": {
      "provenance": []
    },
    "kernelspec": {
      "name": "python3",
      "display_name": "Python 3"
    },
    "language_info": {
      "name": "python"
    },
    "widgets": {
      "application/vnd.jupyter.widget-state+json": {
        "71c25dafc4704ae4b1146a856dfa1539": {
          "model_module": "@jupyter-widgets/controls",
          "model_name": "HBoxModel",
          "model_module_version": "1.5.0",
          "state": {
            "_dom_classes": [],
            "_model_module": "@jupyter-widgets/controls",
            "_model_module_version": "1.5.0",
            "_model_name": "HBoxModel",
            "_view_count": null,
            "_view_module": "@jupyter-widgets/controls",
            "_view_module_version": "1.5.0",
            "_view_name": "HBoxView",
            "box_style": "",
            "children": [
              "IPY_MODEL_846c929f0f88469b812ebf1cc531fb3a",
              "IPY_MODEL_74e3cfc623fb42f3bdd428084a35312d",
              "IPY_MODEL_e06802da236a41ff8467f4ac031864ae"
            ],
            "layout": "IPY_MODEL_3713ca51fbfb4a2798751c76bbf2124a"
          }
        },
        "846c929f0f88469b812ebf1cc531fb3a": {
          "model_module": "@jupyter-widgets/controls",
          "model_name": "HTMLModel",
          "model_module_version": "1.5.0",
          "state": {
            "_dom_classes": [],
            "_model_module": "@jupyter-widgets/controls",
            "_model_module_version": "1.5.0",
            "_model_name": "HTMLModel",
            "_view_count": null,
            "_view_module": "@jupyter-widgets/controls",
            "_view_module_version": "1.5.0",
            "_view_name": "HTMLView",
            "description": "",
            "description_tooltip": null,
            "layout": "IPY_MODEL_9dc08bcdf0ed41759b93fe7227f64455",
            "placeholder": "​",
            "style": "IPY_MODEL_e6018f2dc0f540b1934a16553307785e",
            "value": "Processing: 100%"
          }
        },
        "74e3cfc623fb42f3bdd428084a35312d": {
          "model_module": "@jupyter-widgets/controls",
          "model_name": "FloatProgressModel",
          "model_module_version": "1.5.0",
          "state": {
            "_dom_classes": [],
            "_model_module": "@jupyter-widgets/controls",
            "_model_module_version": "1.5.0",
            "_model_name": "FloatProgressModel",
            "_view_count": null,
            "_view_module": "@jupyter-widgets/controls",
            "_view_module_version": "1.5.0",
            "_view_name": "ProgressView",
            "bar_style": "",
            "description": "",
            "description_tooltip": null,
            "layout": "IPY_MODEL_ac9793ebc47941a2a4efc8cf537c1035",
            "max": 65,
            "min": 0,
            "orientation": "horizontal",
            "style": "IPY_MODEL_ed7436dd37b548b39571e265f65faee0",
            "value": 65
          }
        },
        "e06802da236a41ff8467f4ac031864ae": {
          "model_module": "@jupyter-widgets/controls",
          "model_name": "HTMLModel",
          "model_module_version": "1.5.0",
          "state": {
            "_dom_classes": [],
            "_model_module": "@jupyter-widgets/controls",
            "_model_module_version": "1.5.0",
            "_model_name": "HTMLModel",
            "_view_count": null,
            "_view_module": "@jupyter-widgets/controls",
            "_view_module_version": "1.5.0",
            "_view_name": "HTMLView",
            "description": "",
            "description_tooltip": null,
            "layout": "IPY_MODEL_cfcc8fb639154ed890a239a9eb46c842",
            "placeholder": "​",
            "style": "IPY_MODEL_4a80ac400e6d4a7395b957425bf63421",
            "value": " 65/65 [06:11&lt;00:00,  3.88s/it]"
          }
        },
        "3713ca51fbfb4a2798751c76bbf2124a": {
          "model_module": "@jupyter-widgets/base",
          "model_name": "LayoutModel",
          "model_module_version": "1.2.0",
          "state": {
            "_model_module": "@jupyter-widgets/base",
            "_model_module_version": "1.2.0",
            "_model_name": "LayoutModel",
            "_view_count": null,
            "_view_module": "@jupyter-widgets/base",
            "_view_module_version": "1.2.0",
            "_view_name": "LayoutView",
            "align_content": null,
            "align_items": null,
            "align_self": null,
            "border": null,
            "bottom": null,
            "display": null,
            "flex": null,
            "flex_flow": null,
            "grid_area": null,
            "grid_auto_columns": null,
            "grid_auto_flow": null,
            "grid_auto_rows": null,
            "grid_column": null,
            "grid_gap": null,
            "grid_row": null,
            "grid_template_areas": null,
            "grid_template_columns": null,
            "grid_template_rows": null,
            "height": null,
            "justify_content": null,
            "justify_items": null,
            "left": null,
            "margin": null,
            "max_height": null,
            "max_width": null,
            "min_height": null,
            "min_width": null,
            "object_fit": null,
            "object_position": null,
            "order": null,
            "overflow": null,
            "overflow_x": null,
            "overflow_y": null,
            "padding": null,
            "right": null,
            "top": null,
            "visibility": "hidden",
            "width": null
          }
        },
        "9dc08bcdf0ed41759b93fe7227f64455": {
          "model_module": "@jupyter-widgets/base",
          "model_name": "LayoutModel",
          "model_module_version": "1.2.0",
          "state": {
            "_model_module": "@jupyter-widgets/base",
            "_model_module_version": "1.2.0",
            "_model_name": "LayoutModel",
            "_view_count": null,
            "_view_module": "@jupyter-widgets/base",
            "_view_module_version": "1.2.0",
            "_view_name": "LayoutView",
            "align_content": null,
            "align_items": null,
            "align_self": null,
            "border": null,
            "bottom": null,
            "display": null,
            "flex": null,
            "flex_flow": null,
            "grid_area": null,
            "grid_auto_columns": null,
            "grid_auto_flow": null,
            "grid_auto_rows": null,
            "grid_column": null,
            "grid_gap": null,
            "grid_row": null,
            "grid_template_areas": null,
            "grid_template_columns": null,
            "grid_template_rows": null,
            "height": null,
            "justify_content": null,
            "justify_items": null,
            "left": null,
            "margin": null,
            "max_height": null,
            "max_width": null,
            "min_height": null,
            "min_width": null,
            "object_fit": null,
            "object_position": null,
            "order": null,
            "overflow": null,
            "overflow_x": null,
            "overflow_y": null,
            "padding": null,
            "right": null,
            "top": null,
            "visibility": null,
            "width": null
          }
        },
        "e6018f2dc0f540b1934a16553307785e": {
          "model_module": "@jupyter-widgets/controls",
          "model_name": "DescriptionStyleModel",
          "model_module_version": "1.5.0",
          "state": {
            "_model_module": "@jupyter-widgets/controls",
            "_model_module_version": "1.5.0",
            "_model_name": "DescriptionStyleModel",
            "_view_count": null,
            "_view_module": "@jupyter-widgets/base",
            "_view_module_version": "1.2.0",
            "_view_name": "StyleView",
            "description_width": ""
          }
        },
        "ac9793ebc47941a2a4efc8cf537c1035": {
          "model_module": "@jupyter-widgets/base",
          "model_name": "LayoutModel",
          "model_module_version": "1.2.0",
          "state": {
            "_model_module": "@jupyter-widgets/base",
            "_model_module_version": "1.2.0",
            "_model_name": "LayoutModel",
            "_view_count": null,
            "_view_module": "@jupyter-widgets/base",
            "_view_module_version": "1.2.0",
            "_view_name": "LayoutView",
            "align_content": null,
            "align_items": null,
            "align_self": null,
            "border": null,
            "bottom": null,
            "display": null,
            "flex": null,
            "flex_flow": null,
            "grid_area": null,
            "grid_auto_columns": null,
            "grid_auto_flow": null,
            "grid_auto_rows": null,
            "grid_column": null,
            "grid_gap": null,
            "grid_row": null,
            "grid_template_areas": null,
            "grid_template_columns": null,
            "grid_template_rows": null,
            "height": null,
            "justify_content": null,
            "justify_items": null,
            "left": null,
            "margin": null,
            "max_height": null,
            "max_width": null,
            "min_height": null,
            "min_width": null,
            "object_fit": null,
            "object_position": null,
            "order": null,
            "overflow": null,
            "overflow_x": null,
            "overflow_y": null,
            "padding": null,
            "right": null,
            "top": null,
            "visibility": null,
            "width": null
          }
        },
        "ed7436dd37b548b39571e265f65faee0": {
          "model_module": "@jupyter-widgets/controls",
          "model_name": "ProgressStyleModel",
          "model_module_version": "1.5.0",
          "state": {
            "_model_module": "@jupyter-widgets/controls",
            "_model_module_version": "1.5.0",
            "_model_name": "ProgressStyleModel",
            "_view_count": null,
            "_view_module": "@jupyter-widgets/base",
            "_view_module_version": "1.2.0",
            "_view_name": "StyleView",
            "bar_color": null,
            "description_width": ""
          }
        },
        "cfcc8fb639154ed890a239a9eb46c842": {
          "model_module": "@jupyter-widgets/base",
          "model_name": "LayoutModel",
          "model_module_version": "1.2.0",
          "state": {
            "_model_module": "@jupyter-widgets/base",
            "_model_module_version": "1.2.0",
            "_model_name": "LayoutModel",
            "_view_count": null,
            "_view_module": "@jupyter-widgets/base",
            "_view_module_version": "1.2.0",
            "_view_name": "LayoutView",
            "align_content": null,
            "align_items": null,
            "align_self": null,
            "border": null,
            "bottom": null,
            "display": null,
            "flex": null,
            "flex_flow": null,
            "grid_area": null,
            "grid_auto_columns": null,
            "grid_auto_flow": null,
            "grid_auto_rows": null,
            "grid_column": null,
            "grid_gap": null,
            "grid_row": null,
            "grid_template_areas": null,
            "grid_template_columns": null,
            "grid_template_rows": null,
            "height": null,
            "justify_content": null,
            "justify_items": null,
            "left": null,
            "margin": null,
            "max_height": null,
            "max_width": null,
            "min_height": null,
            "min_width": null,
            "object_fit": null,
            "object_position": null,
            "order": null,
            "overflow": null,
            "overflow_x": null,
            "overflow_y": null,
            "padding": null,
            "right": null,
            "top": null,
            "visibility": null,
            "width": null
          }
        },
        "4a80ac400e6d4a7395b957425bf63421": {
          "model_module": "@jupyter-widgets/controls",
          "model_name": "DescriptionStyleModel",
          "model_module_version": "1.5.0",
          "state": {
            "_model_module": "@jupyter-widgets/controls",
            "_model_module_version": "1.5.0",
            "_model_name": "DescriptionStyleModel",
            "_view_count": null,
            "_view_module": "@jupyter-widgets/base",
            "_view_module_version": "1.2.0",
            "_view_name": "StyleView",
            "description_width": ""
          }
        },
        "f925ba46c3d54a72ac35faba40c2a294": {
          "model_module": "@jupyter-widgets/controls",
          "model_name": "HBoxModel",
          "model_module_version": "1.5.0",
          "state": {
            "_dom_classes": [],
            "_model_module": "@jupyter-widgets/controls",
            "_model_module_version": "1.5.0",
            "_model_name": "HBoxModel",
            "_view_count": null,
            "_view_module": "@jupyter-widgets/controls",
            "_view_module_version": "1.5.0",
            "_view_name": "HBoxView",
            "box_style": "",
            "children": [
              "IPY_MODEL_a6c227eb503e4010bd284260cb6b5983",
              "IPY_MODEL_0148b8747e054bc7b504617d7e551ed5",
              "IPY_MODEL_6e4519255e044467b17616cee0a81386"
            ],
            "layout": "IPY_MODEL_92d8addf6e244b009b1f5008035c2ddc"
          }
        },
        "a6c227eb503e4010bd284260cb6b5983": {
          "model_module": "@jupyter-widgets/controls",
          "model_name": "HTMLModel",
          "model_module_version": "1.5.0",
          "state": {
            "_dom_classes": [],
            "_model_module": "@jupyter-widgets/controls",
            "_model_module_version": "1.5.0",
            "_model_name": "HTMLModel",
            "_view_count": null,
            "_view_module": "@jupyter-widgets/controls",
            "_view_module_version": "1.5.0",
            "_view_name": "HTMLView",
            "description": "",
            "description_tooltip": null,
            "layout": "IPY_MODEL_e8074ba573354828acd7e7b2357cc32f",
            "placeholder": "​",
            "style": "IPY_MODEL_4cecaf94d72c47f1a063db6823f18adc",
            "value": "Processing: 100%"
          }
        },
        "0148b8747e054bc7b504617d7e551ed5": {
          "model_module": "@jupyter-widgets/controls",
          "model_name": "FloatProgressModel",
          "model_module_version": "1.5.0",
          "state": {
            "_dom_classes": [],
            "_model_module": "@jupyter-widgets/controls",
            "_model_module_version": "1.5.0",
            "_model_name": "FloatProgressModel",
            "_view_count": null,
            "_view_module": "@jupyter-widgets/controls",
            "_view_module_version": "1.5.0",
            "_view_name": "ProgressView",
            "bar_style": "",
            "description": "",
            "description_tooltip": null,
            "layout": "IPY_MODEL_8579ac2c09cb4e3a9291b50ed9919091",
            "max": 4,
            "min": 0,
            "orientation": "horizontal",
            "style": "IPY_MODEL_69932191e86045a29e7ebc730306ccad",
            "value": 4
          }
        },
        "6e4519255e044467b17616cee0a81386": {
          "model_module": "@jupyter-widgets/controls",
          "model_name": "HTMLModel",
          "model_module_version": "1.5.0",
          "state": {
            "_dom_classes": [],
            "_model_module": "@jupyter-widgets/controls",
            "_model_module_version": "1.5.0",
            "_model_name": "HTMLModel",
            "_view_count": null,
            "_view_module": "@jupyter-widgets/controls",
            "_view_module_version": "1.5.0",
            "_view_name": "HTMLView",
            "description": "",
            "description_tooltip": null,
            "layout": "IPY_MODEL_237022c0b0fb4d0d86ae0f5ca510965a",
            "placeholder": "​",
            "style": "IPY_MODEL_e80e6eb1d5ff4477a4730756e48f479e",
            "value": " 4/4 [01:27&lt;00:00, 19.75s/it]"
          }
        },
        "92d8addf6e244b009b1f5008035c2ddc": {
          "model_module": "@jupyter-widgets/base",
          "model_name": "LayoutModel",
          "model_module_version": "1.2.0",
          "state": {
            "_model_module": "@jupyter-widgets/base",
            "_model_module_version": "1.2.0",
            "_model_name": "LayoutModel",
            "_view_count": null,
            "_view_module": "@jupyter-widgets/base",
            "_view_module_version": "1.2.0",
            "_view_name": "LayoutView",
            "align_content": null,
            "align_items": null,
            "align_self": null,
            "border": null,
            "bottom": null,
            "display": null,
            "flex": null,
            "flex_flow": null,
            "grid_area": null,
            "grid_auto_columns": null,
            "grid_auto_flow": null,
            "grid_auto_rows": null,
            "grid_column": null,
            "grid_gap": null,
            "grid_row": null,
            "grid_template_areas": null,
            "grid_template_columns": null,
            "grid_template_rows": null,
            "height": null,
            "justify_content": null,
            "justify_items": null,
            "left": null,
            "margin": null,
            "max_height": null,
            "max_width": null,
            "min_height": null,
            "min_width": null,
            "object_fit": null,
            "object_position": null,
            "order": null,
            "overflow": null,
            "overflow_x": null,
            "overflow_y": null,
            "padding": null,
            "right": null,
            "top": null,
            "visibility": "hidden",
            "width": null
          }
        },
        "e8074ba573354828acd7e7b2357cc32f": {
          "model_module": "@jupyter-widgets/base",
          "model_name": "LayoutModel",
          "model_module_version": "1.2.0",
          "state": {
            "_model_module": "@jupyter-widgets/base",
            "_model_module_version": "1.2.0",
            "_model_name": "LayoutModel",
            "_view_count": null,
            "_view_module": "@jupyter-widgets/base",
            "_view_module_version": "1.2.0",
            "_view_name": "LayoutView",
            "align_content": null,
            "align_items": null,
            "align_self": null,
            "border": null,
            "bottom": null,
            "display": null,
            "flex": null,
            "flex_flow": null,
            "grid_area": null,
            "grid_auto_columns": null,
            "grid_auto_flow": null,
            "grid_auto_rows": null,
            "grid_column": null,
            "grid_gap": null,
            "grid_row": null,
            "grid_template_areas": null,
            "grid_template_columns": null,
            "grid_template_rows": null,
            "height": null,
            "justify_content": null,
            "justify_items": null,
            "left": null,
            "margin": null,
            "max_height": null,
            "max_width": null,
            "min_height": null,
            "min_width": null,
            "object_fit": null,
            "object_position": null,
            "order": null,
            "overflow": null,
            "overflow_x": null,
            "overflow_y": null,
            "padding": null,
            "right": null,
            "top": null,
            "visibility": null,
            "width": null
          }
        },
        "4cecaf94d72c47f1a063db6823f18adc": {
          "model_module": "@jupyter-widgets/controls",
          "model_name": "DescriptionStyleModel",
          "model_module_version": "1.5.0",
          "state": {
            "_model_module": "@jupyter-widgets/controls",
            "_model_module_version": "1.5.0",
            "_model_name": "DescriptionStyleModel",
            "_view_count": null,
            "_view_module": "@jupyter-widgets/base",
            "_view_module_version": "1.2.0",
            "_view_name": "StyleView",
            "description_width": ""
          }
        },
        "8579ac2c09cb4e3a9291b50ed9919091": {
          "model_module": "@jupyter-widgets/base",
          "model_name": "LayoutModel",
          "model_module_version": "1.2.0",
          "state": {
            "_model_module": "@jupyter-widgets/base",
            "_model_module_version": "1.2.0",
            "_model_name": "LayoutModel",
            "_view_count": null,
            "_view_module": "@jupyter-widgets/base",
            "_view_module_version": "1.2.0",
            "_view_name": "LayoutView",
            "align_content": null,
            "align_items": null,
            "align_self": null,
            "border": null,
            "bottom": null,
            "display": null,
            "flex": null,
            "flex_flow": null,
            "grid_area": null,
            "grid_auto_columns": null,
            "grid_auto_flow": null,
            "grid_auto_rows": null,
            "grid_column": null,
            "grid_gap": null,
            "grid_row": null,
            "grid_template_areas": null,
            "grid_template_columns": null,
            "grid_template_rows": null,
            "height": null,
            "justify_content": null,
            "justify_items": null,
            "left": null,
            "margin": null,
            "max_height": null,
            "max_width": null,
            "min_height": null,
            "min_width": null,
            "object_fit": null,
            "object_position": null,
            "order": null,
            "overflow": null,
            "overflow_x": null,
            "overflow_y": null,
            "padding": null,
            "right": null,
            "top": null,
            "visibility": null,
            "width": null
          }
        },
        "69932191e86045a29e7ebc730306ccad": {
          "model_module": "@jupyter-widgets/controls",
          "model_name": "ProgressStyleModel",
          "model_module_version": "1.5.0",
          "state": {
            "_model_module": "@jupyter-widgets/controls",
            "_model_module_version": "1.5.0",
            "_model_name": "ProgressStyleModel",
            "_view_count": null,
            "_view_module": "@jupyter-widgets/base",
            "_view_module_version": "1.2.0",
            "_view_name": "StyleView",
            "bar_color": null,
            "description_width": ""
          }
        },
        "237022c0b0fb4d0d86ae0f5ca510965a": {
          "model_module": "@jupyter-widgets/base",
          "model_name": "LayoutModel",
          "model_module_version": "1.2.0",
          "state": {
            "_model_module": "@jupyter-widgets/base",
            "_model_module_version": "1.2.0",
            "_model_name": "LayoutModel",
            "_view_count": null,
            "_view_module": "@jupyter-widgets/base",
            "_view_module_version": "1.2.0",
            "_view_name": "LayoutView",
            "align_content": null,
            "align_items": null,
            "align_self": null,
            "border": null,
            "bottom": null,
            "display": null,
            "flex": null,
            "flex_flow": null,
            "grid_area": null,
            "grid_auto_columns": null,
            "grid_auto_flow": null,
            "grid_auto_rows": null,
            "grid_column": null,
            "grid_gap": null,
            "grid_row": null,
            "grid_template_areas": null,
            "grid_template_columns": null,
            "grid_template_rows": null,
            "height": null,
            "justify_content": null,
            "justify_items": null,
            "left": null,
            "margin": null,
            "max_height": null,
            "max_width": null,
            "min_height": null,
            "min_width": null,
            "object_fit": null,
            "object_position": null,
            "order": null,
            "overflow": null,
            "overflow_x": null,
            "overflow_y": null,
            "padding": null,
            "right": null,
            "top": null,
            "visibility": null,
            "width": null
          }
        },
        "e80e6eb1d5ff4477a4730756e48f479e": {
          "model_module": "@jupyter-widgets/controls",
          "model_name": "DescriptionStyleModel",
          "model_module_version": "1.5.0",
          "state": {
            "_model_module": "@jupyter-widgets/controls",
            "_model_module_version": "1.5.0",
            "_model_name": "DescriptionStyleModel",
            "_view_count": null,
            "_view_module": "@jupyter-widgets/base",
            "_view_module_version": "1.2.0",
            "_view_name": "StyleView",
            "description_width": ""
          }
        },
        "60ee0a19929444ab8305dd16282c1742": {
          "model_module": "@jupyter-widgets/base",
          "model_name": "LayoutModel",
          "model_module_version": "1.2.0",
          "state": {
            "_model_module": "@jupyter-widgets/base",
            "_model_module_version": "1.2.0",
            "_model_name": "LayoutModel",
            "_view_count": null,
            "_view_module": "@jupyter-widgets/base",
            "_view_module_version": "1.2.0",
            "_view_name": "LayoutView",
            "align_content": null,
            "align_items": null,
            "align_self": null,
            "border": null,
            "bottom": null,
            "display": null,
            "flex": null,
            "flex_flow": null,
            "grid_area": null,
            "grid_auto_columns": null,
            "grid_auto_flow": null,
            "grid_auto_rows": null,
            "grid_column": null,
            "grid_gap": null,
            "grid_row": null,
            "grid_template_areas": null,
            "grid_template_columns": null,
            "grid_template_rows": null,
            "height": null,
            "justify_content": null,
            "justify_items": null,
            "left": null,
            "margin": null,
            "max_height": null,
            "max_width": null,
            "min_height": null,
            "min_width": null,
            "object_fit": null,
            "object_position": null,
            "order": null,
            "overflow": null,
            "overflow_x": null,
            "overflow_y": null,
            "padding": null,
            "right": null,
            "top": null,
            "visibility": null,
            "width": null
          }
        },
        "eeab58609c79484fa5c4818115719d19": {
          "model_module": "@jupyter-widgets/controls",
          "model_name": "ToggleButtonsStyleModel",
          "model_module_version": "1.5.0",
          "state": {
            "_model_module": "@jupyter-widgets/controls",
            "_model_module_version": "1.5.0",
            "_model_name": "ToggleButtonsStyleModel",
            "_view_count": null,
            "_view_module": "@jupyter-widgets/base",
            "_view_module_version": "1.2.0",
            "_view_name": "StyleView",
            "button_width": "",
            "description_width": "",
            "font_weight": ""
          }
        },
        "34c97ebe8e9a4d329d07cc5c6e1e636d": {
          "model_module": "@jupyter-widgets/base",
          "model_name": "LayoutModel",
          "model_module_version": "1.2.0",
          "state": {
            "_model_module": "@jupyter-widgets/base",
            "_model_module_version": "1.2.0",
            "_model_name": "LayoutModel",
            "_view_count": null,
            "_view_module": "@jupyter-widgets/base",
            "_view_module_version": "1.2.0",
            "_view_name": "LayoutView",
            "align_content": null,
            "align_items": null,
            "align_self": null,
            "border": null,
            "bottom": null,
            "display": null,
            "flex": null,
            "flex_flow": null,
            "grid_area": null,
            "grid_auto_columns": null,
            "grid_auto_flow": null,
            "grid_auto_rows": null,
            "grid_column": null,
            "grid_gap": null,
            "grid_row": null,
            "grid_template_areas": null,
            "grid_template_columns": null,
            "grid_template_rows": null,
            "height": null,
            "justify_content": null,
            "justify_items": null,
            "left": null,
            "margin": null,
            "max_height": null,
            "max_width": null,
            "min_height": null,
            "min_width": null,
            "object_fit": null,
            "object_position": null,
            "order": null,
            "overflow": null,
            "overflow_x": null,
            "overflow_y": null,
            "padding": null,
            "right": null,
            "top": null,
            "visibility": null,
            "width": null
          }
        },
        "4ba0fa07c0a94ea8a1c2980b96b38bcb": {
          "model_module": "@jupyter-widgets/base",
          "model_name": "LayoutModel",
          "model_module_version": "1.2.0",
          "state": {
            "_model_module": "@jupyter-widgets/base",
            "_model_module_version": "1.2.0",
            "_model_name": "LayoutModel",
            "_view_count": null,
            "_view_module": "@jupyter-widgets/base",
            "_view_module_version": "1.2.0",
            "_view_name": "LayoutView",
            "align_content": null,
            "align_items": null,
            "align_self": null,
            "border": null,
            "bottom": null,
            "display": null,
            "flex": null,
            "flex_flow": null,
            "grid_area": null,
            "grid_auto_columns": null,
            "grid_auto_flow": null,
            "grid_auto_rows": null,
            "grid_column": null,
            "grid_gap": null,
            "grid_row": null,
            "grid_template_areas": null,
            "grid_template_columns": null,
            "grid_template_rows": null,
            "height": null,
            "justify_content": null,
            "justify_items": null,
            "left": null,
            "margin": null,
            "max_height": null,
            "max_width": null,
            "min_height": null,
            "min_width": null,
            "object_fit": null,
            "object_position": null,
            "order": null,
            "overflow": null,
            "overflow_x": null,
            "overflow_y": null,
            "padding": null,
            "right": null,
            "top": null,
            "visibility": null,
            "width": null
          }
        },
        "15837bb173284464b909ce118ee015dc": {
          "model_module": "@jupyter-widgets/controls",
          "model_name": "VBoxModel",
          "model_module_version": "1.5.0",
          "state": {
            "_dom_classes": [
              "widget-interact"
            ],
            "_model_module": "@jupyter-widgets/controls",
            "_model_module_version": "1.5.0",
            "_model_name": "VBoxModel",
            "_view_count": null,
            "_view_module": "@jupyter-widgets/controls",
            "_view_module_version": "1.5.0",
            "_view_name": "VBoxView",
            "box_style": "",
            "children": [
              "IPY_MODEL_0ba80991c7ac41a99e19bd37cf8efaee",
              "IPY_MODEL_9b1dc231581d4bde807bc57ddea2c6f1"
            ],
            "layout": "IPY_MODEL_34c97ebe8e9a4d329d07cc5c6e1e636d"
          }
        },
        "0ba80991c7ac41a99e19bd37cf8efaee": {
          "model_module": "@jupyter-widgets/controls",
          "model_name": "ToggleButtonsModel",
          "model_module_version": "1.5.0",
          "state": {
            "_dom_classes": [],
            "_model_module": "@jupyter-widgets/controls",
            "_model_module_version": "1.5.0",
            "_model_name": "ToggleButtonsModel",
            "_options_labels": [
              "Pipeline Plot",
              "Hyperparameters",
              "AUC",
              "Confusion Matrix",
              "Threshold",
              "Precision Recall",
              "Prediction Error",
              "Class Report",
              "Feature Selection",
              "Learning Curve",
              "Manifold Learning",
              "Calibration Curve",
              "Validation Curve",
              "Dimensions",
              "Feature Importance",
              "Feature Importance (All)",
              "Decision Boundary",
              "Lift Chart",
              "Gain Chart",
              "Decision Tree",
              "KS Statistic Plot"
            ],
            "_view_count": null,
            "_view_module": "@jupyter-widgets/controls",
            "_view_module_version": "1.5.0",
            "_view_name": "ToggleButtonsView",
            "button_style": "",
            "description": "Plot Type:",
            "description_tooltip": null,
            "disabled": false,
            "icons": [
              ""
            ],
            "index": 0,
            "layout": "IPY_MODEL_60ee0a19929444ab8305dd16282c1742",
            "style": "IPY_MODEL_eeab58609c79484fa5c4818115719d19",
            "tooltips": []
          }
        },
        "9b1dc231581d4bde807bc57ddea2c6f1": {
          "model_module": "@jupyter-widgets/output",
          "model_name": "OutputModel",
          "model_module_version": "1.0.0",
          "state": {
            "_dom_classes": [],
            "_model_module": "@jupyter-widgets/output",
            "_model_module_version": "1.0.0",
            "_model_name": "OutputModel",
            "_view_count": null,
            "_view_module": "@jupyter-widgets/output",
            "_view_module_version": "1.0.0",
            "_view_name": "OutputView",
            "layout": "IPY_MODEL_4ba0fa07c0a94ea8a1c2980b96b38bcb",
            "msg_id": "",
            "outputs": [
              {
                "output_type": "display_data",
                "data": {
                  "text/plain": "<Figure size 1700x600 with 1 Axes>",
                  "image/png": "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\n"
                },
                "metadata": {}
              }
            ]
          }
        },
        "9836d6dbfc8f49499db518e5ae349683": {
          "model_module": "@jupyter-widgets/controls",
          "model_name": "HBoxModel",
          "model_module_version": "1.5.0",
          "state": {
            "_dom_classes": [],
            "_model_module": "@jupyter-widgets/controls",
            "_model_module_version": "1.5.0",
            "_model_name": "HBoxModel",
            "_view_count": null,
            "_view_module": "@jupyter-widgets/controls",
            "_view_module_version": "1.5.0",
            "_view_name": "HBoxView",
            "box_style": "",
            "children": [
              "IPY_MODEL_60a7e7f746bd46109ea3913d66ea34ba",
              "IPY_MODEL_4dcc4b861bc14c19b6707145afba3f81",
              "IPY_MODEL_95f1da375773495dae3d8c8df1cf8202"
            ],
            "layout": "IPY_MODEL_f7ee5ab0b7834a939390faf1fef8c07a"
          }
        },
        "60a7e7f746bd46109ea3913d66ea34ba": {
          "model_module": "@jupyter-widgets/controls",
          "model_name": "HTMLModel",
          "model_module_version": "1.5.0",
          "state": {
            "_dom_classes": [],
            "_model_module": "@jupyter-widgets/controls",
            "_model_module_version": "1.5.0",
            "_model_name": "HTMLModel",
            "_view_count": null,
            "_view_module": "@jupyter-widgets/controls",
            "_view_module_version": "1.5.0",
            "_view_name": "HTMLView",
            "description": "",
            "description_tooltip": null,
            "layout": "IPY_MODEL_7228a550a67e4b839496388f59694c7c",
            "placeholder": "​",
            "style": "IPY_MODEL_658900e730354c7fab3aa633750ecdf4",
            "value": "Processing: 100%"
          }
        },
        "4dcc4b861bc14c19b6707145afba3f81": {
          "model_module": "@jupyter-widgets/controls",
          "model_name": "FloatProgressModel",
          "model_module_version": "1.5.0",
          "state": {
            "_dom_classes": [],
            "_model_module": "@jupyter-widgets/controls",
            "_model_module_version": "1.5.0",
            "_model_name": "FloatProgressModel",
            "_view_count": null,
            "_view_module": "@jupyter-widgets/controls",
            "_view_module_version": "1.5.0",
            "_view_name": "ProgressView",
            "bar_style": "",
            "description": "",
            "description_tooltip": null,
            "layout": "IPY_MODEL_8823a17fba20413095f4315032aaf485",
            "max": 65,
            "min": 0,
            "orientation": "horizontal",
            "style": "IPY_MODEL_ef7ad1b6d4e74aaf973631f4a6ed7924",
            "value": 65
          }
        },
        "95f1da375773495dae3d8c8df1cf8202": {
          "model_module": "@jupyter-widgets/controls",
          "model_name": "HTMLModel",
          "model_module_version": "1.5.0",
          "state": {
            "_dom_classes": [],
            "_model_module": "@jupyter-widgets/controls",
            "_model_module_version": "1.5.0",
            "_model_name": "HTMLModel",
            "_view_count": null,
            "_view_module": "@jupyter-widgets/controls",
            "_view_module_version": "1.5.0",
            "_view_name": "HTMLView",
            "description": "",
            "description_tooltip": null,
            "layout": "IPY_MODEL_2bba08be613e43959587790509758338",
            "placeholder": "​",
            "style": "IPY_MODEL_545c42fd3da741749a91a4c32717ef7c",
            "value": " 65/65 [07:32&lt;00:00,  4.27s/it]"
          }
        },
        "f7ee5ab0b7834a939390faf1fef8c07a": {
          "model_module": "@jupyter-widgets/base",
          "model_name": "LayoutModel",
          "model_module_version": "1.2.0",
          "state": {
            "_model_module": "@jupyter-widgets/base",
            "_model_module_version": "1.2.0",
            "_model_name": "LayoutModel",
            "_view_count": null,
            "_view_module": "@jupyter-widgets/base",
            "_view_module_version": "1.2.0",
            "_view_name": "LayoutView",
            "align_content": null,
            "align_items": null,
            "align_self": null,
            "border": null,
            "bottom": null,
            "display": null,
            "flex": null,
            "flex_flow": null,
            "grid_area": null,
            "grid_auto_columns": null,
            "grid_auto_flow": null,
            "grid_auto_rows": null,
            "grid_column": null,
            "grid_gap": null,
            "grid_row": null,
            "grid_template_areas": null,
            "grid_template_columns": null,
            "grid_template_rows": null,
            "height": null,
            "justify_content": null,
            "justify_items": null,
            "left": null,
            "margin": null,
            "max_height": null,
            "max_width": null,
            "min_height": null,
            "min_width": null,
            "object_fit": null,
            "object_position": null,
            "order": null,
            "overflow": null,
            "overflow_x": null,
            "overflow_y": null,
            "padding": null,
            "right": null,
            "top": null,
            "visibility": "hidden",
            "width": null
          }
        },
        "7228a550a67e4b839496388f59694c7c": {
          "model_module": "@jupyter-widgets/base",
          "model_name": "LayoutModel",
          "model_module_version": "1.2.0",
          "state": {
            "_model_module": "@jupyter-widgets/base",
            "_model_module_version": "1.2.0",
            "_model_name": "LayoutModel",
            "_view_count": null,
            "_view_module": "@jupyter-widgets/base",
            "_view_module_version": "1.2.0",
            "_view_name": "LayoutView",
            "align_content": null,
            "align_items": null,
            "align_self": null,
            "border": null,
            "bottom": null,
            "display": null,
            "flex": null,
            "flex_flow": null,
            "grid_area": null,
            "grid_auto_columns": null,
            "grid_auto_flow": null,
            "grid_auto_rows": null,
            "grid_column": null,
            "grid_gap": null,
            "grid_row": null,
            "grid_template_areas": null,
            "grid_template_columns": null,
            "grid_template_rows": null,
            "height": null,
            "justify_content": null,
            "justify_items": null,
            "left": null,
            "margin": null,
            "max_height": null,
            "max_width": null,
            "min_height": null,
            "min_width": null,
            "object_fit": null,
            "object_position": null,
            "order": null,
            "overflow": null,
            "overflow_x": null,
            "overflow_y": null,
            "padding": null,
            "right": null,
            "top": null,
            "visibility": null,
            "width": null
          }
        },
        "658900e730354c7fab3aa633750ecdf4": {
          "model_module": "@jupyter-widgets/controls",
          "model_name": "DescriptionStyleModel",
          "model_module_version": "1.5.0",
          "state": {
            "_model_module": "@jupyter-widgets/controls",
            "_model_module_version": "1.5.0",
            "_model_name": "DescriptionStyleModel",
            "_view_count": null,
            "_view_module": "@jupyter-widgets/base",
            "_view_module_version": "1.2.0",
            "_view_name": "StyleView",
            "description_width": ""
          }
        },
        "8823a17fba20413095f4315032aaf485": {
          "model_module": "@jupyter-widgets/base",
          "model_name": "LayoutModel",
          "model_module_version": "1.2.0",
          "state": {
            "_model_module": "@jupyter-widgets/base",
            "_model_module_version": "1.2.0",
            "_model_name": "LayoutModel",
            "_view_count": null,
            "_view_module": "@jupyter-widgets/base",
            "_view_module_version": "1.2.0",
            "_view_name": "LayoutView",
            "align_content": null,
            "align_items": null,
            "align_self": null,
            "border": null,
            "bottom": null,
            "display": null,
            "flex": null,
            "flex_flow": null,
            "grid_area": null,
            "grid_auto_columns": null,
            "grid_auto_flow": null,
            "grid_auto_rows": null,
            "grid_column": null,
            "grid_gap": null,
            "grid_row": null,
            "grid_template_areas": null,
            "grid_template_columns": null,
            "grid_template_rows": null,
            "height": null,
            "justify_content": null,
            "justify_items": null,
            "left": null,
            "margin": null,
            "max_height": null,
            "max_width": null,
            "min_height": null,
            "min_width": null,
            "object_fit": null,
            "object_position": null,
            "order": null,
            "overflow": null,
            "overflow_x": null,
            "overflow_y": null,
            "padding": null,
            "right": null,
            "top": null,
            "visibility": null,
            "width": null
          }
        },
        "ef7ad1b6d4e74aaf973631f4a6ed7924": {
          "model_module": "@jupyter-widgets/controls",
          "model_name": "ProgressStyleModel",
          "model_module_version": "1.5.0",
          "state": {
            "_model_module": "@jupyter-widgets/controls",
            "_model_module_version": "1.5.0",
            "_model_name": "ProgressStyleModel",
            "_view_count": null,
            "_view_module": "@jupyter-widgets/base",
            "_view_module_version": "1.2.0",
            "_view_name": "StyleView",
            "bar_color": null,
            "description_width": ""
          }
        },
        "2bba08be613e43959587790509758338": {
          "model_module": "@jupyter-widgets/base",
          "model_name": "LayoutModel",
          "model_module_version": "1.2.0",
          "state": {
            "_model_module": "@jupyter-widgets/base",
            "_model_module_version": "1.2.0",
            "_model_name": "LayoutModel",
            "_view_count": null,
            "_view_module": "@jupyter-widgets/base",
            "_view_module_version": "1.2.0",
            "_view_name": "LayoutView",
            "align_content": null,
            "align_items": null,
            "align_self": null,
            "border": null,
            "bottom": null,
            "display": null,
            "flex": null,
            "flex_flow": null,
            "grid_area": null,
            "grid_auto_columns": null,
            "grid_auto_flow": null,
            "grid_auto_rows": null,
            "grid_column": null,
            "grid_gap": null,
            "grid_row": null,
            "grid_template_areas": null,
            "grid_template_columns": null,
            "grid_template_rows": null,
            "height": null,
            "justify_content": null,
            "justify_items": null,
            "left": null,
            "margin": null,
            "max_height": null,
            "max_width": null,
            "min_height": null,
            "min_width": null,
            "object_fit": null,
            "object_position": null,
            "order": null,
            "overflow": null,
            "overflow_x": null,
            "overflow_y": null,
            "padding": null,
            "right": null,
            "top": null,
            "visibility": null,
            "width": null
          }
        },
        "545c42fd3da741749a91a4c32717ef7c": {
          "model_module": "@jupyter-widgets/controls",
          "model_name": "DescriptionStyleModel",
          "model_module_version": "1.5.0",
          "state": {
            "_model_module": "@jupyter-widgets/controls",
            "_model_module_version": "1.5.0",
            "_model_name": "DescriptionStyleModel",
            "_view_count": null,
            "_view_module": "@jupyter-widgets/base",
            "_view_module_version": "1.2.0",
            "_view_name": "StyleView",
            "description_width": ""
          }
        },
        "42eca496c2be41ada01af4bfb79ff9fa": {
          "model_module": "@jupyter-widgets/controls",
          "model_name": "HBoxModel",
          "model_module_version": "1.5.0",
          "state": {
            "_dom_classes": [],
            "_model_module": "@jupyter-widgets/controls",
            "_model_module_version": "1.5.0",
            "_model_name": "HBoxModel",
            "_view_count": null,
            "_view_module": "@jupyter-widgets/controls",
            "_view_module_version": "1.5.0",
            "_view_name": "HBoxView",
            "box_style": "",
            "children": [
              "IPY_MODEL_dcd399251f824662851c0e908a56620e",
              "IPY_MODEL_79521ae39b6140d99c17f49c3458a746",
              "IPY_MODEL_013e285dbea24ea5ac5f35ffbb2cd927"
            ],
            "layout": "IPY_MODEL_dad59071c6a14ab483e429e65b6354b4"
          }
        },
        "dcd399251f824662851c0e908a56620e": {
          "model_module": "@jupyter-widgets/controls",
          "model_name": "HTMLModel",
          "model_module_version": "1.5.0",
          "state": {
            "_dom_classes": [],
            "_model_module": "@jupyter-widgets/controls",
            "_model_module_version": "1.5.0",
            "_model_name": "HTMLModel",
            "_view_count": null,
            "_view_module": "@jupyter-widgets/controls",
            "_view_module_version": "1.5.0",
            "_view_name": "HTMLView",
            "description": "",
            "description_tooltip": null,
            "layout": "IPY_MODEL_46e2c71b566f4d6ca271a26f005958de",
            "placeholder": "​",
            "style": "IPY_MODEL_dae6e5b649ef44b391aac06bb27d7562",
            "value": "Processing: 100%"
          }
        },
        "79521ae39b6140d99c17f49c3458a746": {
          "model_module": "@jupyter-widgets/controls",
          "model_name": "FloatProgressModel",
          "model_module_version": "1.5.0",
          "state": {
            "_dom_classes": [],
            "_model_module": "@jupyter-widgets/controls",
            "_model_module_version": "1.5.0",
            "_model_name": "FloatProgressModel",
            "_view_count": null,
            "_view_module": "@jupyter-widgets/controls",
            "_view_module_version": "1.5.0",
            "_view_name": "ProgressView",
            "bar_style": "",
            "description": "",
            "description_tooltip": null,
            "layout": "IPY_MODEL_3fda9b68a04447659c16c4e357fd170f",
            "max": 4,
            "min": 0,
            "orientation": "horizontal",
            "style": "IPY_MODEL_1a1ca6db434b4b6fb0d070dda1e99d54",
            "value": 4
          }
        },
        "013e285dbea24ea5ac5f35ffbb2cd927": {
          "model_module": "@jupyter-widgets/controls",
          "model_name": "HTMLModel",
          "model_module_version": "1.5.0",
          "state": {
            "_dom_classes": [],
            "_model_module": "@jupyter-widgets/controls",
            "_model_module_version": "1.5.0",
            "_model_name": "HTMLModel",
            "_view_count": null,
            "_view_module": "@jupyter-widgets/controls",
            "_view_module_version": "1.5.0",
            "_view_name": "HTMLView",
            "description": "",
            "description_tooltip": null,
            "layout": "IPY_MODEL_fdf7faa1a1c9417b86cc31ca4b5252ca",
            "placeholder": "​",
            "style": "IPY_MODEL_a444ee6051164fa48789fce96dc8f414",
            "value": " 4/4 [00:15&lt;00:00,  3.71s/it]"
          }
        },
        "dad59071c6a14ab483e429e65b6354b4": {
          "model_module": "@jupyter-widgets/base",
          "model_name": "LayoutModel",
          "model_module_version": "1.2.0",
          "state": {
            "_model_module": "@jupyter-widgets/base",
            "_model_module_version": "1.2.0",
            "_model_name": "LayoutModel",
            "_view_count": null,
            "_view_module": "@jupyter-widgets/base",
            "_view_module_version": "1.2.0",
            "_view_name": "LayoutView",
            "align_content": null,
            "align_items": null,
            "align_self": null,
            "border": null,
            "bottom": null,
            "display": null,
            "flex": null,
            "flex_flow": null,
            "grid_area": null,
            "grid_auto_columns": null,
            "grid_auto_flow": null,
            "grid_auto_rows": null,
            "grid_column": null,
            "grid_gap": null,
            "grid_row": null,
            "grid_template_areas": null,
            "grid_template_columns": null,
            "grid_template_rows": null,
            "height": null,
            "justify_content": null,
            "justify_items": null,
            "left": null,
            "margin": null,
            "max_height": null,
            "max_width": null,
            "min_height": null,
            "min_width": null,
            "object_fit": null,
            "object_position": null,
            "order": null,
            "overflow": null,
            "overflow_x": null,
            "overflow_y": null,
            "padding": null,
            "right": null,
            "top": null,
            "visibility": "hidden",
            "width": null
          }
        },
        "46e2c71b566f4d6ca271a26f005958de": {
          "model_module": "@jupyter-widgets/base",
          "model_name": "LayoutModel",
          "model_module_version": "1.2.0",
          "state": {
            "_model_module": "@jupyter-widgets/base",
            "_model_module_version": "1.2.0",
            "_model_name": "LayoutModel",
            "_view_count": null,
            "_view_module": "@jupyter-widgets/base",
            "_view_module_version": "1.2.0",
            "_view_name": "LayoutView",
            "align_content": null,
            "align_items": null,
            "align_self": null,
            "border": null,
            "bottom": null,
            "display": null,
            "flex": null,
            "flex_flow": null,
            "grid_area": null,
            "grid_auto_columns": null,
            "grid_auto_flow": null,
            "grid_auto_rows": null,
            "grid_column": null,
            "grid_gap": null,
            "grid_row": null,
            "grid_template_areas": null,
            "grid_template_columns": null,
            "grid_template_rows": null,
            "height": null,
            "justify_content": null,
            "justify_items": null,
            "left": null,
            "margin": null,
            "max_height": null,
            "max_width": null,
            "min_height": null,
            "min_width": null,
            "object_fit": null,
            "object_position": null,
            "order": null,
            "overflow": null,
            "overflow_x": null,
            "overflow_y": null,
            "padding": null,
            "right": null,
            "top": null,
            "visibility": null,
            "width": null
          }
        },
        "dae6e5b649ef44b391aac06bb27d7562": {
          "model_module": "@jupyter-widgets/controls",
          "model_name": "DescriptionStyleModel",
          "model_module_version": "1.5.0",
          "state": {
            "_model_module": "@jupyter-widgets/controls",
            "_model_module_version": "1.5.0",
            "_model_name": "DescriptionStyleModel",
            "_view_count": null,
            "_view_module": "@jupyter-widgets/base",
            "_view_module_version": "1.2.0",
            "_view_name": "StyleView",
            "description_width": ""
          }
        },
        "3fda9b68a04447659c16c4e357fd170f": {
          "model_module": "@jupyter-widgets/base",
          "model_name": "LayoutModel",
          "model_module_version": "1.2.0",
          "state": {
            "_model_module": "@jupyter-widgets/base",
            "_model_module_version": "1.2.0",
            "_model_name": "LayoutModel",
            "_view_count": null,
            "_view_module": "@jupyter-widgets/base",
            "_view_module_version": "1.2.0",
            "_view_name": "LayoutView",
            "align_content": null,
            "align_items": null,
            "align_self": null,
            "border": null,
            "bottom": null,
            "display": null,
            "flex": null,
            "flex_flow": null,
            "grid_area": null,
            "grid_auto_columns": null,
            "grid_auto_flow": null,
            "grid_auto_rows": null,
            "grid_column": null,
            "grid_gap": null,
            "grid_row": null,
            "grid_template_areas": null,
            "grid_template_columns": null,
            "grid_template_rows": null,
            "height": null,
            "justify_content": null,
            "justify_items": null,
            "left": null,
            "margin": null,
            "max_height": null,
            "max_width": null,
            "min_height": null,
            "min_width": null,
            "object_fit": null,
            "object_position": null,
            "order": null,
            "overflow": null,
            "overflow_x": null,
            "overflow_y": null,
            "padding": null,
            "right": null,
            "top": null,
            "visibility": null,
            "width": null
          }
        },
        "1a1ca6db434b4b6fb0d070dda1e99d54": {
          "model_module": "@jupyter-widgets/controls",
          "model_name": "ProgressStyleModel",
          "model_module_version": "1.5.0",
          "state": {
            "_model_module": "@jupyter-widgets/controls",
            "_model_module_version": "1.5.0",
            "_model_name": "ProgressStyleModel",
            "_view_count": null,
            "_view_module": "@jupyter-widgets/base",
            "_view_module_version": "1.2.0",
            "_view_name": "StyleView",
            "bar_color": null,
            "description_width": ""
          }
        },
        "fdf7faa1a1c9417b86cc31ca4b5252ca": {
          "model_module": "@jupyter-widgets/base",
          "model_name": "LayoutModel",
          "model_module_version": "1.2.0",
          "state": {
            "_model_module": "@jupyter-widgets/base",
            "_model_module_version": "1.2.0",
            "_model_name": "LayoutModel",
            "_view_count": null,
            "_view_module": "@jupyter-widgets/base",
            "_view_module_version": "1.2.0",
            "_view_name": "LayoutView",
            "align_content": null,
            "align_items": null,
            "align_self": null,
            "border": null,
            "bottom": null,
            "display": null,
            "flex": null,
            "flex_flow": null,
            "grid_area": null,
            "grid_auto_columns": null,
            "grid_auto_flow": null,
            "grid_auto_rows": null,
            "grid_column": null,
            "grid_gap": null,
            "grid_row": null,
            "grid_template_areas": null,
            "grid_template_columns": null,
            "grid_template_rows": null,
            "height": null,
            "justify_content": null,
            "justify_items": null,
            "left": null,
            "margin": null,
            "max_height": null,
            "max_width": null,
            "min_height": null,
            "min_width": null,
            "object_fit": null,
            "object_position": null,
            "order": null,
            "overflow": null,
            "overflow_x": null,
            "overflow_y": null,
            "padding": null,
            "right": null,
            "top": null,
            "visibility": null,
            "width": null
          }
        },
        "a444ee6051164fa48789fce96dc8f414": {
          "model_module": "@jupyter-widgets/controls",
          "model_name": "DescriptionStyleModel",
          "model_module_version": "1.5.0",
          "state": {
            "_model_module": "@jupyter-widgets/controls",
            "_model_module_version": "1.5.0",
            "_model_name": "DescriptionStyleModel",
            "_view_count": null,
            "_view_module": "@jupyter-widgets/base",
            "_view_module_version": "1.2.0",
            "_view_name": "StyleView",
            "description_width": ""
          }
        },
        "0d24cc067f244d57b2e7ee5c3bf2e57b": {
          "model_module": "@jupyter-widgets/base",
          "model_name": "LayoutModel",
          "model_module_version": "1.2.0",
          "state": {
            "_model_module": "@jupyter-widgets/base",
            "_model_module_version": "1.2.0",
            "_model_name": "LayoutModel",
            "_view_count": null,
            "_view_module": "@jupyter-widgets/base",
            "_view_module_version": "1.2.0",
            "_view_name": "LayoutView",
            "align_content": null,
            "align_items": null,
            "align_self": null,
            "border": null,
            "bottom": null,
            "display": null,
            "flex": null,
            "flex_flow": null,
            "grid_area": null,
            "grid_auto_columns": null,
            "grid_auto_flow": null,
            "grid_auto_rows": null,
            "grid_column": null,
            "grid_gap": null,
            "grid_row": null,
            "grid_template_areas": null,
            "grid_template_columns": null,
            "grid_template_rows": null,
            "height": null,
            "justify_content": null,
            "justify_items": null,
            "left": null,
            "margin": null,
            "max_height": null,
            "max_width": null,
            "min_height": null,
            "min_width": null,
            "object_fit": null,
            "object_position": null,
            "order": null,
            "overflow": null,
            "overflow_x": null,
            "overflow_y": null,
            "padding": null,
            "right": null,
            "top": null,
            "visibility": null,
            "width": null
          }
        },
        "204c623b5e4a4540aab1cb7eba48854a": {
          "model_module": "@jupyter-widgets/controls",
          "model_name": "ToggleButtonsStyleModel",
          "model_module_version": "1.5.0",
          "state": {
            "_model_module": "@jupyter-widgets/controls",
            "_model_module_version": "1.5.0",
            "_model_name": "ToggleButtonsStyleModel",
            "_view_count": null,
            "_view_module": "@jupyter-widgets/base",
            "_view_module_version": "1.2.0",
            "_view_name": "StyleView",
            "button_width": "",
            "description_width": "",
            "font_weight": ""
          }
        },
        "0dc4c60075c14ea4932c8dd4650c3708": {
          "model_module": "@jupyter-widgets/base",
          "model_name": "LayoutModel",
          "model_module_version": "1.2.0",
          "state": {
            "_model_module": "@jupyter-widgets/base",
            "_model_module_version": "1.2.0",
            "_model_name": "LayoutModel",
            "_view_count": null,
            "_view_module": "@jupyter-widgets/base",
            "_view_module_version": "1.2.0",
            "_view_name": "LayoutView",
            "align_content": null,
            "align_items": null,
            "align_self": null,
            "border": null,
            "bottom": null,
            "display": null,
            "flex": null,
            "flex_flow": null,
            "grid_area": null,
            "grid_auto_columns": null,
            "grid_auto_flow": null,
            "grid_auto_rows": null,
            "grid_column": null,
            "grid_gap": null,
            "grid_row": null,
            "grid_template_areas": null,
            "grid_template_columns": null,
            "grid_template_rows": null,
            "height": null,
            "justify_content": null,
            "justify_items": null,
            "left": null,
            "margin": null,
            "max_height": null,
            "max_width": null,
            "min_height": null,
            "min_width": null,
            "object_fit": null,
            "object_position": null,
            "order": null,
            "overflow": null,
            "overflow_x": null,
            "overflow_y": null,
            "padding": null,
            "right": null,
            "top": null,
            "visibility": null,
            "width": null
          }
        },
        "f9eaa3f7464e4f9db5f2f50ef69dec82": {
          "model_module": "@jupyter-widgets/base",
          "model_name": "LayoutModel",
          "model_module_version": "1.2.0",
          "state": {
            "_model_module": "@jupyter-widgets/base",
            "_model_module_version": "1.2.0",
            "_model_name": "LayoutModel",
            "_view_count": null,
            "_view_module": "@jupyter-widgets/base",
            "_view_module_version": "1.2.0",
            "_view_name": "LayoutView",
            "align_content": null,
            "align_items": null,
            "align_self": null,
            "border": null,
            "bottom": null,
            "display": null,
            "flex": null,
            "flex_flow": null,
            "grid_area": null,
            "grid_auto_columns": null,
            "grid_auto_flow": null,
            "grid_auto_rows": null,
            "grid_column": null,
            "grid_gap": null,
            "grid_row": null,
            "grid_template_areas": null,
            "grid_template_columns": null,
            "grid_template_rows": null,
            "height": null,
            "justify_content": null,
            "justify_items": null,
            "left": null,
            "margin": null,
            "max_height": null,
            "max_width": null,
            "min_height": null,
            "min_width": null,
            "object_fit": null,
            "object_position": null,
            "order": null,
            "overflow": null,
            "overflow_x": null,
            "overflow_y": null,
            "padding": null,
            "right": null,
            "top": null,
            "visibility": null,
            "width": null
          }
        },
        "c3c3af09adee482d98d9b821dddee1da": {
          "model_module": "@jupyter-widgets/controls",
          "model_name": "VBoxModel",
          "model_module_version": "1.5.0",
          "state": {
            "_dom_classes": [
              "widget-interact"
            ],
            "_model_module": "@jupyter-widgets/controls",
            "_model_module_version": "1.5.0",
            "_model_name": "VBoxModel",
            "_view_count": null,
            "_view_module": "@jupyter-widgets/controls",
            "_view_module_version": "1.5.0",
            "_view_name": "VBoxView",
            "box_style": "",
            "children": [
              "IPY_MODEL_0ffc07269d0344819ab004c930fa8947",
              "IPY_MODEL_b8b92fa0a39740f1b35d99aeaa4c0dd6"
            ],
            "layout": "IPY_MODEL_0dc4c60075c14ea4932c8dd4650c3708"
          }
        },
        "0ffc07269d0344819ab004c930fa8947": {
          "model_module": "@jupyter-widgets/controls",
          "model_name": "ToggleButtonsModel",
          "model_module_version": "1.5.0",
          "state": {
            "_dom_classes": [],
            "_model_module": "@jupyter-widgets/controls",
            "_model_module_version": "1.5.0",
            "_model_name": "ToggleButtonsModel",
            "_options_labels": [
              "Pipeline Plot",
              "Hyperparameters",
              "AUC",
              "Confusion Matrix",
              "Threshold",
              "Precision Recall",
              "Prediction Error",
              "Class Report",
              "Feature Selection",
              "Learning Curve",
              "Manifold Learning",
              "Calibration Curve",
              "Validation Curve",
              "Dimensions",
              "Feature Importance",
              "Feature Importance (All)",
              "Decision Boundary",
              "Lift Chart",
              "Gain Chart",
              "Decision Tree",
              "KS Statistic Plot"
            ],
            "_view_count": null,
            "_view_module": "@jupyter-widgets/controls",
            "_view_module_version": "1.5.0",
            "_view_name": "ToggleButtonsView",
            "button_style": "",
            "description": "Plot Type:",
            "description_tooltip": null,
            "disabled": false,
            "icons": [
              ""
            ],
            "index": 0,
            "layout": "IPY_MODEL_0d24cc067f244d57b2e7ee5c3bf2e57b",
            "style": "IPY_MODEL_204c623b5e4a4540aab1cb7eba48854a",
            "tooltips": []
          }
        },
        "b8b92fa0a39740f1b35d99aeaa4c0dd6": {
          "model_module": "@jupyter-widgets/output",
          "model_name": "OutputModel",
          "model_module_version": "1.0.0",
          "state": {
            "_dom_classes": [],
            "_model_module": "@jupyter-widgets/output",
            "_model_module_version": "1.0.0",
            "_model_name": "OutputModel",
            "_view_count": null,
            "_view_module": "@jupyter-widgets/output",
            "_view_module_version": "1.0.0",
            "_view_name": "OutputView",
            "layout": "IPY_MODEL_f9eaa3f7464e4f9db5f2f50ef69dec82",
            "msg_id": "",
            "outputs": [
              {
                "output_type": "display_data",
                "data": {
                  "text/plain": "<Figure size 1700x600 with 1 Axes>",
                  "image/png": "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\n"
                },
                "metadata": {}
              }
            ]
          }
        }
      }
    }
  },
  "cells": [
    {
      "cell_type": "markdown",
      "source": [
        "# ARTIFICIAL NEURAL NETWORKS (ANN)"
      ],
      "metadata": {
        "id": "6GrQ8By9hSfB"
      }
    },
    {
      "cell_type": "code",
      "source": [
        "from google.colab import drive\n",
        "drive.mount('/content/drive')"
      ],
      "metadata": {
        "id": "vTcD1BAQJ1x7"
      },
      "execution_count": null,
      "outputs": []
    },
    {
      "cell_type": "code",
      "source": [
        "import pandas as pd\n",
        "import numpy as np\n",
        "from sklearn import preprocessing\n",
        "from sklearn.model_selection import train_test_split, GridSearchCV\n",
        "from sklearn import datasets\n",
        "import matplotlib.pyplot as plt\n",
        "import seaborn as sns\n",
        "from sklearn.preprocessing import LabelEncoder\n",
        "from sklearn.metrics import accuracy_score\n",
        "from sklearn.preprocessing import StandardScaler"
      ],
      "metadata": {
        "id": "c_WhuVgWKAAQ"
      },
      "execution_count": null,
      "outputs": []
    },
    {
      "cell_type": "code",
      "source": [
        "import keras\n",
        "from keras.models import Sequential\n",
        "from keras.layers import Dense"
      ],
      "metadata": {
        "id": "bQ-29SaGXQHm"
      },
      "execution_count": null,
      "outputs": []
    },
    {
      "cell_type": "markdown",
      "source": [
        "Recordar pycaret para futuras implementaciones."
      ],
      "metadata": {
        "id": "z5xUY6KJKUlm"
      }
    },
    {
      "cell_type": "code",
      "source": [],
      "metadata": {
        "id": "BNMmTr1cKUdc"
      },
      "execution_count": null,
      "outputs": []
    },
    {
      "cell_type": "markdown",
      "source": [
        "## 1. UNSW Dataset Implementation"
      ],
      "metadata": {
        "id": "8PbVAtO5JRbp"
      }
    },
    {
      "cell_type": "markdown",
      "source": [
        "Como vimos, este dataset no comparte muchas similitudes con el de IFW, por lo que vamos a generar dos modelos diferentes para ver cual se ajusta mejor. Además, la red neuronal que usemos en este debe de poder clasificar si la acción sería 0 o 1."
      ],
      "metadata": {
        "id": "pmU7juOGJZT_"
      }
    },
    {
      "cell_type": "code",
      "source": [
        "unsw_df = pd.read_csv('/content/drive/MyDrive/PDG2/Datasets/UNSW.csv')"
      ],
      "metadata": {
        "id": "bIGDF_lDJzIC"
      },
      "execution_count": null,
      "outputs": []
    },
    {
      "cell_type": "markdown",
      "source": [
        "### 1.1 Revisión del dataset"
      ],
      "metadata": {
        "id": "CvQ0VUDJMPQL"
      }
    },
    {
      "cell_type": "markdown",
      "source": [
        "Vamos a empezar revisando los primeros y últimos datos del dataset"
      ],
      "metadata": {
        "id": "a4phgHHlKqmc"
      }
    },
    {
      "cell_type": "code",
      "source": [
        "unsw_df.head()"
      ],
      "metadata": {
        "colab": {
          "base_uri": "https://localhost:8080/"
        },
        "id": "52MjhUzhLohl",
        "outputId": "b01c1908-0069-49b2-ca3a-2c4ad9f3dc21"
      },
      "execution_count": null,
      "outputs": [
        {
          "output_type": "execute_result",
          "data": {
            "text/plain": [
              "   id  state       rate  sttl         sload          dload      sinpkt  swin  \\\n",
              "0   1      4  74.087490   252  14158.942380    8495.365234   24.295600   255   \n",
              "1   2      4  78.473372    62   8395.112305  503571.312500   49.915000   255   \n",
              "2   3      4  14.170161    62   1572.271851   60929.230470  231.875571   255   \n",
              "3   4      4  13.677108    62   2740.178955    3358.622070  152.876547   255   \n",
              "4   5      4  33.373826   254   8561.499023    3987.059814   47.750333   255   \n",
              "\n",
              "        stcpb       dtcpb  ...  ct_state_ttl  ct_dst_ltm  ct_src_dport_ltm  \\\n",
              "0   621772692  2202533631  ...             0           1                 1   \n",
              "1  1417884146  3077387971  ...             1           1                 1   \n",
              "2  2116150707  2963114973  ...             1           2                 1   \n",
              "3  1107119177  1047442890  ...             1           2                 1   \n",
              "4  2436137549  1977154190  ...             1           2                 2   \n",
              "\n",
              "   ct_dst_sport_ltm  ct_dst_src_ltm  ct_src_ltm  ct_srv_dst  is_sm_ips_ports  \\\n",
              "0                 1               1           1           1                0   \n",
              "1                 1               2           1           6                0   \n",
              "2                 1               3           2           6                0   \n",
              "3                 1               3           2           1                0   \n",
              "4                 1              40           2          39                0   \n",
              "\n",
              "   attack_cat  label  \n",
              "0           6      0  \n",
              "1           6      0  \n",
              "2           6      0  \n",
              "3           6      0  \n",
              "4           6      0  \n",
              "\n",
              "[5 rows x 23 columns]"
            ],
            "text/html": [
              "\n",
              "  <div id=\"df-c14a14e1-ba86-4891-88e8-637f41bbe1b6\" class=\"colab-df-container\">\n",
              "    <div>\n",
              "<style scoped>\n",
              "    .dataframe tbody tr th:only-of-type {\n",
              "        vertical-align: middle;\n",
              "    }\n",
              "\n",
              "    .dataframe tbody tr th {\n",
              "        vertical-align: top;\n",
              "    }\n",
              "\n",
              "    .dataframe thead th {\n",
              "        text-align: right;\n",
              "    }\n",
              "</style>\n",
              "<table border=\"1\" class=\"dataframe\">\n",
              "  <thead>\n",
              "    <tr style=\"text-align: right;\">\n",
              "      <th></th>\n",
              "      <th>id</th>\n",
              "      <th>state</th>\n",
              "      <th>rate</th>\n",
              "      <th>sttl</th>\n",
              "      <th>sload</th>\n",
              "      <th>dload</th>\n",
              "      <th>sinpkt</th>\n",
              "      <th>swin</th>\n",
              "      <th>stcpb</th>\n",
              "      <th>dtcpb</th>\n",
              "      <th>...</th>\n",
              "      <th>ct_state_ttl</th>\n",
              "      <th>ct_dst_ltm</th>\n",
              "      <th>ct_src_dport_ltm</th>\n",
              "      <th>ct_dst_sport_ltm</th>\n",
              "      <th>ct_dst_src_ltm</th>\n",
              "      <th>ct_src_ltm</th>\n",
              "      <th>ct_srv_dst</th>\n",
              "      <th>is_sm_ips_ports</th>\n",
              "      <th>attack_cat</th>\n",
              "      <th>label</th>\n",
              "    </tr>\n",
              "  </thead>\n",
              "  <tbody>\n",
              "    <tr>\n",
              "      <th>0</th>\n",
              "      <td>1</td>\n",
              "      <td>4</td>\n",
              "      <td>74.087490</td>\n",
              "      <td>252</td>\n",
              "      <td>14158.942380</td>\n",
              "      <td>8495.365234</td>\n",
              "      <td>24.295600</td>\n",
              "      <td>255</td>\n",
              "      <td>621772692</td>\n",
              "      <td>2202533631</td>\n",
              "      <td>...</td>\n",
              "      <td>0</td>\n",
              "      <td>1</td>\n",
              "      <td>1</td>\n",
              "      <td>1</td>\n",
              "      <td>1</td>\n",
              "      <td>1</td>\n",
              "      <td>1</td>\n",
              "      <td>0</td>\n",
              "      <td>6</td>\n",
              "      <td>0</td>\n",
              "    </tr>\n",
              "    <tr>\n",
              "      <th>1</th>\n",
              "      <td>2</td>\n",
              "      <td>4</td>\n",
              "      <td>78.473372</td>\n",
              "      <td>62</td>\n",
              "      <td>8395.112305</td>\n",
              "      <td>503571.312500</td>\n",
              "      <td>49.915000</td>\n",
              "      <td>255</td>\n",
              "      <td>1417884146</td>\n",
              "      <td>3077387971</td>\n",
              "      <td>...</td>\n",
              "      <td>1</td>\n",
              "      <td>1</td>\n",
              "      <td>1</td>\n",
              "      <td>1</td>\n",
              "      <td>2</td>\n",
              "      <td>1</td>\n",
              "      <td>6</td>\n",
              "      <td>0</td>\n",
              "      <td>6</td>\n",
              "      <td>0</td>\n",
              "    </tr>\n",
              "    <tr>\n",
              "      <th>2</th>\n",
              "      <td>3</td>\n",
              "      <td>4</td>\n",
              "      <td>14.170161</td>\n",
              "      <td>62</td>\n",
              "      <td>1572.271851</td>\n",
              "      <td>60929.230470</td>\n",
              "      <td>231.875571</td>\n",
              "      <td>255</td>\n",
              "      <td>2116150707</td>\n",
              "      <td>2963114973</td>\n",
              "      <td>...</td>\n",
              "      <td>1</td>\n",
              "      <td>2</td>\n",
              "      <td>1</td>\n",
              "      <td>1</td>\n",
              "      <td>3</td>\n",
              "      <td>2</td>\n",
              "      <td>6</td>\n",
              "      <td>0</td>\n",
              "      <td>6</td>\n",
              "      <td>0</td>\n",
              "    </tr>\n",
              "    <tr>\n",
              "      <th>3</th>\n",
              "      <td>4</td>\n",
              "      <td>4</td>\n",
              "      <td>13.677108</td>\n",
              "      <td>62</td>\n",
              "      <td>2740.178955</td>\n",
              "      <td>3358.622070</td>\n",
              "      <td>152.876547</td>\n",
              "      <td>255</td>\n",
              "      <td>1107119177</td>\n",
              "      <td>1047442890</td>\n",
              "      <td>...</td>\n",
              "      <td>1</td>\n",
              "      <td>2</td>\n",
              "      <td>1</td>\n",
              "      <td>1</td>\n",
              "      <td>3</td>\n",
              "      <td>2</td>\n",
              "      <td>1</td>\n",
              "      <td>0</td>\n",
              "      <td>6</td>\n",
              "      <td>0</td>\n",
              "    </tr>\n",
              "    <tr>\n",
              "      <th>4</th>\n",
              "      <td>5</td>\n",
              "      <td>4</td>\n",
              "      <td>33.373826</td>\n",
              "      <td>254</td>\n",
              "      <td>8561.499023</td>\n",
              "      <td>3987.059814</td>\n",
              "      <td>47.750333</td>\n",
              "      <td>255</td>\n",
              "      <td>2436137549</td>\n",
              "      <td>1977154190</td>\n",
              "      <td>...</td>\n",
              "      <td>1</td>\n",
              "      <td>2</td>\n",
              "      <td>2</td>\n",
              "      <td>1</td>\n",
              "      <td>40</td>\n",
              "      <td>2</td>\n",
              "      <td>39</td>\n",
              "      <td>0</td>\n",
              "      <td>6</td>\n",
              "      <td>0</td>\n",
              "    </tr>\n",
              "  </tbody>\n",
              "</table>\n",
              "<p>5 rows × 23 columns</p>\n",
              "</div>\n",
              "    <div class=\"colab-df-buttons\">\n",
              "\n",
              "  <div class=\"colab-df-container\">\n",
              "    <button class=\"colab-df-convert\" onclick=\"convertToInteractive('df-c14a14e1-ba86-4891-88e8-637f41bbe1b6')\"\n",
              "            title=\"Convert this dataframe to an interactive table.\"\n",
              "            style=\"display:none;\">\n",
              "\n",
              "  <svg xmlns=\"http://www.w3.org/2000/svg\" height=\"24px\" viewBox=\"0 -960 960 960\">\n",
              "    <path d=\"M120-120v-720h720v720H120Zm60-500h600v-160H180v160Zm220 220h160v-160H400v160Zm0 220h160v-160H400v160ZM180-400h160v-160H180v160Zm440 0h160v-160H620v160ZM180-180h160v-160H180v160Zm440 0h160v-160H620v160Z\"/>\n",
              "  </svg>\n",
              "    </button>\n",
              "\n",
              "  <style>\n",
              "    .colab-df-container {\n",
              "      display:flex;\n",
              "      gap: 12px;\n",
              "    }\n",
              "\n",
              "    .colab-df-convert {\n",
              "      background-color: #E8F0FE;\n",
              "      border: none;\n",
              "      border-radius: 50%;\n",
              "      cursor: pointer;\n",
              "      display: none;\n",
              "      fill: #1967D2;\n",
              "      height: 32px;\n",
              "      padding: 0 0 0 0;\n",
              "      width: 32px;\n",
              "    }\n",
              "\n",
              "    .colab-df-convert:hover {\n",
              "      background-color: #E2EBFA;\n",
              "      box-shadow: 0px 1px 2px rgba(60, 64, 67, 0.3), 0px 1px 3px 1px rgba(60, 64, 67, 0.15);\n",
              "      fill: #174EA6;\n",
              "    }\n",
              "\n",
              "    .colab-df-buttons div {\n",
              "      margin-bottom: 4px;\n",
              "    }\n",
              "\n",
              "    [theme=dark] .colab-df-convert {\n",
              "      background-color: #3B4455;\n",
              "      fill: #D2E3FC;\n",
              "    }\n",
              "\n",
              "    [theme=dark] .colab-df-convert:hover {\n",
              "      background-color: #434B5C;\n",
              "      box-shadow: 0px 1px 3px 1px rgba(0, 0, 0, 0.15);\n",
              "      filter: drop-shadow(0px 1px 2px rgba(0, 0, 0, 0.3));\n",
              "      fill: #FFFFFF;\n",
              "    }\n",
              "  </style>\n",
              "\n",
              "    <script>\n",
              "      const buttonEl =\n",
              "        document.querySelector('#df-c14a14e1-ba86-4891-88e8-637f41bbe1b6 button.colab-df-convert');\n",
              "      buttonEl.style.display =\n",
              "        google.colab.kernel.accessAllowed ? 'block' : 'none';\n",
              "\n",
              "      async function convertToInteractive(key) {\n",
              "        const element = document.querySelector('#df-c14a14e1-ba86-4891-88e8-637f41bbe1b6');\n",
              "        const dataTable =\n",
              "          await google.colab.kernel.invokeFunction('convertToInteractive',\n",
              "                                                    [key], {});\n",
              "        if (!dataTable) return;\n",
              "\n",
              "        const docLinkHtml = 'Like what you see? Visit the ' +\n",
              "          '<a target=\"_blank\" href=https://colab.research.google.com/notebooks/data_table.ipynb>data table notebook</a>'\n",
              "          + ' to learn more about interactive tables.';\n",
              "        element.innerHTML = '';\n",
              "        dataTable['output_type'] = 'display_data';\n",
              "        await google.colab.output.renderOutput(dataTable, element);\n",
              "        const docLink = document.createElement('div');\n",
              "        docLink.innerHTML = docLinkHtml;\n",
              "        element.appendChild(docLink);\n",
              "      }\n",
              "    </script>\n",
              "  </div>\n",
              "\n",
              "\n",
              "<div id=\"df-56d1afe7-79d7-44c9-91e6-b9b968867f2f\">\n",
              "  <button class=\"colab-df-quickchart\" onclick=\"quickchart('df-56d1afe7-79d7-44c9-91e6-b9b968867f2f')\"\n",
              "            title=\"Suggest charts\"\n",
              "            style=\"display:none;\">\n",
              "\n",
              "<svg xmlns=\"http://www.w3.org/2000/svg\" height=\"24px\"viewBox=\"0 0 24 24\"\n",
              "     width=\"24px\">\n",
              "    <g>\n",
              "        <path d=\"M19 3H5c-1.1 0-2 .9-2 2v14c0 1.1.9 2 2 2h14c1.1 0 2-.9 2-2V5c0-1.1-.9-2-2-2zM9 17H7v-7h2v7zm4 0h-2V7h2v10zm4 0h-2v-4h2v4z\"/>\n",
              "    </g>\n",
              "</svg>\n",
              "  </button>\n",
              "\n",
              "<style>\n",
              "  .colab-df-quickchart {\n",
              "      --bg-color: #E8F0FE;\n",
              "      --fill-color: #1967D2;\n",
              "      --hover-bg-color: #E2EBFA;\n",
              "      --hover-fill-color: #174EA6;\n",
              "      --disabled-fill-color: #AAA;\n",
              "      --disabled-bg-color: #DDD;\n",
              "  }\n",
              "\n",
              "  [theme=dark] .colab-df-quickchart {\n",
              "      --bg-color: #3B4455;\n",
              "      --fill-color: #D2E3FC;\n",
              "      --hover-bg-color: #434B5C;\n",
              "      --hover-fill-color: #FFFFFF;\n",
              "      --disabled-bg-color: #3B4455;\n",
              "      --disabled-fill-color: #666;\n",
              "  }\n",
              "\n",
              "  .colab-df-quickchart {\n",
              "    background-color: var(--bg-color);\n",
              "    border: none;\n",
              "    border-radius: 50%;\n",
              "    cursor: pointer;\n",
              "    display: none;\n",
              "    fill: var(--fill-color);\n",
              "    height: 32px;\n",
              "    padding: 0;\n",
              "    width: 32px;\n",
              "  }\n",
              "\n",
              "  .colab-df-quickchart:hover {\n",
              "    background-color: var(--hover-bg-color);\n",
              "    box-shadow: 0 1px 2px rgba(60, 64, 67, 0.3), 0 1px 3px 1px rgba(60, 64, 67, 0.15);\n",
              "    fill: var(--button-hover-fill-color);\n",
              "  }\n",
              "\n",
              "  .colab-df-quickchart-complete:disabled,\n",
              "  .colab-df-quickchart-complete:disabled:hover {\n",
              "    background-color: var(--disabled-bg-color);\n",
              "    fill: var(--disabled-fill-color);\n",
              "    box-shadow: none;\n",
              "  }\n",
              "\n",
              "  .colab-df-spinner {\n",
              "    border: 2px solid var(--fill-color);\n",
              "    border-color: transparent;\n",
              "    border-bottom-color: var(--fill-color);\n",
              "    animation:\n",
              "      spin 1s steps(1) infinite;\n",
              "  }\n",
              "\n",
              "  @keyframes spin {\n",
              "    0% {\n",
              "      border-color: transparent;\n",
              "      border-bottom-color: var(--fill-color);\n",
              "      border-left-color: var(--fill-color);\n",
              "    }\n",
              "    20% {\n",
              "      border-color: transparent;\n",
              "      border-left-color: var(--fill-color);\n",
              "      border-top-color: var(--fill-color);\n",
              "    }\n",
              "    30% {\n",
              "      border-color: transparent;\n",
              "      border-left-color: var(--fill-color);\n",
              "      border-top-color: var(--fill-color);\n",
              "      border-right-color: var(--fill-color);\n",
              "    }\n",
              "    40% {\n",
              "      border-color: transparent;\n",
              "      border-right-color: var(--fill-color);\n",
              "      border-top-color: var(--fill-color);\n",
              "    }\n",
              "    60% {\n",
              "      border-color: transparent;\n",
              "      border-right-color: var(--fill-color);\n",
              "    }\n",
              "    80% {\n",
              "      border-color: transparent;\n",
              "      border-right-color: var(--fill-color);\n",
              "      border-bottom-color: var(--fill-color);\n",
              "    }\n",
              "    90% {\n",
              "      border-color: transparent;\n",
              "      border-bottom-color: var(--fill-color);\n",
              "    }\n",
              "  }\n",
              "</style>\n",
              "\n",
              "  <script>\n",
              "    async function quickchart(key) {\n",
              "      const quickchartButtonEl =\n",
              "        document.querySelector('#' + key + ' button');\n",
              "      quickchartButtonEl.disabled = true;  // To prevent multiple clicks.\n",
              "      quickchartButtonEl.classList.add('colab-df-spinner');\n",
              "      try {\n",
              "        const charts = await google.colab.kernel.invokeFunction(\n",
              "            'suggestCharts', [key], {});\n",
              "      } catch (error) {\n",
              "        console.error('Error during call to suggestCharts:', error);\n",
              "      }\n",
              "      quickchartButtonEl.classList.remove('colab-df-spinner');\n",
              "      quickchartButtonEl.classList.add('colab-df-quickchart-complete');\n",
              "    }\n",
              "    (() => {\n",
              "      let quickchartButtonEl =\n",
              "        document.querySelector('#df-56d1afe7-79d7-44c9-91e6-b9b968867f2f button');\n",
              "      quickchartButtonEl.style.display =\n",
              "        google.colab.kernel.accessAllowed ? 'block' : 'none';\n",
              "    })();\n",
              "  </script>\n",
              "</div>\n",
              "\n",
              "    </div>\n",
              "  </div>\n"
            ],
            "application/vnd.google.colaboratory.intrinsic+json": {
              "type": "dataframe",
              "variable_name": "unsw_df"
            }
          },
          "metadata": {},
          "execution_count": 12
        }
      ]
    },
    {
      "cell_type": "code",
      "source": [
        "unsw_df.tail()"
      ],
      "metadata": {
        "colab": {
          "base_uri": "https://localhost:8080/"
        },
        "id": "oCtd2KSHK6R0",
        "outputId": "b6e3e2df-c7fb-46fc-f048-b372ee743090"
      },
      "execution_count": null,
      "outputs": [
        {
          "output_type": "execute_result",
          "data": {
            "text/plain": [
              "           id  state           rate  sttl         sload        dload  \\\n",
              "257668  82328      5  200000.005100   254  8.320000e+07     0.000000   \n",
              "257669  82329      4      24.410067   254  1.241044e+05  2242.109863   \n",
              "257670  82330      5       0.000000     0  0.000000e+00     0.000000   \n",
              "257671  82331      5       0.000000     0  0.000000e+00     0.000000   \n",
              "257672  82332      5  111111.107200   254  4.622222e+07     0.000000   \n",
              "\n",
              "              sinpkt  swin       stcpb       dtcpb  ...  ct_state_ttl  \\\n",
              "257668      0.005000     0           0           0  ...             2   \n",
              "257669     55.880051   255  1072535109  3284291478  ...             1   \n",
              "257670  60000.720000     0           0           0  ...             2   \n",
              "257671  60000.732000     0           0           0  ...             2   \n",
              "257672      0.009000     0           0           0  ...             2   \n",
              "\n",
              "        ct_dst_ltm  ct_src_dport_ltm  ct_dst_sport_ltm  ct_dst_src_ltm  \\\n",
              "257668           2                 1                 1               2   \n",
              "257669           2                 1                 1               1   \n",
              "257670           1                 1                 1               1   \n",
              "257671           1                 1                 1               1   \n",
              "257672           1                 1                 1               1   \n",
              "\n",
              "        ct_src_ltm  ct_srv_dst  is_sm_ips_ports  attack_cat  label  \n",
              "257668           2           1                0           6      0  \n",
              "257669           3           2                0           6      0  \n",
              "257670           1           1                1           6      0  \n",
              "257671           1           1                1           6      0  \n",
              "257672           1           1                0           6      0  \n",
              "\n",
              "[5 rows x 23 columns]"
            ],
            "text/html": [
              "\n",
              "  <div id=\"df-d95721ef-e5b8-4f76-a876-41a4eafe65f1\" class=\"colab-df-container\">\n",
              "    <div>\n",
              "<style scoped>\n",
              "    .dataframe tbody tr th:only-of-type {\n",
              "        vertical-align: middle;\n",
              "    }\n",
              "\n",
              "    .dataframe tbody tr th {\n",
              "        vertical-align: top;\n",
              "    }\n",
              "\n",
              "    .dataframe thead th {\n",
              "        text-align: right;\n",
              "    }\n",
              "</style>\n",
              "<table border=\"1\" class=\"dataframe\">\n",
              "  <thead>\n",
              "    <tr style=\"text-align: right;\">\n",
              "      <th></th>\n",
              "      <th>id</th>\n",
              "      <th>state</th>\n",
              "      <th>rate</th>\n",
              "      <th>sttl</th>\n",
              "      <th>sload</th>\n",
              "      <th>dload</th>\n",
              "      <th>sinpkt</th>\n",
              "      <th>swin</th>\n",
              "      <th>stcpb</th>\n",
              "      <th>dtcpb</th>\n",
              "      <th>...</th>\n",
              "      <th>ct_state_ttl</th>\n",
              "      <th>ct_dst_ltm</th>\n",
              "      <th>ct_src_dport_ltm</th>\n",
              "      <th>ct_dst_sport_ltm</th>\n",
              "      <th>ct_dst_src_ltm</th>\n",
              "      <th>ct_src_ltm</th>\n",
              "      <th>ct_srv_dst</th>\n",
              "      <th>is_sm_ips_ports</th>\n",
              "      <th>attack_cat</th>\n",
              "      <th>label</th>\n",
              "    </tr>\n",
              "  </thead>\n",
              "  <tbody>\n",
              "    <tr>\n",
              "      <th>257668</th>\n",
              "      <td>82328</td>\n",
              "      <td>5</td>\n",
              "      <td>200000.005100</td>\n",
              "      <td>254</td>\n",
              "      <td>8.320000e+07</td>\n",
              "      <td>0.000000</td>\n",
              "      <td>0.005000</td>\n",
              "      <td>0</td>\n",
              "      <td>0</td>\n",
              "      <td>0</td>\n",
              "      <td>...</td>\n",
              "      <td>2</td>\n",
              "      <td>2</td>\n",
              "      <td>1</td>\n",
              "      <td>1</td>\n",
              "      <td>2</td>\n",
              "      <td>2</td>\n",
              "      <td>1</td>\n",
              "      <td>0</td>\n",
              "      <td>6</td>\n",
              "      <td>0</td>\n",
              "    </tr>\n",
              "    <tr>\n",
              "      <th>257669</th>\n",
              "      <td>82329</td>\n",
              "      <td>4</td>\n",
              "      <td>24.410067</td>\n",
              "      <td>254</td>\n",
              "      <td>1.241044e+05</td>\n",
              "      <td>2242.109863</td>\n",
              "      <td>55.880051</td>\n",
              "      <td>255</td>\n",
              "      <td>1072535109</td>\n",
              "      <td>3284291478</td>\n",
              "      <td>...</td>\n",
              "      <td>1</td>\n",
              "      <td>2</td>\n",
              "      <td>1</td>\n",
              "      <td>1</td>\n",
              "      <td>1</td>\n",
              "      <td>3</td>\n",
              "      <td>2</td>\n",
              "      <td>0</td>\n",
              "      <td>6</td>\n",
              "      <td>0</td>\n",
              "    </tr>\n",
              "    <tr>\n",
              "      <th>257670</th>\n",
              "      <td>82330</td>\n",
              "      <td>5</td>\n",
              "      <td>0.000000</td>\n",
              "      <td>0</td>\n",
              "      <td>0.000000e+00</td>\n",
              "      <td>0.000000</td>\n",
              "      <td>60000.720000</td>\n",
              "      <td>0</td>\n",
              "      <td>0</td>\n",
              "      <td>0</td>\n",
              "      <td>...</td>\n",
              "      <td>2</td>\n",
              "      <td>1</td>\n",
              "      <td>1</td>\n",
              "      <td>1</td>\n",
              "      <td>1</td>\n",
              "      <td>1</td>\n",
              "      <td>1</td>\n",
              "      <td>1</td>\n",
              "      <td>6</td>\n",
              "      <td>0</td>\n",
              "    </tr>\n",
              "    <tr>\n",
              "      <th>257671</th>\n",
              "      <td>82331</td>\n",
              "      <td>5</td>\n",
              "      <td>0.000000</td>\n",
              "      <td>0</td>\n",
              "      <td>0.000000e+00</td>\n",
              "      <td>0.000000</td>\n",
              "      <td>60000.732000</td>\n",
              "      <td>0</td>\n",
              "      <td>0</td>\n",
              "      <td>0</td>\n",
              "      <td>...</td>\n",
              "      <td>2</td>\n",
              "      <td>1</td>\n",
              "      <td>1</td>\n",
              "      <td>1</td>\n",
              "      <td>1</td>\n",
              "      <td>1</td>\n",
              "      <td>1</td>\n",
              "      <td>1</td>\n",
              "      <td>6</td>\n",
              "      <td>0</td>\n",
              "    </tr>\n",
              "    <tr>\n",
              "      <th>257672</th>\n",
              "      <td>82332</td>\n",
              "      <td>5</td>\n",
              "      <td>111111.107200</td>\n",
              "      <td>254</td>\n",
              "      <td>4.622222e+07</td>\n",
              "      <td>0.000000</td>\n",
              "      <td>0.009000</td>\n",
              "      <td>0</td>\n",
              "      <td>0</td>\n",
              "      <td>0</td>\n",
              "      <td>...</td>\n",
              "      <td>2</td>\n",
              "      <td>1</td>\n",
              "      <td>1</td>\n",
              "      <td>1</td>\n",
              "      <td>1</td>\n",
              "      <td>1</td>\n",
              "      <td>1</td>\n",
              "      <td>0</td>\n",
              "      <td>6</td>\n",
              "      <td>0</td>\n",
              "    </tr>\n",
              "  </tbody>\n",
              "</table>\n",
              "<p>5 rows × 23 columns</p>\n",
              "</div>\n",
              "    <div class=\"colab-df-buttons\">\n",
              "\n",
              "  <div class=\"colab-df-container\">\n",
              "    <button class=\"colab-df-convert\" onclick=\"convertToInteractive('df-d95721ef-e5b8-4f76-a876-41a4eafe65f1')\"\n",
              "            title=\"Convert this dataframe to an interactive table.\"\n",
              "            style=\"display:none;\">\n",
              "\n",
              "  <svg xmlns=\"http://www.w3.org/2000/svg\" height=\"24px\" viewBox=\"0 -960 960 960\">\n",
              "    <path d=\"M120-120v-720h720v720H120Zm60-500h600v-160H180v160Zm220 220h160v-160H400v160Zm0 220h160v-160H400v160ZM180-400h160v-160H180v160Zm440 0h160v-160H620v160ZM180-180h160v-160H180v160Zm440 0h160v-160H620v160Z\"/>\n",
              "  </svg>\n",
              "    </button>\n",
              "\n",
              "  <style>\n",
              "    .colab-df-container {\n",
              "      display:flex;\n",
              "      gap: 12px;\n",
              "    }\n",
              "\n",
              "    .colab-df-convert {\n",
              "      background-color: #E8F0FE;\n",
              "      border: none;\n",
              "      border-radius: 50%;\n",
              "      cursor: pointer;\n",
              "      display: none;\n",
              "      fill: #1967D2;\n",
              "      height: 32px;\n",
              "      padding: 0 0 0 0;\n",
              "      width: 32px;\n",
              "    }\n",
              "\n",
              "    .colab-df-convert:hover {\n",
              "      background-color: #E2EBFA;\n",
              "      box-shadow: 0px 1px 2px rgba(60, 64, 67, 0.3), 0px 1px 3px 1px rgba(60, 64, 67, 0.15);\n",
              "      fill: #174EA6;\n",
              "    }\n",
              "\n",
              "    .colab-df-buttons div {\n",
              "      margin-bottom: 4px;\n",
              "    }\n",
              "\n",
              "    [theme=dark] .colab-df-convert {\n",
              "      background-color: #3B4455;\n",
              "      fill: #D2E3FC;\n",
              "    }\n",
              "\n",
              "    [theme=dark] .colab-df-convert:hover {\n",
              "      background-color: #434B5C;\n",
              "      box-shadow: 0px 1px 3px 1px rgba(0, 0, 0, 0.15);\n",
              "      filter: drop-shadow(0px 1px 2px rgba(0, 0, 0, 0.3));\n",
              "      fill: #FFFFFF;\n",
              "    }\n",
              "  </style>\n",
              "\n",
              "    <script>\n",
              "      const buttonEl =\n",
              "        document.querySelector('#df-d95721ef-e5b8-4f76-a876-41a4eafe65f1 button.colab-df-convert');\n",
              "      buttonEl.style.display =\n",
              "        google.colab.kernel.accessAllowed ? 'block' : 'none';\n",
              "\n",
              "      async function convertToInteractive(key) {\n",
              "        const element = document.querySelector('#df-d95721ef-e5b8-4f76-a876-41a4eafe65f1');\n",
              "        const dataTable =\n",
              "          await google.colab.kernel.invokeFunction('convertToInteractive',\n",
              "                                                    [key], {});\n",
              "        if (!dataTable) return;\n",
              "\n",
              "        const docLinkHtml = 'Like what you see? Visit the ' +\n",
              "          '<a target=\"_blank\" href=https://colab.research.google.com/notebooks/data_table.ipynb>data table notebook</a>'\n",
              "          + ' to learn more about interactive tables.';\n",
              "        element.innerHTML = '';\n",
              "        dataTable['output_type'] = 'display_data';\n",
              "        await google.colab.output.renderOutput(dataTable, element);\n",
              "        const docLink = document.createElement('div');\n",
              "        docLink.innerHTML = docLinkHtml;\n",
              "        element.appendChild(docLink);\n",
              "      }\n",
              "    </script>\n",
              "  </div>\n",
              "\n",
              "\n",
              "<div id=\"df-be3f40a4-3a09-47b0-9230-bb98fdef07bf\">\n",
              "  <button class=\"colab-df-quickchart\" onclick=\"quickchart('df-be3f40a4-3a09-47b0-9230-bb98fdef07bf')\"\n",
              "            title=\"Suggest charts\"\n",
              "            style=\"display:none;\">\n",
              "\n",
              "<svg xmlns=\"http://www.w3.org/2000/svg\" height=\"24px\"viewBox=\"0 0 24 24\"\n",
              "     width=\"24px\">\n",
              "    <g>\n",
              "        <path d=\"M19 3H5c-1.1 0-2 .9-2 2v14c0 1.1.9 2 2 2h14c1.1 0 2-.9 2-2V5c0-1.1-.9-2-2-2zM9 17H7v-7h2v7zm4 0h-2V7h2v10zm4 0h-2v-4h2v4z\"/>\n",
              "    </g>\n",
              "</svg>\n",
              "  </button>\n",
              "\n",
              "<style>\n",
              "  .colab-df-quickchart {\n",
              "      --bg-color: #E8F0FE;\n",
              "      --fill-color: #1967D2;\n",
              "      --hover-bg-color: #E2EBFA;\n",
              "      --hover-fill-color: #174EA6;\n",
              "      --disabled-fill-color: #AAA;\n",
              "      --disabled-bg-color: #DDD;\n",
              "  }\n",
              "\n",
              "  [theme=dark] .colab-df-quickchart {\n",
              "      --bg-color: #3B4455;\n",
              "      --fill-color: #D2E3FC;\n",
              "      --hover-bg-color: #434B5C;\n",
              "      --hover-fill-color: #FFFFFF;\n",
              "      --disabled-bg-color: #3B4455;\n",
              "      --disabled-fill-color: #666;\n",
              "  }\n",
              "\n",
              "  .colab-df-quickchart {\n",
              "    background-color: var(--bg-color);\n",
              "    border: none;\n",
              "    border-radius: 50%;\n",
              "    cursor: pointer;\n",
              "    display: none;\n",
              "    fill: var(--fill-color);\n",
              "    height: 32px;\n",
              "    padding: 0;\n",
              "    width: 32px;\n",
              "  }\n",
              "\n",
              "  .colab-df-quickchart:hover {\n",
              "    background-color: var(--hover-bg-color);\n",
              "    box-shadow: 0 1px 2px rgba(60, 64, 67, 0.3), 0 1px 3px 1px rgba(60, 64, 67, 0.15);\n",
              "    fill: var(--button-hover-fill-color);\n",
              "  }\n",
              "\n",
              "  .colab-df-quickchart-complete:disabled,\n",
              "  .colab-df-quickchart-complete:disabled:hover {\n",
              "    background-color: var(--disabled-bg-color);\n",
              "    fill: var(--disabled-fill-color);\n",
              "    box-shadow: none;\n",
              "  }\n",
              "\n",
              "  .colab-df-spinner {\n",
              "    border: 2px solid var(--fill-color);\n",
              "    border-color: transparent;\n",
              "    border-bottom-color: var(--fill-color);\n",
              "    animation:\n",
              "      spin 1s steps(1) infinite;\n",
              "  }\n",
              "\n",
              "  @keyframes spin {\n",
              "    0% {\n",
              "      border-color: transparent;\n",
              "      border-bottom-color: var(--fill-color);\n",
              "      border-left-color: var(--fill-color);\n",
              "    }\n",
              "    20% {\n",
              "      border-color: transparent;\n",
              "      border-left-color: var(--fill-color);\n",
              "      border-top-color: var(--fill-color);\n",
              "    }\n",
              "    30% {\n",
              "      border-color: transparent;\n",
              "      border-left-color: var(--fill-color);\n",
              "      border-top-color: var(--fill-color);\n",
              "      border-right-color: var(--fill-color);\n",
              "    }\n",
              "    40% {\n",
              "      border-color: transparent;\n",
              "      border-right-color: var(--fill-color);\n",
              "      border-top-color: var(--fill-color);\n",
              "    }\n",
              "    60% {\n",
              "      border-color: transparent;\n",
              "      border-right-color: var(--fill-color);\n",
              "    }\n",
              "    80% {\n",
              "      border-color: transparent;\n",
              "      border-right-color: var(--fill-color);\n",
              "      border-bottom-color: var(--fill-color);\n",
              "    }\n",
              "    90% {\n",
              "      border-color: transparent;\n",
              "      border-bottom-color: var(--fill-color);\n",
              "    }\n",
              "  }\n",
              "</style>\n",
              "\n",
              "  <script>\n",
              "    async function quickchart(key) {\n",
              "      const quickchartButtonEl =\n",
              "        document.querySelector('#' + key + ' button');\n",
              "      quickchartButtonEl.disabled = true;  // To prevent multiple clicks.\n",
              "      quickchartButtonEl.classList.add('colab-df-spinner');\n",
              "      try {\n",
              "        const charts = await google.colab.kernel.invokeFunction(\n",
              "            'suggestCharts', [key], {});\n",
              "      } catch (error) {\n",
              "        console.error('Error during call to suggestCharts:', error);\n",
              "      }\n",
              "      quickchartButtonEl.classList.remove('colab-df-spinner');\n",
              "      quickchartButtonEl.classList.add('colab-df-quickchart-complete');\n",
              "    }\n",
              "    (() => {\n",
              "      let quickchartButtonEl =\n",
              "        document.querySelector('#df-be3f40a4-3a09-47b0-9230-bb98fdef07bf button');\n",
              "      quickchartButtonEl.style.display =\n",
              "        google.colab.kernel.accessAllowed ? 'block' : 'none';\n",
              "    })();\n",
              "  </script>\n",
              "</div>\n",
              "\n",
              "    </div>\n",
              "  </div>\n"
            ],
            "application/vnd.google.colaboratory.intrinsic+json": {
              "type": "dataframe"
            }
          },
          "metadata": {},
          "execution_count": 4
        }
      ]
    },
    {
      "cell_type": "markdown",
      "source": [
        "Mostramos nuevamente las columnas y sus tipos de datos."
      ],
      "metadata": {
        "id": "Z9phVe5AK8m7"
      }
    },
    {
      "cell_type": "code",
      "source": [
        "unsw_df.dtypes"
      ],
      "metadata": {
        "colab": {
          "base_uri": "https://localhost:8080/"
        },
        "id": "82_IJBPFKqYL",
        "outputId": "12b3f148-7d77-4b45-872c-428bcc2e4ac5"
      },
      "execution_count": null,
      "outputs": [
        {
          "output_type": "execute_result",
          "data": {
            "text/plain": [
              "id                    int64\n",
              "state                 int64\n",
              "rate                float64\n",
              "sttl                  int64\n",
              "sload               float64\n",
              "dload               float64\n",
              "sinpkt              float64\n",
              "swin                  int64\n",
              "stcpb                 int64\n",
              "dtcpb                 int64\n",
              "dwin                  int64\n",
              "dmean                 int64\n",
              "ct_srv_src            int64\n",
              "ct_state_ttl          int64\n",
              "ct_dst_ltm            int64\n",
              "ct_src_dport_ltm      int64\n",
              "ct_dst_sport_ltm      int64\n",
              "ct_dst_src_ltm        int64\n",
              "ct_src_ltm            int64\n",
              "ct_srv_dst            int64\n",
              "is_sm_ips_ports       int64\n",
              "attack_cat            int64\n",
              "label                 int64\n",
              "dtype: object"
            ]
          },
          "metadata": {},
          "execution_count": 8
        }
      ]
    },
    {
      "cell_type": "markdown",
      "source": [
        "Además, mostramos las clases del target"
      ],
      "metadata": {
        "id": "8NJbqNR_LKOf"
      }
    },
    {
      "cell_type": "code",
      "source": [
        "unsw_df['label'].value_counts()"
      ],
      "metadata": {
        "colab": {
          "base_uri": "https://localhost:8080/"
        },
        "id": "ahhvqZ8WLJsF",
        "outputId": "fa42a10a-2756-4991-e185-e8d64f0cc8a6"
      },
      "execution_count": null,
      "outputs": [
        {
          "output_type": "execute_result",
          "data": {
            "text/plain": [
              "1    164673\n",
              "0     93000\n",
              "Name: label, dtype: int64"
            ]
          },
          "metadata": {},
          "execution_count": 9
        }
      ]
    },
    {
      "cell_type": "markdown",
      "source": [
        "Tenemos que tener en cuenta que en este caso los valores de 0 son las conexiones a las que se les hizo allow y los valores de 1 son las conexiones de deny/drop"
      ],
      "metadata": {
        "id": "ri-ZP_S2LPVO"
      }
    },
    {
      "cell_type": "markdown",
      "source": [
        "Revisamos si el dataset tiene nulos"
      ],
      "metadata": {
        "id": "nt-6JOZpLXxs"
      }
    },
    {
      "cell_type": "code",
      "source": [
        "unsw_df.isna().sum()"
      ],
      "metadata": {
        "colab": {
          "base_uri": "https://localhost:8080/"
        },
        "id": "da08kLb6Larf",
        "outputId": "814601be-3143-4249-a4d3-8a6626f2e115"
      },
      "execution_count": null,
      "outputs": [
        {
          "output_type": "execute_result",
          "data": {
            "text/plain": [
              "id                  0\n",
              "state               0\n",
              "rate                0\n",
              "sttl                0\n",
              "sload               0\n",
              "dload               0\n",
              "sinpkt              0\n",
              "swin                0\n",
              "stcpb               0\n",
              "dtcpb               0\n",
              "dwin                0\n",
              "dmean               0\n",
              "ct_srv_src          0\n",
              "ct_state_ttl        0\n",
              "ct_dst_ltm          0\n",
              "ct_src_dport_ltm    0\n",
              "ct_dst_sport_ltm    0\n",
              "ct_dst_src_ltm      0\n",
              "ct_src_ltm          0\n",
              "ct_srv_dst          0\n",
              "is_sm_ips_ports     0\n",
              "attack_cat          0\n",
              "label               0\n",
              "dtype: int64"
            ]
          },
          "metadata": {},
          "execution_count": 17
        }
      ]
    },
    {
      "cell_type": "markdown",
      "source": [
        "Posteriormente, queremos ver el shape y la cantidad de datos del dataset para estar seguros de como entrenar la red neuronal"
      ],
      "metadata": {
        "id": "fDA05qKVMBPh"
      }
    },
    {
      "cell_type": "code",
      "source": [
        "unsw_df.shape"
      ],
      "metadata": {
        "colab": {
          "base_uri": "https://localhost:8080/"
        },
        "id": "ownIyICOMFs8",
        "outputId": "803ade2b-9480-4e3a-f368-c1af5b1a0780"
      },
      "execution_count": null,
      "outputs": [
        {
          "output_type": "execute_result",
          "data": {
            "text/plain": [
              "(257673, 23)"
            ]
          },
          "metadata": {},
          "execution_count": 18
        }
      ]
    },
    {
      "cell_type": "code",
      "source": [
        "unsw_df.__len__()"
      ],
      "metadata": {
        "colab": {
          "base_uri": "https://localhost:8080/"
        },
        "id": "cy71eZJEMHU9",
        "outputId": "1d4c41ab-899f-4992-e392-8fe22c9f4c1d"
      },
      "execution_count": null,
      "outputs": [
        {
          "output_type": "execute_result",
          "data": {
            "text/plain": [
              "257673"
            ]
          },
          "metadata": {},
          "execution_count": 20
        }
      ]
    },
    {
      "cell_type": "markdown",
      "source": [
        "También hay que revisar si está balanceado el dataset en su variable target"
      ],
      "metadata": {
        "id": "L8487R2oMj_Z"
      }
    },
    {
      "cell_type": "code",
      "source": [
        "# Get the target\n",
        "target = unsw_df['label']\n",
        "\n",
        "# Count the occurrences of each class\n",
        "class_distribution = target.value_counts()\n",
        "\n",
        "# Plotting the class distribution\n",
        "plt.figure(figsize=(8, 6))\n",
        "class_distribution.plot(kind='bar', color='skyblue')\n",
        "plt.title('Class Distribution')\n",
        "plt.xlabel('Class')\n",
        "plt.ylabel('Count')\n",
        "plt.show()\n"
      ],
      "metadata": {
        "colab": {
          "base_uri": "https://localhost:8080/"
        },
        "id": "BB2sYO3MLhMt",
        "outputId": "f79c5113-e5fa-4ca0-ce04-22abe4eb55cd"
      },
      "execution_count": null,
      "outputs": [
        {
          "output_type": "display_data",
          "data": {
            "text/plain": [
              "<Figure size 800x600 with 1 Axes>"
            ],
            "image/png": "[encoded data removed]"
          },
          "metadata": {}
        }
      ]
    },
    {
      "cell_type": "code",
      "source": [
        "target.value_counts()"
      ],
      "metadata": {
        "colab": {
          "base_uri": "https://localhost:8080/"
        },
        "id": "pNOSKeHKUy2w",
        "outputId": "d7b72f83-b62b-406f-954d-74bcd1acecf8"
      },
      "execution_count": null,
      "outputs": [
        {
          "output_type": "execute_result",
          "data": {
            "text/plain": [
              "1    164673\n",
              "0     93000\n",
              "Name: label, dtype: int64"
            ]
          },
          "metadata": {},
          "execution_count": 22
        }
      ]
    },
    {
      "cell_type": "markdown",
      "source": [
        "Ahora vamos a ver los atributos más relacionados con el label."
      ],
      "metadata": {
        "id": "ymw3Ir-9Z4j4"
      }
    },
    {
      "cell_type": "code",
      "source": [
        "unsw_df.corrwith(unsw_df['label']).abs().nlargest(24)"
      ],
      "metadata": {
        "colab": {
          "base_uri": "https://localhost:8080/"
        },
        "id": "aivRKUUtZq2c",
        "outputId": "401275b3-2f5a-48ae-fcf6-703797144486"
      },
      "execution_count": null,
      "outputs": [
        {
          "output_type": "execute_result",
          "data": {
            "text/plain": [
              "label               1.000000\n",
              "sttl                0.624082\n",
              "attack_cat          0.602160\n",
              "id                  0.490584\n",
              "ct_state_ttl        0.476559\n",
              "state               0.462972\n",
              "ct_dst_sport_ltm    0.371672\n",
              "swin                0.364877\n",
              "dload               0.352169\n",
              "dwin                0.339166\n",
              "rate                0.335883\n",
              "ct_src_dport_ltm    0.318518\n",
              "ct_dst_src_ltm      0.299609\n",
              "dmean               0.295173\n",
              "stcpb               0.266585\n",
              "dtcpb               0.263543\n",
              "ct_src_ltm          0.252498\n",
              "ct_srv_dst          0.247812\n",
              "ct_srv_src          0.246596\n",
              "ct_dst_ltm          0.240776\n",
              "sload               0.165249\n",
              "is_sm_ips_ports     0.160126\n",
              "sinpkt              0.155454\n",
              "dtype: float64"
            ]
          },
          "metadata": {},
          "execution_count": 45
        }
      ]
    },
    {
      "cell_type": "markdown",
      "source": [
        "Quitamos los atributos ID y Attack_cat. Id al ser un identificador, no simboliza nada y attack_Cat es la categoría del ataque, por lo que hace parte de la predicción."
      ],
      "metadata": {
        "id": "Ug7Jc1lraEVw"
      }
    },
    {
      "cell_type": "code",
      "source": [
        "unsw_df = unsw_df.drop(['id', 'attack_cat'], axis=1)"
      ],
      "metadata": {
        "id": "T0LWJQeMaLz_"
      },
      "execution_count": null,
      "outputs": []
    },
    {
      "cell_type": "code",
      "source": [
        "unsw_df.corrwith(unsw_df['label']).abs().nlargest(20)"
      ],
      "metadata": {
        "colab": {
          "base_uri": "https://localhost:8080/"
        },
        "id": "WHhwYlACaWAs",
        "outputId": "720ee20a-59ef-4fec-f439-b647318935d7"
      },
      "execution_count": null,
      "outputs": [
        {
          "output_type": "execute_result",
          "data": {
            "text/plain": [
              "label               1.000000\n",
              "sttl                0.624082\n",
              "ct_state_ttl        0.476559\n",
              "state               0.462972\n",
              "ct_dst_sport_ltm    0.371672\n",
              "swin                0.364877\n",
              "dload               0.352169\n",
              "dwin                0.339166\n",
              "rate                0.335883\n",
              "ct_src_dport_ltm    0.318518\n",
              "ct_dst_src_ltm      0.299609\n",
              "dmean               0.295173\n",
              "stcpb               0.266585\n",
              "dtcpb               0.263543\n",
              "ct_src_ltm          0.252498\n",
              "ct_srv_dst          0.247812\n",
              "ct_srv_src          0.246596\n",
              "ct_dst_ltm          0.240776\n",
              "sload               0.165249\n",
              "is_sm_ips_ports     0.160126\n",
              "dtype: float64"
            ]
          },
          "metadata": {},
          "execution_count": 48
        }
      ]
    },
    {
      "cell_type": "markdown",
      "source": [
        "### 1.2 Implementación Red Neuronal"
      ],
      "metadata": {
        "id": "2letgZSqMXhi"
      }
    },
    {
      "cell_type": "code",
      "source": [
        "dataset = unsw_df.copy()"
      ],
      "metadata": {
        "id": "JbW5D-FgVd2x"
      },
      "execution_count": null,
      "outputs": []
    },
    {
      "cell_type": "markdown",
      "source": [
        "Separar el X y el y (Variables dependientes e independientes)"
      ],
      "metadata": {
        "id": "sMsp9kOtWQH5"
      }
    },
    {
      "cell_type": "code",
      "source": [
        "X = dataset.drop('label', axis=1)\n",
        "y = dataset['label']"
      ],
      "metadata": {
        "id": "YkBgZwwrVi5l"
      },
      "execution_count": null,
      "outputs": []
    },
    {
      "cell_type": "markdown",
      "source": [
        "Hacer el split de train y los remaining para hacer test y val"
      ],
      "metadata": {
        "id": "jaXs-B9CWTCo"
      }
    },
    {
      "cell_type": "code",
      "source": [
        "X_train, X_rem, y_train, y_rem = train_test_split(X, y, test_size = 0.4, random_state = 0)\n"
      ],
      "metadata": {
        "id": "mgjWCXKHWBmR"
      },
      "execution_count": null,
      "outputs": []
    },
    {
      "cell_type": "markdown",
      "source": [
        "Ahora hacemos el split de test y val"
      ],
      "metadata": {
        "id": "JTmqEl2HWk7w"
      }
    },
    {
      "cell_type": "code",
      "source": [
        "X_valid, X_test, y_valid, y_test = train_test_split(X_rem,y_rem, test_size=0.5, random_state = 0)"
      ],
      "metadata": {
        "id": "pPN59wGbWmgX"
      },
      "execution_count": null,
      "outputs": []
    },
    {
      "cell_type": "markdown",
      "source": [
        "Usaremos standard scaler para normalizar los datos"
      ],
      "metadata": {
        "id": "3Px1ilKJW2EU"
      }
    },
    {
      "cell_type": "code",
      "source": [
        "sc = StandardScaler()\n",
        "X_train = sc.fit_transform(X_train)\n",
        "X_test = sc.transform(X_test)\n",
        "X_valid = sc.transform(X_valid)"
      ],
      "metadata": {
        "id": "2VDiNK4DW38d"
      },
      "execution_count": null,
      "outputs": []
    },
    {
      "cell_type": "markdown",
      "source": [
        "Ahora inicializamos la red neuronal artificial"
      ],
      "metadata": {
        "id": "GRyteJF8XYPI"
      }
    },
    {
      "cell_type": "code",
      "source": [
        "classifier = Sequential()"
      ],
      "metadata": {
        "id": "tXvnb2sOXaVv"
      },
      "execution_count": null,
      "outputs": []
    },
    {
      "cell_type": "markdown",
      "source": [
        "Y añadimos las capas..."
      ],
      "metadata": {
        "id": "RXCgglSKXeZF"
      }
    },
    {
      "cell_type": "code",
      "source": [
        "X_train.shape"
      ],
      "metadata": {
        "colab": {
          "base_uri": "https://localhost:8080/"
        },
        "id": "EpiUrGNsXqRI",
        "outputId": "a1e7f799-ded4-44c9-f3d0-fe016193296c"
      },
      "execution_count": null,
      "outputs": [
        {
          "output_type": "execute_result",
          "data": {
            "text/plain": [
              "(154603, 20)"
            ]
          },
          "metadata": {},
          "execution_count": 55
        }
      ]
    },
    {
      "cell_type": "code",
      "source": [
        "init_neurons = X_train.shape[1]\n",
        "print(init_neurons)"
      ],
      "metadata": {
        "colab": {
          "base_uri": "https://localhost:8080/"
        },
        "id": "3uXiSG_6XtmI",
        "outputId": "bdd16264-b781-4c01-a9ae-a02af49bc69c"
      },
      "execution_count": null,
      "outputs": [
        {
          "output_type": "stream",
          "name": "stdout",
          "text": [
            "20\n"
          ]
        }
      ]
    },
    {
      "cell_type": "code",
      "source": [
        "classifier.add(Dense(units=6, kernel_initializer='uniform', activation='relu', input_dim=init_neurons))"
      ],
      "metadata": {
        "id": "mSSgwGbIXcsF"
      },
      "execution_count": null,
      "outputs": []
    },
    {
      "cell_type": "code",
      "source": [
        "classifier.add(Dense(units = 6, kernel_initializer = 'uniform', activation = 'relu'))\n"
      ],
      "metadata": {
        "id": "CTIFm4HTX30u"
      },
      "execution_count": null,
      "outputs": []
    },
    {
      "cell_type": "code",
      "source": [
        "classifier.add(Dense(units = 1, kernel_initializer = 'uniform', activation = 'sigmoid'))\n"
      ],
      "metadata": {
        "id": "pJLVDqtmX5PJ"
      },
      "execution_count": null,
      "outputs": []
    },
    {
      "cell_type": "markdown",
      "source": [
        "Ahora compilamos"
      ],
      "metadata": {
        "id": "iays5nIoYWc7"
      }
    },
    {
      "cell_type": "code",
      "source": [
        "classifier.compile(optimizer = 'adam', loss = 'binary_crossentropy', metrics = ['accuracy'])"
      ],
      "metadata": {
        "id": "Ld-aaACHYXPK"
      },
      "execution_count": null,
      "outputs": []
    },
    {
      "cell_type": "markdown",
      "source": [
        "Now we fit the classifier"
      ],
      "metadata": {
        "id": "QvcFNpuYYYpJ"
      }
    },
    {
      "cell_type": "code",
      "source": [
        "classifier.fit(X_train, y_train, batch_size=10, epochs=100)\n"
      ],
      "metadata": {
        "colab": {
          "base_uri": "https://localhost:8080/"
        },
        "id": "QNWd45_BYfvB",
        "outputId": "c132a926-e57b-4a5e-8fab-f621be044a0e"
      },
      "execution_count": null,
      "outputs": [
        {
          "output_type": "stream",
          "name": "stdout",
          "text": [
            "Epoch 1/100\n",
            "15461/15461 [==============================] - 28s 2ms/step - loss: 0.2348 - accuracy: 0.8953\n",
            "Epoch 2/100\n",
            "15461/15461 [==============================] - 28s 2ms/step - loss: 0.2071 - accuracy: 0.9048\n",
            "Epoch 3/100\n",
            "15461/15461 [==============================] - 28s 2ms/step - loss: 0.2025 - accuracy: 0.9076\n",
            "Epoch 4/100\n",
            "15461/15461 [==============================] - 28s 2ms/step - loss: 0.1995 - accuracy: 0.9094\n",
            "Epoch 5/100\n",
            "15461/15461 [==============================] - 27s 2ms/step - loss: 0.1965 - accuracy: 0.9112\n",
            "Epoch 6/100\n",
            "15461/15461 [==============================] - 27s 2ms/step - loss: 0.1939 - accuracy: 0.9124\n",
            "Epoch 7/100\n",
            "15461/15461 [==============================] - 27s 2ms/step - loss: 0.1927 - accuracy: 0.9121\n",
            "Epoch 8/100\n",
            "15461/15461 [==============================] - 27s 2ms/step - loss: 0.1918 - accuracy: 0.9124\n",
            "Epoch 9/100\n",
            "15461/15461 [==============================] - 27s 2ms/step - loss: 0.1911 - accuracy: 0.9124\n",
            "Epoch 10/100\n",
            "15461/15461 [==============================] - 27s 2ms/step - loss: 0.1909 - accuracy: 0.9121\n",
            "Epoch 11/100\n",
            "15461/15461 [==============================] - 27s 2ms/step - loss: 0.1899 - accuracy: 0.9128\n",
            "Epoch 12/100\n",
            "15461/15461 [==============================] - 30s 2ms/step - loss: 0.1892 - accuracy: 0.9139\n",
            "Epoch 13/100\n",
            "15461/15461 [==============================] - 27s 2ms/step - loss: 0.1885 - accuracy: 0.9142\n",
            "Epoch 14/100\n",
            "15461/15461 [==============================] - 27s 2ms/step - loss: 0.1878 - accuracy: 0.9144\n",
            "Epoch 15/100\n",
            "15461/15461 [==============================] - 27s 2ms/step - loss: 0.1873 - accuracy: 0.9139\n",
            "Epoch 16/100\n",
            "15461/15461 [==============================] - 27s 2ms/step - loss: 0.1869 - accuracy: 0.9143\n",
            "Epoch 17/100\n",
            "15461/15461 [==============================] - 27s 2ms/step - loss: 0.1866 - accuracy: 0.9147\n",
            "Epoch 18/100\n",
            "15461/15461 [==============================] - 27s 2ms/step - loss: 0.1861 - accuracy: 0.9146\n",
            "Epoch 19/100\n",
            "15461/15461 [==============================] - 27s 2ms/step - loss: 0.1858 - accuracy: 0.9153\n",
            "Epoch 20/100\n",
            "15461/15461 [==============================] - 27s 2ms/step - loss: 0.1853 - accuracy: 0.9146\n",
            "Epoch 21/100\n",
            "15461/15461 [==============================] - 27s 2ms/step - loss: 0.1849 - accuracy: 0.9153\n",
            "Epoch 22/100\n",
            "15461/15461 [==============================] - 26s 2ms/step - loss: 0.1846 - accuracy: 0.9155\n",
            "Epoch 23/100\n",
            "15461/15461 [==============================] - 26s 2ms/step - loss: 0.1840 - accuracy: 0.9157\n",
            "Epoch 24/100\n",
            "15461/15461 [==============================] - 27s 2ms/step - loss: 0.1839 - accuracy: 0.9154\n",
            "Epoch 25/100\n",
            "15461/15461 [==============================] - 27s 2ms/step - loss: 0.1834 - accuracy: 0.9155\n",
            "Epoch 26/100\n",
            "15461/15461 [==============================] - 27s 2ms/step - loss: 0.1836 - accuracy: 0.9152\n",
            "Epoch 27/100\n",
            "15461/15461 [==============================] - 27s 2ms/step - loss: 0.1832 - accuracy: 0.9158\n",
            "Epoch 28/100\n",
            "15461/15461 [==============================] - 27s 2ms/step - loss: 0.1830 - accuracy: 0.9163\n",
            "Epoch 29/100\n",
            "15461/15461 [==============================] - 27s 2ms/step - loss: 0.1832 - accuracy: 0.9160\n",
            "Epoch 30/100\n",
            "15461/15461 [==============================] - 27s 2ms/step - loss: 0.1828 - accuracy: 0.9160\n",
            "Epoch 31/100\n",
            "15461/15461 [==============================] - 27s 2ms/step - loss: 0.1824 - accuracy: 0.9159\n",
            "Epoch 32/100\n",
            "15461/15461 [==============================] - 27s 2ms/step - loss: 0.1823 - accuracy: 0.9161\n",
            "Epoch 33/100\n",
            "15461/15461 [==============================] - 27s 2ms/step - loss: 0.1823 - accuracy: 0.9160\n",
            "Epoch 34/100\n",
            "15461/15461 [==============================] - 27s 2ms/step - loss: 0.1822 - accuracy: 0.9162\n",
            "Epoch 35/100\n",
            "15461/15461 [==============================] - 27s 2ms/step - loss: 0.1820 - accuracy: 0.9161\n",
            "Epoch 36/100\n",
            "15461/15461 [==============================] - 27s 2ms/step - loss: 0.1816 - accuracy: 0.9161\n",
            "Epoch 37/100\n",
            "15461/15461 [==============================] - 27s 2ms/step - loss: 0.1821 - accuracy: 0.9162\n",
            "Epoch 38/100\n",
            "15461/15461 [==============================] - 27s 2ms/step - loss: 0.1816 - accuracy: 0.9161\n",
            "Epoch 39/100\n",
            "15461/15461 [==============================] - 27s 2ms/step - loss: 0.1815 - accuracy: 0.9159\n",
            "Epoch 40/100\n",
            "15461/15461 [==============================] - 27s 2ms/step - loss: 0.1811 - accuracy: 0.9163\n",
            "Epoch 41/100\n",
            "15461/15461 [==============================] - 28s 2ms/step - loss: 0.1808 - accuracy: 0.9166\n",
            "Epoch 42/100\n",
            "15461/15461 [==============================] - 27s 2ms/step - loss: 0.1806 - accuracy: 0.9161\n",
            "Epoch 43/100\n",
            "15461/15461 [==============================] - 27s 2ms/step - loss: 0.1806 - accuracy: 0.9163\n",
            "Epoch 44/100\n",
            "15461/15461 [==============================] - 27s 2ms/step - loss: 0.1804 - accuracy: 0.9161\n",
            "Epoch 45/100\n",
            "15461/15461 [==============================] - 27s 2ms/step - loss: 0.1803 - accuracy: 0.9160\n",
            "Epoch 46/100\n",
            "15461/15461 [==============================] - 27s 2ms/step - loss: 0.1801 - accuracy: 0.9162\n",
            "Epoch 47/100\n",
            "15461/15461 [==============================] - 27s 2ms/step - loss: 0.1805 - accuracy: 0.9163\n",
            "Epoch 48/100\n",
            "15461/15461 [==============================] - 27s 2ms/step - loss: 0.1800 - accuracy: 0.9163\n",
            "Epoch 49/100\n",
            "15461/15461 [==============================] - 27s 2ms/step - loss: 0.1800 - accuracy: 0.9166\n",
            "Epoch 50/100\n",
            "15461/15461 [==============================] - 27s 2ms/step - loss: 0.1797 - accuracy: 0.9165\n",
            "Epoch 51/100\n",
            "15461/15461 [==============================] - 27s 2ms/step - loss: 0.1797 - accuracy: 0.9170\n",
            "Epoch 52/100\n",
            "15461/15461 [==============================] - 27s 2ms/step - loss: 0.1796 - accuracy: 0.9167\n",
            "Epoch 53/100\n",
            "15461/15461 [==============================] - 27s 2ms/step - loss: 0.1794 - accuracy: 0.9171\n",
            "Epoch 54/100\n",
            "15461/15461 [==============================] - 27s 2ms/step - loss: 0.1795 - accuracy: 0.9170\n",
            "Epoch 55/100\n",
            "15461/15461 [==============================] - 27s 2ms/step - loss: 0.1794 - accuracy: 0.9167\n",
            "Epoch 56/100\n",
            "15461/15461 [==============================] - 27s 2ms/step - loss: 0.1791 - accuracy: 0.9168\n",
            "Epoch 57/100\n",
            "15461/15461 [==============================] - 27s 2ms/step - loss: 0.1791 - accuracy: 0.9169\n",
            "Epoch 58/100\n",
            "15461/15461 [==============================] - 27s 2ms/step - loss: 0.1785 - accuracy: 0.9167\n",
            "Epoch 59/100\n",
            "15461/15461 [==============================] - 27s 2ms/step - loss: 0.1784 - accuracy: 0.9167\n",
            "Epoch 60/100\n",
            "15461/15461 [==============================] - 27s 2ms/step - loss: 0.1782 - accuracy: 0.9167\n",
            "Epoch 61/100\n",
            "15461/15461 [==============================] - 27s 2ms/step - loss: 0.1778 - accuracy: 0.9169\n",
            "Epoch 62/100\n",
            "15461/15461 [==============================] - 27s 2ms/step - loss: 0.1775 - accuracy: 0.9173\n",
            "Epoch 63/100\n",
            "15461/15461 [==============================] - 28s 2ms/step - loss: 0.1773 - accuracy: 0.9169\n",
            "Epoch 64/100\n",
            "15461/15461 [==============================] - 27s 2ms/step - loss: 0.1771 - accuracy: 0.9164\n",
            "Epoch 65/100\n",
            "15461/15461 [==============================] - 27s 2ms/step - loss: 0.1768 - accuracy: 0.9169\n",
            "Epoch 66/100\n",
            "15461/15461 [==============================] - 27s 2ms/step - loss: 0.1767 - accuracy: 0.9172\n",
            "Epoch 67/100\n",
            "15461/15461 [==============================] - 27s 2ms/step - loss: 0.1766 - accuracy: 0.9174\n",
            "Epoch 68/100\n",
            "15461/15461 [==============================] - 27s 2ms/step - loss: 0.1767 - accuracy: 0.9170\n",
            "Epoch 69/100\n",
            "15461/15461 [==============================] - 27s 2ms/step - loss: 0.1763 - accuracy: 0.9168\n",
            "Epoch 70/100\n",
            "15461/15461 [==============================] - 27s 2ms/step - loss: 0.1764 - accuracy: 0.9166\n",
            "Epoch 71/100\n",
            "15461/15461 [==============================] - 27s 2ms/step - loss: 0.1765 - accuracy: 0.9166\n",
            "Epoch 72/100\n",
            "15461/15461 [==============================] - 27s 2ms/step - loss: 0.1764 - accuracy: 0.9167\n",
            "Epoch 73/100\n",
            "15461/15461 [==============================] - 27s 2ms/step - loss: 0.1764 - accuracy: 0.9168\n",
            "Epoch 74/100\n",
            "15461/15461 [==============================] - 27s 2ms/step - loss: 0.1763 - accuracy: 0.9170\n",
            "Epoch 75/100\n",
            "15461/15461 [==============================] - 26s 2ms/step - loss: 0.1763 - accuracy: 0.9171\n",
            "Epoch 76/100\n",
            "15461/15461 [==============================] - 26s 2ms/step - loss: 0.1764 - accuracy: 0.9166\n",
            "Epoch 77/100\n",
            "15461/15461 [==============================] - 27s 2ms/step - loss: 0.1762 - accuracy: 0.9169\n",
            "Epoch 78/100\n",
            "15461/15461 [==============================] - 27s 2ms/step - loss: 0.1761 - accuracy: 0.9169\n",
            "Epoch 79/100\n",
            "15461/15461 [==============================] - 27s 2ms/step - loss: 0.1759 - accuracy: 0.9169\n",
            "Epoch 80/100\n",
            "15461/15461 [==============================] - 27s 2ms/step - loss: 0.1763 - accuracy: 0.9166\n",
            "Epoch 81/100\n",
            "15461/15461 [==============================] - 28s 2ms/step - loss: 0.1763 - accuracy: 0.9168\n",
            "Epoch 82/100\n",
            "15461/15461 [==============================] - 28s 2ms/step - loss: 0.1761 - accuracy: 0.9166\n",
            "Epoch 83/100\n",
            "15461/15461 [==============================] - 27s 2ms/step - loss: 0.1761 - accuracy: 0.9166\n",
            "Epoch 84/100\n",
            "15461/15461 [==============================] - 27s 2ms/step - loss: 0.1760 - accuracy: 0.9173\n",
            "Epoch 85/100\n",
            "15461/15461 [==============================] - 27s 2ms/step - loss: 0.1760 - accuracy: 0.9173\n",
            "Epoch 86/100\n",
            "15461/15461 [==============================] - 27s 2ms/step - loss: 0.1759 - accuracy: 0.9171\n",
            "Epoch 87/100\n",
            "15461/15461 [==============================] - 27s 2ms/step - loss: 0.1759 - accuracy: 0.9169\n",
            "Epoch 88/100\n",
            "15461/15461 [==============================] - 27s 2ms/step - loss: 0.1759 - accuracy: 0.9169\n",
            "Epoch 89/100\n",
            "15461/15461 [==============================] - 27s 2ms/step - loss: 0.1758 - accuracy: 0.9170\n",
            "Epoch 90/100\n",
            "15461/15461 [==============================] - 27s 2ms/step - loss: 0.1757 - accuracy: 0.9171\n",
            "Epoch 91/100\n",
            "15461/15461 [==============================] - 27s 2ms/step - loss: 0.1756 - accuracy: 0.9174\n",
            "Epoch 92/100\n",
            "15461/15461 [==============================] - 27s 2ms/step - loss: 0.1757 - accuracy: 0.9175\n",
            "Epoch 93/100\n",
            "15461/15461 [==============================] - 27s 2ms/step - loss: 0.1755 - accuracy: 0.9171\n",
            "Epoch 94/100\n",
            "15461/15461 [==============================] - 27s 2ms/step - loss: 0.1752 - accuracy: 0.9177\n",
            "Epoch 95/100\n",
            "15461/15461 [==============================] - 27s 2ms/step - loss: 0.1754 - accuracy: 0.9174\n",
            "Epoch 96/100\n",
            "15461/15461 [==============================] - 27s 2ms/step - loss: 0.1755 - accuracy: 0.9170\n",
            "Epoch 97/100\n",
            "15461/15461 [==============================] - 26s 2ms/step - loss: 0.1754 - accuracy: 0.9178\n",
            "Epoch 98/100\n",
            "15461/15461 [==============================] - 26s 2ms/step - loss: 0.1755 - accuracy: 0.9174\n",
            "Epoch 99/100\n",
            "15461/15461 [==============================] - 27s 2ms/step - loss: 0.1753 - accuracy: 0.9170\n",
            "Epoch 100/100\n",
            "15461/15461 [==============================] - 27s 2ms/step - loss: 0.1754 - accuracy: 0.9169\n"
          ]
        },
        {
          "output_type": "execute_result",
          "data": {
            "text/plain": [
              "<keras.src.callbacks.History at 0x7fbd08eccf10>"
            ]
          },
          "metadata": {},
          "execution_count": 61
        }
      ]
    },
    {
      "cell_type": "markdown",
      "source": [
        "And predictions:"
      ],
      "metadata": {
        "id": "U_9hPMHiYmbm"
      }
    },
    {
      "cell_type": "code",
      "source": [
        "y_pred = classifier.predict(X_test)\n",
        "y_pred = (y_pred > 0.5)"
      ],
      "metadata": {
        "colab": {
          "base_uri": "https://localhost:8080/"
        },
        "id": "dnwZxjP1YnSx",
        "outputId": "efda4ce2-0ea2-4202-bd50-a60ac62e89b1"
      },
      "execution_count": null,
      "outputs": [
        {
          "output_type": "stream",
          "name": "stdout",
          "text": [
            "1611/1611 [==============================] - 2s 1ms/step\n"
          ]
        }
      ]
    },
    {
      "cell_type": "markdown",
      "source": [
        "Matriz de confusión"
      ],
      "metadata": {
        "id": "CPRDMhAHlE2N"
      }
    },
    {
      "cell_type": "code",
      "source": [
        "from sklearn.metrics import confusion_matrix, accuracy_score\n",
        "cm = confusion_matrix(y_test, y_pred)\n",
        "print(cm)\n",
        "accuracy_score(y_test,y_pred)"
      ],
      "metadata": {
        "colab": {
          "base_uri": "https://localhost:8080/"
        },
        "id": "SWhzqRttlEkp",
        "outputId": "b9af3a58-5dba-48f8-d17d-d867ac4fd1f6"
      },
      "execution_count": null,
      "outputs": [
        {
          "output_type": "stream",
          "name": "stdout",
          "text": [
            "[[16270  2269]\n",
            " [ 1962 31034]]\n"
          ]
        },
        {
          "output_type": "execute_result",
          "data": {
            "text/plain": [
              "0.9179004560007762"
            ]
          },
          "metadata": {},
          "execution_count": 63
        }
      ]
    },
    {
      "cell_type": "code",
      "source": [
        "import matplotlib.pyplot as plt\n",
        "import numpy\n",
        "from sklearn import metrics"
      ],
      "metadata": {
        "id": "GNuhAER9lXbr"
      },
      "execution_count": null,
      "outputs": []
    },
    {
      "cell_type": "code",
      "source": [
        "confusion_matrix = metrics.confusion_matrix(y_test, y_pred)\n",
        "\n",
        "cm_display = metrics.ConfusionMatrixDisplay(confusion_matrix = confusion_matrix, display_labels = [False, True])"
      ],
      "metadata": {
        "id": "ZjmIfQxRlYkp"
      },
      "execution_count": null,
      "outputs": []
    },
    {
      "cell_type": "code",
      "source": [
        "\n",
        "cm_display.plot()\n",
        "plt.show()"
      ],
      "metadata": {
        "colab": {
          "base_uri": "https://localhost:8080/",
          "height": 449
        },
        "id": "McLxtn2QleS8",
        "outputId": "36d9a665-21d2-45d2-ed50-4318a6da20f9"
      },
      "execution_count": null,
      "outputs": [
        {
          "output_type": "display_data",
          "data": {
            "text/plain": [
              "<Figure size 640x480 with 2 Axes>"
            ],
            "image/png": "[encoded data removed]"
          },
          "metadata": {}
        }
      ]
    },
    {
      "cell_type": "markdown",
      "source": [
        "## 2. IFWData Implementation"
      ],
      "metadata": {
        "id": "bkrTp8z3JVD7"
      }
    },
    {
      "cell_type": "markdown",
      "source": [
        "En el caso de IFW tenemos clases de 0 a 3. 0: allow, 1: deny, 2: drop, 3: reset-both. Por lo que tendremos que usar funciones de activación que permitan multiples clasificaciones."
      ],
      "metadata": {
        "id": "cQLh0UhiJopZ"
      }
    },
    {
      "cell_type": "markdown",
      "source": [
        "### 2.1 Limpieza del dataset"
      ],
      "metadata": {
        "id": "jTIUEZRmoH3Q"
      }
    },
    {
      "cell_type": "code",
      "source": [
        "ifw_df = pd.read_csv('/content/drive/MyDrive/PDG2/Datasets/Internet_firewall_data.csv')"
      ],
      "metadata": {
        "id": "9yhdYc2fotkL"
      },
      "execution_count": null,
      "outputs": []
    },
    {
      "cell_type": "markdown",
      "source": [
        "Vamos a ver los primeros y últimos datos"
      ],
      "metadata": {
        "id": "9M7PkbsFq6fY"
      }
    },
    {
      "cell_type": "code",
      "source": [
        "ifw_df.head()"
      ],
      "metadata": {
        "colab": {
          "base_uri": "https://localhost:8080/"
        },
        "id": "WKH6-1jWq8K3",
        "outputId": "e692aebf-952d-4139-9881-bb47cba9b480"
      },
      "execution_count": null,
      "outputs": [
        {
          "output_type": "execute_result",
          "data": {
            "text/plain": [
              "   Source Port  Destination Port  Action  Bytes  Bytes Sent  \\\n",
              "0        57222                53       0    177          94   \n",
              "1        56258              3389       0   4768        1600   \n",
              "2         6881             50321       0    238         118   \n",
              "3        50553              3389       0   3327        1438   \n",
              "4        50002               443       0  25358        6778   \n",
              "\n",
              "   Elapsed Time (sec)  pkts_sent  \n",
              "0                  30          1  \n",
              "1                  17         10  \n",
              "2                1199          1  \n",
              "3                  17          8  \n",
              "4                  16         13  "
            ],
            "text/html": [
              "\n",
              "  <div id=\"df-44f6a29b-d164-408e-9743-11d4e3db4001\" class=\"colab-df-container\">\n",
              "    <div>\n",
              "<style scoped>\n",
              "    .dataframe tbody tr th:only-of-type {\n",
              "        vertical-align: middle;\n",
              "    }\n",
              "\n",
              "    .dataframe tbody tr th {\n",
              "        vertical-align: top;\n",
              "    }\n",
              "\n",
              "    .dataframe thead th {\n",
              "        text-align: right;\n",
              "    }\n",
              "</style>\n",
              "<table border=\"1\" class=\"dataframe\">\n",
              "  <thead>\n",
              "    <tr style=\"text-align: right;\">\n",
              "      <th></th>\n",
              "      <th>Source Port</th>\n",
              "      <th>Destination Port</th>\n",
              "      <th>Action</th>\n",
              "      <th>Bytes</th>\n",
              "      <th>Bytes Sent</th>\n",
              "      <th>Elapsed Time (sec)</th>\n",
              "      <th>pkts_sent</th>\n",
              "    </tr>\n",
              "  </thead>\n",
              "  <tbody>\n",
              "    <tr>\n",
              "      <th>0</th>\n",
              "      <td>57222</td>\n",
              "      <td>53</td>\n",
              "      <td>0</td>\n",
              "      <td>177</td>\n",
              "      <td>94</td>\n",
              "      <td>30</td>\n",
              "      <td>1</td>\n",
              "    </tr>\n",
              "    <tr>\n",
              "      <th>1</th>\n",
              "      <td>56258</td>\n",
              "      <td>3389</td>\n",
              "      <td>0</td>\n",
              "      <td>4768</td>\n",
              "      <td>1600</td>\n",
              "      <td>17</td>\n",
              "      <td>10</td>\n",
              "    </tr>\n",
              "    <tr>\n",
              "      <th>2</th>\n",
              "      <td>6881</td>\n",
              "      <td>50321</td>\n",
              "      <td>0</td>\n",
              "      <td>238</td>\n",
              "      <td>118</td>\n",
              "      <td>1199</td>\n",
              "      <td>1</td>\n",
              "    </tr>\n",
              "    <tr>\n",
              "      <th>3</th>\n",
              "      <td>50553</td>\n",
              "      <td>3389</td>\n",
              "      <td>0</td>\n",
              "      <td>3327</td>\n",
              "      <td>1438</td>\n",
              "      <td>17</td>\n",
              "      <td>8</td>\n",
              "    </tr>\n",
              "    <tr>\n",
              "      <th>4</th>\n",
              "      <td>50002</td>\n",
              "      <td>443</td>\n",
              "      <td>0</td>\n",
              "      <td>25358</td>\n",
              "      <td>6778</td>\n",
              "      <td>16</td>\n",
              "      <td>13</td>\n",
              "    </tr>\n",
              "  </tbody>\n",
              "</table>\n",
              "</div>\n",
              "    <div class=\"colab-df-buttons\">\n",
              "\n",
              "  <div class=\"colab-df-container\">\n",
              "    <button class=\"colab-df-convert\" onclick=\"convertToInteractive('df-44f6a29b-d164-408e-9743-11d4e3db4001')\"\n",
              "            title=\"Convert this dataframe to an interactive table.\"\n",
              "            style=\"display:none;\">\n",
              "\n",
              "  <svg xmlns=\"http://www.w3.org/2000/svg\" height=\"24px\" viewBox=\"0 -960 960 960\">\n",
              "    <path d=\"M120-120v-720h720v720H120Zm60-500h600v-160H180v160Zm220 220h160v-160H400v160Zm0 220h160v-160H400v160ZM180-400h160v-160H180v160Zm440 0h160v-160H620v160ZM180-180h160v-160H180v160Zm440 0h160v-160H620v160Z\"/>\n",
              "  </svg>\n",
              "    </button>\n",
              "\n",
              "  <style>\n",
              "    .colab-df-container {\n",
              "      display:flex;\n",
              "      gap: 12px;\n",
              "    }\n",
              "\n",
              "    .colab-df-convert {\n",
              "      background-color: #E8F0FE;\n",
              "      border: none;\n",
              "      border-radius: 50%;\n",
              "      cursor: pointer;\n",
              "      display: none;\n",
              "      fill: #1967D2;\n",
              "      height: 32px;\n",
              "      padding: 0 0 0 0;\n",
              "      width: 32px;\n",
              "    }\n",
              "\n",
              "    .colab-df-convert:hover {\n",
              "      background-color: #E2EBFA;\n",
              "      box-shadow: 0px 1px 2px rgba(60, 64, 67, 0.3), 0px 1px 3px 1px rgba(60, 64, 67, 0.15);\n",
              "      fill: #174EA6;\n",
              "    }\n",
              "\n",
              "    .colab-df-buttons div {\n",
              "      margin-bottom: 4px;\n",
              "    }\n",
              "\n",
              "    [theme=dark] .colab-df-convert {\n",
              "      background-color: #3B4455;\n",
              "      fill: #D2E3FC;\n",
              "    }\n",
              "\n",
              "    [theme=dark] .colab-df-convert:hover {\n",
              "      background-color: #434B5C;\n",
              "      box-shadow: 0px 1px 3px 1px rgba(0, 0, 0, 0.15);\n",
              "      filter: drop-shadow(0px 1px 2px rgba(0, 0, 0, 0.3));\n",
              "      fill: #FFFFFF;\n",
              "    }\n",
              "  </style>\n",
              "\n",
              "    <script>\n",
              "      const buttonEl =\n",
              "        document.querySelector('#df-44f6a29b-d164-408e-9743-11d4e3db4001 button.colab-df-convert');\n",
              "      buttonEl.style.display =\n",
              "        google.colab.kernel.accessAllowed ? 'block' : 'none';\n",
              "\n",
              "      async function convertToInteractive(key) {\n",
              "        const element = document.querySelector('#df-44f6a29b-d164-408e-9743-11d4e3db4001');\n",
              "        const dataTable =\n",
              "          await google.colab.kernel.invokeFunction('convertToInteractive',\n",
              "                                                    [key], {});\n",
              "        if (!dataTable) return;\n",
              "\n",
              "        const docLinkHtml = 'Like what you see? Visit the ' +\n",
              "          '<a target=\"_blank\" href=https://colab.research.google.com/notebooks/data_table.ipynb>data table notebook</a>'\n",
              "          + ' to learn more about interactive tables.';\n",
              "        element.innerHTML = '';\n",
              "        dataTable['output_type'] = 'display_data';\n",
              "        await google.colab.output.renderOutput(dataTable, element);\n",
              "        const docLink = document.createElement('div');\n",
              "        docLink.innerHTML = docLinkHtml;\n",
              "        element.appendChild(docLink);\n",
              "      }\n",
              "    </script>\n",
              "  </div>\n",
              "\n",
              "\n",
              "<div id=\"df-6bb7c783-2332-46ff-b435-cb2846740fdd\">\n",
              "  <button class=\"colab-df-quickchart\" onclick=\"quickchart('df-6bb7c783-2332-46ff-b435-cb2846740fdd')\"\n",
              "            title=\"Suggest charts\"\n",
              "            style=\"display:none;\">\n",
              "\n",
              "<svg xmlns=\"http://www.w3.org/2000/svg\" height=\"24px\"viewBox=\"0 0 24 24\"\n",
              "     width=\"24px\">\n",
              "    <g>\n",
              "        <path d=\"M19 3H5c-1.1 0-2 .9-2 2v14c0 1.1.9 2 2 2h14c1.1 0 2-.9 2-2V5c0-1.1-.9-2-2-2zM9 17H7v-7h2v7zm4 0h-2V7h2v10zm4 0h-2v-4h2v4z\"/>\n",
              "    </g>\n",
              "</svg>\n",
              "  </button>\n",
              "\n",
              "<style>\n",
              "  .colab-df-quickchart {\n",
              "      --bg-color: #E8F0FE;\n",
              "      --fill-color: #1967D2;\n",
              "      --hover-bg-color: #E2EBFA;\n",
              "      --hover-fill-color: #174EA6;\n",
              "      --disabled-fill-color: #AAA;\n",
              "      --disabled-bg-color: #DDD;\n",
              "  }\n",
              "\n",
              "  [theme=dark] .colab-df-quickchart {\n",
              "      --bg-color: #3B4455;\n",
              "      --fill-color: #D2E3FC;\n",
              "      --hover-bg-color: #434B5C;\n",
              "      --hover-fill-color: #FFFFFF;\n",
              "      --disabled-bg-color: #3B4455;\n",
              "      --disabled-fill-color: #666;\n",
              "  }\n",
              "\n",
              "  .colab-df-quickchart {\n",
              "    background-color: var(--bg-color);\n",
              "    border: none;\n",
              "    border-radius: 50%;\n",
              "    cursor: pointer;\n",
              "    display: none;\n",
              "    fill: var(--fill-color);\n",
              "    height: 32px;\n",
              "    padding: 0;\n",
              "    width: 32px;\n",
              "  }\n",
              "\n",
              "  .colab-df-quickchart:hover {\n",
              "    background-color: var(--hover-bg-color);\n",
              "    box-shadow: 0 1px 2px rgba(60, 64, 67, 0.3), 0 1px 3px 1px rgba(60, 64, 67, 0.15);\n",
              "    fill: var(--button-hover-fill-color);\n",
              "  }\n",
              "\n",
              "  .colab-df-quickchart-complete:disabled,\n",
              "  .colab-df-quickchart-complete:disabled:hover {\n",
              "    background-color: var(--disabled-bg-color);\n",
              "    fill: var(--disabled-fill-color);\n",
              "    box-shadow: none;\n",
              "  }\n",
              "\n",
              "  .colab-df-spinner {\n",
              "    border: 2px solid var(--fill-color);\n",
              "    border-color: transparent;\n",
              "    border-bottom-color: var(--fill-color);\n",
              "    animation:\n",
              "      spin 1s steps(1) infinite;\n",
              "  }\n",
              "\n",
              "  @keyframes spin {\n",
              "    0% {\n",
              "      border-color: transparent;\n",
              "      border-bottom-color: var(--fill-color);\n",
              "      border-left-color: var(--fill-color);\n",
              "    }\n",
              "    20% {\n",
              "      border-color: transparent;\n",
              "      border-left-color: var(--fill-color);\n",
              "      border-top-color: var(--fill-color);\n",
              "    }\n",
              "    30% {\n",
              "      border-color: transparent;\n",
              "      border-left-color: var(--fill-color);\n",
              "      border-top-color: var(--fill-color);\n",
              "      border-right-color: var(--fill-color);\n",
              "    }\n",
              "    40% {\n",
              "      border-color: transparent;\n",
              "      border-right-color: var(--fill-color);\n",
              "      border-top-color: var(--fill-color);\n",
              "    }\n",
              "    60% {\n",
              "      border-color: transparent;\n",
              "      border-right-color: var(--fill-color);\n",
              "    }\n",
              "    80% {\n",
              "      border-color: transparent;\n",
              "      border-right-color: var(--fill-color);\n",
              "      border-bottom-color: var(--fill-color);\n",
              "    }\n",
              "    90% {\n",
              "      border-color: transparent;\n",
              "      border-bottom-color: var(--fill-color);\n",
              "    }\n",
              "  }\n",
              "</style>\n",
              "\n",
              "  <script>\n",
              "    async function quickchart(key) {\n",
              "      const quickchartButtonEl =\n",
              "        document.querySelector('#' + key + ' button');\n",
              "      quickchartButtonEl.disabled = true;  // To prevent multiple clicks.\n",
              "      quickchartButtonEl.classList.add('colab-df-spinner');\n",
              "      try {\n",
              "        const charts = await google.colab.kernel.invokeFunction(\n",
              "            'suggestCharts', [key], {});\n",
              "      } catch (error) {\n",
              "        console.error('Error during call to suggestCharts:', error);\n",
              "      }\n",
              "      quickchartButtonEl.classList.remove('colab-df-spinner');\n",
              "      quickchartButtonEl.classList.add('colab-df-quickchart-complete');\n",
              "    }\n",
              "    (() => {\n",
              "      let quickchartButtonEl =\n",
              "        document.querySelector('#df-6bb7c783-2332-46ff-b435-cb2846740fdd button');\n",
              "      quickchartButtonEl.style.display =\n",
              "        google.colab.kernel.accessAllowed ? 'block' : 'none';\n",
              "    })();\n",
              "  </script>\n",
              "</div>\n",
              "\n",
              "    </div>\n",
              "  </div>\n"
            ],
            "application/vnd.google.colaboratory.intrinsic+json": {
              "type": "dataframe",
              "variable_name": "ifw_df",
              "summary": "{\n  \"name\": \"ifw_df\",\n  \"rows\": 65532,\n  \"fields\": [\n    {\n      \"column\": \"Source Port\",\n      \"properties\": {\n        \"dtype\": \"number\",\n        \"std\": 15255,\n        \"min\": 0,\n        \"max\": 65534,\n        \"num_unique_values\": 22724,\n        \"samples\": [\n          63125,\n          62417,\n          55918\n        ],\n        \"semantic_type\": \"\",\n        \"description\": \"\"\n      }\n    },\n    {\n      \"column\": \"Destination Port\",\n      \"properties\": {\n        \"dtype\": \"number\",\n        \"std\": 18466,\n        \"min\": 0,\n        \"max\": 65535,\n        \"num_unique_values\": 3273,\n        \"samples\": [\n          37828,\n          51819,\n          28520\n        ],\n        \"semantic_type\": \"\",\n        \"description\": \"\"\n      }\n    },\n    {\n      \"column\": \"Action\",\n      \"properties\": {\n        \"dtype\": \"number\",\n        \"std\": 0,\n        \"min\": 0,\n        \"max\": 3,\n        \"num_unique_values\": 4,\n        \"samples\": [\n          2,\n          3,\n          0\n        ],\n        \"semantic_type\": \"\",\n        \"description\": \"\"\n      }\n    },\n    {\n      \"column\": \"Bytes\",\n      \"properties\": {\n        \"dtype\": \"number\",\n        \"std\": 5618438,\n        \"min\": 60,\n        \"max\": 1269359015,\n        \"num_unique_values\": 10724,\n        \"samples\": [\n          6387,\n          1570,\n          24712\n        ],\n        \"semantic_type\": \"\",\n        \"description\": \"\"\n      }\n    },\n    {\n      \"column\": \"Bytes Sent\",\n      \"properties\": {\n        \"dtype\": \"number\",\n        \"std\": 3828138,\n        \"min\": 60,\n        \"max\": 948477220,\n        \"num_unique_values\": 6683,\n        \"samples\": [\n          77974,\n          9715,\n          5331\n        ],\n        \"semantic_type\": \"\",\n        \"description\": \"\"\n      }\n    },\n    {\n      \"column\": \"Elapsed Time (sec)\",\n      \"properties\": {\n        \"dtype\": \"number\",\n        \"std\": 302,\n        \"min\": 0,\n        \"max\": 10824,\n        \"num_unique_values\": 915,\n        \"samples\": [\n          132,\n          757,\n          163\n        ],\n        \"semantic_type\": \"\",\n        \"description\": \"\"\n      }\n    },\n    {\n      \"column\": \"pkts_sent\",\n      \"properties\": {\n        \"dtype\": \"number\",\n        \"std\": 3218,\n        \"min\": 1,\n        \"max\": 747520,\n        \"num_unique_values\": 749,\n        \"samples\": [\n          504,\n          39649,\n          91\n        ],\n        \"semantic_type\": \"\",\n        \"description\": \"\"\n      }\n    }\n  ]\n}"
            }
          },
          "metadata": {},
          "execution_count": 68
        }
      ]
    },
    {
      "cell_type": "code",
      "source": [
        "ifw_df.tail()"
      ],
      "metadata": {
        "colab": {
          "base_uri": "https://localhost:8080/"
        },
        "id": "zuuywbkMq9Yx",
        "outputId": "be90cc8c-b05d-42df-a4db-fd4ef6eee8ee"
      },
      "execution_count": null,
      "outputs": [
        {
          "output_type": "execute_result",
          "data": {
            "text/plain": [
              "       Source Port  Destination Port  Action    Bytes  Bytes Sent  \\\n",
              "65527        63691                80       0      314         192   \n",
              "65528        50964                80       0  4680740       67312   \n",
              "65529        54871               445       2       70          70   \n",
              "65530        54870               445       2       70          70   \n",
              "65531        54867               445       2       70          70   \n",
              "\n",
              "       Elapsed Time (sec)  pkts_sent  \n",
              "65527                  15          4  \n",
              "65528                  77        985  \n",
              "65529                   0          1  \n",
              "65530                   0          1  \n",
              "65531                   0          1  "
            ],
            "text/html": [
              "\n",
              "  <div id=\"df-9f8a9bac-daf1-40a5-a59e-0cfd4b3bfa77\" class=\"colab-df-container\">\n",
              "    <div>\n",
              "<style scoped>\n",
              "    .dataframe tbody tr th:only-of-type {\n",
              "        vertical-align: middle;\n",
              "    }\n",
              "\n",
              "    .dataframe tbody tr th {\n",
              "        vertical-align: top;\n",
              "    }\n",
              "\n",
              "    .dataframe thead th {\n",
              "        text-align: right;\n",
              "    }\n",
              "</style>\n",
              "<table border=\"1\" class=\"dataframe\">\n",
              "  <thead>\n",
              "    <tr style=\"text-align: right;\">\n",
              "      <th></th>\n",
              "      <th>Source Port</th>\n",
              "      <th>Destination Port</th>\n",
              "      <th>Action</th>\n",
              "      <th>Bytes</th>\n",
              "      <th>Bytes Sent</th>\n",
              "      <th>Elapsed Time (sec)</th>\n",
              "      <th>pkts_sent</th>\n",
              "    </tr>\n",
              "  </thead>\n",
              "  <tbody>\n",
              "    <tr>\n",
              "      <th>65527</th>\n",
              "      <td>63691</td>\n",
              "      <td>80</td>\n",
              "      <td>0</td>\n",
              "      <td>314</td>\n",
              "      <td>192</td>\n",
              "      <td>15</td>\n",
              "      <td>4</td>\n",
              "    </tr>\n",
              "    <tr>\n",
              "      <th>65528</th>\n",
              "      <td>50964</td>\n",
              "      <td>80</td>\n",
              "      <td>0</td>\n",
              "      <td>4680740</td>\n",
              "      <td>67312</td>\n",
              "      <td>77</td>\n",
              "      <td>985</td>\n",
              "    </tr>\n",
              "    <tr>\n",
              "      <th>65529</th>\n",
              "      <td>54871</td>\n",
              "      <td>445</td>\n",
              "      <td>2</td>\n",
              "      <td>70</td>\n",
              "      <td>70</td>\n",
              "      <td>0</td>\n",
              "      <td>1</td>\n",
              "    </tr>\n",
              "    <tr>\n",
              "      <th>65530</th>\n",
              "      <td>54870</td>\n",
              "      <td>445</td>\n",
              "      <td>2</td>\n",
              "      <td>70</td>\n",
              "      <td>70</td>\n",
              "      <td>0</td>\n",
              "      <td>1</td>\n",
              "    </tr>\n",
              "    <tr>\n",
              "      <th>65531</th>\n",
              "      <td>54867</td>\n",
              "      <td>445</td>\n",
              "      <td>2</td>\n",
              "      <td>70</td>\n",
              "      <td>70</td>\n",
              "      <td>0</td>\n",
              "      <td>1</td>\n",
              "    </tr>\n",
              "  </tbody>\n",
              "</table>\n",
              "</div>\n",
              "    <div class=\"colab-df-buttons\">\n",
              "\n",
              "  <div class=\"colab-df-container\">\n",
              "    <button class=\"colab-df-convert\" onclick=\"convertToInteractive('df-9f8a9bac-daf1-40a5-a59e-0cfd4b3bfa77')\"\n",
              "            title=\"Convert this dataframe to an interactive table.\"\n",
              "            style=\"display:none;\">\n",
              "\n",
              "  <svg xmlns=\"http://www.w3.org/2000/svg\" height=\"24px\" viewBox=\"0 -960 960 960\">\n",
              "    <path d=\"M120-120v-720h720v720H120Zm60-500h600v-160H180v160Zm220 220h160v-160H400v160Zm0 220h160v-160H400v160ZM180-400h160v-160H180v160Zm440 0h160v-160H620v160ZM180-180h160v-160H180v160Zm440 0h160v-160H620v160Z\"/>\n",
              "  </svg>\n",
              "    </button>\n",
              "\n",
              "  <style>\n",
              "    .colab-df-container {\n",
              "      display:flex;\n",
              "      gap: 12px;\n",
              "    }\n",
              "\n",
              "    .colab-df-convert {\n",
              "      background-color: #E8F0FE;\n",
              "      border: none;\n",
              "      border-radius: 50%;\n",
              "      cursor: pointer;\n",
              "      display: none;\n",
              "      fill: #1967D2;\n",
              "      height: 32px;\n",
              "      padding: 0 0 0 0;\n",
              "      width: 32px;\n",
              "    }\n",
              "\n",
              "    .colab-df-convert:hover {\n",
              "      background-color: #E2EBFA;\n",
              "      box-shadow: 0px 1px 2px rgba(60, 64, 67, 0.3), 0px 1px 3px 1px rgba(60, 64, 67, 0.15);\n",
              "      fill: #174EA6;\n",
              "    }\n",
              "\n",
              "    .colab-df-buttons div {\n",
              "      margin-bottom: 4px;\n",
              "    }\n",
              "\n",
              "    [theme=dark] .colab-df-convert {\n",
              "      background-color: #3B4455;\n",
              "      fill: #D2E3FC;\n",
              "    }\n",
              "\n",
              "    [theme=dark] .colab-df-convert:hover {\n",
              "      background-color: #434B5C;\n",
              "      box-shadow: 0px 1px 3px 1px rgba(0, 0, 0, 0.15);\n",
              "      filter: drop-shadow(0px 1px 2px rgba(0, 0, 0, 0.3));\n",
              "      fill: #FFFFFF;\n",
              "    }\n",
              "  </style>\n",
              "\n",
              "    <script>\n",
              "      const buttonEl =\n",
              "        document.querySelector('#df-9f8a9bac-daf1-40a5-a59e-0cfd4b3bfa77 button.colab-df-convert');\n",
              "      buttonEl.style.display =\n",
              "        google.colab.kernel.accessAllowed ? 'block' : 'none';\n",
              "\n",
              "      async function convertToInteractive(key) {\n",
              "        const element = document.querySelector('#df-9f8a9bac-daf1-40a5-a59e-0cfd4b3bfa77');\n",
              "        const dataTable =\n",
              "          await google.colab.kernel.invokeFunction('convertToInteractive',\n",
              "                                                    [key], {});\n",
              "        if (!dataTable) return;\n",
              "\n",
              "        const docLinkHtml = 'Like what you see? Visit the ' +\n",
              "          '<a target=\"_blank\" href=https://colab.research.google.com/notebooks/data_table.ipynb>data table notebook</a>'\n",
              "          + ' to learn more about interactive tables.';\n",
              "        element.innerHTML = '';\n",
              "        dataTable['output_type'] = 'display_data';\n",
              "        await google.colab.output.renderOutput(dataTable, element);\n",
              "        const docLink = document.createElement('div');\n",
              "        docLink.innerHTML = docLinkHtml;\n",
              "        element.appendChild(docLink);\n",
              "      }\n",
              "    </script>\n",
              "  </div>\n",
              "\n",
              "\n",
              "<div id=\"df-a39e8177-f40d-4267-be46-3dc794c77487\">\n",
              "  <button class=\"colab-df-quickchart\" onclick=\"quickchart('df-a39e8177-f40d-4267-be46-3dc794c77487')\"\n",
              "            title=\"Suggest charts\"\n",
              "            style=\"display:none;\">\n",
              "\n",
              "<svg xmlns=\"http://www.w3.org/2000/svg\" height=\"24px\"viewBox=\"0 0 24 24\"\n",
              "     width=\"24px\">\n",
              "    <g>\n",
              "        <path d=\"M19 3H5c-1.1 0-2 .9-2 2v14c0 1.1.9 2 2 2h14c1.1 0 2-.9 2-2V5c0-1.1-.9-2-2-2zM9 17H7v-7h2v7zm4 0h-2V7h2v10zm4 0h-2v-4h2v4z\"/>\n",
              "    </g>\n",
              "</svg>\n",
              "  </button>\n",
              "\n",
              "<style>\n",
              "  .colab-df-quickchart {\n",
              "      --bg-color: #E8F0FE;\n",
              "      --fill-color: #1967D2;\n",
              "      --hover-bg-color: #E2EBFA;\n",
              "      --hover-fill-color: #174EA6;\n",
              "      --disabled-fill-color: #AAA;\n",
              "      --disabled-bg-color: #DDD;\n",
              "  }\n",
              "\n",
              "  [theme=dark] .colab-df-quickchart {\n",
              "      --bg-color: #3B4455;\n",
              "      --fill-color: #D2E3FC;\n",
              "      --hover-bg-color: #434B5C;\n",
              "      --hover-fill-color: #FFFFFF;\n",
              "      --disabled-bg-color: #3B4455;\n",
              "      --disabled-fill-color: #666;\n",
              "  }\n",
              "\n",
              "  .colab-df-quickchart {\n",
              "    background-color: var(--bg-color);\n",
              "    border: none;\n",
              "    border-radius: 50%;\n",
              "    cursor: pointer;\n",
              "    display: none;\n",
              "    fill: var(--fill-color);\n",
              "    height: 32px;\n",
              "    padding: 0;\n",
              "    width: 32px;\n",
              "  }\n",
              "\n",
              "  .colab-df-quickchart:hover {\n",
              "    background-color: var(--hover-bg-color);\n",
              "    box-shadow: 0 1px 2px rgba(60, 64, 67, 0.3), 0 1px 3px 1px rgba(60, 64, 67, 0.15);\n",
              "    fill: var(--button-hover-fill-color);\n",
              "  }\n",
              "\n",
              "  .colab-df-quickchart-complete:disabled,\n",
              "  .colab-df-quickchart-complete:disabled:hover {\n",
              "    background-color: var(--disabled-bg-color);\n",
              "    fill: var(--disabled-fill-color);\n",
              "    box-shadow: none;\n",
              "  }\n",
              "\n",
              "  .colab-df-spinner {\n",
              "    border: 2px solid var(--fill-color);\n",
              "    border-color: transparent;\n",
              "    border-bottom-color: var(--fill-color);\n",
              "    animation:\n",
              "      spin 1s steps(1) infinite;\n",
              "  }\n",
              "\n",
              "  @keyframes spin {\n",
              "    0% {\n",
              "      border-color: transparent;\n",
              "      border-bottom-color: var(--fill-color);\n",
              "      border-left-color: var(--fill-color);\n",
              "    }\n",
              "    20% {\n",
              "      border-color: transparent;\n",
              "      border-left-color: var(--fill-color);\n",
              "      border-top-color: var(--fill-color);\n",
              "    }\n",
              "    30% {\n",
              "      border-color: transparent;\n",
              "      border-left-color: var(--fill-color);\n",
              "      border-top-color: var(--fill-color);\n",
              "      border-right-color: var(--fill-color);\n",
              "    }\n",
              "    40% {\n",
              "      border-color: transparent;\n",
              "      border-right-color: var(--fill-color);\n",
              "      border-top-color: var(--fill-color);\n",
              "    }\n",
              "    60% {\n",
              "      border-color: transparent;\n",
              "      border-right-color: var(--fill-color);\n",
              "    }\n",
              "    80% {\n",
              "      border-color: transparent;\n",
              "      border-right-color: var(--fill-color);\n",
              "      border-bottom-color: var(--fill-color);\n",
              "    }\n",
              "    90% {\n",
              "      border-color: transparent;\n",
              "      border-bottom-color: var(--fill-color);\n",
              "    }\n",
              "  }\n",
              "</style>\n",
              "\n",
              "  <script>\n",
              "    async function quickchart(key) {\n",
              "      const quickchartButtonEl =\n",
              "        document.querySelector('#' + key + ' button');\n",
              "      quickchartButtonEl.disabled = true;  // To prevent multiple clicks.\n",
              "      quickchartButtonEl.classList.add('colab-df-spinner');\n",
              "      try {\n",
              "        const charts = await google.colab.kernel.invokeFunction(\n",
              "            'suggestCharts', [key], {});\n",
              "      } catch (error) {\n",
              "        console.error('Error during call to suggestCharts:', error);\n",
              "      }\n",
              "      quickchartButtonEl.classList.remove('colab-df-spinner');\n",
              "      quickchartButtonEl.classList.add('colab-df-quickchart-complete');\n",
              "    }\n",
              "    (() => {\n",
              "      let quickchartButtonEl =\n",
              "        document.querySelector('#df-a39e8177-f40d-4267-be46-3dc794c77487 button');\n",
              "      quickchartButtonEl.style.display =\n",
              "        google.colab.kernel.accessAllowed ? 'block' : 'none';\n",
              "    })();\n",
              "  </script>\n",
              "</div>\n",
              "\n",
              "    </div>\n",
              "  </div>\n"
            ],
            "application/vnd.google.colaboratory.intrinsic+json": {
              "type": "dataframe",
              "summary": "{\n  \"name\": \"ifw_df\",\n  \"rows\": 5,\n  \"fields\": [\n    {\n      \"column\": \"Source Port\",\n      \"properties\": {\n        \"dtype\": \"number\",\n        \"std\": 4696,\n        \"min\": 50964,\n        \"max\": 63691,\n        \"num_unique_values\": 5,\n        \"samples\": [\n          50964,\n          54867,\n          54871\n        ],\n        \"semantic_type\": \"\",\n        \"description\": \"\"\n      }\n    },\n    {\n      \"column\": \"Destination Port\",\n      \"properties\": {\n        \"dtype\": \"number\",\n        \"std\": 199,\n        \"min\": 80,\n        \"max\": 445,\n        \"num_unique_values\": 2,\n        \"samples\": [\n          445,\n          80\n        ],\n        \"semantic_type\": \"\",\n        \"description\": \"\"\n      }\n    },\n    {\n      \"column\": \"Action\",\n      \"properties\": {\n        \"dtype\": \"number\",\n        \"std\": 1,\n        \"min\": 0,\n        \"max\": 2,\n        \"num_unique_values\": 2,\n        \"samples\": [\n          2,\n          0\n        ],\n        \"semantic_type\": \"\",\n        \"description\": \"\"\n      }\n    },\n    {\n      \"column\": \"Bytes\",\n      \"properties\": {\n        \"dtype\": \"number\",\n        \"std\": 2093231,\n        \"min\": 70,\n        \"max\": 4680740,\n        \"num_unique_values\": 3,\n        \"samples\": [\n          314,\n          4680740\n        ],\n        \"semantic_type\": \"\",\n        \"description\": \"\"\n      }\n    },\n    {\n      \"column\": \"Bytes Sent\",\n      \"properties\": {\n        \"dtype\": \"number\",\n        \"std\": 30057,\n        \"min\": 70,\n        \"max\": 67312,\n        \"num_unique_values\": 3,\n        \"samples\": [\n          192,\n          67312\n        ],\n        \"semantic_type\": \"\",\n        \"description\": \"\"\n      }\n    },\n    {\n      \"column\": \"Elapsed Time (sec)\",\n      \"properties\": {\n        \"dtype\": \"number\",\n        \"std\": 33,\n        \"min\": 0,\n        \"max\": 77,\n        \"num_unique_values\": 3,\n        \"samples\": [\n          15,\n          77\n        ],\n        \"semantic_type\": \"\",\n        \"description\": \"\"\n      }\n    },\n    {\n      \"column\": \"pkts_sent\",\n      \"properties\": {\n        \"dtype\": \"number\",\n        \"std\": 439,\n        \"min\": 1,\n        \"max\": 985,\n        \"num_unique_values\": 3,\n        \"samples\": [\n          4,\n          985\n        ],\n        \"semantic_type\": \"\",\n        \"description\": \"\"\n      }\n    }\n  ]\n}"
            }
          },
          "metadata": {},
          "execution_count": 69
        }
      ]
    },
    {
      "cell_type": "markdown",
      "source": [
        "Vamos a ver los nulos"
      ],
      "metadata": {
        "id": "07poztiXrC8W"
      }
    },
    {
      "cell_type": "code",
      "source": [
        "ifw_df.isna().sum()"
      ],
      "metadata": {
        "colab": {
          "base_uri": "https://localhost:8080/"
        },
        "id": "ObySP42SrE1Q",
        "outputId": "90f1c6b0-8458-45bb-c202-c34f31abe390"
      },
      "execution_count": null,
      "outputs": [
        {
          "output_type": "execute_result",
          "data": {
            "text/plain": [
              "Source Port           0\n",
              "Destination Port      0\n",
              "Action                0\n",
              "Bytes                 0\n",
              "Bytes Sent            0\n",
              "Elapsed Time (sec)    0\n",
              "pkts_sent             0\n",
              "dtype: int64"
            ]
          },
          "metadata": {},
          "execution_count": 70
        }
      ]
    },
    {
      "cell_type": "markdown",
      "source": [
        "Vamos a ver las columnas, tipos de datos y clases del target"
      ],
      "metadata": {
        "id": "vVUaGn0WrGpW"
      }
    },
    {
      "cell_type": "code",
      "source": [
        "ifw_df.dtypes"
      ],
      "metadata": {
        "colab": {
          "base_uri": "https://localhost:8080/"
        },
        "id": "UgF20CS4rOiC",
        "outputId": "aedd9569-22d8-453c-9798-5e640afe6c1c"
      },
      "execution_count": null,
      "outputs": [
        {
          "output_type": "execute_result",
          "data": {
            "text/plain": [
              "Source Port           int64\n",
              "Destination Port      int64\n",
              "Action                int64\n",
              "Bytes                 int64\n",
              "Bytes Sent            int64\n",
              "Elapsed Time (sec)    int64\n",
              "pkts_sent             int64\n",
              "dtype: object"
            ]
          },
          "metadata": {},
          "execution_count": 71
        }
      ]
    },
    {
      "cell_type": "code",
      "source": [
        "ifw_df['Action'].value_counts()"
      ],
      "metadata": {
        "colab": {
          "base_uri": "https://localhost:8080/"
        },
        "id": "jJjSpqJ2rP9X",
        "outputId": "c5040589-5168-4852-9974-9749759047bb"
      },
      "execution_count": null,
      "outputs": [
        {
          "output_type": "execute_result",
          "data": {
            "text/plain": [
              "0    37640\n",
              "1    14987\n",
              "2    12851\n",
              "3       54\n",
              "Name: Action, dtype: int64"
            ]
          },
          "metadata": {},
          "execution_count": 72
        }
      ]
    },
    {
      "cell_type": "markdown",
      "source": [
        "También queremos ver el shape y el balanceo de los datos del target"
      ],
      "metadata": {
        "id": "CFi6BDaArTC5"
      }
    },
    {
      "cell_type": "code",
      "source": [
        "ifw_df.shape"
      ],
      "metadata": {
        "colab": {
          "base_uri": "https://localhost:8080/"
        },
        "id": "L1_2957FrahJ",
        "outputId": "3a8cbb8c-0709-45ef-f4e4-77d5de348dfb"
      },
      "execution_count": null,
      "outputs": [
        {
          "output_type": "execute_result",
          "data": {
            "text/plain": [
              "(65532, 7)"
            ]
          },
          "metadata": {},
          "execution_count": 73
        }
      ]
    },
    {
      "cell_type": "code",
      "source": [
        "ifw_df.__len__()"
      ],
      "metadata": {
        "colab": {
          "base_uri": "https://localhost:8080/"
        },
        "id": "9i0JVeTLrb-V",
        "outputId": "ed372b14-f124-44d1-cc8b-442b9dbdd6cb"
      },
      "execution_count": null,
      "outputs": [
        {
          "output_type": "execute_result",
          "data": {
            "text/plain": [
              "65532"
            ]
          },
          "metadata": {},
          "execution_count": 74
        }
      ]
    },
    {
      "cell_type": "code",
      "source": [
        "# Get the target\n",
        "target = ifw_df['Action']\n",
        "\n",
        "# Count the occurrences of each class\n",
        "class_distribution = target.value_counts()\n",
        "\n",
        "# Plotting the class distribution\n",
        "plt.figure(figsize=(8, 6))\n",
        "class_distribution.plot(kind='bar', color='skyblue')\n",
        "plt.title('Class Distribution')\n",
        "plt.xlabel('Class')\n",
        "plt.ylabel('Count')\n",
        "plt.show()"
      ],
      "metadata": {
        "colab": {
          "base_uri": "https://localhost:8080/"
        },
        "id": "h9_xRwDkrdJr",
        "outputId": "37b007a8-0b75-4d7b-ac67-10b7da09d783"
      },
      "execution_count": null,
      "outputs": [
        {
          "output_type": "display_data",
          "data": {
            "text/plain": [
              "<Figure size 800x600 with 1 Axes>"
            ],
            "image/png": "[encoded data removed]"
          },
          "metadata": {}
        }
      ]
    },
    {
      "cell_type": "markdown",
      "source": [
        "Ahora, revisaremos la correlación de las variables independientes con el target"
      ],
      "metadata": {
        "id": "rDAWhmSNrgO0"
      }
    },
    {
      "cell_type": "code",
      "source": [
        "ifw_df.corrwith(ifw_df['Action']).abs().nlargest(8)"
      ],
      "metadata": {
        "colab": {
          "base_uri": "https://localhost:8080/"
        },
        "id": "kI8_8ErnrpRZ",
        "outputId": "257b0aec-25a8-4b1d-b7d6-2937fab7f37e"
      },
      "execution_count": null,
      "outputs": [
        {
          "output_type": "execute_result",
          "data": {
            "text/plain": [
              "Action                1.000000\n",
              "Elapsed Time (sec)    0.170684\n",
              "Destination Port      0.095110\n",
              "Source Port           0.038343\n",
              "Bytes                 0.013546\n",
              "pkts_sent             0.009842\n",
              "Bytes Sent            0.004570\n",
              "dtype: float64"
            ]
          },
          "metadata": {},
          "execution_count": 77
        }
      ]
    },
    {
      "cell_type": "markdown",
      "source": [
        "### 2.2 Implementación de la red neuronal"
      ],
      "metadata": {
        "id": "3nskPGIJoKrg"
      }
    },
    {
      "cell_type": "code",
      "source": [
        "ifw_dataset = ifw_df.copy()"
      ],
      "metadata": {
        "id": "ipoHc4DMr3EC"
      },
      "execution_count": null,
      "outputs": []
    },
    {
      "cell_type": "markdown",
      "source": [
        "Separamos X y Y"
      ],
      "metadata": {
        "id": "AVaPWk-Qr-gw"
      }
    },
    {
      "cell_type": "code",
      "source": [
        "X = ifw_dataset.drop('Action', axis=1)\n",
        "y = ifw_dataset['Action']"
      ],
      "metadata": {
        "id": "ERvtACm9r-I7"
      },
      "execution_count": null,
      "outputs": []
    },
    {
      "cell_type": "markdown",
      "source": [
        "Haremos dos split, uno para train y rem y otro para test y val"
      ],
      "metadata": {
        "id": "RqxG5OVasFHA"
      }
    },
    {
      "cell_type": "code",
      "source": [
        "X_train, X_rem, y_train, y_rem = train_test_split(X, y, test_size = 0.4, random_state = 0)\n"
      ],
      "metadata": {
        "id": "fUE3z0AdsIjV"
      },
      "execution_count": null,
      "outputs": []
    },
    {
      "cell_type": "code",
      "source": [
        "X_valid, X_test, y_valid, y_test = train_test_split(X_rem,y_rem, test_size=0.5, random_state = 0)"
      ],
      "metadata": {
        "id": "0cb9o_gusI6b"
      },
      "execution_count": null,
      "outputs": []
    },
    {
      "cell_type": "markdown",
      "source": [
        "Ahora, usaremos el StandardScaler para normalizar los datos"
      ],
      "metadata": {
        "id": "Sp2lUMlysO4a"
      }
    },
    {
      "cell_type": "code",
      "source": [
        "sc = StandardScaler()\n",
        "X_train = sc.fit_transform(X_train)\n",
        "X_test = sc.transform(X_test)\n",
        "X_valid = sc.transform(X_valid)"
      ],
      "metadata": {
        "id": "YYwroZmPsRmj"
      },
      "execution_count": null,
      "outputs": []
    },
    {
      "cell_type": "markdown",
      "source": [
        "E inicializaremos la red neuronal"
      ],
      "metadata": {
        "id": "zJMLHfbYsTd1"
      }
    },
    {
      "cell_type": "code",
      "execution_count": null,
      "metadata": {
        "id": "8cwZWWkthO0D"
      },
      "outputs": [],
      "source": [
        "classifier_fw = Sequential()"
      ]
    },
    {
      "cell_type": "markdown",
      "source": [
        "Obtendremos los datos del shape para las capas"
      ],
      "metadata": {
        "id": "AirXxjLusjtb"
      }
    },
    {
      "cell_type": "code",
      "source": [
        "X_train.shape"
      ],
      "metadata": {
        "colab": {
          "base_uri": "https://localhost:8080/"
        },
        "outputId": "c7a493d7-40a2-4d26-8320-f4479000fcbc",
        "id": "PfruQjlSsh9G"
      },
      "execution_count": null,
      "outputs": [
        {
          "output_type": "execute_result",
          "data": {
            "text/plain": [
              "(39319, 6)"
            ]
          },
          "metadata": {},
          "execution_count": 91
        }
      ]
    },
    {
      "cell_type": "code",
      "source": [
        "init_neurons = X_train.shape[1]\n",
        "print(init_neurons)"
      ],
      "metadata": {
        "colab": {
          "base_uri": "https://localhost:8080/"
        },
        "outputId": "f7bd9341-ec2e-4376-b17d-110ae2603447",
        "id": "x3YkJifush9H"
      },
      "execution_count": null,
      "outputs": [
        {
          "output_type": "stream",
          "name": "stdout",
          "text": [
            "6\n"
          ]
        }
      ]
    },
    {
      "cell_type": "markdown",
      "source": [
        "Y pondremos las capas de la red"
      ],
      "metadata": {
        "id": "wDiKzvcPsmkD"
      }
    },
    {
      "cell_type": "code",
      "source": [
        "classifier_fw.add(Dense(units=6, kernel_initializer='uniform', activation='relu', input_dim=init_neurons))"
      ],
      "metadata": {
        "id": "7IXqg6uIsh9H"
      },
      "execution_count": null,
      "outputs": []
    },
    {
      "cell_type": "code",
      "source": [
        "classifier_fw.add(Dense(units = 6, kernel_initializer = 'uniform', activation = 'relu'))\n"
      ],
      "metadata": {
        "id": "DpSqDWzWsh9H"
      },
      "execution_count": null,
      "outputs": []
    },
    {
      "cell_type": "code",
      "source": [
        "classifier_fw.add(Dense(units = 1, kernel_initializer = 'uniform', activation = 'softmax'))\n"
      ],
      "metadata": {
        "id": "eQEMpTP9sh9H"
      },
      "execution_count": null,
      "outputs": []
    },
    {
      "cell_type": "markdown",
      "source": [
        "Ahora compilamos"
      ],
      "metadata": {
        "id": "Um6ckVjhsh9H"
      }
    },
    {
      "cell_type": "code",
      "source": [
        "classifier_fw.compile(optimizer = 'adam', loss = 'binary_crossentropy', metrics = ['accuracy'])"
      ],
      "metadata": {
        "id": "5Yvit-Bqsh9H"
      },
      "execution_count": null,
      "outputs": []
    },
    {
      "cell_type": "markdown",
      "source": [
        "Finalmente, hacemos fit a la red"
      ],
      "metadata": {
        "id": "2Sm-PTw5sttg"
      }
    },
    {
      "cell_type": "code",
      "source": [
        "classifier_fw.fit(X_train, y_train, batch_size=10, epochs=100)\n"
      ],
      "metadata": {
        "colab": {
          "base_uri": "https://localhost:8080/"
        },
        "id": "nY1sB2MPsvTO",
        "outputId": "c660efb0-5293-490a-e9ea-c915a315ad29"
      },
      "execution_count": null,
      "outputs": [
        {
          "output_type": "stream",
          "name": "stdout",
          "text": [
            "Epoch 1/100\n",
            "3932/3932 [==============================] - 12s 2ms/step - loss: -3.2724 - accuracy: 0.2299\n",
            "Epoch 2/100\n",
            "3932/3932 [==============================] - 7s 2ms/step - loss: -35.8247 - accuracy: 0.2299\n",
            "Epoch 3/100\n",
            "3932/3932 [==============================] - 6s 2ms/step - loss: -118.8285 - accuracy: 0.2299\n",
            "Epoch 4/100\n",
            "3932/3932 [==============================] - 7s 2ms/step - loss: -268.8034 - accuracy: 0.2299\n",
            "Epoch 5/100\n",
            "3932/3932 [==============================] - 6s 2ms/step - loss: -501.6718 - accuracy: 0.2299\n",
            "Epoch 6/100\n",
            "3932/3932 [==============================] - 7s 2ms/step - loss: -831.8344 - accuracy: 0.2299\n",
            "Epoch 7/100\n",
            "3932/3932 [==============================] - 6s 2ms/step - loss: -1282.1385 - accuracy: 0.2299\n",
            "Epoch 8/100\n",
            "3932/3932 [==============================] - 7s 2ms/step - loss: -1865.6902 - accuracy: 0.2299\n",
            "Epoch 9/100\n",
            "3932/3932 [==============================] - 6s 2ms/step - loss: -2598.0874 - accuracy: 0.2299\n",
            "Epoch 10/100\n",
            "3932/3932 [==============================] - 8s 2ms/step - loss: -3503.6917 - accuracy: 0.2299\n",
            "Epoch 11/100\n",
            "3932/3932 [==============================] - 6s 2ms/step - loss: -4596.2412 - accuracy: 0.2299\n",
            "Epoch 12/100\n",
            "3932/3932 [==============================] - 8s 2ms/step - loss: -5883.5718 - accuracy: 0.2299\n",
            "Epoch 13/100\n",
            "3932/3932 [==============================] - 6s 2ms/step - loss: -7408.8804 - accuracy: 0.2299\n",
            "Epoch 14/100\n",
            "3932/3932 [==============================] - 8s 2ms/step - loss: -9161.2979 - accuracy: 0.2299\n",
            "Epoch 15/100\n",
            "3932/3932 [==============================] - 6s 2ms/step - loss: -11183.0127 - accuracy: 0.2299\n",
            "Epoch 16/100\n",
            "3932/3932 [==============================] - 8s 2ms/step - loss: -13482.0137 - accuracy: 0.2299\n",
            "Epoch 17/100\n",
            "3932/3932 [==============================] - 6s 2ms/step - loss: -16055.1504 - accuracy: 0.2299\n",
            "Epoch 18/100\n",
            "3932/3932 [==============================] - 8s 2ms/step - loss: -18951.4980 - accuracy: 0.2299\n",
            "Epoch 19/100\n",
            "3932/3932 [==============================] - 6s 2ms/step - loss: -22188.6426 - accuracy: 0.2299\n",
            "Epoch 20/100\n",
            "3932/3932 [==============================] - 8s 2ms/step - loss: -25757.1172 - accuracy: 0.2299\n",
            "Epoch 21/100\n",
            "3932/3932 [==============================] - 6s 2ms/step - loss: -29659.5918 - accuracy: 0.2299\n",
            "Epoch 22/100\n",
            "3932/3932 [==============================] - 7s 2ms/step - loss: -33958.3516 - accuracy: 0.2299\n",
            "Epoch 23/100\n",
            "3932/3932 [==============================] - 6s 2ms/step - loss: -38638.9180 - accuracy: 0.2299\n",
            "Epoch 24/100\n",
            "3932/3932 [==============================] - 7s 2ms/step - loss: -43739.3359 - accuracy: 0.2299\n",
            "Epoch 25/100\n",
            "3932/3932 [==============================] - 7s 2ms/step - loss: -49277.0977 - accuracy: 0.2299\n",
            "Epoch 26/100\n",
            "3932/3932 [==============================] - 7s 2ms/step - loss: -55254.5273 - accuracy: 0.2299\n",
            "Epoch 27/100\n",
            "3932/3932 [==============================] - 7s 2ms/step - loss: -61685.4922 - accuracy: 0.2299\n",
            "Epoch 28/100\n",
            "3932/3932 [==============================] - 7s 2ms/step - loss: -68616.7188 - accuracy: 0.2299\n",
            "Epoch 29/100\n",
            "3932/3932 [==============================] - 7s 2ms/step - loss: -76010.8359 - accuracy: 0.2299\n",
            "Epoch 30/100\n",
            "3932/3932 [==============================] - 7s 2ms/step - loss: -83964.0938 - accuracy: 0.2299\n",
            "Epoch 31/100\n",
            "3932/3932 [==============================] - 7s 2ms/step - loss: -92562.3203 - accuracy: 0.2299\n",
            "Epoch 32/100\n",
            "3932/3932 [==============================] - 7s 2ms/step - loss: -101659.6016 - accuracy: 0.2299\n",
            "Epoch 33/100\n",
            "3932/3932 [==============================] - 7s 2ms/step - loss: -111147.5156 - accuracy: 0.2299\n",
            "Epoch 34/100\n",
            "3932/3932 [==============================] - 7s 2ms/step - loss: -121266.2969 - accuracy: 0.2299\n",
            "Epoch 35/100\n",
            "3932/3932 [==============================] - 7s 2ms/step - loss: -131991.6094 - accuracy: 0.2299\n",
            "Epoch 36/100\n",
            "3932/3932 [==============================] - 6s 2ms/step - loss: -143285.8438 - accuracy: 0.2299\n",
            "Epoch 37/100\n",
            "3932/3932 [==============================] - 7s 2ms/step - loss: -155347.6406 - accuracy: 0.2299\n",
            "Epoch 38/100\n",
            "3932/3932 [==============================] - 6s 2ms/step - loss: -167979.1250 - accuracy: 0.2299\n",
            "Epoch 39/100\n",
            "3932/3932 [==============================] - 7s 2ms/step - loss: -181163.5312 - accuracy: 0.2299\n",
            "Epoch 40/100\n",
            "3932/3932 [==============================] - 6s 2ms/step - loss: -195268.8438 - accuracy: 0.2299\n",
            "Epoch 41/100\n",
            "3932/3932 [==============================] - 7s 2ms/step - loss: -209996.2344 - accuracy: 0.2299\n",
            "Epoch 42/100\n",
            "3932/3932 [==============================] - 6s 2ms/step - loss: -225282.7656 - accuracy: 0.2299\n",
            "Epoch 43/100\n",
            "3932/3932 [==============================] - 7s 2ms/step - loss: -241315.9531 - accuracy: 0.2299\n",
            "Epoch 44/100\n",
            "3932/3932 [==============================] - 6s 2ms/step - loss: -258100.4062 - accuracy: 0.2299\n",
            "Epoch 45/100\n",
            "3932/3932 [==============================] - 8s 2ms/step - loss: -275471.0312 - accuracy: 0.2299\n",
            "Epoch 46/100\n",
            "3932/3932 [==============================] - 6s 2ms/step - loss: -293587.6562 - accuracy: 0.2299\n",
            "Epoch 47/100\n",
            "3932/3932 [==============================] - 7s 2ms/step - loss: -312714.4375 - accuracy: 0.2299\n",
            "Epoch 48/100\n",
            "3932/3932 [==============================] - 6s 2ms/step - loss: -332559.0000 - accuracy: 0.2299\n",
            "Epoch 49/100\n",
            "3932/3932 [==============================] - 7s 2ms/step - loss: -353342.4375 - accuracy: 0.2299\n",
            "Epoch 50/100\n",
            "3932/3932 [==============================] - 6s 2ms/step - loss: -374790.5000 - accuracy: 0.2299\n",
            "Epoch 51/100\n",
            "3932/3932 [==============================] - 8s 2ms/step - loss: -397270.0625 - accuracy: 0.2299\n",
            "Epoch 52/100\n",
            "3932/3932 [==============================] - 6s 2ms/step - loss: -420337.1875 - accuracy: 0.2299\n",
            "Epoch 53/100\n",
            "3932/3932 [==============================] - 7s 2ms/step - loss: -444248.4375 - accuracy: 0.2299\n",
            "Epoch 54/100\n",
            "3932/3932 [==============================] - 6s 2ms/step - loss: -469280.3125 - accuracy: 0.2299\n",
            "Epoch 55/100\n",
            "3932/3932 [==============================] - 8s 2ms/step - loss: -495232.6875 - accuracy: 0.2299\n",
            "Epoch 56/100\n",
            "3932/3932 [==============================] - 6s 2ms/step - loss: -522089.6250 - accuracy: 0.2299\n",
            "Epoch 57/100\n",
            "3932/3932 [==============================] - 8s 2ms/step - loss: -550161.0625 - accuracy: 0.2299\n",
            "Epoch 58/100\n",
            "3932/3932 [==============================] - 6s 2ms/step - loss: -579164.9375 - accuracy: 0.2299\n",
            "Epoch 59/100\n",
            "3932/3932 [==============================] - 8s 2ms/step - loss: -608898.1875 - accuracy: 0.2299\n",
            "Epoch 60/100\n",
            "3932/3932 [==============================] - 6s 2ms/step - loss: -639581.8125 - accuracy: 0.2299\n",
            "Epoch 61/100\n",
            "3932/3932 [==============================] - 8s 2ms/step - loss: -671249.8125 - accuracy: 0.2299\n",
            "Epoch 62/100\n",
            "3932/3932 [==============================] - 6s 2ms/step - loss: -703803.3750 - accuracy: 0.2299\n",
            "Epoch 63/100\n",
            "3932/3932 [==============================] - 8s 2ms/step - loss: -737380.8750 - accuracy: 0.2299\n",
            "Epoch 64/100\n",
            "3932/3932 [==============================] - 6s 2ms/step - loss: -771856.6250 - accuracy: 0.2299\n",
            "Epoch 65/100\n",
            "3932/3932 [==============================] - 7s 2ms/step - loss: -807592.0000 - accuracy: 0.2299\n",
            "Epoch 66/100\n",
            "3932/3932 [==============================] - 6s 2ms/step - loss: -844011.4375 - accuracy: 0.2299\n",
            "Epoch 67/100\n",
            "3932/3932 [==============================] - 8s 2ms/step - loss: -881557.1250 - accuracy: 0.2299\n",
            "Epoch 68/100\n",
            "3932/3932 [==============================] - 6s 2ms/step - loss: -920259.3125 - accuracy: 0.2299\n",
            "Epoch 69/100\n",
            "3932/3932 [==============================] - 7s 2ms/step - loss: -960412.1250 - accuracy: 0.2299\n",
            "Epoch 70/100\n",
            "3932/3932 [==============================] - 6s 2ms/step - loss: -1001447.7500 - accuracy: 0.2299\n",
            "Epoch 71/100\n",
            "3932/3932 [==============================] - 7s 2ms/step - loss: -1043653.5625 - accuracy: 0.2299\n",
            "Epoch 72/100\n",
            "3932/3932 [==============================] - 6s 2ms/step - loss: -1086869.3750 - accuracy: 0.2299\n",
            "Epoch 73/100\n",
            "3932/3932 [==============================] - 7s 2ms/step - loss: -1131455.5000 - accuracy: 0.2299\n",
            "Epoch 74/100\n",
            "3932/3932 [==============================] - 6s 2ms/step - loss: -1177611.3750 - accuracy: 0.2299\n",
            "Epoch 75/100\n",
            "3932/3932 [==============================] - 7s 2ms/step - loss: -1224455.6250 - accuracy: 0.2299\n",
            "Epoch 76/100\n",
            "3932/3932 [==============================] - 6s 2ms/step - loss: -1272320.0000 - accuracy: 0.2299\n",
            "Epoch 77/100\n",
            "3932/3932 [==============================] - 7s 2ms/step - loss: -1321926.6250 - accuracy: 0.2299\n",
            "Epoch 78/100\n",
            "3932/3932 [==============================] - 6s 2ms/step - loss: -1372527.6250 - accuracy: 0.2299\n",
            "Epoch 79/100\n",
            "3932/3932 [==============================] - 7s 2ms/step - loss: -1424646.5000 - accuracy: 0.2299\n",
            "Epoch 80/100\n",
            "3932/3932 [==============================] - 6s 2ms/step - loss: -1477972.2500 - accuracy: 0.2299\n",
            "Epoch 81/100\n",
            "3932/3932 [==============================] - 8s 2ms/step - loss: -1532512.6250 - accuracy: 0.2299\n",
            "Epoch 82/100\n",
            "3932/3932 [==============================] - 6s 2ms/step - loss: -1587860.2500 - accuracy: 0.2299\n",
            "Epoch 83/100\n",
            "3932/3932 [==============================] - 7s 2ms/step - loss: -1645022.7500 - accuracy: 0.2299\n",
            "Epoch 84/100\n",
            "3932/3932 [==============================] - 6s 2ms/step - loss: -1703638.0000 - accuracy: 0.2299\n",
            "Epoch 85/100\n",
            "3932/3932 [==============================] - 7s 2ms/step - loss: -1763964.5000 - accuracy: 0.2299\n",
            "Epoch 86/100\n",
            "3932/3932 [==============================] - 6s 2ms/step - loss: -1825610.5000 - accuracy: 0.2299\n",
            "Epoch 87/100\n",
            "3932/3932 [==============================] - 7s 2ms/step - loss: -1887743.3750 - accuracy: 0.2299\n",
            "Epoch 88/100\n",
            "3932/3932 [==============================] - 6s 2ms/step - loss: -1951786.1250 - accuracy: 0.2299\n",
            "Epoch 89/100\n",
            "3932/3932 [==============================] - 8s 2ms/step - loss: -2017165.8750 - accuracy: 0.2299\n",
            "Epoch 90/100\n",
            "3932/3932 [==============================] - 6s 2ms/step - loss: -2083647.0000 - accuracy: 0.2299\n",
            "Epoch 91/100\n",
            "3932/3932 [==============================] - 7s 2ms/step - loss: -2151878.2500 - accuracy: 0.2299\n",
            "Epoch 92/100\n",
            "3932/3932 [==============================] - 6s 2ms/step - loss: -2221582.5000 - accuracy: 0.2299\n",
            "Epoch 93/100\n",
            "3932/3932 [==============================] - 8s 2ms/step - loss: -2292701.7500 - accuracy: 0.2299\n",
            "Epoch 94/100\n",
            "3932/3932 [==============================] - 6s 2ms/step - loss: -2364755.0000 - accuracy: 0.2299\n",
            "Epoch 95/100\n",
            "3932/3932 [==============================] - 8s 2ms/step - loss: -2438821.0000 - accuracy: 0.2299\n",
            "Epoch 96/100\n",
            "3932/3932 [==============================] - 6s 2ms/step - loss: -2514944.5000 - accuracy: 0.2299\n",
            "Epoch 97/100\n",
            "3932/3932 [==============================] - 8s 2ms/step - loss: -2591924.5000 - accuracy: 0.2299\n",
            "Epoch 98/100\n",
            "3932/3932 [==============================] - 6s 2ms/step - loss: -2670812.2500 - accuracy: 0.2299\n",
            "Epoch 99/100\n",
            "3932/3932 [==============================] - 8s 2ms/step - loss: -2750872.7500 - accuracy: 0.2299\n",
            "Epoch 100/100\n",
            "3932/3932 [==============================] - 6s 2ms/step - loss: -2832824.2500 - accuracy: 0.2299\n"
          ]
        },
        {
          "output_type": "execute_result",
          "data": {
            "text/plain": [
              "<keras.src.callbacks.History at 0x7fbd66b52b30>"
            ]
          },
          "metadata": {},
          "execution_count": 94
        }
      ]
    },
    {
      "cell_type": "markdown",
      "source": [
        "Y hacemos las predicciones... Así como obtener la matrices de confusión"
      ],
      "metadata": {
        "id": "ehGOSjMfsv4s"
      }
    },
    {
      "cell_type": "code",
      "source": [
        "y_pred = classifier_fw.predict(X_test)\n",
        "y_pred = (y_pred > 0.5)"
      ],
      "metadata": {
        "colab": {
          "base_uri": "https://localhost:8080/"
        },
        "id": "EOhCSgAGsz5e",
        "outputId": "47e6ca0c-a5d0-4f8f-8f4e-5d5d1e2b37f8"
      },
      "execution_count": null,
      "outputs": [
        {
          "output_type": "stream",
          "name": "stdout",
          "text": [
            "410/410 [==============================] - 2s 4ms/step\n"
          ]
        }
      ]
    },
    {
      "cell_type": "code",
      "source": [
        "from sklearn.metrics import confusion_matrix, accuracy_score\n",
        "cm = confusion_matrix(y_test, y_pred)\n",
        "print(cm)\n",
        "accuracy_score(y_test,y_pred)"
      ],
      "metadata": {
        "colab": {
          "base_uri": "https://localhost:8080/"
        },
        "id": "iUiP_OAQs0J2",
        "outputId": "c3a49f61-43b8-423b-dcb8-4c86a6d6862b"
      },
      "execution_count": null,
      "outputs": [
        {
          "output_type": "stream",
          "name": "stdout",
          "text": [
            "[[   0 7565    0    0]\n",
            " [   0 2938    0    0]\n",
            " [   0 2594    0    0]\n",
            " [   0   10    0    0]]\n"
          ]
        },
        {
          "output_type": "execute_result",
          "data": {
            "text/plain": [
              "0.22415503166247044"
            ]
          },
          "metadata": {},
          "execution_count": 98
        }
      ]
    },
    {
      "cell_type": "code",
      "source": [
        "import matplotlib.pyplot as plt\n",
        "import numpy\n",
        "from sklearn import metrics"
      ],
      "metadata": {
        "id": "o6ahWXtss4S5"
      },
      "execution_count": null,
      "outputs": []
    },
    {
      "cell_type": "code",
      "source": [
        "confusion_matrix = metrics.confusion_matrix(y_test, y_pred)\n",
        "\n",
        "cm_display = metrics.ConfusionMatrixDisplay(confusion_matrix = confusion_matrix, display_labels = [False, True])"
      ],
      "metadata": {
        "id": "EB3E3_L3s4S6"
      },
      "execution_count": null,
      "outputs": []
    },
    {
      "cell_type": "code",
      "source": [
        "cm_display.plot()\n",
        "plt.show()"
      ],
      "metadata": {
        "colab": {
          "base_uri": "https://localhost:8080/",
          "height": 717
        },
        "id": "HrbH3lBfs5CA",
        "outputId": "136fd98f-cd22-4b7e-e829-174e6183e73f"
      },
      "execution_count": null,
      "outputs": [
        {
          "output_type": "error",
          "ename": "ValueError",
          "evalue": "The number of FixedLocator locations (4), usually from a call to set_ticks, does not match the number of labels (2).",
          "traceback": [
            "\u001b[0;31m---------------------------------------------------------------------------\u001b[0m",
            "\u001b[0;31mValueError\u001b[0m                                Traceback (most recent call last)",
            "\u001b[0;32m<ipython-input-107-f84fc7d31b65>\u001b[0m in \u001b[0;36m<cell line: 1>\u001b[0;34m()\u001b[0m\n\u001b[0;32m----> 1\u001b[0;31m \u001b[0mcm_display\u001b[0m\u001b[0;34m.\u001b[0m\u001b[0mplot\u001b[0m\u001b[0;34m(\u001b[0m\u001b[0;34m)\u001b[0m\u001b[0;34m\u001b[0m\u001b[0;34m\u001b[0m\u001b[0m\n\u001b[0m\u001b[1;32m      2\u001b[0m \u001b[0mplt\u001b[0m\u001b[0;34m.\u001b[0m\u001b[0mshow\u001b[0m\u001b[0;34m(\u001b[0m\u001b[0;34m)\u001b[0m\u001b[0;34m\u001b[0m\u001b[0;34m\u001b[0m\u001b[0m\n",
            "\u001b[0;32m/usr/local/lib/python3.10/dist-packages/sklearn/metrics/_plot/confusion_matrix.py\u001b[0m in \u001b[0;36mplot\u001b[0;34m(self, include_values, cmap, xticks_rotation, values_format, ax, colorbar, im_kw, text_kw)\u001b[0m\n\u001b[1;32m    179\u001b[0m         \u001b[0;32mif\u001b[0m \u001b[0mcolorbar\u001b[0m\u001b[0;34m:\u001b[0m\u001b[0;34m\u001b[0m\u001b[0;34m\u001b[0m\u001b[0m\n\u001b[1;32m    180\u001b[0m             \u001b[0mfig\u001b[0m\u001b[0;34m.\u001b[0m\u001b[0mcolorbar\u001b[0m\u001b[0;34m(\u001b[0m\u001b[0mself\u001b[0m\u001b[0;34m.\u001b[0m\u001b[0mim_\u001b[0m\u001b[0;34m,\u001b[0m \u001b[0max\u001b[0m\u001b[0;34m=\u001b[0m\u001b[0max\u001b[0m\u001b[0;34m)\u001b[0m\u001b[0;34m\u001b[0m\u001b[0;34m\u001b[0m\u001b[0m\n\u001b[0;32m--> 181\u001b[0;31m         ax.set(\n\u001b[0m\u001b[1;32m    182\u001b[0m             \u001b[0mxticks\u001b[0m\u001b[0;34m=\u001b[0m\u001b[0mnp\u001b[0m\u001b[0;34m.\u001b[0m\u001b[0marange\u001b[0m\u001b[0;34m(\u001b[0m\u001b[0mn_classes\u001b[0m\u001b[0;34m)\u001b[0m\u001b[0;34m,\u001b[0m\u001b[0;34m\u001b[0m\u001b[0;34m\u001b[0m\u001b[0m\n\u001b[1;32m    183\u001b[0m             \u001b[0myticks\u001b[0m\u001b[0;34m=\u001b[0m\u001b[0mnp\u001b[0m\u001b[0;34m.\u001b[0m\u001b[0marange\u001b[0m\u001b[0;34m(\u001b[0m\u001b[0mn_classes\u001b[0m\u001b[0;34m)\u001b[0m\u001b[0;34m,\u001b[0m\u001b[0;34m\u001b[0m\u001b[0;34m\u001b[0m\u001b[0m\n",
            "\u001b[0;32m/usr/local/lib/python3.10/dist-packages/matplotlib/artist.py\u001b[0m in \u001b[0;36m<lambda>\u001b[0;34m(self, **kwargs)\u001b[0m\n\u001b[1;32m    145\u001b[0m             \u001b[0;32mreturn\u001b[0m\u001b[0;34m\u001b[0m\u001b[0;34m\u001b[0m\u001b[0m\n\u001b[1;32m    146\u001b[0m \u001b[0;34m\u001b[0m\u001b[0m\n\u001b[0;32m--> 147\u001b[0;31m         \u001b[0mcls\u001b[0m\u001b[0;34m.\u001b[0m\u001b[0mset\u001b[0m \u001b[0;34m=\u001b[0m \u001b[0;32mlambda\u001b[0m \u001b[0mself\u001b[0m\u001b[0;34m,\u001b[0m \u001b[0;34m**\u001b[0m\u001b[0mkwargs\u001b[0m\u001b[0;34m:\u001b[0m \u001b[0mArtist\u001b[0m\u001b[0;34m.\u001b[0m\u001b[0mset\u001b[0m\u001b[0;34m(\u001b[0m\u001b[0mself\u001b[0m\u001b[0;34m,\u001b[0m \u001b[0;34m**\u001b[0m\u001b[0mkwargs\u001b[0m\u001b[0;34m)\u001b[0m\u001b[0;34m\u001b[0m\u001b[0;34m\u001b[0m\u001b[0m\n\u001b[0m\u001b[1;32m    148\u001b[0m         \u001b[0mcls\u001b[0m\u001b[0;34m.\u001b[0m\u001b[0mset\u001b[0m\u001b[0;34m.\u001b[0m\u001b[0m__name__\u001b[0m \u001b[0;34m=\u001b[0m \u001b[0;34m\"set\"\u001b[0m\u001b[0;34m\u001b[0m\u001b[0;34m\u001b[0m\u001b[0m\n\u001b[1;32m    149\u001b[0m         \u001b[0mcls\u001b[0m\u001b[0;34m.\u001b[0m\u001b[0mset\u001b[0m\u001b[0;34m.\u001b[0m\u001b[0m__qualname__\u001b[0m \u001b[0;34m=\u001b[0m \u001b[0;34mf\"{cls.__qualname__}.set\"\u001b[0m\u001b[0;34m\u001b[0m\u001b[0;34m\u001b[0m\u001b[0m\n",
            "\u001b[0;32m/usr/local/lib/python3.10/dist-packages/matplotlib/artist.py\u001b[0m in \u001b[0;36mset\u001b[0;34m(self, **kwargs)\u001b[0m\n\u001b[1;32m   1229\u001b[0m         \u001b[0;31m# Artist._update_set_signature_and_docstring() at the end of the\u001b[0m\u001b[0;34m\u001b[0m\u001b[0;34m\u001b[0m\u001b[0m\n\u001b[1;32m   1230\u001b[0m         \u001b[0;31m# module.\u001b[0m\u001b[0;34m\u001b[0m\u001b[0;34m\u001b[0m\u001b[0m\n\u001b[0;32m-> 1231\u001b[0;31m         \u001b[0;32mreturn\u001b[0m \u001b[0mself\u001b[0m\u001b[0;34m.\u001b[0m\u001b[0m_internal_update\u001b[0m\u001b[0;34m(\u001b[0m\u001b[0mcbook\u001b[0m\u001b[0;34m.\u001b[0m\u001b[0mnormalize_kwargs\u001b[0m\u001b[0;34m(\u001b[0m\u001b[0mkwargs\u001b[0m\u001b[0;34m,\u001b[0m \u001b[0mself\u001b[0m\u001b[0;34m)\u001b[0m\u001b[0;34m)\u001b[0m\u001b[0;34m\u001b[0m\u001b[0;34m\u001b[0m\u001b[0m\n\u001b[0m\u001b[1;32m   1232\u001b[0m \u001b[0;34m\u001b[0m\u001b[0m\n\u001b[1;32m   1233\u001b[0m     \u001b[0;34m@\u001b[0m\u001b[0mcontextlib\u001b[0m\u001b[0;34m.\u001b[0m\u001b[0mcontextmanager\u001b[0m\u001b[0;34m\u001b[0m\u001b[0;34m\u001b[0m\u001b[0m\n",
            "\u001b[0;32m/usr/local/lib/python3.10/dist-packages/matplotlib/artist.py\u001b[0m in \u001b[0;36m_internal_update\u001b[0;34m(self, kwargs)\u001b[0m\n\u001b[1;32m   1221\u001b[0m         \u001b[0mThe\u001b[0m \u001b[0mlack\u001b[0m \u001b[0mof\u001b[0m \u001b[0mprenormalization\u001b[0m \u001b[0;32mis\u001b[0m \u001b[0mto\u001b[0m \u001b[0mmaintain\u001b[0m \u001b[0mbackcompatibility\u001b[0m\u001b[0;34m.\u001b[0m\u001b[0;34m\u001b[0m\u001b[0;34m\u001b[0m\u001b[0m\n\u001b[1;32m   1222\u001b[0m         \"\"\"\n\u001b[0;32m-> 1223\u001b[0;31m         return self._update_props(\n\u001b[0m\u001b[1;32m   1224\u001b[0m             \u001b[0mkwargs\u001b[0m\u001b[0;34m,\u001b[0m \u001b[0;34m\"{cls.__name__}.set() got an unexpected keyword argument \"\u001b[0m\u001b[0;34m\u001b[0m\u001b[0;34m\u001b[0m\u001b[0m\n\u001b[1;32m   1225\u001b[0m             \"{prop_name!r}\")\n",
            "\u001b[0;32m/usr/local/lib/python3.10/dist-packages/matplotlib/artist.py\u001b[0m in \u001b[0;36m_update_props\u001b[0;34m(self, props, errfmt)\u001b[0m\n\u001b[1;32m   1197\u001b[0m                         raise AttributeError(\n\u001b[1;32m   1198\u001b[0m                             errfmt.format(cls=type(self), prop_name=k))\n\u001b[0;32m-> 1199\u001b[0;31m                     \u001b[0mret\u001b[0m\u001b[0;34m.\u001b[0m\u001b[0mappend\u001b[0m\u001b[0;34m(\u001b[0m\u001b[0mfunc\u001b[0m\u001b[0;34m(\u001b[0m\u001b[0mv\u001b[0m\u001b[0;34m)\u001b[0m\u001b[0;34m)\u001b[0m\u001b[0;34m\u001b[0m\u001b[0;34m\u001b[0m\u001b[0m\n\u001b[0m\u001b[1;32m   1200\u001b[0m         \u001b[0;32mif\u001b[0m \u001b[0mret\u001b[0m\u001b[0;34m:\u001b[0m\u001b[0;34m\u001b[0m\u001b[0;34m\u001b[0m\u001b[0m\n\u001b[1;32m   1201\u001b[0m             \u001b[0mself\u001b[0m\u001b[0;34m.\u001b[0m\u001b[0mpchanged\u001b[0m\u001b[0;34m(\u001b[0m\u001b[0;34m)\u001b[0m\u001b[0;34m\u001b[0m\u001b[0;34m\u001b[0m\u001b[0m\n",
            "\u001b[0;32m/usr/local/lib/python3.10/dist-packages/matplotlib/axes/_base.py\u001b[0m in \u001b[0;36mwrapper\u001b[0;34m(self, *args, **kwargs)\u001b[0m\n\u001b[1;32m     72\u001b[0m \u001b[0;34m\u001b[0m\u001b[0m\n\u001b[1;32m     73\u001b[0m         \u001b[0;32mdef\u001b[0m \u001b[0mwrapper\u001b[0m\u001b[0;34m(\u001b[0m\u001b[0mself\u001b[0m\u001b[0;34m,\u001b[0m \u001b[0;34m*\u001b[0m\u001b[0margs\u001b[0m\u001b[0;34m,\u001b[0m \u001b[0;34m**\u001b[0m\u001b[0mkwargs\u001b[0m\u001b[0;34m)\u001b[0m\u001b[0;34m:\u001b[0m\u001b[0;34m\u001b[0m\u001b[0;34m\u001b[0m\u001b[0m\n\u001b[0;32m---> 74\u001b[0;31m             \u001b[0;32mreturn\u001b[0m \u001b[0mget_method\u001b[0m\u001b[0;34m(\u001b[0m\u001b[0mself\u001b[0m\u001b[0;34m)\u001b[0m\u001b[0;34m(\u001b[0m\u001b[0;34m*\u001b[0m\u001b[0margs\u001b[0m\u001b[0;34m,\u001b[0m \u001b[0;34m**\u001b[0m\u001b[0mkwargs\u001b[0m\u001b[0;34m)\u001b[0m\u001b[0;34m\u001b[0m\u001b[0;34m\u001b[0m\u001b[0m\n\u001b[0m\u001b[1;32m     75\u001b[0m \u001b[0;34m\u001b[0m\u001b[0m\n\u001b[1;32m     76\u001b[0m         \u001b[0mwrapper\u001b[0m\u001b[0;34m.\u001b[0m\u001b[0m__module__\u001b[0m \u001b[0;34m=\u001b[0m \u001b[0mowner\u001b[0m\u001b[0;34m.\u001b[0m\u001b[0m__module__\u001b[0m\u001b[0;34m\u001b[0m\u001b[0;34m\u001b[0m\u001b[0m\n",
            "\u001b[0;32m/usr/local/lib/python3.10/dist-packages/matplotlib/_api/deprecation.py\u001b[0m in \u001b[0;36mwrapper\u001b[0;34m(*args, **kwargs)\u001b[0m\n\u001b[1;32m    295\u001b[0m                 f\"for the old name will be dropped %(removal)s.\")\n\u001b[1;32m    296\u001b[0m             \u001b[0mkwargs\u001b[0m\u001b[0;34m[\u001b[0m\u001b[0mnew\u001b[0m\u001b[0;34m]\u001b[0m \u001b[0;34m=\u001b[0m \u001b[0mkwargs\u001b[0m\u001b[0;34m.\u001b[0m\u001b[0mpop\u001b[0m\u001b[0;34m(\u001b[0m\u001b[0mold\u001b[0m\u001b[0;34m)\u001b[0m\u001b[0;34m\u001b[0m\u001b[0;34m\u001b[0m\u001b[0m\n\u001b[0;32m--> 297\u001b[0;31m         \u001b[0;32mreturn\u001b[0m \u001b[0mfunc\u001b[0m\u001b[0;34m(\u001b[0m\u001b[0;34m*\u001b[0m\u001b[0margs\u001b[0m\u001b[0;34m,\u001b[0m \u001b[0;34m**\u001b[0m\u001b[0mkwargs\u001b[0m\u001b[0;34m)\u001b[0m\u001b[0;34m\u001b[0m\u001b[0;34m\u001b[0m\u001b[0m\n\u001b[0m\u001b[1;32m    298\u001b[0m \u001b[0;34m\u001b[0m\u001b[0m\n\u001b[1;32m    299\u001b[0m     \u001b[0;31m# wrapper() must keep the same documented signature as func(): if we\u001b[0m\u001b[0;34m\u001b[0m\u001b[0;34m\u001b[0m\u001b[0m\n",
            "\u001b[0;32m/usr/local/lib/python3.10/dist-packages/matplotlib/axis.py\u001b[0m in \u001b[0;36mset_ticklabels\u001b[0;34m(self, labels, minor, fontdict, **kwargs)\u001b[0m\n\u001b[1;32m   1967\u001b[0m             \u001b[0;31m# remove all tick labels, so only error for > 0 labels\u001b[0m\u001b[0;34m\u001b[0m\u001b[0;34m\u001b[0m\u001b[0m\n\u001b[1;32m   1968\u001b[0m             \u001b[0;32mif\u001b[0m \u001b[0mlen\u001b[0m\u001b[0;34m(\u001b[0m\u001b[0mlocator\u001b[0m\u001b[0;34m.\u001b[0m\u001b[0mlocs\u001b[0m\u001b[0;34m)\u001b[0m \u001b[0;34m!=\u001b[0m \u001b[0mlen\u001b[0m\u001b[0;34m(\u001b[0m\u001b[0mlabels\u001b[0m\u001b[0;34m)\u001b[0m \u001b[0;32mand\u001b[0m \u001b[0mlen\u001b[0m\u001b[0;34m(\u001b[0m\u001b[0mlabels\u001b[0m\u001b[0;34m)\u001b[0m \u001b[0;34m!=\u001b[0m \u001b[0;36m0\u001b[0m\u001b[0;34m:\u001b[0m\u001b[0;34m\u001b[0m\u001b[0;34m\u001b[0m\u001b[0m\n\u001b[0;32m-> 1969\u001b[0;31m                 raise ValueError(\n\u001b[0m\u001b[1;32m   1970\u001b[0m                     \u001b[0;34m\"The number of FixedLocator locations\"\u001b[0m\u001b[0;34m\u001b[0m\u001b[0;34m\u001b[0m\u001b[0m\n\u001b[1;32m   1971\u001b[0m                     \u001b[0;34mf\" ({len(locator.locs)}), usually from a call to\"\u001b[0m\u001b[0;34m\u001b[0m\u001b[0;34m\u001b[0m\u001b[0m\n",
            "\u001b[0;31mValueError\u001b[0m: The number of FixedLocator locations (4), usually from a call to set_ticks, does not match the number of labels (2)."
          ]
        },
        {
          "output_type": "display_data",
          "data": {
            "text/plain": [
              "<Figure size 640x480 with 2 Axes>"
            ],
            "image/png": "[encoded data removed]"
          },
          "metadata": {}
        }
      ]
    },
    {
      "cell_type": "markdown",
      "source": [
        "# 3. Pycaret"
      ],
      "metadata": {
        "id": "FPIImPacxBhb"
      }
    },
    {
      "cell_type": "code",
      "source": [
        "pip install pycaret"
      ],
      "metadata": {
        "colab": {
          "base_uri": "https://localhost:8080/"
        },
        "id": "eDJzbi7MxEAE",
        "outputId": "561e8caa-4e57-448f-e2fc-3e551881287a"
      },
      "execution_count": null,
      "outputs": [
        {
          "output_type": "stream",
          "name": "stdout",
          "text": [
            "Requirement already satisfied: pycaret in /usr/local/lib/python3.10/dist-packages (3.3.0)\n",
            "Requirement already satisfied: ipython>=5.5.0 in /usr/local/lib/python3.10/dist-packages (from pycaret) (7.34.0)\n",
            "Requirement already satisfied: ipywidgets>=7.6.5 in /usr/local/lib/python3.10/dist-packages (from pycaret) (7.7.1)\n",
            "Requirement already satisfied: tqdm>=4.62.0 in /usr/local/lib/python3.10/dist-packages (from pycaret) (4.66.2)\n",
            "Requirement already satisfied: numpy<1.27,>=1.21 in /usr/local/lib/python3.10/dist-packages (from pycaret) (1.25.2)\n",
            "Requirement already satisfied: pandas<2.2.0 in /usr/local/lib/python3.10/dist-packages (from pycaret) (1.5.3)\n",
            "Requirement already satisfied: jinja2>=3 in /usr/local/lib/python3.10/dist-packages (from pycaret) (3.1.3)\n",
            "Requirement already satisfied: scipy<=1.11.4,>=1.6.1 in /usr/local/lib/python3.10/dist-packages (from pycaret) (1.11.4)\n",
            "Requirement already satisfied: joblib>=1.2.0 in /usr/local/lib/python3.10/dist-packages (from pycaret) (1.3.2)\n",
            "Requirement already satisfied: scikit-learn>1.4.0 in /usr/local/lib/python3.10/dist-packages (from pycaret) (1.4.1.post1)\n",
            "Requirement already satisfied: pyod>=1.1.3 in /usr/local/lib/python3.10/dist-packages (from pycaret) (1.1.3)\n",
            "Requirement already satisfied: imbalanced-learn>=0.12.0 in /usr/local/lib/python3.10/dist-packages (from pycaret) (0.12.0)\n",
            "Requirement already satisfied: category-encoders>=2.4.0 in /usr/local/lib/python3.10/dist-packages (from pycaret) (2.6.3)\n",
            "Requirement already satisfied: lightgbm>=3.0.0 in /usr/local/lib/python3.10/dist-packages (from pycaret) (4.1.0)\n",
            "Requirement already satisfied: numba>=0.55.0 in /usr/local/lib/python3.10/dist-packages (from pycaret) (0.58.1)\n",
            "Requirement already satisfied: requests>=2.27.1 in /usr/local/lib/python3.10/dist-packages (from pycaret) (2.31.0)\n",
            "Requirement already satisfied: psutil>=5.9.0 in /usr/local/lib/python3.10/dist-packages (from pycaret) (5.9.5)\n",
            "Requirement already satisfied: markupsafe>=2.0.1 in /usr/local/lib/python3.10/dist-packages (from pycaret) (2.1.5)\n",
            "Requirement already satisfied: importlib-metadata>=4.12.0 in /usr/local/lib/python3.10/dist-packages (from pycaret) (7.0.1)\n",
            "Requirement already satisfied: nbformat>=4.2.0 in /usr/local/lib/python3.10/dist-packages (from pycaret) (5.9.2)\n",
            "Requirement already satisfied: cloudpickle in /usr/local/lib/python3.10/dist-packages (from pycaret) (2.2.1)\n",
            "Requirement already satisfied: deprecation>=2.1.0 in /usr/local/lib/python3.10/dist-packages (from pycaret) (2.1.0)\n",
            "Requirement already satisfied: xxhash in /usr/local/lib/python3.10/dist-packages (from pycaret) (3.4.1)\n",
            "Requirement already satisfied: matplotlib<3.8.0 in /usr/local/lib/python3.10/dist-packages (from pycaret) (3.7.1)\n",
            "Requirement already satisfied: scikit-plot>=0.3.7 in /usr/local/lib/python3.10/dist-packages (from pycaret) (0.3.7)\n",
            "Requirement already satisfied: yellowbrick>=1.4 in /usr/local/lib/python3.10/dist-packages (from pycaret) (1.5)\n",
            "Requirement already satisfied: plotly>=5.14.0 in /usr/local/lib/python3.10/dist-packages (from pycaret) (5.15.0)\n",
            "Requirement already satisfied: kaleido>=0.2.1 in /usr/local/lib/python3.10/dist-packages (from pycaret) (0.2.1)\n",
            "Requirement already satisfied: schemdraw==0.15 in /usr/local/lib/python3.10/dist-packages (from pycaret) (0.15)\n",
            "Requirement already satisfied: plotly-resampler>=0.8.3.1 in /usr/local/lib/python3.10/dist-packages (from pycaret) (0.9.2)\n",
            "Requirement already satisfied: statsmodels>=0.12.1 in /usr/local/lib/python3.10/dist-packages (from pycaret) (0.14.1)\n",
            "Requirement already satisfied: sktime>=0.26.0 in /usr/local/lib/python3.10/dist-packages (from pycaret) (0.26.0)\n",
            "Requirement already satisfied: tbats>=1.1.3 in /usr/local/lib/python3.10/dist-packages (from pycaret) (1.1.3)\n",
            "Requirement already satisfied: pmdarima>=2.0.4 in /usr/local/lib/python3.10/dist-packages (from pycaret) (2.0.4)\n",
            "Requirement already satisfied: wurlitzer in /usr/local/lib/python3.10/dist-packages (from pycaret) (3.0.3)\n",
            "Requirement already satisfied: patsy>=0.5.1 in /usr/local/lib/python3.10/dist-packages (from category-encoders>=2.4.0->pycaret) (0.5.6)\n",
            "Requirement already satisfied: packaging in /usr/local/lib/python3.10/dist-packages (from deprecation>=2.1.0->pycaret) (23.2)\n",
            "Requirement already satisfied: threadpoolctl>=2.0.0 in /usr/local/lib/python3.10/dist-packages (from imbalanced-learn>=0.12.0->pycaret) (3.3.0)\n",
            "Requirement already satisfied: zipp>=0.5 in /usr/local/lib/python3.10/dist-packages (from importlib-metadata>=4.12.0->pycaret) (3.17.0)\n",
            "Requirement already satisfied: setuptools>=18.5 in /usr/local/lib/python3.10/dist-packages (from ipython>=5.5.0->pycaret) (67.7.2)\n",
            "Requirement already satisfied: jedi>=0.16 in /usr/local/lib/python3.10/dist-packages (from ipython>=5.5.0->pycaret) (0.19.1)\n",
            "Requirement already satisfied: decorator in /usr/local/lib/python3.10/dist-packages (from ipython>=5.5.0->pycaret) (4.4.2)\n",
            "Requirement already satisfied: pickleshare in /usr/local/lib/python3.10/dist-packages (from ipython>=5.5.0->pycaret) (0.7.5)\n",
            "Requirement already satisfied: traitlets>=4.2 in /usr/local/lib/python3.10/dist-packages (from ipython>=5.5.0->pycaret) (5.7.1)\n",
            "Requirement already satisfied: prompt-toolkit!=3.0.0,!=3.0.1,<3.1.0,>=2.0.0 in /usr/local/lib/python3.10/dist-packages (from ipython>=5.5.0->pycaret) (3.0.43)\n",
            "Requirement already satisfied: pygments in /usr/local/lib/python3.10/dist-packages (from ipython>=5.5.0->pycaret) (2.16.1)\n",
            "Requirement already satisfied: backcall in /usr/local/lib/python3.10/dist-packages (from ipython>=5.5.0->pycaret) (0.2.0)\n",
            "Requirement already satisfied: matplotlib-inline in /usr/local/lib/python3.10/dist-packages (from ipython>=5.5.0->pycaret) (0.1.6)\n",
            "Requirement already satisfied: pexpect>4.3 in /usr/local/lib/python3.10/dist-packages (from ipython>=5.5.0->pycaret) (4.9.0)\n",
            "Requirement already satisfied: ipykernel>=4.5.1 in /usr/local/lib/python3.10/dist-packages (from ipywidgets>=7.6.5->pycaret) (5.5.6)\n",
            "Requirement already satisfied: ipython-genutils~=0.2.0 in /usr/local/lib/python3.10/dist-packages (from ipywidgets>=7.6.5->pycaret) (0.2.0)\n",
            "Requirement already satisfied: widgetsnbextension~=3.6.0 in /usr/local/lib/python3.10/dist-packages (from ipywidgets>=7.6.5->pycaret) (3.6.6)\n",
            "Requirement already satisfied: jupyterlab-widgets>=1.0.0 in /usr/local/lib/python3.10/dist-packages (from ipywidgets>=7.6.5->pycaret) (3.0.10)\n",
            "Requirement already satisfied: contourpy>=1.0.1 in /usr/local/lib/python3.10/dist-packages (from matplotlib<3.8.0->pycaret) (1.2.0)\n",
            "Requirement already satisfied: cycler>=0.10 in /usr/local/lib/python3.10/dist-packages (from matplotlib<3.8.0->pycaret) (0.12.1)\n",
            "Requirement already satisfied: fonttools>=4.22.0 in /usr/local/lib/python3.10/dist-packages (from matplotlib<3.8.0->pycaret) (4.49.0)\n",
            "Requirement already satisfied: kiwisolver>=1.0.1 in /usr/local/lib/python3.10/dist-packages (from matplotlib<3.8.0->pycaret) (1.4.5)\n",
            "Requirement already satisfied: pillow>=6.2.0 in /usr/local/lib/python3.10/dist-packages (from matplotlib<3.8.0->pycaret) (9.4.0)\n",
            "Requirement already satisfied: pyparsing>=2.3.1 in /usr/local/lib/python3.10/dist-packages (from matplotlib<3.8.0->pycaret) (3.1.1)\n",
            "Requirement already satisfied: python-dateutil>=2.7 in /usr/local/lib/python3.10/dist-packages (from matplotlib<3.8.0->pycaret) (2.8.2)\n",
            "Requirement already satisfied: fastjsonschema in /usr/local/lib/python3.10/dist-packages (from nbformat>=4.2.0->pycaret) (2.19.1)\n",
            "Requirement already satisfied: jsonschema>=2.6 in /usr/local/lib/python3.10/dist-packages (from nbformat>=4.2.0->pycaret) (4.19.2)\n",
            "Requirement already satisfied: jupyter-core in /usr/local/lib/python3.10/dist-packages (from nbformat>=4.2.0->pycaret) (5.7.1)\n",
            "Requirement already satisfied: llvmlite<0.42,>=0.41.0dev0 in /usr/local/lib/python3.10/dist-packages (from numba>=0.55.0->pycaret) (0.41.1)\n",
            "Requirement already satisfied: pytz>=2020.1 in /usr/local/lib/python3.10/dist-packages (from pandas<2.2.0->pycaret) (2023.4)\n",
            "Requirement already satisfied: tenacity>=6.2.0 in /usr/local/lib/python3.10/dist-packages (from plotly>=5.14.0->pycaret) (8.2.3)\n",
            "Requirement already satisfied: dash>=2.9.0 in /usr/local/lib/python3.10/dist-packages (from plotly-resampler>=0.8.3.1->pycaret) (2.15.0)\n",
            "Requirement already satisfied: orjson<4.0.0,>=3.8.0 in /usr/local/lib/python3.10/dist-packages (from plotly-resampler>=0.8.3.1->pycaret) (3.9.15)\n",
            "Requirement already satisfied: tsdownsample==0.1.2 in /usr/local/lib/python3.10/dist-packages (from plotly-resampler>=0.8.3.1->pycaret) (0.1.2)\n",
            "Requirement already satisfied: Cython!=0.29.18,!=0.29.31,>=0.29 in /usr/local/lib/python3.10/dist-packages (from pmdarima>=2.0.4->pycaret) (3.0.8)\n",
            "Requirement already satisfied: urllib3 in /usr/local/lib/python3.10/dist-packages (from pmdarima>=2.0.4->pycaret) (2.0.7)\n",
            "Requirement already satisfied: six in /usr/local/lib/python3.10/dist-packages (from pyod>=1.1.3->pycaret) (1.16.0)\n",
            "Requirement already satisfied: charset-normalizer<4,>=2 in /usr/local/lib/python3.10/dist-packages (from requests>=2.27.1->pycaret) (3.3.2)\n",
            "Requirement already satisfied: idna<4,>=2.5 in /usr/local/lib/python3.10/dist-packages (from requests>=2.27.1->pycaret) (3.6)\n",
            "Requirement already satisfied: certifi>=2017.4.17 in /usr/local/lib/python3.10/dist-packages (from requests>=2.27.1->pycaret) (2024.2.2)\n",
            "Requirement already satisfied: scikit-base<0.8.0 in /usr/local/lib/python3.10/dist-packages (from sktime>=0.26.0->pycaret) (0.7.2)\n",
            "Requirement already satisfied: Flask<3.1,>=1.0.4 in /usr/local/lib/python3.10/dist-packages (from dash>=2.9.0->plotly-resampler>=0.8.3.1->pycaret) (2.2.5)\n",
            "Requirement already satisfied: Werkzeug<3.1 in /usr/local/lib/python3.10/dist-packages (from dash>=2.9.0->plotly-resampler>=0.8.3.1->pycaret) (3.0.1)\n",
            "Requirement already satisfied: dash-html-components==2.0.0 in /usr/local/lib/python3.10/dist-packages (from dash>=2.9.0->plotly-resampler>=0.8.3.1->pycaret) (2.0.0)\n",
            "Requirement already satisfied: dash-core-components==2.0.0 in /usr/local/lib/python3.10/dist-packages (from dash>=2.9.0->plotly-resampler>=0.8.3.1->pycaret) (2.0.0)\n",
            "Requirement already satisfied: dash-table==5.0.0 in /usr/local/lib/python3.10/dist-packages (from dash>=2.9.0->plotly-resampler>=0.8.3.1->pycaret) (5.0.0)\n",
            "Requirement already satisfied: typing-extensions>=4.1.1 in /usr/local/lib/python3.10/dist-packages (from dash>=2.9.0->plotly-resampler>=0.8.3.1->pycaret) (4.9.0)\n",
            "Requirement already satisfied: retrying in /usr/local/lib/python3.10/dist-packages (from dash>=2.9.0->plotly-resampler>=0.8.3.1->pycaret) (1.3.4)\n",
            "Requirement already satisfied: nest-asyncio in /usr/local/lib/python3.10/dist-packages (from dash>=2.9.0->plotly-resampler>=0.8.3.1->pycaret) (1.6.0)\n",
            "Requirement already satisfied: jupyter-client in /usr/local/lib/python3.10/dist-packages (from ipykernel>=4.5.1->ipywidgets>=7.6.5->pycaret) (6.1.12)\n",
            "Requirement already satisfied: tornado>=4.2 in /usr/local/lib/python3.10/dist-packages (from ipykernel>=4.5.1->ipywidgets>=7.6.5->pycaret) (6.3.2)\n",
            "Requirement already satisfied: parso<0.9.0,>=0.8.3 in /usr/local/lib/python3.10/dist-packages (from jedi>=0.16->ipython>=5.5.0->pycaret) (0.8.3)\n",
            "Requirement already satisfied: attrs>=22.2.0 in /usr/local/lib/python3.10/dist-packages (from jsonschema>=2.6->nbformat>=4.2.0->pycaret) (23.2.0)\n",
            "Requirement already satisfied: jsonschema-specifications>=2023.03.6 in /usr/local/lib/python3.10/dist-packages (from jsonschema>=2.6->nbformat>=4.2.0->pycaret) (2023.12.1)\n",
            "Requirement already satisfied: referencing>=0.28.4 in /usr/local/lib/python3.10/dist-packages (from jsonschema>=2.6->nbformat>=4.2.0->pycaret) (0.33.0)\n",
            "Requirement already satisfied: rpds-py>=0.7.1 in /usr/local/lib/python3.10/dist-packages (from jsonschema>=2.6->nbformat>=4.2.0->pycaret) (0.18.0)\n",
            "Requirement already satisfied: ptyprocess>=0.5 in /usr/local/lib/python3.10/dist-packages (from pexpect>4.3->ipython>=5.5.0->pycaret) (0.7.0)\n",
            "Requirement already satisfied: wcwidth in /usr/local/lib/python3.10/dist-packages (from prompt-toolkit!=3.0.0,!=3.0.1,<3.1.0,>=2.0.0->ipython>=5.5.0->pycaret) (0.2.13)\n",
            "Requirement already satisfied: notebook>=4.4.1 in /usr/local/lib/python3.10/dist-packages (from widgetsnbextension~=3.6.0->ipywidgets>=7.6.5->pycaret) (6.5.5)\n",
            "Requirement already satisfied: platformdirs>=2.5 in /usr/local/lib/python3.10/dist-packages (from jupyter-core->nbformat>=4.2.0->pycaret) (4.2.0)\n",
            "Requirement already satisfied: itsdangerous>=2.0 in /usr/local/lib/python3.10/dist-packages (from Flask<3.1,>=1.0.4->dash>=2.9.0->plotly-resampler>=0.8.3.1->pycaret) (2.1.2)\n",
            "Requirement already satisfied: click>=8.0 in /usr/local/lib/python3.10/dist-packages (from Flask<3.1,>=1.0.4->dash>=2.9.0->plotly-resampler>=0.8.3.1->pycaret) (8.1.7)\n",
            "Requirement already satisfied: pyzmq<25,>=17 in /usr/local/lib/python3.10/dist-packages (from notebook>=4.4.1->widgetsnbextension~=3.6.0->ipywidgets>=7.6.5->pycaret) (23.2.1)\n",
            "Requirement already satisfied: argon2-cffi in /usr/local/lib/python3.10/dist-packages (from notebook>=4.4.1->widgetsnbextension~=3.6.0->ipywidgets>=7.6.5->pycaret) (23.1.0)\n",
            "Requirement already satisfied: nbconvert>=5 in /usr/local/lib/python3.10/dist-packages (from notebook>=4.4.1->widgetsnbextension~=3.6.0->ipywidgets>=7.6.5->pycaret) (6.5.4)\n",
            "Requirement already satisfied: Send2Trash>=1.8.0 in /usr/local/lib/python3.10/dist-packages (from notebook>=4.4.1->widgetsnbextension~=3.6.0->ipywidgets>=7.6.5->pycaret) (1.8.2)\n",
            "Requirement already satisfied: terminado>=0.8.3 in /usr/local/lib/python3.10/dist-packages (from notebook>=4.4.1->widgetsnbextension~=3.6.0->ipywidgets>=7.6.5->pycaret) (0.18.0)\n",
            "Requirement already satisfied: prometheus-client in /usr/local/lib/python3.10/dist-packages (from notebook>=4.4.1->widgetsnbextension~=3.6.0->ipywidgets>=7.6.5->pycaret) (0.20.0)\n",
            "Requirement already satisfied: nbclassic>=0.4.7 in /usr/local/lib/python3.10/dist-packages (from notebook>=4.4.1->widgetsnbextension~=3.6.0->ipywidgets>=7.6.5->pycaret) (1.0.0)\n",
            "Requirement already satisfied: jupyter-server>=1.8 in /usr/local/lib/python3.10/dist-packages (from nbclassic>=0.4.7->notebook>=4.4.1->widgetsnbextension~=3.6.0->ipywidgets>=7.6.5->pycaret) (1.24.0)\n",
            "Requirement already satisfied: notebook-shim>=0.2.3 in /usr/local/lib/python3.10/dist-packages (from nbclassic>=0.4.7->notebook>=4.4.1->widgetsnbextension~=3.6.0->ipywidgets>=7.6.5->pycaret) (0.2.4)\n",
            "Requirement already satisfied: lxml in /usr/local/lib/python3.10/dist-packages (from nbconvert>=5->notebook>=4.4.1->widgetsnbextension~=3.6.0->ipywidgets>=7.6.5->pycaret) (4.9.4)\n",
            "Requirement already satisfied: beautifulsoup4 in /usr/local/lib/python3.10/dist-packages (from nbconvert>=5->notebook>=4.4.1->widgetsnbextension~=3.6.0->ipywidgets>=7.6.5->pycaret) (4.12.3)\n",
            "Requirement already satisfied: bleach in /usr/local/lib/python3.10/dist-packages (from nbconvert>=5->notebook>=4.4.1->widgetsnbextension~=3.6.0->ipywidgets>=7.6.5->pycaret) (6.1.0)\n",
            "Requirement already satisfied: defusedxml in /usr/local/lib/python3.10/dist-packages (from nbconvert>=5->notebook>=4.4.1->widgetsnbextension~=3.6.0->ipywidgets>=7.6.5->pycaret) (0.7.1)\n",
            "Requirement already satisfied: entrypoints>=0.2.2 in /usr/local/lib/python3.10/dist-packages (from nbconvert>=5->notebook>=4.4.1->widgetsnbextension~=3.6.0->ipywidgets>=7.6.5->pycaret) (0.4)\n",
            "Requirement already satisfied: jupyterlab-pygments in /usr/local/lib/python3.10/dist-packages (from nbconvert>=5->notebook>=4.4.1->widgetsnbextension~=3.6.0->ipywidgets>=7.6.5->pycaret) (0.3.0)\n",
            "Requirement already satisfied: mistune<2,>=0.8.1 in /usr/local/lib/python3.10/dist-packages (from nbconvert>=5->notebook>=4.4.1->widgetsnbextension~=3.6.0->ipywidgets>=7.6.5->pycaret) (0.8.4)\n",
            "Requirement already satisfied: nbclient>=0.5.0 in /usr/local/lib/python3.10/dist-packages (from nbconvert>=5->notebook>=4.4.1->widgetsnbextension~=3.6.0->ipywidgets>=7.6.5->pycaret) (0.9.0)\n",
            "Requirement already satisfied: pandocfilters>=1.4.1 in /usr/local/lib/python3.10/dist-packages (from nbconvert>=5->notebook>=4.4.1->widgetsnbextension~=3.6.0->ipywidgets>=7.6.5->pycaret) (1.5.1)\n",
            "Requirement already satisfied: tinycss2 in /usr/local/lib/python3.10/dist-packages (from nbconvert>=5->notebook>=4.4.1->widgetsnbextension~=3.6.0->ipywidgets>=7.6.5->pycaret) (1.2.1)\n",
            "Requirement already satisfied: argon2-cffi-bindings in /usr/local/lib/python3.10/dist-packages (from argon2-cffi->notebook>=4.4.1->widgetsnbextension~=3.6.0->ipywidgets>=7.6.5->pycaret) (21.2.0)\n",
            "Requirement already satisfied: anyio<4,>=3.1.0 in /usr/local/lib/python3.10/dist-packages (from jupyter-server>=1.8->nbclassic>=0.4.7->notebook>=4.4.1->widgetsnbextension~=3.6.0->ipywidgets>=7.6.5->pycaret) (3.7.1)\n",
            "Requirement already satisfied: websocket-client in /usr/local/lib/python3.10/dist-packages (from jupyter-server>=1.8->nbclassic>=0.4.7->notebook>=4.4.1->widgetsnbextension~=3.6.0->ipywidgets>=7.6.5->pycaret) (1.7.0)\n",
            "Requirement already satisfied: cffi>=1.0.1 in /usr/local/lib/python3.10/dist-packages (from argon2-cffi-bindings->argon2-cffi->notebook>=4.4.1->widgetsnbextension~=3.6.0->ipywidgets>=7.6.5->pycaret) (1.16.0)\n",
            "Requirement already satisfied: soupsieve>1.2 in /usr/local/lib/python3.10/dist-packages (from beautifulsoup4->nbconvert>=5->notebook>=4.4.1->widgetsnbextension~=3.6.0->ipywidgets>=7.6.5->pycaret) (2.5)\n",
            "Requirement already satisfied: webencodings in /usr/local/lib/python3.10/dist-packages (from bleach->nbconvert>=5->notebook>=4.4.1->widgetsnbextension~=3.6.0->ipywidgets>=7.6.5->pycaret) (0.5.1)\n",
            "Requirement already satisfied: sniffio>=1.1 in /usr/local/lib/python3.10/dist-packages (from anyio<4,>=3.1.0->jupyter-server>=1.8->nbclassic>=0.4.7->notebook>=4.4.1->widgetsnbextension~=3.6.0->ipywidgets>=7.6.5->pycaret) (1.3.0)\n",
            "Requirement already satisfied: exceptiongroup in /usr/local/lib/python3.10/dist-packages (from anyio<4,>=3.1.0->jupyter-server>=1.8->nbclassic>=0.4.7->notebook>=4.4.1->widgetsnbextension~=3.6.0->ipywidgets>=7.6.5->pycaret) (1.2.0)\n",
            "Requirement already satisfied: pycparser in /usr/local/lib/python3.10/dist-packages (from cffi>=1.0.1->argon2-cffi-bindings->argon2-cffi->notebook>=4.4.1->widgetsnbextension~=3.6.0->ipywidgets>=7.6.5->pycaret) (2.21)\n"
          ]
        }
      ]
    },
    {
      "cell_type": "code",
      "source": [
        "import pandas as pd\n",
        "from pycaret.classification import *\n",
        "\n",
        "# Carga de datos\n",
        "data = pd.read_csv('/content/drive/MyDrive/PDG2/Datasets/Internet_firewall_data.csv')"
      ],
      "metadata": {
        "id": "WJ59EE5txHiZ"
      },
      "execution_count": null,
      "outputs": []
    },
    {
      "cell_type": "code",
      "source": [
        "from sklearn.model_selection import train_test_split\n",
        "\n",
        "train_data, test_data = train_test_split(data, test_size=0.2, random_state=42)"
      ],
      "metadata": {
        "id": "z4oqphELxdTE"
      },
      "execution_count": null,
      "outputs": []
    },
    {
      "cell_type": "code",
      "source": [
        "# Configuración de PyCaret\n",
        "setup(train_data, target='Action')"
      ],
      "metadata": {
        "colab": {
          "base_uri": "https://localhost:8080/",
          "height": 663
        },
        "id": "Vc9pQHINxMT6",
        "outputId": "222af051-25b2-4338-b336-3655865c27fd"
      },
      "execution_count": null,
      "outputs": [
        {
          "output_type": "display_data",
          "data": {
            "text/plain": [
              "<pandas.io.formats.style.Styler at 0x7e045e562b90>"
            ],
            "text/html": [
              "<style type=\"text/css\">\n",
              "#T_f8cc2_row8_col1 {\n",
              "  background-color: lightgreen;\n",
              "}\n",
              "</style>\n",
              "<table id=\"T_f8cc2\" class=\"dataframe\">\n",
              "  <thead>\n",
              "    <tr>\n",
              "      <th class=\"blank level0\" >&nbsp;</th>\n",
              "      <th id=\"T_f8cc2_level0_col0\" class=\"col_heading level0 col0\" >Description</th>\n",
              "      <th id=\"T_f8cc2_level0_col1\" class=\"col_heading level0 col1\" >Value</th>\n",
              "    </tr>\n",
              "  </thead>\n",
              "  <tbody>\n",
              "    <tr>\n",
              "      <th id=\"T_f8cc2_level0_row0\" class=\"row_heading level0 row0\" >0</th>\n",
              "      <td id=\"T_f8cc2_row0_col0\" class=\"data row0 col0\" >Session id</td>\n",
              "      <td id=\"T_f8cc2_row0_col1\" class=\"data row0 col1\" >8727</td>\n",
              "    </tr>\n",
              "    <tr>\n",
              "      <th id=\"T_f8cc2_level0_row1\" class=\"row_heading level0 row1\" >1</th>\n",
              "      <td id=\"T_f8cc2_row1_col0\" class=\"data row1 col0\" >Target</td>\n",
              "      <td id=\"T_f8cc2_row1_col1\" class=\"data row1 col1\" >Action</td>\n",
              "    </tr>\n",
              "    <tr>\n",
              "      <th id=\"T_f8cc2_level0_row2\" class=\"row_heading level0 row2\" >2</th>\n",
              "      <td id=\"T_f8cc2_row2_col0\" class=\"data row2 col0\" >Target type</td>\n",
              "      <td id=\"T_f8cc2_row2_col1\" class=\"data row2 col1\" >Multiclass</td>\n",
              "    </tr>\n",
              "    <tr>\n",
              "      <th id=\"T_f8cc2_level0_row3\" class=\"row_heading level0 row3\" >3</th>\n",
              "      <td id=\"T_f8cc2_row3_col0\" class=\"data row3 col0\" >Original data shape</td>\n",
              "      <td id=\"T_f8cc2_row3_col1\" class=\"data row3 col1\" >(52425, 7)</td>\n",
              "    </tr>\n",
              "    <tr>\n",
              "      <th id=\"T_f8cc2_level0_row4\" class=\"row_heading level0 row4\" >4</th>\n",
              "      <td id=\"T_f8cc2_row4_col0\" class=\"data row4 col0\" >Transformed data shape</td>\n",
              "      <td id=\"T_f8cc2_row4_col1\" class=\"data row4 col1\" >(52425, 7)</td>\n",
              "    </tr>\n",
              "    <tr>\n",
              "      <th id=\"T_f8cc2_level0_row5\" class=\"row_heading level0 row5\" >5</th>\n",
              "      <td id=\"T_f8cc2_row5_col0\" class=\"data row5 col0\" >Transformed train set shape</td>\n",
              "      <td id=\"T_f8cc2_row5_col1\" class=\"data row5 col1\" >(36697, 7)</td>\n",
              "    </tr>\n",
              "    <tr>\n",
              "      <th id=\"T_f8cc2_level0_row6\" class=\"row_heading level0 row6\" >6</th>\n",
              "      <td id=\"T_f8cc2_row6_col0\" class=\"data row6 col0\" >Transformed test set shape</td>\n",
              "      <td id=\"T_f8cc2_row6_col1\" class=\"data row6 col1\" >(15728, 7)</td>\n",
              "    </tr>\n",
              "    <tr>\n",
              "      <th id=\"T_f8cc2_level0_row7\" class=\"row_heading level0 row7\" >7</th>\n",
              "      <td id=\"T_f8cc2_row7_col0\" class=\"data row7 col0\" >Numeric features</td>\n",
              "      <td id=\"T_f8cc2_row7_col1\" class=\"data row7 col1\" >6</td>\n",
              "    </tr>\n",
              "    <tr>\n",
              "      <th id=\"T_f8cc2_level0_row8\" class=\"row_heading level0 row8\" >8</th>\n",
              "      <td id=\"T_f8cc2_row8_col0\" class=\"data row8 col0\" >Preprocess</td>\n",
              "      <td id=\"T_f8cc2_row8_col1\" class=\"data row8 col1\" >True</td>\n",
              "    </tr>\n",
              "    <tr>\n",
              "      <th id=\"T_f8cc2_level0_row9\" class=\"row_heading level0 row9\" >9</th>\n",
              "      <td id=\"T_f8cc2_row9_col0\" class=\"data row9 col0\" >Imputation type</td>\n",
              "      <td id=\"T_f8cc2_row9_col1\" class=\"data row9 col1\" >simple</td>\n",
              "    </tr>\n",
              "    <tr>\n",
              "      <th id=\"T_f8cc2_level0_row10\" class=\"row_heading level0 row10\" >10</th>\n",
              "      <td id=\"T_f8cc2_row10_col0\" class=\"data row10 col0\" >Numeric imputation</td>\n",
              "      <td id=\"T_f8cc2_row10_col1\" class=\"data row10 col1\" >mean</td>\n",
              "    </tr>\n",
              "    <tr>\n",
              "      <th id=\"T_f8cc2_level0_row11\" class=\"row_heading level0 row11\" >11</th>\n",
              "      <td id=\"T_f8cc2_row11_col0\" class=\"data row11 col0\" >Categorical imputation</td>\n",
              "      <td id=\"T_f8cc2_row11_col1\" class=\"data row11 col1\" >mode</td>\n",
              "    </tr>\n",
              "    <tr>\n",
              "      <th id=\"T_f8cc2_level0_row12\" class=\"row_heading level0 row12\" >12</th>\n",
              "      <td id=\"T_f8cc2_row12_col0\" class=\"data row12 col0\" >Fold Generator</td>\n",
              "      <td id=\"T_f8cc2_row12_col1\" class=\"data row12 col1\" >StratifiedKFold</td>\n",
              "    </tr>\n",
              "    <tr>\n",
              "      <th id=\"T_f8cc2_level0_row13\" class=\"row_heading level0 row13\" >13</th>\n",
              "      <td id=\"T_f8cc2_row13_col0\" class=\"data row13 col0\" >Fold Number</td>\n",
              "      <td id=\"T_f8cc2_row13_col1\" class=\"data row13 col1\" >10</td>\n",
              "    </tr>\n",
              "    <tr>\n",
              "      <th id=\"T_f8cc2_level0_row14\" class=\"row_heading level0 row14\" >14</th>\n",
              "      <td id=\"T_f8cc2_row14_col0\" class=\"data row14 col0\" >CPU Jobs</td>\n",
              "      <td id=\"T_f8cc2_row14_col1\" class=\"data row14 col1\" >-1</td>\n",
              "    </tr>\n",
              "    <tr>\n",
              "      <th id=\"T_f8cc2_level0_row15\" class=\"row_heading level0 row15\" >15</th>\n",
              "      <td id=\"T_f8cc2_row15_col0\" class=\"data row15 col0\" >Use GPU</td>\n",
              "      <td id=\"T_f8cc2_row15_col1\" class=\"data row15 col1\" >False</td>\n",
              "    </tr>\n",
              "    <tr>\n",
              "      <th id=\"T_f8cc2_level0_row16\" class=\"row_heading level0 row16\" >16</th>\n",
              "      <td id=\"T_f8cc2_row16_col0\" class=\"data row16 col0\" >Log Experiment</td>\n",
              "      <td id=\"T_f8cc2_row16_col1\" class=\"data row16 col1\" >False</td>\n",
              "    </tr>\n",
              "    <tr>\n",
              "      <th id=\"T_f8cc2_level0_row17\" class=\"row_heading level0 row17\" >17</th>\n",
              "      <td id=\"T_f8cc2_row17_col0\" class=\"data row17 col0\" >Experiment Name</td>\n",
              "      <td id=\"T_f8cc2_row17_col1\" class=\"data row17 col1\" >clf-default-name</td>\n",
              "    </tr>\n",
              "    <tr>\n",
              "      <th id=\"T_f8cc2_level0_row18\" class=\"row_heading level0 row18\" >18</th>\n",
              "      <td id=\"T_f8cc2_row18_col0\" class=\"data row18 col0\" >USI</td>\n",
              "      <td id=\"T_f8cc2_row18_col1\" class=\"data row18 col1\" >794f</td>\n",
              "    </tr>\n",
              "  </tbody>\n",
              "</table>\n"
            ]
          },
          "metadata": {}
        },
        {
          "output_type": "execute_result",
          "data": {
            "text/plain": [
              "<pycaret.classification.oop.ClassificationExperiment at 0x7e04811f3df0>"
            ]
          },
          "metadata": {},
          "execution_count": 5
        }
      ]
    },
    {
      "cell_type": "code",
      "source": [
        "# Comparación de modelos\n",
        "best_model = compare_models()\n"
      ],
      "metadata": {
        "colab": {
          "base_uri": "https://localhost:8080/",
          "height": 520,
          "referenced_widgets": [
            "71c25dafc4704ae4b1146a856dfa1539",
            "846c929f0f88469b812ebf1cc531fb3a",
            "74e3cfc623fb42f3bdd428084a35312d",
            "e06802da236a41ff8467f4ac031864ae",
            "3713ca51fbfb4a2798751c76bbf2124a",
            "9dc08bcdf0ed41759b93fe7227f64455",
            "e6018f2dc0f540b1934a16553307785e",
            "ac9793ebc47941a2a4efc8cf537c1035",
            "ed7436dd37b548b39571e265f65faee0",
            "cfcc8fb639154ed890a239a9eb46c842",
            "4a80ac400e6d4a7395b957425bf63421"
          ]
        },
        "id": "s-MF1EUDxL-U",
        "outputId": "e22dd12d-b792-4428-ead0-69869b86f686"
      },
      "execution_count": null,
      "outputs": [
        {
          "output_type": "display_data",
          "data": {
            "text/plain": [
              "<IPython.core.display.HTML object>"
            ],
            "text/html": []
          },
          "metadata": {}
        },
        {
          "output_type": "display_data",
          "data": {
            "text/plain": [
              "<pandas.io.formats.style.Styler at 0x7e04804853c0>"
            ],
            "text/html": [
              "<style type=\"text/css\">\n",
              "#T_2bf42 th {\n",
              "  text-align: left;\n",
              "}\n",
              "#T_2bf42_row0_col0, #T_2bf42_row0_col2, #T_2bf42_row1_col0, #T_2bf42_row1_col1, #T_2bf42_row1_col3, #T_2bf42_row1_col4, #T_2bf42_row1_col5, #T_2bf42_row1_col6, #T_2bf42_row1_col7, #T_2bf42_row2_col0, #T_2bf42_row2_col1, #T_2bf42_row2_col2, #T_2bf42_row2_col3, #T_2bf42_row2_col4, #T_2bf42_row2_col5, #T_2bf42_row2_col6, #T_2bf42_row2_col7, #T_2bf42_row3_col0, #T_2bf42_row3_col1, #T_2bf42_row3_col2, #T_2bf42_row3_col3, #T_2bf42_row3_col4, #T_2bf42_row3_col5, #T_2bf42_row3_col6, #T_2bf42_row3_col7, #T_2bf42_row4_col0, #T_2bf42_row4_col1, #T_2bf42_row4_col2, #T_2bf42_row4_col3, #T_2bf42_row4_col4, #T_2bf42_row4_col5, #T_2bf42_row4_col6, #T_2bf42_row4_col7, #T_2bf42_row5_col0, #T_2bf42_row5_col1, #T_2bf42_row5_col2, #T_2bf42_row5_col3, #T_2bf42_row5_col4, #T_2bf42_row5_col5, #T_2bf42_row5_col6, #T_2bf42_row5_col7, #T_2bf42_row6_col0, #T_2bf42_row6_col1, #T_2bf42_row6_col2, #T_2bf42_row6_col3, #T_2bf42_row6_col4, #T_2bf42_row6_col5, #T_2bf42_row6_col6, #T_2bf42_row6_col7, #T_2bf42_row7_col0, #T_2bf42_row7_col1, #T_2bf42_row7_col2, #T_2bf42_row7_col3, #T_2bf42_row7_col4, #T_2bf42_row7_col5, #T_2bf42_row7_col6, #T_2bf42_row7_col7, #T_2bf42_row8_col0, #T_2bf42_row8_col1, #T_2bf42_row8_col2, #T_2bf42_row8_col3, #T_2bf42_row8_col4, #T_2bf42_row8_col5, #T_2bf42_row8_col6, #T_2bf42_row8_col7, #T_2bf42_row9_col0, #T_2bf42_row9_col1, #T_2bf42_row9_col2, #T_2bf42_row9_col3, #T_2bf42_row9_col4, #T_2bf42_row9_col5, #T_2bf42_row9_col6, #T_2bf42_row9_col7, #T_2bf42_row10_col0, #T_2bf42_row10_col1, #T_2bf42_row10_col2, #T_2bf42_row10_col3, #T_2bf42_row10_col4, #T_2bf42_row10_col5, #T_2bf42_row10_col6, #T_2bf42_row10_col7, #T_2bf42_row11_col0, #T_2bf42_row11_col1, #T_2bf42_row11_col2, #T_2bf42_row11_col3, #T_2bf42_row11_col4, #T_2bf42_row11_col5, #T_2bf42_row11_col6, #T_2bf42_row11_col7, #T_2bf42_row12_col0, #T_2bf42_row12_col1, #T_2bf42_row12_col2, #T_2bf42_row12_col3, #T_2bf42_row12_col4, #T_2bf42_row12_col5, #T_2bf42_row12_col6, #T_2bf42_row12_col7, #T_2bf42_row13_col0, #T_2bf42_row13_col1, #T_2bf42_row13_col2, #T_2bf42_row13_col3, #T_2bf42_row13_col4, #T_2bf42_row13_col5, #T_2bf42_row13_col6, #T_2bf42_row13_col7, #T_2bf42_row14_col0, #T_2bf42_row14_col1, #T_2bf42_row14_col2, #T_2bf42_row14_col3, #T_2bf42_row14_col4, #T_2bf42_row14_col5, #T_2bf42_row14_col6, #T_2bf42_row14_col7 {\n",
              "  text-align: left;\n",
              "}\n",
              "#T_2bf42_row0_col1, #T_2bf42_row0_col3, #T_2bf42_row0_col4, #T_2bf42_row0_col5, #T_2bf42_row0_col6, #T_2bf42_row0_col7, #T_2bf42_row1_col2 {\n",
              "  text-align: left;\n",
              "  background-color: yellow;\n",
              "}\n",
              "#T_2bf42_row0_col8, #T_2bf42_row1_col8, #T_2bf42_row2_col8, #T_2bf42_row3_col8, #T_2bf42_row4_col8, #T_2bf42_row5_col8, #T_2bf42_row6_col8, #T_2bf42_row7_col8, #T_2bf42_row8_col8, #T_2bf42_row9_col8, #T_2bf42_row10_col8, #T_2bf42_row11_col8, #T_2bf42_row12_col8, #T_2bf42_row14_col8 {\n",
              "  text-align: left;\n",
              "  background-color: lightgrey;\n",
              "}\n",
              "#T_2bf42_row13_col8 {\n",
              "  text-align: left;\n",
              "  background-color: yellow;\n",
              "  background-color: lightgrey;\n",
              "}\n",
              "</style>\n",
              "<table id=\"T_2bf42\" class=\"dataframe\">\n",
              "  <thead>\n",
              "    <tr>\n",
              "      <th class=\"blank level0\" >&nbsp;</th>\n",
              "      <th id=\"T_2bf42_level0_col0\" class=\"col_heading level0 col0\" >Model</th>\n",
              "      <th id=\"T_2bf42_level0_col1\" class=\"col_heading level0 col1\" >Accuracy</th>\n",
              "      <th id=\"T_2bf42_level0_col2\" class=\"col_heading level0 col2\" >AUC</th>\n",
              "      <th id=\"T_2bf42_level0_col3\" class=\"col_heading level0 col3\" >Recall</th>\n",
              "      <th id=\"T_2bf42_level0_col4\" class=\"col_heading level0 col4\" >Prec.</th>\n",
              "      <th id=\"T_2bf42_level0_col5\" class=\"col_heading level0 col5\" >F1</th>\n",
              "      <th id=\"T_2bf42_level0_col6\" class=\"col_heading level0 col6\" >Kappa</th>\n",
              "      <th id=\"T_2bf42_level0_col7\" class=\"col_heading level0 col7\" >MCC</th>\n",
              "      <th id=\"T_2bf42_level0_col8\" class=\"col_heading level0 col8\" >TT (Sec)</th>\n",
              "    </tr>\n",
              "  </thead>\n",
              "  <tbody>\n",
              "    <tr>\n",
              "      <th id=\"T_2bf42_level0_row0\" class=\"row_heading level0 row0\" >lightgbm</th>\n",
              "      <td id=\"T_2bf42_row0_col0\" class=\"data row0 col0\" >Light Gradient Boosting Machine</td>\n",
              "      <td id=\"T_2bf42_row0_col1\" class=\"data row0 col1\" >0.9985</td>\n",
              "      <td id=\"T_2bf42_row0_col2\" class=\"data row0 col2\" >0.9997</td>\n",
              "      <td id=\"T_2bf42_row0_col3\" class=\"data row0 col3\" >0.9985</td>\n",
              "      <td id=\"T_2bf42_row0_col4\" class=\"data row0 col4\" >0.9984</td>\n",
              "      <td id=\"T_2bf42_row0_col5\" class=\"data row0 col5\" >0.9984</td>\n",
              "      <td id=\"T_2bf42_row0_col6\" class=\"data row0 col6\" >0.9974</td>\n",
              "      <td id=\"T_2bf42_row0_col7\" class=\"data row0 col7\" >0.9974</td>\n",
              "      <td id=\"T_2bf42_row0_col8\" class=\"data row0 col8\" >8.2660</td>\n",
              "    </tr>\n",
              "    <tr>\n",
              "      <th id=\"T_2bf42_level0_row1\" class=\"row_heading level0 row1\" >xgboost</th>\n",
              "      <td id=\"T_2bf42_row1_col0\" class=\"data row1 col0\" >Extreme Gradient Boosting</td>\n",
              "      <td id=\"T_2bf42_row1_col1\" class=\"data row1 col1\" >0.9984</td>\n",
              "      <td id=\"T_2bf42_row1_col2\" class=\"data row1 col2\" >0.9998</td>\n",
              "      <td id=\"T_2bf42_row1_col3\" class=\"data row1 col3\" >0.9984</td>\n",
              "      <td id=\"T_2bf42_row1_col4\" class=\"data row1 col4\" >0.9980</td>\n",
              "      <td id=\"T_2bf42_row1_col5\" class=\"data row1 col5\" >0.9982</td>\n",
              "      <td id=\"T_2bf42_row1_col6\" class=\"data row1 col6\" >0.9972</td>\n",
              "      <td id=\"T_2bf42_row1_col7\" class=\"data row1 col7\" >0.9972</td>\n",
              "      <td id=\"T_2bf42_row1_col8\" class=\"data row1 col8\" >1.2080</td>\n",
              "    </tr>\n",
              "    <tr>\n",
              "      <th id=\"T_2bf42_level0_row2\" class=\"row_heading level0 row2\" >rf</th>\n",
              "      <td id=\"T_2bf42_row2_col0\" class=\"data row2 col0\" >Random Forest Classifier</td>\n",
              "      <td id=\"T_2bf42_row2_col1\" class=\"data row2 col1\" >0.9983</td>\n",
              "      <td id=\"T_2bf42_row2_col2\" class=\"data row2 col2\" >0.9996</td>\n",
              "      <td id=\"T_2bf42_row2_col3\" class=\"data row2 col3\" >0.9983</td>\n",
              "      <td id=\"T_2bf42_row2_col4\" class=\"data row2 col4\" >0.9979</td>\n",
              "      <td id=\"T_2bf42_row2_col5\" class=\"data row2 col5\" >0.9980</td>\n",
              "      <td id=\"T_2bf42_row2_col6\" class=\"data row2 col6\" >0.9970</td>\n",
              "      <td id=\"T_2bf42_row2_col7\" class=\"data row2 col7\" >0.9970</td>\n",
              "      <td id=\"T_2bf42_row2_col8\" class=\"data row2 col8\" >2.0120</td>\n",
              "    </tr>\n",
              "    <tr>\n",
              "      <th id=\"T_2bf42_level0_row3\" class=\"row_heading level0 row3\" >et</th>\n",
              "      <td id=\"T_2bf42_row3_col0\" class=\"data row3 col0\" >Extra Trees Classifier</td>\n",
              "      <td id=\"T_2bf42_row3_col1\" class=\"data row3 col1\" >0.9979</td>\n",
              "      <td id=\"T_2bf42_row3_col2\" class=\"data row3 col2\" >0.9995</td>\n",
              "      <td id=\"T_2bf42_row3_col3\" class=\"data row3 col3\" >0.9979</td>\n",
              "      <td id=\"T_2bf42_row3_col4\" class=\"data row3 col4\" >0.9973</td>\n",
              "      <td id=\"T_2bf42_row3_col5\" class=\"data row3 col5\" >0.9976</td>\n",
              "      <td id=\"T_2bf42_row3_col6\" class=\"data row3 col6\" >0.9964</td>\n",
              "      <td id=\"T_2bf42_row3_col7\" class=\"data row3 col7\" >0.9964</td>\n",
              "      <td id=\"T_2bf42_row3_col8\" class=\"data row3 col8\" >1.4570</td>\n",
              "    </tr>\n",
              "    <tr>\n",
              "      <th id=\"T_2bf42_level0_row4\" class=\"row_heading level0 row4\" >dt</th>\n",
              "      <td id=\"T_2bf42_row4_col0\" class=\"data row4 col0\" >Decision Tree Classifier</td>\n",
              "      <td id=\"T_2bf42_row4_col1\" class=\"data row4 col1\" >0.9978</td>\n",
              "      <td id=\"T_2bf42_row4_col2\" class=\"data row4 col2\" >0.9987</td>\n",
              "      <td id=\"T_2bf42_row4_col3\" class=\"data row4 col3\" >0.9978</td>\n",
              "      <td id=\"T_2bf42_row4_col4\" class=\"data row4 col4\" >0.9978</td>\n",
              "      <td id=\"T_2bf42_row4_col5\" class=\"data row4 col5\" >0.9978</td>\n",
              "      <td id=\"T_2bf42_row4_col6\" class=\"data row4 col6\" >0.9962</td>\n",
              "      <td id=\"T_2bf42_row4_col7\" class=\"data row4 col7\" >0.9962</td>\n",
              "      <td id=\"T_2bf42_row4_col8\" class=\"data row4 col8\" >0.0840</td>\n",
              "    </tr>\n",
              "    <tr>\n",
              "      <th id=\"T_2bf42_level0_row5\" class=\"row_heading level0 row5\" >gbc</th>\n",
              "      <td id=\"T_2bf42_row5_col0\" class=\"data row5 col0\" >Gradient Boosting Classifier</td>\n",
              "      <td id=\"T_2bf42_row5_col1\" class=\"data row5 col1\" >0.9960</td>\n",
              "      <td id=\"T_2bf42_row5_col2\" class=\"data row5 col2\" >0.9977</td>\n",
              "      <td id=\"T_2bf42_row5_col3\" class=\"data row5 col3\" >0.9960</td>\n",
              "      <td id=\"T_2bf42_row5_col4\" class=\"data row5 col4\" >0.9960</td>\n",
              "      <td id=\"T_2bf42_row5_col5\" class=\"data row5 col5\" >0.9959</td>\n",
              "      <td id=\"T_2bf42_row5_col6\" class=\"data row5 col6\" >0.9931</td>\n",
              "      <td id=\"T_2bf42_row5_col7\" class=\"data row5 col7\" >0.9932</td>\n",
              "      <td id=\"T_2bf42_row5_col8\" class=\"data row5 col8\" >13.1650</td>\n",
              "    </tr>\n",
              "    <tr>\n",
              "      <th id=\"T_2bf42_level0_row6\" class=\"row_heading level0 row6\" >lr</th>\n",
              "      <td id=\"T_2bf42_row6_col0\" class=\"data row6 col0\" >Logistic Regression</td>\n",
              "      <td id=\"T_2bf42_row6_col1\" class=\"data row6 col1\" >0.9893</td>\n",
              "      <td id=\"T_2bf42_row6_col2\" class=\"data row6 col2\" >0.9980</td>\n",
              "      <td id=\"T_2bf42_row6_col3\" class=\"data row6 col3\" >0.9893</td>\n",
              "      <td id=\"T_2bf42_row6_col4\" class=\"data row6 col4\" >0.9887</td>\n",
              "      <td id=\"T_2bf42_row6_col5\" class=\"data row6 col5\" >0.9888</td>\n",
              "      <td id=\"T_2bf42_row6_col6\" class=\"data row6 col6\" >0.9815</td>\n",
              "      <td id=\"T_2bf42_row6_col7\" class=\"data row6 col7\" >0.9816</td>\n",
              "      <td id=\"T_2bf42_row6_col8\" class=\"data row6 col8\" >7.1900</td>\n",
              "    </tr>\n",
              "    <tr>\n",
              "      <th id=\"T_2bf42_level0_row7\" class=\"row_heading level0 row7\" >ada</th>\n",
              "      <td id=\"T_2bf42_row7_col0\" class=\"data row7 col0\" >Ada Boost Classifier</td>\n",
              "      <td id=\"T_2bf42_row7_col1\" class=\"data row7 col1\" >0.9880</td>\n",
              "      <td id=\"T_2bf42_row7_col2\" class=\"data row7 col2\" >0.9942</td>\n",
              "      <td id=\"T_2bf42_row7_col3\" class=\"data row7 col3\" >0.9880</td>\n",
              "      <td id=\"T_2bf42_row7_col4\" class=\"data row7 col4\" >0.9951</td>\n",
              "      <td id=\"T_2bf42_row7_col5\" class=\"data row7 col5\" >0.9912</td>\n",
              "      <td id=\"T_2bf42_row7_col6\" class=\"data row7 col6\" >0.9806</td>\n",
              "      <td id=\"T_2bf42_row7_col7\" class=\"data row7 col7\" >0.9817</td>\n",
              "      <td id=\"T_2bf42_row7_col8\" class=\"data row7 col8\" >1.1100</td>\n",
              "    </tr>\n",
              "    <tr>\n",
              "      <th id=\"T_2bf42_level0_row8\" class=\"row_heading level0 row8\" >knn</th>\n",
              "      <td id=\"T_2bf42_row8_col0\" class=\"data row8 col0\" >K Neighbors Classifier</td>\n",
              "      <td id=\"T_2bf42_row8_col1\" class=\"data row8 col1\" >0.9589</td>\n",
              "      <td id=\"T_2bf42_row8_col2\" class=\"data row8 col2\" >0.9886</td>\n",
              "      <td id=\"T_2bf42_row8_col3\" class=\"data row8 col3\" >0.9589</td>\n",
              "      <td id=\"T_2bf42_row8_col4\" class=\"data row8 col4\" >0.9581</td>\n",
              "      <td id=\"T_2bf42_row8_col5\" class=\"data row8 col5\" >0.9585</td>\n",
              "      <td id=\"T_2bf42_row8_col6\" class=\"data row8 col6\" >0.9293</td>\n",
              "      <td id=\"T_2bf42_row8_col7\" class=\"data row8 col7\" >0.9293</td>\n",
              "      <td id=\"T_2bf42_row8_col8\" class=\"data row8 col8\" >0.4580</td>\n",
              "    </tr>\n",
              "    <tr>\n",
              "      <th id=\"T_2bf42_level0_row9\" class=\"row_heading level0 row9\" >svm</th>\n",
              "      <td id=\"T_2bf42_row9_col0\" class=\"data row9 col0\" >SVM - Linear Kernel</td>\n",
              "      <td id=\"T_2bf42_row9_col1\" class=\"data row9 col1\" >0.8856</td>\n",
              "      <td id=\"T_2bf42_row9_col2\" class=\"data row9 col2\" >0.0000</td>\n",
              "      <td id=\"T_2bf42_row9_col3\" class=\"data row9 col3\" >0.8856</td>\n",
              "      <td id=\"T_2bf42_row9_col4\" class=\"data row9 col4\" >0.8814</td>\n",
              "      <td id=\"T_2bf42_row9_col5\" class=\"data row9 col5\" >0.8765</td>\n",
              "      <td id=\"T_2bf42_row9_col6\" class=\"data row9 col6\" >0.7995</td>\n",
              "      <td id=\"T_2bf42_row9_col7\" class=\"data row9 col7\" >0.8098</td>\n",
              "      <td id=\"T_2bf42_row9_col8\" class=\"data row9 col8\" >1.4250</td>\n",
              "    </tr>\n",
              "    <tr>\n",
              "      <th id=\"T_2bf42_level0_row10\" class=\"row_heading level0 row10\" >ridge</th>\n",
              "      <td id=\"T_2bf42_row10_col0\" class=\"data row10 col0\" >Ridge Classifier</td>\n",
              "      <td id=\"T_2bf42_row10_col1\" class=\"data row10 col1\" >0.6927</td>\n",
              "      <td id=\"T_2bf42_row10_col2\" class=\"data row10 col2\" >0.0000</td>\n",
              "      <td id=\"T_2bf42_row10_col3\" class=\"data row10 col3\" >0.6927</td>\n",
              "      <td id=\"T_2bf42_row10_col4\" class=\"data row10 col4\" >0.5618</td>\n",
              "      <td id=\"T_2bf42_row10_col5\" class=\"data row10 col5\" >0.6163</td>\n",
              "      <td id=\"T_2bf42_row10_col6\" class=\"data row10 col6\" >0.3863</td>\n",
              "      <td id=\"T_2bf42_row10_col7\" class=\"data row10 col7\" >0.4362</td>\n",
              "      <td id=\"T_2bf42_row10_col8\" class=\"data row10 col8\" >0.0530</td>\n",
              "    </tr>\n",
              "    <tr>\n",
              "      <th id=\"T_2bf42_level0_row11\" class=\"row_heading level0 row11\" >lda</th>\n",
              "      <td id=\"T_2bf42_row11_col0\" class=\"data row11 col0\" >Linear Discriminant Analysis</td>\n",
              "      <td id=\"T_2bf42_row11_col1\" class=\"data row11 col1\" >0.6854</td>\n",
              "      <td id=\"T_2bf42_row11_col2\" class=\"data row11 col2\" >0.8186</td>\n",
              "      <td id=\"T_2bf42_row11_col3\" class=\"data row11 col3\" >0.6854</td>\n",
              "      <td id=\"T_2bf42_row11_col4\" class=\"data row11 col4\" >0.5569</td>\n",
              "      <td id=\"T_2bf42_row11_col5\" class=\"data row11 col5\" >0.6090</td>\n",
              "      <td id=\"T_2bf42_row11_col6\" class=\"data row11 col6\" >0.3674</td>\n",
              "      <td id=\"T_2bf42_row11_col7\" class=\"data row11 col7\" >0.4192</td>\n",
              "      <td id=\"T_2bf42_row11_col8\" class=\"data row11 col8\" >0.0680</td>\n",
              "    </tr>\n",
              "    <tr>\n",
              "      <th id=\"T_2bf42_level0_row12\" class=\"row_heading level0 row12\" >nb</th>\n",
              "      <td id=\"T_2bf42_row12_col0\" class=\"data row12 col0\" >Naive Bayes</td>\n",
              "      <td id=\"T_2bf42_row12_col1\" class=\"data row12 col1\" >0.6281</td>\n",
              "      <td id=\"T_2bf42_row12_col2\" class=\"data row12 col2\" >0.9185</td>\n",
              "      <td id=\"T_2bf42_row12_col3\" class=\"data row12 col3\" >0.6281</td>\n",
              "      <td id=\"T_2bf42_row12_col4\" class=\"data row12 col4\" >0.8118</td>\n",
              "      <td id=\"T_2bf42_row12_col5\" class=\"data row12 col5\" >0.6056</td>\n",
              "      <td id=\"T_2bf42_row12_col6\" class=\"data row12 col6\" >0.4793</td>\n",
              "      <td id=\"T_2bf42_row12_col7\" class=\"data row12 col7\" >0.5641</td>\n",
              "      <td id=\"T_2bf42_row12_col8\" class=\"data row12 col8\" >0.0610</td>\n",
              "    </tr>\n",
              "    <tr>\n",
              "      <th id=\"T_2bf42_level0_row13\" class=\"row_heading level0 row13\" >dummy</th>\n",
              "      <td id=\"T_2bf42_row13_col0\" class=\"data row13 col0\" >Dummy Classifier</td>\n",
              "      <td id=\"T_2bf42_row13_col1\" class=\"data row13 col1\" >0.5741</td>\n",
              "      <td id=\"T_2bf42_row13_col2\" class=\"data row13 col2\" >0.5000</td>\n",
              "      <td id=\"T_2bf42_row13_col3\" class=\"data row13 col3\" >0.5741</td>\n",
              "      <td id=\"T_2bf42_row13_col4\" class=\"data row13 col4\" >0.3295</td>\n",
              "      <td id=\"T_2bf42_row13_col5\" class=\"data row13 col5\" >0.4187</td>\n",
              "      <td id=\"T_2bf42_row13_col6\" class=\"data row13 col6\" >0.0000</td>\n",
              "      <td id=\"T_2bf42_row13_col7\" class=\"data row13 col7\" >0.0000</td>\n",
              "      <td id=\"T_2bf42_row13_col8\" class=\"data row13 col8\" >0.0490</td>\n",
              "    </tr>\n",
              "    <tr>\n",
              "      <th id=\"T_2bf42_level0_row14\" class=\"row_heading level0 row14\" >qda</th>\n",
              "      <td id=\"T_2bf42_row14_col0\" class=\"data row14 col0\" >Quadratic Discriminant Analysis</td>\n",
              "      <td id=\"T_2bf42_row14_col1\" class=\"data row14 col1\" >0.1995</td>\n",
              "      <td id=\"T_2bf42_row14_col2\" class=\"data row14 col2\" >0.0000</td>\n",
              "      <td id=\"T_2bf42_row14_col3\" class=\"data row14 col3\" >0.1995</td>\n",
              "      <td id=\"T_2bf42_row14_col4\" class=\"data row14 col4\" >0.0399</td>\n",
              "      <td id=\"T_2bf42_row14_col5\" class=\"data row14 col5\" >0.0665</td>\n",
              "      <td id=\"T_2bf42_row14_col6\" class=\"data row14 col6\" >0.0000</td>\n",
              "      <td id=\"T_2bf42_row14_col7\" class=\"data row14 col7\" >0.0000</td>\n",
              "      <td id=\"T_2bf42_row14_col8\" class=\"data row14 col8\" >0.0580</td>\n",
              "    </tr>\n",
              "  </tbody>\n",
              "</table>\n"
            ]
          },
          "metadata": {}
        },
        {
          "output_type": "display_data",
          "data": {
            "text/plain": [
              "Processing:   0%|          | 0/65 [00:00<?, ?it/s]"
            ],
            "application/vnd.jupyter.widget-view+json": {
              "version_major": 2,
              "version_minor": 0,
              "model_id": "71c25dafc4704ae4b1146a856dfa1539"
            }
          },
          "metadata": {
            "application/vnd.jupyter.widget-view+json": {
              "colab": {
                "custom_widget_manager": {
                  "url": "https://ssl.gstatic.com/colaboratory-static/widgets/colab-cdn-widget-manager/2b70e893a8ba7c0f/manager.min.js"
                }
              }
            }
          }
        },
        {
          "output_type": "display_data",
          "data": {
            "text/plain": [
              "<IPython.core.display.HTML object>"
            ],
            "text/html": []
          },
          "metadata": {}
        }
      ]
    },
    {
      "cell_type": "code",
      "source": [
        "# Ajuste del modelo seleccionado\n",
        "final_model = create_model(best_model)\n",
        "\n",
        "# Evaluación del modelo\n",
        "evaluate_model(final_model)"
      ],
      "metadata": {
        "colab": {
          "base_uri": "https://localhost:8080/",
          "height": 670,
          "referenced_widgets": [
            "f925ba46c3d54a72ac35faba40c2a294",
            "a6c227eb503e4010bd284260cb6b5983",
            "0148b8747e054bc7b504617d7e551ed5",
            "6e4519255e044467b17616cee0a81386",
            "92d8addf6e244b009b1f5008035c2ddc",
            "e8074ba573354828acd7e7b2357cc32f",
            "4cecaf94d72c47f1a063db6823f18adc",
            "8579ac2c09cb4e3a9291b50ed9919091",
            "69932191e86045a29e7ebc730306ccad",
            "237022c0b0fb4d0d86ae0f5ca510965a",
            "e80e6eb1d5ff4477a4730756e48f479e",
            "60ee0a19929444ab8305dd16282c1742",
            "eeab58609c79484fa5c4818115719d19",
            "34c97ebe8e9a4d329d07cc5c6e1e636d",
            "4ba0fa07c0a94ea8a1c2980b96b38bcb",
            "15837bb173284464b909ce118ee015dc",
            "0ba80991c7ac41a99e19bd37cf8efaee",
            "9b1dc231581d4bde807bc57ddea2c6f1"
          ]
        },
        "id": "YRIQbLYcxP7N",
        "outputId": "427d0471-d3b6-45d6-9b03-fe56516d4260"
      },
      "execution_count": null,
      "outputs": [
        {
          "output_type": "display_data",
          "data": {
            "text/plain": [
              "<IPython.core.display.HTML object>"
            ],
            "text/html": []
          },
          "metadata": {}
        },
        {
          "output_type": "display_data",
          "data": {
            "text/plain": [
              "<pandas.io.formats.style.Styler at 0x7e045e711690>"
            ],
            "text/html": [
              "<style type=\"text/css\">\n",
              "#T_de96f_row10_col0, #T_de96f_row10_col1, #T_de96f_row10_col2, #T_de96f_row10_col3, #T_de96f_row10_col4, #T_de96f_row10_col5, #T_de96f_row10_col6 {\n",
              "  background: yellow;\n",
              "}\n",
              "</style>\n",
              "<table id=\"T_de96f\" class=\"dataframe\">\n",
              "  <thead>\n",
              "    <tr>\n",
              "      <th class=\"blank level0\" >&nbsp;</th>\n",
              "      <th id=\"T_de96f_level0_col0\" class=\"col_heading level0 col0\" >Accuracy</th>\n",
              "      <th id=\"T_de96f_level0_col1\" class=\"col_heading level0 col1\" >AUC</th>\n",
              "      <th id=\"T_de96f_level0_col2\" class=\"col_heading level0 col2\" >Recall</th>\n",
              "      <th id=\"T_de96f_level0_col3\" class=\"col_heading level0 col3\" >Prec.</th>\n",
              "      <th id=\"T_de96f_level0_col4\" class=\"col_heading level0 col4\" >F1</th>\n",
              "      <th id=\"T_de96f_level0_col5\" class=\"col_heading level0 col5\" >Kappa</th>\n",
              "      <th id=\"T_de96f_level0_col6\" class=\"col_heading level0 col6\" >MCC</th>\n",
              "    </tr>\n",
              "    <tr>\n",
              "      <th class=\"index_name level0\" >Fold</th>\n",
              "      <th class=\"blank col0\" >&nbsp;</th>\n",
              "      <th class=\"blank col1\" >&nbsp;</th>\n",
              "      <th class=\"blank col2\" >&nbsp;</th>\n",
              "      <th class=\"blank col3\" >&nbsp;</th>\n",
              "      <th class=\"blank col4\" >&nbsp;</th>\n",
              "      <th class=\"blank col5\" >&nbsp;</th>\n",
              "      <th class=\"blank col6\" >&nbsp;</th>\n",
              "    </tr>\n",
              "  </thead>\n",
              "  <tbody>\n",
              "    <tr>\n",
              "      <th id=\"T_de96f_level0_row0\" class=\"row_heading level0 row0\" >0</th>\n",
              "      <td id=\"T_de96f_row0_col0\" class=\"data row0 col0\" >0.9989</td>\n",
              "      <td id=\"T_de96f_row0_col1\" class=\"data row0 col1\" >0.9998</td>\n",
              "      <td id=\"T_de96f_row0_col2\" class=\"data row0 col2\" >0.9989</td>\n",
              "      <td id=\"T_de96f_row0_col3\" class=\"data row0 col3\" >0.9988</td>\n",
              "      <td id=\"T_de96f_row0_col4\" class=\"data row0 col4\" >0.9988</td>\n",
              "      <td id=\"T_de96f_row0_col5\" class=\"data row0 col5\" >0.9981</td>\n",
              "      <td id=\"T_de96f_row0_col6\" class=\"data row0 col6\" >0.9981</td>\n",
              "    </tr>\n",
              "    <tr>\n",
              "      <th id=\"T_de96f_level0_row1\" class=\"row_heading level0 row1\" >1</th>\n",
              "      <td id=\"T_de96f_row1_col0\" class=\"data row1 col0\" >0.9984</td>\n",
              "      <td id=\"T_de96f_row1_col1\" class=\"data row1 col1\" >1.0000</td>\n",
              "      <td id=\"T_de96f_row1_col2\" class=\"data row1 col2\" >0.9984</td>\n",
              "      <td id=\"T_de96f_row1_col3\" class=\"data row1 col3\" >0.9984</td>\n",
              "      <td id=\"T_de96f_row1_col4\" class=\"data row1 col4\" >0.9982</td>\n",
              "      <td id=\"T_de96f_row1_col5\" class=\"data row1 col5\" >0.9972</td>\n",
              "      <td id=\"T_de96f_row1_col6\" class=\"data row1 col6\" >0.9972</td>\n",
              "    </tr>\n",
              "    <tr>\n",
              "      <th id=\"T_de96f_level0_row2\" class=\"row_heading level0 row2\" >2</th>\n",
              "      <td id=\"T_de96f_row2_col0\" class=\"data row2 col0\" >0.9997</td>\n",
              "      <td id=\"T_de96f_row2_col1\" class=\"data row2 col1\" >0.9998</td>\n",
              "      <td id=\"T_de96f_row2_col2\" class=\"data row2 col2\" >0.9997</td>\n",
              "      <td id=\"T_de96f_row2_col3\" class=\"data row2 col3\" >0.9997</td>\n",
              "      <td id=\"T_de96f_row2_col4\" class=\"data row2 col4\" >0.9997</td>\n",
              "      <td id=\"T_de96f_row2_col5\" class=\"data row2 col5\" >0.9995</td>\n",
              "      <td id=\"T_de96f_row2_col6\" class=\"data row2 col6\" >0.9995</td>\n",
              "    </tr>\n",
              "    <tr>\n",
              "      <th id=\"T_de96f_level0_row3\" class=\"row_heading level0 row3\" >3</th>\n",
              "      <td id=\"T_de96f_row3_col0\" class=\"data row3 col0\" >0.9973</td>\n",
              "      <td id=\"T_de96f_row3_col1\" class=\"data row3 col1\" >0.9995</td>\n",
              "      <td id=\"T_de96f_row3_col2\" class=\"data row3 col2\" >0.9973</td>\n",
              "      <td id=\"T_de96f_row3_col3\" class=\"data row3 col3\" >0.9970</td>\n",
              "      <td id=\"T_de96f_row3_col4\" class=\"data row3 col4\" >0.9971</td>\n",
              "      <td id=\"T_de96f_row3_col5\" class=\"data row3 col5\" >0.9953</td>\n",
              "      <td id=\"T_de96f_row3_col6\" class=\"data row3 col6\" >0.9953</td>\n",
              "    </tr>\n",
              "    <tr>\n",
              "      <th id=\"T_de96f_level0_row4\" class=\"row_heading level0 row4\" >4</th>\n",
              "      <td id=\"T_de96f_row4_col0\" class=\"data row4 col0\" >0.9992</td>\n",
              "      <td id=\"T_de96f_row4_col1\" class=\"data row4 col1\" >0.9999</td>\n",
              "      <td id=\"T_de96f_row4_col2\" class=\"data row4 col2\" >0.9992</td>\n",
              "      <td id=\"T_de96f_row4_col3\" class=\"data row4 col3\" >0.9992</td>\n",
              "      <td id=\"T_de96f_row4_col4\" class=\"data row4 col4\" >0.9992</td>\n",
              "      <td id=\"T_de96f_row4_col5\" class=\"data row4 col5\" >0.9986</td>\n",
              "      <td id=\"T_de96f_row4_col6\" class=\"data row4 col6\" >0.9986</td>\n",
              "    </tr>\n",
              "    <tr>\n",
              "      <th id=\"T_de96f_level0_row5\" class=\"row_heading level0 row5\" >5</th>\n",
              "      <td id=\"T_de96f_row5_col0\" class=\"data row5 col0\" >0.9986</td>\n",
              "      <td id=\"T_de96f_row5_col1\" class=\"data row5 col1\" >0.9997</td>\n",
              "      <td id=\"T_de96f_row5_col2\" class=\"data row5 col2\" >0.9986</td>\n",
              "      <td id=\"T_de96f_row5_col3\" class=\"data row5 col3\" >0.9986</td>\n",
              "      <td id=\"T_de96f_row5_col4\" class=\"data row5 col4\" >0.9986</td>\n",
              "      <td id=\"T_de96f_row5_col5\" class=\"data row5 col5\" >0.9977</td>\n",
              "      <td id=\"T_de96f_row5_col6\" class=\"data row5 col6\" >0.9977</td>\n",
              "    </tr>\n",
              "    <tr>\n",
              "      <th id=\"T_de96f_level0_row6\" class=\"row_heading level0 row6\" >6</th>\n",
              "      <td id=\"T_de96f_row6_col0\" class=\"data row6 col0\" >0.9981</td>\n",
              "      <td id=\"T_de96f_row6_col1\" class=\"data row6 col1\" >0.9993</td>\n",
              "      <td id=\"T_de96f_row6_col2\" class=\"data row6 col2\" >0.9981</td>\n",
              "      <td id=\"T_de96f_row6_col3\" class=\"data row6 col3\" >0.9979</td>\n",
              "      <td id=\"T_de96f_row6_col4\" class=\"data row6 col4\" >0.9980</td>\n",
              "      <td id=\"T_de96f_row6_col5\" class=\"data row6 col5\" >0.9967</td>\n",
              "      <td id=\"T_de96f_row6_col6\" class=\"data row6 col6\" >0.9967</td>\n",
              "    </tr>\n",
              "    <tr>\n",
              "      <th id=\"T_de96f_level0_row7\" class=\"row_heading level0 row7\" >7</th>\n",
              "      <td id=\"T_de96f_row7_col0\" class=\"data row7 col0\" >0.9981</td>\n",
              "      <td id=\"T_de96f_row7_col1\" class=\"data row7 col1\" >0.9999</td>\n",
              "      <td id=\"T_de96f_row7_col2\" class=\"data row7 col2\" >0.9981</td>\n",
              "      <td id=\"T_de96f_row7_col3\" class=\"data row7 col3\" >0.9981</td>\n",
              "      <td id=\"T_de96f_row7_col4\" class=\"data row7 col4\" >0.9980</td>\n",
              "      <td id=\"T_de96f_row7_col5\" class=\"data row7 col5\" >0.9967</td>\n",
              "      <td id=\"T_de96f_row7_col6\" class=\"data row7 col6\" >0.9967</td>\n",
              "    </tr>\n",
              "    <tr>\n",
              "      <th id=\"T_de96f_level0_row8\" class=\"row_heading level0 row8\" >8</th>\n",
              "      <td id=\"T_de96f_row8_col0\" class=\"data row8 col0\" >0.9981</td>\n",
              "      <td id=\"T_de96f_row8_col1\" class=\"data row8 col1\" >0.9994</td>\n",
              "      <td id=\"T_de96f_row8_col2\" class=\"data row8 col2\" >0.9981</td>\n",
              "      <td id=\"T_de96f_row8_col3\" class=\"data row8 col3\" >0.9982</td>\n",
              "      <td id=\"T_de96f_row8_col4\" class=\"data row8 col4\" >0.9981</td>\n",
              "      <td id=\"T_de96f_row8_col5\" class=\"data row8 col5\" >0.9967</td>\n",
              "      <td id=\"T_de96f_row8_col6\" class=\"data row8 col6\" >0.9967</td>\n",
              "    </tr>\n",
              "    <tr>\n",
              "      <th id=\"T_de96f_level0_row9\" class=\"row_heading level0 row9\" >9</th>\n",
              "      <td id=\"T_de96f_row9_col0\" class=\"data row9 col0\" >0.9984</td>\n",
              "      <td id=\"T_de96f_row9_col1\" class=\"data row9 col1\" >0.9999</td>\n",
              "      <td id=\"T_de96f_row9_col2\" class=\"data row9 col2\" >0.9984</td>\n",
              "      <td id=\"T_de96f_row9_col3\" class=\"data row9 col3\" >0.9981</td>\n",
              "      <td id=\"T_de96f_row9_col4\" class=\"data row9 col4\" >0.9982</td>\n",
              "      <td id=\"T_de96f_row9_col5\" class=\"data row9 col5\" >0.9972</td>\n",
              "      <td id=\"T_de96f_row9_col6\" class=\"data row9 col6\" >0.9972</td>\n",
              "    </tr>\n",
              "    <tr>\n",
              "      <th id=\"T_de96f_level0_row10\" class=\"row_heading level0 row10\" >Mean</th>\n",
              "      <td id=\"T_de96f_row10_col0\" class=\"data row10 col0\" >0.9985</td>\n",
              "      <td id=\"T_de96f_row10_col1\" class=\"data row10 col1\" >0.9997</td>\n",
              "      <td id=\"T_de96f_row10_col2\" class=\"data row10 col2\" >0.9985</td>\n",
              "      <td id=\"T_de96f_row10_col3\" class=\"data row10 col3\" >0.9984</td>\n",
              "      <td id=\"T_de96f_row10_col4\" class=\"data row10 col4\" >0.9984</td>\n",
              "      <td id=\"T_de96f_row10_col5\" class=\"data row10 col5\" >0.9974</td>\n",
              "      <td id=\"T_de96f_row10_col6\" class=\"data row10 col6\" >0.9974</td>\n",
              "    </tr>\n",
              "    <tr>\n",
              "      <th id=\"T_de96f_level0_row11\" class=\"row_heading level0 row11\" >Std</th>\n",
              "      <td id=\"T_de96f_row11_col0\" class=\"data row11 col0\" >0.0006</td>\n",
              "      <td id=\"T_de96f_row11_col1\" class=\"data row11 col1\" >0.0002</td>\n",
              "      <td id=\"T_de96f_row11_col2\" class=\"data row11 col2\" >0.0006</td>\n",
              "      <td id=\"T_de96f_row11_col3\" class=\"data row11 col3\" >0.0007</td>\n",
              "      <td id=\"T_de96f_row11_col4\" class=\"data row11 col4\" >0.0007</td>\n",
              "      <td id=\"T_de96f_row11_col5\" class=\"data row11 col5\" >0.0011</td>\n",
              "      <td id=\"T_de96f_row11_col6\" class=\"data row11 col6\" >0.0011</td>\n",
              "    </tr>\n",
              "  </tbody>\n",
              "</table>\n"
            ]
          },
          "metadata": {}
        },
        {
          "output_type": "display_data",
          "data": {
            "text/plain": [
              "Processing:   0%|          | 0/4 [00:00<?, ?it/s]"
            ],
            "application/vnd.jupyter.widget-view+json": {
              "version_major": 2,
              "version_minor": 0,
              "model_id": "f925ba46c3d54a72ac35faba40c2a294"
            }
          },
          "metadata": {
            "application/vnd.jupyter.widget-view+json": {
              "colab": {
                "custom_widget_manager": {
                  "url": "https://ssl.gstatic.com/colaboratory-static/widgets/colab-cdn-widget-manager/2b70e893a8ba7c0f/manager.min.js"
                }
              }
            }
          }
        },
        {
          "output_type": "display_data",
          "data": {
            "text/plain": [
              "<IPython.core.display.HTML object>"
            ],
            "text/html": []
          },
          "metadata": {}
        },
        {
          "output_type": "display_data",
          "data": {
            "text/plain": [
              "interactive(children=(ToggleButtons(description='Plot Type:', icons=('',), options=(('Pipeline Plot', 'pipelin…"
            ],
            "application/vnd.jupyter.widget-view+json": {
              "version_major": 2,
              "version_minor": 0,
              "model_id": "15837bb173284464b909ce118ee015dc"
            }
          },
          "metadata": {
            "application/vnd.jupyter.widget-view+json": {
              "colab": {
                "custom_widget_manager": {
                  "url": "https://ssl.gstatic.com/colaboratory-static/widgets/colab-cdn-widget-manager/2b70e893a8ba7c0f/manager.min.js"
                }
              }
            }
          }
        }
      ]
    },
    {
      "cell_type": "code",
      "source": [
        "predictions = predict_model(final_model, data=test_data)\n"
      ],
      "metadata": {
        "colab": {
          "base_uri": "https://localhost:8080/",
          "height": 81
        },
        "id": "c5Jsv0qSxSjn",
        "outputId": "7e1216da-4ca1-48d4-a441-327b5572a308"
      },
      "execution_count": null,
      "outputs": [
        {
          "output_type": "display_data",
          "data": {
            "text/plain": [
              "<pandas.io.formats.style.Styler at 0x7e045e2121a0>"
            ],
            "text/html": [
              "<style type=\"text/css\">\n",
              "</style>\n",
              "<table id=\"T_72ca9\" class=\"dataframe\">\n",
              "  <thead>\n",
              "    <tr>\n",
              "      <th class=\"blank level0\" >&nbsp;</th>\n",
              "      <th id=\"T_72ca9_level0_col0\" class=\"col_heading level0 col0\" >Model</th>\n",
              "      <th id=\"T_72ca9_level0_col1\" class=\"col_heading level0 col1\" >Accuracy</th>\n",
              "      <th id=\"T_72ca9_level0_col2\" class=\"col_heading level0 col2\" >AUC</th>\n",
              "      <th id=\"T_72ca9_level0_col3\" class=\"col_heading level0 col3\" >Recall</th>\n",
              "      <th id=\"T_72ca9_level0_col4\" class=\"col_heading level0 col4\" >Prec.</th>\n",
              "      <th id=\"T_72ca9_level0_col5\" class=\"col_heading level0 col5\" >F1</th>\n",
              "      <th id=\"T_72ca9_level0_col6\" class=\"col_heading level0 col6\" >Kappa</th>\n",
              "      <th id=\"T_72ca9_level0_col7\" class=\"col_heading level0 col7\" >MCC</th>\n",
              "    </tr>\n",
              "  </thead>\n",
              "  <tbody>\n",
              "    <tr>\n",
              "      <th id=\"T_72ca9_level0_row0\" class=\"row_heading level0 row0\" >0</th>\n",
              "      <td id=\"T_72ca9_row0_col0\" class=\"data row0 col0\" >Light Gradient Boosting Machine</td>\n",
              "      <td id=\"T_72ca9_row0_col1\" class=\"data row0 col1\" >0.9991</td>\n",
              "      <td id=\"T_72ca9_row0_col2\" class=\"data row0 col2\" >0.9997</td>\n",
              "      <td id=\"T_72ca9_row0_col3\" class=\"data row0 col3\" >0.9991</td>\n",
              "      <td id=\"T_72ca9_row0_col4\" class=\"data row0 col4\" >0.9991</td>\n",
              "      <td id=\"T_72ca9_row0_col5\" class=\"data row0 col5\" >0.9991</td>\n",
              "      <td id=\"T_72ca9_row0_col6\" class=\"data row0 col6\" >0.9984</td>\n",
              "      <td id=\"T_72ca9_row0_col7\" class=\"data row0 col7\" >0.9984</td>\n",
              "    </tr>\n",
              "  </tbody>\n",
              "</table>\n"
            ]
          },
          "metadata": {}
        }
      ]
    },
    {
      "cell_type": "code",
      "source": [
        "from pycaret.classification import plot_model\n"
      ],
      "metadata": {
        "id": "8amIdZ0ixX71"
      },
      "execution_count": null,
      "outputs": []
    },
    {
      "cell_type": "code",
      "source": [
        "# Visualizar la matriz de confusión\n",
        "plot_model(final_model, plot='confusion_matrix')\n"
      ],
      "metadata": {
        "colab": {
          "base_uri": "https://localhost:8080/",
          "height": 551
        },
        "id": "JiHq3qYZxZsL",
        "outputId": "9bb44e4d-b3b1-4e75-b624-b5704aad47a1"
      },
      "execution_count": null,
      "outputs": [
        {
          "output_type": "display_data",
          "data": {
            "text/plain": [
              "<IPython.core.display.HTML object>"
            ],
            "text/html": []
          },
          "metadata": {}
        },
        {
          "output_type": "display_data",
          "data": {
            "text/plain": [
              "<Figure size 800x550 with 1 Axes>"
            ],
            "image/png": "[encoded data removed]"
          },
          "metadata": {}
        }
      ]
    },
    {
      "cell_type": "code",
      "source": [
        "setup(data, target='Action')"
      ],
      "metadata": {
        "colab": {
          "base_uri": "https://localhost:8080/",
          "height": 663
        },
        "id": "NFaF8m5k27GF",
        "outputId": "01ac2742-c378-4639-8356-3b81e0dc9c8c"
      },
      "execution_count": null,
      "outputs": [
        {
          "output_type": "display_data",
          "data": {
            "text/plain": [
              "<pandas.io.formats.style.Styler at 0x7e045c49f5b0>"
            ],
            "text/html": [
              "<style type=\"text/css\">\n",
              "#T_184bc_row8_col1 {\n",
              "  background-color: lightgreen;\n",
              "}\n",
              "</style>\n",
              "<table id=\"T_184bc\" class=\"dataframe\">\n",
              "  <thead>\n",
              "    <tr>\n",
              "      <th class=\"blank level0\" >&nbsp;</th>\n",
              "      <th id=\"T_184bc_level0_col0\" class=\"col_heading level0 col0\" >Description</th>\n",
              "      <th id=\"T_184bc_level0_col1\" class=\"col_heading level0 col1\" >Value</th>\n",
              "    </tr>\n",
              "  </thead>\n",
              "  <tbody>\n",
              "    <tr>\n",
              "      <th id=\"T_184bc_level0_row0\" class=\"row_heading level0 row0\" >0</th>\n",
              "      <td id=\"T_184bc_row0_col0\" class=\"data row0 col0\" >Session id</td>\n",
              "      <td id=\"T_184bc_row0_col1\" class=\"data row0 col1\" >1276</td>\n",
              "    </tr>\n",
              "    <tr>\n",
              "      <th id=\"T_184bc_level0_row1\" class=\"row_heading level0 row1\" >1</th>\n",
              "      <td id=\"T_184bc_row1_col0\" class=\"data row1 col0\" >Target</td>\n",
              "      <td id=\"T_184bc_row1_col1\" class=\"data row1 col1\" >Action</td>\n",
              "    </tr>\n",
              "    <tr>\n",
              "      <th id=\"T_184bc_level0_row2\" class=\"row_heading level0 row2\" >2</th>\n",
              "      <td id=\"T_184bc_row2_col0\" class=\"data row2 col0\" >Target type</td>\n",
              "      <td id=\"T_184bc_row2_col1\" class=\"data row2 col1\" >Multiclass</td>\n",
              "    </tr>\n",
              "    <tr>\n",
              "      <th id=\"T_184bc_level0_row3\" class=\"row_heading level0 row3\" >3</th>\n",
              "      <td id=\"T_184bc_row3_col0\" class=\"data row3 col0\" >Original data shape</td>\n",
              "      <td id=\"T_184bc_row3_col1\" class=\"data row3 col1\" >(65532, 7)</td>\n",
              "    </tr>\n",
              "    <tr>\n",
              "      <th id=\"T_184bc_level0_row4\" class=\"row_heading level0 row4\" >4</th>\n",
              "      <td id=\"T_184bc_row4_col0\" class=\"data row4 col0\" >Transformed data shape</td>\n",
              "      <td id=\"T_184bc_row4_col1\" class=\"data row4 col1\" >(65532, 7)</td>\n",
              "    </tr>\n",
              "    <tr>\n",
              "      <th id=\"T_184bc_level0_row5\" class=\"row_heading level0 row5\" >5</th>\n",
              "      <td id=\"T_184bc_row5_col0\" class=\"data row5 col0\" >Transformed train set shape</td>\n",
              "      <td id=\"T_184bc_row5_col1\" class=\"data row5 col1\" >(45872, 7)</td>\n",
              "    </tr>\n",
              "    <tr>\n",
              "      <th id=\"T_184bc_level0_row6\" class=\"row_heading level0 row6\" >6</th>\n",
              "      <td id=\"T_184bc_row6_col0\" class=\"data row6 col0\" >Transformed test set shape</td>\n",
              "      <td id=\"T_184bc_row6_col1\" class=\"data row6 col1\" >(19660, 7)</td>\n",
              "    </tr>\n",
              "    <tr>\n",
              "      <th id=\"T_184bc_level0_row7\" class=\"row_heading level0 row7\" >7</th>\n",
              "      <td id=\"T_184bc_row7_col0\" class=\"data row7 col0\" >Numeric features</td>\n",
              "      <td id=\"T_184bc_row7_col1\" class=\"data row7 col1\" >6</td>\n",
              "    </tr>\n",
              "    <tr>\n",
              "      <th id=\"T_184bc_level0_row8\" class=\"row_heading level0 row8\" >8</th>\n",
              "      <td id=\"T_184bc_row8_col0\" class=\"data row8 col0\" >Preprocess</td>\n",
              "      <td id=\"T_184bc_row8_col1\" class=\"data row8 col1\" >True</td>\n",
              "    </tr>\n",
              "    <tr>\n",
              "      <th id=\"T_184bc_level0_row9\" class=\"row_heading level0 row9\" >9</th>\n",
              "      <td id=\"T_184bc_row9_col0\" class=\"data row9 col0\" >Imputation type</td>\n",
              "      <td id=\"T_184bc_row9_col1\" class=\"data row9 col1\" >simple</td>\n",
              "    </tr>\n",
              "    <tr>\n",
              "      <th id=\"T_184bc_level0_row10\" class=\"row_heading level0 row10\" >10</th>\n",
              "      <td id=\"T_184bc_row10_col0\" class=\"data row10 col0\" >Numeric imputation</td>\n",
              "      <td id=\"T_184bc_row10_col1\" class=\"data row10 col1\" >mean</td>\n",
              "    </tr>\n",
              "    <tr>\n",
              "      <th id=\"T_184bc_level0_row11\" class=\"row_heading level0 row11\" >11</th>\n",
              "      <td id=\"T_184bc_row11_col0\" class=\"data row11 col0\" >Categorical imputation</td>\n",
              "      <td id=\"T_184bc_row11_col1\" class=\"data row11 col1\" >mode</td>\n",
              "    </tr>\n",
              "    <tr>\n",
              "      <th id=\"T_184bc_level0_row12\" class=\"row_heading level0 row12\" >12</th>\n",
              "      <td id=\"T_184bc_row12_col0\" class=\"data row12 col0\" >Fold Generator</td>\n",
              "      <td id=\"T_184bc_row12_col1\" class=\"data row12 col1\" >StratifiedKFold</td>\n",
              "    </tr>\n",
              "    <tr>\n",
              "      <th id=\"T_184bc_level0_row13\" class=\"row_heading level0 row13\" >13</th>\n",
              "      <td id=\"T_184bc_row13_col0\" class=\"data row13 col0\" >Fold Number</td>\n",
              "      <td id=\"T_184bc_row13_col1\" class=\"data row13 col1\" >10</td>\n",
              "    </tr>\n",
              "    <tr>\n",
              "      <th id=\"T_184bc_level0_row14\" class=\"row_heading level0 row14\" >14</th>\n",
              "      <td id=\"T_184bc_row14_col0\" class=\"data row14 col0\" >CPU Jobs</td>\n",
              "      <td id=\"T_184bc_row14_col1\" class=\"data row14 col1\" >-1</td>\n",
              "    </tr>\n",
              "    <tr>\n",
              "      <th id=\"T_184bc_level0_row15\" class=\"row_heading level0 row15\" >15</th>\n",
              "      <td id=\"T_184bc_row15_col0\" class=\"data row15 col0\" >Use GPU</td>\n",
              "      <td id=\"T_184bc_row15_col1\" class=\"data row15 col1\" >False</td>\n",
              "    </tr>\n",
              "    <tr>\n",
              "      <th id=\"T_184bc_level0_row16\" class=\"row_heading level0 row16\" >16</th>\n",
              "      <td id=\"T_184bc_row16_col0\" class=\"data row16 col0\" >Log Experiment</td>\n",
              "      <td id=\"T_184bc_row16_col1\" class=\"data row16 col1\" >False</td>\n",
              "    </tr>\n",
              "    <tr>\n",
              "      <th id=\"T_184bc_level0_row17\" class=\"row_heading level0 row17\" >17</th>\n",
              "      <td id=\"T_184bc_row17_col0\" class=\"data row17 col0\" >Experiment Name</td>\n",
              "      <td id=\"T_184bc_row17_col1\" class=\"data row17 col1\" >clf-default-name</td>\n",
              "    </tr>\n",
              "    <tr>\n",
              "      <th id=\"T_184bc_level0_row18\" class=\"row_heading level0 row18\" >18</th>\n",
              "      <td id=\"T_184bc_row18_col0\" class=\"data row18 col0\" >USI</td>\n",
              "      <td id=\"T_184bc_row18_col1\" class=\"data row18 col1\" >ae75</td>\n",
              "    </tr>\n",
              "  </tbody>\n",
              "</table>\n"
            ]
          },
          "metadata": {}
        },
        {
          "output_type": "execute_result",
          "data": {
            "text/plain": [
              "<pycaret.classification.oop.ClassificationExperiment at 0x7e045e571150>"
            ]
          },
          "metadata": {},
          "execution_count": 11
        }
      ]
    },
    {
      "cell_type": "code",
      "source": [
        "best_model = compare_models()\n"
      ],
      "metadata": {
        "colab": {
          "base_uri": "https://localhost:8080/",
          "height": 520,
          "referenced_widgets": [
            "9836d6dbfc8f49499db518e5ae349683",
            "60a7e7f746bd46109ea3913d66ea34ba",
            "4dcc4b861bc14c19b6707145afba3f81",
            "95f1da375773495dae3d8c8df1cf8202",
            "f7ee5ab0b7834a939390faf1fef8c07a",
            "7228a550a67e4b839496388f59694c7c",
            "658900e730354c7fab3aa633750ecdf4",
            "8823a17fba20413095f4315032aaf485",
            "ef7ad1b6d4e74aaf973631f4a6ed7924",
            "2bba08be613e43959587790509758338",
            "545c42fd3da741749a91a4c32717ef7c"
          ]
        },
        "id": "SWIuo2u72_Tz",
        "outputId": "4911e1f2-ad56-4045-f168-20d7cb5f32ea"
      },
      "execution_count": null,
      "outputs": [
        {
          "output_type": "display_data",
          "data": {
            "text/plain": [
              "<IPython.core.display.HTML object>"
            ],
            "text/html": []
          },
          "metadata": {}
        },
        {
          "output_type": "display_data",
          "data": {
            "text/plain": [
              "<pandas.io.formats.style.Styler at 0x7e045e7125f0>"
            ],
            "text/html": [
              "<style type=\"text/css\">\n",
              "#T_e8de2 th {\n",
              "  text-align: left;\n",
              "}\n",
              "#T_e8de2_row0_col0, #T_e8de2_row1_col0, #T_e8de2_row1_col1, #T_e8de2_row1_col3, #T_e8de2_row1_col4, #T_e8de2_row1_col5, #T_e8de2_row1_col6, #T_e8de2_row1_col7, #T_e8de2_row2_col0, #T_e8de2_row2_col1, #T_e8de2_row2_col2, #T_e8de2_row2_col3, #T_e8de2_row2_col4, #T_e8de2_row2_col5, #T_e8de2_row2_col6, #T_e8de2_row2_col7, #T_e8de2_row3_col0, #T_e8de2_row3_col1, #T_e8de2_row3_col2, #T_e8de2_row3_col3, #T_e8de2_row3_col4, #T_e8de2_row3_col5, #T_e8de2_row3_col6, #T_e8de2_row3_col7, #T_e8de2_row4_col0, #T_e8de2_row4_col1, #T_e8de2_row4_col2, #T_e8de2_row4_col3, #T_e8de2_row4_col4, #T_e8de2_row4_col5, #T_e8de2_row4_col6, #T_e8de2_row4_col7, #T_e8de2_row5_col0, #T_e8de2_row5_col1, #T_e8de2_row5_col2, #T_e8de2_row5_col3, #T_e8de2_row5_col4, #T_e8de2_row5_col5, #T_e8de2_row5_col6, #T_e8de2_row5_col7, #T_e8de2_row6_col0, #T_e8de2_row6_col1, #T_e8de2_row6_col2, #T_e8de2_row6_col3, #T_e8de2_row6_col4, #T_e8de2_row6_col5, #T_e8de2_row6_col6, #T_e8de2_row6_col7, #T_e8de2_row7_col0, #T_e8de2_row7_col1, #T_e8de2_row7_col2, #T_e8de2_row7_col3, #T_e8de2_row7_col4, #T_e8de2_row7_col5, #T_e8de2_row7_col6, #T_e8de2_row7_col7, #T_e8de2_row8_col0, #T_e8de2_row8_col1, #T_e8de2_row8_col2, #T_e8de2_row8_col3, #T_e8de2_row8_col4, #T_e8de2_row8_col5, #T_e8de2_row8_col6, #T_e8de2_row8_col7, #T_e8de2_row9_col0, #T_e8de2_row9_col1, #T_e8de2_row9_col2, #T_e8de2_row9_col3, #T_e8de2_row9_col4, #T_e8de2_row9_col5, #T_e8de2_row9_col6, #T_e8de2_row9_col7, #T_e8de2_row10_col0, #T_e8de2_row10_col1, #T_e8de2_row10_col2, #T_e8de2_row10_col3, #T_e8de2_row10_col4, #T_e8de2_row10_col5, #T_e8de2_row10_col6, #T_e8de2_row10_col7, #T_e8de2_row11_col0, #T_e8de2_row11_col1, #T_e8de2_row11_col2, #T_e8de2_row11_col3, #T_e8de2_row11_col4, #T_e8de2_row11_col5, #T_e8de2_row11_col6, #T_e8de2_row11_col7, #T_e8de2_row12_col0, #T_e8de2_row12_col1, #T_e8de2_row12_col2, #T_e8de2_row12_col3, #T_e8de2_row12_col4, #T_e8de2_row12_col5, #T_e8de2_row12_col6, #T_e8de2_row12_col7, #T_e8de2_row13_col0, #T_e8de2_row13_col1, #T_e8de2_row13_col2, #T_e8de2_row13_col3, #T_e8de2_row13_col4, #T_e8de2_row13_col5, #T_e8de2_row13_col6, #T_e8de2_row13_col7, #T_e8de2_row14_col0, #T_e8de2_row14_col1, #T_e8de2_row14_col2, #T_e8de2_row14_col3, #T_e8de2_row14_col4, #T_e8de2_row14_col5, #T_e8de2_row14_col6, #T_e8de2_row14_col7 {\n",
              "  text-align: left;\n",
              "}\n",
              "#T_e8de2_row0_col1, #T_e8de2_row0_col2, #T_e8de2_row0_col3, #T_e8de2_row0_col4, #T_e8de2_row0_col5, #T_e8de2_row0_col6, #T_e8de2_row0_col7, #T_e8de2_row1_col2 {\n",
              "  text-align: left;\n",
              "  background-color: yellow;\n",
              "}\n",
              "#T_e8de2_row0_col8, #T_e8de2_row1_col8, #T_e8de2_row2_col8, #T_e8de2_row3_col8, #T_e8de2_row4_col8, #T_e8de2_row5_col8, #T_e8de2_row6_col8, #T_e8de2_row7_col8, #T_e8de2_row8_col8, #T_e8de2_row9_col8, #T_e8de2_row10_col8, #T_e8de2_row11_col8, #T_e8de2_row12_col8, #T_e8de2_row14_col8 {\n",
              "  text-align: left;\n",
              "  background-color: lightgrey;\n",
              "}\n",
              "#T_e8de2_row13_col8 {\n",
              "  text-align: left;\n",
              "  background-color: yellow;\n",
              "  background-color: lightgrey;\n",
              "}\n",
              "</style>\n",
              "<table id=\"T_e8de2\" class=\"dataframe\">\n",
              "  <thead>\n",
              "    <tr>\n",
              "      <th class=\"blank level0\" >&nbsp;</th>\n",
              "      <th id=\"T_e8de2_level0_col0\" class=\"col_heading level0 col0\" >Model</th>\n",
              "      <th id=\"T_e8de2_level0_col1\" class=\"col_heading level0 col1\" >Accuracy</th>\n",
              "      <th id=\"T_e8de2_level0_col2\" class=\"col_heading level0 col2\" >AUC</th>\n",
              "      <th id=\"T_e8de2_level0_col3\" class=\"col_heading level0 col3\" >Recall</th>\n",
              "      <th id=\"T_e8de2_level0_col4\" class=\"col_heading level0 col4\" >Prec.</th>\n",
              "      <th id=\"T_e8de2_level0_col5\" class=\"col_heading level0 col5\" >F1</th>\n",
              "      <th id=\"T_e8de2_level0_col6\" class=\"col_heading level0 col6\" >Kappa</th>\n",
              "      <th id=\"T_e8de2_level0_col7\" class=\"col_heading level0 col7\" >MCC</th>\n",
              "      <th id=\"T_e8de2_level0_col8\" class=\"col_heading level0 col8\" >TT (Sec)</th>\n",
              "    </tr>\n",
              "  </thead>\n",
              "  <tbody>\n",
              "    <tr>\n",
              "      <th id=\"T_e8de2_level0_row0\" class=\"row_heading level0 row0\" >xgboost</th>\n",
              "      <td id=\"T_e8de2_row0_col0\" class=\"data row0 col0\" >Extreme Gradient Boosting</td>\n",
              "      <td id=\"T_e8de2_row0_col1\" class=\"data row0 col1\" >0.9986</td>\n",
              "      <td id=\"T_e8de2_row0_col2\" class=\"data row0 col2\" >0.9998</td>\n",
              "      <td id=\"T_e8de2_row0_col3\" class=\"data row0 col3\" >0.9986</td>\n",
              "      <td id=\"T_e8de2_row0_col4\" class=\"data row0 col4\" >0.9984</td>\n",
              "      <td id=\"T_e8de2_row0_col5\" class=\"data row0 col5\" >0.9984</td>\n",
              "      <td id=\"T_e8de2_row0_col6\" class=\"data row0 col6\" >0.9975</td>\n",
              "      <td id=\"T_e8de2_row0_col7\" class=\"data row0 col7\" >0.9975</td>\n",
              "      <td id=\"T_e8de2_row0_col8\" class=\"data row0 col8\" >1.4280</td>\n",
              "    </tr>\n",
              "    <tr>\n",
              "      <th id=\"T_e8de2_level0_row1\" class=\"row_heading level0 row1\" >lightgbm</th>\n",
              "      <td id=\"T_e8de2_row1_col0\" class=\"data row1 col0\" >Light Gradient Boosting Machine</td>\n",
              "      <td id=\"T_e8de2_row1_col1\" class=\"data row1 col1\" >0.9985</td>\n",
              "      <td id=\"T_e8de2_row1_col2\" class=\"data row1 col2\" >0.9998</td>\n",
              "      <td id=\"T_e8de2_row1_col3\" class=\"data row1 col3\" >0.9985</td>\n",
              "      <td id=\"T_e8de2_row1_col4\" class=\"data row1 col4\" >0.9983</td>\n",
              "      <td id=\"T_e8de2_row1_col5\" class=\"data row1 col5\" >0.9983</td>\n",
              "      <td id=\"T_e8de2_row1_col6\" class=\"data row1 col6\" >0.9973</td>\n",
              "      <td id=\"T_e8de2_row1_col7\" class=\"data row1 col7\" >0.9973</td>\n",
              "      <td id=\"T_e8de2_row1_col8\" class=\"data row1 col8\" >8.7350</td>\n",
              "    </tr>\n",
              "    <tr>\n",
              "      <th id=\"T_e8de2_level0_row2\" class=\"row_heading level0 row2\" >rf</th>\n",
              "      <td id=\"T_e8de2_row2_col0\" class=\"data row2 col0\" >Random Forest Classifier</td>\n",
              "      <td id=\"T_e8de2_row2_col1\" class=\"data row2 col1\" >0.9981</td>\n",
              "      <td id=\"T_e8de2_row2_col2\" class=\"data row2 col2\" >0.9996</td>\n",
              "      <td id=\"T_e8de2_row2_col3\" class=\"data row2 col3\" >0.9981</td>\n",
              "      <td id=\"T_e8de2_row2_col4\" class=\"data row2 col4\" >0.9980</td>\n",
              "      <td id=\"T_e8de2_row2_col5\" class=\"data row2 col5\" >0.9980</td>\n",
              "      <td id=\"T_e8de2_row2_col6\" class=\"data row2 col6\" >0.9968</td>\n",
              "      <td id=\"T_e8de2_row2_col7\" class=\"data row2 col7\" >0.9968</td>\n",
              "      <td id=\"T_e8de2_row2_col8\" class=\"data row2 col8\" >2.6940</td>\n",
              "    </tr>\n",
              "    <tr>\n",
              "      <th id=\"T_e8de2_level0_row3\" class=\"row_heading level0 row3\" >gbc</th>\n",
              "      <td id=\"T_e8de2_row3_col0\" class=\"data row3 col0\" >Gradient Boosting Classifier</td>\n",
              "      <td id=\"T_e8de2_row3_col1\" class=\"data row3 col1\" >0.9980</td>\n",
              "      <td id=\"T_e8de2_row3_col2\" class=\"data row3 col2\" >0.9991</td>\n",
              "      <td id=\"T_e8de2_row3_col3\" class=\"data row3 col3\" >0.9980</td>\n",
              "      <td id=\"T_e8de2_row3_col4\" class=\"data row3 col4\" >0.9979</td>\n",
              "      <td id=\"T_e8de2_row3_col5\" class=\"data row3 col5\" >0.9979</td>\n",
              "      <td id=\"T_e8de2_row3_col6\" class=\"data row3 col6\" >0.9965</td>\n",
              "      <td id=\"T_e8de2_row3_col7\" class=\"data row3 col7\" >0.9965</td>\n",
              "      <td id=\"T_e8de2_row3_col8\" class=\"data row3 col8\" >17.5070</td>\n",
              "    </tr>\n",
              "    <tr>\n",
              "      <th id=\"T_e8de2_level0_row4\" class=\"row_heading level0 row4\" >dt</th>\n",
              "      <td id=\"T_e8de2_row4_col0\" class=\"data row4 col0\" >Decision Tree Classifier</td>\n",
              "      <td id=\"T_e8de2_row4_col1\" class=\"data row4 col1\" >0.9979</td>\n",
              "      <td id=\"T_e8de2_row4_col2\" class=\"data row4 col2\" >0.9987</td>\n",
              "      <td id=\"T_e8de2_row4_col3\" class=\"data row4 col3\" >0.9979</td>\n",
              "      <td id=\"T_e8de2_row4_col4\" class=\"data row4 col4\" >0.9978</td>\n",
              "      <td id=\"T_e8de2_row4_col5\" class=\"data row4 col5\" >0.9979</td>\n",
              "      <td id=\"T_e8de2_row4_col6\" class=\"data row4 col6\" >0.9964</td>\n",
              "      <td id=\"T_e8de2_row4_col7\" class=\"data row4 col7\" >0.9964</td>\n",
              "      <td id=\"T_e8de2_row4_col8\" class=\"data row4 col8\" >0.1080</td>\n",
              "    </tr>\n",
              "    <tr>\n",
              "      <th id=\"T_e8de2_level0_row5\" class=\"row_heading level0 row5\" >et</th>\n",
              "      <td id=\"T_e8de2_row5_col0\" class=\"data row5 col0\" >Extra Trees Classifier</td>\n",
              "      <td id=\"T_e8de2_row5_col1\" class=\"data row5 col1\" >0.9978</td>\n",
              "      <td id=\"T_e8de2_row5_col2\" class=\"data row5 col2\" >0.9996</td>\n",
              "      <td id=\"T_e8de2_row5_col3\" class=\"data row5 col3\" >0.9978</td>\n",
              "      <td id=\"T_e8de2_row5_col4\" class=\"data row5 col4\" >0.9977</td>\n",
              "      <td id=\"T_e8de2_row5_col5\" class=\"data row5 col5\" >0.9976</td>\n",
              "      <td id=\"T_e8de2_row5_col6\" class=\"data row5 col6\" >0.9962</td>\n",
              "      <td id=\"T_e8de2_row5_col7\" class=\"data row5 col7\" >0.9962</td>\n",
              "      <td id=\"T_e8de2_row5_col8\" class=\"data row5 col8\" >1.7890</td>\n",
              "    </tr>\n",
              "    <tr>\n",
              "      <th id=\"T_e8de2_level0_row6\" class=\"row_heading level0 row6\" >lr</th>\n",
              "      <td id=\"T_e8de2_row6_col0\" class=\"data row6 col0\" >Logistic Regression</td>\n",
              "      <td id=\"T_e8de2_row6_col1\" class=\"data row6 col1\" >0.9898</td>\n",
              "      <td id=\"T_e8de2_row6_col2\" class=\"data row6 col2\" >0.9980</td>\n",
              "      <td id=\"T_e8de2_row6_col3\" class=\"data row6 col3\" >0.9898</td>\n",
              "      <td id=\"T_e8de2_row6_col4\" class=\"data row6 col4\" >0.9892</td>\n",
              "      <td id=\"T_e8de2_row6_col5\" class=\"data row6 col5\" >0.9894</td>\n",
              "      <td id=\"T_e8de2_row6_col6\" class=\"data row6 col6\" >0.9823</td>\n",
              "      <td id=\"T_e8de2_row6_col7\" class=\"data row6 col7\" >0.9825</td>\n",
              "      <td id=\"T_e8de2_row6_col8\" class=\"data row6 col8\" >7.9830</td>\n",
              "    </tr>\n",
              "    <tr>\n",
              "      <th id=\"T_e8de2_level0_row7\" class=\"row_heading level0 row7\" >ada</th>\n",
              "      <td id=\"T_e8de2_row7_col0\" class=\"data row7 col0\" >Ada Boost Classifier</td>\n",
              "      <td id=\"T_e8de2_row7_col1\" class=\"data row7 col1\" >0.9746</td>\n",
              "      <td id=\"T_e8de2_row7_col2\" class=\"data row7 col2\" >0.9909</td>\n",
              "      <td id=\"T_e8de2_row7_col3\" class=\"data row7 col3\" >0.9746</td>\n",
              "      <td id=\"T_e8de2_row7_col4\" class=\"data row7 col4\" >0.9865</td>\n",
              "      <td id=\"T_e8de2_row7_col5\" class=\"data row7 col5\" >0.9797</td>\n",
              "      <td id=\"T_e8de2_row7_col6\" class=\"data row7 col6\" >0.9584</td>\n",
              "      <td id=\"T_e8de2_row7_col7\" class=\"data row7 col7\" >0.9603</td>\n",
              "      <td id=\"T_e8de2_row7_col8\" class=\"data row7 col8\" >1.3350</td>\n",
              "    </tr>\n",
              "    <tr>\n",
              "      <th id=\"T_e8de2_level0_row8\" class=\"row_heading level0 row8\" >knn</th>\n",
              "      <td id=\"T_e8de2_row8_col0\" class=\"data row8 col0\" >K Neighbors Classifier</td>\n",
              "      <td id=\"T_e8de2_row8_col1\" class=\"data row8 col1\" >0.9630</td>\n",
              "      <td id=\"T_e8de2_row8_col2\" class=\"data row8 col2\" >0.9902</td>\n",
              "      <td id=\"T_e8de2_row8_col3\" class=\"data row8 col3\" >0.9630</td>\n",
              "      <td id=\"T_e8de2_row8_col4\" class=\"data row8 col4\" >0.9623</td>\n",
              "      <td id=\"T_e8de2_row8_col5\" class=\"data row8 col5\" >0.9626</td>\n",
              "      <td id=\"T_e8de2_row8_col6\" class=\"data row8 col6\" >0.9363</td>\n",
              "      <td id=\"T_e8de2_row8_col7\" class=\"data row8 col7\" >0.9363</td>\n",
              "      <td id=\"T_e8de2_row8_col8\" class=\"data row8 col8\" >0.3740</td>\n",
              "    </tr>\n",
              "    <tr>\n",
              "      <th id=\"T_e8de2_level0_row9\" class=\"row_heading level0 row9\" >svm</th>\n",
              "      <td id=\"T_e8de2_row9_col0\" class=\"data row9 col0\" >SVM - Linear Kernel</td>\n",
              "      <td id=\"T_e8de2_row9_col1\" class=\"data row9 col1\" >0.8797</td>\n",
              "      <td id=\"T_e8de2_row9_col2\" class=\"data row9 col2\" >0.0000</td>\n",
              "      <td id=\"T_e8de2_row9_col3\" class=\"data row9 col3\" >0.8797</td>\n",
              "      <td id=\"T_e8de2_row9_col4\" class=\"data row9 col4\" >0.9036</td>\n",
              "      <td id=\"T_e8de2_row9_col5\" class=\"data row9 col5\" >0.8786</td>\n",
              "      <td id=\"T_e8de2_row9_col6\" class=\"data row9 col6\" >0.8000</td>\n",
              "      <td id=\"T_e8de2_row9_col7\" class=\"data row9 col7\" >0.8109</td>\n",
              "      <td id=\"T_e8de2_row9_col8\" class=\"data row9 col8\" >2.3500</td>\n",
              "    </tr>\n",
              "    <tr>\n",
              "      <th id=\"T_e8de2_level0_row10\" class=\"row_heading level0 row10\" >ridge</th>\n",
              "      <td id=\"T_e8de2_row10_col0\" class=\"data row10 col0\" >Ridge Classifier</td>\n",
              "      <td id=\"T_e8de2_row10_col1\" class=\"data row10 col1\" >0.6935</td>\n",
              "      <td id=\"T_e8de2_row10_col2\" class=\"data row10 col2\" >0.0000</td>\n",
              "      <td id=\"T_e8de2_row10_col3\" class=\"data row10 col3\" >0.6935</td>\n",
              "      <td id=\"T_e8de2_row10_col4\" class=\"data row10 col4\" >0.5629</td>\n",
              "      <td id=\"T_e8de2_row10_col5\" class=\"data row10 col5\" >0.6171</td>\n",
              "      <td id=\"T_e8de2_row10_col6\" class=\"data row10 col6\" >0.3870</td>\n",
              "      <td id=\"T_e8de2_row10_col7\" class=\"data row10 col7\" >0.4376</td>\n",
              "      <td id=\"T_e8de2_row10_col8\" class=\"data row10 col8\" >0.0640</td>\n",
              "    </tr>\n",
              "    <tr>\n",
              "      <th id=\"T_e8de2_level0_row11\" class=\"row_heading level0 row11\" >lda</th>\n",
              "      <td id=\"T_e8de2_row11_col0\" class=\"data row11 col0\" >Linear Discriminant Analysis</td>\n",
              "      <td id=\"T_e8de2_row11_col1\" class=\"data row11 col1\" >0.6860</td>\n",
              "      <td id=\"T_e8de2_row11_col2\" class=\"data row11 col2\" >0.8205</td>\n",
              "      <td id=\"T_e8de2_row11_col3\" class=\"data row11 col3\" >0.6860</td>\n",
              "      <td id=\"T_e8de2_row11_col4\" class=\"data row11 col4\" >0.5577</td>\n",
              "      <td id=\"T_e8de2_row11_col5\" class=\"data row11 col5\" >0.6097</td>\n",
              "      <td id=\"T_e8de2_row11_col6\" class=\"data row11 col6\" >0.3681</td>\n",
              "      <td id=\"T_e8de2_row11_col7\" class=\"data row11 col7\" >0.4201</td>\n",
              "      <td id=\"T_e8de2_row11_col8\" class=\"data row11 col8\" >0.0850</td>\n",
              "    </tr>\n",
              "    <tr>\n",
              "      <th id=\"T_e8de2_level0_row12\" class=\"row_heading level0 row12\" >nb</th>\n",
              "      <td id=\"T_e8de2_row12_col0\" class=\"data row12 col0\" >Naive Bayes</td>\n",
              "      <td id=\"T_e8de2_row12_col1\" class=\"data row12 col1\" >0.6320</td>\n",
              "      <td id=\"T_e8de2_row12_col2\" class=\"data row12 col2\" >0.9232</td>\n",
              "      <td id=\"T_e8de2_row12_col3\" class=\"data row12 col3\" >0.6320</td>\n",
              "      <td id=\"T_e8de2_row12_col4\" class=\"data row12 col4\" >0.8125</td>\n",
              "      <td id=\"T_e8de2_row12_col5\" class=\"data row12 col5\" >0.6104</td>\n",
              "      <td id=\"T_e8de2_row12_col6\" class=\"data row12 col6\" >0.4836</td>\n",
              "      <td id=\"T_e8de2_row12_col7\" class=\"data row12 col7\" >0.5675</td>\n",
              "      <td id=\"T_e8de2_row12_col8\" class=\"data row12 col8\" >0.0730</td>\n",
              "    </tr>\n",
              "    <tr>\n",
              "      <th id=\"T_e8de2_level0_row13\" class=\"row_heading level0 row13\" >dummy</th>\n",
              "      <td id=\"T_e8de2_row13_col0\" class=\"data row13 col0\" >Dummy Classifier</td>\n",
              "      <td id=\"T_e8de2_row13_col1\" class=\"data row13 col1\" >0.5744</td>\n",
              "      <td id=\"T_e8de2_row13_col2\" class=\"data row13 col2\" >0.5000</td>\n",
              "      <td id=\"T_e8de2_row13_col3\" class=\"data row13 col3\" >0.5744</td>\n",
              "      <td id=\"T_e8de2_row13_col4\" class=\"data row13 col4\" >0.3299</td>\n",
              "      <td id=\"T_e8de2_row13_col5\" class=\"data row13 col5\" >0.4191</td>\n",
              "      <td id=\"T_e8de2_row13_col6\" class=\"data row13 col6\" >0.0000</td>\n",
              "      <td id=\"T_e8de2_row13_col7\" class=\"data row13 col7\" >0.0000</td>\n",
              "      <td id=\"T_e8de2_row13_col8\" class=\"data row13 col8\" >0.0590</td>\n",
              "    </tr>\n",
              "    <tr>\n",
              "      <th id=\"T_e8de2_level0_row14\" class=\"row_heading level0 row14\" >qda</th>\n",
              "      <td id=\"T_e8de2_row14_col0\" class=\"data row14 col0\" >Quadratic Discriminant Analysis</td>\n",
              "      <td id=\"T_e8de2_row14_col1\" class=\"data row14 col1\" >0.1994</td>\n",
              "      <td id=\"T_e8de2_row14_col2\" class=\"data row14 col2\" >0.0000</td>\n",
              "      <td id=\"T_e8de2_row14_col3\" class=\"data row14 col3\" >0.1994</td>\n",
              "      <td id=\"T_e8de2_row14_col4\" class=\"data row14 col4\" >0.0398</td>\n",
              "      <td id=\"T_e8de2_row14_col5\" class=\"data row14 col5\" >0.0664</td>\n",
              "      <td id=\"T_e8de2_row14_col6\" class=\"data row14 col6\" >0.0000</td>\n",
              "      <td id=\"T_e8de2_row14_col7\" class=\"data row14 col7\" >0.0000</td>\n",
              "      <td id=\"T_e8de2_row14_col8\" class=\"data row14 col8\" >0.0720</td>\n",
              "    </tr>\n",
              "  </tbody>\n",
              "</table>\n"
            ]
          },
          "metadata": {}
        },
        {
          "output_type": "display_data",
          "data": {
            "text/plain": [
              "Processing:   0%|          | 0/65 [00:00<?, ?it/s]"
            ],
            "application/vnd.jupyter.widget-view+json": {
              "version_major": 2,
              "version_minor": 0,
              "model_id": "9836d6dbfc8f49499db518e5ae349683"
            }
          },
          "metadata": {
            "application/vnd.jupyter.widget-view+json": {
              "colab": {
                "custom_widget_manager": {
                  "url": "https://ssl.gstatic.com/colaboratory-static/widgets/colab-cdn-widget-manager/2b70e893a8ba7c0f/manager.min.js"
                }
              }
            }
          }
        },
        {
          "output_type": "display_data",
          "data": {
            "text/plain": [
              "<IPython.core.display.HTML object>"
            ],
            "text/html": []
          },
          "metadata": {}
        }
      ]
    },
    {
      "cell_type": "code",
      "source": [
        "# Ajuste del modelo seleccionado\n",
        "final_model = create_model(best_model)\n",
        "\n",
        "# Evaluación del modelo\n",
        "evaluate_model(final_model)"
      ],
      "metadata": {
        "colab": {
          "base_uri": "https://localhost:8080/",
          "height": 671,
          "referenced_widgets": [
            "42eca496c2be41ada01af4bfb79ff9fa",
            "dcd399251f824662851c0e908a56620e",
            "79521ae39b6140d99c17f49c3458a746",
            "013e285dbea24ea5ac5f35ffbb2cd927",
            "dad59071c6a14ab483e429e65b6354b4",
            "46e2c71b566f4d6ca271a26f005958de",
            "dae6e5b649ef44b391aac06bb27d7562",
            "3fda9b68a04447659c16c4e357fd170f",
            "1a1ca6db434b4b6fb0d070dda1e99d54",
            "fdf7faa1a1c9417b86cc31ca4b5252ca",
            "a444ee6051164fa48789fce96dc8f414",
            "0d24cc067f244d57b2e7ee5c3bf2e57b",
            "204c623b5e4a4540aab1cb7eba48854a",
            "0dc4c60075c14ea4932c8dd4650c3708",
            "f9eaa3f7464e4f9db5f2f50ef69dec82",
            "c3c3af09adee482d98d9b821dddee1da",
            "0ffc07269d0344819ab004c930fa8947",
            "b8b92fa0a39740f1b35d99aeaa4c0dd6"
          ]
        },
        "id": "33H6uxyM3yt5",
        "outputId": "9ae4d0ff-d90e-443d-f79e-22ac19174523"
      },
      "execution_count": null,
      "outputs": [
        {
          "output_type": "display_data",
          "data": {
            "text/plain": [
              "<IPython.core.display.HTML object>"
            ],
            "text/html": []
          },
          "metadata": {}
        },
        {
          "output_type": "display_data",
          "data": {
            "text/plain": [
              "<pandas.io.formats.style.Styler at 0x7e045e213cd0>"
            ],
            "text/html": [
              "<style type=\"text/css\">\n",
              "#T_fff28_row10_col0, #T_fff28_row10_col1, #T_fff28_row10_col2, #T_fff28_row10_col3, #T_fff28_row10_col4, #T_fff28_row10_col5, #T_fff28_row10_col6 {\n",
              "  background: yellow;\n",
              "}\n",
              "</style>\n",
              "<table id=\"T_fff28\" class=\"dataframe\">\n",
              "  <thead>\n",
              "    <tr>\n",
              "      <th class=\"blank level0\" >&nbsp;</th>\n",
              "      <th id=\"T_fff28_level0_col0\" class=\"col_heading level0 col0\" >Accuracy</th>\n",
              "      <th id=\"T_fff28_level0_col1\" class=\"col_heading level0 col1\" >AUC</th>\n",
              "      <th id=\"T_fff28_level0_col2\" class=\"col_heading level0 col2\" >Recall</th>\n",
              "      <th id=\"T_fff28_level0_col3\" class=\"col_heading level0 col3\" >Prec.</th>\n",
              "      <th id=\"T_fff28_level0_col4\" class=\"col_heading level0 col4\" >F1</th>\n",
              "      <th id=\"T_fff28_level0_col5\" class=\"col_heading level0 col5\" >Kappa</th>\n",
              "      <th id=\"T_fff28_level0_col6\" class=\"col_heading level0 col6\" >MCC</th>\n",
              "    </tr>\n",
              "    <tr>\n",
              "      <th class=\"index_name level0\" >Fold</th>\n",
              "      <th class=\"blank col0\" >&nbsp;</th>\n",
              "      <th class=\"blank col1\" >&nbsp;</th>\n",
              "      <th class=\"blank col2\" >&nbsp;</th>\n",
              "      <th class=\"blank col3\" >&nbsp;</th>\n",
              "      <th class=\"blank col4\" >&nbsp;</th>\n",
              "      <th class=\"blank col5\" >&nbsp;</th>\n",
              "      <th class=\"blank col6\" >&nbsp;</th>\n",
              "    </tr>\n",
              "  </thead>\n",
              "  <tbody>\n",
              "    <tr>\n",
              "      <th id=\"T_fff28_level0_row0\" class=\"row_heading level0 row0\" >0</th>\n",
              "      <td id=\"T_fff28_row0_col0\" class=\"data row0 col0\" >0.9978</td>\n",
              "      <td id=\"T_fff28_row0_col1\" class=\"data row0 col1\" >0.9999</td>\n",
              "      <td id=\"T_fff28_row0_col2\" class=\"data row0 col2\" >0.9978</td>\n",
              "      <td id=\"T_fff28_row0_col3\" class=\"data row0 col3\" >0.9974</td>\n",
              "      <td id=\"T_fff28_row0_col4\" class=\"data row0 col4\" >0.9976</td>\n",
              "      <td id=\"T_fff28_row0_col5\" class=\"data row0 col5\" >0.9962</td>\n",
              "      <td id=\"T_fff28_row0_col6\" class=\"data row0 col6\" >0.9962</td>\n",
              "    </tr>\n",
              "    <tr>\n",
              "      <th id=\"T_fff28_level0_row1\" class=\"row_heading level0 row1\" >1</th>\n",
              "      <td id=\"T_fff28_row1_col0\" class=\"data row1 col0\" >0.9989</td>\n",
              "      <td id=\"T_fff28_row1_col1\" class=\"data row1 col1\" >0.9999</td>\n",
              "      <td id=\"T_fff28_row1_col2\" class=\"data row1 col2\" >0.9989</td>\n",
              "      <td id=\"T_fff28_row1_col3\" class=\"data row1 col3\" >0.9989</td>\n",
              "      <td id=\"T_fff28_row1_col4\" class=\"data row1 col4\" >0.9987</td>\n",
              "      <td id=\"T_fff28_row1_col5\" class=\"data row1 col5\" >0.9981</td>\n",
              "      <td id=\"T_fff28_row1_col6\" class=\"data row1 col6\" >0.9981</td>\n",
              "    </tr>\n",
              "    <tr>\n",
              "      <th id=\"T_fff28_level0_row2\" class=\"row_heading level0 row2\" >2</th>\n",
              "      <td id=\"T_fff28_row2_col0\" class=\"data row2 col0\" >0.9980</td>\n",
              "      <td id=\"T_fff28_row2_col1\" class=\"data row2 col1\" >0.9995</td>\n",
              "      <td id=\"T_fff28_row2_col2\" class=\"data row2 col2\" >0.9980</td>\n",
              "      <td id=\"T_fff28_row2_col3\" class=\"data row2 col3\" >0.9979</td>\n",
              "      <td id=\"T_fff28_row2_col4\" class=\"data row2 col4\" >0.9980</td>\n",
              "      <td id=\"T_fff28_row2_col5\" class=\"data row2 col5\" >0.9966</td>\n",
              "      <td id=\"T_fff28_row2_col6\" class=\"data row2 col6\" >0.9966</td>\n",
              "    </tr>\n",
              "    <tr>\n",
              "      <th id=\"T_fff28_level0_row3\" class=\"row_heading level0 row3\" >3</th>\n",
              "      <td id=\"T_fff28_row3_col0\" class=\"data row3 col0\" >0.9985</td>\n",
              "      <td id=\"T_fff28_row3_col1\" class=\"data row3 col1\" >0.9999</td>\n",
              "      <td id=\"T_fff28_row3_col2\" class=\"data row3 col2\" >0.9985</td>\n",
              "      <td id=\"T_fff28_row3_col3\" class=\"data row3 col3\" >0.9985</td>\n",
              "      <td id=\"T_fff28_row3_col4\" class=\"data row3 col4\" >0.9984</td>\n",
              "      <td id=\"T_fff28_row3_col5\" class=\"data row3 col5\" >0.9974</td>\n",
              "      <td id=\"T_fff28_row3_col6\" class=\"data row3 col6\" >0.9974</td>\n",
              "    </tr>\n",
              "    <tr>\n",
              "      <th id=\"T_fff28_level0_row4\" class=\"row_heading level0 row4\" >4</th>\n",
              "      <td id=\"T_fff28_row4_col0\" class=\"data row4 col0\" >0.9985</td>\n",
              "      <td id=\"T_fff28_row4_col1\" class=\"data row4 col1\" >0.9999</td>\n",
              "      <td id=\"T_fff28_row4_col2\" class=\"data row4 col2\" >0.9985</td>\n",
              "      <td id=\"T_fff28_row4_col3\" class=\"data row4 col3\" >0.9985</td>\n",
              "      <td id=\"T_fff28_row4_col4\" class=\"data row4 col4\" >0.9985</td>\n",
              "      <td id=\"T_fff28_row4_col5\" class=\"data row4 col5\" >0.9974</td>\n",
              "      <td id=\"T_fff28_row4_col6\" class=\"data row4 col6\" >0.9974</td>\n",
              "    </tr>\n",
              "    <tr>\n",
              "      <th id=\"T_fff28_level0_row5\" class=\"row_heading level0 row5\" >5</th>\n",
              "      <td id=\"T_fff28_row5_col0\" class=\"data row5 col0\" >0.9989</td>\n",
              "      <td id=\"T_fff28_row5_col1\" class=\"data row5 col1\" >0.9998</td>\n",
              "      <td id=\"T_fff28_row5_col2\" class=\"data row5 col2\" >0.9989</td>\n",
              "      <td id=\"T_fff28_row5_col3\" class=\"data row5 col3\" >0.9989</td>\n",
              "      <td id=\"T_fff28_row5_col4\" class=\"data row5 col4\" >0.9987</td>\n",
              "      <td id=\"T_fff28_row5_col5\" class=\"data row5 col5\" >0.9981</td>\n",
              "      <td id=\"T_fff28_row5_col6\" class=\"data row5 col6\" >0.9981</td>\n",
              "    </tr>\n",
              "    <tr>\n",
              "      <th id=\"T_fff28_level0_row6\" class=\"row_heading level0 row6\" >6</th>\n",
              "      <td id=\"T_fff28_row6_col0\" class=\"data row6 col0\" >0.9987</td>\n",
              "      <td id=\"T_fff28_row6_col1\" class=\"data row6 col1\" >1.0000</td>\n",
              "      <td id=\"T_fff28_row6_col2\" class=\"data row6 col2\" >0.9987</td>\n",
              "      <td id=\"T_fff28_row6_col3\" class=\"data row6 col3\" >0.9978</td>\n",
              "      <td id=\"T_fff28_row6_col4\" class=\"data row6 col4\" >0.9983</td>\n",
              "      <td id=\"T_fff28_row6_col5\" class=\"data row6 col5\" >0.9977</td>\n",
              "      <td id=\"T_fff28_row6_col6\" class=\"data row6 col6\" >0.9977</td>\n",
              "    </tr>\n",
              "    <tr>\n",
              "      <th id=\"T_fff28_level0_row7\" class=\"row_heading level0 row7\" >7</th>\n",
              "      <td id=\"T_fff28_row7_col0\" class=\"data row7 col0\" >0.9987</td>\n",
              "      <td id=\"T_fff28_row7_col1\" class=\"data row7 col1\" >0.9997</td>\n",
              "      <td id=\"T_fff28_row7_col2\" class=\"data row7 col2\" >0.9987</td>\n",
              "      <td id=\"T_fff28_row7_col3\" class=\"data row7 col3\" >0.9987</td>\n",
              "      <td id=\"T_fff28_row7_col4\" class=\"data row7 col4\" >0.9985</td>\n",
              "      <td id=\"T_fff28_row7_col5\" class=\"data row7 col5\" >0.9977</td>\n",
              "      <td id=\"T_fff28_row7_col6\" class=\"data row7 col6\" >0.9977</td>\n",
              "    </tr>\n",
              "    <tr>\n",
              "      <th id=\"T_fff28_level0_row8\" class=\"row_heading level0 row8\" >8</th>\n",
              "      <td id=\"T_fff28_row8_col0\" class=\"data row8 col0\" >0.9983</td>\n",
              "      <td id=\"T_fff28_row8_col1\" class=\"data row8 col1\" >0.9998</td>\n",
              "      <td id=\"T_fff28_row8_col2\" class=\"data row8 col2\" >0.9983</td>\n",
              "      <td id=\"T_fff28_row8_col3\" class=\"data row8 col3\" >0.9983</td>\n",
              "      <td id=\"T_fff28_row8_col4\" class=\"data row8 col4\" >0.9982</td>\n",
              "      <td id=\"T_fff28_row8_col5\" class=\"data row8 col5\" >0.9970</td>\n",
              "      <td id=\"T_fff28_row8_col6\" class=\"data row8 col6\" >0.9970</td>\n",
              "    </tr>\n",
              "    <tr>\n",
              "      <th id=\"T_fff28_level0_row9\" class=\"row_heading level0 row9\" >9</th>\n",
              "      <td id=\"T_fff28_row9_col0\" class=\"data row9 col0\" >0.9993</td>\n",
              "      <td id=\"T_fff28_row9_col1\" class=\"data row9 col1\" >0.9998</td>\n",
              "      <td id=\"T_fff28_row9_col2\" class=\"data row9 col2\" >0.9993</td>\n",
              "      <td id=\"T_fff28_row9_col3\" class=\"data row9 col3\" >0.9993</td>\n",
              "      <td id=\"T_fff28_row9_col4\" class=\"data row9 col4\" >0.9993</td>\n",
              "      <td id=\"T_fff28_row9_col5\" class=\"data row9 col5\" >0.9989</td>\n",
              "      <td id=\"T_fff28_row9_col6\" class=\"data row9 col6\" >0.9989</td>\n",
              "    </tr>\n",
              "    <tr>\n",
              "      <th id=\"T_fff28_level0_row10\" class=\"row_heading level0 row10\" >Mean</th>\n",
              "      <td id=\"T_fff28_row10_col0\" class=\"data row10 col0\" >0.9986</td>\n",
              "      <td id=\"T_fff28_row10_col1\" class=\"data row10 col1\" >0.9998</td>\n",
              "      <td id=\"T_fff28_row10_col2\" class=\"data row10 col2\" >0.9986</td>\n",
              "      <td id=\"T_fff28_row10_col3\" class=\"data row10 col3\" >0.9984</td>\n",
              "      <td id=\"T_fff28_row10_col4\" class=\"data row10 col4\" >0.9984</td>\n",
              "      <td id=\"T_fff28_row10_col5\" class=\"data row10 col5\" >0.9975</td>\n",
              "      <td id=\"T_fff28_row10_col6\" class=\"data row10 col6\" >0.9975</td>\n",
              "    </tr>\n",
              "    <tr>\n",
              "      <th id=\"T_fff28_level0_row11\" class=\"row_heading level0 row11\" >Std</th>\n",
              "      <td id=\"T_fff28_row11_col0\" class=\"data row11 col0\" >0.0004</td>\n",
              "      <td id=\"T_fff28_row11_col1\" class=\"data row11 col1\" >0.0001</td>\n",
              "      <td id=\"T_fff28_row11_col2\" class=\"data row11 col2\" >0.0004</td>\n",
              "      <td id=\"T_fff28_row11_col3\" class=\"data row11 col3\" >0.0006</td>\n",
              "      <td id=\"T_fff28_row11_col4\" class=\"data row11 col4\" >0.0004</td>\n",
              "      <td id=\"T_fff28_row11_col5\" class=\"data row11 col5\" >0.0007</td>\n",
              "      <td id=\"T_fff28_row11_col6\" class=\"data row11 col6\" >0.0007</td>\n",
              "    </tr>\n",
              "  </tbody>\n",
              "</table>\n"
            ]
          },
          "metadata": {}
        },
        {
          "output_type": "display_data",
          "data": {
            "text/plain": [
              "Processing:   0%|          | 0/4 [00:00<?, ?it/s]"
            ],
            "application/vnd.jupyter.widget-view+json": {
              "version_major": 2,
              "version_minor": 0,
              "model_id": "42eca496c2be41ada01af4bfb79ff9fa"
            }
          },
          "metadata": {
            "application/vnd.jupyter.widget-view+json": {
              "colab": {
                "custom_widget_manager": {
                  "url": "https://ssl.gstatic.com/colaboratory-static/widgets/colab-cdn-widget-manager/2b70e893a8ba7c0f/manager.min.js"
                }
              }
            }
          }
        },
        {
          "output_type": "display_data",
          "data": {
            "text/plain": [
              "<IPython.core.display.HTML object>"
            ],
            "text/html": []
          },
          "metadata": {}
        },
        {
          "output_type": "display_data",
          "data": {
            "text/plain": [
              "interactive(children=(ToggleButtons(description='Plot Type:', icons=('',), options=(('Pipeline Plot', 'pipelin…"
            ],
            "application/vnd.jupyter.widget-view+json": {
              "version_major": 2,
              "version_minor": 0,
              "model_id": "c3c3af09adee482d98d9b821dddee1da"
            }
          },
          "metadata": {
            "application/vnd.jupyter.widget-view+json": {
              "colab": {
                "custom_widget_manager": {
                  "url": "https://ssl.gstatic.com/colaboratory-static/widgets/colab-cdn-widget-manager/2b70e893a8ba7c0f/manager.min.js"
                }
              }
            }
          }
        }
      ]
    },
    {
      "cell_type": "code",
      "source": [
        "predictions = predict_model(final_model, data=test_data)\n"
      ],
      "metadata": {
        "colab": {
          "base_uri": "https://localhost:8080/",
          "height": 81
        },
        "id": "Wstxv-b-31e-",
        "outputId": "828279f7-91a1-4499-fe74-752f3c892f2d"
      },
      "execution_count": null,
      "outputs": [
        {
          "output_type": "display_data",
          "data": {
            "text/plain": [
              "<pandas.io.formats.style.Styler at 0x7e045e571300>"
            ],
            "text/html": [
              "<style type=\"text/css\">\n",
              "</style>\n",
              "<table id=\"T_62a0f\" class=\"dataframe\">\n",
              "  <thead>\n",
              "    <tr>\n",
              "      <th class=\"blank level0\" >&nbsp;</th>\n",
              "      <th id=\"T_62a0f_level0_col0\" class=\"col_heading level0 col0\" >Model</th>\n",
              "      <th id=\"T_62a0f_level0_col1\" class=\"col_heading level0 col1\" >Accuracy</th>\n",
              "      <th id=\"T_62a0f_level0_col2\" class=\"col_heading level0 col2\" >AUC</th>\n",
              "      <th id=\"T_62a0f_level0_col3\" class=\"col_heading level0 col3\" >Recall</th>\n",
              "      <th id=\"T_62a0f_level0_col4\" class=\"col_heading level0 col4\" >Prec.</th>\n",
              "      <th id=\"T_62a0f_level0_col5\" class=\"col_heading level0 col5\" >F1</th>\n",
              "      <th id=\"T_62a0f_level0_col6\" class=\"col_heading level0 col6\" >Kappa</th>\n",
              "      <th id=\"T_62a0f_level0_col7\" class=\"col_heading level0 col7\" >MCC</th>\n",
              "    </tr>\n",
              "  </thead>\n",
              "  <tbody>\n",
              "    <tr>\n",
              "      <th id=\"T_62a0f_level0_row0\" class=\"row_heading level0 row0\" >0</th>\n",
              "      <td id=\"T_62a0f_row0_col0\" class=\"data row0 col0\" >Extreme Gradient Boosting</td>\n",
              "      <td id=\"T_62a0f_row0_col1\" class=\"data row0 col1\" >0.9992</td>\n",
              "      <td id=\"T_62a0f_row0_col2\" class=\"data row0 col2\" >1.0000</td>\n",
              "      <td id=\"T_62a0f_row0_col3\" class=\"data row0 col3\" >0.9992</td>\n",
              "      <td id=\"T_62a0f_row0_col4\" class=\"data row0 col4\" >0.9992</td>\n",
              "      <td id=\"T_62a0f_row0_col5\" class=\"data row0 col5\" >0.9992</td>\n",
              "      <td id=\"T_62a0f_row0_col6\" class=\"data row0 col6\" >0.9987</td>\n",
              "      <td id=\"T_62a0f_row0_col7\" class=\"data row0 col7\" >0.9987</td>\n",
              "    </tr>\n",
              "  </tbody>\n",
              "</table>\n"
            ]
          },
          "metadata": {}
        }
      ]
    },
    {
      "cell_type": "code",
      "source": [
        "# Visualizar la matriz de confusión\n",
        "plot_model(final_model, plot='confusion_matrix')"
      ],
      "metadata": {
        "colab": {
          "base_uri": "https://localhost:8080/",
          "height": 551
        },
        "id": "Pw3kGfPB3zqH",
        "outputId": "a7ce3b3e-0ee5-49a2-a87b-9eaf61dc446b"
      },
      "execution_count": null,
      "outputs": [
        {
          "output_type": "display_data",
          "data": {
            "text/plain": [
              "<IPython.core.display.HTML object>"
            ],
            "text/html": []
          },
          "metadata": {}
        },
        {
          "output_type": "display_data",
          "data": {
            "text/plain": [
              "<Figure size 800x550 with 1 Axes>"
            ],
            "image/png": "[encoded data removed]"
          },
          "metadata": {}
        }
      ]
    }
  ]
}