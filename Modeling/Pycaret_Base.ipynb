{
 "cells": [
  {
   "cell_type": "code",
   "execution_count": 18,
   "metadata": {
    "id": "WJ59EE5txHiZ",
    "ExecuteTime": {
     "end_time": "2024-03-07T00:11:14.928181Z",
     "start_time": "2024-03-07T00:11:14.613110Z"
    }
   },
   "outputs": [
    {
     "data": {
      "text/plain": "(253910, 21)"
     },
     "execution_count": 18,
     "metadata": {},
     "output_type": "execute_result"
    }
   ],
   "source": [
    "import pandas as pd\n",
    "from pycaret.classification import *\n",
    "\n",
    "# Carga de datos\n",
    "data = pd.read_csv('./DataSet/UNSW_Limpio.csv')\n",
    "data.drop('attack_cat', axis=1, inplace=True)\n",
    "data.shape"
   ]
  },
  {
   "cell_type": "code",
   "execution_count": 5,
   "metadata": {
    "id": "z4oqphELxdTE",
    "ExecuteTime": {
     "end_time": "2024-03-06T23:50:01.341807Z",
     "start_time": "2024-03-06T23:50:01.263803Z"
    }
   },
   "outputs": [],
   "source": [
    "from sklearn.model_selection import train_test_split\n",
    "\n",
    "train_data, test_data = train_test_split(data, test_size=0.2, random_state=42)"
   ]
  },
  {
   "cell_type": "code",
   "execution_count": 6,
   "metadata": {
    "colab": {
     "base_uri": "https://localhost:8080/",
     "height": 663
    },
    "id": "Vc9pQHINxMT6",
    "outputId": "222af051-25b2-4338-b336-3655865c27fd",
    "ExecuteTime": {
     "end_time": "2024-03-06T23:50:03.079770Z",
     "start_time": "2024-03-06T23:50:01.343808Z"
    }
   },
   "outputs": [
    {
     "data": {
      "text/plain": "<pandas.io.formats.style.Styler at 0x23c07ab3850>",
      "text/html": "<style type=\"text/css\">\n#T_d9ce0_row8_col1 {\n  background-color: lightgreen;\n}\n</style>\n<table id=\"T_d9ce0\">\n  <thead>\n    <tr>\n      <th class=\"blank level0\" >&nbsp;</th>\n      <th id=\"T_d9ce0_level0_col0\" class=\"col_heading level0 col0\" >Description</th>\n      <th id=\"T_d9ce0_level0_col1\" class=\"col_heading level0 col1\" >Value</th>\n    </tr>\n  </thead>\n  <tbody>\n    <tr>\n      <th id=\"T_d9ce0_level0_row0\" class=\"row_heading level0 row0\" >0</th>\n      <td id=\"T_d9ce0_row0_col0\" class=\"data row0 col0\" >Session id</td>\n      <td id=\"T_d9ce0_row0_col1\" class=\"data row0 col1\" >1535</td>\n    </tr>\n    <tr>\n      <th id=\"T_d9ce0_level0_row1\" class=\"row_heading level0 row1\" >1</th>\n      <td id=\"T_d9ce0_row1_col0\" class=\"data row1 col0\" >Target</td>\n      <td id=\"T_d9ce0_row1_col1\" class=\"data row1 col1\" >label</td>\n    </tr>\n    <tr>\n      <th id=\"T_d9ce0_level0_row2\" class=\"row_heading level0 row2\" >2</th>\n      <td id=\"T_d9ce0_row2_col0\" class=\"data row2 col0\" >Target type</td>\n      <td id=\"T_d9ce0_row2_col1\" class=\"data row2 col1\" >Binary</td>\n    </tr>\n    <tr>\n      <th id=\"T_d9ce0_level0_row3\" class=\"row_heading level0 row3\" >3</th>\n      <td id=\"T_d9ce0_row3_col0\" class=\"data row3 col0\" >Original data shape</td>\n      <td id=\"T_d9ce0_row3_col1\" class=\"data row3 col1\" >(203128, 21)</td>\n    </tr>\n    <tr>\n      <th id=\"T_d9ce0_level0_row4\" class=\"row_heading level0 row4\" >4</th>\n      <td id=\"T_d9ce0_row4_col0\" class=\"data row4 col0\" >Transformed data shape</td>\n      <td id=\"T_d9ce0_row4_col1\" class=\"data row4 col1\" >(203128, 21)</td>\n    </tr>\n    <tr>\n      <th id=\"T_d9ce0_level0_row5\" class=\"row_heading level0 row5\" >5</th>\n      <td id=\"T_d9ce0_row5_col0\" class=\"data row5 col0\" >Transformed train set shape</td>\n      <td id=\"T_d9ce0_row5_col1\" class=\"data row5 col1\" >(142189, 21)</td>\n    </tr>\n    <tr>\n      <th id=\"T_d9ce0_level0_row6\" class=\"row_heading level0 row6\" >6</th>\n      <td id=\"T_d9ce0_row6_col0\" class=\"data row6 col0\" >Transformed test set shape</td>\n      <td id=\"T_d9ce0_row6_col1\" class=\"data row6 col1\" >(60939, 21)</td>\n    </tr>\n    <tr>\n      <th id=\"T_d9ce0_level0_row7\" class=\"row_heading level0 row7\" >7</th>\n      <td id=\"T_d9ce0_row7_col0\" class=\"data row7 col0\" >Numeric features</td>\n      <td id=\"T_d9ce0_row7_col1\" class=\"data row7 col1\" >20</td>\n    </tr>\n    <tr>\n      <th id=\"T_d9ce0_level0_row8\" class=\"row_heading level0 row8\" >8</th>\n      <td id=\"T_d9ce0_row8_col0\" class=\"data row8 col0\" >Preprocess</td>\n      <td id=\"T_d9ce0_row8_col1\" class=\"data row8 col1\" >True</td>\n    </tr>\n    <tr>\n      <th id=\"T_d9ce0_level0_row9\" class=\"row_heading level0 row9\" >9</th>\n      <td id=\"T_d9ce0_row9_col0\" class=\"data row9 col0\" >Imputation type</td>\n      <td id=\"T_d9ce0_row9_col1\" class=\"data row9 col1\" >simple</td>\n    </tr>\n    <tr>\n      <th id=\"T_d9ce0_level0_row10\" class=\"row_heading level0 row10\" >10</th>\n      <td id=\"T_d9ce0_row10_col0\" class=\"data row10 col0\" >Numeric imputation</td>\n      <td id=\"T_d9ce0_row10_col1\" class=\"data row10 col1\" >mean</td>\n    </tr>\n    <tr>\n      <th id=\"T_d9ce0_level0_row11\" class=\"row_heading level0 row11\" >11</th>\n      <td id=\"T_d9ce0_row11_col0\" class=\"data row11 col0\" >Categorical imputation</td>\n      <td id=\"T_d9ce0_row11_col1\" class=\"data row11 col1\" >mode</td>\n    </tr>\n    <tr>\n      <th id=\"T_d9ce0_level0_row12\" class=\"row_heading level0 row12\" >12</th>\n      <td id=\"T_d9ce0_row12_col0\" class=\"data row12 col0\" >Fold Generator</td>\n      <td id=\"T_d9ce0_row12_col1\" class=\"data row12 col1\" >StratifiedKFold</td>\n    </tr>\n    <tr>\n      <th id=\"T_d9ce0_level0_row13\" class=\"row_heading level0 row13\" >13</th>\n      <td id=\"T_d9ce0_row13_col0\" class=\"data row13 col0\" >Fold Number</td>\n      <td id=\"T_d9ce0_row13_col1\" class=\"data row13 col1\" >10</td>\n    </tr>\n    <tr>\n      <th id=\"T_d9ce0_level0_row14\" class=\"row_heading level0 row14\" >14</th>\n      <td id=\"T_d9ce0_row14_col0\" class=\"data row14 col0\" >CPU Jobs</td>\n      <td id=\"T_d9ce0_row14_col1\" class=\"data row14 col1\" >-1</td>\n    </tr>\n    <tr>\n      <th id=\"T_d9ce0_level0_row15\" class=\"row_heading level0 row15\" >15</th>\n      <td id=\"T_d9ce0_row15_col0\" class=\"data row15 col0\" >Use GPU</td>\n      <td id=\"T_d9ce0_row15_col1\" class=\"data row15 col1\" >False</td>\n    </tr>\n    <tr>\n      <th id=\"T_d9ce0_level0_row16\" class=\"row_heading level0 row16\" >16</th>\n      <td id=\"T_d9ce0_row16_col0\" class=\"data row16 col0\" >Log Experiment</td>\n      <td id=\"T_d9ce0_row16_col1\" class=\"data row16 col1\" >False</td>\n    </tr>\n    <tr>\n      <th id=\"T_d9ce0_level0_row17\" class=\"row_heading level0 row17\" >17</th>\n      <td id=\"T_d9ce0_row17_col0\" class=\"data row17 col0\" >Experiment Name</td>\n      <td id=\"T_d9ce0_row17_col1\" class=\"data row17 col1\" >clf-default-name</td>\n    </tr>\n    <tr>\n      <th id=\"T_d9ce0_level0_row18\" class=\"row_heading level0 row18\" >18</th>\n      <td id=\"T_d9ce0_row18_col0\" class=\"data row18 col0\" >USI</td>\n      <td id=\"T_d9ce0_row18_col1\" class=\"data row18 col1\" >564c</td>\n    </tr>\n  </tbody>\n</table>\n"
     },
     "metadata": {},
     "output_type": "display_data"
    },
    {
     "data": {
      "text/plain": "<pycaret.classification.oop.ClassificationExperiment at 0x23c078a63b0>"
     },
     "execution_count": 6,
     "metadata": {},
     "output_type": "execute_result"
    }
   ],
   "source": [
    "# Configuración de PyCaret\n",
    "setup(train_data, target='label')"
   ]
  },
  {
   "cell_type": "code",
   "execution_count": 7,
   "metadata": {
    "colab": {
     "base_uri": "https://localhost:8080/",
     "height": 520,
     "referenced_widgets": [
      "71c25dafc4704ae4b1146a856dfa1539",
      "846c929f0f88469b812ebf1cc531fb3a",
      "74e3cfc623fb42f3bdd428084a35312d",
      "e06802da236a41ff8467f4ac031864ae",
      "3713ca51fbfb4a2798751c76bbf2124a",
      "9dc08bcdf0ed41759b93fe7227f64455",
      "e6018f2dc0f540b1934a16553307785e",
      "ac9793ebc47941a2a4efc8cf537c1035",
      "ed7436dd37b548b39571e265f65faee0",
      "cfcc8fb639154ed890a239a9eb46c842",
      "4a80ac400e6d4a7395b957425bf63421"
     ]
    },
    "id": "s-MF1EUDxL-U",
    "outputId": "e22dd12d-b792-4428-ead0-69869b86f686",
    "ExecuteTime": {
     "end_time": "2024-03-06T23:52:32.758732Z",
     "start_time": "2024-03-06T23:50:03.081770Z"
    }
   },
   "outputs": [
    {
     "data": {
      "text/plain": "                                                                    \n                                                                    \nInitiated  . . . . . . . . . . . . . . . . . .              18:50:03\nStatus     . . . . . . . . . . . . . . . . . .  Loading Dependencies\nEstimator  . . . . . . . . . . . . . . . . . .     Compiling Library",
      "text/html": "<div>\n<style scoped>\n    .dataframe tbody tr th:only-of-type {\n        vertical-align: middle;\n    }\n\n    .dataframe tbody tr th {\n        vertical-align: top;\n    }\n\n    .dataframe thead th {\n        text-align: right;\n    }\n</style>\n<table border=\"1\" class=\"dataframe\">\n  <thead>\n    <tr style=\"text-align: right;\">\n      <th></th>\n      <th></th>\n      <th></th>\n    </tr>\n    <tr>\n      <th></th>\n      <th></th>\n      <th></th>\n    </tr>\n  </thead>\n  <tbody>\n    <tr>\n      <th>Initiated</th>\n      <td>. . . . . . . . . . . . . . . . . .</td>\n      <td>18:50:03</td>\n    </tr>\n    <tr>\n      <th>Status</th>\n      <td>. . . . . . . . . . . . . . . . . .</td>\n      <td>Loading Dependencies</td>\n    </tr>\n    <tr>\n      <th>Estimator</th>\n      <td>. . . . . . . . . . . . . . . . . .</td>\n      <td>Compiling Library</td>\n    </tr>\n  </tbody>\n</table>\n</div>"
     },
     "metadata": {},
     "output_type": "display_data"
    },
    {
     "data": {
      "text/plain": "<IPython.core.display.HTML object>",
      "text/html": ""
     },
     "metadata": {},
     "output_type": "display_data"
    },
    {
     "data": {
      "text/plain": "<pandas.io.formats.style.Styler at 0x23c07ac57b0>",
      "text/html": "<style type=\"text/css\">\n#T_61743 th {\n  text-align: left;\n}\n#T_61743_row0_col0, #T_61743_row0_col3, #T_61743_row0_col4, #T_61743_row1_col0, #T_61743_row1_col1, #T_61743_row1_col2, #T_61743_row1_col3, #T_61743_row1_col4, #T_61743_row1_col5, #T_61743_row1_col6, #T_61743_row1_col7, #T_61743_row2_col0, #T_61743_row2_col1, #T_61743_row2_col2, #T_61743_row2_col3, #T_61743_row2_col5, #T_61743_row2_col6, #T_61743_row2_col7, #T_61743_row3_col0, #T_61743_row3_col1, #T_61743_row3_col2, #T_61743_row3_col3, #T_61743_row3_col4, #T_61743_row3_col5, #T_61743_row3_col6, #T_61743_row3_col7, #T_61743_row4_col0, #T_61743_row4_col1, #T_61743_row4_col2, #T_61743_row4_col3, #T_61743_row4_col4, #T_61743_row4_col5, #T_61743_row4_col6, #T_61743_row4_col7, #T_61743_row5_col0, #T_61743_row5_col1, #T_61743_row5_col2, #T_61743_row5_col3, #T_61743_row5_col4, #T_61743_row5_col5, #T_61743_row5_col6, #T_61743_row5_col7, #T_61743_row6_col0, #T_61743_row6_col1, #T_61743_row6_col2, #T_61743_row6_col3, #T_61743_row6_col4, #T_61743_row6_col5, #T_61743_row6_col6, #T_61743_row6_col7, #T_61743_row7_col0, #T_61743_row7_col1, #T_61743_row7_col2, #T_61743_row7_col3, #T_61743_row7_col4, #T_61743_row7_col5, #T_61743_row7_col6, #T_61743_row7_col7, #T_61743_row8_col0, #T_61743_row8_col1, #T_61743_row8_col2, #T_61743_row8_col3, #T_61743_row8_col4, #T_61743_row8_col5, #T_61743_row8_col6, #T_61743_row8_col7, #T_61743_row9_col0, #T_61743_row9_col1, #T_61743_row9_col2, #T_61743_row9_col3, #T_61743_row9_col4, #T_61743_row9_col5, #T_61743_row9_col6, #T_61743_row9_col7, #T_61743_row10_col0, #T_61743_row10_col1, #T_61743_row10_col2, #T_61743_row10_col3, #T_61743_row10_col4, #T_61743_row10_col5, #T_61743_row10_col6, #T_61743_row10_col7, #T_61743_row11_col0, #T_61743_row11_col1, #T_61743_row11_col2, #T_61743_row11_col3, #T_61743_row11_col4, #T_61743_row11_col5, #T_61743_row11_col6, #T_61743_row11_col7, #T_61743_row12_col0, #T_61743_row12_col1, #T_61743_row12_col2, #T_61743_row12_col4, #T_61743_row12_col5, #T_61743_row12_col6, #T_61743_row12_col7, #T_61743_row13_col0, #T_61743_row13_col1, #T_61743_row13_col2, #T_61743_row13_col4, #T_61743_row13_col5, #T_61743_row13_col6, #T_61743_row13_col7 {\n  text-align: left;\n}\n#T_61743_row0_col1, #T_61743_row0_col2, #T_61743_row0_col5, #T_61743_row0_col6, #T_61743_row0_col7, #T_61743_row2_col4, #T_61743_row12_col3, #T_61743_row13_col3 {\n  text-align: left;\n  background-color: yellow;\n}\n#T_61743_row0_col8, #T_61743_row1_col8, #T_61743_row2_col8, #T_61743_row3_col8, #T_61743_row4_col8, #T_61743_row5_col8, #T_61743_row6_col8, #T_61743_row7_col8, #T_61743_row8_col8, #T_61743_row9_col8, #T_61743_row10_col8, #T_61743_row11_col8, #T_61743_row12_col8 {\n  text-align: left;\n  background-color: lightgrey;\n}\n#T_61743_row13_col8 {\n  text-align: left;\n  background-color: yellow;\n  background-color: lightgrey;\n}\n</style>\n<table id=\"T_61743\">\n  <thead>\n    <tr>\n      <th class=\"blank level0\" >&nbsp;</th>\n      <th id=\"T_61743_level0_col0\" class=\"col_heading level0 col0\" >Model</th>\n      <th id=\"T_61743_level0_col1\" class=\"col_heading level0 col1\" >Accuracy</th>\n      <th id=\"T_61743_level0_col2\" class=\"col_heading level0 col2\" >AUC</th>\n      <th id=\"T_61743_level0_col3\" class=\"col_heading level0 col3\" >Recall</th>\n      <th id=\"T_61743_level0_col4\" class=\"col_heading level0 col4\" >Prec.</th>\n      <th id=\"T_61743_level0_col5\" class=\"col_heading level0 col5\" >F1</th>\n      <th id=\"T_61743_level0_col6\" class=\"col_heading level0 col6\" >Kappa</th>\n      <th id=\"T_61743_level0_col7\" class=\"col_heading level0 col7\" >MCC</th>\n      <th id=\"T_61743_level0_col8\" class=\"col_heading level0 col8\" >TT (Sec)</th>\n    </tr>\n  </thead>\n  <tbody>\n    <tr>\n      <th id=\"T_61743_level0_row0\" class=\"row_heading level0 row0\" >rf</th>\n      <td id=\"T_61743_row0_col0\" class=\"data row0 col0\" >Random Forest Classifier</td>\n      <td id=\"T_61743_row0_col1\" class=\"data row0 col1\" >0.9396</td>\n      <td id=\"T_61743_row0_col2\" class=\"data row0 col2\" >0.9881</td>\n      <td id=\"T_61743_row0_col3\" class=\"data row0 col3\" >0.9521</td>\n      <td id=\"T_61743_row0_col4\" class=\"data row0 col4\" >0.9539</td>\n      <td id=\"T_61743_row0_col5\" class=\"data row0 col5\" >0.9530</td>\n      <td id=\"T_61743_row0_col6\" class=\"data row0 col6\" >0.8686</td>\n      <td id=\"T_61743_row0_col7\" class=\"data row0 col7\" >0.8686</td>\n      <td id=\"T_61743_row0_col8\" class=\"data row0 col8\" >1.7810</td>\n    </tr>\n    <tr>\n      <th id=\"T_61743_level0_row1\" class=\"row_heading level0 row1\" >et</th>\n      <td id=\"T_61743_row1_col0\" class=\"data row1 col0\" >Extra Trees Classifier</td>\n      <td id=\"T_61743_row1_col1\" class=\"data row1 col1\" >0.9385</td>\n      <td id=\"T_61743_row1_col2\" class=\"data row1 col2\" >0.9859</td>\n      <td id=\"T_61743_row1_col3\" class=\"data row1 col3\" >0.9534</td>\n      <td id=\"T_61743_row1_col4\" class=\"data row1 col4\" >0.9510</td>\n      <td id=\"T_61743_row1_col5\" class=\"data row1 col5\" >0.9522</td>\n      <td id=\"T_61743_row1_col6\" class=\"data row1 col6\" >0.8659</td>\n      <td id=\"T_61743_row1_col7\" class=\"data row1 col7\" >0.8659</td>\n      <td id=\"T_61743_row1_col8\" class=\"data row1 col8\" >1.4150</td>\n    </tr>\n    <tr>\n      <th id=\"T_61743_level0_row2\" class=\"row_heading level0 row2\" >lightgbm</th>\n      <td id=\"T_61743_row2_col0\" class=\"data row2 col0\" >Light Gradient Boosting Machine</td>\n      <td id=\"T_61743_row2_col1\" class=\"data row2 col1\" >0.9347</td>\n      <td id=\"T_61743_row2_col2\" class=\"data row2 col2\" >0.9870</td>\n      <td id=\"T_61743_row2_col3\" class=\"data row2 col3\" >0.9439</td>\n      <td id=\"T_61743_row2_col4\" class=\"data row2 col4\" >0.9541</td>\n      <td id=\"T_61743_row2_col5\" class=\"data row2 col5\" >0.9490</td>\n      <td id=\"T_61743_row2_col6\" class=\"data row2 col6\" >0.8584</td>\n      <td id=\"T_61743_row2_col7\" class=\"data row2 col7\" >0.8585</td>\n      <td id=\"T_61743_row2_col8\" class=\"data row2 col8\" >0.4620</td>\n    </tr>\n    <tr>\n      <th id=\"T_61743_level0_row3\" class=\"row_heading level0 row3\" >gbc</th>\n      <td id=\"T_61743_row3_col0\" class=\"data row3 col0\" >Gradient Boosting Classifier</td>\n      <td id=\"T_61743_row3_col1\" class=\"data row3 col1\" >0.9276</td>\n      <td id=\"T_61743_row3_col2\" class=\"data row3 col2\" >0.9806</td>\n      <td id=\"T_61743_row3_col3\" class=\"data row3 col3\" >0.9520</td>\n      <td id=\"T_61743_row3_col4\" class=\"data row3 col4\" >0.9364</td>\n      <td id=\"T_61743_row3_col5\" class=\"data row3 col5\" >0.9442</td>\n      <td id=\"T_61743_row3_col6\" class=\"data row3 col6\" >0.8412</td>\n      <td id=\"T_61743_row3_col7\" class=\"data row3 col7\" >0.8414</td>\n      <td id=\"T_61743_row3_col8\" class=\"data row3 col8\" >3.9440</td>\n    </tr>\n    <tr>\n      <th id=\"T_61743_level0_row4\" class=\"row_heading level0 row4\" >dt</th>\n      <td id=\"T_61743_row4_col0\" class=\"data row4 col0\" >Decision Tree Classifier</td>\n      <td id=\"T_61743_row4_col1\" class=\"data row4 col1\" >0.9230</td>\n      <td id=\"T_61743_row4_col2\" class=\"data row4 col2\" >0.9185</td>\n      <td id=\"T_61743_row4_col3\" class=\"data row4 col3\" >0.9392</td>\n      <td id=\"T_61743_row4_col4\" class=\"data row4 col4\" >0.9410</td>\n      <td id=\"T_61743_row4_col5\" class=\"data row4 col5\" >0.9401</td>\n      <td id=\"T_61743_row4_col6\" class=\"data row4 col6\" >0.8324</td>\n      <td id=\"T_61743_row4_col7\" class=\"data row4 col7\" >0.8324</td>\n      <td id=\"T_61743_row4_col8\" class=\"data row4 col8\" >0.2040</td>\n    </tr>\n    <tr>\n      <th id=\"T_61743_level0_row5\" class=\"row_heading level0 row5\" >ada</th>\n      <td id=\"T_61743_row5_col0\" class=\"data row5 col0\" >Ada Boost Classifier</td>\n      <td id=\"T_61743_row5_col1\" class=\"data row5 col1\" >0.9172</td>\n      <td id=\"T_61743_row5_col2\" class=\"data row5 col2\" >0.9753</td>\n      <td id=\"T_61743_row5_col3\" class=\"data row5 col3\" >0.9439</td>\n      <td id=\"T_61743_row5_col4\" class=\"data row5 col4\" >0.9286</td>\n      <td id=\"T_61743_row5_col5\" class=\"data row5 col5\" >0.9362</td>\n      <td id=\"T_61743_row5_col6\" class=\"data row5 col6\" >0.8185</td>\n      <td id=\"T_61743_row5_col7\" class=\"data row5 col7\" >0.8188</td>\n      <td id=\"T_61743_row5_col8\" class=\"data row5 col8\" >1.2050</td>\n    </tr>\n    <tr>\n      <th id=\"T_61743_level0_row6\" class=\"row_heading level0 row6\" >ridge</th>\n      <td id=\"T_61743_row6_col0\" class=\"data row6 col0\" >Ridge Classifier</td>\n      <td id=\"T_61743_row6_col1\" class=\"data row6 col1\" >0.8485</td>\n      <td id=\"T_61743_row6_col2\" class=\"data row6 col2\" >0.0000</td>\n      <td id=\"T_61743_row6_col3\" class=\"data row6 col3\" >0.9308</td>\n      <td id=\"T_61743_row6_col4\" class=\"data row6 col4\" >0.8483</td>\n      <td id=\"T_61743_row6_col5\" class=\"data row6 col5\" >0.8877</td>\n      <td id=\"T_61743_row6_col6\" class=\"data row6 col6\" >0.6566</td>\n      <td id=\"T_61743_row6_col7\" class=\"data row6 col7\" >0.6633</td>\n      <td id=\"T_61743_row6_col8\" class=\"data row6 col8\" >0.0990</td>\n    </tr>\n    <tr>\n      <th id=\"T_61743_level0_row7\" class=\"row_heading level0 row7\" >knn</th>\n      <td id=\"T_61743_row7_col0\" class=\"data row7 col0\" >K Neighbors Classifier</td>\n      <td id=\"T_61743_row7_col1\" class=\"data row7 col1\" >0.8480</td>\n      <td id=\"T_61743_row7_col2\" class=\"data row7 col2\" >0.9163</td>\n      <td id=\"T_61743_row7_col3\" class=\"data row7 col3\" >0.9037</td>\n      <td id=\"T_61743_row7_col4\" class=\"data row7 col4\" >0.8659</td>\n      <td id=\"T_61743_row7_col5\" class=\"data row7 col5\" >0.8844</td>\n      <td id=\"T_61743_row7_col6\" class=\"data row7 col6\" >0.6631</td>\n      <td id=\"T_61743_row7_col7\" class=\"data row7 col7\" >0.6644</td>\n      <td id=\"T_61743_row7_col8\" class=\"data row7 col8\" >2.4650</td>\n    </tr>\n    <tr>\n      <th id=\"T_61743_level0_row8\" class=\"row_heading level0 row8\" >lda</th>\n      <td id=\"T_61743_row8_col0\" class=\"data row8 col0\" >Linear Discriminant Analysis</td>\n      <td id=\"T_61743_row8_col1\" class=\"data row8 col1\" >0.8472</td>\n      <td id=\"T_61743_row8_col2\" class=\"data row8 col2\" >0.9233</td>\n      <td id=\"T_61743_row8_col3\" class=\"data row8 col3\" >0.9274</td>\n      <td id=\"T_61743_row8_col4\" class=\"data row8 col4\" >0.8489</td>\n      <td id=\"T_61743_row8_col5\" class=\"data row8 col5\" >0.8864</td>\n      <td id=\"T_61743_row8_col6\" class=\"data row8 col6\" >0.6543</td>\n      <td id=\"T_61743_row8_col7\" class=\"data row8 col7\" >0.6603</td>\n      <td id=\"T_61743_row8_col8\" class=\"data row8 col8\" >0.1630</td>\n    </tr>\n    <tr>\n      <th id=\"T_61743_level0_row9\" class=\"row_heading level0 row9\" >lr</th>\n      <td id=\"T_61743_row9_col0\" class=\"data row9 col0\" >Logistic Regression</td>\n      <td id=\"T_61743_row9_col1\" class=\"data row9 col1\" >0.8046</td>\n      <td id=\"T_61743_row9_col2\" class=\"data row9 col2\" >0.8790</td>\n      <td id=\"T_61743_row9_col3\" class=\"data row9 col3\" >0.9392</td>\n      <td id=\"T_61743_row9_col4\" class=\"data row9 col4\" >0.7944</td>\n      <td id=\"T_61743_row9_col5\" class=\"data row9 col5\" >0.8608</td>\n      <td id=\"T_61743_row9_col6\" class=\"data row9 col6\" >0.5408</td>\n      <td id=\"T_61743_row9_col7\" class=\"data row9 col7\" >0.5626</td>\n      <td id=\"T_61743_row9_col8\" class=\"data row9 col8\" >0.7290</td>\n    </tr>\n    <tr>\n      <th id=\"T_61743_level0_row10\" class=\"row_heading level0 row10\" >nb</th>\n      <td id=\"T_61743_row10_col0\" class=\"data row10 col0\" >Naive Bayes</td>\n      <td id=\"T_61743_row10_col1\" class=\"data row10 col1\" >0.7880</td>\n      <td id=\"T_61743_row10_col2\" class=\"data row10 col2\" >0.8503</td>\n      <td id=\"T_61743_row10_col3\" class=\"data row10 col3\" >0.9625</td>\n      <td id=\"T_61743_row10_col4\" class=\"data row10 col4\" >0.7671</td>\n      <td id=\"T_61743_row10_col5\" class=\"data row10 col5\" >0.8538</td>\n      <td id=\"T_61743_row10_col6\" class=\"data row10 col6\" >0.4857</td>\n      <td id=\"T_61743_row10_col7\" class=\"data row10 col7\" >0.5293</td>\n      <td id=\"T_61743_row10_col8\" class=\"data row10 col8\" >0.1050</td>\n    </tr>\n    <tr>\n      <th id=\"T_61743_level0_row11\" class=\"row_heading level0 row11\" >svm</th>\n      <td id=\"T_61743_row11_col0\" class=\"data row11 col0\" >SVM - Linear Kernel</td>\n      <td id=\"T_61743_row11_col1\" class=\"data row11 col1\" >0.7232</td>\n      <td id=\"T_61743_row11_col2\" class=\"data row11 col2\" >0.0000</td>\n      <td id=\"T_61743_row11_col3\" class=\"data row11 col3\" >0.7075</td>\n      <td id=\"T_61743_row11_col4\" class=\"data row11 col4\" >0.8361</td>\n      <td id=\"T_61743_row11_col5\" class=\"data row11 col5\" >0.7254</td>\n      <td id=\"T_61743_row11_col6\" class=\"data row11 col6\" >0.4456</td>\n      <td id=\"T_61743_row11_col7\" class=\"data row11 col7\" >0.4834</td>\n      <td id=\"T_61743_row11_col8\" class=\"data row11 col8\" >1.5900</td>\n    </tr>\n    <tr>\n      <th id=\"T_61743_level0_row12\" class=\"row_heading level0 row12\" >qda</th>\n      <td id=\"T_61743_row12_col0\" class=\"data row12 col0\" >Quadratic Discriminant Analysis</td>\n      <td id=\"T_61743_row12_col1\" class=\"data row12 col1\" >0.6430</td>\n      <td id=\"T_61743_row12_col2\" class=\"data row12 col2\" >0.0000</td>\n      <td id=\"T_61743_row12_col3\" class=\"data row12 col3\" >1.0000</td>\n      <td id=\"T_61743_row12_col4\" class=\"data row12 col4\" >0.6430</td>\n      <td id=\"T_61743_row12_col5\" class=\"data row12 col5\" >0.7827</td>\n      <td id=\"T_61743_row12_col6\" class=\"data row12 col6\" >0.0000</td>\n      <td id=\"T_61743_row12_col7\" class=\"data row12 col7\" >0.0000</td>\n      <td id=\"T_61743_row12_col8\" class=\"data row12 col8\" >0.1320</td>\n    </tr>\n    <tr>\n      <th id=\"T_61743_level0_row13\" class=\"row_heading level0 row13\" >dummy</th>\n      <td id=\"T_61743_row13_col0\" class=\"data row13 col0\" >Dummy Classifier</td>\n      <td id=\"T_61743_row13_col1\" class=\"data row13 col1\" >0.6430</td>\n      <td id=\"T_61743_row13_col2\" class=\"data row13 col2\" >0.5000</td>\n      <td id=\"T_61743_row13_col3\" class=\"data row13 col3\" >1.0000</td>\n      <td id=\"T_61743_row13_col4\" class=\"data row13 col4\" >0.6430</td>\n      <td id=\"T_61743_row13_col5\" class=\"data row13 col5\" >0.7827</td>\n      <td id=\"T_61743_row13_col6\" class=\"data row13 col6\" >0.0000</td>\n      <td id=\"T_61743_row13_col7\" class=\"data row13 col7\" >0.0000</td>\n      <td id=\"T_61743_row13_col8\" class=\"data row13 col8\" >0.0830</td>\n    </tr>\n  </tbody>\n</table>\n"
     },
     "metadata": {},
     "output_type": "display_data"
    }
   ],
   "source": [
    "# Comparación de modelos\n",
    "best_model = compare_models()\n"
   ]
  },
  {
   "cell_type": "code",
   "execution_count": 8,
   "metadata": {
    "colab": {
     "base_uri": "https://localhost:8080/",
     "height": 670,
     "referenced_widgets": [
      "f925ba46c3d54a72ac35faba40c2a294",
      "a6c227eb503e4010bd284260cb6b5983",
      "0148b8747e054bc7b504617d7e551ed5",
      "6e4519255e044467b17616cee0a81386",
      "92d8addf6e244b009b1f5008035c2ddc",
      "e8074ba573354828acd7e7b2357cc32f",
      "4cecaf94d72c47f1a063db6823f18adc",
      "8579ac2c09cb4e3a9291b50ed9919091",
      "69932191e86045a29e7ebc730306ccad",
      "237022c0b0fb4d0d86ae0f5ca510965a",
      "e80e6eb1d5ff4477a4730756e48f479e",
      "60ee0a19929444ab8305dd16282c1742",
      "eeab58609c79484fa5c4818115719d19",
      "34c97ebe8e9a4d329d07cc5c6e1e636d",
      "4ba0fa07c0a94ea8a1c2980b96b38bcb",
      "15837bb173284464b909ce118ee015dc",
      "0ba80991c7ac41a99e19bd37cf8efaee",
      "9b1dc231581d4bde807bc57ddea2c6f1"
     ]
    },
    "id": "YRIQbLYcxP7N",
    "outputId": "427d0471-d3b6-45d6-9b03-fe56516d4260",
    "ExecuteTime": {
     "end_time": "2024-03-06T23:52:53.886898Z",
     "start_time": "2024-03-06T23:52:32.759732Z"
    }
   },
   "outputs": [
    {
     "data": {
      "text/plain": "                                                                    \n                                                                    \nInitiated  . . . . . . . . . . . . . . . . . .              18:52:32\nStatus     . . . . . . . . . . . . . . . . . .  Loading Dependencies\nEstimator  . . . . . . . . . . . . . . . . . .     Compiling Library",
      "text/html": "<div>\n<style scoped>\n    .dataframe tbody tr th:only-of-type {\n        vertical-align: middle;\n    }\n\n    .dataframe tbody tr th {\n        vertical-align: top;\n    }\n\n    .dataframe thead th {\n        text-align: right;\n    }\n</style>\n<table border=\"1\" class=\"dataframe\">\n  <thead>\n    <tr style=\"text-align: right;\">\n      <th></th>\n      <th></th>\n      <th></th>\n    </tr>\n    <tr>\n      <th></th>\n      <th></th>\n      <th></th>\n    </tr>\n  </thead>\n  <tbody>\n    <tr>\n      <th>Initiated</th>\n      <td>. . . . . . . . . . . . . . . . . .</td>\n      <td>18:52:32</td>\n    </tr>\n    <tr>\n      <th>Status</th>\n      <td>. . . . . . . . . . . . . . . . . .</td>\n      <td>Loading Dependencies</td>\n    </tr>\n    <tr>\n      <th>Estimator</th>\n      <td>. . . . . . . . . . . . . . . . . .</td>\n      <td>Compiling Library</td>\n    </tr>\n  </tbody>\n</table>\n</div>"
     },
     "metadata": {},
     "output_type": "display_data"
    },
    {
     "data": {
      "text/plain": "<IPython.core.display.HTML object>",
      "text/html": ""
     },
     "metadata": {},
     "output_type": "display_data"
    },
    {
     "data": {
      "text/plain": "<pandas.io.formats.style.Styler at 0x23c078bba60>",
      "text/html": "<style type=\"text/css\">\n#T_b7fce_row10_col0, #T_b7fce_row10_col1, #T_b7fce_row10_col2, #T_b7fce_row10_col3, #T_b7fce_row10_col4, #T_b7fce_row10_col5, #T_b7fce_row10_col6 {\n  background: yellow;\n}\n</style>\n<table id=\"T_b7fce\">\n  <thead>\n    <tr>\n      <th class=\"blank level0\" >&nbsp;</th>\n      <th id=\"T_b7fce_level0_col0\" class=\"col_heading level0 col0\" >Accuracy</th>\n      <th id=\"T_b7fce_level0_col1\" class=\"col_heading level0 col1\" >AUC</th>\n      <th id=\"T_b7fce_level0_col2\" class=\"col_heading level0 col2\" >Recall</th>\n      <th id=\"T_b7fce_level0_col3\" class=\"col_heading level0 col3\" >Prec.</th>\n      <th id=\"T_b7fce_level0_col4\" class=\"col_heading level0 col4\" >F1</th>\n      <th id=\"T_b7fce_level0_col5\" class=\"col_heading level0 col5\" >Kappa</th>\n      <th id=\"T_b7fce_level0_col6\" class=\"col_heading level0 col6\" >MCC</th>\n    </tr>\n    <tr>\n      <th class=\"index_name level0\" >Fold</th>\n      <th class=\"blank col0\" >&nbsp;</th>\n      <th class=\"blank col1\" >&nbsp;</th>\n      <th class=\"blank col2\" >&nbsp;</th>\n      <th class=\"blank col3\" >&nbsp;</th>\n      <th class=\"blank col4\" >&nbsp;</th>\n      <th class=\"blank col5\" >&nbsp;</th>\n      <th class=\"blank col6\" >&nbsp;</th>\n    </tr>\n  </thead>\n  <tbody>\n    <tr>\n      <th id=\"T_b7fce_level0_row0\" class=\"row_heading level0 row0\" >0</th>\n      <td id=\"T_b7fce_row0_col0\" class=\"data row0 col0\" >0.9418</td>\n      <td id=\"T_b7fce_row0_col1\" class=\"data row0 col1\" >0.9887</td>\n      <td id=\"T_b7fce_row0_col2\" class=\"data row0 col2\" >0.9530</td>\n      <td id=\"T_b7fce_row0_col3\" class=\"data row0 col3\" >0.9563</td>\n      <td id=\"T_b7fce_row0_col4\" class=\"data row0 col4\" >0.9546</td>\n      <td id=\"T_b7fce_row0_col5\" class=\"data row0 col5\" >0.8733</td>\n      <td id=\"T_b7fce_row0_col6\" class=\"data row0 col6\" >0.8733</td>\n    </tr>\n    <tr>\n      <th id=\"T_b7fce_level0_row1\" class=\"row_heading level0 row1\" >1</th>\n      <td id=\"T_b7fce_row1_col0\" class=\"data row1 col0\" >0.9383</td>\n      <td id=\"T_b7fce_row1_col1\" class=\"data row1 col1\" >0.9881</td>\n      <td id=\"T_b7fce_row1_col2\" class=\"data row1 col2\" >0.9501</td>\n      <td id=\"T_b7fce_row1_col3\" class=\"data row1 col3\" >0.9538</td>\n      <td id=\"T_b7fce_row1_col4\" class=\"data row1 col4\" >0.9520</td>\n      <td id=\"T_b7fce_row1_col5\" class=\"data row1 col5\" >0.8658</td>\n      <td id=\"T_b7fce_row1_col6\" class=\"data row1 col6\" >0.8659</td>\n    </tr>\n    <tr>\n      <th id=\"T_b7fce_level0_row2\" class=\"row_heading level0 row2\" >2</th>\n      <td id=\"T_b7fce_row2_col0\" class=\"data row2 col0\" >0.9383</td>\n      <td id=\"T_b7fce_row2_col1\" class=\"data row2 col1\" >0.9874</td>\n      <td id=\"T_b7fce_row2_col2\" class=\"data row2 col2\" >0.9489</td>\n      <td id=\"T_b7fce_row2_col3\" class=\"data row2 col3\" >0.9548</td>\n      <td id=\"T_b7fce_row2_col4\" class=\"data row2 col4\" >0.9518</td>\n      <td id=\"T_b7fce_row2_col5\" class=\"data row2 col5\" >0.8658</td>\n      <td id=\"T_b7fce_row2_col6\" class=\"data row2 col6\" >0.8658</td>\n    </tr>\n    <tr>\n      <th id=\"T_b7fce_level0_row3\" class=\"row_heading level0 row3\" >3</th>\n      <td id=\"T_b7fce_row3_col0\" class=\"data row3 col0\" >0.9431</td>\n      <td id=\"T_b7fce_row3_col1\" class=\"data row3 col1\" >0.9895</td>\n      <td id=\"T_b7fce_row3_col2\" class=\"data row3 col2\" >0.9554</td>\n      <td id=\"T_b7fce_row3_col3\" class=\"data row3 col3\" >0.9561</td>\n      <td id=\"T_b7fce_row3_col4\" class=\"data row3 col4\" >0.9557</td>\n      <td id=\"T_b7fce_row3_col5\" class=\"data row3 col5\" >0.8761</td>\n      <td id=\"T_b7fce_row3_col6\" class=\"data row3 col6\" >0.8761</td>\n    </tr>\n    <tr>\n      <th id=\"T_b7fce_level0_row4\" class=\"row_heading level0 row4\" >4</th>\n      <td id=\"T_b7fce_row4_col0\" class=\"data row4 col0\" >0.9379</td>\n      <td id=\"T_b7fce_row4_col1\" class=\"data row4 col1\" >0.9875</td>\n      <td id=\"T_b7fce_row4_col2\" class=\"data row4 col2\" >0.9526</td>\n      <td id=\"T_b7fce_row4_col3\" class=\"data row4 col3\" >0.9509</td>\n      <td id=\"T_b7fce_row4_col4\" class=\"data row4 col4\" >0.9518</td>\n      <td id=\"T_b7fce_row4_col5\" class=\"data row4 col5\" >0.8646</td>\n      <td id=\"T_b7fce_row4_col6\" class=\"data row4 col6\" >0.8646</td>\n    </tr>\n    <tr>\n      <th id=\"T_b7fce_level0_row5\" class=\"row_heading level0 row5\" >5</th>\n      <td id=\"T_b7fce_row5_col0\" class=\"data row5 col0\" >0.9395</td>\n      <td id=\"T_b7fce_row5_col1\" class=\"data row5 col1\" >0.9880</td>\n      <td id=\"T_b7fce_row5_col2\" class=\"data row5 col2\" >0.9515</td>\n      <td id=\"T_b7fce_row5_col3\" class=\"data row5 col3\" >0.9543</td>\n      <td id=\"T_b7fce_row5_col4\" class=\"data row5 col4\" >0.9529</td>\n      <td id=\"T_b7fce_row5_col5\" class=\"data row5 col5\" >0.8684</td>\n      <td id=\"T_b7fce_row5_col6\" class=\"data row5 col6\" >0.8684</td>\n    </tr>\n    <tr>\n      <th id=\"T_b7fce_level0_row6\" class=\"row_heading level0 row6\" >6</th>\n      <td id=\"T_b7fce_row6_col0\" class=\"data row6 col0\" >0.9407</td>\n      <td id=\"T_b7fce_row6_col1\" class=\"data row6 col1\" >0.9883</td>\n      <td id=\"T_b7fce_row6_col2\" class=\"data row6 col2\" >0.9552</td>\n      <td id=\"T_b7fce_row6_col3\" class=\"data row6 col3\" >0.9528</td>\n      <td id=\"T_b7fce_row6_col4\" class=\"data row6 col4\" >0.9540</td>\n      <td id=\"T_b7fce_row6_col5\" class=\"data row6 col5\" >0.8707</td>\n      <td id=\"T_b7fce_row6_col6\" class=\"data row6 col6\" >0.8707</td>\n    </tr>\n    <tr>\n      <th id=\"T_b7fce_level0_row7\" class=\"row_heading level0 row7\" >7</th>\n      <td id=\"T_b7fce_row7_col0\" class=\"data row7 col0\" >0.9419</td>\n      <td id=\"T_b7fce_row7_col1\" class=\"data row7 col1\" >0.9888</td>\n      <td id=\"T_b7fce_row7_col2\" class=\"data row7 col2\" >0.9548</td>\n      <td id=\"T_b7fce_row7_col3\" class=\"data row7 col3\" >0.9548</td>\n      <td id=\"T_b7fce_row7_col4\" class=\"data row7 col4\" >0.9548</td>\n      <td id=\"T_b7fce_row7_col5\" class=\"data row7 col5\" >0.8735</td>\n      <td id=\"T_b7fce_row7_col6\" class=\"data row7 col6\" >0.8735</td>\n    </tr>\n    <tr>\n      <th id=\"T_b7fce_level0_row8\" class=\"row_heading level0 row8\" >8</th>\n      <td id=\"T_b7fce_row8_col0\" class=\"data row8 col0\" >0.9364</td>\n      <td id=\"T_b7fce_row8_col1\" class=\"data row8 col1\" >0.9871</td>\n      <td id=\"T_b7fce_row8_col2\" class=\"data row8 col2\" >0.9495</td>\n      <td id=\"T_b7fce_row8_col3\" class=\"data row8 col3\" >0.9516</td>\n      <td id=\"T_b7fce_row8_col4\" class=\"data row8 col4\" >0.9505</td>\n      <td id=\"T_b7fce_row8_col5\" class=\"data row8 col5\" >0.8616</td>\n      <td id=\"T_b7fce_row8_col6\" class=\"data row8 col6\" >0.8616</td>\n    </tr>\n    <tr>\n      <th id=\"T_b7fce_level0_row9\" class=\"row_heading level0 row9\" >9</th>\n      <td id=\"T_b7fce_row9_col0\" class=\"data row9 col0\" >0.9384</td>\n      <td id=\"T_b7fce_row9_col1\" class=\"data row9 col1\" >0.9880</td>\n      <td id=\"T_b7fce_row9_col2\" class=\"data row9 col2\" >0.9501</td>\n      <td id=\"T_b7fce_row9_col3\" class=\"data row9 col3\" >0.9539</td>\n      <td id=\"T_b7fce_row9_col4\" class=\"data row9 col4\" >0.9520</td>\n      <td id=\"T_b7fce_row9_col5\" class=\"data row9 col5\" >0.8660</td>\n      <td id=\"T_b7fce_row9_col6\" class=\"data row9 col6\" >0.8660</td>\n    </tr>\n    <tr>\n      <th id=\"T_b7fce_level0_row10\" class=\"row_heading level0 row10\" >Mean</th>\n      <td id=\"T_b7fce_row10_col0\" class=\"data row10 col0\" >0.9396</td>\n      <td id=\"T_b7fce_row10_col1\" class=\"data row10 col1\" >0.9881</td>\n      <td id=\"T_b7fce_row10_col2\" class=\"data row10 col2\" >0.9521</td>\n      <td id=\"T_b7fce_row10_col3\" class=\"data row10 col3\" >0.9539</td>\n      <td id=\"T_b7fce_row10_col4\" class=\"data row10 col4\" >0.9530</td>\n      <td id=\"T_b7fce_row10_col5\" class=\"data row10 col5\" >0.8686</td>\n      <td id=\"T_b7fce_row10_col6\" class=\"data row10 col6\" >0.8686</td>\n    </tr>\n    <tr>\n      <th id=\"T_b7fce_level0_row11\" class=\"row_heading level0 row11\" >Std</th>\n      <td id=\"T_b7fce_row11_col0\" class=\"data row11 col0\" >0.0020</td>\n      <td id=\"T_b7fce_row11_col1\" class=\"data row11 col1\" >0.0007</td>\n      <td id=\"T_b7fce_row11_col2\" class=\"data row11 col2\" >0.0023</td>\n      <td id=\"T_b7fce_row11_col3\" class=\"data row11 col3\" >0.0017</td>\n      <td id=\"T_b7fce_row11_col4\" class=\"data row11 col4\" >0.0016</td>\n      <td id=\"T_b7fce_row11_col5\" class=\"data row11 col5\" >0.0044</td>\n      <td id=\"T_b7fce_row11_col6\" class=\"data row11 col6\" >0.0044</td>\n    </tr>\n  </tbody>\n</table>\n"
     },
     "metadata": {},
     "output_type": "display_data"
    },
    {
     "data": {
      "text/plain": "interactive(children=(ToggleButtons(description='Plot Type:', icons=('',), options=(('Pipeline Plot', 'pipelin…",
      "application/vnd.jupyter.widget-view+json": {
       "version_major": 2,
       "version_minor": 0,
       "model_id": "220967e113ff4dcf985e8bb33392a4a0"
      }
     },
     "metadata": {},
     "output_type": "display_data"
    }
   ],
   "source": [
    "# Ajuste del modelo seleccionado\n",
    "final_model = create_model(best_model)\n",
    "\n",
    "# Evaluación del modelo\n",
    "evaluate_model(final_model)"
   ]
  },
  {
   "cell_type": "code",
   "execution_count": 9,
   "metadata": {
    "colab": {
     "base_uri": "https://localhost:8080/",
     "height": 81
    },
    "id": "c5Jsv0qSxSjn",
    "outputId": "7e1216da-4ca1-48d4-a441-327b5572a308",
    "ExecuteTime": {
     "end_time": "2024-03-06T23:52:54.347015Z",
     "start_time": "2024-03-06T23:52:53.887898Z"
    }
   },
   "outputs": [
    {
     "data": {
      "text/plain": "<pandas.io.formats.style.Styler at 0x23bbb93ccd0>",
      "text/html": "<style type=\"text/css\">\n</style>\n<table id=\"T_8b4b7\">\n  <thead>\n    <tr>\n      <th class=\"blank level0\" >&nbsp;</th>\n      <th id=\"T_8b4b7_level0_col0\" class=\"col_heading level0 col0\" >Model</th>\n      <th id=\"T_8b4b7_level0_col1\" class=\"col_heading level0 col1\" >Accuracy</th>\n      <th id=\"T_8b4b7_level0_col2\" class=\"col_heading level0 col2\" >AUC</th>\n      <th id=\"T_8b4b7_level0_col3\" class=\"col_heading level0 col3\" >Recall</th>\n      <th id=\"T_8b4b7_level0_col4\" class=\"col_heading level0 col4\" >Prec.</th>\n      <th id=\"T_8b4b7_level0_col5\" class=\"col_heading level0 col5\" >F1</th>\n      <th id=\"T_8b4b7_level0_col6\" class=\"col_heading level0 col6\" >Kappa</th>\n      <th id=\"T_8b4b7_level0_col7\" class=\"col_heading level0 col7\" >MCC</th>\n    </tr>\n  </thead>\n  <tbody>\n    <tr>\n      <th id=\"T_8b4b7_level0_row0\" class=\"row_heading level0 row0\" >0</th>\n      <td id=\"T_8b4b7_row0_col0\" class=\"data row0 col0\" >Random Forest Classifier</td>\n      <td id=\"T_8b4b7_row0_col1\" class=\"data row0 col1\" >0.9400</td>\n      <td id=\"T_8b4b7_row0_col2\" class=\"data row0 col2\" >0.9884</td>\n      <td id=\"T_8b4b7_row0_col3\" class=\"data row0 col3\" >0.9520</td>\n      <td id=\"T_8b4b7_row0_col4\" class=\"data row0 col4\" >0.9551</td>\n      <td id=\"T_8b4b7_row0_col5\" class=\"data row0 col5\" >0.9535</td>\n      <td id=\"T_8b4b7_row0_col6\" class=\"data row0 col6\" >0.8690</td>\n      <td id=\"T_8b4b7_row0_col7\" class=\"data row0 col7\" >0.8690</td>\n    </tr>\n  </tbody>\n</table>\n"
     },
     "metadata": {},
     "output_type": "display_data"
    }
   ],
   "source": [
    "predictions = predict_model(final_model, data=test_data)\n"
   ]
  },
  {
   "cell_type": "code",
   "execution_count": 10,
   "metadata": {
    "id": "8amIdZ0ixX71",
    "ExecuteTime": {
     "end_time": "2024-03-06T23:52:54.363018Z",
     "start_time": "2024-03-06T23:52:54.348015Z"
    }
   },
   "outputs": [],
   "source": [
    "from pycaret.classification import plot_model\n"
   ]
  },
  {
   "cell_type": "code",
   "execution_count": 11,
   "metadata": {
    "colab": {
     "base_uri": "https://localhost:8080/",
     "height": 551
    },
    "id": "JiHq3qYZxZsL",
    "outputId": "9bb44e4d-b3b1-4e75-b624-b5704aad47a1",
    "ExecuteTime": {
     "end_time": "2024-03-06T23:52:55.346239Z",
     "start_time": "2024-03-06T23:52:54.364018Z"
    }
   },
   "outputs": [
    {
     "data": {
      "text/plain": "<IPython.core.display.HTML object>",
      "text/html": ""
     },
     "metadata": {},
     "output_type": "display_data"
    },
    {
     "data": {
      "text/plain": "<Figure size 800x550 with 1 Axes>",
      "image/png": "[encoded data removed]"
     },
     "metadata": {},
     "output_type": "display_data"
    }
   ],
   "source": [
    "# Visualizar la matriz de confusión\n",
    "plot_model(final_model, plot='confusion_matrix')\n"
   ]
  },
  {
   "cell_type": "code",
   "execution_count": 13,
   "metadata": {
    "colab": {
     "base_uri": "https://localhost:8080/",
     "height": 663
    },
    "id": "NFaF8m5k27GF",
    "outputId": "01ac2742-c378-4639-8356-3b81e0dc9c8c",
    "ExecuteTime": {
     "end_time": "2024-03-06T23:53:21.115250Z",
     "start_time": "2024-03-06T23:53:19.302188Z"
    }
   },
   "outputs": [
    {
     "data": {
      "text/plain": "<pandas.io.formats.style.Styler at 0x23c305896f0>",
      "text/html": "<style type=\"text/css\">\n#T_9f586_row8_col1 {\n  background-color: lightgreen;\n}\n</style>\n<table id=\"T_9f586\">\n  <thead>\n    <tr>\n      <th class=\"blank level0\" >&nbsp;</th>\n      <th id=\"T_9f586_level0_col0\" class=\"col_heading level0 col0\" >Description</th>\n      <th id=\"T_9f586_level0_col1\" class=\"col_heading level0 col1\" >Value</th>\n    </tr>\n  </thead>\n  <tbody>\n    <tr>\n      <th id=\"T_9f586_level0_row0\" class=\"row_heading level0 row0\" >0</th>\n      <td id=\"T_9f586_row0_col0\" class=\"data row0 col0\" >Session id</td>\n      <td id=\"T_9f586_row0_col1\" class=\"data row0 col1\" >6547</td>\n    </tr>\n    <tr>\n      <th id=\"T_9f586_level0_row1\" class=\"row_heading level0 row1\" >1</th>\n      <td id=\"T_9f586_row1_col0\" class=\"data row1 col0\" >Target</td>\n      <td id=\"T_9f586_row1_col1\" class=\"data row1 col1\" >label</td>\n    </tr>\n    <tr>\n      <th id=\"T_9f586_level0_row2\" class=\"row_heading level0 row2\" >2</th>\n      <td id=\"T_9f586_row2_col0\" class=\"data row2 col0\" >Target type</td>\n      <td id=\"T_9f586_row2_col1\" class=\"data row2 col1\" >Binary</td>\n    </tr>\n    <tr>\n      <th id=\"T_9f586_level0_row3\" class=\"row_heading level0 row3\" >3</th>\n      <td id=\"T_9f586_row3_col0\" class=\"data row3 col0\" >Original data shape</td>\n      <td id=\"T_9f586_row3_col1\" class=\"data row3 col1\" >(253910, 21)</td>\n    </tr>\n    <tr>\n      <th id=\"T_9f586_level0_row4\" class=\"row_heading level0 row4\" >4</th>\n      <td id=\"T_9f586_row4_col0\" class=\"data row4 col0\" >Transformed data shape</td>\n      <td id=\"T_9f586_row4_col1\" class=\"data row4 col1\" >(253910, 21)</td>\n    </tr>\n    <tr>\n      <th id=\"T_9f586_level0_row5\" class=\"row_heading level0 row5\" >5</th>\n      <td id=\"T_9f586_row5_col0\" class=\"data row5 col0\" >Transformed train set shape</td>\n      <td id=\"T_9f586_row5_col1\" class=\"data row5 col1\" >(177737, 21)</td>\n    </tr>\n    <tr>\n      <th id=\"T_9f586_level0_row6\" class=\"row_heading level0 row6\" >6</th>\n      <td id=\"T_9f586_row6_col0\" class=\"data row6 col0\" >Transformed test set shape</td>\n      <td id=\"T_9f586_row6_col1\" class=\"data row6 col1\" >(76173, 21)</td>\n    </tr>\n    <tr>\n      <th id=\"T_9f586_level0_row7\" class=\"row_heading level0 row7\" >7</th>\n      <td id=\"T_9f586_row7_col0\" class=\"data row7 col0\" >Numeric features</td>\n      <td id=\"T_9f586_row7_col1\" class=\"data row7 col1\" >20</td>\n    </tr>\n    <tr>\n      <th id=\"T_9f586_level0_row8\" class=\"row_heading level0 row8\" >8</th>\n      <td id=\"T_9f586_row8_col0\" class=\"data row8 col0\" >Preprocess</td>\n      <td id=\"T_9f586_row8_col1\" class=\"data row8 col1\" >True</td>\n    </tr>\n    <tr>\n      <th id=\"T_9f586_level0_row9\" class=\"row_heading level0 row9\" >9</th>\n      <td id=\"T_9f586_row9_col0\" class=\"data row9 col0\" >Imputation type</td>\n      <td id=\"T_9f586_row9_col1\" class=\"data row9 col1\" >simple</td>\n    </tr>\n    <tr>\n      <th id=\"T_9f586_level0_row10\" class=\"row_heading level0 row10\" >10</th>\n      <td id=\"T_9f586_row10_col0\" class=\"data row10 col0\" >Numeric imputation</td>\n      <td id=\"T_9f586_row10_col1\" class=\"data row10 col1\" >mean</td>\n    </tr>\n    <tr>\n      <th id=\"T_9f586_level0_row11\" class=\"row_heading level0 row11\" >11</th>\n      <td id=\"T_9f586_row11_col0\" class=\"data row11 col0\" >Categorical imputation</td>\n      <td id=\"T_9f586_row11_col1\" class=\"data row11 col1\" >mode</td>\n    </tr>\n    <tr>\n      <th id=\"T_9f586_level0_row12\" class=\"row_heading level0 row12\" >12</th>\n      <td id=\"T_9f586_row12_col0\" class=\"data row12 col0\" >Fold Generator</td>\n      <td id=\"T_9f586_row12_col1\" class=\"data row12 col1\" >StratifiedKFold</td>\n    </tr>\n    <tr>\n      <th id=\"T_9f586_level0_row13\" class=\"row_heading level0 row13\" >13</th>\n      <td id=\"T_9f586_row13_col0\" class=\"data row13 col0\" >Fold Number</td>\n      <td id=\"T_9f586_row13_col1\" class=\"data row13 col1\" >10</td>\n    </tr>\n    <tr>\n      <th id=\"T_9f586_level0_row14\" class=\"row_heading level0 row14\" >14</th>\n      <td id=\"T_9f586_row14_col0\" class=\"data row14 col0\" >CPU Jobs</td>\n      <td id=\"T_9f586_row14_col1\" class=\"data row14 col1\" >-1</td>\n    </tr>\n    <tr>\n      <th id=\"T_9f586_level0_row15\" class=\"row_heading level0 row15\" >15</th>\n      <td id=\"T_9f586_row15_col0\" class=\"data row15 col0\" >Use GPU</td>\n      <td id=\"T_9f586_row15_col1\" class=\"data row15 col1\" >False</td>\n    </tr>\n    <tr>\n      <th id=\"T_9f586_level0_row16\" class=\"row_heading level0 row16\" >16</th>\n      <td id=\"T_9f586_row16_col0\" class=\"data row16 col0\" >Log Experiment</td>\n      <td id=\"T_9f586_row16_col1\" class=\"data row16 col1\" >False</td>\n    </tr>\n    <tr>\n      <th id=\"T_9f586_level0_row17\" class=\"row_heading level0 row17\" >17</th>\n      <td id=\"T_9f586_row17_col0\" class=\"data row17 col0\" >Experiment Name</td>\n      <td id=\"T_9f586_row17_col1\" class=\"data row17 col1\" >clf-default-name</td>\n    </tr>\n    <tr>\n      <th id=\"T_9f586_level0_row18\" class=\"row_heading level0 row18\" >18</th>\n      <td id=\"T_9f586_row18_col0\" class=\"data row18 col0\" >USI</td>\n      <td id=\"T_9f586_row18_col1\" class=\"data row18 col1\" >ffc5</td>\n    </tr>\n  </tbody>\n</table>\n"
     },
     "metadata": {},
     "output_type": "display_data"
    },
    {
     "data": {
      "text/plain": "<pycaret.classification.oop.ClassificationExperiment at 0x23bbb8ebc40>"
     },
     "execution_count": 13,
     "metadata": {},
     "output_type": "execute_result"
    }
   ],
   "source": [
    "setup(data, target='label')"
   ]
  },
  {
   "cell_type": "code",
   "execution_count": 14,
   "metadata": {
    "colab": {
     "base_uri": "https://localhost:8080/",
     "height": 520,
     "referenced_widgets": [
      "9836d6dbfc8f49499db518e5ae349683",
      "60a7e7f746bd46109ea3913d66ea34ba",
      "4dcc4b861bc14c19b6707145afba3f81",
      "95f1da375773495dae3d8c8df1cf8202",
      "f7ee5ab0b7834a939390faf1fef8c07a",
      "7228a550a67e4b839496388f59694c7c",
      "658900e730354c7fab3aa633750ecdf4",
      "8823a17fba20413095f4315032aaf485",
      "ef7ad1b6d4e74aaf973631f4a6ed7924",
      "2bba08be613e43959587790509758338",
      "545c42fd3da741749a91a4c32717ef7c"
     ]
    },
    "id": "SWIuo2u72_Tz",
    "outputId": "4911e1f2-ad56-4045-f168-20d7cb5f32ea",
    "ExecuteTime": {
     "end_time": "2024-03-06T23:56:42.185339Z",
     "start_time": "2024-03-06T23:53:23.377971Z"
    }
   },
   "outputs": [
    {
     "data": {
      "text/plain": "                                                                    \n                                                                    \nInitiated  . . . . . . . . . . . . . . . . . .              18:53:23\nStatus     . . . . . . . . . . . . . . . . . .  Loading Dependencies\nEstimator  . . . . . . . . . . . . . . . . . .     Compiling Library",
      "text/html": "<div>\n<style scoped>\n    .dataframe tbody tr th:only-of-type {\n        vertical-align: middle;\n    }\n\n    .dataframe tbody tr th {\n        vertical-align: top;\n    }\n\n    .dataframe thead th {\n        text-align: right;\n    }\n</style>\n<table border=\"1\" class=\"dataframe\">\n  <thead>\n    <tr style=\"text-align: right;\">\n      <th></th>\n      <th></th>\n      <th></th>\n    </tr>\n    <tr>\n      <th></th>\n      <th></th>\n      <th></th>\n    </tr>\n  </thead>\n  <tbody>\n    <tr>\n      <th>Initiated</th>\n      <td>. . . . . . . . . . . . . . . . . .</td>\n      <td>18:53:23</td>\n    </tr>\n    <tr>\n      <th>Status</th>\n      <td>. . . . . . . . . . . . . . . . . .</td>\n      <td>Loading Dependencies</td>\n    </tr>\n    <tr>\n      <th>Estimator</th>\n      <td>. . . . . . . . . . . . . . . . . .</td>\n      <td>Compiling Library</td>\n    </tr>\n  </tbody>\n</table>\n</div>"
     },
     "metadata": {},
     "output_type": "display_data"
    },
    {
     "data": {
      "text/plain": "<IPython.core.display.HTML object>",
      "text/html": ""
     },
     "metadata": {},
     "output_type": "display_data"
    },
    {
     "data": {
      "text/plain": "<pandas.io.formats.style.Styler at 0x23c07bfe7d0>",
      "text/html": "<style type=\"text/css\">\n#T_7e4ab th {\n  text-align: left;\n}\n#T_7e4ab_row0_col0, #T_7e4ab_row0_col3, #T_7e4ab_row1_col0, #T_7e4ab_row1_col1, #T_7e4ab_row1_col2, #T_7e4ab_row1_col3, #T_7e4ab_row1_col4, #T_7e4ab_row1_col5, #T_7e4ab_row1_col6, #T_7e4ab_row1_col7, #T_7e4ab_row2_col0, #T_7e4ab_row2_col1, #T_7e4ab_row2_col2, #T_7e4ab_row2_col3, #T_7e4ab_row2_col5, #T_7e4ab_row2_col6, #T_7e4ab_row2_col7, #T_7e4ab_row3_col0, #T_7e4ab_row3_col1, #T_7e4ab_row3_col2, #T_7e4ab_row3_col3, #T_7e4ab_row3_col4, #T_7e4ab_row3_col5, #T_7e4ab_row3_col6, #T_7e4ab_row3_col7, #T_7e4ab_row4_col0, #T_7e4ab_row4_col1, #T_7e4ab_row4_col2, #T_7e4ab_row4_col3, #T_7e4ab_row4_col4, #T_7e4ab_row4_col5, #T_7e4ab_row4_col6, #T_7e4ab_row4_col7, #T_7e4ab_row5_col0, #T_7e4ab_row5_col1, #T_7e4ab_row5_col2, #T_7e4ab_row5_col3, #T_7e4ab_row5_col4, #T_7e4ab_row5_col5, #T_7e4ab_row5_col6, #T_7e4ab_row5_col7, #T_7e4ab_row6_col0, #T_7e4ab_row6_col1, #T_7e4ab_row6_col2, #T_7e4ab_row6_col3, #T_7e4ab_row6_col4, #T_7e4ab_row6_col5, #T_7e4ab_row6_col6, #T_7e4ab_row6_col7, #T_7e4ab_row7_col0, #T_7e4ab_row7_col1, #T_7e4ab_row7_col2, #T_7e4ab_row7_col3, #T_7e4ab_row7_col4, #T_7e4ab_row7_col5, #T_7e4ab_row7_col6, #T_7e4ab_row7_col7, #T_7e4ab_row8_col0, #T_7e4ab_row8_col1, #T_7e4ab_row8_col2, #T_7e4ab_row8_col3, #T_7e4ab_row8_col4, #T_7e4ab_row8_col5, #T_7e4ab_row8_col6, #T_7e4ab_row8_col7, #T_7e4ab_row9_col0, #T_7e4ab_row9_col1, #T_7e4ab_row9_col2, #T_7e4ab_row9_col3, #T_7e4ab_row9_col4, #T_7e4ab_row9_col5, #T_7e4ab_row9_col6, #T_7e4ab_row9_col7, #T_7e4ab_row10_col0, #T_7e4ab_row10_col1, #T_7e4ab_row10_col2, #T_7e4ab_row10_col3, #T_7e4ab_row10_col4, #T_7e4ab_row10_col5, #T_7e4ab_row10_col6, #T_7e4ab_row10_col7, #T_7e4ab_row11_col0, #T_7e4ab_row11_col1, #T_7e4ab_row11_col2, #T_7e4ab_row11_col3, #T_7e4ab_row11_col4, #T_7e4ab_row11_col5, #T_7e4ab_row11_col6, #T_7e4ab_row11_col7, #T_7e4ab_row12_col0, #T_7e4ab_row12_col1, #T_7e4ab_row12_col2, #T_7e4ab_row12_col4, #T_7e4ab_row12_col5, #T_7e4ab_row12_col6, #T_7e4ab_row12_col7, #T_7e4ab_row13_col0, #T_7e4ab_row13_col1, #T_7e4ab_row13_col2, #T_7e4ab_row13_col4, #T_7e4ab_row13_col5, #T_7e4ab_row13_col6, #T_7e4ab_row13_col7 {\n  text-align: left;\n}\n#T_7e4ab_row0_col1, #T_7e4ab_row0_col2, #T_7e4ab_row0_col4, #T_7e4ab_row0_col5, #T_7e4ab_row0_col6, #T_7e4ab_row0_col7, #T_7e4ab_row2_col4, #T_7e4ab_row12_col3, #T_7e4ab_row13_col3 {\n  text-align: left;\n  background-color: yellow;\n}\n#T_7e4ab_row0_col8, #T_7e4ab_row1_col8, #T_7e4ab_row2_col8, #T_7e4ab_row3_col8, #T_7e4ab_row4_col8, #T_7e4ab_row5_col8, #T_7e4ab_row6_col8, #T_7e4ab_row7_col8, #T_7e4ab_row8_col8, #T_7e4ab_row9_col8, #T_7e4ab_row10_col8, #T_7e4ab_row11_col8, #T_7e4ab_row12_col8 {\n  text-align: left;\n  background-color: lightgrey;\n}\n#T_7e4ab_row13_col8 {\n  text-align: left;\n  background-color: yellow;\n  background-color: lightgrey;\n}\n</style>\n<table id=\"T_7e4ab\">\n  <thead>\n    <tr>\n      <th class=\"blank level0\" >&nbsp;</th>\n      <th id=\"T_7e4ab_level0_col0\" class=\"col_heading level0 col0\" >Model</th>\n      <th id=\"T_7e4ab_level0_col1\" class=\"col_heading level0 col1\" >Accuracy</th>\n      <th id=\"T_7e4ab_level0_col2\" class=\"col_heading level0 col2\" >AUC</th>\n      <th id=\"T_7e4ab_level0_col3\" class=\"col_heading level0 col3\" >Recall</th>\n      <th id=\"T_7e4ab_level0_col4\" class=\"col_heading level0 col4\" >Prec.</th>\n      <th id=\"T_7e4ab_level0_col5\" class=\"col_heading level0 col5\" >F1</th>\n      <th id=\"T_7e4ab_level0_col6\" class=\"col_heading level0 col6\" >Kappa</th>\n      <th id=\"T_7e4ab_level0_col7\" class=\"col_heading level0 col7\" >MCC</th>\n      <th id=\"T_7e4ab_level0_col8\" class=\"col_heading level0 col8\" >TT (Sec)</th>\n    </tr>\n  </thead>\n  <tbody>\n    <tr>\n      <th id=\"T_7e4ab_level0_row0\" class=\"row_heading level0 row0\" >rf</th>\n      <td id=\"T_7e4ab_row0_col0\" class=\"data row0 col0\" >Random Forest Classifier</td>\n      <td id=\"T_7e4ab_row0_col1\" class=\"data row0 col1\" >0.9405</td>\n      <td id=\"T_7e4ab_row0_col2\" class=\"data row0 col2\" >0.9886</td>\n      <td id=\"T_7e4ab_row0_col3\" class=\"data row0 col3\" >0.9528</td>\n      <td id=\"T_7e4ab_row0_col4\" class=\"data row0 col4\" >0.9547</td>\n      <td id=\"T_7e4ab_row0_col5\" class=\"data row0 col5\" >0.9538</td>\n      <td id=\"T_7e4ab_row0_col6\" class=\"data row0 col6\" >0.8705</td>\n      <td id=\"T_7e4ab_row0_col7\" class=\"data row0 col7\" >0.8705</td>\n      <td id=\"T_7e4ab_row0_col8\" class=\"data row0 col8\" >2.4730</td>\n    </tr>\n    <tr>\n      <th id=\"T_7e4ab_level0_row1\" class=\"row_heading level0 row1\" >et</th>\n      <td id=\"T_7e4ab_row1_col0\" class=\"data row1 col0\" >Extra Trees Classifier</td>\n      <td id=\"T_7e4ab_row1_col1\" class=\"data row1 col1\" >0.9395</td>\n      <td id=\"T_7e4ab_row1_col2\" class=\"data row1 col2\" >0.9864</td>\n      <td id=\"T_7e4ab_row1_col3\" class=\"data row1 col3\" >0.9538</td>\n      <td id=\"T_7e4ab_row1_col4\" class=\"data row1 col4\" >0.9523</td>\n      <td id=\"T_7e4ab_row1_col5\" class=\"data row1 col5\" >0.9531</td>\n      <td id=\"T_7e4ab_row1_col6\" class=\"data row1 col6\" >0.8681</td>\n      <td id=\"T_7e4ab_row1_col7\" class=\"data row1 col7\" >0.8681</td>\n      <td id=\"T_7e4ab_row1_col8\" class=\"data row1 col8\" >1.8940</td>\n    </tr>\n    <tr>\n      <th id=\"T_7e4ab_level0_row2\" class=\"row_heading level0 row2\" >lightgbm</th>\n      <td id=\"T_7e4ab_row2_col0\" class=\"data row2 col0\" >Light Gradient Boosting Machine</td>\n      <td id=\"T_7e4ab_row2_col1\" class=\"data row2 col1\" >0.9347</td>\n      <td id=\"T_7e4ab_row2_col2\" class=\"data row2 col2\" >0.9871</td>\n      <td id=\"T_7e4ab_row2_col3\" class=\"data row2 col3\" >0.9433</td>\n      <td id=\"T_7e4ab_row2_col4\" class=\"data row2 col4\" >0.9547</td>\n      <td id=\"T_7e4ab_row2_col5\" class=\"data row2 col5\" >0.9489</td>\n      <td id=\"T_7e4ab_row2_col6\" class=\"data row2 col6\" >0.8582</td>\n      <td id=\"T_7e4ab_row2_col7\" class=\"data row2 col7\" >0.8584</td>\n      <td id=\"T_7e4ab_row2_col8\" class=\"data row2 col8\" >0.5260</td>\n    </tr>\n    <tr>\n      <th id=\"T_7e4ab_level0_row3\" class=\"row_heading level0 row3\" >gbc</th>\n      <td id=\"T_7e4ab_row3_col0\" class=\"data row3 col0\" >Gradient Boosting Classifier</td>\n      <td id=\"T_7e4ab_row3_col1\" class=\"data row3 col1\" >0.9270</td>\n      <td id=\"T_7e4ab_row3_col2\" class=\"data row3 col2\" >0.9807</td>\n      <td id=\"T_7e4ab_row3_col3\" class=\"data row3 col3\" >0.9516</td>\n      <td id=\"T_7e4ab_row3_col4\" class=\"data row3 col4\" >0.9360</td>\n      <td id=\"T_7e4ab_row3_col5\" class=\"data row3 col5\" >0.9437</td>\n      <td id=\"T_7e4ab_row3_col6\" class=\"data row3 col6\" >0.8397</td>\n      <td id=\"T_7e4ab_row3_col7\" class=\"data row3 col7\" >0.8400</td>\n      <td id=\"T_7e4ab_row3_col8\" class=\"data row3 col8\" >5.2080</td>\n    </tr>\n    <tr>\n      <th id=\"T_7e4ab_level0_row4\" class=\"row_heading level0 row4\" >dt</th>\n      <td id=\"T_7e4ab_row4_col0\" class=\"data row4 col0\" >Decision Tree Classifier</td>\n      <td id=\"T_7e4ab_row4_col1\" class=\"data row4 col1\" >0.9249</td>\n      <td id=\"T_7e4ab_row4_col2\" class=\"data row4 col2\" >0.9205</td>\n      <td id=\"T_7e4ab_row4_col3\" class=\"data row4 col3\" >0.9406</td>\n      <td id=\"T_7e4ab_row4_col4\" class=\"data row4 col4\" >0.9426</td>\n      <td id=\"T_7e4ab_row4_col5\" class=\"data row4 col5\" >0.9416</td>\n      <td id=\"T_7e4ab_row4_col6\" class=\"data row4 col6\" >0.8364</td>\n      <td id=\"T_7e4ab_row4_col7\" class=\"data row4 col7\" >0.8364</td>\n      <td id=\"T_7e4ab_row4_col8\" class=\"data row4 col8\" >0.2590</td>\n    </tr>\n    <tr>\n      <th id=\"T_7e4ab_level0_row5\" class=\"row_heading level0 row5\" >ada</th>\n      <td id=\"T_7e4ab_row5_col0\" class=\"data row5 col0\" >Ada Boost Classifier</td>\n      <td id=\"T_7e4ab_row5_col1\" class=\"data row5 col1\" >0.9178</td>\n      <td id=\"T_7e4ab_row5_col2\" class=\"data row5 col2\" >0.9749</td>\n      <td id=\"T_7e4ab_row5_col3\" class=\"data row5 col3\" >0.9456</td>\n      <td id=\"T_7e4ab_row5_col4\" class=\"data row5 col4\" >0.9281</td>\n      <td id=\"T_7e4ab_row5_col5\" class=\"data row5 col5\" >0.9367</td>\n      <td id=\"T_7e4ab_row5_col6\" class=\"data row5 col6\" >0.8194</td>\n      <td id=\"T_7e4ab_row5_col7\" class=\"data row5 col7\" >0.8198</td>\n      <td id=\"T_7e4ab_row5_col8\" class=\"data row5 col8\" >1.5310</td>\n    </tr>\n    <tr>\n      <th id=\"T_7e4ab_level0_row6\" class=\"row_heading level0 row6\" >knn</th>\n      <td id=\"T_7e4ab_row6_col0\" class=\"data row6 col0\" >K Neighbors Classifier</td>\n      <td id=\"T_7e4ab_row6_col1\" class=\"data row6 col1\" >0.8495</td>\n      <td id=\"T_7e4ab_row6_col2\" class=\"data row6 col2\" >0.9177</td>\n      <td id=\"T_7e4ab_row6_col3\" class=\"data row6 col3\" >0.9049</td>\n      <td id=\"T_7e4ab_row6_col4\" class=\"data row6 col4\" >0.8671</td>\n      <td id=\"T_7e4ab_row6_col5\" class=\"data row6 col5\" >0.8856</td>\n      <td id=\"T_7e4ab_row6_col6\" class=\"data row6 col6\" >0.6661</td>\n      <td id=\"T_7e4ab_row6_col7\" class=\"data row6 col7\" >0.6674</td>\n      <td id=\"T_7e4ab_row6_col8\" class=\"data row6 col8\" >3.6640</td>\n    </tr>\n    <tr>\n      <th id=\"T_7e4ab_level0_row7\" class=\"row_heading level0 row7\" >ridge</th>\n      <td id=\"T_7e4ab_row7_col0\" class=\"data row7 col0\" >Ridge Classifier</td>\n      <td id=\"T_7e4ab_row7_col1\" class=\"data row7 col1\" >0.8473</td>\n      <td id=\"T_7e4ab_row7_col2\" class=\"data row7 col2\" >0.0000</td>\n      <td id=\"T_7e4ab_row7_col3\" class=\"data row7 col3\" >0.9289</td>\n      <td id=\"T_7e4ab_row7_col4\" class=\"data row7 col4\" >0.8484</td>\n      <td id=\"T_7e4ab_row7_col5\" class=\"data row7 col5\" >0.8868</td>\n      <td id=\"T_7e4ab_row7_col6\" class=\"data row7 col6\" >0.6539</td>\n      <td id=\"T_7e4ab_row7_col7\" class=\"data row7 col7\" >0.6603</td>\n      <td id=\"T_7e4ab_row7_col8\" class=\"data row7 col8\" >0.1200</td>\n    </tr>\n    <tr>\n      <th id=\"T_7e4ab_level0_row8\" class=\"row_heading level0 row8\" >lda</th>\n      <td id=\"T_7e4ab_row8_col0\" class=\"data row8 col0\" >Linear Discriminant Analysis</td>\n      <td id=\"T_7e4ab_row8_col1\" class=\"data row8 col1\" >0.8458</td>\n      <td id=\"T_7e4ab_row8_col2\" class=\"data row8 col2\" >0.9244</td>\n      <td id=\"T_7e4ab_row8_col3\" class=\"data row8 col3\" >0.9254</td>\n      <td id=\"T_7e4ab_row8_col4\" class=\"data row8 col4\" >0.8487</td>\n      <td id=\"T_7e4ab_row8_col5\" class=\"data row8 col5\" >0.8854</td>\n      <td id=\"T_7e4ab_row8_col6\" class=\"data row8 col6\" >0.6510</td>\n      <td id=\"T_7e4ab_row8_col7\" class=\"data row8 col7\" >0.6568</td>\n      <td id=\"T_7e4ab_row8_col8\" class=\"data row8 col8\" >0.1990</td>\n    </tr>\n    <tr>\n      <th id=\"T_7e4ab_level0_row9\" class=\"row_heading level0 row9\" >lr</th>\n      <td id=\"T_7e4ab_row9_col0\" class=\"data row9 col0\" >Logistic Regression</td>\n      <td id=\"T_7e4ab_row9_col1\" class=\"data row9 col1\" >0.8013</td>\n      <td id=\"T_7e4ab_row9_col2\" class=\"data row9 col2\" >0.8767</td>\n      <td id=\"T_7e4ab_row9_col3\" class=\"data row9 col3\" >0.9359</td>\n      <td id=\"T_7e4ab_row9_col4\" class=\"data row9 col4\" >0.7928</td>\n      <td id=\"T_7e4ab_row9_col5\" class=\"data row9 col5\" >0.8584</td>\n      <td id=\"T_7e4ab_row9_col6\" class=\"data row9 col6\" >0.5328</td>\n      <td id=\"T_7e4ab_row9_col7\" class=\"data row9 col7\" >0.5539</td>\n      <td id=\"T_7e4ab_row9_col8\" class=\"data row9 col8\" >0.5450</td>\n    </tr>\n    <tr>\n      <th id=\"T_7e4ab_level0_row10\" class=\"row_heading level0 row10\" >nb</th>\n      <td id=\"T_7e4ab_row10_col0\" class=\"data row10 col0\" >Naive Bayes</td>\n      <td id=\"T_7e4ab_row10_col1\" class=\"data row10 col1\" >0.7897</td>\n      <td id=\"T_7e4ab_row10_col2\" class=\"data row10 col2\" >0.8509</td>\n      <td id=\"T_7e4ab_row10_col3\" class=\"data row10 col3\" >0.9631</td>\n      <td id=\"T_7e4ab_row10_col4\" class=\"data row10 col4\" >0.7687</td>\n      <td id=\"T_7e4ab_row10_col5\" class=\"data row10 col5\" >0.8550</td>\n      <td id=\"T_7e4ab_row10_col6\" class=\"data row10 col6\" >0.4894</td>\n      <td id=\"T_7e4ab_row10_col7\" class=\"data row10 col7\" >0.5328</td>\n      <td id=\"T_7e4ab_row10_col8\" class=\"data row10 col8\" >0.1290</td>\n    </tr>\n    <tr>\n      <th id=\"T_7e4ab_level0_row11\" class=\"row_heading level0 row11\" >svm</th>\n      <td id=\"T_7e4ab_row11_col0\" class=\"data row11 col0\" >SVM - Linear Kernel</td>\n      <td id=\"T_7e4ab_row11_col1\" class=\"data row11 col1\" >0.7594</td>\n      <td id=\"T_7e4ab_row11_col2\" class=\"data row11 col2\" >0.0000</td>\n      <td id=\"T_7e4ab_row11_col3\" class=\"data row11 col3\" >0.7560</td>\n      <td id=\"T_7e4ab_row11_col4\" class=\"data row11 col4\" >0.8790</td>\n      <td id=\"T_7e4ab_row11_col5\" class=\"data row11 col5\" >0.7963</td>\n      <td id=\"T_7e4ab_row11_col6\" class=\"data row11 col6\" >0.4965</td>\n      <td id=\"T_7e4ab_row11_col7\" class=\"data row11 col7\" >0.5404</td>\n      <td id=\"T_7e4ab_row11_col8\" class=\"data row11 col8\" >2.3500</td>\n    </tr>\n    <tr>\n      <th id=\"T_7e4ab_level0_row12\" class=\"row_heading level0 row12\" >qda</th>\n      <td id=\"T_7e4ab_row12_col0\" class=\"data row12 col0\" >Quadratic Discriminant Analysis</td>\n      <td id=\"T_7e4ab_row12_col1\" class=\"data row12 col1\" >0.6437</td>\n      <td id=\"T_7e4ab_row12_col2\" class=\"data row12 col2\" >0.0000</td>\n      <td id=\"T_7e4ab_row12_col3\" class=\"data row12 col3\" >1.0000</td>\n      <td id=\"T_7e4ab_row12_col4\" class=\"data row12 col4\" >0.6437</td>\n      <td id=\"T_7e4ab_row12_col5\" class=\"data row12 col5\" >0.7832</td>\n      <td id=\"T_7e4ab_row12_col6\" class=\"data row12 col6\" >0.0000</td>\n      <td id=\"T_7e4ab_row12_col7\" class=\"data row12 col7\" >0.0000</td>\n      <td id=\"T_7e4ab_row12_col8\" class=\"data row12 col8\" >0.1740</td>\n    </tr>\n    <tr>\n      <th id=\"T_7e4ab_level0_row13\" class=\"row_heading level0 row13\" >dummy</th>\n      <td id=\"T_7e4ab_row13_col0\" class=\"data row13 col0\" >Dummy Classifier</td>\n      <td id=\"T_7e4ab_row13_col1\" class=\"data row13 col1\" >0.6437</td>\n      <td id=\"T_7e4ab_row13_col2\" class=\"data row13 col2\" >0.5000</td>\n      <td id=\"T_7e4ab_row13_col3\" class=\"data row13 col3\" >1.0000</td>\n      <td id=\"T_7e4ab_row13_col4\" class=\"data row13 col4\" >0.6437</td>\n      <td id=\"T_7e4ab_row13_col5\" class=\"data row13 col5\" >0.7832</td>\n      <td id=\"T_7e4ab_row13_col6\" class=\"data row13 col6\" >0.0000</td>\n      <td id=\"T_7e4ab_row13_col7\" class=\"data row13 col7\" >0.0000</td>\n      <td id=\"T_7e4ab_row13_col8\" class=\"data row13 col8\" >0.0920</td>\n    </tr>\n  </tbody>\n</table>\n"
     },
     "metadata": {},
     "output_type": "display_data"
    }
   ],
   "source": [
    "best_model = compare_models()\n"
   ]
  },
  {
   "cell_type": "code",
   "execution_count": 15,
   "metadata": {
    "colab": {
     "base_uri": "https://localhost:8080/",
     "height": 671,
     "referenced_widgets": [
      "42eca496c2be41ada01af4bfb79ff9fa",
      "dcd399251f824662851c0e908a56620e",
      "79521ae39b6140d99c17f49c3458a746",
      "013e285dbea24ea5ac5f35ffbb2cd927",
      "dad59071c6a14ab483e429e65b6354b4",
      "46e2c71b566f4d6ca271a26f005958de",
      "dae6e5b649ef44b391aac06bb27d7562",
      "3fda9b68a04447659c16c4e357fd170f",
      "1a1ca6db434b4b6fb0d070dda1e99d54",
      "fdf7faa1a1c9417b86cc31ca4b5252ca",
      "a444ee6051164fa48789fce96dc8f414",
      "0d24cc067f244d57b2e7ee5c3bf2e57b",
      "204c623b5e4a4540aab1cb7eba48854a",
      "0dc4c60075c14ea4932c8dd4650c3708",
      "f9eaa3f7464e4f9db5f2f50ef69dec82",
      "c3c3af09adee482d98d9b821dddee1da",
      "0ffc07269d0344819ab004c930fa8947",
      "b8b92fa0a39740f1b35d99aeaa4c0dd6"
     ]
    },
    "id": "33H6uxyM3yt5",
    "outputId": "9ae4d0ff-d90e-443d-f79e-22ac19174523",
    "ExecuteTime": {
     "end_time": "2024-03-06T23:58:47.202236Z",
     "start_time": "2024-03-06T23:58:17.926083Z"
    }
   },
   "outputs": [
    {
     "data": {
      "text/plain": "                                                                    \n                                                                    \nInitiated  . . . . . . . . . . . . . . . . . .              18:58:17\nStatus     . . . . . . . . . . . . . . . . . .  Loading Dependencies\nEstimator  . . . . . . . . . . . . . . . . . .     Compiling Library",
      "text/html": "<div>\n<style scoped>\n    .dataframe tbody tr th:only-of-type {\n        vertical-align: middle;\n    }\n\n    .dataframe tbody tr th {\n        vertical-align: top;\n    }\n\n    .dataframe thead th {\n        text-align: right;\n    }\n</style>\n<table border=\"1\" class=\"dataframe\">\n  <thead>\n    <tr style=\"text-align: right;\">\n      <th></th>\n      <th></th>\n      <th></th>\n    </tr>\n    <tr>\n      <th></th>\n      <th></th>\n      <th></th>\n    </tr>\n  </thead>\n  <tbody>\n    <tr>\n      <th>Initiated</th>\n      <td>. . . . . . . . . . . . . . . . . .</td>\n      <td>18:58:17</td>\n    </tr>\n    <tr>\n      <th>Status</th>\n      <td>. . . . . . . . . . . . . . . . . .</td>\n      <td>Loading Dependencies</td>\n    </tr>\n    <tr>\n      <th>Estimator</th>\n      <td>. . . . . . . . . . . . . . . . . .</td>\n      <td>Compiling Library</td>\n    </tr>\n  </tbody>\n</table>\n</div>"
     },
     "metadata": {},
     "output_type": "display_data"
    },
    {
     "data": {
      "text/plain": "<IPython.core.display.HTML object>",
      "text/html": ""
     },
     "metadata": {},
     "output_type": "display_data"
    },
    {
     "data": {
      "text/plain": "<pandas.io.formats.style.Styler at 0x23c07ac5ff0>",
      "text/html": "<style type=\"text/css\">\n#T_fdd4a_row10_col0, #T_fdd4a_row10_col1, #T_fdd4a_row10_col2, #T_fdd4a_row10_col3, #T_fdd4a_row10_col4, #T_fdd4a_row10_col5, #T_fdd4a_row10_col6 {\n  background: yellow;\n}\n</style>\n<table id=\"T_fdd4a\">\n  <thead>\n    <tr>\n      <th class=\"blank level0\" >&nbsp;</th>\n      <th id=\"T_fdd4a_level0_col0\" class=\"col_heading level0 col0\" >Accuracy</th>\n      <th id=\"T_fdd4a_level0_col1\" class=\"col_heading level0 col1\" >AUC</th>\n      <th id=\"T_fdd4a_level0_col2\" class=\"col_heading level0 col2\" >Recall</th>\n      <th id=\"T_fdd4a_level0_col3\" class=\"col_heading level0 col3\" >Prec.</th>\n      <th id=\"T_fdd4a_level0_col4\" class=\"col_heading level0 col4\" >F1</th>\n      <th id=\"T_fdd4a_level0_col5\" class=\"col_heading level0 col5\" >Kappa</th>\n      <th id=\"T_fdd4a_level0_col6\" class=\"col_heading level0 col6\" >MCC</th>\n    </tr>\n    <tr>\n      <th class=\"index_name level0\" >Fold</th>\n      <th class=\"blank col0\" >&nbsp;</th>\n      <th class=\"blank col1\" >&nbsp;</th>\n      <th class=\"blank col2\" >&nbsp;</th>\n      <th class=\"blank col3\" >&nbsp;</th>\n      <th class=\"blank col4\" >&nbsp;</th>\n      <th class=\"blank col5\" >&nbsp;</th>\n      <th class=\"blank col6\" >&nbsp;</th>\n    </tr>\n  </thead>\n  <tbody>\n    <tr>\n      <th id=\"T_fdd4a_level0_row0\" class=\"row_heading level0 row0\" >0</th>\n      <td id=\"T_fdd4a_row0_col0\" class=\"data row0 col0\" >0.9430</td>\n      <td id=\"T_fdd4a_row0_col1\" class=\"data row0 col1\" >0.9894</td>\n      <td id=\"T_fdd4a_row0_col2\" class=\"data row0 col2\" >0.9554</td>\n      <td id=\"T_fdd4a_row0_col3\" class=\"data row0 col3\" >0.9560</td>\n      <td id=\"T_fdd4a_row0_col4\" class=\"data row0 col4\" >0.9557</td>\n      <td id=\"T_fdd4a_row0_col5\" class=\"data row0 col5\" >0.8758</td>\n      <td id=\"T_fdd4a_row0_col6\" class=\"data row0 col6\" >0.8758</td>\n    </tr>\n    <tr>\n      <th id=\"T_fdd4a_level0_row1\" class=\"row_heading level0 row1\" >1</th>\n      <td id=\"T_fdd4a_row1_col0\" class=\"data row1 col0\" >0.9387</td>\n      <td id=\"T_fdd4a_row1_col1\" class=\"data row1 col1\" >0.9876</td>\n      <td id=\"T_fdd4a_row1_col2\" class=\"data row1 col2\" >0.9499</td>\n      <td id=\"T_fdd4a_row1_col3\" class=\"data row1 col3\" >0.9546</td>\n      <td id=\"T_fdd4a_row1_col4\" class=\"data row1 col4\" >0.9522</td>\n      <td id=\"T_fdd4a_row1_col5\" class=\"data row1 col5\" >0.8666</td>\n      <td id=\"T_fdd4a_row1_col6\" class=\"data row1 col6\" >0.8666</td>\n    </tr>\n    <tr>\n      <th id=\"T_fdd4a_level0_row2\" class=\"row_heading level0 row2\" >2</th>\n      <td id=\"T_fdd4a_row2_col0\" class=\"data row2 col0\" >0.9416</td>\n      <td id=\"T_fdd4a_row2_col1\" class=\"data row2 col1\" >0.9889</td>\n      <td id=\"T_fdd4a_row2_col2\" class=\"data row2 col2\" >0.9567</td>\n      <td id=\"T_fdd4a_row2_col3\" class=\"data row2 col3\" >0.9527</td>\n      <td id=\"T_fdd4a_row2_col4\" class=\"data row2 col4\" >0.9547</td>\n      <td id=\"T_fdd4a_row2_col5\" class=\"data row2 col5\" >0.8725</td>\n      <td id=\"T_fdd4a_row2_col6\" class=\"data row2 col6\" >0.8725</td>\n    </tr>\n    <tr>\n      <th id=\"T_fdd4a_level0_row3\" class=\"row_heading level0 row3\" >3</th>\n      <td id=\"T_fdd4a_row3_col0\" class=\"data row3 col0\" >0.9400</td>\n      <td id=\"T_fdd4a_row3_col1\" class=\"data row3 col1\" >0.9885</td>\n      <td id=\"T_fdd4a_row3_col2\" class=\"data row3 col2\" >0.9498</td>\n      <td id=\"T_fdd4a_row3_col3\" class=\"data row3 col3\" >0.9566</td>\n      <td id=\"T_fdd4a_row3_col4\" class=\"data row3 col4\" >0.9532</td>\n      <td id=\"T_fdd4a_row3_col5\" class=\"data row3 col5\" >0.8695</td>\n      <td id=\"T_fdd4a_row3_col6\" class=\"data row3 col6\" >0.8695</td>\n    </tr>\n    <tr>\n      <th id=\"T_fdd4a_level0_row4\" class=\"row_heading level0 row4\" >4</th>\n      <td id=\"T_fdd4a_row4_col0\" class=\"data row4 col0\" >0.9397</td>\n      <td id=\"T_fdd4a_row4_col1\" class=\"data row4 col1\" >0.9885</td>\n      <td id=\"T_fdd4a_row4_col2\" class=\"data row4 col2\" >0.9532</td>\n      <td id=\"T_fdd4a_row4_col3\" class=\"data row4 col3\" >0.9532</td>\n      <td id=\"T_fdd4a_row4_col4\" class=\"data row4 col4\" >0.9532</td>\n      <td id=\"T_fdd4a_row4_col5\" class=\"data row4 col5\" >0.8686</td>\n      <td id=\"T_fdd4a_row4_col6\" class=\"data row4 col6\" >0.8686</td>\n    </tr>\n    <tr>\n      <th id=\"T_fdd4a_level0_row5\" class=\"row_heading level0 row5\" >5</th>\n      <td id=\"T_fdd4a_row5_col0\" class=\"data row5 col0\" >0.9410</td>\n      <td id=\"T_fdd4a_row5_col1\" class=\"data row5 col1\" >0.9889</td>\n      <td id=\"T_fdd4a_row5_col2\" class=\"data row5 col2\" >0.9552</td>\n      <td id=\"T_fdd4a_row5_col3\" class=\"data row5 col3\" >0.9533</td>\n      <td id=\"T_fdd4a_row5_col4\" class=\"data row5 col4\" >0.9542</td>\n      <td id=\"T_fdd4a_row5_col5\" class=\"data row5 col5\" >0.8714</td>\n      <td id=\"T_fdd4a_row5_col6\" class=\"data row5 col6\" >0.8714</td>\n    </tr>\n    <tr>\n      <th id=\"T_fdd4a_level0_row6\" class=\"row_heading level0 row6\" >6</th>\n      <td id=\"T_fdd4a_row6_col0\" class=\"data row6 col0\" >0.9419</td>\n      <td id=\"T_fdd4a_row6_col1\" class=\"data row6 col1\" >0.9894</td>\n      <td id=\"T_fdd4a_row6_col2\" class=\"data row6 col2\" >0.9533</td>\n      <td id=\"T_fdd4a_row6_col3\" class=\"data row6 col3\" >0.9563</td>\n      <td id=\"T_fdd4a_row6_col4\" class=\"data row6 col4\" >0.9548</td>\n      <td id=\"T_fdd4a_row6_col5\" class=\"data row6 col5\" >0.8735</td>\n      <td id=\"T_fdd4a_row6_col6\" class=\"data row6 col6\" >0.8735</td>\n    </tr>\n    <tr>\n      <th id=\"T_fdd4a_level0_row7\" class=\"row_heading level0 row7\" >7</th>\n      <td id=\"T_fdd4a_row7_col0\" class=\"data row7 col0\" >0.9402</td>\n      <td id=\"T_fdd4a_row7_col1\" class=\"data row7 col1\" >0.9882</td>\n      <td id=\"T_fdd4a_row7_col2\" class=\"data row7 col2\" >0.9511</td>\n      <td id=\"T_fdd4a_row7_col3\" class=\"data row7 col3\" >0.9558</td>\n      <td id=\"T_fdd4a_row7_col4\" class=\"data row7 col4\" >0.9535</td>\n      <td id=\"T_fdd4a_row7_col5\" class=\"data row7 col5\" >0.8700</td>\n      <td id=\"T_fdd4a_row7_col6\" class=\"data row7 col6\" >0.8700</td>\n    </tr>\n    <tr>\n      <th id=\"T_fdd4a_level0_row8\" class=\"row_heading level0 row8\" >8</th>\n      <td id=\"T_fdd4a_row8_col0\" class=\"data row8 col0\" >0.9399</td>\n      <td id=\"T_fdd4a_row8_col1\" class=\"data row8 col1\" >0.9886</td>\n      <td id=\"T_fdd4a_row8_col2\" class=\"data row8 col2\" >0.9527</td>\n      <td id=\"T_fdd4a_row8_col3\" class=\"data row8 col3\" >0.9539</td>\n      <td id=\"T_fdd4a_row8_col4\" class=\"data row8 col4\" >0.9533</td>\n      <td id=\"T_fdd4a_row8_col5\" class=\"data row8 col5\" >0.8691</td>\n      <td id=\"T_fdd4a_row8_col6\" class=\"data row8 col6\" >0.8691</td>\n    </tr>\n    <tr>\n      <th id=\"T_fdd4a_level0_row9\" class=\"row_heading level0 row9\" >9</th>\n      <td id=\"T_fdd4a_row9_col0\" class=\"data row9 col0\" >0.9392</td>\n      <td id=\"T_fdd4a_row9_col1\" class=\"data row9 col1\" >0.9884</td>\n      <td id=\"T_fdd4a_row9_col2\" class=\"data row9 col2\" >0.9504</td>\n      <td id=\"T_fdd4a_row9_col3\" class=\"data row9 col3\" >0.9550</td>\n      <td id=\"T_fdd4a_row9_col4\" class=\"data row9 col4\" >0.9527</td>\n      <td id=\"T_fdd4a_row9_col5\" class=\"data row9 col5\" >0.8678</td>\n      <td id=\"T_fdd4a_row9_col6\" class=\"data row9 col6\" >0.8678</td>\n    </tr>\n    <tr>\n      <th id=\"T_fdd4a_level0_row10\" class=\"row_heading level0 row10\" >Mean</th>\n      <td id=\"T_fdd4a_row10_col0\" class=\"data row10 col0\" >0.9405</td>\n      <td id=\"T_fdd4a_row10_col1\" class=\"data row10 col1\" >0.9886</td>\n      <td id=\"T_fdd4a_row10_col2\" class=\"data row10 col2\" >0.9528</td>\n      <td id=\"T_fdd4a_row10_col3\" class=\"data row10 col3\" >0.9547</td>\n      <td id=\"T_fdd4a_row10_col4\" class=\"data row10 col4\" >0.9538</td>\n      <td id=\"T_fdd4a_row10_col5\" class=\"data row10 col5\" >0.8705</td>\n      <td id=\"T_fdd4a_row10_col6\" class=\"data row10 col6\" >0.8705</td>\n    </tr>\n    <tr>\n      <th id=\"T_fdd4a_level0_row11\" class=\"row_heading level0 row11\" >Std</th>\n      <td id=\"T_fdd4a_row11_col0\" class=\"data row11 col0\" >0.0013</td>\n      <td id=\"T_fdd4a_row11_col1\" class=\"data row11 col1\" >0.0005</td>\n      <td id=\"T_fdd4a_row11_col2\" class=\"data row11 col2\" >0.0023</td>\n      <td id=\"T_fdd4a_row11_col3\" class=\"data row11 col3\" >0.0013</td>\n      <td id=\"T_fdd4a_row11_col4\" class=\"data row11 col4\" >0.0010</td>\n      <td id=\"T_fdd4a_row11_col5\" class=\"data row11 col5\" >0.0027</td>\n      <td id=\"T_fdd4a_row11_col6\" class=\"data row11 col6\" >0.0027</td>\n    </tr>\n  </tbody>\n</table>\n"
     },
     "metadata": {},
     "output_type": "display_data"
    },
    {
     "data": {
      "text/plain": "interactive(children=(ToggleButtons(description='Plot Type:', icons=('',), options=(('Pipeline Plot', 'pipelin…",
      "application/vnd.jupyter.widget-view+json": {
       "version_major": 2,
       "version_minor": 0,
       "model_id": "47afa85ed7834b93b5e483387956cc94"
      }
     },
     "metadata": {},
     "output_type": "display_data"
    }
   ],
   "source": [
    "# Ajuste del modelo seleccionado\n",
    "final_model = create_model(best_model)\n",
    "\n",
    "# Evaluación del modelo\n",
    "evaluate_model(final_model)"
   ]
  },
  {
   "cell_type": "code",
   "execution_count": 16,
   "metadata": {
    "colab": {
     "base_uri": "https://localhost:8080/",
     "height": 81
    },
    "id": "Wstxv-b-31e-",
    "outputId": "828279f7-91a1-4499-fe74-752f3c892f2d",
    "ExecuteTime": {
     "end_time": "2024-03-06T23:58:54.131419Z",
     "start_time": "2024-03-06T23:58:53.645310Z"
    }
   },
   "outputs": [
    {
     "data": {
      "text/plain": "<pandas.io.formats.style.Styler at 0x23bfe240b50>",
      "text/html": "<style type=\"text/css\">\n</style>\n<table id=\"T_ebcee\">\n  <thead>\n    <tr>\n      <th class=\"blank level0\" >&nbsp;</th>\n      <th id=\"T_ebcee_level0_col0\" class=\"col_heading level0 col0\" >Model</th>\n      <th id=\"T_ebcee_level0_col1\" class=\"col_heading level0 col1\" >Accuracy</th>\n      <th id=\"T_ebcee_level0_col2\" class=\"col_heading level0 col2\" >AUC</th>\n      <th id=\"T_ebcee_level0_col3\" class=\"col_heading level0 col3\" >Recall</th>\n      <th id=\"T_ebcee_level0_col4\" class=\"col_heading level0 col4\" >Prec.</th>\n      <th id=\"T_ebcee_level0_col5\" class=\"col_heading level0 col5\" >F1</th>\n      <th id=\"T_ebcee_level0_col6\" class=\"col_heading level0 col6\" >Kappa</th>\n      <th id=\"T_ebcee_level0_col7\" class=\"col_heading level0 col7\" >MCC</th>\n    </tr>\n  </thead>\n  <tbody>\n    <tr>\n      <th id=\"T_ebcee_level0_row0\" class=\"row_heading level0 row0\" >0</th>\n      <td id=\"T_ebcee_row0_col0\" class=\"data row0 col0\" >Random Forest Classifier</td>\n      <td id=\"T_ebcee_row0_col1\" class=\"data row0 col1\" >0.9807</td>\n      <td id=\"T_ebcee_row0_col2\" class=\"data row0 col2\" >0.9981</td>\n      <td id=\"T_ebcee_row0_col3\" class=\"data row0 col3\" >0.9844</td>\n      <td id=\"T_ebcee_row0_col4\" class=\"data row0 col4\" >0.9858</td>\n      <td id=\"T_ebcee_row0_col5\" class=\"data row0 col5\" >0.9851</td>\n      <td id=\"T_ebcee_row0_col6\" class=\"data row0 col6\" >0.9579</td>\n      <td id=\"T_ebcee_row0_col7\" class=\"data row0 col7\" >0.9579</td>\n    </tr>\n  </tbody>\n</table>\n"
     },
     "metadata": {},
     "output_type": "display_data"
    }
   ],
   "source": [
    "predictions = predict_model(final_model, data=test_data)\n"
   ]
  },
  {
   "cell_type": "code",
   "execution_count": 17,
   "metadata": {
    "colab": {
     "base_uri": "https://localhost:8080/",
     "height": 551
    },
    "id": "Pw3kGfPB3zqH",
    "outputId": "a7ce3b3e-0ee5-49a2-a87b-9eaf61dc446b",
    "ExecuteTime": {
     "end_time": "2024-03-06T23:58:58.342381Z",
     "start_time": "2024-03-06T23:58:57.062092Z"
    }
   },
   "outputs": [
    {
     "data": {
      "text/plain": "<IPython.core.display.HTML object>",
      "text/html": ""
     },
     "metadata": {},
     "output_type": "display_data"
    },
    {
     "data": {
      "text/plain": "<Figure size 800x550 with 1 Axes>",
      "image/png": "[encoded data removed]"
     },
     "metadata": {},
     "output_type": "display_data"
    }
   ],
   "source": [
    "# Visualizar la matriz de confusión\n",
    "plot_model(final_model, plot='confusion_matrix')"
   ]
  }
 ],
 "metadata": {
  "colab": {
   "provenance": []
  },
  "kernelspec": {
   "display_name": "Python 3 (ipykernel)",
   "language": "python",
   "name": "python3"
  },
  "language_info": {
   "codemirror_mode": {
    "name": "ipython",
    "version": 3
   },
   "file_extension": ".py",
   "mimetype": "text/x-python",
   "name": "python",
   "nbconvert_exporter": "python",
   "pygments_lexer": "ipython3",
   "version": "3.11.4"
  },
  "widgets": {
   "application/vnd.jupyter.widget-state+json": {
    "013e285dbea24ea5ac5f35ffbb2cd927": {
     "model_module": "@jupyter-widgets/controls",
     "model_module_version": "1.5.0",
     "model_name": "HTMLModel",
     "state": {
      "_dom_classes": [],
      "_model_module": "@jupyter-widgets/controls",
      "_model_module_version": "1.5.0",
      "_model_name": "HTMLModel",
      "_view_count": null,
      "_view_module": "@jupyter-widgets/controls",
      "_view_module_version": "1.5.0",
      "_view_name": "HTMLView",
      "description": "",
      "description_tooltip": null,
      "layout": "IPY_MODEL_fdf7faa1a1c9417b86cc31ca4b5252ca",
      "placeholder": "​",
      "style": "IPY_MODEL_a444ee6051164fa48789fce96dc8f414",
      "value": " 4/4 [00:15&lt;00:00,  3.71s/it]"
     }
    },
    "0148b8747e054bc7b504617d7e551ed5": {
     "model_module": "@jupyter-widgets/controls",
     "model_module_version": "1.5.0",
     "model_name": "FloatProgressModel",
     "state": {
      "_dom_classes": [],
      "_model_module": "@jupyter-widgets/controls",
      "_model_module_version": "1.5.0",
      "_model_name": "FloatProgressModel",
      "_view_count": null,
      "_view_module": "@jupyter-widgets/controls",
      "_view_module_version": "1.5.0",
      "_view_name": "ProgressView",
      "bar_style": "",
      "description": "",
      "description_tooltip": null,
      "layout": "IPY_MODEL_8579ac2c09cb4e3a9291b50ed9919091",
      "max": 4,
      "min": 0,
      "orientation": "horizontal",
      "style": "IPY_MODEL_69932191e86045a29e7ebc730306ccad",
      "value": 4
     }
    },
    "0ba80991c7ac41a99e19bd37cf8efaee": {
     "model_module": "@jupyter-widgets/controls",
     "model_module_version": "1.5.0",
     "model_name": "ToggleButtonsModel",
     "state": {
      "_dom_classes": [],
      "_model_module": "@jupyter-widgets/controls",
      "_model_module_version": "1.5.0",
      "_model_name": "ToggleButtonsModel",
      "_options_labels": [
       "Pipeline Plot",
       "Hyperparameters",
       "AUC",
       "Confusion Matrix",
       "Threshold",
       "Precision Recall",
       "Prediction Error",
       "Class Report",
       "Feature Selection",
       "Learning Curve",
       "Manifold Learning",
       "Calibration Curve",
       "Validation Curve",
       "Dimensions",
       "Feature Importance",
       "Feature Importance (All)",
       "Decision Boundary",
       "Lift Chart",
       "Gain Chart",
       "Decision Tree",
       "KS Statistic Plot"
      ],
      "_view_count": null,
      "_view_module": "@jupyter-widgets/controls",
      "_view_module_version": "1.5.0",
      "_view_name": "ToggleButtonsView",
      "button_style": "",
      "description": "Plot Type:",
      "description_tooltip": null,
      "disabled": false,
      "icons": [
       ""
      ],
      "index": 0,
      "layout": "IPY_MODEL_60ee0a19929444ab8305dd16282c1742",
      "style": "IPY_MODEL_eeab58609c79484fa5c4818115719d19",
      "tooltips": []
     }
    },
    "0d24cc067f244d57b2e7ee5c3bf2e57b": {
     "model_module": "@jupyter-widgets/base",
     "model_module_version": "1.2.0",
     "model_name": "LayoutModel",
     "state": {
      "_model_module": "@jupyter-widgets/base",
      "_model_module_version": "1.2.0",
      "_model_name": "LayoutModel",
      "_view_count": null,
      "_view_module": "@jupyter-widgets/base",
      "_view_module_version": "1.2.0",
      "_view_name": "LayoutView",
      "align_content": null,
      "align_items": null,
      "align_self": null,
      "border": null,
      "bottom": null,
      "display": null,
      "flex": null,
      "flex_flow": null,
      "grid_area": null,
      "grid_auto_columns": null,
      "grid_auto_flow": null,
      "grid_auto_rows": null,
      "grid_column": null,
      "grid_gap": null,
      "grid_row": null,
      "grid_template_areas": null,
      "grid_template_columns": null,
      "grid_template_rows": null,
      "height": null,
      "justify_content": null,
      "justify_items": null,
      "left": null,
      "margin": null,
      "max_height": null,
      "max_width": null,
      "min_height": null,
      "min_width": null,
      "object_fit": null,
      "object_position": null,
      "order": null,
      "overflow": null,
      "overflow_x": null,
      "overflow_y": null,
      "padding": null,
      "right": null,
      "top": null,
      "visibility": null,
      "width": null
     }
    },
    "0dc4c60075c14ea4932c8dd4650c3708": {
     "model_module": "@jupyter-widgets/base",
     "model_module_version": "1.2.0",
     "model_name": "LayoutModel",
     "state": {
      "_model_module": "@jupyter-widgets/base",
      "_model_module_version": "1.2.0",
      "_model_name": "LayoutModel",
      "_view_count": null,
      "_view_module": "@jupyter-widgets/base",
      "_view_module_version": "1.2.0",
      "_view_name": "LayoutView",
      "align_content": null,
      "align_items": null,
      "align_self": null,
      "border": null,
      "bottom": null,
      "display": null,
      "flex": null,
      "flex_flow": null,
      "grid_area": null,
      "grid_auto_columns": null,
      "grid_auto_flow": null,
      "grid_auto_rows": null,
      "grid_column": null,
      "grid_gap": null,
      "grid_row": null,
      "grid_template_areas": null,
      "grid_template_columns": null,
      "grid_template_rows": null,
      "height": null,
      "justify_content": null,
      "justify_items": null,
      "left": null,
      "margin": null,
      "max_height": null,
      "max_width": null,
      "min_height": null,
      "min_width": null,
      "object_fit": null,
      "object_position": null,
      "order": null,
      "overflow": null,
      "overflow_x": null,
      "overflow_y": null,
      "padding": null,
      "right": null,
      "top": null,
      "visibility": null,
      "width": null
     }
    },
    "0ffc07269d0344819ab004c930fa8947": {
     "model_module": "@jupyter-widgets/controls",
     "model_module_version": "1.5.0",
     "model_name": "ToggleButtonsModel",
     "state": {
      "_dom_classes": [],
      "_model_module": "@jupyter-widgets/controls",
      "_model_module_version": "1.5.0",
      "_model_name": "ToggleButtonsModel",
      "_options_labels": [
       "Pipeline Plot",
       "Hyperparameters",
       "AUC",
       "Confusion Matrix",
       "Threshold",
       "Precision Recall",
       "Prediction Error",
       "Class Report",
       "Feature Selection",
       "Learning Curve",
       "Manifold Learning",
       "Calibration Curve",
       "Validation Curve",
       "Dimensions",
       "Feature Importance",
       "Feature Importance (All)",
       "Decision Boundary",
       "Lift Chart",
       "Gain Chart",
       "Decision Tree",
       "KS Statistic Plot"
      ],
      "_view_count": null,
      "_view_module": "@jupyter-widgets/controls",
      "_view_module_version": "1.5.0",
      "_view_name": "ToggleButtonsView",
      "button_style": "",
      "description": "Plot Type:",
      "description_tooltip": null,
      "disabled": false,
      "icons": [
       ""
      ],
      "index": 0,
      "layout": "IPY_MODEL_0d24cc067f244d57b2e7ee5c3bf2e57b",
      "style": "IPY_MODEL_204c623b5e4a4540aab1cb7eba48854a",
      "tooltips": []
     }
    },
    "15837bb173284464b909ce118ee015dc": {
     "model_module": "@jupyter-widgets/controls",
     "model_module_version": "1.5.0",
     "model_name": "VBoxModel",
     "state": {
      "_dom_classes": [
       "widget-interact"
      ],
      "_model_module": "@jupyter-widgets/controls",
      "_model_module_version": "1.5.0",
      "_model_name": "VBoxModel",
      "_view_count": null,
      "_view_module": "@jupyter-widgets/controls",
      "_view_module_version": "1.5.0",
      "_view_name": "VBoxView",
      "box_style": "",
      "children": [
       "IPY_MODEL_0ba80991c7ac41a99e19bd37cf8efaee",
       "IPY_MODEL_9b1dc231581d4bde807bc57ddea2c6f1"
      ],
      "layout": "IPY_MODEL_34c97ebe8e9a4d329d07cc5c6e1e636d"
     }
    },
    "1a1ca6db434b4b6fb0d070dda1e99d54": {
     "model_module": "@jupyter-widgets/controls",
     "model_module_version": "1.5.0",
     "model_name": "ProgressStyleModel",
     "state": {
      "_model_module": "@jupyter-widgets/controls",
      "_model_module_version": "1.5.0",
      "_model_name": "ProgressStyleModel",
      "_view_count": null,
      "_view_module": "@jupyter-widgets/base",
      "_view_module_version": "1.2.0",
      "_view_name": "StyleView",
      "bar_color": null,
      "description_width": ""
     }
    },
    "204c623b5e4a4540aab1cb7eba48854a": {
     "model_module": "@jupyter-widgets/controls",
     "model_module_version": "1.5.0",
     "model_name": "ToggleButtonsStyleModel",
     "state": {
      "_model_module": "@jupyter-widgets/controls",
      "_model_module_version": "1.5.0",
      "_model_name": "ToggleButtonsStyleModel",
      "_view_count": null,
      "_view_module": "@jupyter-widgets/base",
      "_view_module_version": "1.2.0",
      "_view_name": "StyleView",
      "button_width": "",
      "description_width": "",
      "font_weight": ""
     }
    },
    "237022c0b0fb4d0d86ae0f5ca510965a": {
     "model_module": "@jupyter-widgets/base",
     "model_module_version": "1.2.0",
     "model_name": "LayoutModel",
     "state": {
      "_model_module": "@jupyter-widgets/base",
      "_model_module_version": "1.2.0",
      "_model_name": "LayoutModel",
      "_view_count": null,
      "_view_module": "@jupyter-widgets/base",
      "_view_module_version": "1.2.0",
      "_view_name": "LayoutView",
      "align_content": null,
      "align_items": null,
      "align_self": null,
      "border": null,
      "bottom": null,
      "display": null,
      "flex": null,
      "flex_flow": null,
      "grid_area": null,
      "grid_auto_columns": null,
      "grid_auto_flow": null,
      "grid_auto_rows": null,
      "grid_column": null,
      "grid_gap": null,
      "grid_row": null,
      "grid_template_areas": null,
      "grid_template_columns": null,
      "grid_template_rows": null,
      "height": null,
      "justify_content": null,
      "justify_items": null,
      "left": null,
      "margin": null,
      "max_height": null,
      "max_width": null,
      "min_height": null,
      "min_width": null,
      "object_fit": null,
      "object_position": null,
      "order": null,
      "overflow": null,
      "overflow_x": null,
      "overflow_y": null,
      "padding": null,
      "right": null,
      "top": null,
      "visibility": null,
      "width": null
     }
    },
    "2bba08be613e43959587790509758338": {
     "model_module": "@jupyter-widgets/base",
     "model_module_version": "1.2.0",
     "model_name": "LayoutModel",
     "state": {
      "_model_module": "@jupyter-widgets/base",
      "_model_module_version": "1.2.0",
      "_model_name": "LayoutModel",
      "_view_count": null,
      "_view_module": "@jupyter-widgets/base",
      "_view_module_version": "1.2.0",
      "_view_name": "LayoutView",
      "align_content": null,
      "align_items": null,
      "align_self": null,
      "border": null,
      "bottom": null,
      "display": null,
      "flex": null,
      "flex_flow": null,
      "grid_area": null,
      "grid_auto_columns": null,
      "grid_auto_flow": null,
      "grid_auto_rows": null,
      "grid_column": null,
      "grid_gap": null,
      "grid_row": null,
      "grid_template_areas": null,
      "grid_template_columns": null,
      "grid_template_rows": null,
      "height": null,
      "justify_content": null,
      "justify_items": null,
      "left": null,
      "margin": null,
      "max_height": null,
      "max_width": null,
      "min_height": null,
      "min_width": null,
      "object_fit": null,
      "object_position": null,
      "order": null,
      "overflow": null,
      "overflow_x": null,
      "overflow_y": null,
      "padding": null,
      "right": null,
      "top": null,
      "visibility": null,
      "width": null
     }
    },
    "34c97ebe8e9a4d329d07cc5c6e1e636d": {
     "model_module": "@jupyter-widgets/base",
     "model_module_version": "1.2.0",
     "model_name": "LayoutModel",
     "state": {
      "_model_module": "@jupyter-widgets/base",
      "_model_module_version": "1.2.0",
      "_model_name": "LayoutModel",
      "_view_count": null,
      "_view_module": "@jupyter-widgets/base",
      "_view_module_version": "1.2.0",
      "_view_name": "LayoutView",
      "align_content": null,
      "align_items": null,
      "align_self": null,
      "border": null,
      "bottom": null,
      "display": null,
      "flex": null,
      "flex_flow": null,
      "grid_area": null,
      "grid_auto_columns": null,
      "grid_auto_flow": null,
      "grid_auto_rows": null,
      "grid_column": null,
      "grid_gap": null,
      "grid_row": null,
      "grid_template_areas": null,
      "grid_template_columns": null,
      "grid_template_rows": null,
      "height": null,
      "justify_content": null,
      "justify_items": null,
      "left": null,
      "margin": null,
      "max_height": null,
      "max_width": null,
      "min_height": null,
      "min_width": null,
      "object_fit": null,
      "object_position": null,
      "order": null,
      "overflow": null,
      "overflow_x": null,
      "overflow_y": null,
      "padding": null,
      "right": null,
      "top": null,
      "visibility": null,
      "width": null
     }
    },
    "3713ca51fbfb4a2798751c76bbf2124a": {
     "model_module": "@jupyter-widgets/base",
     "model_module_version": "1.2.0",
     "model_name": "LayoutModel",
     "state": {
      "_model_module": "@jupyter-widgets/base",
      "_model_module_version": "1.2.0",
      "_model_name": "LayoutModel",
      "_view_count": null,
      "_view_module": "@jupyter-widgets/base",
      "_view_module_version": "1.2.0",
      "_view_name": "LayoutView",
      "align_content": null,
      "align_items": null,
      "align_self": null,
      "border": null,
      "bottom": null,
      "display": null,
      "flex": null,
      "flex_flow": null,
      "grid_area": null,
      "grid_auto_columns": null,
      "grid_auto_flow": null,
      "grid_auto_rows": null,
      "grid_column": null,
      "grid_gap": null,
      "grid_row": null,
      "grid_template_areas": null,
      "grid_template_columns": null,
      "grid_template_rows": null,
      "height": null,
      "justify_content": null,
      "justify_items": null,
      "left": null,
      "margin": null,
      "max_height": null,
      "max_width": null,
      "min_height": null,
      "min_width": null,
      "object_fit": null,
      "object_position": null,
      "order": null,
      "overflow": null,
      "overflow_x": null,
      "overflow_y": null,
      "padding": null,
      "right": null,
      "top": null,
      "visibility": "hidden",
      "width": null
     }
    },
    "3fda9b68a04447659c16c4e357fd170f": {
     "model_module": "@jupyter-widgets/base",
     "model_module_version": "1.2.0",
     "model_name": "LayoutModel",
     "state": {
      "_model_module": "@jupyter-widgets/base",
      "_model_module_version": "1.2.0",
      "_model_name": "LayoutModel",
      "_view_count": null,
      "_view_module": "@jupyter-widgets/base",
      "_view_module_version": "1.2.0",
      "_view_name": "LayoutView",
      "align_content": null,
      "align_items": null,
      "align_self": null,
      "border": null,
      "bottom": null,
      "display": null,
      "flex": null,
      "flex_flow": null,
      "grid_area": null,
      "grid_auto_columns": null,
      "grid_auto_flow": null,
      "grid_auto_rows": null,
      "grid_column": null,
      "grid_gap": null,
      "grid_row": null,
      "grid_template_areas": null,
      "grid_template_columns": null,
      "grid_template_rows": null,
      "height": null,
      "justify_content": null,
      "justify_items": null,
      "left": null,
      "margin": null,
      "max_height": null,
      "max_width": null,
      "min_height": null,
      "min_width": null,
      "object_fit": null,
      "object_position": null,
      "order": null,
      "overflow": null,
      "overflow_x": null,
      "overflow_y": null,
      "padding": null,
      "right": null,
      "top": null,
      "visibility": null,
      "width": null
     }
    },
    "42eca496c2be41ada01af4bfb79ff9fa": {
     "model_module": "@jupyter-widgets/controls",
     "model_module_version": "1.5.0",
     "model_name": "HBoxModel",
     "state": {
      "_dom_classes": [],
      "_model_module": "@jupyter-widgets/controls",
      "_model_module_version": "1.5.0",
      "_model_name": "HBoxModel",
      "_view_count": null,
      "_view_module": "@jupyter-widgets/controls",
      "_view_module_version": "1.5.0",
      "_view_name": "HBoxView",
      "box_style": "",
      "children": [
       "IPY_MODEL_dcd399251f824662851c0e908a56620e",
       "IPY_MODEL_79521ae39b6140d99c17f49c3458a746",
       "IPY_MODEL_013e285dbea24ea5ac5f35ffbb2cd927"
      ],
      "layout": "IPY_MODEL_dad59071c6a14ab483e429e65b6354b4"
     }
    },
    "46e2c71b566f4d6ca271a26f005958de": {
     "model_module": "@jupyter-widgets/base",
     "model_module_version": "1.2.0",
     "model_name": "LayoutModel",
     "state": {
      "_model_module": "@jupyter-widgets/base",
      "_model_module_version": "1.2.0",
      "_model_name": "LayoutModel",
      "_view_count": null,
      "_view_module": "@jupyter-widgets/base",
      "_view_module_version": "1.2.0",
      "_view_name": "LayoutView",
      "align_content": null,
      "align_items": null,
      "align_self": null,
      "border": null,
      "bottom": null,
      "display": null,
      "flex": null,
      "flex_flow": null,
      "grid_area": null,
      "grid_auto_columns": null,
      "grid_auto_flow": null,
      "grid_auto_rows": null,
      "grid_column": null,
      "grid_gap": null,
      "grid_row": null,
      "grid_template_areas": null,
      "grid_template_columns": null,
      "grid_template_rows": null,
      "height": null,
      "justify_content": null,
      "justify_items": null,
      "left": null,
      "margin": null,
      "max_height": null,
      "max_width": null,
      "min_height": null,
      "min_width": null,
      "object_fit": null,
      "object_position": null,
      "order": null,
      "overflow": null,
      "overflow_x": null,
      "overflow_y": null,
      "padding": null,
      "right": null,
      "top": null,
      "visibility": null,
      "width": null
     }
    },
    "4a80ac400e6d4a7395b957425bf63421": {
     "model_module": "@jupyter-widgets/controls",
     "model_module_version": "1.5.0",
     "model_name": "DescriptionStyleModel",
     "state": {
      "_model_module": "@jupyter-widgets/controls",
      "_model_module_version": "1.5.0",
      "_model_name": "DescriptionStyleModel",
      "_view_count": null,
      "_view_module": "@jupyter-widgets/base",
      "_view_module_version": "1.2.0",
      "_view_name": "StyleView",
      "description_width": ""
     }
    },
    "4ba0fa07c0a94ea8a1c2980b96b38bcb": {
     "model_module": "@jupyter-widgets/base",
     "model_module_version": "1.2.0",
     "model_name": "LayoutModel",
     "state": {
      "_model_module": "@jupyter-widgets/base",
      "_model_module_version": "1.2.0",
      "_model_name": "LayoutModel",
      "_view_count": null,
      "_view_module": "@jupyter-widgets/base",
      "_view_module_version": "1.2.0",
      "_view_name": "LayoutView",
      "align_content": null,
      "align_items": null,
      "align_self": null,
      "border": null,
      "bottom": null,
      "display": null,
      "flex": null,
      "flex_flow": null,
      "grid_area": null,
      "grid_auto_columns": null,
      "grid_auto_flow": null,
      "grid_auto_rows": null,
      "grid_column": null,
      "grid_gap": null,
      "grid_row": null,
      "grid_template_areas": null,
      "grid_template_columns": null,
      "grid_template_rows": null,
      "height": null,
      "justify_content": null,
      "justify_items": null,
      "left": null,
      "margin": null,
      "max_height": null,
      "max_width": null,
      "min_height": null,
      "min_width": null,
      "object_fit": null,
      "object_position": null,
      "order": null,
      "overflow": null,
      "overflow_x": null,
      "overflow_y": null,
      "padding": null,
      "right": null,
      "top": null,
      "visibility": null,
      "width": null
     }
    },
    "4cecaf94d72c47f1a063db6823f18adc": {
     "model_module": "@jupyter-widgets/controls",
     "model_module_version": "1.5.0",
     "model_name": "DescriptionStyleModel",
     "state": {
      "_model_module": "@jupyter-widgets/controls",
      "_model_module_version": "1.5.0",
      "_model_name": "DescriptionStyleModel",
      "_view_count": null,
      "_view_module": "@jupyter-widgets/base",
      "_view_module_version": "1.2.0",
      "_view_name": "StyleView",
      "description_width": ""
     }
    },
    "4dcc4b861bc14c19b6707145afba3f81": {
     "model_module": "@jupyter-widgets/controls",
     "model_module_version": "1.5.0",
     "model_name": "FloatProgressModel",
     "state": {
      "_dom_classes": [],
      "_model_module": "@jupyter-widgets/controls",
      "_model_module_version": "1.5.0",
      "_model_name": "FloatProgressModel",
      "_view_count": null,
      "_view_module": "@jupyter-widgets/controls",
      "_view_module_version": "1.5.0",
      "_view_name": "ProgressView",
      "bar_style": "",
      "description": "",
      "description_tooltip": null,
      "layout": "IPY_MODEL_8823a17fba20413095f4315032aaf485",
      "max": 65,
      "min": 0,
      "orientation": "horizontal",
      "style": "IPY_MODEL_ef7ad1b6d4e74aaf973631f4a6ed7924",
      "value": 65
     }
    },
    "545c42fd3da741749a91a4c32717ef7c": {
     "model_module": "@jupyter-widgets/controls",
     "model_module_version": "1.5.0",
     "model_name": "DescriptionStyleModel",
     "state": {
      "_model_module": "@jupyter-widgets/controls",
      "_model_module_version": "1.5.0",
      "_model_name": "DescriptionStyleModel",
      "_view_count": null,
      "_view_module": "@jupyter-widgets/base",
      "_view_module_version": "1.2.0",
      "_view_name": "StyleView",
      "description_width": ""
     }
    },
    "60a7e7f746bd46109ea3913d66ea34ba": {
     "model_module": "@jupyter-widgets/controls",
     "model_module_version": "1.5.0",
     "model_name": "HTMLModel",
     "state": {
      "_dom_classes": [],
      "_model_module": "@jupyter-widgets/controls",
      "_model_module_version": "1.5.0",
      "_model_name": "HTMLModel",
      "_view_count": null,
      "_view_module": "@jupyter-widgets/controls",
      "_view_module_version": "1.5.0",
      "_view_name": "HTMLView",
      "description": "",
      "description_tooltip": null,
      "layout": "IPY_MODEL_7228a550a67e4b839496388f59694c7c",
      "placeholder": "​",
      "style": "IPY_MODEL_658900e730354c7fab3aa633750ecdf4",
      "value": "Processing: 100%"
     }
    },
    "60ee0a19929444ab8305dd16282c1742": {
     "model_module": "@jupyter-widgets/base",
     "model_module_version": "1.2.0",
     "model_name": "LayoutModel",
     "state": {
      "_model_module": "@jupyter-widgets/base",
      "_model_module_version": "1.2.0",
      "_model_name": "LayoutModel",
      "_view_count": null,
      "_view_module": "@jupyter-widgets/base",
      "_view_module_version": "1.2.0",
      "_view_name": "LayoutView",
      "align_content": null,
      "align_items": null,
      "align_self": null,
      "border": null,
      "bottom": null,
      "display": null,
      "flex": null,
      "flex_flow": null,
      "grid_area": null,
      "grid_auto_columns": null,
      "grid_auto_flow": null,
      "grid_auto_rows": null,
      "grid_column": null,
      "grid_gap": null,
      "grid_row": null,
      "grid_template_areas": null,
      "grid_template_columns": null,
      "grid_template_rows": null,
      "height": null,
      "justify_content": null,
      "justify_items": null,
      "left": null,
      "margin": null,
      "max_height": null,
      "max_width": null,
      "min_height": null,
      "min_width": null,
      "object_fit": null,
      "object_position": null,
      "order": null,
      "overflow": null,
      "overflow_x": null,
      "overflow_y": null,
      "padding": null,
      "right": null,
      "top": null,
      "visibility": null,
      "width": null
     }
    },
    "658900e730354c7fab3aa633750ecdf4": {
     "model_module": "@jupyter-widgets/controls",
     "model_module_version": "1.5.0",
     "model_name": "DescriptionStyleModel",
     "state": {
      "_model_module": "@jupyter-widgets/controls",
      "_model_module_version": "1.5.0",
      "_model_name": "DescriptionStyleModel",
      "_view_count": null,
      "_view_module": "@jupyter-widgets/base",
      "_view_module_version": "1.2.0",
      "_view_name": "StyleView",
      "description_width": ""
     }
    },
    "69932191e86045a29e7ebc730306ccad": {
     "model_module": "@jupyter-widgets/controls",
     "model_module_version": "1.5.0",
     "model_name": "ProgressStyleModel",
     "state": {
      "_model_module": "@jupyter-widgets/controls",
      "_model_module_version": "1.5.0",
      "_model_name": "ProgressStyleModel",
      "_view_count": null,
      "_view_module": "@jupyter-widgets/base",
      "_view_module_version": "1.2.0",
      "_view_name": "StyleView",
      "bar_color": null,
      "description_width": ""
     }
    },
    "6e4519255e044467b17616cee0a81386": {
     "model_module": "@jupyter-widgets/controls",
     "model_module_version": "1.5.0",
     "model_name": "HTMLModel",
     "state": {
      "_dom_classes": [],
      "_model_module": "@jupyter-widgets/controls",
      "_model_module_version": "1.5.0",
      "_model_name": "HTMLModel",
      "_view_count": null,
      "_view_module": "@jupyter-widgets/controls",
      "_view_module_version": "1.5.0",
      "_view_name": "HTMLView",
      "description": "",
      "description_tooltip": null,
      "layout": "IPY_MODEL_237022c0b0fb4d0d86ae0f5ca510965a",
      "placeholder": "​",
      "style": "IPY_MODEL_e80e6eb1d5ff4477a4730756e48f479e",
      "value": " 4/4 [01:27&lt;00:00, 19.75s/it]"
     }
    },
    "71c25dafc4704ae4b1146a856dfa1539": {
     "model_module": "@jupyter-widgets/controls",
     "model_module_version": "1.5.0",
     "model_name": "HBoxModel",
     "state": {
      "_dom_classes": [],
      "_model_module": "@jupyter-widgets/controls",
      "_model_module_version": "1.5.0",
      "_model_name": "HBoxModel",
      "_view_count": null,
      "_view_module": "@jupyter-widgets/controls",
      "_view_module_version": "1.5.0",
      "_view_name": "HBoxView",
      "box_style": "",
      "children": [
       "IPY_MODEL_846c929f0f88469b812ebf1cc531fb3a",
       "IPY_MODEL_74e3cfc623fb42f3bdd428084a35312d",
       "IPY_MODEL_e06802da236a41ff8467f4ac031864ae"
      ],
      "layout": "IPY_MODEL_3713ca51fbfb4a2798751c76bbf2124a"
     }
    },
    "7228a550a67e4b839496388f59694c7c": {
     "model_module": "@jupyter-widgets/base",
     "model_module_version": "1.2.0",
     "model_name": "LayoutModel",
     "state": {
      "_model_module": "@jupyter-widgets/base",
      "_model_module_version": "1.2.0",
      "_model_name": "LayoutModel",
      "_view_count": null,
      "_view_module": "@jupyter-widgets/base",
      "_view_module_version": "1.2.0",
      "_view_name": "LayoutView",
      "align_content": null,
      "align_items": null,
      "align_self": null,
      "border": null,
      "bottom": null,
      "display": null,
      "flex": null,
      "flex_flow": null,
      "grid_area": null,
      "grid_auto_columns": null,
      "grid_auto_flow": null,
      "grid_auto_rows": null,
      "grid_column": null,
      "grid_gap": null,
      "grid_row": null,
      "grid_template_areas": null,
      "grid_template_columns": null,
      "grid_template_rows": null,
      "height": null,
      "justify_content": null,
      "justify_items": null,
      "left": null,
      "margin": null,
      "max_height": null,
      "max_width": null,
      "min_height": null,
      "min_width": null,
      "object_fit": null,
      "object_position": null,
      "order": null,
      "overflow": null,
      "overflow_x": null,
      "overflow_y": null,
      "padding": null,
      "right": null,
      "top": null,
      "visibility": null,
      "width": null
     }
    },
    "74e3cfc623fb42f3bdd428084a35312d": {
     "model_module": "@jupyter-widgets/controls",
     "model_module_version": "1.5.0",
     "model_name": "FloatProgressModel",
     "state": {
      "_dom_classes": [],
      "_model_module": "@jupyter-widgets/controls",
      "_model_module_version": "1.5.0",
      "_model_name": "FloatProgressModel",
      "_view_count": null,
      "_view_module": "@jupyter-widgets/controls",
      "_view_module_version": "1.5.0",
      "_view_name": "ProgressView",
      "bar_style": "",
      "description": "",
      "description_tooltip": null,
      "layout": "IPY_MODEL_ac9793ebc47941a2a4efc8cf537c1035",
      "max": 65,
      "min": 0,
      "orientation": "horizontal",
      "style": "IPY_MODEL_ed7436dd37b548b39571e265f65faee0",
      "value": 65
     }
    },
    "79521ae39b6140d99c17f49c3458a746": {
     "model_module": "@jupyter-widgets/controls",
     "model_module_version": "1.5.0",
     "model_name": "FloatProgressModel",
     "state": {
      "_dom_classes": [],
      "_model_module": "@jupyter-widgets/controls",
      "_model_module_version": "1.5.0",
      "_model_name": "FloatProgressModel",
      "_view_count": null,
      "_view_module": "@jupyter-widgets/controls",
      "_view_module_version": "1.5.0",
      "_view_name": "ProgressView",
      "bar_style": "",
      "description": "",
      "description_tooltip": null,
      "layout": "IPY_MODEL_3fda9b68a04447659c16c4e357fd170f",
      "max": 4,
      "min": 0,
      "orientation": "horizontal",
      "style": "IPY_MODEL_1a1ca6db434b4b6fb0d070dda1e99d54",
      "value": 4
     }
    },
    "846c929f0f88469b812ebf1cc531fb3a": {
     "model_module": "@jupyter-widgets/controls",
     "model_module_version": "1.5.0",
     "model_name": "HTMLModel",
     "state": {
      "_dom_classes": [],
      "_model_module": "@jupyter-widgets/controls",
      "_model_module_version": "1.5.0",
      "_model_name": "HTMLModel",
      "_view_count": null,
      "_view_module": "@jupyter-widgets/controls",
      "_view_module_version": "1.5.0",
      "_view_name": "HTMLView",
      "description": "",
      "description_tooltip": null,
      "layout": "IPY_MODEL_9dc08bcdf0ed41759b93fe7227f64455",
      "placeholder": "​",
      "style": "IPY_MODEL_e6018f2dc0f540b1934a16553307785e",
      "value": "Processing: 100%"
     }
    },
    "8579ac2c09cb4e3a9291b50ed9919091": {
     "model_module": "@jupyter-widgets/base",
     "model_module_version": "1.2.0",
     "model_name": "LayoutModel",
     "state": {
      "_model_module": "@jupyter-widgets/base",
      "_model_module_version": "1.2.0",
      "_model_name": "LayoutModel",
      "_view_count": null,
      "_view_module": "@jupyter-widgets/base",
      "_view_module_version": "1.2.0",
      "_view_name": "LayoutView",
      "align_content": null,
      "align_items": null,
      "align_self": null,
      "border": null,
      "bottom": null,
      "display": null,
      "flex": null,
      "flex_flow": null,
      "grid_area": null,
      "grid_auto_columns": null,
      "grid_auto_flow": null,
      "grid_auto_rows": null,
      "grid_column": null,
      "grid_gap": null,
      "grid_row": null,
      "grid_template_areas": null,
      "grid_template_columns": null,
      "grid_template_rows": null,
      "height": null,
      "justify_content": null,
      "justify_items": null,
      "left": null,
      "margin": null,
      "max_height": null,
      "max_width": null,
      "min_height": null,
      "min_width": null,
      "object_fit": null,
      "object_position": null,
      "order": null,
      "overflow": null,
      "overflow_x": null,
      "overflow_y": null,
      "padding": null,
      "right": null,
      "top": null,
      "visibility": null,
      "width": null
     }
    },
    "8823a17fba20413095f4315032aaf485": {
     "model_module": "@jupyter-widgets/base",
     "model_module_version": "1.2.0",
     "model_name": "LayoutModel",
     "state": {
      "_model_module": "@jupyter-widgets/base",
      "_model_module_version": "1.2.0",
      "_model_name": "LayoutModel",
      "_view_count": null,
      "_view_module": "@jupyter-widgets/base",
      "_view_module_version": "1.2.0",
      "_view_name": "LayoutView",
      "align_content": null,
      "align_items": null,
      "align_self": null,
      "border": null,
      "bottom": null,
      "display": null,
      "flex": null,
      "flex_flow": null,
      "grid_area": null,
      "grid_auto_columns": null,
      "grid_auto_flow": null,
      "grid_auto_rows": null,
      "grid_column": null,
      "grid_gap": null,
      "grid_row": null,
      "grid_template_areas": null,
      "grid_template_columns": null,
      "grid_template_rows": null,
      "height": null,
      "justify_content": null,
      "justify_items": null,
      "left": null,
      "margin": null,
      "max_height": null,
      "max_width": null,
      "min_height": null,
      "min_width": null,
      "object_fit": null,
      "object_position": null,
      "order": null,
      "overflow": null,
      "overflow_x": null,
      "overflow_y": null,
      "padding": null,
      "right": null,
      "top": null,
      "visibility": null,
      "width": null
     }
    },
    "92d8addf6e244b009b1f5008035c2ddc": {
     "model_module": "@jupyter-widgets/base",
     "model_module_version": "1.2.0",
     "model_name": "LayoutModel",
     "state": {
      "_model_module": "@jupyter-widgets/base",
      "_model_module_version": "1.2.0",
      "_model_name": "LayoutModel",
      "_view_count": null,
      "_view_module": "@jupyter-widgets/base",
      "_view_module_version": "1.2.0",
      "_view_name": "LayoutView",
      "align_content": null,
      "align_items": null,
      "align_self": null,
      "border": null,
      "bottom": null,
      "display": null,
      "flex": null,
      "flex_flow": null,
      "grid_area": null,
      "grid_auto_columns": null,
      "grid_auto_flow": null,
      "grid_auto_rows": null,
      "grid_column": null,
      "grid_gap": null,
      "grid_row": null,
      "grid_template_areas": null,
      "grid_template_columns": null,
      "grid_template_rows": null,
      "height": null,
      "justify_content": null,
      "justify_items": null,
      "left": null,
      "margin": null,
      "max_height": null,
      "max_width": null,
      "min_height": null,
      "min_width": null,
      "object_fit": null,
      "object_position": null,
      "order": null,
      "overflow": null,
      "overflow_x": null,
      "overflow_y": null,
      "padding": null,
      "right": null,
      "top": null,
      "visibility": "hidden",
      "width": null
     }
    },
    "95f1da375773495dae3d8c8df1cf8202": {
     "model_module": "@jupyter-widgets/controls",
     "model_module_version": "1.5.0",
     "model_name": "HTMLModel",
     "state": {
      "_dom_classes": [],
      "_model_module": "@jupyter-widgets/controls",
      "_model_module_version": "1.5.0",
      "_model_name": "HTMLModel",
      "_view_count": null,
      "_view_module": "@jupyter-widgets/controls",
      "_view_module_version": "1.5.0",
      "_view_name": "HTMLView",
      "description": "",
      "description_tooltip": null,
      "layout": "IPY_MODEL_2bba08be613e43959587790509758338",
      "placeholder": "​",
      "style": "IPY_MODEL_545c42fd3da741749a91a4c32717ef7c",
      "value": " 65/65 [07:32&lt;00:00,  4.27s/it]"
     }
    },
    "9836d6dbfc8f49499db518e5ae349683": {
     "model_module": "@jupyter-widgets/controls",
     "model_module_version": "1.5.0",
     "model_name": "HBoxModel",
     "state": {
      "_dom_classes": [],
      "_model_module": "@jupyter-widgets/controls",
      "_model_module_version": "1.5.0",
      "_model_name": "HBoxModel",
      "_view_count": null,
      "_view_module": "@jupyter-widgets/controls",
      "_view_module_version": "1.5.0",
      "_view_name": "HBoxView",
      "box_style": "",
      "children": [
       "IPY_MODEL_60a7e7f746bd46109ea3913d66ea34ba",
       "IPY_MODEL_4dcc4b861bc14c19b6707145afba3f81",
       "IPY_MODEL_95f1da375773495dae3d8c8df1cf8202"
      ],
      "layout": "IPY_MODEL_f7ee5ab0b7834a939390faf1fef8c07a"
     }
    },
    "9b1dc231581d4bde807bc57ddea2c6f1": {
     "model_module": "@jupyter-widgets/output",
     "model_module_version": "1.0.0",
     "model_name": "OutputModel",
     "state": {
      "_dom_classes": [],
      "_model_module": "@jupyter-widgets/output",
      "_model_module_version": "1.0.0",
      "_model_name": "OutputModel",
      "_view_count": null,
      "_view_module": "@jupyter-widgets/output",
      "_view_module_version": "1.0.0",
      "_view_name": "OutputView",
      "layout": "IPY_MODEL_4ba0fa07c0a94ea8a1c2980b96b38bcb",
      "msg_id": "",
      "outputs": [
       {
        "data": {
         "image/png": "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\n",
         "text/plain": "<Figure size 1700x600 with 1 Axes>"
        },
        "metadata": {},
        "output_type": "display_data"
       }
      ]
     }
    },
    "9dc08bcdf0ed41759b93fe7227f64455": {
     "model_module": "@jupyter-widgets/base",
     "model_module_version": "1.2.0",
     "model_name": "LayoutModel",
     "state": {
      "_model_module": "@jupyter-widgets/base",
      "_model_module_version": "1.2.0",
      "_model_name": "LayoutModel",
      "_view_count": null,
      "_view_module": "@jupyter-widgets/base",
      "_view_module_version": "1.2.0",
      "_view_name": "LayoutView",
      "align_content": null,
      "align_items": null,
      "align_self": null,
      "border": null,
      "bottom": null,
      "display": null,
      "flex": null,
      "flex_flow": null,
      "grid_area": null,
      "grid_auto_columns": null,
      "grid_auto_flow": null,
      "grid_auto_rows": null,
      "grid_column": null,
      "grid_gap": null,
      "grid_row": null,
      "grid_template_areas": null,
      "grid_template_columns": null,
      "grid_template_rows": null,
      "height": null,
      "justify_content": null,
      "justify_items": null,
      "left": null,
      "margin": null,
      "max_height": null,
      "max_width": null,
      "min_height": null,
      "min_width": null,
      "object_fit": null,
      "object_position": null,
      "order": null,
      "overflow": null,
      "overflow_x": null,
      "overflow_y": null,
      "padding": null,
      "right": null,
      "top": null,
      "visibility": null,
      "width": null
     }
    },
    "a444ee6051164fa48789fce96dc8f414": {
     "model_module": "@jupyter-widgets/controls",
     "model_module_version": "1.5.0",
     "model_name": "DescriptionStyleModel",
     "state": {
      "_model_module": "@jupyter-widgets/controls",
      "_model_module_version": "1.5.0",
      "_model_name": "DescriptionStyleModel",
      "_view_count": null,
      "_view_module": "@jupyter-widgets/base",
      "_view_module_version": "1.2.0",
      "_view_name": "StyleView",
      "description_width": ""
     }
    },
    "a6c227eb503e4010bd284260cb6b5983": {
     "model_module": "@jupyter-widgets/controls",
     "model_module_version": "1.5.0",
     "model_name": "HTMLModel",
     "state": {
      "_dom_classes": [],
      "_model_module": "@jupyter-widgets/controls",
      "_model_module_version": "1.5.0",
      "_model_name": "HTMLModel",
      "_view_count": null,
      "_view_module": "@jupyter-widgets/controls",
      "_view_module_version": "1.5.0",
      "_view_name": "HTMLView",
      "description": "",
      "description_tooltip": null,
      "layout": "IPY_MODEL_e8074ba573354828acd7e7b2357cc32f",
      "placeholder": "​",
      "style": "IPY_MODEL_4cecaf94d72c47f1a063db6823f18adc",
      "value": "Processing: 100%"
     }
    },
    "ac9793ebc47941a2a4efc8cf537c1035": {
     "model_module": "@jupyter-widgets/base",
     "model_module_version": "1.2.0",
     "model_name": "LayoutModel",
     "state": {
      "_model_module": "@jupyter-widgets/base",
      "_model_module_version": "1.2.0",
      "_model_name": "LayoutModel",
      "_view_count": null,
      "_view_module": "@jupyter-widgets/base",
      "_view_module_version": "1.2.0",
      "_view_name": "LayoutView",
      "align_content": null,
      "align_items": null,
      "align_self": null,
      "border": null,
      "bottom": null,
      "display": null,
      "flex": null,
      "flex_flow": null,
      "grid_area": null,
      "grid_auto_columns": null,
      "grid_auto_flow": null,
      "grid_auto_rows": null,
      "grid_column": null,
      "grid_gap": null,
      "grid_row": null,
      "grid_template_areas": null,
      "grid_template_columns": null,
      "grid_template_rows": null,
      "height": null,
      "justify_content": null,
      "justify_items": null,
      "left": null,
      "margin": null,
      "max_height": null,
      "max_width": null,
      "min_height": null,
      "min_width": null,
      "object_fit": null,
      "object_position": null,
      "order": null,
      "overflow": null,
      "overflow_x": null,
      "overflow_y": null,
      "padding": null,
      "right": null,
      "top": null,
      "visibility": null,
      "width": null
     }
    },
    "b8b92fa0a39740f1b35d99aeaa4c0dd6": {
     "model_module": "@jupyter-widgets/output",
     "model_module_version": "1.0.0",
     "model_name": "OutputModel",
     "state": {
      "_dom_classes": [],
      "_model_module": "@jupyter-widgets/output",
      "_model_module_version": "1.0.0",
      "_model_name": "OutputModel",
      "_view_count": null,
      "_view_module": "@jupyter-widgets/output",
      "_view_module_version": "1.0.0",
      "_view_name": "OutputView",
      "layout": "IPY_MODEL_f9eaa3f7464e4f9db5f2f50ef69dec82",
      "msg_id": "",
      "outputs": [
       {
        "data": {
         "image/png": "iVBORw0KGgoAAAANSUhEUgAABpQAAAB/CAYAAADhCiHWAAAAOXRFWHRTb2Z0d2FyZQBNYXRwbG90bGliIHZlcnNpb24zLjcuMSwgaHR0cHM6Ly9tYXRwbG90bGliLm9yZy/bCgiHAAAACXBIWXMAAA9hAAAPYQGoP6dpAABCOklEQVR4nO3dd1QU1/8+8GdBelEQEATBkigEK8YSESuCvSe2qNiN3aCi0UQsUTHWKGqisX8SO8aKvYFixw4itohCMBRBuju/P/jtfHcFCUZ2R3af1zmeszs7O/vMytzdve+5d2SCIAggIiIiIiIiIiIiIiIiegc9qQMQERERERERERERERHRx40FJSIiIiIiIiIiIiIiIioSC0pERERERERERERERERUJBaUiIiIiIiIiIiIiIiIqEgsKBEREREREREREREREVGRWFAiIiIiIiIiIiIiIiKiIrGgREREREREREREREREREViQYmIiIiIiIiIiIiIiIiKxIISERERERERERERERERFYkFJSIiIiIiIiIiIiIiIioSC0pERERERERERERERERUpDJSByAionyCICA5ORl///03MjMzIQiC1JGItJJMJoOpqSns7OxQrlw5yGQyqSPpjIyMDMTHx+PVq1eQy+VSxyHSWoaGhrC2tkaFChWgr68vdRydkZeXh/j4eCQnJyM3N1fqOESkBQwMDMT2vEwZduH9V/Hx8Xj+/LnUMYhIwywtLVGtWjX+5i9h/DRSg507d+KHH35AWlraB28rMzMTaWlpsLCwgImJSQmkIypaSf/NWVhYYM6cOejZs2cJpNMucrkcFy5cwKFDhxAeHo7IyEikpqZKHYtIp5QrVw5169ZF06ZN0b59ezRq1Ah6ehzAXVIePnyI/fv34/Tp07h69Sr++usvqSMR6RRDQ0O4ubmhcePG8PHxga+vL8zMzKSOpTVevXqFQ4cO4fjx44iIiEB0dDTy8vKkjkVEWsjAwAA1atRAo0aN0KZNG7Rr1w6WlpZSxyoVDhw4gC5duvBkJiIdNW/ePEybNk3qGFpFJvAU+BLn5uaGqKgoqWMQfTRcXV1x7949qWN8NF6+fInVq1dj7dq17Fwl+si4uLhg2LBh+Oabb2BtbS11nFIpLy8PO3fuxMqVK3H+/Hmp4xCREjMzM/Tq1QsTJkxArVq1pI5Tal2+fBnLli3D7t27kZ2dLXUcItJBxsbG6NmzJyZMmID69etLHeejNmDAAGzZskXqGEQkkbZt2+Lw4cNSx9AqLCipgZOTE+Li4qCnpwcHB4cP2taLFy8gl8tLZFtExVGSf3OKbTk6OuLZs2cllLD0ysjIwMKFC7F48WKkp6cXeNzJyQmurq5wcHCAmZkZR0kQqYlcLsfr16/x/PlzREVFIS4ursA6FhYWmDx5MiZNmsQRwsUkCAL27t2LgIAAxMTEFHjc0tIS7u7ucHZ2RtmyZTltC5GaCIKA7OxsJCYm4sGDB4iOji70rOyvvvoKQUFBqFy5suZDllLR0dGYNGkSDhw4UOCxMmXKwM3NDVWrVoWNjQ0MDQ05vQoRfRBBEJCTk4PExEQ8fPgQUVFRhY6C7NSpExYtWoTq1atLkPLj5+3tjRMnTgAAhg8fzu+gRDogMTERO3fuBJBfVN60aZPEibQLC0pqoCgolUQneklui6g4+PerHuHh4RgwYAAePnwoLtPT00Pbtm3x1VdfwcfHh0VjIonExcXh6NGj2LFjB44cOaJy/bJPP/0UmzZtwhdffCFhwo9fQkIChg8fjn379qksd3d3R79+/dCxY0e4u7uzUE4kgfT0dJw7dw4hISHYvn07Xr16JT5mYmKCoKAgjBkzhsWPIrx58wZBQUEIDAxUuTaStbU1+vTpg65du8LT05MnIBCRWmVmZiI8PBwhISHYtm0bkpKSxMcMDQ0xa9YsTJ48mdfOe4u7uzvu3r0LU1NTpKen8/OOSAccP34cbdq0AQBMnToV8+fPlziRduGveiIiNRIEAUuWLEGzZs3EYlKZMmUwatQoxMbG4uDBgxg4cCCLSUQScnR0xKBBg3D48GHExsZixIgR4g/xmJgYeHl54eeffwbPwSlcREQE6tWrp1JMat68OU6ePIlbt25h2rRpqFWrFotJRBIxNzdHu3bt8OuvvyIuLg5Lly6FnZ0dgPzOyXHjxqFHjx6Fjp4mICkpCW3btsX06dPFYpKTkxPWrFmDuLg4rFy5Et7e3iwmEZHamZiYwNvbG8HBwXj27BlWr14NR0dHAEBOTg6mTZuG9u3bIzk5WeKkH5fnz58DABwcHFhMItIRiuMeAPvb1IC/7ImI1EQul2P8+PHw9/cXp5rx9PTErVu3EBwczClmiD5CVapUwZo1a3Djxg00btwYQP6Z6YpjmUUlVQcOHEDLli3x4sULAICdnR127tyJU6dOoWXLlvzRTvSRMTc3x4QJExATE4PRo0eLy0NCQtCiRQu8fPlSwnQfn2fPnsHT0xPHjx8HkD+6fOrUqYiOjsaIESNgbGwscUIi0lUmJiYYOXIkoqOjMWXKFPHEnaNHj8LT01OlM1WXZWZmIiUlBQBQsWJFacMQkcYofp8CPPbVgQUlIiI1EAQBEyZMwIoVK8Rl06dPx5kzZ+Dq6iphMiIqDnd3d5w7dw4BAQHisqVLl2LSpEksKv1/oaGh6N69O7KysgDkj0q6efMmevbsyUIS0UfO0tISK1euxIEDB1C2bFkAwNWrV9GmTRukpqZKnO7jkJCQgFatWiEqKgpAfsH81KlTmD9/PkxNTSVOR0SUz8zMDEFBQThx4gRsbW0BAPfu3UPLli2RmJgocTrpsVOZSDcpF9V57Jc8FpSIiNRg6dKlYjFJT08PGzduxNy5czmfNVEpUqZMGSxYsADr1q0TCyRLlixBcHCwxMmkpygcKaZ/6t27N44ePYoKFSpInIyI3keHDh0QHh4uTgUSGRmJL7/8stCLvuuSrKwsdO7cGTExMQCAatWqISIiAs2aNZM4GRFR4Vq0aIGIiAhUqVIFAHD//n107twZ2dnZEieTFqe9ItJNPPbViwUlIqISFh4ejilTpoj3169fj4EDB0qYiIg+xJAhQ/Drr7+K9ydOnIiLFy9KmEha6enp6NGjB16/fg0A6NGjB7Zu3QpDQ0OJkxHRf+Hu7o5Tp06hfPnyAIBjx45h9uzZEqeSlr+/Py5dugQg/3pJp06dEjtpiYg+VlWrVsWpU6fE6ypFRERg8uTJEqeSFkcoEekm5WOfBaWSx4ISEVEJyszMxMCBA/HmzRsA+dPcsZhEVPoNHTpU/EGel5eHgQMH6uwZn1OnTsWDBw8AAB4eHtiyZQtHXxKVcjVq1EBISIh4LP/444+4cuWKxKmkcfz4caxatQoAYGxsjP3796NSpUoSpyIiKh4XFxfs27cPRkZGAIAVK1bg1KlTEqeSDkcpEOkmxbFvZWXFa16qAQtKREQl6KeffkJsbCwAoEmTJpg1a5bEiYiopMybNw8NGzYEAERHR2PJkiUSJ9K8yMhIsaPV1NQU27dvh4mJicSpiKgkeHl5ITAwEAAgl8sxevRonbtmXG5uLsaMGSPeX7JkCerWrStdICKi/8DDwwOLFi0S748ePVpnpzLldVSIdI8gCOIIJR736sGCEhFRCfnnn3/w008/Aci/9sratWt51j6RFilTpgzWrVsHPb38r09BQUFISUmRNpSGzZgxQ+xgDgwMxCeffCJxIiIqSQEBAXB3dwcAXLp0CX/++afEiTRr06ZNiI6OBpB/YtCIESMkTkRE9N+MGjUKjRs3BgDcu3cPW7dulTiRNDjlHZHuSUlJQVZWFgAe9+rCghIRUQlZs2YN0tPTAeRPj/XZZ59JnIiISlqtWrUwaNAgAEBqaqrKtZW03Z07d3Dw4EEAgLOzM8aNGydxIiIqaQYGBliwYIF4PygoSMI0miWXy8UTgwBg0aJF4gkERESljZ6enkqbtnDhQp0bdQpwyjsiXcTjXv34DZmIqATI5XKsXbsWACCTyTBlyhSJExGRugQEBIi3165dqzM/zpWLZ99++604Nz8RaZcOHTqgVq1aAPIv6H7r1i2JE2nG2bNncf/+fQBAixYt8MUXX0iciIjowzRt2hReXl4A8kcphYWFSZxI8xQjlExNTWFpaSlxGiLSBI5MVD8WlIiISsDFixfx5MkTAICvry+qVKkicSIiUpdPP/0UrVu3BgA8ePAAV69elTiR+snlcuzYsQMAYGRkhAEDBkiciIjURSaTYfjw4eL9bdu2SZhGc7Zv3y7eVt5/IqLSTLk9U27ndIVipIKDgwNkMpnEaYhIEzhCSf1YUCIiKgGHDx8Wb3/55ZcSJiEiTVA+zpWPf21148YNxMfHAwB8fHxgZWUlcSIiUqeePXuKt3WhjQP+bz+NjIzQuXNnidMQEZWMLl26wNDQEABw6NAhidNoVmZmpni9U45SINIdHKGkfiwoERGVAOXpA3x8fCRMQkSaoHyc68L0IWzjiHSLvb096tSpAwCIjIxEWlqaxInU69mzZ+JIc09PT5iZmUmciIioZFhYWIhTeD569EjlzH1tx05lIt2k3M7x2FcPFpSIiErAjRs3AOQPp3VycpI4DRGpW+XKlWFjYwMAuHnzpsRp1C8yMlK83bBhQ+mCEJHGKI51QRBw584didOoF9s4ItJmyu2aLnxvVeC0V0S6ice++rGgRET0gVJTU5GUlAQAcHV1lTgNEWmCTCYTj/f4+HhkZGRInEi9Hj16JN6uUaOGhEmISFOUv9PExsZKmET9lNs4fpcjIm2jS+25Mo5SINJNyqMTWVBSDxaUiIg+0N9//y3e5ocVke5QPt6V2wFtpNg/ExMTlC1bVuI0RKQJutjGAfwuR0TaR7ldS0xMlDCJZrFTmUg3KYrJVlZWMDY2ljiNdmJBiYjoA2VmZoq3Oec+ke5QPt6V2wFtpBiBxTaOSHfoYhsHsJ0jIu2j3K5p+6h6ZRyhRKR7BEEQi8k87tWHBSUiog8kCIJ4W0+PzSqRrlA+3pXbAW3GNo5Id8hkMvG2rrRxgOp+ExFpA11tz5VHKLFjmUg3pKSkICsrCwCPe3VirwARERERERERERFpDeURSpzyjkg38LjXDBaUiIiIiIiIiIiISGsoOpZNTU1haWkpcRoi0gSOTNQMFpSIiIiIiIiIiIhIayg6lh0cHDidKZGO4LXTNIMFJSIiIiIiIiIiItIKmZmZSElJAcBOZSJdojxCiVPeqQ8LSkRERERERERERKQV2KlMpJs4QkkzWFAiIiIiIiIiIiIircBOZSLdxGKyZrCgRERERERERERERFqBBSUi3aR87LOgpD4sKBEREREREREREZFW4CgFIt2kKChZW1vD2NhY4jTaiwUlIiIiIiIiIiIi0gocoUSkewRBEIvJLCSrFwtKREREREREREREpBU47RWR7klJSUFWVhYAFpLVjQUlIiIiIiIiIiIi0grKU96xY5lIN3CqS81hQYmIiIiIiIiIiIi0gmKEkqmpKSwtLSVOQ0SawKkuNYcFJSIiIiIiIiIiItIKytdRkclkEqchIk1gQUlzWFAiIiIiIiIiIiKiUi8jIwMpKSkA2KlMpEs45Z3msKBEREREREREREREpR47lYl0E0coaQ4LSkRERERERERERFTqKReU2KlMpDtYTNYcFpSIiIiIiIiIiIio1OMoBSLdpHzss6CkXiwoERERERERERERUanHUQpEuklRULK2toaxsbHEabQbC0pERERERERERERU6nGEEpHuEQRBLCazkKx+LCgRERERERERERFRqcdpr4h0T0pKCrKysgCwkKwJLCgRERERERERERFRqac85R07lol0A6e61CwWlKhE+fn5QSaTFfhnYmKCunXrYunSpXjz5o3UMVVs3LgRMpkMYWFhUkch0gkPHjzA+PHjUaNGDZibm8PIyAiVK1fGoEGD8PTpUwDA6dOnIZPJsHXrVo1k+q/tANsPIioM2zki0kUXL15Enz594OTkBCMjI9jZ2aFp06ZYtWoV8vLyAHxcbco///yD77//HrVr14a5uTnMzc3h6uqKiRMn4tGjR++9PU2368WleM8bNmwIuVxe6DoymQwbN27UbDAiNVGMUDI1NYWlpaXEaT5e6enpqF69OlxdXZGRkVHg8ZMnT0JPTw8zZswQl+Xl5eG3335D69atYWNjAwMDA5QrVw7NmjXD6tWrxbZeITAwsED/YLly5eDu7o4ZM2aII0qU5ebm4pdffoGXlxesrKxgbGyMypUro0+fPgU+O1q0aIFPPvmkhN6R9+Pn54cyZcqI9/Py8tC7d2+YmJjAzMwMAFC5cmV4e3tLkk/XcKpLzWJBiUqcvr4+Xrx4ofLv4sWL6NatGyZNmoRvvvlG6ogl4saNG5DJZFLHICpVHjx4gPr16+PSpUtYunQp7t69ixs3bmD27Nk4duwYPD09kZiYiCZNmuDFixfo2bOn1JFLrW7duiEwMFDqGEQ6h+2c5rCdI/p4LF68GF988QVkMhm2bNmC+/fv48CBA2jevDn8/f3RokULvH79WuqYotu3b6N27drYsWMHJk+ejOvXr+PKlSuYPn06Dh8+jHr16uHMmTNSxyxR165dw4oVK6SOQaR2io5lBwcH9tkUwdzcHNu2bcOjR4/g7++v8lhqaioGDRqERo0aid+10tPT4e3tjcmTJ8PHxwcnTpxAbGwsQkND0bBhQ4wbNw6tW7dGdnZ2gde6du2a2D944cIFDBw4EPPnz8fQoUNV1ktLS0PLli0xdepUdOzYEWfPnsXdu3exevVqJCUloXnz5liyZIna3pP3sXz5csTFxYn3jxw5gu3bt2PKlCmIiooCAFy+fBk7d+6UKqJOYUFJs8r8+ypE78/e3r7A/dq1ayMuLg7r1q3D3LlzYWdnJ1G6knH27FmpIxCVOr/99htevXqFvXv3okKFCuJyV1dXuLq6YtiwYbh48SI6duxYoB2h4hMEAWFhYahTp47UUYh0Dts5zWA7R/TxOHXqFCZPnoyAgADMnz9fXO7i4oKGDRuiSZMm6NixI4KDgz+K34C5ubno3r07LC0tERERgbJly4qPubq6olOnTmjYsCHGjBmDGzduQE9PO87DnTBhAmbMmIHu3bujUqVKUschUouMjAykpqYCYKdycXh4eGD+/Pnw9/dHhw4d0LFjRwDAuHHjkJKSglOnTomjcMaOHYtLly7h4sWLqFWrlrgNZ2dnNG7cGA0aNMCIESMQGhqKLl26qLyOra2t+L3X3t4ebm5uOHv2LEJCQlTWGzt2LK5evYqIiAiV73hVq1ZF27Zt0bt3b0yfPh09e/aEs7OzWt6T4ipbtqzK58fLly8BAG3atBHbWFtbW0my6SJOeadZ2vHNiEqNunXrQhAEcboXIH9qgDZt2sDS0hLGxsaoXr065syZIw6V7d+/f4EhrMHBwZDJZJg7d67K8oYNG6Jz587vfP1r166hadOmMDY2hp2dHcaOHYvMzMwC6+3ZswdNmjSBmZkZTE1NUbNmTaxatUp83M/PD+PGjQOQPz2An58fACApKQkjR46Eo6MjDAwM4ODggJ49eyI2Nvb93igiLaU43gobUt+wYUPcuHEDHTt2LDBliPL0KJ06dYKFhQVsbGwQEBCA7OxsTJgwAXZ2drCyskLv3r3x6tUrcbsymQyTJ0/G0qVLUblyZRgZGcHd3R179+4tMuutW7fQpUsXODk5wcTEBLVr18b69ev/dR9lMhlmzJiBefPmwcnJCaampmjRogX++usv7N27FzVr1oSpqSnq1q2L8PBw8Xl+fn6wtbXF9evX0aRJE5iYmMDW1hYTJkxATk6OyvbfPpMrLCxMnKrk8ePH0NPTw8uXLzFr1izIZDI8fvy42PtUuXJl+Pn5YcqUKbCwsCjQzhJR0djOsZ0j0jULFiyAra0tZs2aVejjHTp0QExMDKZMmVLo48U5brOyshAQEIAqVarAwMAAtra2aNu2La5duyau8/jxY8hkMqxfvx4zZ86Es7MzTE1N4eHhgRMnTojr7dq1CzExMViwYIFKZ6BCuXLlcOLECVy5ckUsJuXl5WHOnDmoXr06DA0NUa5cOfj4+ODChQvvfF/eNb3f0KFDVUZN+Pn5wcnJCefPn0eDBg1gYmKCKlWq4I8//sDz58/RuXNnWFpaomLFipg5c6b4PMXnSGhoKMaMGQN7e3tYWFjAy8sL169fL5Bn9uzZsLGxwejRo9+ZWfm9/Prrr2FnZwcDAwNUqlQJQ4YMwd9//13o/r3v59abN28QFBSEOnXqwNzcHDY2Nujbty+ePXumkmPJkiVwd3eHmZkZypYtC09PT+zfv/9f85PuYqfy+5s4cSLatWuHwYMHIyEhAXv37sXmzZsRHByMqlWrAgCePXuGLVu2YPTo0SrFJGW9evXCy5cvCxST3kUmk8HKykq8/+zZM2zduhUjR44s9IQhmUyGNWvWIC4u7p3FpOJ8VgDAoUOH0LRpU1hbW8PU1BSfffYZFi1aBEEQxHX+rf1RnvLOz89P7Bf08vIS2/i3p7wrTtunaFsPHjyImjVrwtDQsFjvp67jCCXNYkGJNOru3bvQ09ND5cqVAQBPnz5F27ZtUbZsWVy4cAHR0dH4/vvvMXv2bCxYsAAA0K5dO8TGxqo0sMeOHYOzszNOnjwpLktJScG1a9fQoUOHQl87NTUVvr6+SE1NxfHjx3H27FmUL18eP/74o8p6ERER6NmzJzw8PHD9+nXcvn0bgwYNwujRo8VOn+XLl6Nv374A8r+wLF++HADQr18/8cP34cOHCAkJQWxsLNq3b//RXTuKSAqKM56aNWuG4OBgPHny5L2eP3HiRAwYMACRkZH4+uuvsXDhQnh7e8POzg7nz5/HypUrsX37dqxcuVLleTt27MCNGzdw4MABXLhwARUrVsSXX36J27dvF/o6jx49gpeXF+Li4rBt2zZERkaiZ8+eGDJkCH799dd/zblt2zYkJCTgxIkT2LNnDy5duoQvv/wSwcHB2Lx5M8LDw5GTk4NBgwapPC81NRXjxo3DnDlzcPPmTUyZMgU///wzfvjhh2K/R5UqVRK/MPv7++PFixeoVKnSe+1TeHg4nj9/jsuXL2PMmDHFfm0iYjvHdo5It+Tl5eHs2bPw8fEpstPrXde4KO5xO3HiRKxYsQJLlizBw4cPcezYMcjlcrRt2xbJyckq21y0aBEyMjJw5MgRnD59GpmZmejTp494rY6TJ0/CwMAAvr6+78xbqVIlGBkZifdHjRqFefPmYfTo0bhz5w6OHj2KvLw8tGrVCvfu3SvWe1WU169fY/r06Vi2bBmuX78OZ2dnDB06FF9//TW+/vprXL9+Hb169cLs2bNx/vx5ledOmTIFzs7OOHfuHPbt24f79+9jwIABBV7D1NQUq1atwv79+/91Cqb27dvj6tWr2LdvHx4+fIjNmzfj+PHj4m9gZf/lc2vixIn47rvv0LdvX9y4cQM7duzAzZs30aJFC/GEjE2bNmHSpEnw9/fHnTt3cPHiRTRp0gRdu3Yt0DlMpKBcUGKncvHIZDJs2rQJZcqUQd++fTF8+HD069cPX3/9tbjOmTNn8ObNm3f2tykoX1PoXbKysvC///0PoaGhmD59eoHXUHyXLoyVlRWsra3f+XhxPitiYmLQtWtX1KtXD+fPn8fdu3fh7++P77//Xuzbe9/2Z/ny5Vi2bBkA4M8//1T5O3w737+1fQozZ87EvHnz8ODBg3fuL/0fFpM1TKAS5+joKAAQHB0dP6ptacLAgQMFfX39AsvT09OFjRs3CkZGRoKfn5+4PCsrS4iKihJSUlJU1m/QoIHQqFEjQRAE4eXLl4Kenp6wefNmQRAEITc3V7C0tBR++uknwdjYWMjMzBQEQRD27NkjABCePn1aaLb169cLAISzZ8+qLO/atasAQDh37pyY9c6dO0JGRobKera2tkKvXr3E+0OGDBHePoSePn0qPHr0SGVZcHCwAEC4d+9eobk+Nrr89/s+oqKihOzsbEEQBCEyMlIAIAAQRowYIXGyj9+mTZsEe3t78T1zdHQU+vbtK2zbtk3IyckRBEEQTp06JQAQtmzZIgiCIGzYsEEAIMydO1fcTkJCggBAaNWqlcr23dzchG7duon3AQj29vZCbm6uuOzhw4cCAGHatGkq21e0A2PGjBHKlCkjPHv2TGXbnTp1EhwdHQW5XF7o8xSvV716dXEdQRCEdu3aCQCEJ0+eiMuCgoIEAEJqaqogCPntJwBh//79Kq/ZvHlzwcHBQWX7Q4YMUVnn3LlzAgBhw4YNgiAIwl9//SUAEGbOnCmuU9x9cnFxEUxMTIS0tDSBijZ48GDx7/jOnTtSxylRcXFxwsuXL8X7VapUEQAIdnZ2EqYqPdjO5WM7V7rt27dP/BtW/rvUBjk5OcK9e/fEv4lvv/1W3Nfw8HCJ05Uu8fHxAgBhxowZxVr/v7ZFL168EO7fv6+yzsGDBwUAwuHDhwVBEIRHjx4JAAQvLy+V9RYtWiQAEG7duiUIgiC0bdtWcHJyKvY+Pn/+XNDT0xMmTZqksvyff/4RDAwMhNGjRwuC8O52Xbn9FISCvyMVbWNYWJi4bPv27QIAYfbs2eIyxWfC8uXLVV6vf//+KtsfM2aMAEBs4xQ5FHr37i3Y29sLycnJ4jLl9lUulwsPHz4s8H8yefJkQU9PT0hPT1fZ7vt+bsXHxwv6+vrCN998o7LO1atXBQDCr7/+KgiCIHzzzTeChYWF+LmpyBYeHi4kJSUJVHxnz54V27i3/461wa1bt8S2QnHsABAWLlwocbLS5cCBAwIAwcrKSvzuprBgwQIBgBAbG/te25w5c6YAQDA1NRXMzMwEMzMzAYBgYGAg/PDDD0JeXl6B13jw4EGxt9+8eXOhWrVq4v3ifFYo/kYiIiJU1ouMjBT7E4vT/rzd/1lYm+/i4iK0bt1aEITit32K7Xz//ffFfh9IEDw9PcVjX9FPTOrDayipgeKibMoXZ9Mlb968gbm5ucqyjIwM2NnZYcKECZgzZ4643MjICDExMfj2229x69YtJCcnQxAEZGZmokqVKgCA8uXLo2HDhjh16hT69++PS5cuITs7GyNHjsScOXNw/vx5tGrVCidOnECtWrXeOR/0zZs3AQD169dXWd6sWTOVKWHMzMxw9epVjBkzBtHR0Xj16hUEQUBGRoY4J+q7yOVyLFq0CMePH0dCQgJyc3PFqfv+7bnaSDHtz4sXL+Dk5CRxmpKVmpoqnqHD6ze8nwEDBqBPnz44c+YMzpw5g7CwMOzevRu///47atasiaNHj77zuZ9//rl4WzEfsYeHh8o6tra2Bc5U/eKLL1TOlqpSpQrKly+Phw8fFvo658+fR82aNeHo6Kiy3NfXF/v370d8fHyRZ714eHioTGVia2sLGxsblaH5ivzJycmwtLQUlzdr1qzAPp85cwZZWVkwNjZ+52v+m/fZp88++6xAO05Fa9WqVbHOyCstXr9+jZSUFLi6umLQoEEq05HRv2M7p5qf7Vzpt3DhQqxevVrqGCVGLpfjxYsXsLe3R58+ffDXX39JHanUUrQDgtI0Qe+juMetgYEBfvvtNxw8eBDPnz9Hdna2OAPE27+zmjRponJfcd2mf/75R8z8PnmvXLkCuVxeoO2ytraGm5sbLl++XOxtFUX5d2ph7b9ym6qsqP0trJ1btmwZ3NzcMGXKlEJHpMpkMqSnp2Px4sUICwtDYmIi3rx5g5ycHMjlciQnJ8PMzExc/30/ty5duoQ3b94UGCHm4eEBGxsbXLlyBcOGDUOXLl2wdu1aNG7cGIMGDULz5s1Rq1atAvtL72fNmjX4448/pI5RouLi4mBra4tevXohNzdXXM5RCu9n3759MDU1RXJyMkJDQ/HVV1+Jjyna+rdn3rl8+TJatmypsszFxQV37txRWXbkyBHxGkqvX7/GrVu38OOPPyI0NBTHjh2DpaXlB3+eACjWZ0XTpk1hb2+P7t27Y/jw4WjZsiUaN26s0q+jjvanuG2fQsOGDf/za+kixZR31tbWH/R7gopHe3o+6KOhr6+PyMhI8f6rV6/QunVreHl5idPYKezfvx+dO3eGr68vNmzYACcnJ+jr66Nfv37iF34gf9q7DRs2AMif7q5JkyYwNzeHl5cXTp48iVatWuH48ePo1q3bO3O9evUKMpkMpqamKsuVOzgAYOXKlRg7diz69u2LWbNmoUKFCtDT00OLFi2K3O+MjAw0a9YMmZmZ+Omnn+Dh4QETExPs2bMHAQEBRT5XW6WlpQHI/9GurQXWo0ePqswHTsVjYGAAb29vcT7h1NRULF68GHPmzMF3332HgQMHFvo85R+vii+cyssUy9/+ElquXLkC2zI3Ny/wg1whNTUVjx49KvAjXPFlNC4ursgfKIVlKmwZoPqFWSaTFWiTFBmSk5M/6EfR++xTYe8XFS0hIUHqCGoRFRWFgwcPFnq9QSoa2zm2c9rk1atXWvl9Jz4+HgcPHoSFhYXUUUqt8uXLw8zMDDExMf/p+cU9btu2bYs7d+5g4cKF8PLygpmZGS5evKgyJZPC29t6uy1ycXHB0aNHkZ6eXqzCcmpqKgAUer0lS0vLEjlxUF9fX6UDrLD2/12drf+2v2+rUKECFi5ciOHDh6N///7w8vJSeTwuLg5NmzaFnZ0dFixYADc3NxgZGeHnn3/GihUrCmzvfT+3FO9n7969oa+vr7JeZmam+LvR19cX58+fx/LlyzF79mwkJibCyckJ/v7+mDBhQqH7Rv8uPT0d6enpUscocYmJiTh48KDKdGgsKBXfrl278Ouvv2L37t3YvXs3Ro4ciSZNmognBitO+I6JicGnn34qPq927doq/X8BAQG4evVqge1XrlxZ5STjOnXqoGnTpqhSpQoWL16MWbNmwcXFRXyNd02T+m+K81lRsWJFXL58GUuXLsXWrVsRGBgIS0tL9OvXDwsXLoS5ubla2p/itn0K/K5afIIgiFPe8bjXDBaUSC3ebvx/+uknDBs2DNu2bUPv3r3F5Zs2bYK5uTn27t2r8gU6JSVF5fnt2rXDzJkz8fjxYxw9ehTt27cHALRs2RK7d+9GXFwcoqOjxeWFMTc3hyAIBc5+TUpKUllv48aN+PTTT7F161bxC7FcLi+w3ttOnjyJp0+fYuvWrejXr5+4XJevnWRhYYGkpCTo6elpXaMul8sxbNgwzJgxA3fv3i3ybHP6P3l5ecjMzCzQcVO2bFnMnj0b+/fvx9WrV9/Z0fpfKYqbby8rX758oetbW1vDzMwMu3fvLvTxt8+iLSmCIOD169cqP8IV2ZV/HL3dQVDY/r1Nqn3SFRUqVNCqEUo5OTkoU6YMfvzxRwwaNAhVq1b9189Bysd2rmhs50onS0tLrSq6yOVy5OXlYcaMGRg3bhz8/f0L7QCjf6evr49WrVohNDQUaWlp7/w72bx5c6FndhfnuL19+zauXLmCuXPnqlzz7L+ODGrTpg3WrFmDPXv2FHqtIQCIjIzE48eP0aVLF7FTr7ACfUpKyjs7/d5V2ClOe6ZuQ4YMwZYtWzB8+HCVzmAACAkJwatXr3Do0CF4enqKy7Ozs0vktRVt/cqVK9G8efMCj5uYmIi3GzRogK1bt0IQBERGRmLlypWYOHEirKysSvxzVFeYm5sXWhwtzXJycjBt2jRMmDABAwYMENtzXkOpeJ48eYJhw4bBz88P3bt3R6tWrVCzZk0MHDgQx48fh0wmQ8uWLWFkZIRdu3ap9LsZGRmp9P+9z3eFypUrw87OTmyDWrRoAQMDA+zcuRPt2rUr9DlpaWnYvHkzBg8erNJWAHivzwonJycsXrwYixcvxtOnT/H7778jMDAQmZmZ4snsJd3+vE/bR+8nJSVFvE4ij3vN0J6ej4+Io6Mj4uLi+KNVyZAhQ/C///0PY8aMQcuWLVGhQgUA+R/85ubmKgWesLAw3L9/H1WrVhWXff7557Czs8Off/6JS5cuYcmSJQDyC0pTp07Fvn37YGVlVeTw088++wwAcOHCBZUhuadPn1ZZLycnB+XLl1eZxuWPP/5AZmZmoWd5CYIAmUwmTgdkY2MjPpaXl4fNmzeL6+kaxQeig4MDnj17JnEaklpGRgacnZ3RpEkT7Nu3r8Dj2dnZSExMVMsUgmFhYcjJyREvFh0bG4ukpCSxXXibp6cnfvvtN9jY2Kh0Ejx//hyGhoZq/bJ38uRJdOrUSbx/6dIlVKtWTbwwdLly5ZCYmKjynLCwsEK3pdzuSLlPuuDkyZPv/Hsi3cF2rnjYzpU+U6ZMUblwNpGyqVOn4uDBgxg3bhzWr1+v8jsKAEJDQzFo0CAEBASgevXqKo8V57gt7HcWAKxfvx7A+//O6tKlC9zd3TFt2jS0bt26wO/25ORk9O/fH1lZWfDx8cHnn38OfX19nD59Gl26dBHX+/vvvxEVFaXScalMsT/K7Vlubi4uXrz4XnnVQSaT4ddff0WdOnUwb948lccKe79TU1OxZ88eAB/+u7ZBgwYwMDDA48ePMWTIEJXHbt++LfYDHDlyBOXLl8fnn38OmUyGevXqYd26ddi5cyciIiJYUPqPRo4ciZ9++knqGGqjGKUAsGO5OPLy8tC3b1+UK1cOP//8M4D8tuu3335D27ZtsXjxYkyaNAk2NjYYNWoUfv75Z/Tv37/ANHdA/vfcBw8eFPu1ExISkJSUJI5cqlChAgYPHoy1a9eib9++4ih/BblcjlGjRmHHjh1o1qwZatWqpfJ4cT8rIiMjERcXhw4dOgAAnJ2dMXXqVISHhyMiIgKAetqf4rZ99P6Uj3ttO5n9Y6UndQDSDTKZDGvXrkVGRgZGjBghLvf09ER8fDxWrVqFx48f4/fff8fo0aPRqVMnPH/+HLdv30Z2djZkMhl8fX2xdOlSmJmZifM0161bF+bm5li8eDF8fX0LDBtV1qNHD1haWmLixIm4cOECoqKi8P333xeY29XT0xNXrlzB7t278fjxYwQHB2P16tVo3Lgx7t+/jwcPHuDNmzfi2QUhISGIiopCgwYNYGhoiGXLluH+/fu4dOkSfHx8xA/asLCwd047Q6QLTE1NMXPmTBw4cADdunXD8ePH8fTpUzx48AD79u1DmzZtkJycjB9++KHEX1tPTw9DhgzBrVu3cO3aNQwfPhwGBgaFTpMCABMmTICenh569OiB8PBwPHnyBPv370fTpk3Rv3//Es+noK+vj/nz5+Po0aOIiYnBggULEB4ejsGDB4vrNG7cGMePH8eBAwfw8OFDrFu3DkeOHFHZjpWVFWQyGS5cuICbN28iOTlZsn0i0iVs5/4d2zki7dOkSRMsW7YMmzdvhq+vL0JDQ/HkyRNcu3YN06dPR9euXdGzZ08EBgYWeG5xjltXV1eUL18ea9euxe3bt3Hz5k306tVLLE5FREQUKEIXRV9fH7t27YKenh4aNGiA1atXIzo6GjExMfjf//6HRo0aITU1FSEhITA1NYW9vT2GDRuG1atXIzg4GLGxsTh//jy6d+8OU1NTjB8/vtDX8fDwgKGhIZYvX47bt2/j1q1bGDRoUIEp2KVSo0YNTJs2rcC09IpRSUFBQXj48CHOnDmDVq1aoXv37gCAM2fOfNAUmLa2thg9ejSWLFmC4OBg3L9/H7dv38aECRNQt25dXLhwAUD+bCZdunTBnj178PjxYzx48AALFy5EWloaWrdu/Z9fn7Sb4joqpqamBabYpYICAwMRERGBzZs3q4wu8vX1xciRIzF9+nTcuHEDADB//ny0b98e7dq1w9SpU3H58mX89ddf4uidWrVq4cqVK5g8eXKB10lMTER8fDzi4+Px9OlTHDt2DJ07dy7Qhi5evBjNmjVDx44d8d133+H69eviTEW+vr7YuXMnNm/eXKCYBBT/s+LSpUvo1q2b2Hf39OlT7N69G2FhYWIRSx3tT3HbPnp/iuMeYCFZU1hQIo355JNPEBgYiD///BNbtmwBAIwfPx7Dhg3DDz/8gNq1a2PLli3YvXs3pk6dirJly6JJkya4f/8+gPxp7548eYLmzZuLhSM9PT00b94csbGxRU53B+SfpXDw4EEYGhqiRYsW8PLyQlJSEoKCglTWmzt3Lrp27YohQ4agXr16OHv2LPbs2YPJkycjLS0NjRo1QkpKCoYOHQpXV1f07t0bAQEBqFSpEjZv3ozY2FjUqVMHfn5+GDx4MJYvX47mzZsjMDBQHFlFpKvGjh2LY8eOwcDAAMOGDYOrqytq1qyJb7/9FtWrV8fVq1fRqFGjEn/ddu3aoXbt2ujUqRO++OILxMfHY/fu3ahcuXKh67u4uCA8PBwWFhbo1KkTqlWrhtGjR6NHjx7YtWtXiedTtnz5cgQGBqJ27dpYvHgxxo8fjylTpoiPBwcHo2nTpujbty88PDxw4sQJ/PLLLyrbMDMzQ0BAAM6fPw8vLy/cuXNH0n0i0iVs5/4d2zki7TN27FhcvHgRNjY2GDp0KKpXr44OHTqIHZXbtm0TR1AqK85xa2pqih07diA3NxcNGjRA165d0ahRIwQHB6N3795Yt24d/P393yuvq6srbt26haFDh2L16tWoX78+6tevj6CgIPTp0wfXrl1DzZo1xfVXrFiB7777DkuXLoWbmxs6dOiA8uXLIzw8/J3tbKVKlbBx40a8ePECn3/+OTp37oyGDRuqXOheatOmTUO1atVUljVq1AjLli3DiRMn4O7ujm+//RY//vgj5s2bh9q1a2PIkCHYvn37B73u4sWLERgYiBUrVqBmzZpo3Lgxbt68iSNHjogFrXXr1qF3797w9/eHq6srGjRogJCQEGzduhU9e/b8oNcn7aXoWHZwcCgwWpJUnTp1CvPnz8ekSZMKXEsNABYtWoRKlSqhX79+yMrKgpGREf78809s2rQJN27cQIcOHVCtWjV4e3tjy5Yt+Oqrr/DgwQOMHj26wLY8PDzg4OAABwcHfPLJJxg+fDjq1q2Lq1evqoxcNTMzw7Fjx7BixQqEhYWhVatWcHNzw+jRo+Hi4oJr166hV69ehe5PcT8rhg8fjqVLl2LDhg3w8PCAm5sbZsyYgfHjx4t9dupqf4rT9tH7Y0FJ82SCLs7DpWZOTk7ilHcfOs1XSW6LqDj49/v+bty4gbp16wIARowYgTVr1kgbiFTIZDIMGTIE69atkzpKkfz8/LB161bk5eVJHYWKaciQIeIUCnfu3NHqKe+qVq2KR48ewc7ODgkJCVLHobewnSN12L9/Pzp37gwg/4QrbZ7yzt/fX+xECg8PL3IabSKi0ubcuXNo1qwZAGDSpElaO+VdRkaGeI1GLy8vnD17VuJERKQJQUFBmDp1KgBg586dPOlAAzhCiYiIiIiIiIiIiEotXkeFSDdxhJLmsaBEREREREREREREpZZyQYmdykS6g8VkzSsjdQAiIiJ1Ki0zu27cuBEbN26UOgYRlUJs54iIiEjXcZQCkW5SPvZZUNIMjlAiIiIiIiIiIiKiUoudykS6SXHsW1tbw9jYWOI0uoEFJSIiIiIiIiIiIiq1OOUdke4RBEE89llI1hwWlIiIiIiIiIiIiKjU4gglIt2TkpKCrKwsACwkaxILSkRERERERERERFRqcYQSke7hcS8NFpSIiIiIiIiIiIio1FKMUDI1NYWlpaXEaYhIEzgyURosKBEREREREREREVGppehYdnBwgEwmkzgNEWmCckGJI5Q0hwUlIiIiIiIiIiIiKpUyMjKQmpoKgJ3KRLpEeco7jlDSHBaUiIiIiIiIiIiIqFRipzKRbuIIJWmwoERERERERERERESlknJBiZ3KRLqDx740WFAiIiIiIiIiIiKiUomjFIh0k/Kxb29vL2ES3cKCEhEREREREREREZVKyp3KnPKOSHcojn1ra2sYGxtLnEZ3sKBEREREREREREREpRKnvSLSPYIgiMc+C8maxYISERERERERERERlUocoUSke1JSUpCVlQWAhWRNY0GJiIiIiIiIiIiISiWOUCLSPTzupcOCEhEREREREREREZVKihFKJiYmsLS0lDgNEWkCRyZKhwUlIiIiIiIiIiIiKpUUHcsVK1aETCaTOA0RaQJHKEmHBSUiIiIiIiIiIiIqdTIyMpCamgqAncpEuoQjlKTDghIRERERERERERGVOsqjFNipTKQ7lAtKLCZrFgtKREREREREREREVOpw2isi3cRjXzosKBEREREREREREVGpw2mviHST8rFvb28vYRLdw4ISEVEJEgRB6ghEpCG6eLzr4j4T6SpdPd51db+JSHtpe7vGUQpEuklx7FtbW8PY2FjiNLqFBSUiog9kaGgo3s7OzpYwCRFpUlZWlnhbuR3QRor9YxtHpDuUj3dtb+MMDAzE2zk5ORImISIqedrenvM6KkS6RxAE8djnyETNY0GJiOgDWVtbi7cTExMlTEJEmvTy5UvxtnI7oI0U+/fq1SsWlYh0hC61ceXLlxdv87scEWkbbW/POeUdke5JSUkRT/BkIVnzWFAiIvpAtra24vDa2NhYidMQkaY8ePAAAGBubg4rKyuJ06iXs7OzePvhw4cSJiEiTVG0cQDg4uIiYRL1U27jlPebiEgbaHt7zinviHQPj3tpsaBERPSB9PT08NlnnwEAYmJikJaWJnEiIlK35ORkPHr0CADg7u4OmUwmcSL1cnd3F29fu3ZNwiREpCnKx7pyG6CNlPfv+vXrEiYhIip52t6eK0YomZiYwNLSUuI0RKQJHJkoLRaUiIhKQKNGjQAAcrkcZ8+elTgNEanbmTNnxNuNGzeWMIlmKO/jqVOnJExCRJqQmZmJiIgIAPmjd7T9h7qbm5vYCXn69GnI5XKJExERlYw3b96Iv0/LlSuHGjVqSJyo5ClGKlSsWFHrT/IionwcoSQtFpSIiEqAj4+PeDskJETCJESkCcrHeZs2bSRMohlNmzaFiYkJAGD//v3Iy8uTOBERqdORI0fEeel1oY3T19dH69atAeRfayQ8PFziREREJePcuXNISkoCAHh7e0NPT7u6ATMyMpCSkgKAncpEuoQjlKSlXZ8kREQS8fHxgbm5OQBgx44dnPaOSIulpqZi9+7dAICyZcuKnZDazMTEBO3btwcA/P333zh48KDEiYhIndavXy/e7tmzp4RJNKdHjx7ibeX9JyIqzZTbM+V2Tlsoj1JgpzKR7lAuKLGYrHksKBERlQBTU1P07t0bAJCWloZ169ZJnIiI1OWXX37B69evAQB9+/aFsbGxxIk0Y/DgweLtxYsXQxAECdMQkbpERUXhwIEDAAAnJyd4e3tLnEgzunXrhrJlywIAfv/9d8TFxUmciIjowzx79gzbtm0DAFhZWaFLly4SJyp5nPaKSDfx2JcWC0pERCVk/Pjx4u358+cjNTVVwjREpA7JyckICgoCAMhkMpXjXtu1bdsWrq6uAPKnTwkNDZU4ERGpw/Tp08WC8bhx41CmTBmJE2mGqakpRo4cCQDIycnBrFmzJE5ERPRhZs6cidzcXADAN998I05frE047RWRblI+9u3t7SVMoptYUCIiKiE1a9ZEr169AACJiYmYPn26xImIqKQFBASI89D369dPKy9s/C56enoIDAwU748dOxYZGRnSBSKiEnf48GHs2bMHAFChQgV88803EifSLH9/f1hYWAAA1q1bhwsXLkiciIjovwkPD8eGDRsAAJaWlvj2228lTqQeHKVApJsUx761tbXOzBjyMWFBiYioBAUFBcHU1BQAEBwczOuMEGmRvXv3Yu3atQAAc3NzzJ8/X+JEmvfVV1/By8sLABAbG4sJEyZIG4iISkxCQoLK1JYLFiwQrw+pK2xtbTFz5kwAgCAI6N+/P0ecE1Gpk5KSgv79+4ujTWfNmoXy5ctLnEo9eB0VIt0jCIJ47HNkojRYUCIiKkEuLi5YsGCBeL9fv364c+eOhImIqCTcvHkTAwYMEO8vWrQITk5OEiaShkwmw9q1a8UpU9auXYvg4GCJUxHRh8rMzES3bt0QHx8PAPD19cXAgQMlTiWN8ePHo1GjRgDyC+e9e/cWp4wiIvrY5eTkoFevXnj06BEAoEmTJhg7dqzEqdSHU94R6Z6UlBRkZWUBYCFZKiwoERGVsDFjxqBbt24AgNTUVPj4+CA6OlriVET0X929exc+Pj5IS0sDkD9KZ/jw4RKnkk6NGjWwZs0a8f7YsWOxadMmCRMR0YdQFJMU07s5Ojpi06ZNkMlkEieTRpkyZfDHH3/A2toaABAaGoqvv/6aRSUi+ujl5OSgX79+OHr0KACgfPny+P3336Gvry9xMvXhlHdEuofHvfRYUCIiKmEymQybN29G/fr1AeSfNdW0aVOEhYVJnIyI3tfp06fh5eWFhIQEAECjRo2wfv16ne1oVRgwYACmTp0KIH/KAT8/P8yfP1+cWoWISoeEhAR4e3vjyJEjAAALCwvs378fFSpUkDiZtKpUqYKQkBAYGRkBAHbs2IFOnTohJSVF2mBERO+QnJyMjh07YteuXQAAY2Nj7N27Fy4uLhInUy/FCCUTExNYWlpKnIaINIEjE6XHghIRkRqYm5sjNDQUdevWBQC8fPkSLVu2xI8//sgzXIlKgdzcXMyePRve3t5ISkoCANSvXx+HDh2CmZmZxOk+DvPmzVOZQuW7775D586dxSmziOjjFhoainr16uH8+fMA8r+7HDp0CPXq1ZM42cehWbNm2LNnj1hUOnLkCOrVq4dz585JnIyISNWZM2dQr149HDt2DEB+MSkkJARNmzaVOJn6KUYqVKxYUedP+CLSFRyhJD0WlIiI1MTGxganTp2Ct7c3ACAvLw8zZsyAh4cHDh06xDP5iT5CgiDgwIEDqFu3LmbOnIk3b94AANq2bYuTJ0+KUyBR/mjM5cuXY+7cueKyAwcOwNXVFYsWLUJGRoaE6YjoXaKjo/Hll1+iXbt2Kh1xZ86c0YnOx/fRvn17HDt2TLyY/ePHj9GsWTMMHDgQjx8/ljYcEem8R48eYcCAAWjRogWePHkCIP836PHjx9G2bVuJ06lfRkaGOHKUncpEuoMjlKTHghIRkRqVK1cOhw8fxvTp06Gnl9/k3r59Gx06dEC9evWwevVqJCYmSpySiBISEhAcHIw6deqgU6dOuHv3LgBAX18fM2fOxIEDBziNRiFkMhmmT5+OgwcPwtbWFkD+teMmT54MFxcXTJ06Fbdv32YBnUhiWVlZ2LdvH7p27Qo3NzdxSiQA8PHxwbVr1+Dh4SFhwo+Xl5cXrl69Ck9PT3HZ5s2b8cknn6B3794IDQ1FTk6OhAmJSJfk5OTg8OHD6NWrFz799FNs2bJFfMzLywvXrl1Taa+0mfIoBXYqE+kO5YISi8nSkAn8hV/inJycEBcXB0dHRzx79uyj2RZRcfDvV30uX76MUaNG4cqVKyrLZTIZ6tWrh4YNG8LV1RUODg4wMzMTC1BEVLLkcjlev36N58+fIyoqChcvXsSNGzcKFD0aNWqE4OBg8XpoVLSXL18iICAAGzZsKPBeOjs7w9PTEzVr1oSzszPKlSun1ReIJpKSIAjIzs5GYmIiYmNjcfXqVVy4cKHAqEE7OzssWLAAfn5+nCaoGN68eYNVq1bhhx9+KHAtJQsLC3h6eqJevXqoWrUqbGxsYGhoyPeViD6IIAjIycnBy5cvERsbi+vXryM8PBzp6ekq61lZWWHOnDkYOXKkTn2/CgsLg5eXFwCgY8eOGDVqlMSJiEgTgoKCcObMGQD5IzUrV64sbSAdxIKSGig60fX09D74LIkXL15ALpeXyLaIiqMk/+YU22JB6f/I5XKEhIRg4cKFuHTpktRxiKgQjRs3RkBAALp06cLOwP/g1q1bWLBgAXbs2IG8vDyp4xDRWypWrIhx48Zh1KhRsLCwkDpOqZOcnIzly5dj1apVHGVORJKys7PDqFGjMG7cOFhZWUkdR+N27NiBXr16SR2DiCSUmZkJY2NjqWPoHBaU1MDNzQ1RUVFSxyD6aLi6uuLevXtSx/joREZGYvv27Th8+DBu3rzJKaGIJCKTyVCnTh20b98evXr1Qu3ataWOpBUSEhKwY8cO7Nu3D+Hh4cjMzJQ6EpHOcnR0hI+PD3r06AFfX1+UKVNG6kilXnZ2Ng4ePIg9e/bg+PHjSEhIkDoSEekAe3t7eHt7o3v37ujQoQMMDQ2ljiSZkydPonXr1lLHICKJ1KlTB5GRkVLH0EksKKnBrl278P333yMtLe2Dt5WZmYm0tDRYWFjAxMSkBNIRFa2k/+YsLCwwZ84c9OzZswTSaa/U1FTcunULDx8+xN9//82L2ROpmZmZGezs7FC1alXUqlWL10dSs9zcXNy7dw/R0dF48eIFXr16BblcLnUsIq1laGgIa2truLi4wN3dHY6OjhxxqUaCIODJkye4e/cu/vrrLyQlJSE3N1fqWESkBQwMDGBtbY1KlSrB3d0dzs7ObM+V7NmzB7dv35Y6BhFpmImJCb766iu4uLhIHUUnsaBEREREREREREREREREReIV34mIiIiIiIiIiIiIiKhILCgRERERERERERERERFRkVhQIiIiIiIiIiIiIiIioiKxoERERERERERERERERERFYkGJiIiIiIiIiIiIiIiIisSCEhERERERERERERERERWJBSUiIiIiIiIiIiIiIiIqEgtKREREREREREREREREVCQWlIiIiIiIiIiIiIiIiKhILCgRERERERERERERERFRkVhQIiIiIiIiIiIiIiIioiKxoERERERERERERERERERF+n9T6XmDDZibFAAAAABJRU5ErkJggg==\n",
         "text/plain": "<Figure size 1700x600 with 1 Axes>"
        },
        "metadata": {},
        "output_type": "display_data"
       }
      ]
     }
    },
    "c3c3af09adee482d98d9b821dddee1da": {
     "model_module": "@jupyter-widgets/controls",
     "model_module_version": "1.5.0",
     "model_name": "VBoxModel",
     "state": {
      "_dom_classes": [
       "widget-interact"
      ],
      "_model_module": "@jupyter-widgets/controls",
      "_model_module_version": "1.5.0",
      "_model_name": "VBoxModel",
      "_view_count": null,
      "_view_module": "@jupyter-widgets/controls",
      "_view_module_version": "1.5.0",
      "_view_name": "VBoxView",
      "box_style": "",
      "children": [
       "IPY_MODEL_0ffc07269d0344819ab004c930fa8947",
       "IPY_MODEL_b8b92fa0a39740f1b35d99aeaa4c0dd6"
      ],
      "layout": "IPY_MODEL_0dc4c60075c14ea4932c8dd4650c3708"
     }
    },
    "cfcc8fb639154ed890a239a9eb46c842": {
     "model_module": "@jupyter-widgets/base",
     "model_module_version": "1.2.0",
     "model_name": "LayoutModel",
     "state": {
      "_model_module": "@jupyter-widgets/base",
      "_model_module_version": "1.2.0",
      "_model_name": "LayoutModel",
      "_view_count": null,
      "_view_module": "@jupyter-widgets/base",
      "_view_module_version": "1.2.0",
      "_view_name": "LayoutView",
      "align_content": null,
      "align_items": null,
      "align_self": null,
      "border": null,
      "bottom": null,
      "display": null,
      "flex": null,
      "flex_flow": null,
      "grid_area": null,
      "grid_auto_columns": null,
      "grid_auto_flow": null,
      "grid_auto_rows": null,
      "grid_column": null,
      "grid_gap": null,
      "grid_row": null,
      "grid_template_areas": null,
      "grid_template_columns": null,
      "grid_template_rows": null,
      "height": null,
      "justify_content": null,
      "justify_items": null,
      "left": null,
      "margin": null,
      "max_height": null,
      "max_width": null,
      "min_height": null,
      "min_width": null,
      "object_fit": null,
      "object_position": null,
      "order": null,
      "overflow": null,
      "overflow_x": null,
      "overflow_y": null,
      "padding": null,
      "right": null,
      "top": null,
      "visibility": null,
      "width": null
     }
    },
    "dad59071c6a14ab483e429e65b6354b4": {
     "model_module": "@jupyter-widgets/base",
     "model_module_version": "1.2.0",
     "model_name": "LayoutModel",
     "state": {
      "_model_module": "@jupyter-widgets/base",
      "_model_module_version": "1.2.0",
      "_model_name": "LayoutModel",
      "_view_count": null,
      "_view_module": "@jupyter-widgets/base",
      "_view_module_version": "1.2.0",
      "_view_name": "LayoutView",
      "align_content": null,
      "align_items": null,
      "align_self": null,
      "border": null,
      "bottom": null,
      "display": null,
      "flex": null,
      "flex_flow": null,
      "grid_area": null,
      "grid_auto_columns": null,
      "grid_auto_flow": null,
      "grid_auto_rows": null,
      "grid_column": null,
      "grid_gap": null,
      "grid_row": null,
      "grid_template_areas": null,
      "grid_template_columns": null,
      "grid_template_rows": null,
      "height": null,
      "justify_content": null,
      "justify_items": null,
      "left": null,
      "margin": null,
      "max_height": null,
      "max_width": null,
      "min_height": null,
      "min_width": null,
      "object_fit": null,
      "object_position": null,
      "order": null,
      "overflow": null,
      "overflow_x": null,
      "overflow_y": null,
      "padding": null,
      "right": null,
      "top": null,
      "visibility": "hidden",
      "width": null
     }
    },
    "dae6e5b649ef44b391aac06bb27d7562": {
     "model_module": "@jupyter-widgets/controls",
     "model_module_version": "1.5.0",
     "model_name": "DescriptionStyleModel",
     "state": {
      "_model_module": "@jupyter-widgets/controls",
      "_model_module_version": "1.5.0",
      "_model_name": "DescriptionStyleModel",
      "_view_count": null,
      "_view_module": "@jupyter-widgets/base",
      "_view_module_version": "1.2.0",
      "_view_name": "StyleView",
      "description_width": ""
     }
    },
    "dcd399251f824662851c0e908a56620e": {
     "model_module": "@jupyter-widgets/controls",
     "model_module_version": "1.5.0",
     "model_name": "HTMLModel",
     "state": {
      "_dom_classes": [],
      "_model_module": "@jupyter-widgets/controls",
      "_model_module_version": "1.5.0",
      "_model_name": "HTMLModel",
      "_view_count": null,
      "_view_module": "@jupyter-widgets/controls",
      "_view_module_version": "1.5.0",
      "_view_name": "HTMLView",
      "description": "",
      "description_tooltip": null,
      "layout": "IPY_MODEL_46e2c71b566f4d6ca271a26f005958de",
      "placeholder": "​",
      "style": "IPY_MODEL_dae6e5b649ef44b391aac06bb27d7562",
      "value": "Processing: 100%"
     }
    },
    "e06802da236a41ff8467f4ac031864ae": {
     "model_module": "@jupyter-widgets/controls",
     "model_module_version": "1.5.0",
     "model_name": "HTMLModel",
     "state": {
      "_dom_classes": [],
      "_model_module": "@jupyter-widgets/controls",
      "_model_module_version": "1.5.0",
      "_model_name": "HTMLModel",
      "_view_count": null,
      "_view_module": "@jupyter-widgets/controls",
      "_view_module_version": "1.5.0",
      "_view_name": "HTMLView",
      "description": "",
      "description_tooltip": null,
      "layout": "IPY_MODEL_cfcc8fb639154ed890a239a9eb46c842",
      "placeholder": "​",
      "style": "IPY_MODEL_4a80ac400e6d4a7395b957425bf63421",
      "value": " 65/65 [06:11&lt;00:00,  3.88s/it]"
     }
    },
    "e6018f2dc0f540b1934a16553307785e": {
     "model_module": "@jupyter-widgets/controls",
     "model_module_version": "1.5.0",
     "model_name": "DescriptionStyleModel",
     "state": {
      "_model_module": "@jupyter-widgets/controls",
      "_model_module_version": "1.5.0",
      "_model_name": "DescriptionStyleModel",
      "_view_count": null,
      "_view_module": "@jupyter-widgets/base",
      "_view_module_version": "1.2.0",
      "_view_name": "StyleView",
      "description_width": ""
     }
    },
    "e8074ba573354828acd7e7b2357cc32f": {
     "model_module": "@jupyter-widgets/base",
     "model_module_version": "1.2.0",
     "model_name": "LayoutModel",
     "state": {
      "_model_module": "@jupyter-widgets/base",
      "_model_module_version": "1.2.0",
      "_model_name": "LayoutModel",
      "_view_count": null,
      "_view_module": "@jupyter-widgets/base",
      "_view_module_version": "1.2.0",
      "_view_name": "LayoutView",
      "align_content": null,
      "align_items": null,
      "align_self": null,
      "border": null,
      "bottom": null,
      "display": null,
      "flex": null,
      "flex_flow": null,
      "grid_area": null,
      "grid_auto_columns": null,
      "grid_auto_flow": null,
      "grid_auto_rows": null,
      "grid_column": null,
      "grid_gap": null,
      "grid_row": null,
      "grid_template_areas": null,
      "grid_template_columns": null,
      "grid_template_rows": null,
      "height": null,
      "justify_content": null,
      "justify_items": null,
      "left": null,
      "margin": null,
      "max_height": null,
      "max_width": null,
      "min_height": null,
      "min_width": null,
      "object_fit": null,
      "object_position": null,
      "order": null,
      "overflow": null,
      "overflow_x": null,
      "overflow_y": null,
      "padding": null,
      "right": null,
      "top": null,
      "visibility": null,
      "width": null
     }
    },
    "e80e6eb1d5ff4477a4730756e48f479e": {
     "model_module": "@jupyter-widgets/controls",
     "model_module_version": "1.5.0",
     "model_name": "DescriptionStyleModel",
     "state": {
      "_model_module": "@jupyter-widgets/controls",
      "_model_module_version": "1.5.0",
      "_model_name": "DescriptionStyleModel",
      "_view_count": null,
      "_view_module": "@jupyter-widgets/base",
      "_view_module_version": "1.2.0",
      "_view_name": "StyleView",
      "description_width": ""
     }
    },
    "ed7436dd37b548b39571e265f65faee0": {
     "model_module": "@jupyter-widgets/controls",
     "model_module_version": "1.5.0",
     "model_name": "ProgressStyleModel",
     "state": {
      "_model_module": "@jupyter-widgets/controls",
      "_model_module_version": "1.5.0",
      "_model_name": "ProgressStyleModel",
      "_view_count": null,
      "_view_module": "@jupyter-widgets/base",
      "_view_module_version": "1.2.0",
      "_view_name": "StyleView",
      "bar_color": null,
      "description_width": ""
     }
    },
    "eeab58609c79484fa5c4818115719d19": {
     "model_module": "@jupyter-widgets/controls",
     "model_module_version": "1.5.0",
     "model_name": "ToggleButtonsStyleModel",
     "state": {
      "_model_module": "@jupyter-widgets/controls",
      "_model_module_version": "1.5.0",
      "_model_name": "ToggleButtonsStyleModel",
      "_view_count": null,
      "_view_module": "@jupyter-widgets/base",
      "_view_module_version": "1.2.0",
      "_view_name": "StyleView",
      "button_width": "",
      "description_width": "",
      "font_weight": ""
     }
    },
    "ef7ad1b6d4e74aaf973631f4a6ed7924": {
     "model_module": "@jupyter-widgets/controls",
     "model_module_version": "1.5.0",
     "model_name": "ProgressStyleModel",
     "state": {
      "_model_module": "@jupyter-widgets/controls",
      "_model_module_version": "1.5.0",
      "_model_name": "ProgressStyleModel",
      "_view_count": null,
      "_view_module": "@jupyter-widgets/base",
      "_view_module_version": "1.2.0",
      "_view_name": "StyleView",
      "bar_color": null,
      "description_width": ""
     }
    },
    "f7ee5ab0b7834a939390faf1fef8c07a": {
     "model_module": "@jupyter-widgets/base",
     "model_module_version": "1.2.0",
     "model_name": "LayoutModel",
     "state": {
      "_model_module": "@jupyter-widgets/base",
      "_model_module_version": "1.2.0",
      "_model_name": "LayoutModel",
      "_view_count": null,
      "_view_module": "@jupyter-widgets/base",
      "_view_module_version": "1.2.0",
      "_view_name": "LayoutView",
      "align_content": null,
      "align_items": null,
      "align_self": null,
      "border": null,
      "bottom": null,
      "display": null,
      "flex": null,
      "flex_flow": null,
      "grid_area": null,
      "grid_auto_columns": null,
      "grid_auto_flow": null,
      "grid_auto_rows": null,
      "grid_column": null,
      "grid_gap": null,
      "grid_row": null,
      "grid_template_areas": null,
      "grid_template_columns": null,
      "grid_template_rows": null,
      "height": null,
      "justify_content": null,
      "justify_items": null,
      "left": null,
      "margin": null,
      "max_height": null,
      "max_width": null,
      "min_height": null,
      "min_width": null,
      "object_fit": null,
      "object_position": null,
      "order": null,
      "overflow": null,
      "overflow_x": null,
      "overflow_y": null,
      "padding": null,
      "right": null,
      "top": null,
      "visibility": "hidden",
      "width": null
     }
    },
    "f925ba46c3d54a72ac35faba40c2a294": {
     "model_module": "@jupyter-widgets/controls",
     "model_module_version": "1.5.0",
     "model_name": "HBoxModel",
     "state": {
      "_dom_classes": [],
      "_model_module": "@jupyter-widgets/controls",
      "_model_module_version": "1.5.0",
      "_model_name": "HBoxModel",
      "_view_count": null,
      "_view_module": "@jupyter-widgets/controls",
      "_view_module_version": "1.5.0",
      "_view_name": "HBoxView",
      "box_style": "",
      "children": [
       "IPY_MODEL_a6c227eb503e4010bd284260cb6b5983",
       "IPY_MODEL_0148b8747e054bc7b504617d7e551ed5",
       "IPY_MODEL_6e4519255e044467b17616cee0a81386"
      ],
      "layout": "IPY_MODEL_92d8addf6e244b009b1f5008035c2ddc"
     }
    },
    "f9eaa3f7464e4f9db5f2f50ef69dec82": {
     "model_module": "@jupyter-widgets/base",
     "model_module_version": "1.2.0",
     "model_name": "LayoutModel",
     "state": {
      "_model_module": "@jupyter-widgets/base",
      "_model_module_version": "1.2.0",
      "_model_name": "LayoutModel",
      "_view_count": null,
      "_view_module": "@jupyter-widgets/base",
      "_view_module_version": "1.2.0",
      "_view_name": "LayoutView",
      "align_content": null,
      "align_items": null,
      "align_self": null,
      "border": null,
      "bottom": null,
      "display": null,
      "flex": null,
      "flex_flow": null,
      "grid_area": null,
      "grid_auto_columns": null,
      "grid_auto_flow": null,
      "grid_auto_rows": null,
      "grid_column": null,
      "grid_gap": null,
      "grid_row": null,
      "grid_template_areas": null,
      "grid_template_columns": null,
      "grid_template_rows": null,
      "height": null,
      "justify_content": null,
      "justify_items": null,
      "left": null,
      "margin": null,
      "max_height": null,
      "max_width": null,
      "min_height": null,
      "min_width": null,
      "object_fit": null,
      "object_position": null,
      "order": null,
      "overflow": null,
      "overflow_x": null,
      "overflow_y": null,
      "padding": null,
      "right": null,
      "top": null,
      "visibility": null,
      "width": null
     }
    },
    "fdf7faa1a1c9417b86cc31ca4b5252ca": {
     "model_module": "@jupyter-widgets/base",
     "model_module_version": "1.2.0",
     "model_name": "LayoutModel",
     "state": {
      "_model_module": "@jupyter-widgets/base",
      "_model_module_version": "1.2.0",
      "_model_name": "LayoutModel",
      "_view_count": null,
      "_view_module": "@jupyter-widgets/base",
      "_view_module_version": "1.2.0",
      "_view_name": "LayoutView",
      "align_content": null,
      "align_items": null,
      "align_self": null,
      "border": null,
      "bottom": null,
      "display": null,
      "flex": null,
      "flex_flow": null,
      "grid_area": null,
      "grid_auto_columns": null,
      "grid_auto_flow": null,
      "grid_auto_rows": null,
      "grid_column": null,
      "grid_gap": null,
      "grid_row": null,
      "grid_template_areas": null,
      "grid_template_columns": null,
      "grid_template_rows": null,
      "height": null,
      "justify_content": null,
      "justify_items": null,
      "left": null,
      "margin": null,
      "max_height": null,
      "max_width": null,
      "min_height": null,
      "min_width": null,
      "object_fit": null,
      "object_position": null,
      "order": null,
      "overflow": null,
      "overflow_x": null,
      "overflow_y": null,
      "padding": null,
      "right": null,
      "top": null,
      "visibility": null,
      "width": null
     }
    }
   }
  }
 },
 "nbformat": 4,
 "nbformat_minor": 1
}
