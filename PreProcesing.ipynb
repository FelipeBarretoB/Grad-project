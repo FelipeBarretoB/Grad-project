{
 "cells": [
  {
   "cell_type": "markdown",
   "source": [
    "## Este es el primer notebook para el preprocesamiento de los data sets\n",
    "### Para este momento, tenemos que unir el dataset de: Internet Firewall Data, con The UNSW-NB15 Dataset"
   ],
   "metadata": {
    "collapsed": false
   },
   "id": "3b60aecc7e78d36f"
  },
  {
   "cell_type": "markdown",
   "source": [
    "# TODO re formatear el notebook, dado que ya solo se busca limpiar 3 datasets por separado "
   ],
   "metadata": {
    "collapsed": false
   },
   "id": "3f8cb5c5c37b2d7f"
  },
  {
   "cell_type": "code",
   "execution_count": 1,
   "id": "initial_id",
   "metadata": {
    "collapsed": true,
    "ExecuteTime": {
     "end_time": "2024-02-29T02:14:51.859601100Z",
     "start_time": "2024-02-29T02:14:46.384120300Z"
    }
   },
   "outputs": [],
   "source": [
    "#Importamos las librerias \n",
    "\n",
    "import pandas as pd"
   ]
  },
  {
   "cell_type": "code",
   "outputs": [],
   "source": [
    "#Cargamos el data set\n",
    "baseDf = pd.read_csv('DataSets/log2.csv')\n",
    "#El basedf es el formato al que queremos llevar todos los datos"
   ],
   "metadata": {
    "collapsed": false,
    "ExecuteTime": {
     "end_time": "2024-02-25T00:17:47.699395600Z",
     "start_time": "2024-02-25T00:17:47.631381Z"
    }
   },
   "id": "6caebe958088f1e2",
   "execution_count": 95
  },
  {
   "cell_type": "markdown",
   "source": [
    "## Log2.csv tiene 12 columnas, las cuales son: \n",
    "1. Source Port\n",
    "2. Destination Port\n",
    "3. NAT Source Port\n",
    "4. NAT Destination Port\n",
    "5. Action\n",
    "6. Bytes (suma de bytes sent y bytes received)\n",
    "7. Bytes Sent\n",
    "8. Bytes Received\n",
    "9. Packets\n",
    "10. Elapsed Time (sec)\n",
    "11. pkts_sent\n",
    "12. pkts_received\n",
    "\n",
    "Donde action es nuestra columna target"
   ],
   "metadata": {
    "collapsed": false
   },
   "id": "b760f03083a01ca"
  },
  {
   "cell_type": "markdown",
   "source": [
    "Primero, verifiquemos que el dataset sea usable"
   ],
   "metadata": {
    "collapsed": false
   },
   "id": "77eeda57762527f3"
  },
  {
   "cell_type": "code",
   "outputs": [
    {
     "data": {
      "text/plain": "Action\nallow         37640\ndeny          14987\ndrop          12851\nreset-both       54\nName: count, dtype: int64"
     },
     "execution_count": 96,
     "metadata": {},
     "output_type": "execute_result"
    }
   ],
   "source": [
    "baseDf['Action'].value_counts()"
   ],
   "metadata": {
    "collapsed": false,
    "ExecuteTime": {
     "end_time": "2024-02-25T00:17:47.740404300Z",
     "start_time": "2024-02-25T00:17:47.693395Z"
    }
   },
   "id": "57300262b1d4999",
   "execution_count": 96
  },
  {
   "cell_type": "code",
   "outputs": [
    {
     "data": {
      "text/plain": "Source Port              int64\nDestination Port         int64\nNAT Source Port          int64\nNAT Destination Port     int64\nAction                  object\nBytes                    int64\nBytes Sent               int64\nBytes Received           int64\nPackets                  int64\nElapsed Time (sec)       int64\npkts_sent                int64\npkts_received            int64\ndtype: object"
     },
     "execution_count": 97,
     "metadata": {},
     "output_type": "execute_result"
    }
   ],
   "source": [
    "#Verificar que no tenga valores nulos\n",
    "assert(baseDf.isnull().sum().sum() == 0)\n",
    "#Verificar los types de las columnas\n",
    "baseDf.dtypes"
   ],
   "metadata": {
    "collapsed": false,
    "ExecuteTime": {
     "end_time": "2024-02-25T00:17:47.743405800Z",
     "start_time": "2024-02-25T00:17:47.708397Z"
    }
   },
   "id": "2a3c76629dfa59d9",
   "execution_count": 97
  },
  {
   "cell_type": "markdown",
   "source": [
    "Aqui tenemos un pequeño inconveniente, el Action es un objecto, y necesitamos que sea un entero, por lo que vamos a cambiar los valores de la columna a 0 y 4, dado que tenemos 4 clases, las cuales son:\n"
   ],
   "metadata": {
    "collapsed": false
   },
   "id": "e27881c597f1d8c0"
  },
  {
   "cell_type": "code",
   "outputs": [
    {
     "data": {
      "text/plain": "   Source Port  Destination Port  NAT Source Port  NAT Destination Port  \\\n0        57222                53            54587                    53   \n1        56258              3389            56258                  3389   \n2         6881             50321            43265                 50321   \n3        50553              3389            50553                  3389   \n4        50002               443            45848                   443   \n\n   Action  Bytes  Bytes Sent  Bytes Received  Packets  Elapsed Time (sec)  \\\n0       0    177          94              83        2                  30   \n1       0   4768        1600            3168       19                  17   \n2       0    238         118             120        2                1199   \n3       0   3327        1438            1889       15                  17   \n4       0  25358        6778           18580       31                  16   \n\n   pkts_sent  pkts_received  \n0          1              1  \n1         10              9  \n2          1              1  \n3          8              7  \n4         13             18  ",
      "text/html": "<div>\n<style scoped>\n    .dataframe tbody tr th:only-of-type {\n        vertical-align: middle;\n    }\n\n    .dataframe tbody tr th {\n        vertical-align: top;\n    }\n\n    .dataframe thead th {\n        text-align: right;\n    }\n</style>\n<table border=\"1\" class=\"dataframe\">\n  <thead>\n    <tr style=\"text-align: right;\">\n      <th></th>\n      <th>Source Port</th>\n      <th>Destination Port</th>\n      <th>NAT Source Port</th>\n      <th>NAT Destination Port</th>\n      <th>Action</th>\n      <th>Bytes</th>\n      <th>Bytes Sent</th>\n      <th>Bytes Received</th>\n      <th>Packets</th>\n      <th>Elapsed Time (sec)</th>\n      <th>pkts_sent</th>\n      <th>pkts_received</th>\n    </tr>\n  </thead>\n  <tbody>\n    <tr>\n      <th>0</th>\n      <td>57222</td>\n      <td>53</td>\n      <td>54587</td>\n      <td>53</td>\n      <td>0</td>\n      <td>177</td>\n      <td>94</td>\n      <td>83</td>\n      <td>2</td>\n      <td>30</td>\n      <td>1</td>\n      <td>1</td>\n    </tr>\n    <tr>\n      <th>1</th>\n      <td>56258</td>\n      <td>3389</td>\n      <td>56258</td>\n      <td>3389</td>\n      <td>0</td>\n      <td>4768</td>\n      <td>1600</td>\n      <td>3168</td>\n      <td>19</td>\n      <td>17</td>\n      <td>10</td>\n      <td>9</td>\n    </tr>\n    <tr>\n      <th>2</th>\n      <td>6881</td>\n      <td>50321</td>\n      <td>43265</td>\n      <td>50321</td>\n      <td>0</td>\n      <td>238</td>\n      <td>118</td>\n      <td>120</td>\n      <td>2</td>\n      <td>1199</td>\n      <td>1</td>\n      <td>1</td>\n    </tr>\n    <tr>\n      <th>3</th>\n      <td>50553</td>\n      <td>3389</td>\n      <td>50553</td>\n      <td>3389</td>\n      <td>0</td>\n      <td>3327</td>\n      <td>1438</td>\n      <td>1889</td>\n      <td>15</td>\n      <td>17</td>\n      <td>8</td>\n      <td>7</td>\n    </tr>\n    <tr>\n      <th>4</th>\n      <td>50002</td>\n      <td>443</td>\n      <td>45848</td>\n      <td>443</td>\n      <td>0</td>\n      <td>25358</td>\n      <td>6778</td>\n      <td>18580</td>\n      <td>31</td>\n      <td>16</td>\n      <td>13</td>\n      <td>18</td>\n    </tr>\n  </tbody>\n</table>\n</div>"
     },
     "execution_count": 98,
     "metadata": {},
     "output_type": "execute_result"
    }
   ],
   "source": [
    "baseDf['Action'] = baseDf['Action'].map({'allow': 0, 'deny': 1, 'drop': 2, 'reset-both': 3})\n",
    "baseDf.head()"
   ],
   "metadata": {
    "collapsed": false,
    "ExecuteTime": {
     "end_time": "2024-02-25T00:17:47.744405500Z",
     "start_time": "2024-02-25T00:17:47.725401Z"
    }
   },
   "id": "d37be9c473c60e6e",
   "execution_count": 98
  },
  {
   "cell_type": "code",
   "outputs": [
    {
     "data": {
      "text/plain": "Source Port             int64\nDestination Port        int64\nNAT Source Port         int64\nNAT Destination Port    int64\nAction                  int64\nBytes                   int64\nBytes Sent              int64\nBytes Received          int64\nPackets                 int64\nElapsed Time (sec)      int64\npkts_sent               int64\npkts_received           int64\ndtype: object"
     },
     "execution_count": 99,
     "metadata": {},
     "output_type": "execute_result"
    }
   ],
   "source": [
    "baseDf.dtypes"
   ],
   "metadata": {
    "collapsed": false,
    "ExecuteTime": {
     "end_time": "2024-02-25T00:17:47.807420200Z",
     "start_time": "2024-02-25T00:17:47.740404300Z"
    }
   },
   "id": "38987d5fb4d7b9b7",
   "execution_count": 99
  },
  {
   "cell_type": "code",
   "outputs": [
    {
     "data": {
      "text/plain": "65532"
     },
     "execution_count": 100,
     "metadata": {},
     "output_type": "execute_result"
    }
   ],
   "source": [
    "baseDf.__len__()"
   ],
   "metadata": {
    "collapsed": false,
    "ExecuteTime": {
     "end_time": "2024-02-25T00:17:47.876435900Z",
     "start_time": "2024-02-25T00:17:47.788415Z"
    }
   },
   "id": "1121a8e9e8b87c16",
   "execution_count": 100
  },
  {
   "cell_type": "code",
   "outputs": [
    {
     "data": {
      "text/plain": "Action                  1.000000\nNAT Source Port         0.686893\nNAT Destination Port    0.214765\nElapsed Time (sec)      0.170684\nDestination Port        0.095110\nSource Port             0.038343\nBytes Received          0.023794\npkts_received           0.021679\nPackets                 0.015562\nBytes                   0.013546\npkts_sent               0.009842\ndtype: float64"
     },
     "execution_count": 101,
     "metadata": {},
     "output_type": "execute_result"
    }
   ],
   "source": [
    "#mostramos la correlacion entre las columnas y el target\n",
    "baseDf.corrwith(baseDf['Action']).abs().nlargest(11)"
   ],
   "metadata": {
    "collapsed": false,
    "ExecuteTime": {
     "end_time": "2024-02-25T00:17:47.923445600Z",
     "start_time": "2024-02-25T00:17:47.805419100Z"
    }
   },
   "id": "5b2c02392fbc989e",
   "execution_count": 101
  },
  {
   "cell_type": "code",
   "outputs": [
    {
     "data": {
      "text/plain": "NAT Source Port\n0        28432\n48817       83\n58638       51\n50116       15\n7986         5\n         ...  \n2063         1\n33661        1\n36797        1\n14122        1\n13485        1\nName: count, Length: 29152, dtype: int64"
     },
     "execution_count": 102,
     "metadata": {},
     "output_type": "execute_result"
    }
   ],
   "source": [
    "baseDf['NAT Source Port'].value_counts()"
   ],
   "metadata": {
    "collapsed": false,
    "ExecuteTime": {
     "end_time": "2024-02-25T00:17:47.924446700Z",
     "start_time": "2024-02-25T00:17:47.820424100Z"
    }
   },
   "id": "f842c7603c0fc235",
   "execution_count": 102
  },
  {
   "cell_type": "markdown",
   "source": [
    "Aquí tenemos algo interesante, podemos ver que NAT Source Port tiene una alta correlacion con Action, pero al observar, podemos ver que la gran mayoria de los valores son 0, y el dataset no explica que significa esto. Por lo que vamos a quitar esta columna"
   ],
   "metadata": {
    "collapsed": false
   },
   "id": "e642699a6a592fed"
  },
  {
   "cell_type": "code",
   "outputs": [
    {
     "data": {
      "text/plain": "       Action  NAT Source Port\n143         1                0\n144         1                0\n156         1                0\n158         1                0\n159         1                0\n...       ...              ...\n65518       1                0\n65521       1                0\n65522       1                0\n65523       1                0\n65524       1                0\n\n[14987 rows x 2 columns]",
      "text/html": "<div>\n<style scoped>\n    .dataframe tbody tr th:only-of-type {\n        vertical-align: middle;\n    }\n\n    .dataframe tbody tr th {\n        vertical-align: top;\n    }\n\n    .dataframe thead th {\n        text-align: right;\n    }\n</style>\n<table border=\"1\" class=\"dataframe\">\n  <thead>\n    <tr style=\"text-align: right;\">\n      <th></th>\n      <th>Action</th>\n      <th>NAT Source Port</th>\n    </tr>\n  </thead>\n  <tbody>\n    <tr>\n      <th>143</th>\n      <td>1</td>\n      <td>0</td>\n    </tr>\n    <tr>\n      <th>144</th>\n      <td>1</td>\n      <td>0</td>\n    </tr>\n    <tr>\n      <th>156</th>\n      <td>1</td>\n      <td>0</td>\n    </tr>\n    <tr>\n      <th>158</th>\n      <td>1</td>\n      <td>0</td>\n    </tr>\n    <tr>\n      <th>159</th>\n      <td>1</td>\n      <td>0</td>\n    </tr>\n    <tr>\n      <th>...</th>\n      <td>...</td>\n      <td>...</td>\n    </tr>\n    <tr>\n      <th>65518</th>\n      <td>1</td>\n      <td>0</td>\n    </tr>\n    <tr>\n      <th>65521</th>\n      <td>1</td>\n      <td>0</td>\n    </tr>\n    <tr>\n      <th>65522</th>\n      <td>1</td>\n      <td>0</td>\n    </tr>\n    <tr>\n      <th>65523</th>\n      <td>1</td>\n      <td>0</td>\n    </tr>\n    <tr>\n      <th>65524</th>\n      <td>1</td>\n      <td>0</td>\n    </tr>\n  </tbody>\n</table>\n<p>14987 rows × 2 columns</p>\n</div>"
     },
     "execution_count": 103,
     "metadata": {},
     "output_type": "execute_result"
    }
   ],
   "source": [
    "filteredDf=baseDf[baseDf['Action'] == 1]\n",
    "filteredDf[['Action','NAT Source Port']]"
   ],
   "metadata": {
    "collapsed": false,
    "ExecuteTime": {
     "end_time": "2024-02-25T00:17:47.927447Z",
     "start_time": "2024-02-25T00:17:47.869433500Z"
    }
   },
   "id": "202482bf95af8bfc",
   "execution_count": 103
  },
  {
   "cell_type": "code",
   "outputs": [
    {
     "data": {
      "text/plain": "NAT Source Port\n0        14975\n5575         2\n53193        1\n49630        1\n59373        1\n24378        1\n62347        1\n59312        1\n51051        1\n55898        1\n36930        1\n13747        1\nName: count, dtype: int64"
     },
     "execution_count": 104,
     "metadata": {},
     "output_type": "execute_result"
    }
   ],
   "source": [
    "filteredDf['NAT Source Port'].value_counts()"
   ],
   "metadata": {
    "collapsed": false,
    "ExecuteTime": {
     "end_time": "2024-02-25T00:17:47.928447600Z",
     "start_time": "2024-02-25T00:17:47.885436900Z"
    }
   },
   "id": "5c944fe72abf550c",
   "execution_count": 104
  },
  {
   "cell_type": "markdown",
   "source": [
    "Por esto, vamos a quitar NAT Source Port, y NAT Destination Port"
   ],
   "metadata": {
    "collapsed": false
   },
   "id": "df76d99f851b14d3"
  },
  {
   "cell_type": "code",
   "outputs": [],
   "source": [
    "baseDf = baseDf.drop(columns=['NAT Source Port','NAT Destination Port'])\n"
   ],
   "metadata": {
    "collapsed": false,
    "ExecuteTime": {
     "end_time": "2024-02-25T00:17:47.977754100Z",
     "start_time": "2024-02-25T00:17:47.900440100Z"
    }
   },
   "id": "7db0a765b4979379",
   "execution_count": 105
  },
  {
   "cell_type": "code",
   "outputs": [
    {
     "data": {
      "text/plain": "Action                1.000000\nElapsed Time (sec)    0.170684\nDestination Port      0.095110\nSource Port           0.038343\nBytes Received        0.023794\npkts_received         0.021679\nPackets               0.015562\nBytes                 0.013546\npkts_sent             0.009842\nBytes Sent            0.004570\ndtype: float64"
     },
     "execution_count": 106,
     "metadata": {},
     "output_type": "execute_result"
    }
   ],
   "source": [
    "baseDf.corrwith(baseDf['Action']).abs().nlargest(11)"
   ],
   "metadata": {
    "collapsed": false,
    "ExecuteTime": {
     "end_time": "2024-02-25T00:17:48.003759900Z",
     "start_time": "2024-02-25T00:17:47.948747700Z"
    }
   },
   "id": "507750ba5bbe3a3b",
   "execution_count": 106
  },
  {
   "cell_type": "markdown",
   "source": [
    "## Ahora, vamos a cargar el segundo dataset, el cual es el UNSW-NB15\n",
    "Este está dividido en 5 csv. Pero, en este caso usaremos los UNSW_NB15_training-set.csv y UNSW_NB15_testing-set.csv\n",
    "\n",
    "Las columnas y sus descripciones se puede encontrar en el NUSW-NB15_features.csv, dado que son demasiadas, no seran escritas aquí."
   ],
   "metadata": {
    "collapsed": false
   },
   "id": "d26972fd6c4f4950"
  },
  {
   "cell_type": "code",
   "outputs": [
    {
     "name": "stdout",
     "output_type": "stream",
     "text": [
      "El tamaño del dataset es:  175341\n",
      "El tamaño del dataset es:  257673\n"
     ]
    }
   ],
   "source": [
    "unswDf = pd.read_csv('DataSets/UNSW_NB15_training-set.csv')\n",
    "print(\"El tamaño del dataset es: \",unswDf.__len__())\n",
    "#El skiprows es para saltar la primera fila, la cual es la descripcion de las columnas, dado que lo vamos a pegar al primer df\n",
    "unswTestDf = pd.read_csv('DataSets/UNSW_NB15_testing-set.csv') \n",
    "unswDf = pd.concat([unswDf,unswTestDf],ignore_index=True)\n",
    "#Verificamos que se pegaran bien\n",
    "print(\"El tamaño del dataset es: \",unswDf.__len__())"
   ],
   "metadata": {
    "collapsed": false,
    "ExecuteTime": {
     "end_time": "2024-02-25T00:17:48.789937100Z",
     "start_time": "2024-02-25T00:17:47.963751400Z"
    }
   },
   "id": "a17e28ee47cc01b5",
   "execution_count": 107
  },
  {
   "cell_type": "markdown",
   "source": [
    "Ahora que tenemos el dataset de unsw, queremos reducir sus columnas para que tengan las mismas que el primer dataset, por esto, vamos a quitar las siguientes columnas:\n"
   ],
   "metadata": {
    "collapsed": false
   },
   "id": "94413204cf160ad8"
  },
  {
   "cell_type": "code",
   "outputs": [
    {
     "data": {
      "text/plain": "id                     int64\ndur                  float64\nproto                 object\nservice               object\nstate                 object\nspkts                  int64\ndpkts                  int64\nsbytes                 int64\ndbytes                 int64\nrate                 float64\nsttl                   int64\ndttl                   int64\nsload                float64\ndload                float64\nsloss                  int64\ndloss                  int64\nsinpkt               float64\ndinpkt               float64\nsjit                 float64\ndjit                 float64\nswin                   int64\nstcpb                  int64\ndtcpb                  int64\ndwin                   int64\ntcprtt               float64\nsynack               float64\nackdat               float64\nsmean                  int64\ndmean                  int64\ntrans_depth            int64\nresponse_body_len      int64\nct_srv_src             int64\nct_state_ttl           int64\nct_dst_ltm             int64\nct_src_dport_ltm       int64\nct_dst_sport_ltm       int64\nct_dst_src_ltm         int64\nis_ftp_login           int64\nct_ftp_cmd             int64\nct_flw_http_mthd       int64\nct_src_ltm             int64\nct_srv_dst             int64\nis_sm_ips_ports        int64\nattack_cat            object\nlabel                  int64\ndtype: object"
     },
     "execution_count": 108,
     "metadata": {},
     "output_type": "execute_result"
    }
   ],
   "source": [
    "unswDf.dtypes"
   ],
   "metadata": {
    "collapsed": false,
    "ExecuteTime": {
     "end_time": "2024-02-25T00:17:48.814942Z",
     "start_time": "2024-02-25T00:17:48.790937300Z"
    }
   },
   "id": "a073a50c584937c8",
   "execution_count": 108
  },
  {
   "cell_type": "code",
   "outputs": [],
   "source": [
    "#vamos a usar label encoding para las columnas que son categoricas\n",
    "from sklearn.preprocessing import LabelEncoder\n",
    "le = LabelEncoder()\n",
    "unswDf['proto'] = le.fit_transform(unswDf['proto'])\n",
    "unswDf['service'] = le.fit_transform(unswDf['service'])\n",
    "unswDf['state'] = le.fit_transform(unswDf['state'])\n",
    "unswDf['attack_cat'] = le.fit_transform(unswDf['attack_cat'])"
   ],
   "metadata": {
    "collapsed": false,
    "ExecuteTime": {
     "end_time": "2024-02-25T00:17:48.995983100Z",
     "start_time": "2024-02-25T00:17:48.806940Z"
    }
   },
   "id": "c54ef9c7e9e403d4",
   "execution_count": 109
  },
  {
   "cell_type": "code",
   "outputs": [
    {
     "data": {
      "text/plain": "   id       dur  proto  service  state  spkts  dpkts  sbytes  dbytes  \\\n0   1  0.121478    113        0      4      6      4     258     172   \n1   2  0.649902    113        0      4     14     38     734   42014   \n2   3  1.623129    113        0      4      8     16     364   13186   \n3   4  1.681642    113        3      4     12     12     628     770   \n4   5  0.449454    113        0      4     10      6     534     268   \n\n        rate  ...  ct_dst_sport_ltm  ct_dst_src_ltm  is_ftp_login  ct_ftp_cmd  \\\n0  74.087490  ...                 1               1             0           0   \n1  78.473372  ...                 1               2             0           0   \n2  14.170161  ...                 1               3             0           0   \n3  13.677108  ...                 1               3             1           1   \n4  33.373826  ...                 1              40             0           0   \n\n   ct_flw_http_mthd  ct_src_ltm  ct_srv_dst  is_sm_ips_ports  attack_cat  \\\n0                 0           1           1                0           6   \n1                 0           1           6                0           6   \n2                 0           2           6                0           6   \n3                 0           2           1                0           6   \n4                 0           2          39                0           6   \n\n   label  \n0      0  \n1      0  \n2      0  \n3      0  \n4      0  \n\n[5 rows x 45 columns]",
      "text/html": "<div>\n<style scoped>\n    .dataframe tbody tr th:only-of-type {\n        vertical-align: middle;\n    }\n\n    .dataframe tbody tr th {\n        vertical-align: top;\n    }\n\n    .dataframe thead th {\n        text-align: right;\n    }\n</style>\n<table border=\"1\" class=\"dataframe\">\n  <thead>\n    <tr style=\"text-align: right;\">\n      <th></th>\n      <th>id</th>\n      <th>dur</th>\n      <th>proto</th>\n      <th>service</th>\n      <th>state</th>\n      <th>spkts</th>\n      <th>dpkts</th>\n      <th>sbytes</th>\n      <th>dbytes</th>\n      <th>rate</th>\n      <th>...</th>\n      <th>ct_dst_sport_ltm</th>\n      <th>ct_dst_src_ltm</th>\n      <th>is_ftp_login</th>\n      <th>ct_ftp_cmd</th>\n      <th>ct_flw_http_mthd</th>\n      <th>ct_src_ltm</th>\n      <th>ct_srv_dst</th>\n      <th>is_sm_ips_ports</th>\n      <th>attack_cat</th>\n      <th>label</th>\n    </tr>\n  </thead>\n  <tbody>\n    <tr>\n      <th>0</th>\n      <td>1</td>\n      <td>0.121478</td>\n      <td>113</td>\n      <td>0</td>\n      <td>4</td>\n      <td>6</td>\n      <td>4</td>\n      <td>258</td>\n      <td>172</td>\n      <td>74.087490</td>\n      <td>...</td>\n      <td>1</td>\n      <td>1</td>\n      <td>0</td>\n      <td>0</td>\n      <td>0</td>\n      <td>1</td>\n      <td>1</td>\n      <td>0</td>\n      <td>6</td>\n      <td>0</td>\n    </tr>\n    <tr>\n      <th>1</th>\n      <td>2</td>\n      <td>0.649902</td>\n      <td>113</td>\n      <td>0</td>\n      <td>4</td>\n      <td>14</td>\n      <td>38</td>\n      <td>734</td>\n      <td>42014</td>\n      <td>78.473372</td>\n      <td>...</td>\n      <td>1</td>\n      <td>2</td>\n      <td>0</td>\n      <td>0</td>\n      <td>0</td>\n      <td>1</td>\n      <td>6</td>\n      <td>0</td>\n      <td>6</td>\n      <td>0</td>\n    </tr>\n    <tr>\n      <th>2</th>\n      <td>3</td>\n      <td>1.623129</td>\n      <td>113</td>\n      <td>0</td>\n      <td>4</td>\n      <td>8</td>\n      <td>16</td>\n      <td>364</td>\n      <td>13186</td>\n      <td>14.170161</td>\n      <td>...</td>\n      <td>1</td>\n      <td>3</td>\n      <td>0</td>\n      <td>0</td>\n      <td>0</td>\n      <td>2</td>\n      <td>6</td>\n      <td>0</td>\n      <td>6</td>\n      <td>0</td>\n    </tr>\n    <tr>\n      <th>3</th>\n      <td>4</td>\n      <td>1.681642</td>\n      <td>113</td>\n      <td>3</td>\n      <td>4</td>\n      <td>12</td>\n      <td>12</td>\n      <td>628</td>\n      <td>770</td>\n      <td>13.677108</td>\n      <td>...</td>\n      <td>1</td>\n      <td>3</td>\n      <td>1</td>\n      <td>1</td>\n      <td>0</td>\n      <td>2</td>\n      <td>1</td>\n      <td>0</td>\n      <td>6</td>\n      <td>0</td>\n    </tr>\n    <tr>\n      <th>4</th>\n      <td>5</td>\n      <td>0.449454</td>\n      <td>113</td>\n      <td>0</td>\n      <td>4</td>\n      <td>10</td>\n      <td>6</td>\n      <td>534</td>\n      <td>268</td>\n      <td>33.373826</td>\n      <td>...</td>\n      <td>1</td>\n      <td>40</td>\n      <td>0</td>\n      <td>0</td>\n      <td>0</td>\n      <td>2</td>\n      <td>39</td>\n      <td>0</td>\n      <td>6</td>\n      <td>0</td>\n    </tr>\n  </tbody>\n</table>\n<p>5 rows × 45 columns</p>\n</div>"
     },
     "execution_count": 110,
     "metadata": {},
     "output_type": "execute_result"
    }
   ],
   "source": [
    "unswDf.head()"
   ],
   "metadata": {
    "collapsed": false,
    "ExecuteTime": {
     "end_time": "2024-02-25T00:17:49.014987400Z",
     "start_time": "2024-02-25T00:17:48.994982200Z"
    }
   },
   "id": "38923e103b28a2a3",
   "execution_count": 110
  },
  {
   "cell_type": "code",
   "outputs": [
    {
     "data": {
      "text/plain": "label               1.000000\nsttl                0.624082\nattack_cat          0.602160\nid                  0.490584\nct_state_ttl        0.476559\nstate               0.462972\nct_dst_sport_ltm    0.371672\nswin                0.364877\ndload               0.352169\ndwin                0.339166\nrate                0.335883\nct_src_dport_ltm    0.318518\ndtype: float64"
     },
     "execution_count": 111,
     "metadata": {},
     "output_type": "execute_result"
    }
   ],
   "source": [
    "#las 10 columnas con mayor correlacion con el target\n",
    "unswDf.corrwith(unswDf['label']).abs().nlargest(12)"
   ],
   "metadata": {
    "collapsed": false,
    "ExecuteTime": {
     "end_time": "2024-02-25T00:17:49.317055Z",
     "start_time": "2024-02-25T00:17:49.011987600Z"
    }
   },
   "id": "909840a36755ef9b",
   "execution_count": 111
  },
  {
   "cell_type": "code",
   "outputs": [
    {
     "data": {
      "text/plain": "id                     int64\ndur                  float64\nproto                  int32\nservice                int32\nstate                  int32\nspkts                  int64\ndpkts                  int64\nsbytes                 int64\ndbytes                 int64\nrate                 float64\nsttl                   int64\ndttl                   int64\nsload                float64\ndload                float64\nsloss                  int64\ndloss                  int64\nsinpkt               float64\ndinpkt               float64\nsjit                 float64\ndjit                 float64\nswin                   int64\nstcpb                  int64\ndtcpb                  int64\ndwin                   int64\ntcprtt               float64\nsynack               float64\nackdat               float64\nsmean                  int64\ndmean                  int64\ntrans_depth            int64\nresponse_body_len      int64\nct_srv_src             int64\nct_state_ttl           int64\nct_dst_ltm             int64\nct_src_dport_ltm       int64\nct_dst_sport_ltm       int64\nct_dst_src_ltm         int64\nis_ftp_login           int64\nct_ftp_cmd             int64\nct_flw_http_mthd       int64\nct_src_ltm             int64\nct_srv_dst             int64\nis_sm_ips_ports        int64\nattack_cat             int32\nlabel                  int64\ndtype: object"
     },
     "execution_count": 112,
     "metadata": {},
     "output_type": "execute_result"
    }
   ],
   "source": [
    "unswDf.dtypes"
   ],
   "metadata": {
    "collapsed": false,
    "ExecuteTime": {
     "end_time": "2024-02-25T00:17:49.340059600Z",
     "start_time": "2024-02-25T00:17:49.316055Z"
    }
   },
   "id": "14beda27cdb5d6e9",
   "execution_count": 112
  },
  {
   "cell_type": "markdown",
   "source": [
    "## ¿Ahora, qué haremos?\n",
    "Observando los dos datasets, podemos ver que los dos son muy diferentes y las correlaciones varian mucho. Dado que no comparten casi columnas, no nos parece una buena idea unirlos, por ende, vamos a hacer dos modelos, uno para cada dataset, y veremos cual tiene mejor desempeño."
   ],
   "metadata": {
    "collapsed": false
   },
   "id": "c3db9d3b28211245"
  },
  {
   "cell_type": "markdown",
   "source": [
    "#### Limpieza de datos de baseDf"
   ],
   "metadata": {
    "collapsed": false
   },
   "id": "c53191024ae0eeb8"
  },
  {
   "cell_type": "code",
   "outputs": [
    {
     "data": {
      "text/plain": "Action                1.000000\nElapsed Time (sec)    0.170684\nDestination Port      0.095110\nSource Port           0.038343\nBytes Received        0.023794\npkts_received         0.021679\nPackets               0.015562\nBytes                 0.013546\npkts_sent             0.009842\nBytes Sent            0.004570\ndtype: float64"
     },
     "execution_count": 113,
     "metadata": {},
     "output_type": "execute_result"
    }
   ],
   "source": [
    "#Primero, vamos a quitar las columnas que no tienen correlacion con el target\n",
    "baseDf.corrwith(baseDf['Action']).abs().nlargest(11)"
   ],
   "metadata": {
    "collapsed": false,
    "ExecuteTime": {
     "end_time": "2024-02-25T00:17:49.396072300Z",
     "start_time": "2024-02-25T00:17:49.332059100Z"
    }
   },
   "id": "cb2cb01fba214d64",
   "execution_count": 113
  },
  {
   "cell_type": "code",
   "outputs": [],
   "source": [
    "#Como podemos ver, las columnas de packets, pkts_received, bytes_received, no tienen correlacion con el target, por lo que las vamos a quitar\n",
    "baseDf = baseDf.drop(columns=['pkts_received','Packets','Bytes Received'])\n",
    "#Ahora vamos a guardar este dataset\n",
    "baseDf.to_csv('DataSets/Internet_firewall_data.csv',index=False)"
   ],
   "metadata": {
    "collapsed": false,
    "ExecuteTime": {
     "end_time": "2024-02-25T00:17:49.506096900Z",
     "start_time": "2024-02-25T00:17:49.397073400Z"
    }
   },
   "id": "a75067da90151dc5",
   "execution_count": 114
  },
  {
   "cell_type": "markdown",
   "source": [
    "#### Limpieza de datos de unswDf"
   ],
   "metadata": {
    "collapsed": false
   },
   "id": "2a694962682dabc6"
  },
  {
   "cell_type": "code",
   "outputs": [
    {
     "data": {
      "text/plain": "label                1.000000\nsttl                 0.624082\nattack_cat           0.602160\nid                   0.490584\nct_state_ttl         0.476559\nstate                0.462972\nct_dst_sport_ltm     0.371672\nswin                 0.364877\ndload                0.352169\ndwin                 0.339166\nrate                 0.335883\nct_src_dport_ltm     0.318518\nct_dst_src_ltm       0.299609\ndmean                0.295173\nstcpb                0.266585\ndtcpb                0.263543\nct_src_ltm           0.252498\nct_srv_dst           0.247812\nct_srv_src           0.246596\nct_dst_ltm           0.240776\nsload                0.165249\nis_sm_ips_ports      0.160126\nsinpkt               0.155454\ndpkts                0.097394\ndloss                0.075961\nservice              0.073552\ndbytes               0.060403\ndjit                 0.048819\nsynack               0.043250\nspkts                0.043040\ndinpkt               0.030136\ndur                  0.029096\nsmean                0.028372\ntcprtt               0.024668\nsbytes               0.019376\ndttl                 0.019369\nresponse_body_len    0.018930\nsjit                 0.016436\nct_flw_http_mthd     0.012237\nct_ftp_cmd           0.009092\nis_ftp_login         0.008762\nproto                0.008023\ntrans_depth          0.002246\nsloss                0.001828\nackdat               0.000817\ndtype: float64"
     },
     "execution_count": 115,
     "metadata": {},
     "output_type": "execute_result"
    }
   ],
   "source": [
    "#Primero, vamos a quitar las columnas que no tienen correlacion con el target\n",
    "unswDf.corrwith(unswDf['label']).abs().nlargest(45)\n",
    "#Podemos ver, que en este datasets tenemos una correlaciones mucho más altas que en el anterior\n",
    "#Eso sí, se tiene que tener en cuenta que attack_cat es una columna que nos indica si es un ataque o no\n",
    "#Además, esta ID, que no tiene correlation con el target al ser una variable que solo identifica a la fila"
   ],
   "metadata": {
    "collapsed": false,
    "ExecuteTime": {
     "end_time": "2024-02-25T00:17:49.735148400Z",
     "start_time": "2024-02-25T00:17:49.507097100Z"
    }
   },
   "id": "25da909be53e4582",
   "execution_count": 115
  },
  {
   "cell_type": "code",
   "outputs": [],
   "source": [
    "#Vamos a quitar las columnas que tengan una correlacion menor a 0.1\n",
    "columansToDrop = unswDf.columns[unswDf.corrwith(unswDf['label']).abs() < 0.1]\n",
    "unswDf = unswDf.drop(columns=columansToDrop)"
   ],
   "metadata": {
    "collapsed": false,
    "ExecuteTime": {
     "end_time": "2024-02-25T00:17:49.874180600Z",
     "start_time": "2024-02-25T00:17:49.730146900Z"
    }
   },
   "id": "539e14c9d451ad64",
   "execution_count": 116
  },
  {
   "cell_type": "code",
   "outputs": [
    {
     "data": {
      "text/plain": "label               1.000000\nsttl                0.624082\nattack_cat          0.602160\nid                  0.490584\nct_state_ttl        0.476559\nstate               0.462972\nct_dst_sport_ltm    0.371672\nswin                0.364877\ndload               0.352169\ndwin                0.339166\nrate                0.335883\nct_src_dport_ltm    0.318518\nct_dst_src_ltm      0.299609\ndmean               0.295173\nstcpb               0.266585\ndtcpb               0.263543\nct_src_ltm          0.252498\nct_srv_dst          0.247812\nct_srv_src          0.246596\nct_dst_ltm          0.240776\nsload               0.165249\nis_sm_ips_ports     0.160126\nsinpkt              0.155454\ndtype: float64"
     },
     "execution_count": 117,
     "metadata": {},
     "output_type": "execute_result"
    }
   ],
   "source": [
    "unswDf.corrwith(unswDf['label']).abs().nlargest(45)"
   ],
   "metadata": {
    "collapsed": false,
    "ExecuteTime": {
     "end_time": "2024-02-25T00:17:49.954197400Z",
     "start_time": "2024-02-25T00:17:49.873178900Z"
    }
   },
   "id": "1becb7c53053dc79",
   "execution_count": 117
  },
  {
   "cell_type": "code",
   "outputs": [],
   "source": [
    "#Ahora vamos a guardar este dataset\n",
    "unswDf.to_csv('DataSets/UNSW.csv',index=False)"
   ],
   "metadata": {
    "collapsed": false,
    "ExecuteTime": {
     "end_time": "2024-02-25T00:17:51.671590200Z",
     "start_time": "2024-02-25T00:17:49.954197400Z"
    }
   },
   "id": "c4c254375091f79c",
   "execution_count": 118
  },
  {
   "cell_type": "markdown",
   "source": [
    "## Ahora, vamos a limpiar el dataset de KDDCup99"
   ],
   "metadata": {
    "collapsed": false
   },
   "id": "988eed0dcdf2fa71"
  },
  {
   "cell_type": "code",
   "outputs": [
    {
     "name": "stdout",
     "output_type": "stream",
     "text": [
      "['duration', ' protocol_type', 'service', 'flag', 'src_bytes', 'dst_bytes', 'land', 'wrong_fragment', 'urgent', 'hot', 'num_failed_logins', 'logged_in', 'num_compromised', 'root_shell', 'su_attempted', 'num_root', 'num_file_creations', 'num_shells', 'num_access_files', 'num_outbound_cmds', 'is_host_login', 'is_guest_login', 'count', 'srv_count', 'serror_rate', 'srv_serror_rate', 'rerror_rate', 'srv_rerror_rate', 'same_srv_rate', 'diff_srv_rate', 'srv_diff_host_rate', 'dst_host_count', 'dst_host_srv_count', 'dst_host_same_srv_rate', 'dst_host_diff_srv_rate', 'dst_host_same_src_port_rate', 'dst_host_srv_diff_host_rate', 'dst_host_serror_rate', 'dst_host_srv_serror_rate', 'dst_host_rerror_rate', 'dst_host_srv_rerror_rate', 'attack']\n"
     ]
    }
   ],
   "source": [
    "#Primero, vamos a ver las columnas que tiene\n",
    "cols=\"\"\"duration, protocol_type,\n",
    "service,\n",
    "flag,\n",
    "src_bytes,\n",
    "dst_bytes,\n",
    "land,\n",
    "wrong_fragment,\n",
    "urgent,\n",
    "hot,\n",
    "num_failed_logins,\n",
    "logged_in,\n",
    "num_compromised,\n",
    "root_shell,\n",
    "su_attempted,\n",
    "num_root,\n",
    "num_file_creations,\n",
    "num_shells,\n",
    "num_access_files,\n",
    "num_outbound_cmds,\n",
    "is_host_login,\n",
    "is_guest_login,\n",
    "count,\n",
    "srv_count,\n",
    "serror_rate,\n",
    "srv_serror_rate,\n",
    "rerror_rate,\n",
    "srv_rerror_rate,\n",
    "same_srv_rate,\n",
    "diff_srv_rate,\n",
    "srv_diff_host_rate,\n",
    "dst_host_count,\n",
    "dst_host_srv_count,\n",
    "dst_host_same_srv_rate,\n",
    "dst_host_diff_srv_rate,\n",
    "dst_host_same_src_port_rate,\n",
    "dst_host_srv_diff_host_rate,\n",
    "dst_host_serror_rate,\n",
    "dst_host_srv_serror_rate,\n",
    "dst_host_rerror_rate,\n",
    "dst_host_srv_rerror_rate,\n",
    "attack\"\"\"\n",
    "\n",
    "#Ahora, pasemos esto a un arreglo para darle a nuestro dataframe\n",
    "cols = cols.replace(\"\\n\", \"\")\n",
    "cols = cols.split(\",\")\n",
    "print(cols)\n"
   ],
   "metadata": {
    "collapsed": false,
    "ExecuteTime": {
     "end_time": "2024-02-29T02:24:57.133804700Z",
     "start_time": "2024-02-29T02:24:57.125802800Z"
    }
   },
   "id": "50bb9bffcff7cf6f",
   "execution_count": 15
  },
  {
   "cell_type": "code",
   "outputs": [],
   "source": [
    "#Primero, vamos a cargar el dataset, dado que es un flat file, no necesitamos especificar el separador\n",
    "kddDf = pd.read_csv('DataSets/kddcup.data_10_percent',names=cols)\n"
   ],
   "metadata": {
    "collapsed": false,
    "ExecuteTime": {
     "end_time": "2024-02-29T02:25:05.461355400Z",
     "start_time": "2024-02-29T02:25:04.422118800Z"
    }
   },
   "id": "23ac57a79205e61d",
   "execution_count": 16
  },
  {
   "cell_type": "code",
   "outputs": [
    {
     "data": {
      "text/plain": "   duration  protocol_type service flag  src_bytes  dst_bytes  land  \\\n0         0            tcp    http   SF        181       5450     0   \n1         0            tcp    http   SF        239        486     0   \n2         0            tcp    http   SF        235       1337     0   \n3         0            tcp    http   SF        219       1337     0   \n4         0            tcp    http   SF        217       2032     0   \n\n   wrong_fragment  urgent  hot  ...  dst_host_srv_count  \\\n0               0       0    0  ...                   9   \n1               0       0    0  ...                  19   \n2               0       0    0  ...                  29   \n3               0       0    0  ...                  39   \n4               0       0    0  ...                  49   \n\n   dst_host_same_srv_rate  dst_host_diff_srv_rate  \\\n0                     1.0                     0.0   \n1                     1.0                     0.0   \n2                     1.0                     0.0   \n3                     1.0                     0.0   \n4                     1.0                     0.0   \n\n   dst_host_same_src_port_rate  dst_host_srv_diff_host_rate  \\\n0                         0.11                          0.0   \n1                         0.05                          0.0   \n2                         0.03                          0.0   \n3                         0.03                          0.0   \n4                         0.02                          0.0   \n\n   dst_host_serror_rate  dst_host_srv_serror_rate  dst_host_rerror_rate  \\\n0                   0.0                       0.0                   0.0   \n1                   0.0                       0.0                   0.0   \n2                   0.0                       0.0                   0.0   \n3                   0.0                       0.0                   0.0   \n4                   0.0                       0.0                   0.0   \n\n   dst_host_srv_rerror_rate   attack  \n0                       0.0  normal.  \n1                       0.0  normal.  \n2                       0.0  normal.  \n3                       0.0  normal.  \n4                       0.0  normal.  \n\n[5 rows x 42 columns]",
      "text/html": "<div>\n<style scoped>\n    .dataframe tbody tr th:only-of-type {\n        vertical-align: middle;\n    }\n\n    .dataframe tbody tr th {\n        vertical-align: top;\n    }\n\n    .dataframe thead th {\n        text-align: right;\n    }\n</style>\n<table border=\"1\" class=\"dataframe\">\n  <thead>\n    <tr style=\"text-align: right;\">\n      <th></th>\n      <th>duration</th>\n      <th>protocol_type</th>\n      <th>service</th>\n      <th>flag</th>\n      <th>src_bytes</th>\n      <th>dst_bytes</th>\n      <th>land</th>\n      <th>wrong_fragment</th>\n      <th>urgent</th>\n      <th>hot</th>\n      <th>...</th>\n      <th>dst_host_srv_count</th>\n      <th>dst_host_same_srv_rate</th>\n      <th>dst_host_diff_srv_rate</th>\n      <th>dst_host_same_src_port_rate</th>\n      <th>dst_host_srv_diff_host_rate</th>\n      <th>dst_host_serror_rate</th>\n      <th>dst_host_srv_serror_rate</th>\n      <th>dst_host_rerror_rate</th>\n      <th>dst_host_srv_rerror_rate</th>\n      <th>attack</th>\n    </tr>\n  </thead>\n  <tbody>\n    <tr>\n      <th>0</th>\n      <td>0</td>\n      <td>tcp</td>\n      <td>http</td>\n      <td>SF</td>\n      <td>181</td>\n      <td>5450</td>\n      <td>0</td>\n      <td>0</td>\n      <td>0</td>\n      <td>0</td>\n      <td>...</td>\n      <td>9</td>\n      <td>1.0</td>\n      <td>0.0</td>\n      <td>0.11</td>\n      <td>0.0</td>\n      <td>0.0</td>\n      <td>0.0</td>\n      <td>0.0</td>\n      <td>0.0</td>\n      <td>normal.</td>\n    </tr>\n    <tr>\n      <th>1</th>\n      <td>0</td>\n      <td>tcp</td>\n      <td>http</td>\n      <td>SF</td>\n      <td>239</td>\n      <td>486</td>\n      <td>0</td>\n      <td>0</td>\n      <td>0</td>\n      <td>0</td>\n      <td>...</td>\n      <td>19</td>\n      <td>1.0</td>\n      <td>0.0</td>\n      <td>0.05</td>\n      <td>0.0</td>\n      <td>0.0</td>\n      <td>0.0</td>\n      <td>0.0</td>\n      <td>0.0</td>\n      <td>normal.</td>\n    </tr>\n    <tr>\n      <th>2</th>\n      <td>0</td>\n      <td>tcp</td>\n      <td>http</td>\n      <td>SF</td>\n      <td>235</td>\n      <td>1337</td>\n      <td>0</td>\n      <td>0</td>\n      <td>0</td>\n      <td>0</td>\n      <td>...</td>\n      <td>29</td>\n      <td>1.0</td>\n      <td>0.0</td>\n      <td>0.03</td>\n      <td>0.0</td>\n      <td>0.0</td>\n      <td>0.0</td>\n      <td>0.0</td>\n      <td>0.0</td>\n      <td>normal.</td>\n    </tr>\n    <tr>\n      <th>3</th>\n      <td>0</td>\n      <td>tcp</td>\n      <td>http</td>\n      <td>SF</td>\n      <td>219</td>\n      <td>1337</td>\n      <td>0</td>\n      <td>0</td>\n      <td>0</td>\n      <td>0</td>\n      <td>...</td>\n      <td>39</td>\n      <td>1.0</td>\n      <td>0.0</td>\n      <td>0.03</td>\n      <td>0.0</td>\n      <td>0.0</td>\n      <td>0.0</td>\n      <td>0.0</td>\n      <td>0.0</td>\n      <td>normal.</td>\n    </tr>\n    <tr>\n      <th>4</th>\n      <td>0</td>\n      <td>tcp</td>\n      <td>http</td>\n      <td>SF</td>\n      <td>217</td>\n      <td>2032</td>\n      <td>0</td>\n      <td>0</td>\n      <td>0</td>\n      <td>0</td>\n      <td>...</td>\n      <td>49</td>\n      <td>1.0</td>\n      <td>0.0</td>\n      <td>0.02</td>\n      <td>0.0</td>\n      <td>0.0</td>\n      <td>0.0</td>\n      <td>0.0</td>\n      <td>0.0</td>\n      <td>normal.</td>\n    </tr>\n  </tbody>\n</table>\n<p>5 rows × 42 columns</p>\n</div>"
     },
     "execution_count": 17,
     "metadata": {},
     "output_type": "execute_result"
    }
   ],
   "source": [
    "kddDf.head()"
   ],
   "metadata": {
    "collapsed": false,
    "ExecuteTime": {
     "end_time": "2024-02-29T02:25:07.257025500Z",
     "start_time": "2024-02-29T02:25:07.233019600Z"
    }
   },
   "id": "d4d0d01ae44b4cc3",
   "execution_count": 17
  },
  {
   "cell_type": "code",
   "outputs": [
    {
     "data": {
      "text/plain": "   duration  protocol_type service flag  src_bytes  dst_bytes  land  \\\n0         0            tcp    http   SF        181       5450     0   \n1         0            tcp    http   SF        239        486     0   \n2         0            tcp    http   SF        235       1337     0   \n3         0            tcp    http   SF        219       1337     0   \n4         0            tcp    http   SF        217       2032     0   \n\n   wrong_fragment  urgent  hot  ...  dst_host_same_srv_rate  \\\n0               0       0    0  ...                     1.0   \n1               0       0    0  ...                     1.0   \n2               0       0    0  ...                     1.0   \n3               0       0    0  ...                     1.0   \n4               0       0    0  ...                     1.0   \n\n   dst_host_diff_srv_rate  dst_host_same_src_port_rate  \\\n0                     0.0                         0.11   \n1                     0.0                         0.05   \n2                     0.0                         0.03   \n3                     0.0                         0.03   \n4                     0.0                         0.02   \n\n   dst_host_srv_diff_host_rate  dst_host_serror_rate  \\\n0                          0.0                   0.0   \n1                          0.0                   0.0   \n2                          0.0                   0.0   \n3                          0.0                   0.0   \n4                          0.0                   0.0   \n\n   dst_host_srv_serror_rate  dst_host_rerror_rate  dst_host_srv_rerror_rate  \\\n0                       0.0                   0.0                       0.0   \n1                       0.0                   0.0                       0.0   \n2                       0.0                   0.0                       0.0   \n3                       0.0                   0.0                       0.0   \n4                       0.0                   0.0                       0.0   \n\n    attack  Attack Type  \n0  normal.       normal  \n1  normal.       normal  \n2  normal.       normal  \n3  normal.       normal  \n4  normal.       normal  \n\n[5 rows x 43 columns]",
      "text/html": "<div>\n<style scoped>\n    .dataframe tbody tr th:only-of-type {\n        vertical-align: middle;\n    }\n\n    .dataframe tbody tr th {\n        vertical-align: top;\n    }\n\n    .dataframe thead th {\n        text-align: right;\n    }\n</style>\n<table border=\"1\" class=\"dataframe\">\n  <thead>\n    <tr style=\"text-align: right;\">\n      <th></th>\n      <th>duration</th>\n      <th>protocol_type</th>\n      <th>service</th>\n      <th>flag</th>\n      <th>src_bytes</th>\n      <th>dst_bytes</th>\n      <th>land</th>\n      <th>wrong_fragment</th>\n      <th>urgent</th>\n      <th>hot</th>\n      <th>...</th>\n      <th>dst_host_same_srv_rate</th>\n      <th>dst_host_diff_srv_rate</th>\n      <th>dst_host_same_src_port_rate</th>\n      <th>dst_host_srv_diff_host_rate</th>\n      <th>dst_host_serror_rate</th>\n      <th>dst_host_srv_serror_rate</th>\n      <th>dst_host_rerror_rate</th>\n      <th>dst_host_srv_rerror_rate</th>\n      <th>attack</th>\n      <th>Attack Type</th>\n    </tr>\n  </thead>\n  <tbody>\n    <tr>\n      <th>0</th>\n      <td>0</td>\n      <td>tcp</td>\n      <td>http</td>\n      <td>SF</td>\n      <td>181</td>\n      <td>5450</td>\n      <td>0</td>\n      <td>0</td>\n      <td>0</td>\n      <td>0</td>\n      <td>...</td>\n      <td>1.0</td>\n      <td>0.0</td>\n      <td>0.11</td>\n      <td>0.0</td>\n      <td>0.0</td>\n      <td>0.0</td>\n      <td>0.0</td>\n      <td>0.0</td>\n      <td>normal.</td>\n      <td>normal</td>\n    </tr>\n    <tr>\n      <th>1</th>\n      <td>0</td>\n      <td>tcp</td>\n      <td>http</td>\n      <td>SF</td>\n      <td>239</td>\n      <td>486</td>\n      <td>0</td>\n      <td>0</td>\n      <td>0</td>\n      <td>0</td>\n      <td>...</td>\n      <td>1.0</td>\n      <td>0.0</td>\n      <td>0.05</td>\n      <td>0.0</td>\n      <td>0.0</td>\n      <td>0.0</td>\n      <td>0.0</td>\n      <td>0.0</td>\n      <td>normal.</td>\n      <td>normal</td>\n    </tr>\n    <tr>\n      <th>2</th>\n      <td>0</td>\n      <td>tcp</td>\n      <td>http</td>\n      <td>SF</td>\n      <td>235</td>\n      <td>1337</td>\n      <td>0</td>\n      <td>0</td>\n      <td>0</td>\n      <td>0</td>\n      <td>...</td>\n      <td>1.0</td>\n      <td>0.0</td>\n      <td>0.03</td>\n      <td>0.0</td>\n      <td>0.0</td>\n      <td>0.0</td>\n      <td>0.0</td>\n      <td>0.0</td>\n      <td>normal.</td>\n      <td>normal</td>\n    </tr>\n    <tr>\n      <th>3</th>\n      <td>0</td>\n      <td>tcp</td>\n      <td>http</td>\n      <td>SF</td>\n      <td>219</td>\n      <td>1337</td>\n      <td>0</td>\n      <td>0</td>\n      <td>0</td>\n      <td>0</td>\n      <td>...</td>\n      <td>1.0</td>\n      <td>0.0</td>\n      <td>0.03</td>\n      <td>0.0</td>\n      <td>0.0</td>\n      <td>0.0</td>\n      <td>0.0</td>\n      <td>0.0</td>\n      <td>normal.</td>\n      <td>normal</td>\n    </tr>\n    <tr>\n      <th>4</th>\n      <td>0</td>\n      <td>tcp</td>\n      <td>http</td>\n      <td>SF</td>\n      <td>217</td>\n      <td>2032</td>\n      <td>0</td>\n      <td>0</td>\n      <td>0</td>\n      <td>0</td>\n      <td>...</td>\n      <td>1.0</td>\n      <td>0.0</td>\n      <td>0.02</td>\n      <td>0.0</td>\n      <td>0.0</td>\n      <td>0.0</td>\n      <td>0.0</td>\n      <td>0.0</td>\n      <td>normal.</td>\n      <td>normal</td>\n    </tr>\n  </tbody>\n</table>\n<p>5 rows × 43 columns</p>\n</div>"
     },
     "execution_count": 23,
     "metadata": {},
     "output_type": "execute_result"
    }
   ],
   "source": [
    "#tenemos algo interesante, y es que attack tiene varios labels, con el archivo training_attack_types.txt podemos ver que hay 22 labels, pero solo 4 ataques, por lo que los vamos a agrupar por tipo de ataques\n",
    "\n",
    "tipos_de_ataques = {\n",
    "    'normal': 'normal',\n",
    "'back': 'dos',\n",
    "'buffer_overflow': 'u2r',\n",
    "'ftp_write': 'r2l',\n",
    "'guess_passwd': 'r2l',\n",
    "'imap': 'r2l',\n",
    "'ipsweep': 'probe',\n",
    "'land': 'dos',\n",
    "'loadmodule': 'u2r',\n",
    "'multihop': 'r2l',\n",
    "'neptune': 'dos',\n",
    "'nmap': 'probe',\n",
    "'perl': 'u2r',\n",
    "'phf': 'r2l',\n",
    "'pod': 'dos',\n",
    "'portsweep': 'probe',\n",
    "'rootkit': 'u2r',\n",
    "'satan': 'probe',\n",
    "'smurf': 'dos',\n",
    "'spy': 'r2l',\n",
    "'teardrop': 'dos',\n",
    "'warezclient': 'r2l',\n",
    "'warezmaster': 'r2l',\n",
    "}\n",
    "\n",
    "kddDf['Attack Type'] = kddDf.attack.apply(lambda r:tipos_de_ataques[r[:-1]])\n",
    "\n",
    "kddDf.head()"
   ],
   "metadata": {
    "collapsed": false,
    "ExecuteTime": {
     "end_time": "2024-02-29T02:29:33.876807100Z",
     "start_time": "2024-02-29T02:29:33.762779600Z"
    }
   },
   "id": "243ff2befeeb9bfb",
   "execution_count": 23
  },
  {
   "cell_type": "code",
   "outputs": [
    {
     "data": {
      "text/plain": "   duration  protocol_type service flag  src_bytes  dst_bytes  land  \\\n0         0            tcp    http   SF        181       5450     0   \n1         0            tcp    http   SF        239        486     0   \n2         0            tcp    http   SF        235       1337     0   \n3         0            tcp    http   SF        219       1337     0   \n4         0            tcp    http   SF        217       2032     0   \n\n   wrong_fragment  urgent  hot  ...  dst_host_diff_srv_rate  \\\n0               0       0    0  ...                     0.0   \n1               0       0    0  ...                     0.0   \n2               0       0    0  ...                     0.0   \n3               0       0    0  ...                     0.0   \n4               0       0    0  ...                     0.0   \n\n   dst_host_same_src_port_rate  dst_host_srv_diff_host_rate  \\\n0                         0.11                          0.0   \n1                         0.05                          0.0   \n2                         0.03                          0.0   \n3                         0.03                          0.0   \n4                         0.02                          0.0   \n\n   dst_host_serror_rate  dst_host_srv_serror_rate  dst_host_rerror_rate  \\\n0                   0.0                       0.0                   0.0   \n1                   0.0                       0.0                   0.0   \n2                   0.0                       0.0                   0.0   \n3                   0.0                       0.0                   0.0   \n4                   0.0                       0.0                   0.0   \n\n   dst_host_srv_rerror_rate   attack  Attack Type  Is attack  \n0                       0.0  normal.       normal          0  \n1                       0.0  normal.       normal          0  \n2                       0.0  normal.       normal          0  \n3                       0.0  normal.       normal          0  \n4                       0.0  normal.       normal          0  \n\n[5 rows x 44 columns]",
      "text/html": "<div>\n<style scoped>\n    .dataframe tbody tr th:only-of-type {\n        vertical-align: middle;\n    }\n\n    .dataframe tbody tr th {\n        vertical-align: top;\n    }\n\n    .dataframe thead th {\n        text-align: right;\n    }\n</style>\n<table border=\"1\" class=\"dataframe\">\n  <thead>\n    <tr style=\"text-align: right;\">\n      <th></th>\n      <th>duration</th>\n      <th>protocol_type</th>\n      <th>service</th>\n      <th>flag</th>\n      <th>src_bytes</th>\n      <th>dst_bytes</th>\n      <th>land</th>\n      <th>wrong_fragment</th>\n      <th>urgent</th>\n      <th>hot</th>\n      <th>...</th>\n      <th>dst_host_diff_srv_rate</th>\n      <th>dst_host_same_src_port_rate</th>\n      <th>dst_host_srv_diff_host_rate</th>\n      <th>dst_host_serror_rate</th>\n      <th>dst_host_srv_serror_rate</th>\n      <th>dst_host_rerror_rate</th>\n      <th>dst_host_srv_rerror_rate</th>\n      <th>attack</th>\n      <th>Attack Type</th>\n      <th>Is attack</th>\n    </tr>\n  </thead>\n  <tbody>\n    <tr>\n      <th>0</th>\n      <td>0</td>\n      <td>tcp</td>\n      <td>http</td>\n      <td>SF</td>\n      <td>181</td>\n      <td>5450</td>\n      <td>0</td>\n      <td>0</td>\n      <td>0</td>\n      <td>0</td>\n      <td>...</td>\n      <td>0.0</td>\n      <td>0.11</td>\n      <td>0.0</td>\n      <td>0.0</td>\n      <td>0.0</td>\n      <td>0.0</td>\n      <td>0.0</td>\n      <td>normal.</td>\n      <td>normal</td>\n      <td>0</td>\n    </tr>\n    <tr>\n      <th>1</th>\n      <td>0</td>\n      <td>tcp</td>\n      <td>http</td>\n      <td>SF</td>\n      <td>239</td>\n      <td>486</td>\n      <td>0</td>\n      <td>0</td>\n      <td>0</td>\n      <td>0</td>\n      <td>...</td>\n      <td>0.0</td>\n      <td>0.05</td>\n      <td>0.0</td>\n      <td>0.0</td>\n      <td>0.0</td>\n      <td>0.0</td>\n      <td>0.0</td>\n      <td>normal.</td>\n      <td>normal</td>\n      <td>0</td>\n    </tr>\n    <tr>\n      <th>2</th>\n      <td>0</td>\n      <td>tcp</td>\n      <td>http</td>\n      <td>SF</td>\n      <td>235</td>\n      <td>1337</td>\n      <td>0</td>\n      <td>0</td>\n      <td>0</td>\n      <td>0</td>\n      <td>...</td>\n      <td>0.0</td>\n      <td>0.03</td>\n      <td>0.0</td>\n      <td>0.0</td>\n      <td>0.0</td>\n      <td>0.0</td>\n      <td>0.0</td>\n      <td>normal.</td>\n      <td>normal</td>\n      <td>0</td>\n    </tr>\n    <tr>\n      <th>3</th>\n      <td>0</td>\n      <td>tcp</td>\n      <td>http</td>\n      <td>SF</td>\n      <td>219</td>\n      <td>1337</td>\n      <td>0</td>\n      <td>0</td>\n      <td>0</td>\n      <td>0</td>\n      <td>...</td>\n      <td>0.0</td>\n      <td>0.03</td>\n      <td>0.0</td>\n      <td>0.0</td>\n      <td>0.0</td>\n      <td>0.0</td>\n      <td>0.0</td>\n      <td>normal.</td>\n      <td>normal</td>\n      <td>0</td>\n    </tr>\n    <tr>\n      <th>4</th>\n      <td>0</td>\n      <td>tcp</td>\n      <td>http</td>\n      <td>SF</td>\n      <td>217</td>\n      <td>2032</td>\n      <td>0</td>\n      <td>0</td>\n      <td>0</td>\n      <td>0</td>\n      <td>...</td>\n      <td>0.0</td>\n      <td>0.02</td>\n      <td>0.0</td>\n      <td>0.0</td>\n      <td>0.0</td>\n      <td>0.0</td>\n      <td>0.0</td>\n      <td>normal.</td>\n      <td>normal</td>\n      <td>0</td>\n    </tr>\n  </tbody>\n</table>\n<p>5 rows × 44 columns</p>\n</div>"
     },
     "execution_count": 25,
     "metadata": {},
     "output_type": "execute_result"
    }
   ],
   "source": [
    "#Ahora, vamos a añadir una columna binaria para saber si es un ataque o no\n",
    "kddDf['Is attack'] = kddDf['Attack Type'].map({'normal': 0, 'dos': 1, 'u2r': 1, 'r2l': 1, 'probe': 1})\n",
    "kddDf.head()"
   ],
   "metadata": {
    "collapsed": false,
    "ExecuteTime": {
     "end_time": "2024-02-29T02:30:47.577484200Z",
     "start_time": "2024-02-29T02:30:47.537475100Z"
    }
   },
   "id": "1a437e42dc791e2d",
   "execution_count": 25
  },
  {
   "cell_type": "code",
   "outputs": [
    {
     "data": {
      "text/plain": "duration                       0\n protocol_type                 0\nservice                        0\nflag                           0\nsrc_bytes                      0\ndst_bytes                      0\nland                           0\nwrong_fragment                 0\nurgent                         0\nhot                            0\nnum_failed_logins              0\nlogged_in                      0\nnum_compromised                0\nroot_shell                     0\nsu_attempted                   0\nnum_root                       0\nnum_file_creations             0\nnum_shells                     0\nnum_access_files               0\nnum_outbound_cmds              0\nis_host_login                  0\nis_guest_login                 0\ncount                          0\nsrv_count                      0\nserror_rate                    0\nsrv_serror_rate                0\nrerror_rate                    0\nsrv_rerror_rate                0\nsame_srv_rate                  0\ndiff_srv_rate                  0\nsrv_diff_host_rate             0\ndst_host_count                 0\ndst_host_srv_count             0\ndst_host_same_srv_rate         0\ndst_host_diff_srv_rate         0\ndst_host_same_src_port_rate    0\ndst_host_srv_diff_host_rate    0\ndst_host_serror_rate           0\ndst_host_srv_serror_rate       0\ndst_host_rerror_rate           0\ndst_host_srv_rerror_rate       0\nattack                         0\nAttack Type                    0\nIs attack                      0\ndtype: int64"
     },
     "execution_count": 26,
     "metadata": {},
     "output_type": "execute_result"
    }
   ],
   "source": [
    "kddDf.isnull().sum()"
   ],
   "metadata": {
    "collapsed": false,
    "ExecuteTime": {
     "end_time": "2024-02-29T02:36:47.577892500Z",
     "start_time": "2024-02-29T02:36:47.476868900Z"
    }
   },
   "id": "73bd547fd54904ef",
   "execution_count": 26
  },
  {
   "cell_type": "code",
   "outputs": [],
   "source": [
    "#Por ahora, no vamos a modificar las variables categoricas, dado que antes queremos hacer un analisis exploratorio"
   ],
   "metadata": {
    "collapsed": false
   },
   "id": "c6171fa2c489f819"
  }
 ],
 "metadata": {
  "kernelspec": {
   "display_name": "Python 3",
   "language": "python",
   "name": "python3"
  },
  "language_info": {
   "codemirror_mode": {
    "name": "ipython",
    "version": 2
   },
   "file_extension": ".py",
   "mimetype": "text/x-python",
   "name": "python",
   "nbconvert_exporter": "python",
   "pygments_lexer": "ipython2",
   "version": "2.7.6"
  }
 },
 "nbformat": 4,
 "nbformat_minor": 5
}
