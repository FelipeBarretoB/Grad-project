{
 "cells": [
  {
   "cell_type": "markdown",
   "source": [
    "# Este es el notebook para el preprocesamiento de los data sets\n",
    "### Aqui vamos a limpiar los datasets, y a dejarlos en un formato que sea fácil de usar para el análisis exploratorio y el modelado"
   ],
   "metadata": {
    "collapsed": false
   },
   "id": "3b60aecc7e78d36f"
  },
  {
   "cell_type": "markdown",
   "source": [
    "# TODO re formatear el notebook, dado que ya solo se busca limpiar 3 datasets por separado "
   ],
   "metadata": {
    "collapsed": false
   },
   "id": "3f8cb5c5c37b2d7f"
  },
  {
   "cell_type": "code",
   "execution_count": 62,
   "id": "initial_id",
   "metadata": {
    "collapsed": true,
    "ExecuteTime": {
     "end_time": "2024-02-29T21:46:05.165820600Z",
     "start_time": "2024-02-29T21:46:05.033790200Z"
    }
   },
   "outputs": [],
   "source": [
    "#Importamos las librerias \n",
    "import pandas as pd"
   ]
  },
  {
   "cell_type": "markdown",
   "source": [
    "## Primero, vamos a cargar el primer dataset, el cual es [Internet Firewall Data](https://archive.ics.uci.edu/dataset/542/internet+firewall+data)\n"
   ],
   "metadata": {
    "collapsed": false
   },
   "id": "edbd99147a534df8"
  },
  {
   "cell_type": "code",
   "outputs": [],
   "source": [
    "#Cargamos el data set\n",
    "baseDf = pd.read_csv('DataSets/log2.csv')\n",
    "#El basedf es el formato al que queremos llevar todos los datos"
   ],
   "metadata": {
    "collapsed": false,
    "ExecuteTime": {
     "end_time": "2024-02-29T21:46:05.242837300Z",
     "start_time": "2024-02-29T21:46:05.168821Z"
    }
   },
   "id": "6caebe958088f1e2",
   "execution_count": 63
  },
  {
   "cell_type": "markdown",
   "source": [
    "## Log2.csv tiene 12 columnas, las cuales son: \n",
    "1. Source Port\n",
    "2. Destination Port\n",
    "3. NAT Source Port\n",
    "4. NAT Destination Port\n",
    "5. Action\n",
    "6. Bytes (suma de bytes sent y bytes received)\n",
    "7. Bytes Sent\n",
    "8. Bytes Received\n",
    "9. Packets\n",
    "10. Elapsed Time (sec)\n",
    "11. pkts_sent\n",
    "12. pkts_received\n",
    "\n",
    "Donde action es nuestra columna target"
   ],
   "metadata": {
    "collapsed": false
   },
   "id": "b760f03083a01ca"
  },
  {
   "cell_type": "markdown",
   "source": [
    "Primero, verifiquemos que el dataset sea usable"
   ],
   "metadata": {
    "collapsed": false
   },
   "id": "77eeda57762527f3"
  },
  {
   "cell_type": "code",
   "outputs": [
    {
     "data": {
      "text/plain": "Action\nallow         37640\ndeny          14987\ndrop          12851\nreset-both       54\nName: count, dtype: int64"
     },
     "execution_count": 64,
     "metadata": {},
     "output_type": "execute_result"
    }
   ],
   "source": [
    "baseDf['Action'].value_counts()"
   ],
   "metadata": {
    "collapsed": false,
    "ExecuteTime": {
     "end_time": "2024-02-29T21:46:05.275844900Z",
     "start_time": "2024-02-29T21:46:05.230834200Z"
    }
   },
   "id": "57300262b1d4999",
   "execution_count": 64
  },
  {
   "cell_type": "code",
   "outputs": [
    {
     "data": {
      "text/plain": "Source Port              int64\nDestination Port         int64\nNAT Source Port          int64\nNAT Destination Port     int64\nAction                  object\nBytes                    int64\nBytes Sent               int64\nBytes Received           int64\nPackets                  int64\nElapsed Time (sec)       int64\npkts_sent                int64\npkts_received            int64\ndtype: object"
     },
     "execution_count": 65,
     "metadata": {},
     "output_type": "execute_result"
    }
   ],
   "source": [
    "#Verificar que no tenga valores nulos\n",
    "assert(baseDf.isnull().sum().sum() == 0)\n",
    "#Verificar los types de las columnas\n",
    "baseDf.dtypes"
   ],
   "metadata": {
    "collapsed": false,
    "ExecuteTime": {
     "end_time": "2024-02-29T21:46:05.306852300Z",
     "start_time": "2024-02-29T21:46:05.246838700Z"
    }
   },
   "id": "2a3c76629dfa59d9",
   "execution_count": 65
  },
  {
   "cell_type": "code",
   "outputs": [
    {
     "data": {
      "text/plain": "65532"
     },
     "execution_count": 66,
     "metadata": {},
     "output_type": "execute_result"
    }
   ],
   "source": [
    "baseDf.__len__()"
   ],
   "metadata": {
    "collapsed": false,
    "ExecuteTime": {
     "end_time": "2024-02-29T21:46:05.347861600Z",
     "start_time": "2024-02-29T21:46:05.261841500Z"
    }
   },
   "id": "1121a8e9e8b87c16",
   "execution_count": 66
  },
  {
   "cell_type": "markdown",
   "source": [
    "Aquí vemos algo interesante, la columna NAT Source Port tiene muchos valores 0, no hay descripcion de que significa esto, es algo que tendremos que tener en cuenta para el modelo"
   ],
   "metadata": {
    "collapsed": false
   },
   "id": "1dea1cef1901fb4e"
  },
  {
   "cell_type": "code",
   "outputs": [
    {
     "data": {
      "text/plain": "NAT Source Port\n0        28432\n48817       83\n58638       51\n50116       15\n7986         5\n         ...  \n2063         1\n33661        1\n36797        1\n14122        1\n13485        1\nName: count, Length: 29152, dtype: int64"
     },
     "execution_count": 67,
     "metadata": {},
     "output_type": "execute_result"
    }
   ],
   "source": [
    "baseDf['NAT Source Port'].value_counts()"
   ],
   "metadata": {
    "collapsed": false,
    "ExecuteTime": {
     "end_time": "2024-02-29T21:46:05.349861500Z",
     "start_time": "2024-02-29T21:46:05.310852900Z"
    }
   },
   "id": "f842c7603c0fc235",
   "execution_count": 67
  },
  {
   "cell_type": "code",
   "outputs": [],
   "source": [
    "#Vamos a guardar el dataset para poder usarlo en el analisis exploratorio\n",
    "baseDf.to_csv('DataSets/Internet_firewall_data.csv',index=False)"
   ],
   "metadata": {
    "collapsed": false,
    "ExecuteTime": {
     "end_time": "2024-02-29T21:46:05.496894800Z",
     "start_time": "2024-02-29T21:46:05.325856300Z"
    }
   },
   "id": "7b48aa6168ea5b2e",
   "execution_count": 68
  },
  {
   "cell_type": "markdown",
   "source": [
    "## Ahora, vamos a cargar el segundo dataset, el cual es el [UNSW-NB15](https://research.unsw.edu.au/projects/unsw-nb15-dataset)\n",
    "Este está dividido en 5 csv. Pero, en este caso usaremos los UNSW_NB15_training-set.csv y UNSW_NB15_testing-set.csv\n",
    "\n",
    "Las columnas y sus descripciones se puede encontrar en el NUSW-NB15_features.csv, dado que son demasiadas, no seran escritas aquí."
   ],
   "metadata": {
    "collapsed": false
   },
   "id": "d26972fd6c4f4950"
  },
  {
   "cell_type": "code",
   "outputs": [
    {
     "name": "stdout",
     "output_type": "stream",
     "text": [
      "El tamaño del dataset es:  175341\n",
      "El tamaño del dataset es:  257673\n"
     ]
    }
   ],
   "source": [
    "unswDf = pd.read_csv('DataSets/UNSW_NB15_training-set.csv')\n",
    "print(\"El tamaño del dataset es: \",unswDf.__len__())\n",
    "#El skiprows es para saltar la primera fila, la cual es la descripcion de las columnas, dado que lo vamos a pegar al primer df\n",
    "unswTestDf = pd.read_csv('DataSets/UNSW_NB15_testing-set.csv') \n",
    "unswDf = pd.concat([unswDf,unswTestDf],ignore_index=True)\n",
    "#Verificamos que se pegaran bien\n",
    "print(\"El tamaño del dataset es: \",unswDf.__len__())"
   ],
   "metadata": {
    "collapsed": false,
    "ExecuteTime": {
     "end_time": "2024-02-29T21:46:06.278185400Z",
     "start_time": "2024-02-29T21:46:05.498894900Z"
    }
   },
   "id": "a17e28ee47cc01b5",
   "execution_count": 69
  },
  {
   "cell_type": "code",
   "outputs": [
    {
     "data": {
      "text/plain": "id                     int64\ndur                  float64\nproto                 object\nservice               object\nstate                 object\nspkts                  int64\ndpkts                  int64\nsbytes                 int64\ndbytes                 int64\nrate                 float64\nsttl                   int64\ndttl                   int64\nsload                float64\ndload                float64\nsloss                  int64\ndloss                  int64\nsinpkt               float64\ndinpkt               float64\nsjit                 float64\ndjit                 float64\nswin                   int64\nstcpb                  int64\ndtcpb                  int64\ndwin                   int64\ntcprtt               float64\nsynack               float64\nackdat               float64\nsmean                  int64\ndmean                  int64\ntrans_depth            int64\nresponse_body_len      int64\nct_srv_src             int64\nct_state_ttl           int64\nct_dst_ltm             int64\nct_src_dport_ltm       int64\nct_dst_sport_ltm       int64\nct_dst_src_ltm         int64\nis_ftp_login           int64\nct_ftp_cmd             int64\nct_flw_http_mthd       int64\nct_src_ltm             int64\nct_srv_dst             int64\nis_sm_ips_ports        int64\nattack_cat            object\nlabel                  int64\ndtype: object"
     },
     "execution_count": 70,
     "metadata": {},
     "output_type": "execute_result"
    }
   ],
   "source": [
    "unswDf.dtypes"
   ],
   "metadata": {
    "collapsed": false,
    "ExecuteTime": {
     "end_time": "2024-02-29T21:46:06.324196300Z",
     "start_time": "2024-02-29T21:46:06.277185600Z"
    }
   },
   "id": "a073a50c584937c8",
   "execution_count": 70
  },
  {
   "cell_type": "markdown",
   "source": [
    "Se observa que no hay nada raro en los tipos, pero podemos ver que hay columnas categorical, algo que tendremos que tener en cuenta para el modelado"
   ],
   "metadata": {
    "collapsed": false
   },
   "id": "e16f7e6bfed5bb65"
  },
  {
   "cell_type": "code",
   "outputs": [
    {
     "data": {
      "text/plain": "   id       dur proto service state  spkts  dpkts  sbytes  dbytes       rate  \\\n0   1  0.121478   tcp       -   FIN      6      4     258     172  74.087490   \n1   2  0.649902   tcp       -   FIN     14     38     734   42014  78.473372   \n2   3  1.623129   tcp       -   FIN      8     16     364   13186  14.170161   \n3   4  1.681642   tcp     ftp   FIN     12     12     628     770  13.677108   \n4   5  0.449454   tcp       -   FIN     10      6     534     268  33.373826   \n\n   ...  ct_dst_sport_ltm  ct_dst_src_ltm  is_ftp_login  ct_ftp_cmd  \\\n0  ...                 1               1             0           0   \n1  ...                 1               2             0           0   \n2  ...                 1               3             0           0   \n3  ...                 1               3             1           1   \n4  ...                 1              40             0           0   \n\n   ct_flw_http_mthd  ct_src_ltm  ct_srv_dst  is_sm_ips_ports  attack_cat  \\\n0                 0           1           1                0      Normal   \n1                 0           1           6                0      Normal   \n2                 0           2           6                0      Normal   \n3                 0           2           1                0      Normal   \n4                 0           2          39                0      Normal   \n\n   label  \n0      0  \n1      0  \n2      0  \n3      0  \n4      0  \n\n[5 rows x 45 columns]",
      "text/html": "<div>\n<style scoped>\n    .dataframe tbody tr th:only-of-type {\n        vertical-align: middle;\n    }\n\n    .dataframe tbody tr th {\n        vertical-align: top;\n    }\n\n    .dataframe thead th {\n        text-align: right;\n    }\n</style>\n<table border=\"1\" class=\"dataframe\">\n  <thead>\n    <tr style=\"text-align: right;\">\n      <th></th>\n      <th>id</th>\n      <th>dur</th>\n      <th>proto</th>\n      <th>service</th>\n      <th>state</th>\n      <th>spkts</th>\n      <th>dpkts</th>\n      <th>sbytes</th>\n      <th>dbytes</th>\n      <th>rate</th>\n      <th>...</th>\n      <th>ct_dst_sport_ltm</th>\n      <th>ct_dst_src_ltm</th>\n      <th>is_ftp_login</th>\n      <th>ct_ftp_cmd</th>\n      <th>ct_flw_http_mthd</th>\n      <th>ct_src_ltm</th>\n      <th>ct_srv_dst</th>\n      <th>is_sm_ips_ports</th>\n      <th>attack_cat</th>\n      <th>label</th>\n    </tr>\n  </thead>\n  <tbody>\n    <tr>\n      <th>0</th>\n      <td>1</td>\n      <td>0.121478</td>\n      <td>tcp</td>\n      <td>-</td>\n      <td>FIN</td>\n      <td>6</td>\n      <td>4</td>\n      <td>258</td>\n      <td>172</td>\n      <td>74.087490</td>\n      <td>...</td>\n      <td>1</td>\n      <td>1</td>\n      <td>0</td>\n      <td>0</td>\n      <td>0</td>\n      <td>1</td>\n      <td>1</td>\n      <td>0</td>\n      <td>Normal</td>\n      <td>0</td>\n    </tr>\n    <tr>\n      <th>1</th>\n      <td>2</td>\n      <td>0.649902</td>\n      <td>tcp</td>\n      <td>-</td>\n      <td>FIN</td>\n      <td>14</td>\n      <td>38</td>\n      <td>734</td>\n      <td>42014</td>\n      <td>78.473372</td>\n      <td>...</td>\n      <td>1</td>\n      <td>2</td>\n      <td>0</td>\n      <td>0</td>\n      <td>0</td>\n      <td>1</td>\n      <td>6</td>\n      <td>0</td>\n      <td>Normal</td>\n      <td>0</td>\n    </tr>\n    <tr>\n      <th>2</th>\n      <td>3</td>\n      <td>1.623129</td>\n      <td>tcp</td>\n      <td>-</td>\n      <td>FIN</td>\n      <td>8</td>\n      <td>16</td>\n      <td>364</td>\n      <td>13186</td>\n      <td>14.170161</td>\n      <td>...</td>\n      <td>1</td>\n      <td>3</td>\n      <td>0</td>\n      <td>0</td>\n      <td>0</td>\n      <td>2</td>\n      <td>6</td>\n      <td>0</td>\n      <td>Normal</td>\n      <td>0</td>\n    </tr>\n    <tr>\n      <th>3</th>\n      <td>4</td>\n      <td>1.681642</td>\n      <td>tcp</td>\n      <td>ftp</td>\n      <td>FIN</td>\n      <td>12</td>\n      <td>12</td>\n      <td>628</td>\n      <td>770</td>\n      <td>13.677108</td>\n      <td>...</td>\n      <td>1</td>\n      <td>3</td>\n      <td>1</td>\n      <td>1</td>\n      <td>0</td>\n      <td>2</td>\n      <td>1</td>\n      <td>0</td>\n      <td>Normal</td>\n      <td>0</td>\n    </tr>\n    <tr>\n      <th>4</th>\n      <td>5</td>\n      <td>0.449454</td>\n      <td>tcp</td>\n      <td>-</td>\n      <td>FIN</td>\n      <td>10</td>\n      <td>6</td>\n      <td>534</td>\n      <td>268</td>\n      <td>33.373826</td>\n      <td>...</td>\n      <td>1</td>\n      <td>40</td>\n      <td>0</td>\n      <td>0</td>\n      <td>0</td>\n      <td>2</td>\n      <td>39</td>\n      <td>0</td>\n      <td>Normal</td>\n      <td>0</td>\n    </tr>\n  </tbody>\n</table>\n<p>5 rows × 45 columns</p>\n</div>"
     },
     "execution_count": 71,
     "metadata": {},
     "output_type": "execute_result"
    }
   ],
   "source": [
    "unswDf.head()"
   ],
   "metadata": {
    "collapsed": false,
    "ExecuteTime": {
     "end_time": "2024-02-29T21:46:06.326196300Z",
     "start_time": "2024-02-29T21:46:06.292189100Z"
    }
   },
   "id": "38923e103b28a2a3",
   "execution_count": 71
  },
  {
   "cell_type": "code",
   "outputs": [
    {
     "data": {
      "text/plain": "id                   0\ndur                  0\nproto                0\nservice              0\nstate                0\nspkts                0\ndpkts                0\nsbytes               0\ndbytes               0\nrate                 0\nsttl                 0\ndttl                 0\nsload                0\ndload                0\nsloss                0\ndloss                0\nsinpkt               0\ndinpkt               0\nsjit                 0\ndjit                 0\nswin                 0\nstcpb                0\ndtcpb                0\ndwin                 0\ntcprtt               0\nsynack               0\nackdat               0\nsmean                0\ndmean                0\ntrans_depth          0\nresponse_body_len    0\nct_srv_src           0\nct_state_ttl         0\nct_dst_ltm           0\nct_src_dport_ltm     0\nct_dst_sport_ltm     0\nct_dst_src_ltm       0\nis_ftp_login         0\nct_ftp_cmd           0\nct_flw_http_mthd     0\nct_src_ltm           0\nct_srv_dst           0\nis_sm_ips_ports      0\nattack_cat           0\nlabel                0\ndtype: int64"
     },
     "execution_count": 72,
     "metadata": {},
     "output_type": "execute_result"
    }
   ],
   "source": [
    "unswDf.isnull().sum()"
   ],
   "metadata": {
    "collapsed": false,
    "ExecuteTime": {
     "end_time": "2024-02-29T21:46:06.475230200Z",
     "start_time": "2024-02-29T21:46:06.308192400Z"
    }
   },
   "id": "909840a36755ef9b",
   "execution_count": 72
  },
  {
   "cell_type": "code",
   "outputs": [],
   "source": [
    "#Ahora vamos a guardar este dataset\n",
    "unswDf.to_csv('DataSets/UNSW.csv',index=False)"
   ],
   "metadata": {
    "collapsed": false,
    "ExecuteTime": {
     "end_time": "2024-02-29T21:46:09.845718600Z",
     "start_time": "2024-02-29T21:46:06.387210100Z"
    }
   },
   "id": "c4c254375091f79c",
   "execution_count": 73
  },
  {
   "cell_type": "markdown",
   "source": [
    "## Ahora, vamos a limpiar el dataset de (KDDCup99)[https://kdd.ics.uci.edu/databases/kddcup99/kddcup99.html]\n",
    "Aunque la descripción del dataset se encuentra en el link de arriba tuvimos algunos problemas descargándolo desde ese link, si lo quieres descargar, puedes hacerlo desde [aquí](https://www.kaggle.com/datasets/galaxyh/kdd-cup-1999-data)"
   ],
   "metadata": {
    "collapsed": false
   },
   "id": "988eed0dcdf2fa71"
  },
  {
   "cell_type": "code",
   "outputs": [
    {
     "name": "stdout",
     "output_type": "stream",
     "text": [
      "['duration', ' protocol_type', 'service', 'flag', 'src_bytes', 'dst_bytes', 'land', 'wrong_fragment', 'urgent', 'hot', 'num_failed_logins', 'logged_in', 'num_compromised', 'root_shell', 'su_attempted', 'num_root', 'num_file_creations', 'num_shells', 'num_access_files', 'num_outbound_cmds', 'is_host_login', 'is_guest_login', 'count', 'srv_count', 'serror_rate', 'srv_serror_rate', 'rerror_rate', 'srv_rerror_rate', 'same_srv_rate', 'diff_srv_rate', 'srv_diff_host_rate', 'dst_host_count', 'dst_host_srv_count', 'dst_host_same_srv_rate', 'dst_host_diff_srv_rate', 'dst_host_same_src_port_rate', 'dst_host_srv_diff_host_rate', 'dst_host_serror_rate', 'dst_host_srv_serror_rate', 'dst_host_rerror_rate', 'dst_host_srv_rerror_rate', 'attack']\n"
     ]
    }
   ],
   "source": [
    "#Primero, vamos a ver las columnas que tiene\n",
    "cols=\"\"\"duration, protocol_type,\n",
    "service,\n",
    "flag,\n",
    "src_bytes,\n",
    "dst_bytes,\n",
    "land,\n",
    "wrong_fragment,\n",
    "urgent,\n",
    "hot,\n",
    "num_failed_logins,\n",
    "logged_in,\n",
    "num_compromised,\n",
    "root_shell,\n",
    "su_attempted,\n",
    "num_root,\n",
    "num_file_creations,\n",
    "num_shells,\n",
    "num_access_files,\n",
    "num_outbound_cmds,\n",
    "is_host_login,\n",
    "is_guest_login,\n",
    "count,\n",
    "srv_count,\n",
    "serror_rate,\n",
    "srv_serror_rate,\n",
    "rerror_rate,\n",
    "srv_rerror_rate,\n",
    "same_srv_rate,\n",
    "diff_srv_rate,\n",
    "srv_diff_host_rate,\n",
    "dst_host_count,\n",
    "dst_host_srv_count,\n",
    "dst_host_same_srv_rate,\n",
    "dst_host_diff_srv_rate,\n",
    "dst_host_same_src_port_rate,\n",
    "dst_host_srv_diff_host_rate,\n",
    "dst_host_serror_rate,\n",
    "dst_host_srv_serror_rate,\n",
    "dst_host_rerror_rate,\n",
    "dst_host_srv_rerror_rate,\n",
    "attack\"\"\"\n",
    "\n",
    "#Ahora, pasemos esto a un arreglo para darle a nuestro dataframe\n",
    "cols = cols.replace(\"\\n\", \"\")\n",
    "cols = cols.split(\",\")\n",
    "print(cols)\n"
   ],
   "metadata": {
    "collapsed": false,
    "ExecuteTime": {
     "end_time": "2024-02-29T21:46:09.860721500Z",
     "start_time": "2024-02-29T21:46:09.842718900Z"
    }
   },
   "id": "50bb9bffcff7cf6f",
   "execution_count": 74
  },
  {
   "cell_type": "code",
   "outputs": [],
   "source": [
    "#Primero, vamos a cargar el dataset, dado que es un flat file, no necesitamos especificar el separador\n",
    "kddDf = pd.read_csv('DataSets/kddcup.data_10_percent',names=cols)\n"
   ],
   "metadata": {
    "collapsed": false,
    "ExecuteTime": {
     "end_time": "2024-02-29T21:46:10.846312900Z",
     "start_time": "2024-02-29T21:46:09.855721500Z"
    }
   },
   "id": "23ac57a79205e61d",
   "execution_count": 75
  },
  {
   "cell_type": "code",
   "outputs": [
    {
     "data": {
      "text/plain": "duration                       0\n protocol_type                 0\nservice                        0\nflag                           0\nsrc_bytes                      0\ndst_bytes                      0\nland                           0\nwrong_fragment                 0\nurgent                         0\nhot                            0\nnum_failed_logins              0\nlogged_in                      0\nnum_compromised                0\nroot_shell                     0\nsu_attempted                   0\nnum_root                       0\nnum_file_creations             0\nnum_shells                     0\nnum_access_files               0\nnum_outbound_cmds              0\nis_host_login                  0\nis_guest_login                 0\ncount                          0\nsrv_count                      0\nserror_rate                    0\nsrv_serror_rate                0\nrerror_rate                    0\nsrv_rerror_rate                0\nsame_srv_rate                  0\ndiff_srv_rate                  0\nsrv_diff_host_rate             0\ndst_host_count                 0\ndst_host_srv_count             0\ndst_host_same_srv_rate         0\ndst_host_diff_srv_rate         0\ndst_host_same_src_port_rate    0\ndst_host_srv_diff_host_rate    0\ndst_host_serror_rate           0\ndst_host_srv_serror_rate       0\ndst_host_rerror_rate           0\ndst_host_srv_rerror_rate       0\nattack                         0\ndtype: int64"
     },
     "execution_count": 76,
     "metadata": {},
     "output_type": "execute_result"
    }
   ],
   "source": [
    "kddDf.isnull().sum()"
   ],
   "metadata": {
    "collapsed": false,
    "ExecuteTime": {
     "end_time": "2024-02-29T21:46:10.925330900Z",
     "start_time": "2024-02-29T21:46:10.846312900Z"
    }
   },
   "id": "73bd547fd54904ef",
   "execution_count": 76
  },
  {
   "cell_type": "code",
   "outputs": [
    {
     "data": {
      "text/plain": "   duration  protocol_type service flag  src_bytes  dst_bytes  land  \\\n0         0            tcp    http   SF        181       5450     0   \n1         0            tcp    http   SF        239        486     0   \n2         0            tcp    http   SF        235       1337     0   \n3         0            tcp    http   SF        219       1337     0   \n4         0            tcp    http   SF        217       2032     0   \n\n   wrong_fragment  urgent  hot  ...  dst_host_srv_count  \\\n0               0       0    0  ...                   9   \n1               0       0    0  ...                  19   \n2               0       0    0  ...                  29   \n3               0       0    0  ...                  39   \n4               0       0    0  ...                  49   \n\n   dst_host_same_srv_rate  dst_host_diff_srv_rate  \\\n0                     1.0                     0.0   \n1                     1.0                     0.0   \n2                     1.0                     0.0   \n3                     1.0                     0.0   \n4                     1.0                     0.0   \n\n   dst_host_same_src_port_rate  dst_host_srv_diff_host_rate  \\\n0                         0.11                          0.0   \n1                         0.05                          0.0   \n2                         0.03                          0.0   \n3                         0.03                          0.0   \n4                         0.02                          0.0   \n\n   dst_host_serror_rate  dst_host_srv_serror_rate  dst_host_rerror_rate  \\\n0                   0.0                       0.0                   0.0   \n1                   0.0                       0.0                   0.0   \n2                   0.0                       0.0                   0.0   \n3                   0.0                       0.0                   0.0   \n4                   0.0                       0.0                   0.0   \n\n   dst_host_srv_rerror_rate   attack  \n0                       0.0  normal.  \n1                       0.0  normal.  \n2                       0.0  normal.  \n3                       0.0  normal.  \n4                       0.0  normal.  \n\n[5 rows x 42 columns]",
      "text/html": "<div>\n<style scoped>\n    .dataframe tbody tr th:only-of-type {\n        vertical-align: middle;\n    }\n\n    .dataframe tbody tr th {\n        vertical-align: top;\n    }\n\n    .dataframe thead th {\n        text-align: right;\n    }\n</style>\n<table border=\"1\" class=\"dataframe\">\n  <thead>\n    <tr style=\"text-align: right;\">\n      <th></th>\n      <th>duration</th>\n      <th>protocol_type</th>\n      <th>service</th>\n      <th>flag</th>\n      <th>src_bytes</th>\n      <th>dst_bytes</th>\n      <th>land</th>\n      <th>wrong_fragment</th>\n      <th>urgent</th>\n      <th>hot</th>\n      <th>...</th>\n      <th>dst_host_srv_count</th>\n      <th>dst_host_same_srv_rate</th>\n      <th>dst_host_diff_srv_rate</th>\n      <th>dst_host_same_src_port_rate</th>\n      <th>dst_host_srv_diff_host_rate</th>\n      <th>dst_host_serror_rate</th>\n      <th>dst_host_srv_serror_rate</th>\n      <th>dst_host_rerror_rate</th>\n      <th>dst_host_srv_rerror_rate</th>\n      <th>attack</th>\n    </tr>\n  </thead>\n  <tbody>\n    <tr>\n      <th>0</th>\n      <td>0</td>\n      <td>tcp</td>\n      <td>http</td>\n      <td>SF</td>\n      <td>181</td>\n      <td>5450</td>\n      <td>0</td>\n      <td>0</td>\n      <td>0</td>\n      <td>0</td>\n      <td>...</td>\n      <td>9</td>\n      <td>1.0</td>\n      <td>0.0</td>\n      <td>0.11</td>\n      <td>0.0</td>\n      <td>0.0</td>\n      <td>0.0</td>\n      <td>0.0</td>\n      <td>0.0</td>\n      <td>normal.</td>\n    </tr>\n    <tr>\n      <th>1</th>\n      <td>0</td>\n      <td>tcp</td>\n      <td>http</td>\n      <td>SF</td>\n      <td>239</td>\n      <td>486</td>\n      <td>0</td>\n      <td>0</td>\n      <td>0</td>\n      <td>0</td>\n      <td>...</td>\n      <td>19</td>\n      <td>1.0</td>\n      <td>0.0</td>\n      <td>0.05</td>\n      <td>0.0</td>\n      <td>0.0</td>\n      <td>0.0</td>\n      <td>0.0</td>\n      <td>0.0</td>\n      <td>normal.</td>\n    </tr>\n    <tr>\n      <th>2</th>\n      <td>0</td>\n      <td>tcp</td>\n      <td>http</td>\n      <td>SF</td>\n      <td>235</td>\n      <td>1337</td>\n      <td>0</td>\n      <td>0</td>\n      <td>0</td>\n      <td>0</td>\n      <td>...</td>\n      <td>29</td>\n      <td>1.0</td>\n      <td>0.0</td>\n      <td>0.03</td>\n      <td>0.0</td>\n      <td>0.0</td>\n      <td>0.0</td>\n      <td>0.0</td>\n      <td>0.0</td>\n      <td>normal.</td>\n    </tr>\n    <tr>\n      <th>3</th>\n      <td>0</td>\n      <td>tcp</td>\n      <td>http</td>\n      <td>SF</td>\n      <td>219</td>\n      <td>1337</td>\n      <td>0</td>\n      <td>0</td>\n      <td>0</td>\n      <td>0</td>\n      <td>...</td>\n      <td>39</td>\n      <td>1.0</td>\n      <td>0.0</td>\n      <td>0.03</td>\n      <td>0.0</td>\n      <td>0.0</td>\n      <td>0.0</td>\n      <td>0.0</td>\n      <td>0.0</td>\n      <td>normal.</td>\n    </tr>\n    <tr>\n      <th>4</th>\n      <td>0</td>\n      <td>tcp</td>\n      <td>http</td>\n      <td>SF</td>\n      <td>217</td>\n      <td>2032</td>\n      <td>0</td>\n      <td>0</td>\n      <td>0</td>\n      <td>0</td>\n      <td>...</td>\n      <td>49</td>\n      <td>1.0</td>\n      <td>0.0</td>\n      <td>0.02</td>\n      <td>0.0</td>\n      <td>0.0</td>\n      <td>0.0</td>\n      <td>0.0</td>\n      <td>0.0</td>\n      <td>normal.</td>\n    </tr>\n  </tbody>\n</table>\n<p>5 rows × 42 columns</p>\n</div>"
     },
     "execution_count": 77,
     "metadata": {},
     "output_type": "execute_result"
    }
   ],
   "source": [
    "kddDf.head()"
   ],
   "metadata": {
    "collapsed": false,
    "ExecuteTime": {
     "end_time": "2024-02-29T21:46:10.940335Z",
     "start_time": "2024-02-29T21:46:10.925330900Z"
    }
   },
   "id": "d4d0d01ae44b4cc3",
   "execution_count": 77
  },
  {
   "cell_type": "code",
   "outputs": [
    {
     "data": {
      "text/plain": "   duration  protocol_type service flag  src_bytes  dst_bytes  land  \\\n0         0            tcp    http   SF        181       5450     0   \n1         0            tcp    http   SF        239        486     0   \n2         0            tcp    http   SF        235       1337     0   \n3         0            tcp    http   SF        219       1337     0   \n4         0            tcp    http   SF        217       2032     0   \n\n   wrong_fragment  urgent  hot  ...  dst_host_same_srv_rate  \\\n0               0       0    0  ...                     1.0   \n1               0       0    0  ...                     1.0   \n2               0       0    0  ...                     1.0   \n3               0       0    0  ...                     1.0   \n4               0       0    0  ...                     1.0   \n\n   dst_host_diff_srv_rate  dst_host_same_src_port_rate  \\\n0                     0.0                         0.11   \n1                     0.0                         0.05   \n2                     0.0                         0.03   \n3                     0.0                         0.03   \n4                     0.0                         0.02   \n\n   dst_host_srv_diff_host_rate  dst_host_serror_rate  \\\n0                          0.0                   0.0   \n1                          0.0                   0.0   \n2                          0.0                   0.0   \n3                          0.0                   0.0   \n4                          0.0                   0.0   \n\n   dst_host_srv_serror_rate  dst_host_rerror_rate  dst_host_srv_rerror_rate  \\\n0                       0.0                   0.0                       0.0   \n1                       0.0                   0.0                       0.0   \n2                       0.0                   0.0                       0.0   \n3                       0.0                   0.0                       0.0   \n4                       0.0                   0.0                       0.0   \n\n    attack  Attack Type  \n0  normal.       normal  \n1  normal.       normal  \n2  normal.       normal  \n3  normal.       normal  \n4  normal.       normal  \n\n[5 rows x 43 columns]",
      "text/html": "<div>\n<style scoped>\n    .dataframe tbody tr th:only-of-type {\n        vertical-align: middle;\n    }\n\n    .dataframe tbody tr th {\n        vertical-align: top;\n    }\n\n    .dataframe thead th {\n        text-align: right;\n    }\n</style>\n<table border=\"1\" class=\"dataframe\">\n  <thead>\n    <tr style=\"text-align: right;\">\n      <th></th>\n      <th>duration</th>\n      <th>protocol_type</th>\n      <th>service</th>\n      <th>flag</th>\n      <th>src_bytes</th>\n      <th>dst_bytes</th>\n      <th>land</th>\n      <th>wrong_fragment</th>\n      <th>urgent</th>\n      <th>hot</th>\n      <th>...</th>\n      <th>dst_host_same_srv_rate</th>\n      <th>dst_host_diff_srv_rate</th>\n      <th>dst_host_same_src_port_rate</th>\n      <th>dst_host_srv_diff_host_rate</th>\n      <th>dst_host_serror_rate</th>\n      <th>dst_host_srv_serror_rate</th>\n      <th>dst_host_rerror_rate</th>\n      <th>dst_host_srv_rerror_rate</th>\n      <th>attack</th>\n      <th>Attack Type</th>\n    </tr>\n  </thead>\n  <tbody>\n    <tr>\n      <th>0</th>\n      <td>0</td>\n      <td>tcp</td>\n      <td>http</td>\n      <td>SF</td>\n      <td>181</td>\n      <td>5450</td>\n      <td>0</td>\n      <td>0</td>\n      <td>0</td>\n      <td>0</td>\n      <td>...</td>\n      <td>1.0</td>\n      <td>0.0</td>\n      <td>0.11</td>\n      <td>0.0</td>\n      <td>0.0</td>\n      <td>0.0</td>\n      <td>0.0</td>\n      <td>0.0</td>\n      <td>normal.</td>\n      <td>normal</td>\n    </tr>\n    <tr>\n      <th>1</th>\n      <td>0</td>\n      <td>tcp</td>\n      <td>http</td>\n      <td>SF</td>\n      <td>239</td>\n      <td>486</td>\n      <td>0</td>\n      <td>0</td>\n      <td>0</td>\n      <td>0</td>\n      <td>...</td>\n      <td>1.0</td>\n      <td>0.0</td>\n      <td>0.05</td>\n      <td>0.0</td>\n      <td>0.0</td>\n      <td>0.0</td>\n      <td>0.0</td>\n      <td>0.0</td>\n      <td>normal.</td>\n      <td>normal</td>\n    </tr>\n    <tr>\n      <th>2</th>\n      <td>0</td>\n      <td>tcp</td>\n      <td>http</td>\n      <td>SF</td>\n      <td>235</td>\n      <td>1337</td>\n      <td>0</td>\n      <td>0</td>\n      <td>0</td>\n      <td>0</td>\n      <td>...</td>\n      <td>1.0</td>\n      <td>0.0</td>\n      <td>0.03</td>\n      <td>0.0</td>\n      <td>0.0</td>\n      <td>0.0</td>\n      <td>0.0</td>\n      <td>0.0</td>\n      <td>normal.</td>\n      <td>normal</td>\n    </tr>\n    <tr>\n      <th>3</th>\n      <td>0</td>\n      <td>tcp</td>\n      <td>http</td>\n      <td>SF</td>\n      <td>219</td>\n      <td>1337</td>\n      <td>0</td>\n      <td>0</td>\n      <td>0</td>\n      <td>0</td>\n      <td>...</td>\n      <td>1.0</td>\n      <td>0.0</td>\n      <td>0.03</td>\n      <td>0.0</td>\n      <td>0.0</td>\n      <td>0.0</td>\n      <td>0.0</td>\n      <td>0.0</td>\n      <td>normal.</td>\n      <td>normal</td>\n    </tr>\n    <tr>\n      <th>4</th>\n      <td>0</td>\n      <td>tcp</td>\n      <td>http</td>\n      <td>SF</td>\n      <td>217</td>\n      <td>2032</td>\n      <td>0</td>\n      <td>0</td>\n      <td>0</td>\n      <td>0</td>\n      <td>...</td>\n      <td>1.0</td>\n      <td>0.0</td>\n      <td>0.02</td>\n      <td>0.0</td>\n      <td>0.0</td>\n      <td>0.0</td>\n      <td>0.0</td>\n      <td>0.0</td>\n      <td>normal.</td>\n      <td>normal</td>\n    </tr>\n  </tbody>\n</table>\n<p>5 rows × 43 columns</p>\n</div>"
     },
     "execution_count": 78,
     "metadata": {},
     "output_type": "execute_result"
    }
   ],
   "source": [
    "#tenemos algo interesante, y es que attack tiene varios labels, con el archivo training_attack_types.txt podemos ver que hay 22 labels, pero solo 4 ataques, por lo que los vamos a agrupar por tipo de ataques\n",
    "\n",
    "tipos_de_ataques = {\n",
    "    'normal': 'normal',\n",
    "'back': 'dos',\n",
    "'buffer_overflow': 'u2r',\n",
    "'ftp_write': 'r2l',\n",
    "'guess_passwd': 'r2l',\n",
    "'imap': 'r2l',\n",
    "'ipsweep': 'probe',\n",
    "'land': 'dos',\n",
    "'loadmodule': 'u2r',\n",
    "'multihop': 'r2l',\n",
    "'neptune': 'dos',\n",
    "'nmap': 'probe',\n",
    "'perl': 'u2r',\n",
    "'phf': 'r2l',\n",
    "'pod': 'dos',\n",
    "'portsweep': 'probe',\n",
    "'rootkit': 'u2r',\n",
    "'satan': 'probe',\n",
    "'smurf': 'dos',\n",
    "'spy': 'r2l',\n",
    "'teardrop': 'dos',\n",
    "'warezclient': 'r2l',\n",
    "'warezmaster': 'r2l',\n",
    "}\n",
    "\n",
    "kddDf['Attack Type'] = kddDf.attack.apply(lambda r:tipos_de_ataques[r[:-1]])\n",
    "\n",
    "kddDf.head()"
   ],
   "metadata": {
    "collapsed": false,
    "ExecuteTime": {
     "end_time": "2024-02-29T21:46:11.098370100Z",
     "start_time": "2024-02-29T21:46:10.941334600Z"
    }
   },
   "id": "243ff2befeeb9bfb",
   "execution_count": 78
  },
  {
   "cell_type": "code",
   "outputs": [
    {
     "data": {
      "text/plain": "   duration  protocol_type service flag  src_bytes  dst_bytes  land  \\\n0         0            tcp    http   SF        181       5450     0   \n1         0            tcp    http   SF        239        486     0   \n2         0            tcp    http   SF        235       1337     0   \n3         0            tcp    http   SF        219       1337     0   \n4         0            tcp    http   SF        217       2032     0   \n\n   wrong_fragment  urgent  hot  ...  dst_host_diff_srv_rate  \\\n0               0       0    0  ...                     0.0   \n1               0       0    0  ...                     0.0   \n2               0       0    0  ...                     0.0   \n3               0       0    0  ...                     0.0   \n4               0       0    0  ...                     0.0   \n\n   dst_host_same_src_port_rate  dst_host_srv_diff_host_rate  \\\n0                         0.11                          0.0   \n1                         0.05                          0.0   \n2                         0.03                          0.0   \n3                         0.03                          0.0   \n4                         0.02                          0.0   \n\n   dst_host_serror_rate  dst_host_srv_serror_rate  dst_host_rerror_rate  \\\n0                   0.0                       0.0                   0.0   \n1                   0.0                       0.0                   0.0   \n2                   0.0                       0.0                   0.0   \n3                   0.0                       0.0                   0.0   \n4                   0.0                       0.0                   0.0   \n\n   dst_host_srv_rerror_rate   attack  Attack Type  Is attack  \n0                       0.0  normal.       normal          0  \n1                       0.0  normal.       normal          0  \n2                       0.0  normal.       normal          0  \n3                       0.0  normal.       normal          0  \n4                       0.0  normal.       normal          0  \n\n[5 rows x 44 columns]",
      "text/html": "<div>\n<style scoped>\n    .dataframe tbody tr th:only-of-type {\n        vertical-align: middle;\n    }\n\n    .dataframe tbody tr th {\n        vertical-align: top;\n    }\n\n    .dataframe thead th {\n        text-align: right;\n    }\n</style>\n<table border=\"1\" class=\"dataframe\">\n  <thead>\n    <tr style=\"text-align: right;\">\n      <th></th>\n      <th>duration</th>\n      <th>protocol_type</th>\n      <th>service</th>\n      <th>flag</th>\n      <th>src_bytes</th>\n      <th>dst_bytes</th>\n      <th>land</th>\n      <th>wrong_fragment</th>\n      <th>urgent</th>\n      <th>hot</th>\n      <th>...</th>\n      <th>dst_host_diff_srv_rate</th>\n      <th>dst_host_same_src_port_rate</th>\n      <th>dst_host_srv_diff_host_rate</th>\n      <th>dst_host_serror_rate</th>\n      <th>dst_host_srv_serror_rate</th>\n      <th>dst_host_rerror_rate</th>\n      <th>dst_host_srv_rerror_rate</th>\n      <th>attack</th>\n      <th>Attack Type</th>\n      <th>Is attack</th>\n    </tr>\n  </thead>\n  <tbody>\n    <tr>\n      <th>0</th>\n      <td>0</td>\n      <td>tcp</td>\n      <td>http</td>\n      <td>SF</td>\n      <td>181</td>\n      <td>5450</td>\n      <td>0</td>\n      <td>0</td>\n      <td>0</td>\n      <td>0</td>\n      <td>...</td>\n      <td>0.0</td>\n      <td>0.11</td>\n      <td>0.0</td>\n      <td>0.0</td>\n      <td>0.0</td>\n      <td>0.0</td>\n      <td>0.0</td>\n      <td>normal.</td>\n      <td>normal</td>\n      <td>0</td>\n    </tr>\n    <tr>\n      <th>1</th>\n      <td>0</td>\n      <td>tcp</td>\n      <td>http</td>\n      <td>SF</td>\n      <td>239</td>\n      <td>486</td>\n      <td>0</td>\n      <td>0</td>\n      <td>0</td>\n      <td>0</td>\n      <td>...</td>\n      <td>0.0</td>\n      <td>0.05</td>\n      <td>0.0</td>\n      <td>0.0</td>\n      <td>0.0</td>\n      <td>0.0</td>\n      <td>0.0</td>\n      <td>normal.</td>\n      <td>normal</td>\n      <td>0</td>\n    </tr>\n    <tr>\n      <th>2</th>\n      <td>0</td>\n      <td>tcp</td>\n      <td>http</td>\n      <td>SF</td>\n      <td>235</td>\n      <td>1337</td>\n      <td>0</td>\n      <td>0</td>\n      <td>0</td>\n      <td>0</td>\n      <td>...</td>\n      <td>0.0</td>\n      <td>0.03</td>\n      <td>0.0</td>\n      <td>0.0</td>\n      <td>0.0</td>\n      <td>0.0</td>\n      <td>0.0</td>\n      <td>normal.</td>\n      <td>normal</td>\n      <td>0</td>\n    </tr>\n    <tr>\n      <th>3</th>\n      <td>0</td>\n      <td>tcp</td>\n      <td>http</td>\n      <td>SF</td>\n      <td>219</td>\n      <td>1337</td>\n      <td>0</td>\n      <td>0</td>\n      <td>0</td>\n      <td>0</td>\n      <td>...</td>\n      <td>0.0</td>\n      <td>0.03</td>\n      <td>0.0</td>\n      <td>0.0</td>\n      <td>0.0</td>\n      <td>0.0</td>\n      <td>0.0</td>\n      <td>normal.</td>\n      <td>normal</td>\n      <td>0</td>\n    </tr>\n    <tr>\n      <th>4</th>\n      <td>0</td>\n      <td>tcp</td>\n      <td>http</td>\n      <td>SF</td>\n      <td>217</td>\n      <td>2032</td>\n      <td>0</td>\n      <td>0</td>\n      <td>0</td>\n      <td>0</td>\n      <td>...</td>\n      <td>0.0</td>\n      <td>0.02</td>\n      <td>0.0</td>\n      <td>0.0</td>\n      <td>0.0</td>\n      <td>0.0</td>\n      <td>0.0</td>\n      <td>normal.</td>\n      <td>normal</td>\n      <td>0</td>\n    </tr>\n  </tbody>\n</table>\n<p>5 rows × 44 columns</p>\n</div>"
     },
     "execution_count": 79,
     "metadata": {},
     "output_type": "execute_result"
    }
   ],
   "source": [
    "#Ahora, vamos a añadir una columna binaria para saber si es un ataque o no para el modelado\n",
    "kddDf['Is attack'] = kddDf['Attack Type'].map({'normal': 0, 'dos': 1, 'u2r': 1, 'r2l': 1, 'probe': 1})\n",
    "kddDf.head()"
   ],
   "metadata": {
    "collapsed": false,
    "ExecuteTime": {
     "end_time": "2024-02-29T21:46:11.191600400Z",
     "start_time": "2024-02-29T21:46:11.099371300Z"
    }
   },
   "id": "1a437e42dc791e2d",
   "execution_count": 79
  },
  {
   "cell_type": "markdown",
   "source": [
    "Por ahora, no vamos a modificar las variables categorical, dado que antes queremos hacer un análisis exploratorio"
   ],
   "metadata": {
    "collapsed": false
   },
   "id": "4fa0f1fb8b41231"
  },
  {
   "cell_type": "code",
   "outputs": [],
   "source": [
    "#Ahora, vamos a guardar este dataset\n",
    "kddDf.to_csv('DataSets/KDDCup99.csv',index=False)"
   ],
   "metadata": {
    "collapsed": false,
    "ExecuteTime": {
     "end_time": "2024-02-29T21:46:16.986420200Z",
     "start_time": "2024-02-29T21:46:11.128587300Z"
    }
   },
   "id": "c6171fa2c489f819",
   "execution_count": 80
  },
  {
   "cell_type": "markdown",
   "source": [],
   "metadata": {
    "collapsed": false
   },
   "id": "d27134a2cae785de"
  }
 ],
 "metadata": {
  "kernelspec": {
   "display_name": "Python 3",
   "language": "python",
   "name": "python3"
  },
  "language_info": {
   "codemirror_mode": {
    "name": "ipython",
    "version": 2
   },
   "file_extension": ".py",
   "mimetype": "text/x-python",
   "name": "python",
   "nbconvert_exporter": "python",
   "pygments_lexer": "ipython2",
   "version": "2.7.6"
  }
 },
 "nbformat": 4,
 "nbformat_minor": 5
}
